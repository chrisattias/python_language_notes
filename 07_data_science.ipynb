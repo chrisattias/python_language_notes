{
 "cells": [
  {
   "cell_type": "markdown",
   "id": "09cf052b-b571-40db-bcb8-fcfe34a16101",
   "metadata": {
    "tags": []
   },
   "source": [
    "# Data Science\n",
    "\n",
    "![](images/data_science.png)\n",
    "\n",
    "1. **Import**---get our data from a file, database, or website API\n",
    "1. **Wrangling**---tidy + transform data\n",
    "    1. **Tidy**---store data in consistent form that matches the intent of the data analysis.  Often this means each column is a variable of interest and each row is an observation.\n",
    "    1. **Transform**---narrow focus of data (remove data we don't care about), create new variables (like speed from distance and time), and calculate summary statistics\n",
    "1. **Visualization**---charts, plots, and graphs. A picture is worth 1000 words.\n",
    "1. **Models**---use mathematical functions to describe and predict relationship between variables of interest\n",
    "1. **Communication**---share original data, wrangled data, visualizations, and models with others"
   ]
  },
  {
   "cell_type": "markdown",
   "id": "5513ba8f-8f2f-4087-b513-d69beeaa50ad",
   "metadata": {},
   "source": [
    "---"
   ]
  },
  {
   "cell_type": "markdown",
   "id": "195b224e-a9af-473b-8f5e-2a41e5951f44",
   "metadata": {
    "tags": []
   },
   "source": [
    "# Pandas in a Nutshell\n",
    "- Pandas is a Python library for working with tabular data created in 2008\n",
    "- Pandas stands for both \"Panel Data\" and \"Python Data Analysis\"\n",
    "- Pandas tables are based upon NumPy arrays\n",
    "- Pandas is used for many aspects of data science.  Pandas can be used for import + export, data wrangling (tidy + transform), and visualization.\n",
    "- Pandas most closely resembles R's *dplyr* package as both are primarily used for data wrangling.  However, Pandas also shares functionality with other packages in R's tidyverse:\n",
    "    - Pandas shares data read and write functionality with R's readr package\n",
    "    - Pandas shares input and output chaining functionality with R's magrittr package\n",
    "    - Pandas shares table pivoting with R's tidyr package\n",
    "    - Pandas shares string functionality with R's stringr package\n",
    "    - Pandas shares data and time functionality with R's lubridate package\n",
    "    - Pandas shares factor functionality with R's forcats package\n",
    "    - Pandas shares table prettifying functionality with R's knitr package\n",
    "    - Pandas even shares (some) plotting capability with R's ggplot2 package\n",
    "- Because Pandas is the primary data science library in Python and Pandas is built on upon NumPy, we'll first cover NumPy and then move onto Pandas"
   ]
  },
  {
   "cell_type": "markdown",
   "id": "41bd68a3-1ebb-492c-ba0a-087d9b203356",
   "metadata": {},
   "source": [
    "---"
   ]
  },
  {
   "cell_type": "markdown",
   "id": "c8e6e36c-ca23-46db-af7f-dc6ee3a91b69",
   "metadata": {
    "tags": []
   },
   "source": [
    "# NumPy\n",
    "- **NumPy**--Python library containing a the \"array\" data structure and array functions\n",
    "- Pandas data structures are built upon NumPy arrays.  Many concepts fundamental to NumPy are directly applicable to pandas.\n",
    "- We will cover the following NumPy concepts:\n",
    "    - Arrays\n",
    "    - Data types\n",
    "    - Coercion\n",
    "    - Vectorization\n",
    "    - Broadcasting\n",
    "    - Universal Functions"
   ]
  },
  {
   "cell_type": "markdown",
   "id": "ef353b90-8f0e-497f-95e6-c44daf99da65",
   "metadata": {},
   "source": [
    "---"
   ]
  },
  {
   "cell_type": "markdown",
   "id": "1b2ba43c-179d-45f6-9ee7-e9ea917dfebf",
   "metadata": {
    "tags": []
   },
   "source": [
    "## Arrays\n",
    "- In C, an integer is a label for a position in memory whose bytes encode an integer value written in base 2\n",
    "- In Python, an integer contains:\n",
    "    1. `ob_refcnt`--reference count that helps Python silently handle memory allocation and deallocation\n",
    "    1. `ob_type`--encodes the type of the variable\n",
    "    1. `ob_size`--specifies the size of the following data members\n",
    "    1. `ob_digit`--contains the actual integer value that we expect the Python variable to represent\n",
    "- The image below shows a visual representation of this:\n",
    "\n",
    "![](images/numpy_data_structure.png)\n",
    "\n",
    "- **Array/ndarray**--stands for n dimensional array.  The main NumPy data structure. The \"nd\" stands for the number of dimensions.  It could be 0, 1, 2, or more dimensions.  0 dimensions would be a single item.  1 dimension would be like a \"flat\" list.  2 dimensions would be like a \"nested\" list and would form a 2D table.  3 dimensions would be like a Rubik's Cube of data.   Values in arrays are of all the same data type (**homogeneous**).\n",
    "- NumPy's array is similar to R's atomic vector and array data structures.\n",
    "- NumPy arrays are like a single pointer to a contiguous block of homogeneous values in the computer memory\n",
    "- Python lists contains heterogeneous items, which are themselves complete objects.  All this provides flexibility at the expense of computational speed.\n",
    "\n",
    "![](images/numpy_data_structure_2.png)"
   ]
  },
  {
   "cell_type": "markdown",
   "id": "83d16651-7cc0-4a89-bdd2-e2f44bd4533b",
   "metadata": {},
   "source": [
    "---"
   ]
  },
  {
   "cell_type": "markdown",
   "id": "af701ce6-bfc8-48e9-9564-12428bddc9ed",
   "metadata": {
    "tags": []
   },
   "source": [
    "## Array Data Types\n",
    "- NumPy ndarrays contain data of a single type.  The type could be:\n",
    "\n",
    "![](images/numpy_data_types.png)\n",
    "\n",
    "- Note there is no string data type"
   ]
  },
  {
   "cell_type": "markdown",
   "id": "6586f2cd-14ce-4dce-a4fb-6649c6f9e693",
   "metadata": {},
   "source": [
    "---"
   ]
  },
  {
   "cell_type": "markdown",
   "id": "20d27793-1dfc-45ab-a56c-fc00b4d2f837",
   "metadata": {
    "tags": []
   },
   "source": [
    "## Array Coercion\n",
    "- **Coercion**--conversion between data types\n",
    "    - **Implicit**--also called **upcasting**.  If multiple data types are accidentally used together in the same array, NumPy automatically converts all values into the most “flexible” type.  Implicit coercion is a common source of bugs.\n",
    "        - E.g. if NumPy array contains both integers and floats, the integer will be converted into a float to be stored\n",
    "    - **Explicit**--using **casting** functions to explicitly convert between data types\n",
    "        - E.g. use the `.astype(float)` method upon an array of integers to convert it into an array of floats"
   ]
  },
  {
   "cell_type": "markdown",
   "id": "c5a9c0e8-7a6e-45d6-bf26-cf55bdb5ff6b",
   "metadata": {},
   "source": [
    "---"
   ]
  },
  {
   "cell_type": "markdown",
   "id": "8e27f71e-2ae3-40d8-ab06-407d9c2b985c",
   "metadata": {
    "tags": []
   },
   "source": [
    "## Array Vectorization\n",
    "\n",
    "- **Scalar Value**--single value\n",
    "    - E.g. a Python float: `3.14`\n",
    "- **Collection**--object that contains other items.  Python lists, tuples, sets, dictionaries, and ranges are collections.  NumPy arrays are also collections.  Later we'll see Pandas series and data frames which are also collections.\n",
    "    - E.g. a Python list: `[1,2,3]`\n",
    "- In Python if we have a collection of items we can use a for loop to go through each item in the collection.  Once we are accessing the scalar value, we can perform an operation on it, use it in a function, etc.\n",
    "- E.g. the scalar operation on the Python list below would give us the values `[10,20,30]`.\n",
    "\n",
    "```python\n",
    "for i in [1, 2, 3]:\n",
    "    i * 10\n",
    "```\n",
    "\n",
    "- In NumPy (and Pandas) we typically do not use explicit for loops.  Instead, many functions and operations are \"vectorized\".\n",
    "- **Vector**--in other programming languages, like R, a vector is a list-like collection of other items\n",
    "- **Vectorized**--also called element-wise.  Vectorized functions and operations work on each element of the collection.\n",
    "- Even though neither NumPy nor Pandas call any of their data structures a \"vector\" this concept is still applicable\n",
    "- E.g. a vectorized operation on NumPy arrays would give us the same values as above, `[10,20,30]`.\n",
    "\n",
    "```python\n",
    "[1, 2, 3] * [10, 10, 10]\n",
    "```\n",
    "\n",
    "![](images/vectorization.png)"
   ]
  },
  {
   "cell_type": "markdown",
   "id": "4049a383-3658-4acc-ac99-8e18a54bda6b",
   "metadata": {},
   "source": [
    "---"
   ]
  },
  {
   "cell_type": "markdown",
   "id": "ea96348e-9d52-4351-b335-e28c6b4a2af9",
   "metadata": {},
   "source": [
    "## Array Broadcasting\n",
    "- Vectorized operations ordinarily require inputs to be the same size because operations are performed element-wise.  This requirement can be side-stepped with \"broadcasting\".\n",
    "- **Broadcasting**--called \"recycling\" in R.  When an operation is called, implicitly \"stretch\" shorter array so that it becomes the same size as the larger array.\n",
    "- Broadcasting is commonly used to stretch a scalar value to implicitly fill 1 or 2 dimensions\n",
    "- Broadcasting can also be used in more complex operations as seen below:\n",
    "\n",
    "![](images/numpy_broadcasting.png)"
   ]
  },
  {
   "cell_type": "markdown",
   "id": "cce9a304-39b7-425e-84ee-6856c6c2c2e5",
   "metadata": {},
   "source": [
    "---"
   ]
  },
  {
   "cell_type": "markdown",
   "id": "2986de2b-6e0c-4989-9d40-9fbbe2297b35",
   "metadata": {
    "tags": []
   },
   "source": [
    "## Array Universal Functions\n",
    "\n",
    "- **Universal Functions (UFuncs)**--highly efficient vectorized NumPy operations and functions that work on arrays\n",
    "\n",
    "- **Operators**--Binary operations also support the concept of broadcasting\n",
    "\n",
    "![](images/numpy_operators.png)\n",
    "\n",
    "- **Exponential Functions**\n",
    "    - `np.abs()`--absolute value\n",
    "    - `np.exp()`--base e (Euler's number) exponent\n",
    "    - `np.exp2()`--base 2 exponent\n",
    "    - `np.power()`--exponent with user specified base\n",
    "- **Logarithmic Functions**\n",
    "    - `np.log()`--base e logarithm\n",
    "    - `np.log2()`--base 2 logarithm\n",
    "    - `np.log10()`--base 10 logarithm\n",
    "\n",
    "- **Aggregating Functions**--input many values, output single value\n",
    " \n",
    "![](images/numpy_aggregate_functions.png)"
   ]
  },
  {
   "cell_type": "markdown",
   "id": "ff3dd24d-13ee-44e0-8220-9b2a007b106e",
   "metadata": {},
   "source": [
    "---"
   ]
  },
  {
   "cell_type": "markdown",
   "id": "622785bc-63f9-483e-ae92-3fa02be2da2a",
   "metadata": {},
   "source": [
    "## Array Examples\n",
    "\n",
    "Code | Use\n",
    "--- | ---\n",
    "`import numpy as np` | Conventionally imported as `np`\n",
    "`np.array()` | Create NumPy array object.  Input can be collections such as lists and tuples.\n",
    "`np.arange(#)` | Create a NumPy array object.  Similar to range function in Python. Note that it is spelled like \"A range\" and not \"arrange\". \n",
    "`np.ones()` | Create NumPy array object.  Input is tuple where the first integer is the length (number of items) in the horizontal (x) dimension and the second integer is the length of the vertical (y) dimension.  All values in the new array are float 1s.\n",
    "`A.ndim` | Array attribute returns numbers of dimensions\n",
    "`A.shape` | Array attribute returns tuple containing the length of x and y dimensions\n",
    "`A.size` | Array attribute returns total number of items in array\n",
    "`A.dtype` | Array attribute returns data type of array\n",
    "`A.astype()` | Return new array whose values have been explicitly coerced (converted) to specified data type.  There are many options for specifying this new data type.\n",
    "`A.<UFUNC>()` | Return new array derived from universal function"
   ]
  },
  {
   "cell_type": "markdown",
   "id": "339578a8-104d-4102-a76e-a677ac5c615c",
   "metadata": {},
   "source": [
    "---"
   ]
  },
  {
   "cell_type": "markdown",
   "id": "fc285d0a-c311-48e1-9fde-7cf78ac04395",
   "metadata": {},
   "source": [
    "**EXAMPLES**"
   ]
  },
  {
   "cell_type": "code",
   "execution_count": 1,
   "id": "41463c9a-daa6-4479-94c7-8815bbe91aca",
   "metadata": {},
   "outputs": [],
   "source": [
    "import numpy as np"
   ]
  },
  {
   "cell_type": "markdown",
   "id": "589f07dc-4ca0-495d-b5b1-4a1b84e941b9",
   "metadata": {},
   "source": [
    "**0D Array**"
   ]
  },
  {
   "cell_type": "code",
   "execution_count": 2,
   "id": "131b1146-0181-4c4b-8e06-bdad34c262a8",
   "metadata": {},
   "outputs": [
    {
     "name": "stdout",
     "output_type": "stream",
     "text": [
      "1\n"
     ]
    }
   ],
   "source": [
    "np_array= np.array(1)\n",
    "print(np_array)"
   ]
  },
  {
   "cell_type": "code",
   "execution_count": 3,
   "id": "f78da60f-eb80-4329-9cc4-acce57971cdc",
   "metadata": {},
   "outputs": [
    {
     "name": "stdout",
     "output_type": "stream",
     "text": [
      "<class 'numpy.ndarray'>\n",
      "0\n",
      "()\n",
      "1\n",
      "int32\n"
     ]
    }
   ],
   "source": [
    "print(type(np_array))\n",
    "print(np_array.ndim)\n",
    "print(np_array.shape)\n",
    "print(np_array.size)\n",
    "print(np_array.dtype)"
   ]
  },
  {
   "cell_type": "markdown",
   "id": "2ae4eac0-9b80-4407-83f2-e748b1b7497a",
   "metadata": {},
   "source": [
    "**1D Array**"
   ]
  },
  {
   "cell_type": "code",
   "execution_count": 4,
   "id": "78b8a2b0-b4a0-4db3-9fbe-546b054d6947",
   "metadata": {},
   "outputs": [
    {
     "name": "stdout",
     "output_type": "stream",
     "text": [
      "[1 2 3]\n"
     ]
    }
   ],
   "source": [
    "np_array = np.array([1,2,3])\n",
    "print(np_array)"
   ]
  },
  {
   "cell_type": "code",
   "execution_count": 5,
   "id": "f9152516-b1e3-4b5a-b97e-55d3bcfee457",
   "metadata": {},
   "outputs": [
    {
     "name": "stdout",
     "output_type": "stream",
     "text": [
      "<class 'numpy.ndarray'>\n",
      "1\n",
      "(3,)\n",
      "3\n",
      "int32\n"
     ]
    }
   ],
   "source": [
    "print(type(np_array))\n",
    "print(np_array.ndim)\n",
    "print(np_array.shape)\n",
    "print(np_array.size)\n",
    "print(np_array.dtype)"
   ]
  },
  {
   "cell_type": "markdown",
   "id": "312155f5-702d-4b37-ae82-78401d95cb36",
   "metadata": {},
   "source": [
    "**2D Array**"
   ]
  },
  {
   "cell_type": "code",
   "execution_count": 6,
   "id": "afbfa4c6-82c5-4994-8d47-b0ee868e13ba",
   "metadata": {},
   "outputs": [
    {
     "name": "stdout",
     "output_type": "stream",
     "text": [
      "[[1 2 3]\n",
      " [4 5 6]\n",
      " [7 8 9]]\n"
     ]
    }
   ],
   "source": [
    "np_array = np.array([(1,2,3),(4,5,6),(7,8,9)])\n",
    "print(np_array)"
   ]
  },
  {
   "cell_type": "code",
   "execution_count": 7,
   "id": "8a63d977-1f78-471b-b6a8-a68f3a8f85b7",
   "metadata": {},
   "outputs": [
    {
     "name": "stdout",
     "output_type": "stream",
     "text": [
      "<class 'numpy.ndarray'>\n",
      "2\n",
      "(3, 3)\n",
      "9\n",
      "int32\n"
     ]
    }
   ],
   "source": [
    "print(type(np_array))\n",
    "print(np_array.ndim)\n",
    "print(np_array.shape)\n",
    "print(np_array.size)\n",
    "print(np_array.dtype)"
   ]
  },
  {
   "cell_type": "markdown",
   "id": "9dffef71-8e78-4ece-a3fa-5c6d9a92a2e6",
   "metadata": {},
   "source": [
    "**`arange()`**"
   ]
  },
  {
   "cell_type": "code",
   "execution_count": 8,
   "id": "b31152e6-332f-44ae-9869-ec9d6d1a6c53",
   "metadata": {},
   "outputs": [
    {
     "name": "stdout",
     "output_type": "stream",
     "text": [
      "[0 1 2]\n"
     ]
    }
   ],
   "source": [
    "print(np.arange(3))"
   ]
  },
  {
   "cell_type": "markdown",
   "id": "e31811fa-b867-4499-97a8-827e7339abde",
   "metadata": {},
   "source": [
    "**`ones()`**"
   ]
  },
  {
   "cell_type": "code",
   "execution_count": 9,
   "id": "cd288226-29cd-468d-a21b-32ba73c50d61",
   "metadata": {},
   "outputs": [
    {
     "name": "stdout",
     "output_type": "stream",
     "text": [
      "[[1. 1. 1.]\n",
      " [1. 1. 1.]\n",
      " [1. 1. 1.]]\n"
     ]
    }
   ],
   "source": [
    "print(np.ones((3,3)))"
   ]
  },
  {
   "cell_type": "markdown",
   "id": "156c623a-bb00-4a50-bf48-33d3a3728456",
   "metadata": {},
   "source": [
    "**Implicit Coercion (Upcasting)**"
   ]
  },
  {
   "cell_type": "code",
   "execution_count": 10,
   "id": "02c2828e-1725-4bbc-9454-b750c062004b",
   "metadata": {},
   "outputs": [
    {
     "name": "stdout",
     "output_type": "stream",
     "text": [
      "int32\n",
      "<class 'numpy.int32'>\n",
      "<class 'numpy.int32'>\n"
     ]
    }
   ],
   "source": [
    "np_array = np.array([1,2])\n",
    "print(np_array.dtype)  # Integer as  expected\n",
    "print(type(np_array[0]))  # Integer as  expected\n",
    "print(type(np_array[1]))  # Integer as  expected"
   ]
  },
  {
   "cell_type": "code",
   "execution_count": 11,
   "id": "9d4a8067-26aa-47d7-84bc-a44cf3f4a4e6",
   "metadata": {},
   "outputs": [
    {
     "name": "stdout",
     "output_type": "stream",
     "text": [
      "float64\n",
      "<class 'numpy.float64'>\n",
      "<class 'numpy.float64'>\n"
     ]
    }
   ],
   "source": [
    "np_array = np.array([1.1,2])\n",
    "print(np_array.dtype)  # Implicitly coerced to float\n",
    "print(type(np_array[0]))  # Float as expected\n",
    "print(type(np_array[1]))  # Implicitly coerced to float"
   ]
  },
  {
   "cell_type": "markdown",
   "id": "3375fbe2-1bbd-41b2-8fad-af2a24e2c65b",
   "metadata": {},
   "source": [
    "**Explicit Coercion (Casting)**"
   ]
  },
  {
   "cell_type": "code",
   "execution_count": 12,
   "id": "2bda60fb-6b16-4e62-b59b-4faa5714eaa4",
   "metadata": {},
   "outputs": [
    {
     "name": "stdout",
     "output_type": "stream",
     "text": [
      "float64\n",
      "<class 'numpy.float64'>\n",
      "<class 'numpy.float64'>\n"
     ]
    }
   ],
   "source": [
    "np_array = np.array([1,2])\n",
    "np_array = np_array.astype(float)\n",
    "print(np_array.dtype)\n",
    "print(type(np_array[0]))\n",
    "print(type(np_array[1]))"
   ]
  },
  {
   "cell_type": "markdown",
   "id": "3d8e49b4-97e3-404f-9fab-c2921c362946",
   "metadata": {},
   "source": [
    "**Operation Vectorization**"
   ]
  },
  {
   "cell_type": "code",
   "execution_count": 13,
   "id": "c13ebde6-d718-4440-b093-6397b57afae3",
   "metadata": {},
   "outputs": [
    {
     "name": "stdout",
     "output_type": "stream",
     "text": [
      "[[1. 1. 1.]\n",
      " [1. 1. 1.]\n",
      " [1. 1. 1.]] \n",
      "\n",
      "[[1. 1. 1.]\n",
      " [1. 1. 1.]\n",
      " [1. 1. 1.]] \n",
      "\n",
      "[[2. 2. 2.]\n",
      " [2. 2. 2.]\n",
      " [2. 2. 2.]]\n"
     ]
    }
   ],
   "source": [
    "np_array_1 = np.ones((3,3))\n",
    "np_array_2 = np.ones((3,3))\n",
    "\n",
    "print(np_array_1, '\\n')\n",
    "print(np_array_2, '\\n')\n",
    "\n",
    "np_array_3 = np_array_1 + np_array_2\n",
    "print(np_array_3)"
   ]
  },
  {
   "cell_type": "markdown",
   "id": "4a068cc8-b418-4c79-8f71-83dc01945733",
   "metadata": {},
   "source": [
    "**Operation Broadcasting**"
   ]
  },
  {
   "cell_type": "code",
   "execution_count": 14,
   "id": "24ec3650-197a-4a35-bf2b-c303b468daa0",
   "metadata": {},
   "outputs": [
    {
     "name": "stdout",
     "output_type": "stream",
     "text": [
      "[[1. 1. 1.]\n",
      " [1. 1. 1.]\n",
      " [1. 1. 1.]] \n",
      "\n",
      "[[2. 2. 2.]\n",
      " [2. 2. 2.]\n",
      " [2. 2. 2.]]\n"
     ]
    }
   ],
   "source": [
    "np_array_1 = np.ones((3,3))\n",
    "print(np_array_1, '\\n')\n",
    "\n",
    "np_array_2 = np_array_1 + 1\n",
    "print(np_array_2)"
   ]
  },
  {
   "cell_type": "markdown",
   "id": "b5fe3001-6691-4b59-972b-30d67c93d1e2",
   "metadata": {},
   "source": [
    "**Function Vectorization**"
   ]
  },
  {
   "cell_type": "code",
   "execution_count": 15,
   "id": "6e84c94d-88be-42bf-8aa1-ea6f7a068897",
   "metadata": {},
   "outputs": [
    {
     "name": "stdout",
     "output_type": "stream",
     "text": [
      "[[2. 2. 2.]\n",
      " [2. 2. 2.]\n",
      " [2. 2. 2.]]\n"
     ]
    }
   ],
   "source": [
    "np_array = np.ones((3,3))\n",
    "print(np.exp2(np_array))  # Vectorized"
   ]
  },
  {
   "cell_type": "markdown",
   "id": "0399206c-5598-4696-94e2-2b5c5a5d2e2c",
   "metadata": {},
   "source": [
    "**Aggregating Function**"
   ]
  },
  {
   "cell_type": "code",
   "execution_count": 16,
   "id": "efbb094a-8883-480e-bb24-f47851a03e05",
   "metadata": {},
   "outputs": [
    {
     "name": "stdout",
     "output_type": "stream",
     "text": [
      "9.0\n"
     ]
    }
   ],
   "source": [
    "np_array = np.ones((3,3))\n",
    "print(np.sum(np_array))"
   ]
  },
  {
   "cell_type": "markdown",
   "id": "7f0c9bbc-9207-49f0-a1bf-c29544c25087",
   "metadata": {},
   "source": [
    "---"
   ]
  },
  {
   "cell_type": "markdown",
   "id": "e074e3c2-dda9-4a59-949f-6ccff3021ad9",
   "metadata": {},
   "source": [
    "## More to Explore\n",
    "- We have covered fundamental NumPy concepts:\n",
    "    - Arrays\n",
    "    - Data types\n",
    "    - Coercion\n",
    "    - Vectorization\n",
    "    - Broadcasting\n",
    "    - Universal Functions\n",
    "- These concepts are directly applicable to Pandas because Pandas objects are built upon NumPy arrays\n",
    "- There is more to learn about NumPy, but we will not dive deeper.  For most data analysis we will likely only use NumPy arrays indirectly through Pandas.\n",
    "- Additional topics to explore in NumPy include:\n",
    "    - Indexing and slicing\n",
    "    - Copies and views\n",
    "    - Reshaping\n",
    "    - Joins and splits\n",
    "    - Search\n",
    "    - Sort and filter\n",
    "    - Random numbers and distributions\n",
    "    - Additional arguments for universal functions"
   ]
  },
  {
   "cell_type": "markdown",
   "id": "de205f61-fa9d-4fbf-a049-5db1ee19daff",
   "metadata": {},
   "source": [
    "---"
   ]
  },
  {
   "cell_type": "markdown",
   "id": "b0557d0e-bcef-41db-a67a-e92d62c99866",
   "metadata": {
    "tags": []
   },
   "source": [
    "# Pandas Series\n",
    "- Pandas primarily uses two objects:\n",
    "    1. Series\n",
    "    1. Data frame\n",
    "- **Series**--\"one-dimensional labeled [NumPy] array capable of holding any data type (integers, strings, floating point numbers, Python objects, etc.).\"\n",
    "- Pandas series can stand on their own, but usually represent a column of values in a pandas data frame (a table)\n",
    "\n",
    "![](images/series.png) \n",
    "\n",
    "- The series itself is similar to an ordered dictionary because it can have both automatically generated integer indices and user specified indices (like keys).  When we need to differentiate between the two we'll call the automatically generated integer indices \"integer indices\" and the user specified indices \"labels\".  Series always have integer indices, but do not have to have labels.  Items in the series can be selected using integer indices (like Python lists) and with labels (like Python dictionaries with keys).\n",
    "- Pandas also uses index objects.  These index objects stores index information within a series or data frame.  We do not interact directly with these objects often.\n",
    "- Said again, pandas series are built upon NumPy arrays.  We'll organize our Pandas series sections in a similar way as the NumPy array sections to highlight this fact.\n",
    "- In this series section, we cover:\n",
    "    - Series creation\n",
    "    - Series data types\n",
    "    - Series coercion\n",
    "    - Series vectorization\n",
    "    - Series broadcasting\n",
    "    - Series universal functions\n",
    "    - Series subsetting\n",
    "- Afterwards, we'll jump into data frames"
   ]
  },
  {
   "cell_type": "markdown",
   "id": "748f7f15-1f7d-487e-b703-5c9a2a70d464",
   "metadata": {},
   "source": [
    "---"
   ]
  },
  {
   "cell_type": "markdown",
   "id": "f51f92b6-9775-4a7d-a102-7609c8abae54",
   "metadata": {},
   "source": [
    "## Series Creation\n",
    "\n",
    "Code | Use\n",
    "--- | ---\n",
    "`pandas` | Module.  Conventionally imported using `import pandas as pd`.\n",
    "`pd.Series(<DATA>, index = <LABELS>)` | Create series object.  Data input can be Python list, Python tuple, NumPy ndarray, or scalar (singular value like `15`). Optional argument `index = [<LABELS>]`.  Length of labels must match length of data (unless data is scalar).  Optional argument `name = <NAME>`.\n",
    "`pd.Series(<DICTIONARY>)` | Alternative way to create series object with labels by using dictionary key:value format.  Optional argument `index = [<LABELS>]` used to specify which values to include in series.\n",
    "`S.values` | Returns series values as NumPy array\n",
    "`S.unique()`  | Returns unique series values as NumPy array\n",
    "`S.index` | Returns series indices as index object\n",
    "`S.name` | Returns series name as string if name is supplied"
   ]
  },
  {
   "cell_type": "markdown",
   "id": "b6a6781f-12f7-4eca-b9af-21b75a2378ac",
   "metadata": {},
   "source": [
    "---"
   ]
  },
  {
   "cell_type": "markdown",
   "id": "4647ebb7-e8ec-4724-9f90-b997484dd704",
   "metadata": {},
   "source": [
    "**EXAMPLES**"
   ]
  },
  {
   "cell_type": "code",
   "execution_count": 17,
   "id": "3404d757-05cc-4ecc-9284-7f9a6462f314",
   "metadata": {},
   "outputs": [],
   "source": [
    "import pandas as pd"
   ]
  },
  {
   "cell_type": "markdown",
   "id": "2faf3a38-0242-4b5f-ac42-32de2ece084a",
   "metadata": {},
   "source": [
    "**`Series()`**"
   ]
  },
  {
   "cell_type": "code",
   "execution_count": 18,
   "id": "884dd298-f508-40ad-a6ab-1d76a8319e4a",
   "metadata": {},
   "outputs": [
    {
     "name": "stdout",
     "output_type": "stream",
     "text": [
      "<class 'pandas.core.series.Series'>\n",
      "0     First Value\n",
      "1    Second Value\n",
      "2     Third Value\n",
      "dtype: object\n"
     ]
    }
   ],
   "source": [
    "my_list = ['First Value', 'Second Value', 'Third Value']\n",
    "my_series = pd.Series(my_list)\n",
    "print(type(my_series))\n",
    "print(my_series)"
   ]
  },
  {
   "cell_type": "markdown",
   "id": "90ce21c5-4e43-4308-ad49-40d1cffda83e",
   "metadata": {},
   "source": [
    "**`index` Argument**"
   ]
  },
  {
   "cell_type": "code",
   "execution_count": 19,
   "id": "97e10c1e-09c9-4f47-812f-6204bd00ad3a",
   "metadata": {},
   "outputs": [
    {
     "name": "stdout",
     "output_type": "stream",
     "text": [
      "a     First Value\n",
      "b    Second Value\n",
      "c     Third Value\n",
      "dtype: object\n"
     ]
    }
   ],
   "source": [
    "my_list = ['First Value', 'Second Value', 'Third Value']\n",
    "my_labels = ['a', 'b', 'c']\n",
    "print(pd.Series(my_list, index = my_labels))"
   ]
  },
  {
   "cell_type": "markdown",
   "id": "b85c7169-a281-443c-8114-e473e4783ea2",
   "metadata": {},
   "source": [
    "**`Series(<DICTIONARY>)`**"
   ]
  },
  {
   "cell_type": "code",
   "execution_count": 20,
   "id": "b46675a2-add5-41c5-98a8-a6cc59367b3f",
   "metadata": {},
   "outputs": [
    {
     "name": "stdout",
     "output_type": "stream",
     "text": [
      "a     First Value\n",
      "b    Second Value\n",
      "c     Third Value\n",
      "dtype: object\n"
     ]
    }
   ],
   "source": [
    "my_dict = {'a':'First Value', 'b':'Second Value', 'c':'Third Value'}\n",
    "print(pd.Series(my_dict))"
   ]
  },
  {
   "cell_type": "code",
   "execution_count": 21,
   "id": "59fff4b7-efca-4195-9343-9e7d8ebf0a5d",
   "metadata": {},
   "outputs": [
    {
     "name": "stdout",
     "output_type": "stream",
     "text": [
      "a     First Value\n",
      "b    Second Value\n",
      "dtype: object\n"
     ]
    }
   ],
   "source": [
    "my_dict = {'a':'First Value', 'b':'Second Value', 'c':'Third Value'}\n",
    "print(pd.Series(my_dict, index = ['a', 'b']))  # Use optional index argument"
   ]
  },
  {
   "cell_type": "markdown",
   "id": "386c063e-302e-40f1-b301-60847cc1c406",
   "metadata": {},
   "source": [
    "**`.values`**"
   ]
  },
  {
   "cell_type": "code",
   "execution_count": 22,
   "id": "190a348e-5b0f-4a89-95d0-624832b9074d",
   "metadata": {},
   "outputs": [
    {
     "name": "stdout",
     "output_type": "stream",
     "text": [
      "<class 'numpy.ndarray'>\n",
      "['First Value' 'Second Value' 'Third Value']\n"
     ]
    }
   ],
   "source": [
    "my_dict = {'a':'First Value', 'b':'Second Value', 'c':'Third Value'}\n",
    "s = pd.Series(my_dict)\n",
    "print(type(s.values))\n",
    "print(s.values)"
   ]
  },
  {
   "cell_type": "markdown",
   "id": "92b60527-ff69-4bdb-b4ce-3b712edc4d0b",
   "metadata": {},
   "source": [
    "**`.unique()`**"
   ]
  },
  {
   "cell_type": "code",
   "execution_count": 23,
   "id": "bdce4403-b1de-446d-9b1a-93dbf8b94016",
   "metadata": {},
   "outputs": [
    {
     "name": "stdout",
     "output_type": "stream",
     "text": [
      "<class 'numpy.ndarray'>\n",
      "['First Value' 'Second Value' 'Third Value']\n"
     ]
    }
   ],
   "source": [
    "s = pd.Series(['First Value', 'Second Value', 'Third Value'])\n",
    "print(type(s.unique()))\n",
    "print(s.unique())"
   ]
  },
  {
   "cell_type": "markdown",
   "id": "712acb9b-810f-4817-af8a-eac5401061bd",
   "metadata": {},
   "source": [
    "**`.index`**"
   ]
  },
  {
   "cell_type": "code",
   "execution_count": 24,
   "id": "12b94ada-0995-4296-8382-3c3bd35b44d7",
   "metadata": {},
   "outputs": [
    {
     "name": "stdout",
     "output_type": "stream",
     "text": [
      "<class 'pandas.core.indexes.range.RangeIndex'>\n",
      "RangeIndex(start=0, stop=3, step=1)\n"
     ]
    }
   ],
   "source": [
    "my_list = ['First Value', 'Second Value', 'Third Value']  # No labels\n",
    "s = pd.Series(my_list)\n",
    "print(type(s.index))\n",
    "print(s.index)"
   ]
  },
  {
   "cell_type": "code",
   "execution_count": 25,
   "id": "9d2e7387-f082-4a4b-9cbe-130df3b2f54d",
   "metadata": {},
   "outputs": [
    {
     "name": "stdout",
     "output_type": "stream",
     "text": [
      "<class 'pandas.core.indexes.base.Index'>\n",
      "Index(['a', 'b', 'c'], dtype='object')\n"
     ]
    }
   ],
   "source": [
    "my_dict = {'a':'First Value', 'b':'Second Value', 'c':'Third Value'}  # Includes labels\n",
    "s = pd.Series(my_dict)\n",
    "print(type(s.index))\n",
    "print(s.index)"
   ]
  },
  {
   "cell_type": "markdown",
   "id": "5d723133-5c44-4ee4-b20c-f75712ec37fa",
   "metadata": {},
   "source": [
    "**`.name`**"
   ]
  },
  {
   "cell_type": "code",
   "execution_count": 26,
   "id": "0c791be2-6a24-4b75-94ec-b986080a6fbf",
   "metadata": {},
   "outputs": [
    {
     "name": "stdout",
     "output_type": "stream",
     "text": [
      "Example Name\n"
     ]
    }
   ],
   "source": [
    "s = pd.Series(['First Value', 'Second Value', 'Third Value'], name = 'Example Name')\n",
    "print(s.name)"
   ]
  },
  {
   "cell_type": "markdown",
   "id": "0b003070-00b5-4172-83de-cfe5c70b3b5d",
   "metadata": {},
   "source": [
    "---"
   ]
  },
  {
   "cell_type": "markdown",
   "id": "fbe8ec25-b681-40ea-b5f7-0bd503a032ab",
   "metadata": {},
   "source": [
    "## Series Data Types\n",
    "- Like NumPy arrays, a series can only contain a single data type\n",
    "- Pandas data types (also called **dtypes**) are built upon NumPy array data types.  The image below lists the default pandas data types and the equivalent Python and NumPy types:\n",
    " \n",
    "![](images/pandas_data_types_1.png)\n",
    "\n",
    "- **Object**--generic, flexible, catch all data type.  The object data type lacks class attributes and methods specific to other data types, are slow to process, and can not be used by most other Python libraries.  String use the object data type by default as NumPy does not have a string data type.\n",
    "- **Categories**--similar to R's factor data type that has nominal or ordinal \"levels\".  In Pandas these levels are called \"categories\".\n",
    "- The default date and time data type is not time zone aware\n",
    "- By default, data is defined as one of the data types listed above.  However, Pandas has added more data types:\n",
    "\n",
    "![](images/pandas_data_types_2.png)\n",
    "\n",
    "- Lastly, Pandas data frames and series may contain null values:\n",
    "    1. `NaN`--not a number.  Null value used when the series data type is numeric.\n",
    "    1. `None`--null value used when the series data type is non-numeric\n",
    "    \n",
    "Code | Use\n",
    "--- | ---\n",
    "`S.dtype` | Returns series data type"
   ]
  },
  {
   "cell_type": "markdown",
   "id": "b4d8a283-0cd5-47f6-8c3f-374da5866139",
   "metadata": {},
   "source": [
    "---"
   ]
  },
  {
   "cell_type": "markdown",
   "id": "a328845a-fb0f-4b74-ae6c-91c1bbcb35f0",
   "metadata": {},
   "source": [
    "**EXAMPLES**"
   ]
  },
  {
   "cell_type": "markdown",
   "id": "f792de84-1008-4e41-848b-66b4c9d3cea9",
   "metadata": {},
   "source": [
    "**`.dtype`**"
   ]
  },
  {
   "cell_type": "code",
   "execution_count": 27,
   "id": "fc63b193-b391-4489-b424-95d57c9ce6bb",
   "metadata": {},
   "outputs": [
    {
     "name": "stdout",
     "output_type": "stream",
     "text": [
      "int64\n"
     ]
    }
   ],
   "source": [
    "s = pd.Series([1, 2])\n",
    "print(s.dtype)"
   ]
  },
  {
   "cell_type": "code",
   "execution_count": 28,
   "id": "cd679430-333e-4dd6-abe0-e4f022f15d3f",
   "metadata": {},
   "outputs": [
    {
     "name": "stdout",
     "output_type": "stream",
     "text": [
      "float64\n"
     ]
    }
   ],
   "source": [
    "s = pd.Series([1.0, 2.0])\n",
    "print(s.dtype)"
   ]
  },
  {
   "cell_type": "code",
   "execution_count": 29,
   "id": "76200d11-c568-423b-8155-3fe424040cb5",
   "metadata": {},
   "outputs": [
    {
     "name": "stdout",
     "output_type": "stream",
     "text": [
      "bool\n"
     ]
    }
   ],
   "source": [
    "s = pd.Series([True, False])\n",
    "print(s.dtype)"
   ]
  },
  {
   "cell_type": "code",
   "execution_count": 30,
   "id": "78b5ad65-dcb8-412b-a457-630d491ceff8",
   "metadata": {},
   "outputs": [
    {
     "name": "stdout",
     "output_type": "stream",
     "text": [
      "object\n"
     ]
    }
   ],
   "source": [
    "s = pd.Series(['First Value', 'Second Value'])\n",
    "print(s.dtype)"
   ]
  },
  {
   "cell_type": "markdown",
   "id": "6b667aa6-fe5c-45de-a3e9-0c632ebb9eb8",
   "metadata": {},
   "source": [
    "---"
   ]
  },
  {
   "cell_type": "markdown",
   "id": "f79123df-69cb-488b-b216-5ec20cdf54c1",
   "metadata": {
    "tags": []
   },
   "source": [
    "## Series Coercion\n",
    "- Like NumPy arrays, series use implicit coercion (upcasting) and explicit coercion (casting)\n",
    "- Like NumPy arrays, if a series contains multiple data types (i.e. \"mixed\"), all the values are upcast into the most flexible data type.  In pandas, this is often the \"object\" data type.\n",
    "- Having multiple underlying data types in the same series restricts the analysis that can be done on that data and can lead to errors.  It is recommended to place data of different types into their own series.\n",
    "- It is common to explicitly coerce between certain data types\n",
    "     - E.g. strings are stored as \"objects\" by default and should be converted into StringDtype\n",
    "\n",
    "Code | Use\n",
    "--- | ---\n",
    "`S.astype()` | Returns new series cast to specified data type"
   ]
  },
  {
   "cell_type": "markdown",
   "id": "aac6ceb2-e41a-45cb-a7c6-7152b768870c",
   "metadata": {},
   "source": [
    "---"
   ]
  },
  {
   "cell_type": "markdown",
   "id": "354fa08e-ca2c-4218-9ecc-593c2c4fda0f",
   "metadata": {},
   "source": [
    "**EXAMPLES**"
   ]
  },
  {
   "cell_type": "markdown",
   "id": "e2766f58-d1bc-4466-92a2-35984fca79f5",
   "metadata": {},
   "source": [
    "**Implicit Coercion (Upcasting)**"
   ]
  },
  {
   "cell_type": "code",
   "execution_count": 31,
   "id": "7b738359-f57a-43de-8fd4-aa02be0f2d6e",
   "metadata": {},
   "outputs": [
    {
     "name": "stdout",
     "output_type": "stream",
     "text": [
      "float64\n"
     ]
    }
   ],
   "source": [
    "s = pd.Series([1.1, 2])  # Integer upcast into float\n",
    "print(s.dtype)"
   ]
  },
  {
   "cell_type": "code",
   "execution_count": 32,
   "id": "f4b5453c-78a9-448a-acb9-a4b78a99235b",
   "metadata": {},
   "outputs": [
    {
     "name": "stdout",
     "output_type": "stream",
     "text": [
      "object\n"
     ]
    }
   ],
   "source": [
    "# Mixed series often upcast into object\n",
    "s = pd.Series([1, 'Second Value', 3.0, [4,5], (6,7), True, None, {'key':'value'}])  \n",
    "print(s.dtype)"
   ]
  },
  {
   "cell_type": "markdown",
   "id": "910cd2f4-6d79-4085-a3a5-56515fa92b30",
   "metadata": {},
   "source": [
    "**Explicit Coercion (Casting)**"
   ]
  },
  {
   "cell_type": "code",
   "execution_count": 33,
   "id": "d62eb62e-301e-41e3-b9d2-f7b72a5dca22",
   "metadata": {},
   "outputs": [
    {
     "name": "stdout",
     "output_type": "stream",
     "text": [
      "int64\n",
      "float64\n"
     ]
    }
   ],
   "source": [
    "s = pd.Series([1, 2]) \n",
    "print(s.dtype)\n",
    "s = s.astype('float64')  # Use alias from data type table above\n",
    "print(s.dtype)"
   ]
  },
  {
   "cell_type": "code",
   "execution_count": 34,
   "id": "83a2df98-34af-4618-8a89-2a213273ab0d",
   "metadata": {},
   "outputs": [
    {
     "name": "stdout",
     "output_type": "stream",
     "text": [
      "object\n",
      "string\n"
     ]
    }
   ],
   "source": [
    "s = pd.Series(['First Value', 'Second Value'])\n",
    "print(s.dtype)\n",
    "s = s.astype('string')  # Using alias from data type table above\n",
    "print(s.dtype)"
   ]
  },
  {
   "cell_type": "markdown",
   "id": "2285c6d5-df88-4f6d-8b0e-dccff8b9971a",
   "metadata": {},
   "source": [
    "---"
   ]
  },
  {
   "cell_type": "markdown",
   "id": "a7b68a80-9c7a-4eb6-b4ba-84990f2b2a1c",
   "metadata": {
    "tags": []
   },
   "source": [
    "## Series Vectorization\n",
    "- Like NumPy arrays, series use vectorization"
   ]
  },
  {
   "cell_type": "markdown",
   "id": "c8cf83fe-331f-4e57-b9ed-65739a85c445",
   "metadata": {},
   "source": [
    "---"
   ]
  },
  {
   "cell_type": "markdown",
   "id": "5dd56945-43f3-4902-bc3d-9beb6e6d84f8",
   "metadata": {},
   "source": [
    "**EXAMPLES**"
   ]
  },
  {
   "cell_type": "markdown",
   "id": "3c5af900-c1ca-4345-b7e5-4fa010f6f816",
   "metadata": {},
   "source": [
    "**Vectorized Operation**"
   ]
  },
  {
   "cell_type": "code",
   "execution_count": 35,
   "id": "dda7ae99-2146-4bc9-8ffc-a25c8530eef4",
   "metadata": {},
   "outputs": [
    {
     "name": "stdout",
     "output_type": "stream",
     "text": [
      "a    2\n",
      "b    4\n",
      "c    6\n",
      "dtype: int64\n",
      "a    0\n",
      "b    0\n",
      "c    0\n",
      "dtype: int64\n",
      "a    1\n",
      "b    4\n",
      "c    9\n",
      "dtype: int64\n",
      "a    1.0\n",
      "b    1.0\n",
      "c    1.0\n",
      "dtype: float64\n",
      "a    1\n",
      "b    1\n",
      "c    1\n",
      "dtype: int64\n",
      "a    0\n",
      "b    0\n",
      "c    0\n",
      "dtype: int64\n"
     ]
    }
   ],
   "source": [
    "s = pd.Series({'a': 1, 'b': 2, 'c': 3})\n",
    "print(s + s)\n",
    "print(s - s)\n",
    "print(s * s)\n",
    "print(s / s)\n",
    "print(s // s)\n",
    "print(s % s)"
   ]
  },
  {
   "cell_type": "markdown",
   "id": "1addf45a-f2a2-4aec-b71b-6d48e0669cf5",
   "metadata": {},
   "source": [
    "**Vectorized Function**"
   ]
  },
  {
   "cell_type": "code",
   "execution_count": 36,
   "id": "e93fca77-7c31-4bd7-8c45-ca9172cd2bb0",
   "metadata": {},
   "outputs": [
    {
     "name": "stdout",
     "output_type": "stream",
     "text": [
      "a    2.0\n",
      "b    4.0\n",
      "c    8.0\n",
      "dtype: float64\n"
     ]
    }
   ],
   "source": [
    "import numpy as np\n",
    "s = pd.Series({'a': 1, 'b': 2, 'c': 3})\n",
    "print(np.exp2(s))"
   ]
  },
  {
   "cell_type": "markdown",
   "id": "2853cddb-e210-454b-9468-deb450b99f27",
   "metadata": {},
   "source": [
    "---"
   ]
  },
  {
   "cell_type": "markdown",
   "id": "95254c01-92a4-4a47-85c8-4245e5ff51b3",
   "metadata": {
    "tags": []
   },
   "source": [
    "## Series Broadcasting\n",
    "- Like NumPy arrays, series use broadcasting"
   ]
  },
  {
   "cell_type": "markdown",
   "id": "f30e97c6-18aa-4aeb-ab87-55fd2a7895fd",
   "metadata": {},
   "source": [
    "---"
   ]
  },
  {
   "cell_type": "markdown",
   "id": "2a6bb18b-4371-45af-bf2d-0f800d87fefa",
   "metadata": {},
   "source": [
    "**EXAMPLES**"
   ]
  },
  {
   "cell_type": "markdown",
   "id": "22fb491c-28a9-4120-9e86-6be199faa0bb",
   "metadata": {},
   "source": [
    "**Broadcast Operation**"
   ]
  },
  {
   "cell_type": "code",
   "execution_count": 37,
   "id": "67e51e9a-d84b-44f4-aaec-72b4c0579094",
   "metadata": {
    "tags": []
   },
   "outputs": [
    {
     "name": "stdout",
     "output_type": "stream",
     "text": [
      "a    3\n",
      "b    4\n",
      "c    5\n",
      "dtype: int64\n",
      "a   -1\n",
      "b    0\n",
      "c    1\n",
      "dtype: int64\n",
      "a    2\n",
      "b    4\n",
      "c    6\n",
      "dtype: int64\n",
      "a    0.5\n",
      "b    1.0\n",
      "c    1.5\n",
      "dtype: float64\n",
      "a    0\n",
      "b    1\n",
      "c    1\n",
      "dtype: int64\n",
      "a    1\n",
      "b    0\n",
      "c    1\n",
      "dtype: int64\n"
     ]
    }
   ],
   "source": [
    "s = pd.Series({'a': 1, 'b': 2, 'c': 3})\n",
    "print(s + 2)\n",
    "print(s - 2)\n",
    "print(s * 2)\n",
    "print(s / 2)\n",
    "print(s // 2)\n",
    "print(s % 2)"
   ]
  },
  {
   "cell_type": "markdown",
   "id": "e44f51e5-ae2b-4350-8928-3a2b8caf2414",
   "metadata": {},
   "source": [
    "---"
   ]
  },
  {
   "cell_type": "markdown",
   "id": "c9994f27-012e-49e3-bb06-6b925d110ea8",
   "metadata": {
    "tags": []
   },
   "source": [
    "## Series Functions\n",
    "- Like NumPy arrays, series use NumPy universal functions\n",
    "- \"Pandas includes a couple useful twists, however: for unary operations like negation and trigonometric functions, these ufuncs will preserve index and column labels in the output, and for binary operations such as addition and multiplication, Pandas will automatically align indices when passing the objects to the ufunc. This means that keeping the context of data and combining data from different sources–both potentially error-prone tasks with raw NumPy arrays–become essentially foolproof ones with Pandas. We will additionally see that there are well-defined operations between one-dimensional Series structures and two-dimensional DataFrame structures.\"\n",
    "- There are also many series methods.  Common ones include:\n",
    "\n",
    "![](images/series_methods.png)\n",
    "- We'll explore many more functions and methods within the data frame section.  Some of these actually work on the series within the data frame, or alternatively, can be used on both data frames and series."
   ]
  },
  {
   "cell_type": "markdown",
   "id": "da1558e9-01f6-46f8-b5a8-8b0278ceb4d5",
   "metadata": {},
   "source": [
    "---"
   ]
  },
  {
   "cell_type": "markdown",
   "id": "293c6044-cf45-418a-9c7d-598c75e97b3c",
   "metadata": {},
   "source": [
    "**EXAMPLES**"
   ]
  },
  {
   "cell_type": "markdown",
   "id": "0a6dfaa4-3a78-4ebd-b067-9ff5ff134d2c",
   "metadata": {},
   "source": [
    "**Function**"
   ]
  },
  {
   "cell_type": "code",
   "execution_count": 38,
   "id": "00ba3f85-2536-47c4-a441-409a20694970",
   "metadata": {},
   "outputs": [
    {
     "name": "stdout",
     "output_type": "stream",
     "text": [
      "6\n"
     ]
    }
   ],
   "source": [
    "s = pd.Series({'a': 1, 'b': 2, 'c': 3})\n",
    "print(np.sum(s))"
   ]
  },
  {
   "cell_type": "code",
   "execution_count": 39,
   "id": "4a77543a-e76d-42e9-9521-0d0f1673d6df",
   "metadata": {},
   "outputs": [
    {
     "name": "stdout",
     "output_type": "stream",
     "text": [
      "a    2.0\n",
      "b    4.0\n",
      "c    8.0\n",
      "dtype: float64\n"
     ]
    }
   ],
   "source": [
    "s = pd.Series({'a': 1, 'b': 2, 'c': 3})\n",
    "print(np.exp2(s))"
   ]
  },
  {
   "cell_type": "markdown",
   "id": "3a5f22ab-257a-4562-992d-fda43fc1ad7c",
   "metadata": {},
   "source": [
    "**Method**"
   ]
  },
  {
   "cell_type": "code",
   "execution_count": 40,
   "id": "c37c0db7-5ace-4930-905e-0802e516314b",
   "metadata": {},
   "outputs": [
    {
     "name": "stdout",
     "output_type": "stream",
     "text": [
      "6\n"
     ]
    }
   ],
   "source": [
    "s = pd.Series({'a': 1, 'b': 2, 'c': 3})\n",
    "print(s.sum())"
   ]
  },
  {
   "cell_type": "code",
   "execution_count": 41,
   "id": "3de4f2ba-eae1-4d8a-92f1-326a89efdc7f",
   "metadata": {},
   "outputs": [
    {
     "name": "stdout",
     "output_type": "stream",
     "text": [
      "a    1\n",
      "b    2\n",
      "c    3\n",
      "dtype: int64\n"
     ]
    }
   ],
   "source": [
    "s = pd.Series({'a': 1, 'b': 2, 'c': 3})\n",
    "print(s.abs())"
   ]
  },
  {
   "cell_type": "markdown",
   "id": "d59d879d-6439-41a4-a753-53759d4397e2",
   "metadata": {},
   "source": [
    "---"
   ]
  },
  {
   "cell_type": "markdown",
   "id": "a002ca01-987c-4fc4-9cd0-ee4a85aea708",
   "metadata": {},
   "source": [
    "## Subset Series\n",
    "- **Subset**--access subset of items.  For series this entails returning a single item (value) or a smaller series.\n",
    "- Like NumPy arrays, series can be subset with integer indices\n",
    "- Unlike arrays, series may also have labels.  Series may be subset using integer indices or labels"
   ]
  },
  {
   "cell_type": "markdown",
   "id": "bcfe974b-df48-494e-9229-7c5b00e72963",
   "metadata": {},
   "source": [
    "---"
   ]
  },
  {
   "cell_type": "markdown",
   "id": "abc903c5-ac50-4d40-8bc0-36f6c3cee160",
   "metadata": {},
   "source": [
    "Code | Use\n",
    "--- | ---\n",
    "`S[<INDEX>]` | Returns item using specified integer index or label.  Negative integer indexing allowed.  Raises error if integer index or label not found.\n",
    "`S.get(<INDEX>)` | Returns item using specified integer index or label. Does NOT raise error if integer index or label not found.\n",
    "`S.[[<INDEX>, <INDEX>]]` | Returns new series using specified integer indices or labels.\n",
    "`S[<INDEX>:<INDEX>]` | Returns new series.   When slicing with integer indices, the first number is inclusive while the second number is exclusive (like in Python). When slicing with labels, both labels are inclusive.  Negative integer indexing allowed.  If slice is out of range, does NOT return error.\n",
    "`S.loc[]` | Covered under data frames section\n",
    "`S.iloc[]` | Covered under data frames section\n",
    "`S.at[]` | Covered under data frames section\n",
    "`S.iat[]` | Covered under data frames section"
   ]
  },
  {
   "cell_type": "markdown",
   "id": "a2d82d7e-b142-47cb-adb5-ecbad1d7b23a",
   "metadata": {},
   "source": [
    "---"
   ]
  },
  {
   "cell_type": "markdown",
   "id": "26e299bb-2ba0-4aeb-b322-239df6ac8cb7",
   "metadata": {},
   "source": [
    "**EXAMPLES**"
   ]
  },
  {
   "cell_type": "markdown",
   "id": "bed95e88-e280-41c6-9db9-972b0b90969c",
   "metadata": {},
   "source": [
    "**`[<INDEX>]`** "
   ]
  },
  {
   "cell_type": "code",
   "execution_count": 42,
   "id": "5745e059-92b2-4cba-9eca-756a00d5ebec",
   "metadata": {},
   "outputs": [
    {
     "name": "stdout",
     "output_type": "stream",
     "text": [
      "First Value\n",
      "First Value\n"
     ]
    }
   ],
   "source": [
    "my_dict = {'a':'First Value', 'b':'Second Value', 'c':'Third Value'}\n",
    "s = pd.Series(my_dict)\n",
    "print(s['a'])  # Returns item\n",
    "print(s[0])   # Returns item"
   ]
  },
  {
   "cell_type": "code",
   "execution_count": 43,
   "id": "71fc55df-94b5-49d2-a1f2-96052ff6ac2f",
   "metadata": {
    "tags": []
   },
   "outputs": [],
   "source": [
    "# print(s[3])  # If index out of range returns error\n",
    "# print(s['d'])  # If index out of range returns error"
   ]
  },
  {
   "cell_type": "markdown",
   "id": "a8ebe82c-4bfe-4ffe-8e87-75bb38edd321",
   "metadata": {},
   "source": [
    "**`.get(<INDEX>)`**"
   ]
  },
  {
   "cell_type": "code",
   "execution_count": 44,
   "id": "98eeb4cd-a4b0-4ac5-95ba-3a72ab4286b6",
   "metadata": {},
   "outputs": [
    {
     "name": "stdout",
     "output_type": "stream",
     "text": [
      "First Value\n",
      "First Value\n",
      "None\n",
      "None\n"
     ]
    }
   ],
   "source": [
    "my_dict = {'a':'First Value', 'b':'Second Value', 'c':'Third Value'}\n",
    "s = pd.Series(my_dict)\n",
    "print(s.get(0))  # Returns item\n",
    "print(s.get('a'))  # Returns item\n",
    "print(s.get(3))  # Index out of range.  Does not raise error.  Returns none.\n",
    "print(s.get('d'))  # Index out of range.  Does not raise error.  Returns none."
   ]
  },
  {
   "cell_type": "markdown",
   "id": "ddebc615-0687-4142-b96f-4c1e410af896",
   "metadata": {},
   "source": [
    "**`[[<INDEX>, <INDEX>]]`**"
   ]
  },
  {
   "cell_type": "code",
   "execution_count": 45,
   "id": "144385a6-f795-42dd-97d0-430fb4c1a5ae",
   "metadata": {
    "tags": []
   },
   "outputs": [
    {
     "name": "stdout",
     "output_type": "stream",
     "text": [
      "a    First Value\n",
      "c    Third Value\n",
      "dtype: object\n",
      "a    First Value\n",
      "c    Third Value\n",
      "dtype: object\n"
     ]
    }
   ],
   "source": [
    "my_dict = {'a':'First Value', 'b':'Second Value', 'c':'Third Value'}\n",
    "s = pd.Series(my_dict)\n",
    "print(s[[0, 2]])  # Returns new series.\n",
    "print(s[['a', 'c']])  # Returns new series."
   ]
  },
  {
   "cell_type": "markdown",
   "id": "2102cb1c-cb14-455d-a408-bc6d6e356757",
   "metadata": {},
   "source": [
    "**`[<INDEX>:<INDEX>]`**"
   ]
  },
  {
   "cell_type": "code",
   "execution_count": 46,
   "id": "2c9ca107-4f36-41f4-aa8b-1ae2f21d8361",
   "metadata": {
    "tags": []
   },
   "outputs": [
    {
     "name": "stdout",
     "output_type": "stream",
     "text": [
      "a     First Value\n",
      "b    Second Value\n",
      "dtype: object\n",
      "a     First Value\n",
      "b    Second Value\n",
      "dtype: object\n"
     ]
    }
   ],
   "source": [
    "my_dict = {'a':'First Value', 'b':'Second Value', 'c':'Third Value'}\n",
    "s = pd.Series(my_dict)\n",
    "print(s[0:2])  # Second integer index exclusive.  Returns new series.\n",
    "print(s['a':'b'])  # Both labels inclusive.  Returns new series."
   ]
  },
  {
   "cell_type": "code",
   "execution_count": 47,
   "id": "1d5b6438-a83a-44e1-8114-3f0a547a9bd5",
   "metadata": {
    "tags": []
   },
   "outputs": [
    {
     "name": "stdout",
     "output_type": "stream",
     "text": [
      "b    Second Value\n",
      "c     Third Value\n",
      "dtype: object\n",
      "b    Second Value\n",
      "c     Third Value\n",
      "dtype: object\n"
     ]
    }
   ],
   "source": [
    "print(s[1:])\n",
    "print(s['b':])"
   ]
  },
  {
   "cell_type": "code",
   "execution_count": 48,
   "id": "1bf3ad30-772b-468b-b885-355911e65c6f",
   "metadata": {
    "tags": []
   },
   "outputs": [
    {
     "name": "stdout",
     "output_type": "stream",
     "text": [
      "a    First Value\n",
      "dtype: object\n",
      "a    First Value\n",
      "dtype: object\n"
     ]
    }
   ],
   "source": [
    "print(s[:1])\n",
    "print(s[:'a'])"
   ]
  },
  {
   "cell_type": "code",
   "execution_count": 49,
   "id": "0342ebe4-494e-49cf-9be8-027fa15cb53e",
   "metadata": {
    "tags": []
   },
   "outputs": [
    {
     "name": "stdout",
     "output_type": "stream",
     "text": [
      "a     First Value\n",
      "b    Second Value\n",
      "c     Third Value\n",
      "dtype: object\n"
     ]
    }
   ],
   "source": [
    "print(s[:])"
   ]
  },
  {
   "cell_type": "code",
   "execution_count": 50,
   "id": "e5308767-8bd3-4cab-90be-3b4a52a73af2",
   "metadata": {
    "tags": []
   },
   "outputs": [
    {
     "name": "stdout",
     "output_type": "stream",
     "text": [
      "Series([], dtype: object)\n",
      "Series([], dtype: object)\n"
     ]
    }
   ],
   "source": [
    "print(s[3:5])  # No error if integer index is out of range in slice\n",
    "print(s['d':'f'])   # No error if label is out of range in slice"
   ]
  },
  {
   "cell_type": "markdown",
   "id": "bee87e49-3ad9-4dd4-83bf-a25f2d6e103b",
   "metadata": {},
   "source": [
    "**Negative Integer Indexing**"
   ]
  },
  {
   "cell_type": "code",
   "execution_count": 51,
   "id": "04e31638-7967-43cd-afc3-0c61efaac42d",
   "metadata": {
    "tags": []
   },
   "outputs": [
    {
     "name": "stdout",
     "output_type": "stream",
     "text": [
      "Third Value\n"
     ]
    }
   ],
   "source": [
    "print(s[-1])  "
   ]
  },
  {
   "cell_type": "code",
   "execution_count": 52,
   "id": "a32c5ae0-c1d5-4e30-9014-eb18ba06995b",
   "metadata": {
    "tags": []
   },
   "outputs": [
    {
     "name": "stdout",
     "output_type": "stream",
     "text": [
      "a     First Value\n",
      "b    Second Value\n",
      "dtype: object\n"
     ]
    }
   ],
   "source": [
    "print(s[-3:-1])"
   ]
  },
  {
   "cell_type": "code",
   "execution_count": 53,
   "id": "a2d6af92-cade-4a1c-883c-0f5332a50c94",
   "metadata": {
    "tags": []
   },
   "outputs": [
    {
     "name": "stdout",
     "output_type": "stream",
     "text": [
      "b    Second Value\n",
      "c     Third Value\n",
      "dtype: object\n"
     ]
    }
   ],
   "source": [
    "print(s[-2:])"
   ]
  },
  {
   "cell_type": "markdown",
   "id": "f6563c45-3e14-48a8-9956-5495a28d7e70",
   "metadata": {},
   "source": [
    "---"
   ]
  },
  {
   "cell_type": "markdown",
   "id": "60718e75-f52e-41a1-a863-6ccf9aa23b6c",
   "metadata": {},
   "source": [
    "# Pandas Data Frames\n",
    "\n",
    "**Data Frame**--\"two-dimensional labeled data structure with columns of potentially different types\".  I.e. a table-like object similar to a data frame in R or a table in SQL.  Data frames can be described as a \"dictionary of like-indexed series objects\".  The column names are the keys of this dictionary.  The columns (series) are like the paired values of this dictionary.  Both rows and columns in the data frame have automatically generated integer indices that start at 0.  Both rows and columns can also have user specified indices that can be numbers or strings.  When we need to differentiate between the two we'll call the automatically generated integer indices \"integer indices\" and the user specified indices \"labels\".  A column label is actually the column name (\"header\").  Rows and columns always have integer indices but do not have to have labels.  Rows, columns, and cells can be selected using integer indices (like Python lists) and with labels (like Python dictionaries with keys).\n",
    "\n",
    "![](images/data_frame.png)\n",
    "\n",
    "![](images/indices.png)\n",
    "\n",
    "- Note that both series and data frames are mutable objects. Some functions and operations modify the objects in place, others create new objects, and many allow us to pass an argument to determine behavior (`inplace=<BOOLEAN>`)."
   ]
  },
  {
   "cell_type": "markdown",
   "id": "3a65c556-e603-4f15-b8b4-23a996414aec",
   "metadata": {},
   "source": [
    "---"
   ]
  },
  {
   "cell_type": "markdown",
   "id": "f44ae7f0-ab6f-4ac6-9ac0-a093e81d1e7c",
   "metadata": {},
   "source": [
    "## Read and Write\n",
    "- Pandas supports reading and writing with many file formats:\n",
    "\n",
    "![](images/pandas_read_write.png)\n",
    "\n",
    "- Read and write functions contain many optional arguments that control function behavior.  These argument can be found in pandas documentation.  Arguments control behavior related to:\n",
    "    - Column data type\n",
    "    - Missing values\n",
    "    - Comments within data\n",
    "    - Delimiters, escape characters, and line endings (for CSV data)\n",
    "- Pandas chooses column data types after looking at the first few items.  We may want to explicitly state the column data type during import.\n",
    "- We may also want to convert the column to another data type after import.  This will be covered later on."
   ]
  },
  {
   "cell_type": "markdown",
   "id": "d34f337f-0e23-4aa3-9663-576c8b06ec64",
   "metadata": {},
   "source": [
    "---"
   ]
  },
  {
   "cell_type": "markdown",
   "id": "d4da0e40-8682-4689-bb19-6b292746b8ca",
   "metadata": {},
   "source": [
    "Code | Use\n",
    "--- | ---\n",
    "`pandas` | Module.  Commonly imported using `import pandas as pd`.\n",
    "`pd.read_csv(\"<FILENAME>.csv\")` | Create new data frame by reading in tabular data from .csv file.  Similar to the Python CSV module, this function also works with other delimiters like tabs.\n",
    "`pd.read_excel(\"<FILENAME>.xlsx\", sheetname=\"<SHEETNAME>\")` | Create new data frame by reading in tabular data from .xlsx file.  Specify sheet name.\n",
    "`pd.read_json(\"<FILENAME>.json\")` | Create new data frame by reading in JSON data from .json file.  Can also use data stored as JSON string.\n",
    "`pd.to_csv(\"<FILENAME>.csv\", index=False)` |  Write data frame to .csv file.  Index specifies whether or not to include the row indices in output.  Similar to the Python CSV module, this function also works with other delimiters like tabs.\n",
    "`pd.to_excel(\"<FILENAME>.xlsx\", sheetname=\"<SHEETNAME>\", index=False)` | Write data frame to by .xlsx file.  Index specifies whether or not to include the row indices in output.   Specify sheet name.\n",
    "`pd.to_json(\"<FILENAME>.json\")` | Write data frame to .json file"
   ]
  },
  {
   "cell_type": "markdown",
   "id": "17745997-d1bd-4e3e-b693-a81124d2beda",
   "metadata": {},
   "source": [
    "---"
   ]
  },
  {
   "cell_type": "markdown",
   "id": "0ee79399-8753-4c57-b13d-b653ed25c32c",
   "metadata": {},
   "source": [
    "**EXAMPLES**"
   ]
  },
  {
   "cell_type": "code",
   "execution_count": 54,
   "id": "da255e36-34bc-4bc7-aa5d-4ef747abe2fe",
   "metadata": {},
   "outputs": [],
   "source": [
    "import pandas as pd"
   ]
  },
  {
   "cell_type": "markdown",
   "id": "e884e26b-b1db-4c17-af2b-1d7f20ded213",
   "metadata": {},
   "source": [
    "**`read_csv()`**"
   ]
  },
  {
   "cell_type": "code",
   "execution_count": 55,
   "id": "f597a76b-ae5d-49ff-b3b8-4171781edc5f",
   "metadata": {},
   "outputs": [
    {
     "name": "stdout",
     "output_type": "stream",
     "text": [
      "<class 'pandas.core.frame.DataFrame'>\n",
      "     fruit   color\n",
      "0   Cherry     Red\n",
      "1  Pumpkin  Orange\n",
      "2   Banana  Yellow\n"
     ]
    }
   ],
   "source": [
    "my_data_frame = pd.read_csv('input/example_csv.csv')\n",
    "print(type(my_data_frame))\n",
    "print(my_data_frame)"
   ]
  },
  {
   "cell_type": "markdown",
   "id": "16113c3f-7f32-4505-be54-aec773bc78df",
   "metadata": {},
   "source": [
    "**`read_excel()`**"
   ]
  },
  {
   "cell_type": "code",
   "execution_count": 56,
   "id": "40446e85-6035-40dd-b97f-6b4be6df59ce",
   "metadata": {},
   "outputs": [
    {
     "name": "stdout",
     "output_type": "stream",
     "text": [
      "     fruit   color\n",
      "0   Cherry     Red\n",
      "1  Pumpkin  Orange\n",
      "2   Banana  Yellow\n"
     ]
    }
   ],
   "source": [
    "df = pd.read_excel('input/example_excel.xlsx', sheet_name=\"sheet_1\")\n",
    "print(df)"
   ]
  },
  {
   "cell_type": "markdown",
   "id": "08b8bd80-41c3-403d-b665-98171905fd53",
   "metadata": {},
   "source": [
    "**`read_json()`**"
   ]
  },
  {
   "cell_type": "code",
   "execution_count": 57,
   "id": "2a1165ba-ad3c-435e-b08b-a048c59656f5",
   "metadata": {},
   "outputs": [
    {
     "name": "stdout",
     "output_type": "stream",
     "text": [
      "     fruit   color\n",
      "0   Cherry     Red\n",
      "1  Pumpkin  Orange\n",
      "2   Banana  Yellow\n"
     ]
    }
   ],
   "source": [
    "import json\n",
    "my_dict = {\n",
    "    'fruit': ['Cherry', 'Pumpkin', 'Banana'],\n",
    "    'color': ['Red', 'Orange', 'Yellow']\n",
    "}\n",
    "my_json = json.dumps(my_dict)\n",
    "df = pd.read_json(my_json)\n",
    "print(df)"
   ]
  },
  {
   "cell_type": "code",
   "execution_count": 58,
   "id": "88e72dcd-1bb3-4f03-9534-ca6cd7247d00",
   "metadata": {},
   "outputs": [
    {
     "name": "stdout",
     "output_type": "stream",
     "text": [
      "     fruit   color\n",
      "0   Cherry     Red\n",
      "1  Pumpkin  Orange\n",
      "2   Banana  Yellow\n"
     ]
    }
   ],
   "source": [
    "df = pd.read_json(\"input/example_json.json\")\n",
    "print(df)"
   ]
  },
  {
   "cell_type": "markdown",
   "id": "36a8fc65-94a4-4cca-b8a1-784268d51da0",
   "metadata": {},
   "source": [
    "**`.to_csv()`, `.to_excel()`, `.to_json()`**"
   ]
  },
  {
   "cell_type": "code",
   "execution_count": 59,
   "id": "e5afda72-469d-4fdc-a94d-ee2d38863066",
   "metadata": {},
   "outputs": [],
   "source": [
    "my_dict = {\n",
    "    'fruit': ['Cherry', 'Pumpkin', 'Banana'],\n",
    "    'color': ['Red', 'Orange', 'Yellow']\n",
    "}\n",
    "df = pd.DataFrame(my_dict)\n",
    "df.to_csv(\"output/output_csv.csv\", index=False)\n",
    "df.to_excel(\"output/output_excel.xlsx\", sheet_name=\"sheet_1\", index=False)\n",
    "df.to_json(\"output/output_json.json\")"
   ]
  },
  {
   "cell_type": "markdown",
   "id": "bcfe65cf-158f-4bcc-a4f1-2d0920eb24a0",
   "metadata": {},
   "source": [
    "---"
   ]
  },
  {
   "cell_type": "markdown",
   "id": "3be2038f-2411-4525-a6b3-73bb12adff22",
   "metadata": {},
   "source": [
    "## Create Data Frame\n",
    "\n",
    "Code | Use\n",
    "--- | ---\n",
    "`pd.DataFrame(<DATA>)` | Create data frame object.  Inputed data is a dictionary.  Each dictionary key is a column name.  Each dictionary value is a sequence of cell values for that column.  These can be Python lists, Python tuples, Pandas series, and likely a NumPy ndarray.  Optional argument `index = [<INDICES>]` replaces integer row indices with specified names. Must be the same length as the number of rows.  Unlike series, specified row indices *replace* the automatically generated integer indices instead of adding new labels.  Optional argument `columns = [<COLUMNS>]` replaces columns names that come from dictionary keys.  Note that there are a handful of other input data types that can be used to create data frames such as tuples and NumPy arrays.\n",
    "`DF.copy()` | Explicitly copy and create new data frame object.  By default a Pandas \"deep copy\".   After reading Pandas documentation it appears a Pandas \"shallow copy\" = Python alias (new reference to same object) and Pandas \"deep copy\" = Python shallow copy.  Many methods already create a Pandas \"deep copy\" instead of modifying the original data frame in place so the copy method is rarely used.  As there does not appear to be an equivalent to the Python deep copy, it would be best to avoid having nested data in a data frame.\n",
    "`DF.to_string()` | Returns string of entire data frame.  Normally, when we print the data frame it only prints the first 5 rows and last 5 rows.  We can print the entire string data frame by first turning it into a string."
   ]
  },
  {
   "cell_type": "markdown",
   "id": "9e10c65d-c4fb-4529-9e75-9d9331c494a3",
   "metadata": {},
   "source": [
    "---"
   ]
  },
  {
   "cell_type": "markdown",
   "id": "1df112a5-7630-41c6-8eb1-3b002287fbb0",
   "metadata": {},
   "source": [
    "**EXAMPLES**"
   ]
  },
  {
   "cell_type": "markdown",
   "id": "0f12f40c-68b0-4e07-9206-702cc247237b",
   "metadata": {
    "tags": []
   },
   "source": [
    "**`DataFrame()`**"
   ]
  },
  {
   "cell_type": "code",
   "execution_count": 60,
   "id": "5ff17be3-c41b-4f94-bca7-18c5e397bb49",
   "metadata": {},
   "outputs": [
    {
     "name": "stdout",
     "output_type": "stream",
     "text": [
      "<class 'pandas.core.frame.DataFrame'>\n",
      "     fruit   color\n",
      "0   Cherry     Red\n",
      "1  Pumpkin  Orange\n",
      "2   Banana  Yellow\n"
     ]
    }
   ],
   "source": [
    "my_dict = {\n",
    "    'fruit': ['Cherry', 'Pumpkin', 'Banana'],\n",
    "    'color': ['Red', 'Orange', 'Yellow']\n",
    "}\n",
    "my_data_frame = pd.DataFrame(my_dict)  # Input is dictionary with lists\n",
    "print(type(my_data_frame))\n",
    "print(my_data_frame)"
   ]
  },
  {
   "cell_type": "code",
   "execution_count": 61,
   "id": "9db9fa5e-aa26-45fa-b765-1b260fa1c90a",
   "metadata": {},
   "outputs": [
    {
     "name": "stdout",
     "output_type": "stream",
     "text": [
      "     fruit   color\n",
      "0   Cherry     Red\n",
      "1  Pumpkin  Orange\n",
      "2   Banana  Yellow\n"
     ]
    }
   ],
   "source": [
    "my_dict = {\n",
    "    'fruit': pd.Series(['Cherry', 'Pumpkin', 'Banana']),\n",
    "    'color': pd.Series(['Red', 'Orange', 'Yellow'])\n",
    "}\n",
    "df = pd.DataFrame(my_dict)  # Input is dictionary with series\n",
    "print(df)"
   ]
  },
  {
   "cell_type": "code",
   "execution_count": 62,
   "id": "70991e19-2d22-4948-8b8f-7a93cc1e36d3",
   "metadata": {},
   "outputs": [
    {
     "name": "stdout",
     "output_type": "stream",
     "text": [
      "     fruit   color\n",
      "0   Cherry  scalar\n",
      "1  Pumpkin  scalar\n",
      "2   Banana  scalar\n"
     ]
    }
   ],
   "source": [
    "my_dict = {\n",
    "    'fruit': ['Cherry', 'Pumpkin', 'Banana'],\n",
    "    'color': (\"scalar\")  # Scalar value\n",
    "}\n",
    "df = pd.DataFrame(my_dict)  # Input is dictionary with scalar value\n",
    "print(df)"
   ]
  },
  {
   "cell_type": "code",
   "execution_count": 63,
   "id": "5e232dde-bcbc-4113-9f67-57816f146a2f",
   "metadata": {},
   "outputs": [
    {
     "name": "stdout",
     "output_type": "stream",
     "text": [
      "       50             color\n",
      "0  Cherry         [4, 5, 6]\n",
      "1       2         (7, 8, 9)\n",
      "2     3.0  {'key': 'value'}\n"
     ]
    }
   ],
   "source": [
    "my_dict = {\n",
    "    50: ['Cherry', 2, 3.0],\n",
    "    'color': [[4,5,6], (7,8,9), {'key':'value'}]\n",
    "}\n",
    "df = pd.DataFrame(my_dict)  # Data frames columns can hold mulitple data types\n",
    "print(df)"
   ]
  },
  {
   "cell_type": "markdown",
   "id": "b39da88b-a413-463c-a83b-4c3a107f36ad",
   "metadata": {
    "tags": []
   },
   "source": [
    "**`index` Argument**"
   ]
  },
  {
   "cell_type": "code",
   "execution_count": 64,
   "id": "cb88d80f-5f9b-4dc0-bb36-2ca2d4ac0d5b",
   "metadata": {},
   "outputs": [
    {
     "name": "stdout",
     "output_type": "stream",
     "text": [
      "     fruit   color\n",
      "a   Cherry     Red\n",
      "b  Pumpkin  Orange\n",
      "c   Banana  Yellow\n"
     ]
    }
   ],
   "source": [
    "my_dict = {\n",
    "    'fruit': ['Cherry', 'Pumpkin', 'Banana'],\n",
    "    'color': ['Red', 'Orange', 'Yellow']\n",
    "}\n",
    "my_index = ['a', 'b', 'c']\n",
    "df = pd.DataFrame(my_dict, index = my_index)\n",
    "print(df)"
   ]
  },
  {
   "cell_type": "markdown",
   "id": "058eb2c8-e2c1-4009-ac4e-69908aa279ae",
   "metadata": {},
   "source": [
    "**`.to_string()`**"
   ]
  },
  {
   "cell_type": "code",
   "execution_count": 65,
   "id": "a508f844-3a3c-49c3-9fad-c3bcc38c21d9",
   "metadata": {},
   "outputs": [
    {
     "name": "stdout",
     "output_type": "stream",
     "text": [
      "<class 'str'>\n",
      "     fruit   color\n",
      "a   Cherry     Red\n",
      "b  Pumpkin  Orange\n",
      "c   Banana  Yellow\n"
     ]
    }
   ],
   "source": [
    "df_string = df.to_string()\n",
    "print(type(df_string))\n",
    "print(df_string)"
   ]
  },
  {
   "cell_type": "markdown",
   "id": "46659ae8-c4ce-4ada-ae0e-f8ffcf8859d6",
   "metadata": {},
   "source": [
    "---"
   ]
  },
  {
   "cell_type": "markdown",
   "id": "208079a8-bfda-479e-8076-9eeeeb4920f3",
   "metadata": {},
   "source": [
    "## Subset Columns\n",
    "\n",
    "Code | Use\n",
    "--- | ---\n",
    "`DF[\"<COLUMN>\"]` | Returns series object representing column\n",
    "`DF.<COLUMN>` | If column name is a valid Python variable name, we can access it like an object attribute using dot notation.  Not recommend as this has the potential to cause errors.  E.g. if we forget to account for spaces that may be in column name.\n",
    "`DF[[\"<COLUMN>\", \"<COLUMN>\"]]` | Returns new data frame object.  Can be used to change order of columns.\n",
    "`DF.filter('<REGEX>')` | Filter data frame columns or rows based based on their column or row names (labels), not contents of cells.  Argument `items=<LIST>` selects labels in a way similar to Python `in` keyword. Argument `regex=\"<REGEX>\"` selects labels using regular expression.  Argument `like=\"<PARTIAL_COLUMN_NAME>\"` similar to a poor man's regular expression that allows us to write partial column names.  Argument `axis=` controls if it filters columns or rows."
   ]
  },
  {
   "cell_type": "markdown",
   "id": "f062b1c3-38eb-4799-92b4-20bd7f09a4f6",
   "metadata": {},
   "source": [
    "---"
   ]
  },
  {
   "cell_type": "markdown",
   "id": "5bcfa94a-beb3-48f0-a81d-18745f3a37c2",
   "metadata": {},
   "source": [
    "**EXAMPLES**"
   ]
  },
  {
   "cell_type": "markdown",
   "id": "67eca03a-4425-474f-a969-20184c423273",
   "metadata": {},
   "source": [
    "**`[\"<COLUMN>\"]`**"
   ]
  },
  {
   "cell_type": "code",
   "execution_count": 66,
   "id": "2e6c377e-2b74-4368-b756-bfe3bbd667f6",
   "metadata": {},
   "outputs": [
    {
     "name": "stdout",
     "output_type": "stream",
     "text": [
      "     fruit   color\n",
      "a   Cherry     Red\n",
      "b  Pumpkin  Orange\n",
      "c   Banana  Yellow\n"
     ]
    }
   ],
   "source": [
    "# Create data frame to subset\n",
    "my_dict = {\n",
    "    'fruit': ['Cherry', 'Pumpkin', 'Banana'],\n",
    "    'color': ['Red', 'Orange', 'Yellow']\n",
    "}\n",
    "my_index = ['a', 'b', 'c']\n",
    "df = pd.DataFrame(my_dict, index = my_index)  \n",
    "print(df) # Use this data frame for examples"
   ]
  },
  {
   "cell_type": "code",
   "execution_count": 67,
   "id": "fe2f8637-bc30-48f0-be80-870fecadc9c9",
   "metadata": {},
   "outputs": [
    {
     "name": "stdout",
     "output_type": "stream",
     "text": [
      "<class 'pandas.core.series.Series'>\n",
      "a     Cherry\n",
      "b    Pumpkin\n",
      "c     Banana\n",
      "Name: fruit, dtype: object\n"
     ]
    }
   ],
   "source": [
    "my_series = df[\"fruit\"]  # Returns series\n",
    "print(type(my_series))  \n",
    "print(my_series)"
   ]
  },
  {
   "cell_type": "markdown",
   "id": "bdb7eae9-1896-4428-acd3-dcb25b976837",
   "metadata": {},
   "source": [
    "**`.<COLUMN>`**"
   ]
  },
  {
   "cell_type": "code",
   "execution_count": 68,
   "id": "5e68324a-3c42-4f8e-8b35-31e489d619e9",
   "metadata": {},
   "outputs": [
    {
     "name": "stdout",
     "output_type": "stream",
     "text": [
      "<class 'pandas.core.series.Series'>\n",
      "a     Cherry\n",
      "b    Pumpkin\n",
      "c     Banana\n",
      "Name: fruit, dtype: object\n"
     ]
    }
   ],
   "source": [
    "my_series = df.fruit  # Returns series\n",
    "print(type(my_series))  \n",
    "print(my_series)"
   ]
  },
  {
   "cell_type": "markdown",
   "id": "4c8c4685-d08c-486b-94fd-3d4e5ef36991",
   "metadata": {},
   "source": [
    "**`[[\"<COLUMN>\", \"<COLUMN>\"]]`**"
   ]
  },
  {
   "cell_type": "code",
   "execution_count": 69,
   "id": "712cc65b-a59c-4ed3-9328-2b0a5785901c",
   "metadata": {},
   "outputs": [
    {
     "name": "stdout",
     "output_type": "stream",
     "text": [
      "<class 'pandas.core.frame.DataFrame'>\n",
      "     fruit   color\n",
      "a   Cherry     Red\n",
      "b  Pumpkin  Orange\n",
      "c   Banana  Yellow\n"
     ]
    }
   ],
   "source": [
    "print(type(df[[\"fruit\", \"color\"]]))  # Returns data frame\n",
    "print(df[[\"fruit\", \"color\"]])"
   ]
  },
  {
   "cell_type": "code",
   "execution_count": 70,
   "id": "2373f658-b078-4777-a83f-bf3524aca1c8",
   "metadata": {},
   "outputs": [
    {
     "name": "stdout",
     "output_type": "stream",
     "text": [
      "    color    fruit\n",
      "a     Red   Cherry\n",
      "b  Orange  Pumpkin\n",
      "c  Yellow   Banana\n"
     ]
    }
   ],
   "source": [
    "new_df = df[[\"color\", \"fruit\"]]  # Change order of columns\n",
    "print(new_df)"
   ]
  },
  {
   "cell_type": "markdown",
   "id": "2a4a32bc-20a0-42fa-bf99-f8d8cdca25e7",
   "metadata": {},
   "source": [
    "**`filter()`**"
   ]
  },
  {
   "cell_type": "code",
   "execution_count": 71,
   "id": "5bd687a3-f2ec-42c3-bae1-4bfd024507d4",
   "metadata": {},
   "outputs": [
    {
     "name": "stdout",
     "output_type": "stream",
     "text": [
      "     fruit\n",
      "a   Cherry\n",
      "b  Pumpkin\n",
      "c   Banana\n"
     ]
    }
   ],
   "source": [
    "print(df.filter(items=['fruit', 'spam'], axis=None))"
   ]
  },
  {
   "cell_type": "code",
   "execution_count": 72,
   "id": "e8a4dbe1-fc0a-4f74-a13a-389294618220",
   "metadata": {},
   "outputs": [
    {
     "name": "stdout",
     "output_type": "stream",
     "text": [
      "     fruit\n",
      "a   Cherry\n",
      "b  Pumpkin\n",
      "c   Banana\n"
     ]
    }
   ],
   "source": [
    "print(df.filter(regex=\"fru.\", axis=None))  # . can be any character"
   ]
  },
  {
   "cell_type": "code",
   "execution_count": 73,
   "id": "efffd61f-79b4-480a-806b-f567dfd58e65",
   "metadata": {},
   "outputs": [
    {
     "name": "stdout",
     "output_type": "stream",
     "text": [
      "     fruit\n",
      "a   Cherry\n",
      "b  Pumpkin\n",
      "c   Banana\n"
     ]
    }
   ],
   "source": [
    "print(df.filter(like=\"fru\", axis=None)) "
   ]
  },
  {
   "cell_type": "markdown",
   "id": "501c3af2-f408-4906-b657-e1f04d0a804a",
   "metadata": {},
   "source": [
    "---"
   ]
  },
  {
   "cell_type": "markdown",
   "id": "29d21797-26bb-447f-a0c0-81783d8460ca",
   "metadata": {
    "tags": []
   },
   "source": [
    "## Subset Rows and Columns\n",
    "- In the series section we saw that a series can have both integer indices and labels.  We can use both integer indices and labels to subset a series.  This also applies to rows and columns of a data frame.\n",
    "- Frankly, this seems error prone...\n",
    "- Within code:\n",
    "    - `<INDEX>` specifies single row or column\n",
    "    - `[<INDEX>, <INDEX>, <INDEX>,...]` specifies multiple rows or columns\n",
    "    - `<INDEX>:<INDEX>` specifies range of rows or columns\n",
    "    - Write rows first, columns second, and separate these with a comma\n",
    "- Depending on which combinations of dimensions we select, we can access a single cell value, a single row (series object), a single column (series object), or a data frame object."
   ]
  },
  {
   "cell_type": "markdown",
   "id": "96b6b909-8aad-407a-b279-3bc7f82d73aa",
   "metadata": {},
   "source": [
    "---"
   ]
  },
  {
   "cell_type": "markdown",
   "id": "e53508bc-f216-4509-9eab-87921941b64e",
   "metadata": {},
   "source": [
    "Code | Use\n",
    "--- | ---\n",
    "`DF.loc[<ROW(S)>, <COLUMN(S)>]` | Short for locate.  Use labels. Raises error if we try to use integer indices instead of labels.  However, if labels not specified, allows us to use integer indices.  **If we `<INDEX>:<INDEX>` within `.loc[]`, both indices are inclusive!**\n",
    "`DF.iloc[<INTEGER_ROW(S)>, <INTEGER_COLUMN(S)>}` | Short for integer locate.  Use integer indices.  Will raise error if we try to use labels.  **If we `<INDEX>:<INDEX>` within `.iloc[]`, the first index is inclusive, but the second index is exclusive!**\n",
    "`DF.at[<ROW>, <COLUMN>]` |  Similar to `.loc`, but only allows access to single cell value\n",
    "`DF.iat[<INTEGER_ROW>, <INTEGER_COLUMN>]` | Similar to `.iloc`, but only allows access to single cell value\n",
    "`DF.[<ROW_INDEX>:<ROW_INDEX>]` | Returns new data frame with specified rows.  Caution!!! If we use integer indices the second index is exclusive.  If we use labels, the second index is inclusive.  The code is not at all clear (row or column?, integer index or label?), but Pandas included it because it is a common task and people wanted to type less."
   ]
  },
  {
   "cell_type": "markdown",
   "id": "e30c155c-a734-4b99-99bc-e30b36bbea91",
   "metadata": {},
   "source": [
    "---"
   ]
  },
  {
   "cell_type": "markdown",
   "id": "0f27a73e-be58-488e-a927-c8c256666206",
   "metadata": {},
   "source": [
    "**EXAMPLES**"
   ]
  },
  {
   "cell_type": "markdown",
   "id": "1e97a958-3fde-44de-8786-7a79c28e3b09",
   "metadata": {},
   "source": [
    "**`.loc[]`**"
   ]
  },
  {
   "cell_type": "code",
   "execution_count": 74,
   "id": "cc03781c-3f13-4a1a-b304-9bec56838c3f",
   "metadata": {},
   "outputs": [
    {
     "name": "stdout",
     "output_type": "stream",
     "text": [
      "     fruit   color\n",
      "a   Cherry     Red\n",
      "b  Pumpkin  Orange\n",
      "c   Banana  Yellow\n"
     ]
    }
   ],
   "source": [
    "my_dict = {\n",
    "    'fruit': ['Cherry', 'Pumpkin', 'Banana'],\n",
    "    'color': ['Red', 'Orange', 'Yellow']\n",
    "}\n",
    "my_index = ['a', 'b', 'c']\n",
    "df = pd.DataFrame(my_dict, index = my_index)\n",
    "print(df)  # Use this data frame for examples"
   ]
  },
  {
   "cell_type": "code",
   "execution_count": 75,
   "id": "a75980f5-8987-4d81-a3ba-9d3b4509dba4",
   "metadata": {},
   "outputs": [
    {
     "name": "stdout",
     "output_type": "stream",
     "text": [
      "Cherry\n"
     ]
    }
   ],
   "source": [
    " # Return cell value\n",
    "print(df.loc[ 'a' , 'fruit'])"
   ]
  },
  {
   "cell_type": "code",
   "execution_count": 76,
   "id": "bea6e4dc-c40e-4b25-9e39-b48282865861",
   "metadata": {},
   "outputs": [
    {
     "name": "stdout",
     "output_type": "stream",
     "text": [
      "fruit    Cherry\n",
      "color       Red\n",
      "Name: a, dtype: object\n"
     ]
    }
   ],
   "source": [
    " # Return row as series\n",
    "print(df.loc['a', : ])   # , : are optional in this case"
   ]
  },
  {
   "cell_type": "code",
   "execution_count": 77,
   "id": "6690f1bf-f0d5-4af1-9d30-436411629f0b",
   "metadata": {},
   "outputs": [
    {
     "name": "stdout",
     "output_type": "stream",
     "text": [
      "a     Cherry\n",
      "b    Pumpkin\n",
      "c     Banana\n",
      "Name: fruit, dtype: object\n"
     ]
    }
   ],
   "source": [
    " # Return column as series\n",
    "print(df.loc[ : , 'fruit'])"
   ]
  },
  {
   "cell_type": "code",
   "execution_count": 78,
   "id": "7c7a58eb-2aed-4d0c-a104-d27466f4205c",
   "metadata": {},
   "outputs": [
    {
     "name": "stdout",
     "output_type": "stream",
     "text": [
      "     fruit   color\n",
      "a   Cherry     Red\n",
      "b  Pumpkin  Orange\n"
     ]
    }
   ],
   "source": [
    " # Return data frame\n",
    "print(df.loc[ 'a':'b', 'fruit':'color'])"
   ]
  },
  {
   "cell_type": "code",
   "execution_count": 79,
   "id": "16ecd34b-bed0-42a0-8484-e714baffcdcd",
   "metadata": {},
   "outputs": [
    {
     "name": "stdout",
     "output_type": "stream",
     "text": [
      "    fruit   color\n",
      "a  Cherry     Red\n",
      "c  Banana  Yellow\n"
     ]
    }
   ],
   "source": [
    " # Return data frame\n",
    "print(df.loc[ ['a','c'], 'fruit':'color'])"
   ]
  },
  {
   "cell_type": "markdown",
   "id": "4d491ab7-812a-468f-96de-8c89b5ae8b28",
   "metadata": {},
   "source": [
    "**`.iloc[]`**"
   ]
  },
  {
   "cell_type": "code",
   "execution_count": 80,
   "id": "b2d5e4f9-41ec-4c90-bef6-b0a6f911976e",
   "metadata": {},
   "outputs": [
    {
     "name": "stdout",
     "output_type": "stream",
     "text": [
      "     fruit   color\n",
      "a   Cherry     Red\n",
      "b  Pumpkin  Orange\n"
     ]
    }
   ],
   "source": [
    "# Similar to loc[].  We'll provide one example that shows the greatest difference.\n",
    "# Return data frame.  Second index is excusive.\n",
    "print(df.iloc[0:2, 0:2])"
   ]
  },
  {
   "cell_type": "markdown",
   "id": "11e2860a-8a95-4571-a89d-afe3ae7e3429",
   "metadata": {},
   "source": [
    "**`.at[]`**"
   ]
  },
  {
   "cell_type": "code",
   "execution_count": 81,
   "id": "8ff57596-c28b-4963-929a-343e65cf2f87",
   "metadata": {},
   "outputs": [
    {
     "name": "stdout",
     "output_type": "stream",
     "text": [
      "Cherry\n"
     ]
    }
   ],
   "source": [
    "# Return cell value\n",
    "print(df.at['a', 'fruit'])"
   ]
  },
  {
   "cell_type": "markdown",
   "id": "51b4b0d8-0ed3-481c-9fcd-d47e67b22c17",
   "metadata": {},
   "source": [
    "**`.iat[]`**"
   ]
  },
  {
   "cell_type": "code",
   "execution_count": 82,
   "id": "b147126d-c5e2-4f6b-8a99-77da671edd23",
   "metadata": {},
   "outputs": [
    {
     "name": "stdout",
     "output_type": "stream",
     "text": [
      "Cherry\n"
     ]
    }
   ],
   "source": [
    "# Return cell value\n",
    "print(df.iat[0,0])"
   ]
  },
  {
   "cell_type": "markdown",
   "id": "4bae568c-cb3a-4288-b928-c4635e7482a2",
   "metadata": {},
   "source": [
    "**`[<ROW_INDEX>:<ROW_INDEX>]`**"
   ]
  },
  {
   "cell_type": "code",
   "execution_count": 83,
   "id": "cc646f15-b167-49b5-b548-a1690360994e",
   "metadata": {},
   "outputs": [
    {
     "name": "stdout",
     "output_type": "stream",
     "text": [
      "     fruit   color\n",
      "a   Cherry     Red\n",
      "b  Pumpkin  Orange\n",
      "     fruit   color\n",
      "a   Cherry     Red\n",
      "b  Pumpkin  Orange\n"
     ]
    }
   ],
   "source": [
    "print(df[0:2])  # Second bounds is exclusive\n",
    "print(df['a':'b'])  # Second bounds is inclusive"
   ]
  },
  {
   "cell_type": "markdown",
   "id": "c54f03e4-0b9c-4cfa-9817-7c258e0851ba",
   "metadata": {},
   "source": [
    "---"
   ]
  },
  {
   "cell_type": "markdown",
   "id": "332dbb3b-0ea6-4cbe-a4b6-0fb755d3882b",
   "metadata": {},
   "source": [
    "## Modify Cells\n",
    "\n",
    "Code | Use\n",
    "--- | ---\n",
    "`DF.(i)at[] = <VALUE>` | Modify original data frame in place and modify cell value.  Once we access a cell, we can modify its value.\n",
    "`DF.(i)loc[] = <VALUE>` |  Same as above\n",
    "`DF.replace()` | Replace specified values with specified values.  Access and replace based on values, not index position.  Main arguments are `to_replace=` and `value=`.  The data type passed varies and can be a collection (dictionary or list) or singular values (number, string, or regex).  By default, returns new data frame or series.  Optional argument `inplace = True` changes behavior to modify original data frame in place.\n",
    "`np.nan` | Create NumPy null value.  Can be used with `.replace()` to recode value as null."
   ]
  },
  {
   "cell_type": "markdown",
   "id": "cd9a667c-f7db-4e52-b668-3a496f5996dd",
   "metadata": {},
   "source": [
    "**EXAMPLES**"
   ]
  },
  {
   "cell_type": "markdown",
   "id": "3d0658de-780c-420e-9c97-bccb937bbee4",
   "metadata": {},
   "source": [
    "**Find and Replace with Index**"
   ]
  },
  {
   "cell_type": "code",
   "execution_count": 84,
   "id": "7417c4b3-2044-411b-93e6-6ac7901ec597",
   "metadata": {},
   "outputs": [
    {
     "name": "stdout",
     "output_type": "stream",
     "text": [
      "        fruit   color\n",
      "a  Snozzberry     Red\n",
      "b     Pumpkin  Orange\n",
      "c      Banana  Yellow\n"
     ]
    }
   ],
   "source": [
    "my_dict = {\n",
    "    'fruit': ['Cherry', 'Pumpkin', 'Banana'],\n",
    "    'color': ['Red', 'Orange', 'Yellow']\n",
    "}\n",
    "my_index = ['a', 'b', 'c']\n",
    "df = pd.DataFrame(my_dict, index = my_index)\n",
    "df.at['a', 'fruit'] = 'Snozzberry'\n",
    "print(df)"
   ]
  },
  {
   "cell_type": "markdown",
   "id": "95d8e42d-fac0-4cb9-afd4-c84ba6ecb404",
   "metadata": {},
   "source": [
    "**Find and Replace with Values**"
   ]
  },
  {
   "cell_type": "code",
   "execution_count": 85,
   "id": "0d658abe-b44e-4b2e-9949-845d5bd09c69",
   "metadata": {},
   "outputs": [
    {
     "name": "stdout",
     "output_type": "stream",
     "text": [
      "     fruit   color\n",
      "a   Cherry   Green\n",
      "b  Pumpkin    Blue\n",
      "c   Banana  Yellow\n"
     ]
    }
   ],
   "source": [
    "my_dict = {\n",
    "    'fruit': ['Cherry', 'Pumpkin', 'Banana'],\n",
    "    'color': ['Red', 'Orange', 'Yellow']\n",
    "}\n",
    "my_index = ['a', 'b', 'c']\n",
    "df = pd.DataFrame(my_dict, index = my_index)\n",
    "df[\"color\"].replace(to_replace= ['Red','Orange'], value=['Green','Blue'], inplace=True)\n",
    "print(df)"
   ]
  },
  {
   "cell_type": "code",
   "execution_count": 86,
   "id": "c6a55546-5e1f-42f3-94b1-5efbf31001d7",
   "metadata": {},
   "outputs": [
    {
     "name": "stdout",
     "output_type": "stream",
     "text": [
      "     fruit   color\n",
      "a   Cherry   Green\n",
      "b  Pumpkin    Blue\n",
      "c   Banana  Yellow\n"
     ]
    }
   ],
   "source": [
    "my_dict = {\n",
    "    'fruit': ['Cherry', 'Pumpkin', 'Banana'],\n",
    "    'color': ['Red', 'Orange', 'Yellow']\n",
    "}\n",
    "my_index = ['a', 'b', 'c']\n",
    "df = pd.DataFrame(my_dict, index = my_index)\n",
    "df[\"color\"].replace(to_replace={'Red':'Green', 'Orange':'Blue'}, inplace=True)\n",
    "print(df)"
   ]
  },
  {
   "cell_type": "code",
   "execution_count": 87,
   "id": "9ce0fa82-7fc5-4be4-b68f-9bfd73b98a8f",
   "metadata": {},
   "outputs": [
    {
     "name": "stdout",
     "output_type": "stream",
     "text": [
      "     fruit   color\n",
      "a   Cherry   Green\n",
      "b  Pumpkin    Blue\n",
      "c   Banana  Yellow\n"
     ]
    }
   ],
   "source": [
    "my_dict = {\n",
    "    'fruit': ['Cherry', 'Pumpkin', 'Banana'],\n",
    "    'color': ['Red', 'Orange', 'Yellow']\n",
    "}\n",
    "my_index = ['a', 'b', 'c']\n",
    "df = pd.DataFrame(my_dict, index = my_index)\n",
    "df.replace(to_replace={'color':{'Red':'Green', 'Orange':'Blue'}}, inplace=True)  # Nested dictionary\n",
    "print(df)"
   ]
  },
  {
   "cell_type": "markdown",
   "id": "8ff26fc9-44cf-4bca-a3dc-a3a76e7655ef",
   "metadata": {},
   "source": [
    "---"
   ]
  },
  {
   "cell_type": "markdown",
   "id": "7f2183f4-c6ff-40c9-a6f5-ded8e9548c6e",
   "metadata": {
    "tags": []
   },
   "source": [
    "## Modify and Create Rows\n",
    "\n",
    "Code | Use\n",
    "--- | ---\n",
    "`DF.(i)loc[] = [<ROW_DATA>]` |  Modify original data frame in place and modify row contents.  Once we access a row, we can modify its values.  New values should be same length as number of columns.  If we use a row index that does not exist it will create a new row.  However, this is not a clear way to create a row and the `.append()` method is preferred.\n",
    "`DF.append(<DICTIONARY>, ignore_index=True)` | Return new data frame and append new row.  New values should be same length as number of columns."
   ]
  },
  {
   "cell_type": "markdown",
   "id": "c4b95645-b329-448a-a3fb-35955e4867d4",
   "metadata": {},
   "source": [
    "---"
   ]
  },
  {
   "cell_type": "markdown",
   "id": "831dbc21-d2b0-4dd8-9b67-a6d39df68368",
   "metadata": {},
   "source": [
    "**EXAMPLES**"
   ]
  },
  {
   "cell_type": "markdown",
   "id": "39fa9dc3-12de-4497-9b66-3fccc7f1859f",
   "metadata": {},
   "source": [
    "**Modify Row**"
   ]
  },
  {
   "cell_type": "code",
   "execution_count": 88,
   "id": "df15f588-bd02-4cbc-a70c-3b194e38f767",
   "metadata": {
    "tags": []
   },
   "outputs": [
    {
     "name": "stdout",
     "output_type": "stream",
     "text": [
      "       fruit   color\n",
      "a    Avocado   Green\n",
      "b  Blueberry    Blue\n",
      "c     Banana  Yellow\n",
      "d       Plum  Purple\n"
     ]
    }
   ],
   "source": [
    "my_dict = {\n",
    "    'fruit': ['Cherry', 'Pumpkin', 'Banana'],\n",
    "    'color': ['Red', 'Orange', 'Yellow']\n",
    "}\n",
    "my_index = ['a', 'b', 'c']\n",
    "df = pd.DataFrame(my_dict, index = my_index)\n",
    "df.loc['a', :] = ['Avocado', 'Green']  # Modify row with .loc[]\n",
    "df.iloc[1, :] = ['Blueberry', 'Blue']  # Modify row with .iloc[]\n",
    "df.loc['d', :] = ['Plum', 'Purple']  # Create new row\n",
    "print(df)"
   ]
  },
  {
   "cell_type": "markdown",
   "id": "9cb166aa-5698-4ff6-8478-dce38d7bf083",
   "metadata": {},
   "source": [
    "**`.append()` New Row**"
   ]
  },
  {
   "cell_type": "code",
   "execution_count": 89,
   "id": "29403a26-8a66-4ec4-9544-e7d4418ef7b1",
   "metadata": {
    "tags": []
   },
   "outputs": [
    {
     "name": "stdout",
     "output_type": "stream",
     "text": [
      "     fruit   color\n",
      "0   Cherry     Red\n",
      "1  Pumpkin  Orange\n",
      "2   Banana  Yellow\n",
      "3     Plum  Purple\n"
     ]
    }
   ],
   "source": [
    "my_dict = {\n",
    "    'fruit': ['Cherry', 'Pumpkin', 'Banana'],\n",
    "    'color': ['Red', 'Orange', 'Yellow']\n",
    "}\n",
    "my_index = ['a', 'b', 'c']\n",
    "df = pd.DataFrame(my_dict, index = my_index)\n",
    "my_dict = {'fruit':'Plum', 'color':'Purple'}  \n",
    "new_df = df.append(my_dict, ignore_index=True)  # Use dictionary\n",
    "print(new_df)"
   ]
  },
  {
   "cell_type": "code",
   "execution_count": 90,
   "id": "cd06ab74-31de-4762-98a4-44220d3baa62",
   "metadata": {
    "tags": []
   },
   "outputs": [
    {
     "name": "stdout",
     "output_type": "stream",
     "text": [
      "     fruit   color\n",
      "0   Cherry     Red\n",
      "1  Pumpkin  Orange\n",
      "2   Banana  Yellow\n",
      "3     Plum  Purple\n"
     ]
    }
   ],
   "source": [
    "my_dict = {\n",
    "    'fruit': ['Cherry', 'Pumpkin', 'Banana'],\n",
    "    'color': ['Red', 'Orange', 'Yellow']\n",
    "}\n",
    "my_index = ['a', 'b', 'c']\n",
    "df = pd.DataFrame(my_dict, index = my_index)\n",
    "my_series = pd.Series({'fruit':'Plum', 'color':'Purple'})  # Series labels match column names\n",
    "new_df = df.append(my_series, ignore_index=True)  # Use series\n",
    "print(new_df)"
   ]
  },
  {
   "cell_type": "markdown",
   "id": "27f32fab-aed5-4c4f-b26c-7d1e5fe12333",
   "metadata": {},
   "source": [
    "---"
   ]
  },
  {
   "cell_type": "markdown",
   "id": "a973f3e9-b779-44ea-81bb-fc6dd9a483a7",
   "metadata": {},
   "source": [
    "## Modify and Create Columns\n",
    "\n",
    "Code | Use\n",
    "--- | ---\n",
    "`DF[\"<COLUMN>\"] = <VALUES>`  |  Modify original data frame in place and modify column.  Once we access a column, we can modify its values.  New values should be same length as number of rows.  If we use a column index that does not exist it will create a new column.  However, this is not a clear way to create a new column and the `.insert()` or `.assign()` methods are preferred.\n",
    "`DF.insert(<LOCATION>, \"<NAME>\", <VALUE>)` | Modifies original data frame in place and insert new column at specified location with specified name and specified values.  New values should be same length as number of rows.\n",
    "`DF.rename(columns={\"<OLD_NAME>\": \"<NEW_NAME>\"})` | Return new data frame with new column name(s).  Can include multiple key:value pairs to rename multiple columns at once."
   ]
  },
  {
   "cell_type": "markdown",
   "id": "fc4f8d68-eff1-4133-82bd-d7efa32e9569",
   "metadata": {},
   "source": [
    "---"
   ]
  },
  {
   "cell_type": "markdown",
   "id": "bfb8ca49-0235-411d-bf19-fba527b3fa73",
   "metadata": {},
   "source": [
    "**EXAMPLES**"
   ]
  },
  {
   "cell_type": "markdown",
   "id": "b6776d82-3665-4293-9287-289399138dd4",
   "metadata": {},
   "source": [
    "**Modify Column**"
   ]
  },
  {
   "cell_type": "code",
   "execution_count": 91,
   "id": "e3cf0629-6d39-42b1-bcd1-3a40a26eea81",
   "metadata": {},
   "outputs": [
    {
     "name": "stdout",
     "output_type": "stream",
     "text": [
      "   column_1  column_2  column_3\n",
      "a        10         4        13\n",
      "b        20         5        23\n",
      "c        30         6        33\n"
     ]
    }
   ],
   "source": [
    "my_dict = {\n",
    "    'column_1': [1,2,3],\n",
    "    'column_2': [4,5,6]\n",
    "}\n",
    "my_index = ['a', 'b', 'c']\n",
    "df = pd.DataFrame(my_dict, index = my_index)\n",
    "df[\"column_1\"] = df[\"column_1\"] * 10  # Modify column.  Vectorized operation.\n",
    "df[\"column_3\"] = df[\"column_1\"] + 3  # New column.  Vectorized operation.\n",
    "print(df)"
   ]
  },
  {
   "cell_type": "markdown",
   "id": "c8ce9f0b-733f-4b82-9540-6acfbfbe8419",
   "metadata": {},
   "source": [
    "**`.insert()` New Column**"
   ]
  },
  {
   "cell_type": "code",
   "execution_count": 92,
   "id": "b84a904f-57bd-4d4e-865e-2fdca4bfd7c0",
   "metadata": {},
   "outputs": [
    {
     "name": "stdout",
     "output_type": "stream",
     "text": [
      "   column_3  column_1  column_2\n",
      "a         7         1         4\n",
      "b         8         2         5\n",
      "c         9         3         6\n"
     ]
    }
   ],
   "source": [
    "my_dict = {\n",
    "    'column_1': [1,2,3],\n",
    "    'column_2': [4,5,6]\n",
    "}\n",
    "my_index = ['a', 'b', 'c']\n",
    "df = pd.DataFrame(my_dict, index = my_index)\n",
    "df.insert(0, \"column_3\", [7,8,9])  # New column at position 0.  List.\n",
    "print(df)"
   ]
  },
  {
   "cell_type": "code",
   "execution_count": 93,
   "id": "4e808221-e19f-4570-aa15-d1e5b79cdff4",
   "metadata": {},
   "outputs": [
    {
     "name": "stdout",
     "output_type": "stream",
     "text": [
      "  column_3  column_1  column_2\n",
      "a      Red         1         4\n",
      "b   Orange         2         5\n",
      "c   Yellow         3         6\n"
     ]
    }
   ],
   "source": [
    "my_dict = {\n",
    "    'column_1': [1,2,3],\n",
    "    'column_2': [4,5,6]\n",
    "}\n",
    "my_index = ['a', 'b', 'c']\n",
    "df = pd.DataFrame(my_dict, index = my_index)\n",
    "my_series = pd.Series({'a':'Red', 'b':'Orange', 'c':'Yellow'})  # Ensure series matching labels\n",
    "df.insert(0, \"column_3\", my_series)  # New column at position 0.  Series.\n",
    "print(df)"
   ]
  },
  {
   "cell_type": "code",
   "execution_count": 94,
   "id": "9ecd1b30-5337-4f9c-a8bc-9d173dd7dedc",
   "metadata": {},
   "outputs": [
    {
     "name": "stdout",
     "output_type": "stream",
     "text": [
      "   column_3  column_1  column_2\n",
      "a         5         1         4\n",
      "b        10         2         5\n",
      "c        15         3         6\n"
     ]
    }
   ],
   "source": [
    "my_dict = {\n",
    "    'column_1': [1,2,3],\n",
    "    'column_2': [4,5,6]\n",
    "}\n",
    "my_index = ['a', 'b', 'c']\n",
    "df = pd.DataFrame(my_dict, index = my_index)\n",
    "df.insert(0, \"column_3\", df[\"column_1\"] * 5)  # New column at position 0. Series.\n",
    "print(df)"
   ]
  },
  {
   "cell_type": "markdown",
   "id": "919f48ab-d11e-48e1-bc8b-6e1067217574",
   "metadata": {},
   "source": [
    "**`.rename()` Column(s)**"
   ]
  },
  {
   "cell_type": "code",
   "execution_count": 95,
   "id": "363d9e68-e6d5-4043-9177-38f5ce840b53",
   "metadata": {},
   "outputs": [
    {
     "name": "stdout",
     "output_type": "stream",
     "text": [
      "   new_column_1  new_column_2\n",
      "0             1             4\n",
      "1             2             5\n",
      "2             3             6\n"
     ]
    }
   ],
   "source": [
    "my_dict = {\n",
    "    'column_1': [1,2,3],\n",
    "    'column_2': [4,5,6]\n",
    "}\n",
    "df = pd.DataFrame(my_dict)\n",
    "new_df = df.rename(\n",
    "    columns ={\n",
    "        \"column_1\": \"new_column_1\",\n",
    "        \"column_2\": \"new_column_2\"\n",
    "    }\n",
    ")\n",
    "print(new_df)"
   ]
  },
  {
   "cell_type": "markdown",
   "id": "05a9d646-ba05-4f69-806d-bdfc4e4da1ee",
   "metadata": {},
   "source": [
    "---"
   ]
  },
  {
   "cell_type": "markdown",
   "id": "27c14118-31dd-441f-a984-1288818ab0a0",
   "metadata": {
    "tags": []
   },
   "source": [
    "## Method Chaining\n",
    "- Pandas supports chaining the inputs and outputs of methods together.  This is a functional programming paradigm style of coding borrowed from pipes in R's magrittr package."
   ]
  },
  {
   "cell_type": "markdown",
   "id": "488ec715-c307-473e-92eb-17e5db0e77f7",
   "metadata": {},
   "source": [
    "---"
   ]
  },
  {
   "cell_type": "markdown",
   "id": "dbb74d3f-ba48-4a9c-b2b1-676dfc0810de",
   "metadata": {},
   "source": [
    "Code | Use\n",
    "--- | ---\n",
    "`DF.assign()` | Create new column(s) with chaining.  Returns new data frame.  Similar to R's mutate with pipes.  Column values can be modified using lambda expressions with a clean but funky format.  Column values can also be modified with expressions that use the `DF[\"<COLUMN>\"]` format seen already."
   ]
  },
  {
   "cell_type": "markdown",
   "id": "99bbbf3c-795d-45ec-a34f-305a532351c8",
   "metadata": {},
   "source": [
    "---"
   ]
  },
  {
   "cell_type": "markdown",
   "id": "5d68e255-81e7-4197-abc6-09b01111fe10",
   "metadata": {},
   "source": [
    "**EXAMPLES**"
   ]
  },
  {
   "cell_type": "markdown",
   "id": "1eedce68-99f3-4fee-ad4b-b0bfafc46007",
   "metadata": {},
   "source": [
    "**Create New Column with `.assign()`**"
   ]
  },
  {
   "cell_type": "code",
   "execution_count": 96,
   "id": "92f00b59-cfbd-4963-af1e-ddf183f59f61",
   "metadata": {},
   "outputs": [
    {
     "name": "stdout",
     "output_type": "stream",
     "text": [
      "   distance_miles  time_hours\n",
      "0             100           2\n",
      "1             200           2\n",
      "2             300           2\n"
     ]
    }
   ],
   "source": [
    "my_dict = {\n",
    "    'distance_miles': [100, 200, 300],\n",
    "    'time_hours': [2, 2, 2]\n",
    "}\n",
    "df = pd.DataFrame(my_dict)\n",
    "print(df)  # Use this data frame for examples"
   ]
  },
  {
   "cell_type": "code",
   "execution_count": 97,
   "id": "f96508e8-6d23-4df1-9033-4d8e59f7b7ab",
   "metadata": {},
   "outputs": [
    {
     "name": "stdout",
     "output_type": "stream",
     "text": [
      "   distance_miles  time_hours  speed_mph\n",
      "0             100           2       50.0\n",
      "1             200           2      100.0\n",
      "2             300           2      150.0\n"
     ]
    }
   ],
   "source": [
    "new_df = df.assign(speed_mph = lambda x: x.distance_miles / x.time_hours)\n",
    "print(new_df)"
   ]
  },
  {
   "cell_type": "code",
   "execution_count": 98,
   "id": "77a96f03-36e3-4a53-ab4a-fe53d1d928e1",
   "metadata": {},
   "outputs": [
    {
     "name": "stdout",
     "output_type": "stream",
     "text": [
      "   distance_miles  time_hours  speed_mph\n",
      "0             100           2       50.0\n",
      "1             200           2      100.0\n",
      "2             300           2      150.0\n"
     ]
    }
   ],
   "source": [
    "new_df = df.assign(speed_mph = df[\"distance_miles\"] / df[\"time_hours\"])\n",
    "print(new_df)"
   ]
  },
  {
   "cell_type": "markdown",
   "id": "ec41487f-a824-499f-b3e6-b26b6b42542f",
   "metadata": {},
   "source": [
    "**Method Chaining with `.assign()`**"
   ]
  },
  {
   "cell_type": "code",
   "execution_count": 99,
   "id": "62809e15-27e2-421c-aae9-04304df95a5c",
   "metadata": {},
   "outputs": [
    {
     "name": "stdout",
     "output_type": "stream",
     "text": [
      "   distance_miles  time_hours  speed_mph  speed_kmph\n",
      "0             100           2       50.0       31.05\n",
      "1             200           2      100.0       62.10\n",
      "2             300           2      150.0       93.15\n"
     ]
    }
   ],
   "source": [
    "new_df = df.assign(\n",
    "    speed_mph = lambda x: x.distance_miles / x.time_hours,\n",
    "    speed_kmph = lambda x: x.speed_mph * 0.621\n",
    ")\n",
    "print(new_df)"
   ]
  },
  {
   "cell_type": "code",
   "execution_count": 100,
   "id": "6038ec77-f335-4bd5-94be-c7d344a5fd9f",
   "metadata": {},
   "outputs": [
    {
     "name": "stdout",
     "output_type": "stream",
     "text": [
      "   distance_miles  time_hours  speed_mph  speed_kmph\n",
      "0             100           2       50.0       31.05\n",
      "1             200           2      100.0       62.10\n",
      "2             300           2      150.0       93.15\n"
     ]
    }
   ],
   "source": [
    "new_df = df.assign(\n",
    "    speed_mph = df[\"distance_miles\"] / df[\"time_hours\"],\n",
    "    speed_kmph = new_df[\"speed_mph\"] * 0.621  # Note the new_df\n",
    ")\n",
    "print(new_df)"
   ]
  },
  {
   "cell_type": "markdown",
   "id": "9410a583-1737-434d-b383-53dea5393ada",
   "metadata": {},
   "source": [
    "---"
   ]
  },
  {
   "cell_type": "markdown",
   "id": "c14ecf75-d100-435a-add5-1b0eb8edf431",
   "metadata": {},
   "source": [
    "## Sort and Filter Rows\n",
    "\n",
    "Code | Use\n",
    "--- | ---\n",
    "`DF.head(#)` | Returns new data frame object with specified rows.  E.g. if `.head(2)`, then returns data frame with only the first two rows.  If no number specified returns data frame with first 5 rows.  Column names (headers) do not count as a row.\n",
    "`DF.tail(#)` | Same as `.head()`, but for rows at bottom of data frame\n",
    "`pd.set_options('display.max_columns', #)` Set the number of columns to display.  Useful if there are many columns and we want to display them all.  Otherwise, by default, head and tail will exclude columns if there are too many.\n",
    "`DF.sort_values(by=\"<COLUMN>\", ascending=True)` | Sort rows based on values in specified column(s).  Sorts in ascending order by default. Can sort by multiple columns by passing a list of columns.\n",
    "`DF[DF[\"<COLUMN>\"] <CONDITIONAL_EXPRESSION>]` | Return new data frame with rows filtered by conditional expression.  Equivalent to the following steps: specify column, apply \"vectorized\" conditional expression to each cell value in column, return series of Boolean values equal in length to count of rows, select original data frame rows that are True, and include True rows in new data frame.  Can use multiple columns and conditional expressions surrounded by parentheses and separated by the and operator `&`, or the or operator `\\|`. \n",
    "`DF.query(\"<CONDITIONAL_EXPRESSION>\")` | Return new data frame with rows filtered by conditional expression.  Similar to above, however, column names used in the in conditional expression without the data frame name, square brackets, or quotes."
   ]
  },
  {
   "cell_type": "markdown",
   "id": "c3304692-b1dd-4c4c-ae99-62dd9e043158",
   "metadata": {},
   "source": [
    "---"
   ]
  },
  {
   "cell_type": "markdown",
   "id": "895526f3-9232-4944-ab06-fa99d33725ea",
   "metadata": {},
   "source": [
    "**EXAMPLES**"
   ]
  },
  {
   "cell_type": "markdown",
   "id": "9b024d96-c167-409d-8f52-4afc1422bbb9",
   "metadata": {},
   "source": [
    "**`.head()`**"
   ]
  },
  {
   "cell_type": "code",
   "execution_count": 101,
   "id": "bf95d124-e6b6-4d70-a80d-1d9c03d87cb9",
   "metadata": {},
   "outputs": [
    {
     "name": "stdout",
     "output_type": "stream",
     "text": [
      "     fruit   color\n",
      "a   Cherry     Red\n",
      "b  Pumpkin  Orange\n"
     ]
    }
   ],
   "source": [
    "my_dict = {\n",
    "    'fruit': ['Cherry', 'Pumpkin', 'Banana'],\n",
    "    'color': ['Red', 'Orange', 'Yellow']\n",
    "}\n",
    "my_index = ['a', 'b', 'c']\n",
    "df = pd.DataFrame(my_dict, index = my_index)\n",
    "print(df.head(2))  # Column names (headers) do not count as a row."
   ]
  },
  {
   "cell_type": "markdown",
   "id": "28eb8175-00da-437e-b2cf-f928d6cd44ea",
   "metadata": {},
   "source": [
    "**`.tail()`**"
   ]
  },
  {
   "cell_type": "code",
   "execution_count": 102,
   "id": "3ac44fff-73e0-438b-91b5-544e394374ad",
   "metadata": {},
   "outputs": [
    {
     "name": "stdout",
     "output_type": "stream",
     "text": [
      "     fruit   color\n",
      "b  Pumpkin  Orange\n",
      "c   Banana  Yellow\n"
     ]
    }
   ],
   "source": [
    "print(df.tail(2))"
   ]
  },
  {
   "cell_type": "markdown",
   "id": "97b5bca4-fed7-4526-a088-ff95affc0cdc",
   "metadata": {},
   "source": [
    "**`.sort_values()`**"
   ]
  },
  {
   "cell_type": "code",
   "execution_count": 103,
   "id": "c02e1598-d262-4921-a861-461816d399e5",
   "metadata": {},
   "outputs": [
    {
     "name": "stdout",
     "output_type": "stream",
     "text": [
      "     fruit   color\n",
      "c   Banana  Yellow\n",
      "a   Cherry     Red\n",
      "b  Pumpkin  Orange\n"
     ]
    }
   ],
   "source": [
    "new_df = df.sort_values('fruit', ascending=True)\n",
    "print(new_df)"
   ]
  },
  {
   "cell_type": "markdown",
   "id": "1fddf6a3-9fa2-4401-a8b6-5e009b2ed11a",
   "metadata": {},
   "source": [
    "**Filter Rows with Conditional Expression**"
   ]
  },
  {
   "cell_type": "code",
   "execution_count": 104,
   "id": "f7deda2b-ef4d-4289-ba6e-16e7f78b3ee8",
   "metadata": {},
   "outputs": [
    {
     "name": "stdout",
     "output_type": "stream",
     "text": [
      "   column_1  column_2\n",
      "b         2         5\n",
      "c         3         6\n"
     ]
    }
   ],
   "source": [
    "my_dict = {\n",
    "    'column_1': [1,2,3],\n",
    "    'column_2': [4,5,6]\n",
    "}\n",
    "my_index = ['a', 'b', 'c']\n",
    "df = pd.DataFrame(my_dict, index = my_index)\n",
    "new_df = df[df['column_1'] >= 2]\n",
    "print(new_df)"
   ]
  },
  {
   "cell_type": "code",
   "execution_count": 105,
   "id": "2f235d2d-ec6f-4184-b330-dfbabc0ead2a",
   "metadata": {},
   "outputs": [
    {
     "name": "stdout",
     "output_type": "stream",
     "text": [
      "   column_1  column_2\n",
      "b         2         5\n"
     ]
    }
   ],
   "source": [
    "new_df = df[(df['column_1'] >= 2) & (df['column_2'] <= 5)] \n",
    "print(new_df)"
   ]
  },
  {
   "cell_type": "markdown",
   "id": "12386f41-2140-43f3-b043-417e4d4a81b0",
   "metadata": {},
   "source": [
    "**Filter Rows with `.query()`**"
   ]
  },
  {
   "cell_type": "code",
   "execution_count": 106,
   "id": "0848a39e-2cee-43b2-bd71-a287ce7f6ece",
   "metadata": {},
   "outputs": [
    {
     "name": "stdout",
     "output_type": "stream",
     "text": [
      "   column_1  column_2\n",
      "b         2         5\n",
      "c         3         6\n"
     ]
    }
   ],
   "source": [
    "new_df = df.query(\"column_1 >= 2\")\n",
    "print(new_df)"
   ]
  },
  {
   "cell_type": "code",
   "execution_count": 107,
   "id": "3469e542-b6df-4eed-82b5-b9d3e8f9d44d",
   "metadata": {},
   "outputs": [
    {
     "name": "stdout",
     "output_type": "stream",
     "text": [
      "   column_1  column_2\n",
      "b         2         5\n"
     ]
    }
   ],
   "source": [
    "new_df = df.query(\"column_1 >= 2 & column_2 <= 5\")   # Both & and and work, but & preferred\n",
    "print(new_df)"
   ]
  },
  {
   "cell_type": "markdown",
   "id": "c710350a-3557-4ab9-9927-23248c29b9d6",
   "metadata": {},
   "source": [
    "---"
   ]
  },
  {
   "cell_type": "markdown",
   "id": "b098322f-971b-4ed8-9fb0-8124f88a1d5c",
   "metadata": {},
   "source": [
    "## Delete Rows and Columns\n",
    "\n",
    "- \"The axis argument will return in a number of pandas methods that can be applied along an axis. A DataFrame has two corresponding axes: the first running vertically downwards across rows (axis 0), and the second running horizontally across columns (axis 1). Most operations like concatenation or summary statistics are by default across rows (axis 0), but can be applied across columns as well.\""
   ]
  },
  {
   "cell_type": "markdown",
   "id": "d2f65828-1f40-4420-9100-4f5e4f31f83f",
   "metadata": {},
   "source": [
    "---"
   ]
  },
  {
   "cell_type": "markdown",
   "id": "b940822f-14af-4176-8165-9460474c86f1",
   "metadata": {},
   "source": [
    "Code | Use\n",
    "--- | ---\n",
    "`DF.drop(<ROW_LABEL>, axis=0)` | Return new data frame, deleting row(s).  May pass list of rows to delete.  Optional argument `inplace = True` changes behavior to modify original data frame in place.\n",
    "`DF.drop(\"<COLUMN>\", axis=1)` | Return new data frame, deleting column(s).  May pass list of columns to delete. By default, returns new data frame.  Optional argument `inplace = True` changes behavior to modify original data frame in place.  `.drop()` is preferred way to delete column(s).  Note there is an alternative argument format that performs the same task: `'DF.drop(columns = \"<COLUMN>\"`.\n",
    "`del DF[\"<COLUMN>\"]` | Modifies original data frame in place and deletes column.    \n",
    "`DF.pop(\"<COLUMN>\")` | Modifies original data frame in place and deletes column.  Return value of method is the deleted column.\n",
    "`del DF` | Deletes original data frame\n",
    "`DF.duplicated()` | Returns series of Boolean values.  A False value means that the row is not a duplicate of a previous row.  A True means the row is a duplicate of a previous row.\n",
    "`DF.drop_duplicates()` | Return new data frame with any duplicate rows deleted.  By default, returns new data frame.  Optional argument `inplace = True` changes behavior to modify original data frame in place."
   ]
  },
  {
   "cell_type": "markdown",
   "id": "597456e4-9c1a-4d49-bd1e-ca0ea20a1eb8",
   "metadata": {},
   "source": [
    "---"
   ]
  },
  {
   "cell_type": "markdown",
   "id": "56157bf8-655d-4eb4-a395-aec2e5b8b0ec",
   "metadata": {},
   "source": [
    "**EXAMPLES**"
   ]
  },
  {
   "cell_type": "markdown",
   "id": "e529398f-dd06-4f9c-88ff-f3c5d6335109",
   "metadata": {},
   "source": [
    "**`.drop()` Row**"
   ]
  },
  {
   "cell_type": "code",
   "execution_count": 108,
   "id": "2b57d25e-769e-441f-8a90-43a70e658889",
   "metadata": {},
   "outputs": [
    {
     "name": "stdout",
     "output_type": "stream",
     "text": [
      "   column_1  column_2\n",
      "a         1         4\n",
      "b         2         5\n",
      "c         3         6\n"
     ]
    }
   ],
   "source": [
    "my_dict = {\n",
    "    'column_1': [1,2,3],\n",
    "    'column_2': [4,5,6]\n",
    "}\n",
    "my_index = ['a', 'b', 'c']\n",
    "df = pd.DataFrame(my_dict, index = my_index)\n",
    "print(df)"
   ]
  },
  {
   "cell_type": "code",
   "execution_count": 109,
   "id": "b8af960f-4cf1-4567-9793-5efcb5dda123",
   "metadata": {},
   "outputs": [
    {
     "name": "stdout",
     "output_type": "stream",
     "text": [
      "   column_1  column_2\n",
      "b         2         5\n",
      "c         3         6\n"
     ]
    }
   ],
   "source": [
    "new_df = df.drop('a', axis = 0)   # Delete single row\n",
    "print(new_df)"
   ]
  },
  {
   "cell_type": "code",
   "execution_count": 110,
   "id": "dd6d3dc3-3e26-4f21-864d-bfd39be5c0c1",
   "metadata": {},
   "outputs": [
    {
     "name": "stdout",
     "output_type": "stream",
     "text": [
      "   column_1  column_2\n",
      "c         3         6\n"
     ]
    }
   ],
   "source": [
    "new_df = df.drop(['a', 'b'], axis = 0)  # Pass list and delete multiple rows\n",
    "print(new_df)"
   ]
  },
  {
   "cell_type": "markdown",
   "id": "3b998c3d-62ba-45c6-a623-5f45d78381b1",
   "metadata": {},
   "source": [
    "**`.drop()` Column**"
   ]
  },
  {
   "cell_type": "code",
   "execution_count": 111,
   "id": "a5be1301-ee2e-4f1d-9af1-10cb881ea624",
   "metadata": {},
   "outputs": [
    {
     "name": "stdout",
     "output_type": "stream",
     "text": [
      "   column_2\n",
      "a         4\n",
      "b         5\n",
      "c         6\n"
     ]
    }
   ],
   "source": [
    "new_df = df.drop(\"column_1\", axis = 1)   # Delete single row\n",
    "print(new_df)"
   ]
  },
  {
   "cell_type": "code",
   "execution_count": 112,
   "id": "25e9f4a9-295e-4ac2-808e-b0bb04853d31",
   "metadata": {},
   "outputs": [
    {
     "name": "stdout",
     "output_type": "stream",
     "text": [
      "   column_2\n",
      "a         4\n",
      "b         5\n",
      "c         6\n"
     ]
    }
   ],
   "source": [
    "new_df = df.drop(columns = \"column_1\")   # Alternative format\n",
    "print(new_df)"
   ]
  },
  {
   "cell_type": "markdown",
   "id": "d7ad6e1b-f6e3-4f5d-8119-4f42c37f5fdf",
   "metadata": {},
   "source": [
    "**`.duplicated()` Row**"
   ]
  },
  {
   "cell_type": "code",
   "execution_count": 113,
   "id": "cde4151d-f551-48bd-a1df-e291183ca2f9",
   "metadata": {},
   "outputs": [
    {
     "name": "stdout",
     "output_type": "stream",
     "text": [
      "     fruit   color\n",
      "0   Cherry     Red\n",
      "1   Cherry     Red\n",
      "2  Pumpkin  Orange\n",
      "3   Banana  Yellow\n"
     ]
    }
   ],
   "source": [
    "my_dict = {\n",
    "    'fruit': ['Cherry', 'Cherry', 'Pumpkin', 'Banana'],\n",
    "    'color': ['Red', 'Red', 'Orange', 'Yellow']\n",
    "}\n",
    "df = pd.DataFrame(my_dict) \n",
    "print(df)"
   ]
  },
  {
   "cell_type": "code",
   "execution_count": 114,
   "id": "a6ec8ded-8fcb-4a74-a426-77ba420526fa",
   "metadata": {},
   "outputs": [
    {
     "name": "stdout",
     "output_type": "stream",
     "text": [
      "<class 'pandas.core.series.Series'>\n",
      "0    False\n",
      "1     True\n",
      "2    False\n",
      "3    False\n",
      "dtype: bool\n"
     ]
    }
   ],
   "source": [
    "print(type(df.duplicated()))\n",
    "print(df.duplicated())"
   ]
  },
  {
   "cell_type": "markdown",
   "id": "931860a5-20e1-4160-b57b-12b3bbe26dfd",
   "metadata": {},
   "source": [
    "**`.drop_duplicates()` Row**"
   ]
  },
  {
   "cell_type": "code",
   "execution_count": 115,
   "id": "22faaef7-8482-4a2a-b3e5-9dea6784470d",
   "metadata": {},
   "outputs": [
    {
     "name": "stdout",
     "output_type": "stream",
     "text": [
      "     fruit   color\n",
      "0   Cherry     Red\n",
      "2  Pumpkin  Orange\n",
      "3   Banana  Yellow\n"
     ]
    }
   ],
   "source": [
    "new_df = df.drop_duplicates()  # Return new data frame\n",
    "print(new_df)"
   ]
  },
  {
   "cell_type": "code",
   "execution_count": 116,
   "id": "717c50a8-83df-4137-980a-9f43bba73b13",
   "metadata": {},
   "outputs": [
    {
     "name": "stdout",
     "output_type": "stream",
     "text": [
      "     fruit   color\n",
      "0   Cherry     Red\n",
      "2  Pumpkin  Orange\n",
      "3   Banana  Yellow\n"
     ]
    }
   ],
   "source": [
    "df.drop_duplicates(inplace = True)  # Modify original data frame in place\n",
    "print(df)"
   ]
  },
  {
   "cell_type": "markdown",
   "id": "214ed599-e403-4e41-a694-f82097a694a2",
   "metadata": {},
   "source": [
    "---"
   ]
  },
  {
   "cell_type": "markdown",
   "id": "a287e813-ee79-4756-834a-b1c7a4f08047",
   "metadata": {},
   "source": [
    "## Handle Missing Data\n",
    "\n",
    "- During sampling, some records may end up with missing data for some variables \n",
    "- Missing data may be:\n",
    "    1. Missing at random.  Null values do not follow a pattern.  This is good as missing data is less likely to affect analysis.\n",
    "    1. Missing not at random.   Confounding factor causing missing values to be associated with certain records.  Removing many records with non-random nulls affects analysis.\n",
    "- Different functions implicitly handle missing data differently\n",
    "- It is best practice to explicitly handle missing data before doing any data analysis\n",
    "- There are a few strategies to handle missing data:\n",
    "    1. Remove records if any column has null values.  No null values left in data frame.\n",
    "    1. Remove records where specified column(s) have null values\n",
    "    1. Recode missing data as something else.  E.g. null to 0.  Not always possible.\n",
    "    1. Interpolate missing values.  For numerical variables, we could replace the null with the mean, use regression to predict the value, etc.  Complicated."
   ]
  },
  {
   "cell_type": "markdown",
   "id": "c5bfec11-8587-4f30-8028-2e80991bdbb9",
   "metadata": {},
   "source": [
    "---"
   ]
  },
  {
   "cell_type": "markdown",
   "id": "0adce848-9a2d-4530-9890-93373df9edfd",
   "metadata": {},
   "source": [
    "Code | Use\n",
    "--- | ---\n",
    "`pd.isnull(DF[\"<COLUMN>\"])` | Return series with Boolean values representing whether values in specified series are null values\n",
    "`pd.notnull()` | Similar to `isnull()`, but the Booleans indicate whether values are *not* null values\n",
    "`DF.dropna()` | Return new data frame with rows containing any null values deleted.  By default, returns new data frame.  Optional argument `inplace = True` changes behavior to modify original data frame in place.  Optional argument `subset = ['<COLUMN>']` specifies which column to look in to find cells with null values.\n",
    "`DF.fillna(<VALUE>)` | Return new data frame where cells containing null are \"filled in\" with specified value.  By default, returns new data frame.  Optional argument `inplace = True` changes behavior to modify original data frame in place.  Optionally, specify a certain column to modify using `DF[\"<COLUMN>\"].fillna()` format."
   ]
  },
  {
   "cell_type": "markdown",
   "id": "5537bbb7-5d9e-4b78-aa62-af49bda0f9f2",
   "metadata": {},
   "source": [
    "---"
   ]
  },
  {
   "cell_type": "markdown",
   "id": "a5dc47f1-22e5-4c70-bf69-4b13add65b72",
   "metadata": {},
   "source": [
    "**EXAMPLES**"
   ]
  },
  {
   "cell_type": "markdown",
   "id": "20bf690c-4763-4c7f-ad87-15a1d148aa64",
   "metadata": {},
   "source": [
    "**`isnull()`**"
   ]
  },
  {
   "cell_type": "code",
   "execution_count": 117,
   "id": "58cfa07c-ce86-4a3c-898a-eb4f55424c78",
   "metadata": {},
   "outputs": [
    {
     "name": "stdout",
     "output_type": "stream",
     "text": [
      "0     True\n",
      "1    False\n",
      "2    False\n",
      "Name: fruit, dtype: bool\n",
      "1\n"
     ]
    }
   ],
   "source": [
    "my_dict = {\n",
    "    'fruit': [None, 'Pumpkin', 'Banana'],\n",
    "    'color': ['Red', 'Orange', 'Yellow']\n",
    "}\n",
    "df = pd.DataFrame(my_dict)\n",
    "s_isnull = pd.isnull(df['fruit'])\n",
    "print(s_isnull)\n",
    "print(np.sum(s_isnull))"
   ]
  },
  {
   "cell_type": "markdown",
   "id": "efe92db5-6cc4-48a3-9733-c79e9e63b28c",
   "metadata": {},
   "source": [
    "**`notnull()`**"
   ]
  },
  {
   "cell_type": "code",
   "execution_count": 118,
   "id": "d0e9cda6-a340-4f6d-abdb-87f4785e2b1a",
   "metadata": {},
   "outputs": [
    {
     "name": "stdout",
     "output_type": "stream",
     "text": [
      "0    False\n",
      "1     True\n",
      "2     True\n",
      "Name: fruit, dtype: bool\n",
      "2\n"
     ]
    }
   ],
   "source": [
    "my_dict = {\n",
    "    'fruit': [None, 'Pumpkin', 'Banana'],\n",
    "    'color': ['Red', 'Orange', 'Yellow']\n",
    "}\n",
    "df = pd.DataFrame(my_dict)\n",
    "s_notnull = pd.notnull(df['fruit'])\n",
    "print(s_notnull)\n",
    "print(np.sum(s_notnull))"
   ]
  },
  {
   "cell_type": "markdown",
   "id": "34e373c2-8a71-4cbd-abed-24ade193566b",
   "metadata": {},
   "source": [
    "**`.dropna()`**"
   ]
  },
  {
   "cell_type": "code",
   "execution_count": 119,
   "id": "44e5571a-fa60-400a-b0c8-b6678337fa72",
   "metadata": {},
   "outputs": [
    {
     "name": "stdout",
     "output_type": "stream",
     "text": [
      "     fruit   color\n",
      "1  Pumpkin  Orange\n",
      "2   Banana  Yellow\n"
     ]
    }
   ],
   "source": [
    "my_dict = {\n",
    "    'fruit': [None, 'Pumpkin', 'Banana'],\n",
    "    'color': ['Red', 'Orange', 'Yellow']\n",
    "}\n",
    "df = pd.DataFrame(my_dict) \n",
    "new_df = df.dropna()  # Return new data frame\n",
    "print(new_df)"
   ]
  },
  {
   "cell_type": "code",
   "execution_count": 120,
   "id": "b11be933-5b8c-4623-8896-8576a23613b2",
   "metadata": {},
   "outputs": [
    {
     "name": "stdout",
     "output_type": "stream",
     "text": [
      "     fruit   color\n",
      "1  Pumpkin  Orange\n",
      "2   Banana  Yellow\n"
     ]
    }
   ],
   "source": [
    "my_dict = {\n",
    "    'fruit': [None, 'Pumpkin', 'Banana'],\n",
    "    'color': ['Red', 'Orange', 'Yellow']\n",
    "}\n",
    "df = pd.DataFrame(my_dict) \n",
    "df.dropna(inplace = True)  # Modify original data frame in place\n",
    "print(df)"
   ]
  },
  {
   "cell_type": "code",
   "execution_count": 121,
   "id": "5ea50a64-e9fc-4626-b66a-d4d0659af8a0",
   "metadata": {},
   "outputs": [
    {
     "name": "stdout",
     "output_type": "stream",
     "text": [
      "     fruit   color\n",
      "1  Pumpkin    None\n",
      "2   Banana  Yellow\n"
     ]
    }
   ],
   "source": [
    "my_dict = {\n",
    "    'fruit': [None, 'Pumpkin', 'Banana'],\n",
    "    'color': ['Red', None, 'Yellow']\n",
    "}\n",
    "df = pd.DataFrame(my_dict) \n",
    "df.dropna(subset = ['fruit'], inplace = True)  # Specify column\n",
    "print(df)"
   ]
  },
  {
   "cell_type": "markdown",
   "id": "3b29e220-c0b9-4ad2-9ebe-6400be274a2c",
   "metadata": {},
   "source": [
    "**`.fillna()`**"
   ]
  },
  {
   "cell_type": "code",
   "execution_count": 122,
   "id": "78f2fc5f-b8ef-48a3-8c2f-63ad96ff5b60",
   "metadata": {},
   "outputs": [
    {
     "name": "stdout",
     "output_type": "stream",
     "text": [
      "           fruit   color\n",
      "0  Missing Value     Red\n",
      "1        Pumpkin  Orange\n",
      "2         Banana  Yellow\n"
     ]
    }
   ],
   "source": [
    "my_dict = {\n",
    "    'fruit': [None, 'Pumpkin', 'Banana'],\n",
    "    'color': ['Red', 'Orange', 'Yellow']\n",
    "}\n",
    "df = pd.DataFrame(my_dict) \n",
    "new_df = df.fillna('Missing Value')  # Return new data frame\n",
    "print(new_df)"
   ]
  },
  {
   "cell_type": "code",
   "execution_count": 123,
   "id": "4fff60ef-9916-438d-8204-c5bef86e1e81",
   "metadata": {},
   "outputs": [
    {
     "name": "stdout",
     "output_type": "stream",
     "text": [
      "           fruit   color\n",
      "0  Missing Value     Red\n",
      "1        Pumpkin  Orange\n",
      "2         Banana  Yellow\n"
     ]
    }
   ],
   "source": [
    "my_dict = {\n",
    "    'fruit': [None, 'Pumpkin', 'Banana'],\n",
    "    'color': ['Red', 'Orange', 'Yellow']\n",
    "}\n",
    "df = pd.DataFrame(my_dict) \n",
    "df.fillna(\"Missing Value\", inplace = True)  # Modify original data frame in place\n",
    "print(df)"
   ]
  },
  {
   "cell_type": "code",
   "execution_count": 124,
   "id": "6c918d25-acde-43f9-b08a-ed5dbedd16cd",
   "metadata": {},
   "outputs": [
    {
     "name": "stdout",
     "output_type": "stream",
     "text": [
      "     fruit          color\n",
      "0     None  Missing Value\n",
      "1  Pumpkin         Orange\n",
      "2   Banana         Yellow\n"
     ]
    }
   ],
   "source": [
    "my_dict = {\n",
    "    'fruit': [None, 'Pumpkin', 'Banana'],\n",
    "    'color': [None, 'Orange', 'Yellow']\n",
    "}\n",
    "df = pd.DataFrame(my_dict) \n",
    "df['color'].fillna('Missing Value', inplace = True)  # Specify column\n",
    "print(df)"
   ]
  },
  {
   "cell_type": "code",
   "execution_count": 125,
   "id": "0036353d-6713-4508-9c93-f988d36ad812",
   "metadata": {},
   "outputs": [
    {
     "name": "stdout",
     "output_type": "stream",
     "text": [
      "     fruit          color\n",
      "0     None  Missing Value\n",
      "1  Pumpkin         Orange\n",
      "2   Banana         Yellow\n"
     ]
    }
   ],
   "source": [
    "my_dict = {\n",
    "    'fruit': [None, 'Pumpkin', 'Banana'],\n",
    "    'color': [None, 'Orange', 'Yellow']\n",
    "}\n",
    "df = pd.DataFrame(my_dict) \n",
    "df['color'].fillna('Missing Value', inplace = True)  # Specify column\n",
    "print(df)"
   ]
  },
  {
   "cell_type": "markdown",
   "id": "56acbb3e-5acf-4e28-9207-a22400c7b070",
   "metadata": {},
   "source": [
    "---"
   ]
  },
  {
   "cell_type": "markdown",
   "id": "f8dde21a-b380-4ad2-90c7-49e1c16e9b06",
   "metadata": {},
   "source": [
    "## Reshape Data Frame"
   ]
  },
  {
   "cell_type": "markdown",
   "id": "12c71380-385b-467c-a933-be1cc5cab073",
   "metadata": {
    "tags": []
   },
   "source": [
    "- We'll cover reshaping data frames using a \"transpose\" function, a \"wide-to-long\" function, and a \"long-to-wide\" function.  The reason why we reshape data frames often involves \"tidy\" data.\n",
    "- **Tidy** means:\n",
    "    1. Each variable must have its own column\n",
    "    1. Each observation must have its own row\n",
    "    1. Each value must have its own cell\n",
    "- Because these are related, we really only need to:\n",
    "    1. Put each data set in its own data frame\n",
    "    1. Put each variable in its own column\n",
    "\n",
    "![](images/tidy.png)\n",
    "\n",
    "- One big advantage of tidy data is that it follows the rules for normalized tables  Normalized tables are required for compatibility with relational databases and SQL.\n",
    "- Untidy data may have the variables as rows.  We can switch the rows and columns using a **transpose** function.\n",
    "- Untidy data may have two other common problems, each with a \"pivot\" function that solves it:\n",
    "\n",
    "1. One variable spread across multiple columns\n",
    "\n",
    "- In the `table4a` example the single variable `cases` is spread over two columns, one column called `1999`, and one column called `2000`.  These column names are actually values of the variable \"year\" and should be put into a single column named \"year\".  We can use a \"wide-to-long\" function to combine two columns, doubling the number of rows.  We could also combine more than two columns.  These \"wide-to-long\" table reshaping functions are often caleld \"pivot-long\", \"melt\", or \"gather\".  \n",
    "\n",
    "![](images/pivot_long_1.png)\n",
    "\n",
    "- The image below shows another wide-to-long example.  The preferred pandas method for this is `melt()`.  We can see that all the grades were put into their own variable.  This creates \"tidy\" data.\n",
    "\n",
    "![](images/pivot_long_2.png)\n",
    "\n",
    "2. One observation spread across multiple rows\n",
    "\n",
    "- In the `table2` example a single observation (values from a single country in a single year) is spread over two rows.  We can use a \"long-to_wide\" function to create new variables called \"cases\" and \"population\" while moving their values into these newly created columns.  These \"long-to-wide\" table reshaping functions are called \"pivot-wide\", or \"spread\".\n",
    "    \n",
    "![](images/pivot_wide_1.png)\n",
    "\n",
    "- The image below shows another long-to-wide example.  The preferred pandas method for this is `pivot_table()`.  This example is actually a reverse of the above example and does create \"tidy\" data.\n",
    "\n",
    "![](images/pivot_wide_2.png)"
   ]
  },
  {
   "cell_type": "markdown",
   "id": "bfc4b8de-cbec-4086-9fdf-7eff0511e007",
   "metadata": {},
   "source": [
    "---"
   ]
  },
  {
   "cell_type": "markdown",
   "id": "d3885ad1-6aaa-46e6-b66b-63b707abb864",
   "metadata": {},
   "source": [
    "Code | Use\n",
    "--- | ---\n",
    "`DF.T` | Returns new data frame with rows and columns swapped. I.e. \"transpose\".\n",
    "`pd.melt()` | Returns new data frame after \"wide-to-long\"/\"pivot-long\"/\"melt\"/\"gather\".  Arguments best understood by looking at example.\n",
    "`DF.pivot_table().reset_index()` | Returns new data frame after \"long-to-wide\"/\"pivot-wide\"/\"spread\".  Arguments best understood by looking at example.  The output is a \"multi-index\" data frame.  The `.reset_index()` method converts multi-index back into a single index data frame."
   ]
  },
  {
   "cell_type": "markdown",
   "id": "705d7f1b-dd49-480d-8418-ca9dfbcbcdff",
   "metadata": {},
   "source": [
    "---"
   ]
  },
  {
   "cell_type": "markdown",
   "id": "3a78e4ed-447d-4658-8172-62b90e55130b",
   "metadata": {},
   "source": [
    "**EXAMPLES**"
   ]
  },
  {
   "cell_type": "markdown",
   "id": "42d2629f-94d7-4e47-b64e-a6ad7ed42ae2",
   "metadata": {},
   "source": [
    "**Transpose with `.T`**"
   ]
  },
  {
   "cell_type": "code",
   "execution_count": 126,
   "id": "6149e722-473a-4eea-9c76-841df682ad0e",
   "metadata": {},
   "outputs": [
    {
     "name": "stdout",
     "output_type": "stream",
     "text": [
      "       column_a  column_b\n",
      "row_a         1         4\n",
      "row_b         3         5\n",
      "row_c         2         6\n",
      "          row_a  row_b  row_c\n",
      "column_a      1      3      2\n",
      "column_b      4      5      6\n"
     ]
    }
   ],
   "source": [
    "my_dict = {\n",
    "    'column_a': [1,3,2],\n",
    "    'column_b': [4,5,6]\n",
    "}\n",
    "my_index = ['row_a', 'row_b', 'row_c']\n",
    "df = pd.DataFrame(my_dict, index = my_index)\n",
    "print(df)\n",
    "print(df.T)"
   ]
  },
  {
   "cell_type": "markdown",
   "id": "3b0d3c3c-ce86-4718-8bb6-720e398b8672",
   "metadata": {
    "tags": []
   },
   "source": [
    "**Wide-to-Long with `melt()`**"
   ]
  },
  {
   "cell_type": "code",
   "execution_count": 127,
   "id": "19e002b8-47b1-4658-8c0b-be3a802f31c4",
   "metadata": {},
   "outputs": [
    {
     "name": "stdout",
     "output_type": "stream",
     "text": [
      "Before:\n",
      "\n",
      "       country    1999    2000\n",
      "0  Afghanistan     745    2666\n",
      "1       Brazil   37737   80488\n",
      "2        China  212258  213766\n",
      "\n",
      "\n",
      "After wide-to-long:\n",
      "\n",
      "       country  year   cases\n",
      "0  Afghanistan  1999     745\n",
      "1       Brazil  1999   37737\n",
      "2        China  1999  212258\n",
      "3  Afghanistan  2000    2666\n",
      "4       Brazil  2000   80488\n",
      "5        China  2000  213766\n"
     ]
    }
   ],
   "source": [
    "my_dict = {\n",
    "    'country': ['Afghanistan', 'Brazil', 'China'],\n",
    "    '1999': [745, 37737, 212258],\n",
    "    '2000': [2666, 80488, 213766]\n",
    "}\n",
    "df = pd.DataFrame(my_dict)\n",
    "print(\"Before:\\n\")\n",
    "print(df)\n",
    "print('\\n')\n",
    "new_df = pd.melt(\n",
    "    df, \n",
    "    id_vars='country', \n",
    "    value_vars=['1999', '2000'],\n",
    "    var_name='year',\n",
    "    value_name='cases'\n",
    "    \n",
    ")\n",
    "print(\"After wide-to-long:\\n\")\n",
    "print(new_df)"
   ]
  },
  {
   "cell_type": "markdown",
   "id": "11126591-116c-4e48-aa89-e9b801cb9496",
   "metadata": {},
   "source": [
    "**Long-to-Wide with `pivot_table()`**"
   ]
  },
  {
   "cell_type": "code",
   "execution_count": 128,
   "id": "4f67e6c6-614a-4bf2-988d-71d81e2ee39e",
   "metadata": {},
   "outputs": [
    {
     "name": "stdout",
     "output_type": "stream",
     "text": [
      "Before:\n",
      "\n",
      "       country  year        type      count\n",
      "0  Afghanistan  1999       cases        745\n",
      "1  Afghanistan  1999  population   19987071\n",
      "2  Afghanistan  2000       cases       2666\n",
      "3  Afghanistan  2000  population   20595360\n",
      "4       Brazil  1999       cases      37737\n",
      "5       Brazil  1999  population  172006362\n",
      "6       Brazil  2000       cases      80488\n",
      "7       Brazil  2000  population  174504898\n",
      "\n",
      "\n",
      "After long-to-wide:\n",
      "\n",
      "type      country  year  cases  population\n",
      "0     Afghanistan  1999    745    19987071\n",
      "1     Afghanistan  2000   2666    20595360\n",
      "2          Brazil  1999  37737   172006362\n",
      "3          Brazil  2000  80488   174504898\n"
     ]
    }
   ],
   "source": [
    "my_dict = {\n",
    "    'country': ['Afghanistan', 'Afghanistan', 'Afghanistan', 'Afghanistan', 'Brazil', 'Brazil', 'Brazil', 'Brazil'],\n",
    "    'year': [1999, 1999, 2000, 2000, 1999, 1999, 2000, 2000],\n",
    "    'type': ['cases', 'population', 'cases', 'population', 'cases', 'population', 'cases', 'population'],\n",
    "    'count': [745, 19987071, 2666, 20595360, 37737, 172006362, 80488, 174504898]\n",
    "}\n",
    "df = pd.DataFrame(my_dict)\n",
    "print(\"Before:\\n\")\n",
    "print(df)\n",
    "print('\\n')\n",
    "new_df = pd.pivot_table(\n",
    "    df,\n",
    "    index=['country', 'year'],\n",
    "    columns='type',\n",
    "    values='count'\n",
    ").reset_index()\n",
    "print(\"After long-to-wide:\\n\")\n",
    "print(new_df)"
   ]
  },
  {
   "cell_type": "markdown",
   "id": "5c164c9a-dbbf-4694-8295-e41ca39fae09",
   "metadata": {},
   "source": [
    "---"
   ]
  },
  {
   "cell_type": "markdown",
   "id": "cd232daa-a9ff-4744-9d92-d7801acad57a",
   "metadata": {},
   "source": [
    "## Concatenate Data Frames\n",
    "\n",
    "- Concatenating data frames is like gluing one data frame onto another\n",
    "- **Row-wise**--glue onto the bottom.  Appending multiple rows of data.  Both data frames must have the same columns (names and number of columns), but the order of columns is not important.\n",
    "- **Column-wise**--glue onto side.  Appending multiple columns of data.  Both data frames must have the same number of rows and the rows must be in the same order.\n",
    "- Concatenation is different from relational joins because relational joins can combine data frames when columns are not the same and when row number and order are not the same between data frames.\n",
    "- Note that there are many more optional arguments to `concat()`"
   ]
  },
  {
   "cell_type": "markdown",
   "id": "d43fdcca-7888-4d50-a899-aa241a080706",
   "metadata": {},
   "source": [
    "---"
   ]
  },
  {
   "cell_type": "markdown",
   "id": "0be4a3ef-00fd-4713-ad32-b5656d132bdf",
   "metadata": {},
   "source": [
    "Code | Use\n",
    "--- | ---\n",
    "`pd.concat([DF1, DF2], axis=0)` | Return new data frame by combining data frames together \"row-wise\".  Data frame 2 is attached below data frame 1.  If there are no row labels, the row integer indices will start at 0 twice.  The argument `ignore_index=True` will solve this.\n",
    "`pd.concat([DF1, DF2], axis=1)` | Return new data frame by combining data frames together \"column-wise\".  Data frame 2 is attached to the right of data frame 1.  If neither data frame has row labels it works fine.  If either data frame has row labels, both data frames must have matching row labels,"
   ]
  },
  {
   "cell_type": "markdown",
   "id": "30e50acf-668f-41ce-9434-8437f1852046",
   "metadata": {},
   "source": [
    "---"
   ]
  },
  {
   "cell_type": "markdown",
   "id": "c4beb433-ede7-491c-87a9-9e2b2cad50c4",
   "metadata": {
    "tags": []
   },
   "source": [
    "**EXAMPLES**"
   ]
  },
  {
   "cell_type": "markdown",
   "id": "6d922684-739b-4027-bdbe-9af6dcab13de",
   "metadata": {
    "tags": []
   },
   "source": [
    "**`concat()` \"Row-Wise\"**"
   ]
  },
  {
   "cell_type": "code",
   "execution_count": 129,
   "id": "3c7fde91-4aed-4658-8ec7-6bfdb6aedf41",
   "metadata": {},
   "outputs": [
    {
     "name": "stdout",
     "output_type": "stream",
     "text": [
      "     fruit   color\n",
      "0   Cherry     Red\n",
      "1  Pumpkin  Orange\n",
      "2   Banana  Yellow\n"
     ]
    }
   ],
   "source": [
    "my_dict = {\n",
    "    'fruit': ['Cherry', 'Pumpkin', 'Banana'],\n",
    "    'color': ['Red', 'Orange', 'Yellow']\n",
    "}\n",
    "df_1 = pd.DataFrame(my_dict)\n",
    "print(df_1)"
   ]
  },
  {
   "cell_type": "code",
   "execution_count": 130,
   "id": "105ea7d3-b897-47df-b342-36cd0536ed3d",
   "metadata": {},
   "outputs": [
    {
     "name": "stdout",
     "output_type": "stream",
     "text": [
      "    color      fruit\n",
      "0   Green    Avocado\n",
      "1    Blue  Blueberry\n",
      "2  Purple      Grape\n"
     ]
    }
   ],
   "source": [
    "my_dict = {\n",
    "    'color': ['Green', 'Blue', 'Purple'],\n",
    "    'fruit': ['Avocado', 'Blueberry', 'Grape']\n",
    "    \n",
    "}\n",
    "df_2 = pd.DataFrame(my_dict)\n",
    "print(df_2)"
   ]
  },
  {
   "cell_type": "code",
   "execution_count": 131,
   "id": "02d1db24-a5dc-495c-85e1-116a7eb3a603",
   "metadata": {},
   "outputs": [
    {
     "name": "stdout",
     "output_type": "stream",
     "text": [
      "       fruit   color\n",
      "0     Cherry     Red\n",
      "1    Pumpkin  Orange\n",
      "2     Banana  Yellow\n",
      "3    Avocado   Green\n",
      "4  Blueberry    Blue\n",
      "5      Grape  Purple\n"
     ]
    }
   ],
   "source": [
    "new_df = pd.concat([df_1, df_2], axis=0, ignore_index=True)\n",
    "print(new_df)"
   ]
  },
  {
   "cell_type": "markdown",
   "id": "ec1269ab-a23e-417f-81bd-909d592f68ba",
   "metadata": {
    "tags": []
   },
   "source": [
    "**`concat()` \"Column-Wise\"**"
   ]
  },
  {
   "cell_type": "code",
   "execution_count": 132,
   "id": "52b10fde-d23b-4ccb-b4ba-35cf02ccff2f",
   "metadata": {},
   "outputs": [
    {
     "name": "stdout",
     "output_type": "stream",
     "text": [
      "     fruit   color\n",
      "a   Cherry     Red\n",
      "b  Pumpkin  Orange\n",
      "c   Banana  Yellow\n"
     ]
    }
   ],
   "source": [
    "my_dict = {\n",
    "    'fruit': ['Cherry', 'Pumpkin', 'Banana'],\n",
    "    'color': ['Red', 'Orange', 'Yellow']\n",
    "}\n",
    "my_index = ['a', 'b', 'c']\n",
    "df_1 = pd.DataFrame(my_dict, index = my_index)\n",
    "print(df_1)"
   ]
  },
  {
   "cell_type": "code",
   "execution_count": 133,
   "id": "f4daea5d-27c2-4f1b-a339-29376524d122",
   "metadata": {},
   "outputs": [
    {
     "name": "stdout",
     "output_type": "stream",
     "text": [
      "  quantity  price\n",
      "a        2   0.25\n",
      "b        4   0.50\n",
      "c        6   0.75\n"
     ]
    }
   ],
   "source": [
    "my_dict = {\n",
    "    'quantity': ['2', '4', '6'],\n",
    "    'price': [0.25, 0.50, 0.75]\n",
    "}\n",
    "my_index = ['a', 'b', 'c']\n",
    "df_2 = pd.DataFrame(my_dict, index = my_index)\n",
    "print(df_2)"
   ]
  },
  {
   "cell_type": "code",
   "execution_count": 134,
   "id": "b130f2b4-66b4-40fc-a9c6-b6c71b9c3073",
   "metadata": {},
   "outputs": [
    {
     "name": "stdout",
     "output_type": "stream",
     "text": [
      "     fruit   color quantity  price\n",
      "a   Cherry     Red        2   0.25\n",
      "b  Pumpkin  Orange        4   0.50\n",
      "c   Banana  Yellow        6   0.75\n"
     ]
    }
   ],
   "source": [
    "new_df = pd.concat([df_1, df_2], axis=1)\n",
    "print(new_df)"
   ]
  },
  {
   "cell_type": "markdown",
   "id": "ab7b9cf5-1871-4ebf-95ef-e823fb7bc45c",
   "metadata": {},
   "source": [
    "---"
   ]
  },
  {
   "cell_type": "markdown",
   "id": "ac9d85c3-29de-43ee-9f00-94191af6915e",
   "metadata": {},
   "source": [
    "## Mutating Joins\n",
    "- To make data storage efficient and allow different tables to be combined in a variety of ways, data is often stored in relational databases.  A relational database is a collection of tables that are related to each other by data common to each.\n",
    "- Mutating joins combine variables from two different tables.  We'll call them table_A and table_B.  We know which row in table_A matches which row in table_B because of primary and foreign keys.  It is usually best to just use single columns as primary and foreign keys. However, multiple columns can be used.  Mutating joins functions are based upon SQL join statements and are thus very similar.\n",
    "- We'll be calling data frames tables. SQL uses the term table instead of data frame."
   ]
  },
  {
   "cell_type": "markdown",
   "id": "125bc45e-ea21-40e5-890b-2c1252e62a70",
   "metadata": {},
   "source": [
    "- Below, we display an inner join in SQL\n",
    "\n",
    "``` SQL\n",
    "SELECT *\n",
    "FROM table_A\n",
    "INNER JOIN table_B\n",
    "ON table_A.column_A_key = table_B.column_B_key\n",
    "```\n",
    "- Below, we display an inner join in pandas\n",
    "\n",
    "```python\n",
    "pd.merge(\n",
    "    table_A, \n",
    "    table_B,\n",
    "    how=\"inner\",\n",
    "    left_on=\"column_A_key\",\n",
    "    right_on=\"column_B_key\"\n",
    ")\n",
    "```\n",
    "\n",
    "- In SQL, the order we write the tables and keys does not matter for inner join (it does for left and right join) because we specify which key comes from which table using dot notation\n",
    "- In pandas the order is important.  The first table entered is the \"left\" table.  The second table entered is the \"right\" table.  There are arguments which specify if they apply to the left or the right table.\n",
    "- In pandas, if the column names for the foreign and primary keys are the same, we can use the `on=` argument and skip both the `left_on=` and `right_on=` arguments\n",
    "- In pandas, the `left_index=True` and `right_index=True` arguments specify if row labels as used as keys instead of columns\n",
    "- In pandas the `validate=` argument checks if join is of a specified type.  By default it is set to `None`.  Optionally, choose:\n",
    "    - `one_to_one` or `1:1` checks if merge keys are unique in both left and right datasets.\n",
    "    - `one_to_many` or `1:m`: checks if merge keys are unique in left dataset.\n",
    "    - `many_to_one` or `m:1`: checks if merge keys are unique in right dataset.\n",
    "    - `many_to_many` or `m:m`: allowed, but does not result in checks.\n",
    "- In pandas the `merge()` function performs joins.  However, there is a `join()` function in Pandas that is a wrapper around `merge()`.  The `join()` function makes it easier to perform joins if we is using labels as keys.\n",
    "- We'll use the `merge()` function and provide examples of:\n",
    "    - Inner join\n",
    "    - Left (outer) join\n",
    "    - Right (outer) join\n",
    "    - Full (outer) join\n",
    "    - Cross join"
   ]
  },
  {
   "cell_type": "markdown",
   "id": "46463e77-f4cc-4c55-9ee6-b15a1c40f761",
   "metadata": {},
   "source": [
    "---"
   ]
  },
  {
   "cell_type": "markdown",
   "id": "20faf069-51ae-4db2-abda-06f3490451e5",
   "metadata": {
    "tags": []
   },
   "source": [
    "**EXAMPLES**"
   ]
  },
  {
   "cell_type": "markdown",
   "id": "93c6c0dd-599c-4481-8571-92864bc1f039",
   "metadata": {},
   "source": [
    "**Inner Join**"
   ]
  },
  {
   "cell_type": "code",
   "execution_count": 135,
   "id": "41888b8c-c52c-4c87-a17a-3f55f9a205c5",
   "metadata": {},
   "outputs": [
    {
     "name": "stdout",
     "output_type": "stream",
     "text": [
      "  fruit_id  fruit_name color_id\n",
      "0       F1  Strawberry       C1\n",
      "1       F2      Cherry       C1\n",
      "2       F3      Banana       C3\n",
      "3       F4   Blueberry       C5\n"
     ]
    }
   ],
   "source": [
    "# Create table for examples\n",
    "dict_fruits = {\n",
    "    'fruit_id':['F1', 'F2', 'F3', 'F4'],\n",
    "    'fruit_name':['Strawberry', 'Cherry', 'Banana', 'Blueberry'],\n",
    "    'color_id':['C1', 'C1', 'C3', 'C5'] \n",
    "}\n",
    "table_fruits = pd.DataFrame(dict_fruits)\n",
    "print(table_fruits)"
   ]
  },
  {
   "cell_type": "code",
   "execution_count": 136,
   "id": "341b38ee-17b7-4d82-850a-0f01dfda4480",
   "metadata": {},
   "outputs": [
    {
     "name": "stdout",
     "output_type": "stream",
     "text": [
      "  color_id color_name\n",
      "0       C1        Red\n",
      "1       C2     Purple\n",
      "2       C3     Yellow\n"
     ]
    }
   ],
   "source": [
    "# Create table for examples\n",
    "dict_colors = {\n",
    "    'color_id':['C1', 'C2', 'C3'],\n",
    "    'color_name':['Red', 'Purple', 'Yellow'],\n",
    "}\n",
    "table_colors = pd.DataFrame(dict_colors)\n",
    "print(table_colors)"
   ]
  },
  {
   "cell_type": "code",
   "execution_count": 137,
   "id": "9241e6f4-eb39-4c3d-8700-a173e4be58e1",
   "metadata": {},
   "outputs": [
    {
     "name": "stdout",
     "output_type": "stream",
     "text": [
      "  fruit_id  fruit_name color_id color_name\n",
      "0       F1  Strawberry       C1        Red\n",
      "1       F2      Cherry       C1        Red\n",
      "2       F3      Banana       C3     Yellow\n"
     ]
    }
   ],
   "source": [
    "new_df = pd.merge(\n",
    "    table_fruits,\n",
    "    table_colors,\n",
    "    how=\"inner\",\n",
    "    left_on=\"color_id\",  # Foreign key.  The \"many\"\n",
    "    right_on=\"color_id\",  # Primary key.  The \"one\"\n",
    "    validate=\"many_to_one\"  # Check to make sure primary key values are unique (never repeat)\n",
    ")\n",
    "print(new_df)"
   ]
  },
  {
   "cell_type": "code",
   "execution_count": 138,
   "id": "f14a9a28-c8ae-4488-a605-fdabb3b66963",
   "metadata": {},
   "outputs": [
    {
     "name": "stdout",
     "output_type": "stream",
     "text": [
      "  color_id color_name fruit_id  fruit_name\n",
      "0       C1        Red       F1  Strawberry\n",
      "1       C1        Red       F2      Cherry\n",
      "2       C3     Yellow       F3      Banana\n"
     ]
    }
   ],
   "source": [
    "# Switch left and right tables.  Becomes \"one_to_many\".\n",
    "# New tables are the same, but column order changes\n",
    "\n",
    "new_df = pd.merge(\n",
    "    table_colors,\n",
    "    table_fruits,\n",
    "    how=\"inner\",\n",
    "    left_on=\"color_id\",  # Primary key.  The \"one\"\n",
    "    right_on=\"color_id\",  # Foreign key.  The \"many\"\n",
    "    validate=\"one_to_many\"  # Becomes \"one_to_many\".\n",
    ")\n",
    "print(new_df)"
   ]
  },
  {
   "cell_type": "markdown",
   "id": "262ae0eb-05a5-442c-8b7e-856e9d9b500c",
   "metadata": {},
   "source": [
    "**Left Join**"
   ]
  },
  {
   "cell_type": "code",
   "execution_count": 139,
   "id": "e893eda7-4050-4517-a786-9295d3f69fc2",
   "metadata": {},
   "outputs": [
    {
     "name": "stdout",
     "output_type": "stream",
     "text": [
      "  fruit_id  fruit_name color_id color_name\n",
      "0       F1  Strawberry       C1        Red\n",
      "1       F2      Cherry       C1        Red\n",
      "2       F3      Banana       C3     Yellow\n",
      "3       F4   Blueberry       C5        NaN\n"
     ]
    }
   ],
   "source": [
    "new_df = pd.merge(\n",
    "    table_fruits,\n",
    "    table_colors,\n",
    "    how=\"left\",\n",
    "    left_on=\"color_id\",  # Foreign key.  The \"many\"\n",
    "    right_on=\"color_id\",  # Primary key.  The \"one\"\n",
    "    validate=\"many_to_one\"  # Check to make sure primary key values are unique (never repeat)\n",
    ")\n",
    "print(new_df)"
   ]
  },
  {
   "cell_type": "code",
   "execution_count": 140,
   "id": "d84b7910-7de9-4250-9643-3d70b8797def",
   "metadata": {},
   "outputs": [
    {
     "name": "stdout",
     "output_type": "stream",
     "text": [
      "  color_id color_name fruit_id  fruit_name\n",
      "0       C1        Red       F1  Strawberry\n",
      "1       C1        Red       F2      Cherry\n",
      "2       C2     Purple      NaN         NaN\n",
      "3       C3     Yellow       F3      Banana\n"
     ]
    }
   ],
   "source": [
    "# Switch left and right tables.  Becomes \"one_to_many\".\n",
    "# New tables are NOT the same.\n",
    "\n",
    "new_df = pd.merge(\n",
    "    table_colors,\n",
    "    table_fruits,\n",
    "    how=\"left\",\n",
    "    left_on=\"color_id\",  # Primary key.  The \"one\"\n",
    "    right_on=\"color_id\",  # Foreign key.  The \"many\"\n",
    "    validate=\"one_to_many\"  # Becomes \"one_to_many\".\n",
    ")\n",
    "print(new_df)"
   ]
  },
  {
   "cell_type": "markdown",
   "id": "e3657972-5a5b-4cf5-b7ff-5782bfc7de38",
   "metadata": {},
   "source": [
    "**Right Join**"
   ]
  },
  {
   "cell_type": "code",
   "execution_count": 141,
   "id": "9ade01c9-0bf9-4fb3-a27c-289270bfb0db",
   "metadata": {},
   "outputs": [
    {
     "name": "stdout",
     "output_type": "stream",
     "text": [
      "  fruit_id  fruit_name color_id color_name\n",
      "0       F1  Strawberry       C1        Red\n",
      "1       F2      Cherry       C1        Red\n",
      "2      NaN         NaN       C2     Purple\n",
      "3       F3      Banana       C3     Yellow\n"
     ]
    }
   ],
   "source": [
    "new_df = pd.merge(\n",
    "    table_fruits,\n",
    "    table_colors,\n",
    "    how=\"right\",\n",
    "    left_on=\"color_id\",  # Foreign key.  The \"many\"\n",
    "    right_on=\"color_id\",  # Primary key.  The \"one\"\n",
    "    validate=\"many_to_one\"  # Check to make sure primary key values are unique (never repeat)\n",
    ")\n",
    "print(new_df)"
   ]
  },
  {
   "cell_type": "code",
   "execution_count": 142,
   "id": "c78bc2f8-b862-4762-9e2c-66eb8a8b3586",
   "metadata": {},
   "outputs": [
    {
     "name": "stdout",
     "output_type": "stream",
     "text": [
      "  color_id color_name fruit_id  fruit_name\n",
      "0       C1        Red       F1  Strawberry\n",
      "1       C1        Red       F2      Cherry\n",
      "2       C3     Yellow       F3      Banana\n",
      "3       C5        NaN       F4   Blueberry\n"
     ]
    }
   ],
   "source": [
    "# Switch left and right tables.  Becomes \"one_to_many\".\n",
    "# New tables are NOT the same.\n",
    "\n",
    "new_df = pd.merge(\n",
    "    table_colors,\n",
    "    table_fruits,\n",
    "    how=\"right\",\n",
    "    left_on=\"color_id\",  # Primary key.  The \"one\"\n",
    "    right_on=\"color_id\",  # Foreign key.  The \"many\"\n",
    "    validate=\"one_to_many\"  # Becomes \"one_to_many\".\n",
    ")\n",
    "print(new_df)"
   ]
  },
  {
   "cell_type": "markdown",
   "id": "5e470191-37ab-4ce2-b00f-85b13e432d7f",
   "metadata": {},
   "source": [
    "**Outer Join**"
   ]
  },
  {
   "cell_type": "code",
   "execution_count": 143,
   "id": "a65be6be-bd90-4427-b9b6-cf555c32c4b7",
   "metadata": {},
   "outputs": [
    {
     "name": "stdout",
     "output_type": "stream",
     "text": [
      "  fruit_id  fruit_name color_id color_name\n",
      "0       F1  Strawberry       C1        Red\n",
      "1       F2      Cherry       C1        Red\n",
      "2       F3      Banana       C3     Yellow\n",
      "3       F4   Blueberry       C5        NaN\n",
      "4      NaN         NaN       C2     Purple\n"
     ]
    }
   ],
   "source": [
    "new_df = pd.merge(\n",
    "    table_fruits,\n",
    "    table_colors,\n",
    "    how=\"outer\",\n",
    "    left_on=\"color_id\",  # Foreign key.  The \"many\"\n",
    "    right_on=\"color_id\",  # Primary key.  The \"one\"\n",
    "    validate=\"many_to_one\"  # Check to make sure primary key values are unique (never repeat)\n",
    ")\n",
    "print(new_df)"
   ]
  },
  {
   "cell_type": "code",
   "execution_count": 144,
   "id": "aa3e5e81-0533-41ed-af77-6844b133bb4d",
   "metadata": {},
   "outputs": [
    {
     "name": "stdout",
     "output_type": "stream",
     "text": [
      "  color_id color_name fruit_id  fruit_name\n",
      "0       C1        Red       F1  Strawberry\n",
      "1       C1        Red       F2      Cherry\n",
      "2       C2     Purple      NaN         NaN\n",
      "3       C3     Yellow       F3      Banana\n",
      "4       C5        NaN       F4   Blueberry\n"
     ]
    }
   ],
   "source": [
    "# Switch left and right tables.  Becomes \"one_to_many\".\n",
    "# New tables are the same, but column order and row order change\n",
    "\n",
    "new_df = pd.merge(\n",
    "    table_colors,\n",
    "    table_fruits,\n",
    "    how=\"outer\",\n",
    "    left_on=\"color_id\",  # Primary key.  The \"one\"\n",
    "    right_on=\"color_id\",  # Foreign key.  The \"many\"\n",
    "    validate=\"one_to_many\"  # Becomes \"one_to_many\".\n",
    ")\n",
    "print(new_df)"
   ]
  },
  {
   "cell_type": "markdown",
   "id": "04033926-44ce-4962-8c68-2ff782df38dc",
   "metadata": {},
   "source": [
    "**Cross Join**"
   ]
  },
  {
   "cell_type": "code",
   "execution_count": 145,
   "id": "b7113186-b8aa-48e8-8178-a6cf77275f17",
   "metadata": {},
   "outputs": [
    {
     "name": "stdout",
     "output_type": "stream",
     "text": [
      "   fruit_id  fruit_name color_id_x color_id_y color_name\n",
      "0        F1  Strawberry         C1         C1        Red\n",
      "1        F1  Strawberry         C1         C2     Purple\n",
      "2        F1  Strawberry         C1         C3     Yellow\n",
      "3        F2      Cherry         C1         C1        Red\n",
      "4        F2      Cherry         C1         C2     Purple\n",
      "5        F2      Cherry         C1         C3     Yellow\n",
      "6        F3      Banana         C3         C1        Red\n",
      "7        F3      Banana         C3         C2     Purple\n",
      "8        F3      Banana         C3         C3     Yellow\n",
      "9        F4   Blueberry         C5         C1        Red\n",
      "10       F4   Blueberry         C5         C2     Purple\n",
      "11       F4   Blueberry         C5         C3     Yellow\n"
     ]
    }
   ],
   "source": [
    "new_df = pd.merge(\n",
    "    table_fruits,\n",
    "    table_colors,\n",
    "    how=\"cross\"\n",
    ")\n",
    "print(new_df)"
   ]
  },
  {
   "cell_type": "markdown",
   "id": "32e8bf22-462c-4ab1-b971-7a9717210aae",
   "metadata": {},
   "source": [
    "---"
   ]
  },
  {
   "cell_type": "markdown",
   "id": "bb224f60-6af4-4138-808b-6e6580850e99",
   "metadata": {
    "tags": []
   },
   "source": [
    "## Filtering Joins\n",
    "- Filter rows.  We specify columns in two tables (we'll call them table_A and table_B).  If a row's value in a specified column in table_A matches a value in a specified column in table_B, then that row in table_A is included in a new data frame (or excluded depending on the function).\n",
    "- The reason this is called a \"join\" is that the columns we are checking are the primary and foreign keys columns.  However, we are not actually performing any joins.  It is more like a normal row filter than an SQL join.\n",
    "- There are also **set joins**, which break a complex filter into simpler pieces.  However, these are rarely used and we won't cover them."
   ]
  },
  {
   "cell_type": "markdown",
   "id": "7ad8d926-9b23-4e3d-be02-f6a33d2a5972",
   "metadata": {},
   "source": [
    "---"
   ]
  },
  {
   "cell_type": "markdown",
   "id": "8ca0733b-7730-4963-86cc-8ba791768243",
   "metadata": {
    "tags": []
   },
   "source": [
    "**EXAMPLES**"
   ]
  },
  {
   "cell_type": "code",
   "execution_count": 146,
   "id": "5a96d95d-3b11-4852-8b51-4333207e4a92",
   "metadata": {},
   "outputs": [
    {
     "name": "stdout",
     "output_type": "stream",
     "text": [
      "  fruit_id  fruit_name color_id\n",
      "0       F1  Strawberry       C1\n",
      "1       F2      Cherry       C1\n",
      "2       F3      Banana       C3\n",
      "3       F4   Blueberry       C5\n"
     ]
    }
   ],
   "source": [
    "# Create table for examples\n",
    "dict_fruits = {\n",
    "    'fruit_id':['F1', 'F2', 'F3', 'F4'],\n",
    "    'fruit_name':['Strawberry', 'Cherry', 'Banana', 'Blueberry'],\n",
    "    'color_id':['C1', 'C1', 'C3', 'C5'] \n",
    "}\n",
    "table_fruits = pd.DataFrame(dict_fruits)\n",
    "print(table_fruits)"
   ]
  },
  {
   "cell_type": "code",
   "execution_count": 147,
   "id": "eca82911-c0f7-4123-9ec5-29143d9f04f4",
   "metadata": {},
   "outputs": [
    {
     "name": "stdout",
     "output_type": "stream",
     "text": [
      "  color_id color_name\n",
      "0       C1        Red\n",
      "1       C2     Purple\n",
      "2       C3     Yellow\n"
     ]
    }
   ],
   "source": [
    "# Create table for examples\n",
    "dict_colors = {\n",
    "    'color_id':['C1', 'C2', 'C3'],\n",
    "    'color_name':['Red', 'Purple', 'Yellow'],\n",
    "}\n",
    "table_colors = pd.DataFrame(dict_colors)\n",
    "print(table_colors)"
   ]
  },
  {
   "cell_type": "code",
   "execution_count": 148,
   "id": "e548e8d1-862f-41d2-a6af-1fd94eb18ae3",
   "metadata": {},
   "outputs": [
    {
     "name": "stdout",
     "output_type": "stream",
     "text": [
      "  fruit_id  fruit_name color_id\n",
      "0       F1  Strawberry       C1\n",
      "1       F2      Cherry       C1\n",
      "2       F3      Banana       C3\n"
     ]
    }
   ],
   "source": [
    "print(table_fruits[table_fruits.color_id.isin(table_colors.color_id)])"
   ]
  },
  {
   "cell_type": "code",
   "execution_count": 149,
   "id": "ef7decf4-99ba-474a-9cbe-cfabfec05a61",
   "metadata": {},
   "outputs": [
    {
     "name": "stdout",
     "output_type": "stream",
     "text": [
      "  color_id color_name\n",
      "0       C1        Red\n",
      "2       C3     Yellow\n"
     ]
    }
   ],
   "source": [
    "print(table_colors[table_colors.color_id.isin(table_fruits.color_id)])"
   ]
  },
  {
   "cell_type": "markdown",
   "id": "750d67a5-1605-4db8-8063-bafa4952afa6",
   "metadata": {},
   "source": [
    "---"
   ]
  },
  {
   "cell_type": "markdown",
   "id": "a17395a9-604e-4d04-9f4b-830eced942c5",
   "metadata": {},
   "source": [
    "## Group & Summarize\n",
    "- Statistics can calculated for columns, data frames, or grouped columns or tables\n",
    "- **Group**--bunch of rows that share the same cell value for the specified column(s)\n",
    "    - E.g. if the variable in the column was \"color\", cells would be grouped into \"red\", \"orange\", \"yellow\"... and \"purple\" groups\n",
    "- When groups are created, functions that would normally operate on the entire column are applied \"group-wise\"\n",
    "    - E.g. if we group by color and then take the mean of a numerical column we get a different mean for each group\n",
    "- The group-wise calculation of statistics is called **split-apply-combine**\n",
    "    1. Split the data into groups based on some criteria\n",
    "    1. Apply a function to each group independently\n",
    "    1. Combine the results into a data structure\n",
    "\n",
    "![](images/groupby.png)"
   ]
  },
  {
   "cell_type": "markdown",
   "id": "6e8c2363-c1c1-4474-9d1e-5a2443230ffe",
   "metadata": {},
   "source": [
    "---"
   ]
  },
  {
   "cell_type": "markdown",
   "id": "f6f43d04-12bb-449b-87c9-02338b6b6254",
   "metadata": {},
   "source": [
    "Code | Use\n",
    "--- | ---\n",
    "`DF.shape` | Returns tuple in form `(# Rows, # Columns)`.\n",
    "`DF.columns` | Returns column names\n",
    "`DF.index` | Returns row indices\n",
    "`DF.dtypes` | Returns data types of columns\n",
    "`DF.info()` | Prints information on count of rows, count of columns, column names, column data types, and count of non-null cell values in each column.\n",
    "`DF.describe()` | Prints descriptive statistics (count, mean, std, min, 25%, 50%, 75%, max) for numeric columns in data frame.  Non-numeric columns are ignored.\n",
    "`DF[\"<COLUMN>\"].<STATISTIC>()` | Returns summary statistic value.  E.g. `.mean()`, `.median()`, `.mode()[0]`, `.min()`, `.max()`, `.sum()`, `.std()`, `.mad()` (mean absolute deviation), and `.quantile([0.25, 0.75])`.  By default, functions ignore null values.\n",
    "`DF.groupby(\"<COLUMN>\")[\"<COLUMN>\"].<STATISTIC>()` | Returns summary statistic value for groups in specified column(s).  We can create groups using multiple columns by passing a list of columns.  We can calculate the statistic for multiple columns by passing a list of columns. Note that there are a few ways to select and group columns."
   ]
  },
  {
   "cell_type": "markdown",
   "id": "d0eae2eb-b845-4ed1-a6bb-8d61ec48eeb1",
   "metadata": {},
   "source": [
    "---"
   ]
  },
  {
   "cell_type": "markdown",
   "id": "1f1ac817-2ca0-4ea5-bbac-dc2e267cae52",
   "metadata": {},
   "source": [
    "**EXAMPLES**"
   ]
  },
  {
   "cell_type": "markdown",
   "id": "cb258834-c0c2-43cb-b62b-3fa7e25d29fd",
   "metadata": {},
   "source": [
    "**`.shape`, `columns`, `.index`, and `.dtypes` Attributes**"
   ]
  },
  {
   "cell_type": "code",
   "execution_count": 150,
   "id": "4e49090a-5f76-4ea6-b8d6-94ed983719d4",
   "metadata": {},
   "outputs": [
    {
     "name": "stdout",
     "output_type": "stream",
     "text": [
      "(4, 2)\n",
      "Index(['color', 'values'], dtype='object')\n",
      "RangeIndex(start=0, stop=4, step=1)\n",
      "color      object\n",
      "values    float64\n",
      "dtype: object\n"
     ]
    }
   ],
   "source": [
    "my_dict = {\n",
    "    'color': ['Blue', 'Blue', 'Purple', 'Purple'],\n",
    "    'values': [None, 2, 3, 4],\n",
    "}\n",
    "df = pd.DataFrame(my_dict)\n",
    "print(df.shape)\n",
    "print(df.columns)\n",
    "print(df.index)\n",
    "print(df.dtypes)"
   ]
  },
  {
   "cell_type": "markdown",
   "id": "6a5b2148-510e-40d0-8738-89255c1b56af",
   "metadata": {},
   "source": [
    "**`.info()`**"
   ]
  },
  {
   "cell_type": "code",
   "execution_count": 151,
   "id": "ab8e119f-dad8-4ce8-bf16-4962eb1a0354",
   "metadata": {},
   "outputs": [
    {
     "name": "stdout",
     "output_type": "stream",
     "text": [
      "<class 'pandas.core.frame.DataFrame'>\n",
      "RangeIndex: 4 entries, 0 to 3\n",
      "Data columns (total 2 columns):\n",
      " #   Column  Non-Null Count  Dtype  \n",
      "---  ------  --------------  -----  \n",
      " 0   color   4 non-null      object \n",
      " 1   values  3 non-null      float64\n",
      "dtypes: float64(1), object(1)\n",
      "memory usage: 192.0+ bytes\n",
      "None\n"
     ]
    }
   ],
   "source": [
    "print(df.info())"
   ]
  },
  {
   "cell_type": "markdown",
   "id": "61ebf34a-e146-4317-afb2-c364a7c0d9ed",
   "metadata": {},
   "source": [
    "**`.describe()`**"
   ]
  },
  {
   "cell_type": "code",
   "execution_count": 152,
   "id": "aeb5c9a8-4576-4064-a8d0-805695967dbf",
   "metadata": {},
   "outputs": [
    {
     "name": "stdout",
     "output_type": "stream",
     "text": [
      "       values\n",
      "count     3.0\n",
      "mean      3.0\n",
      "std       1.0\n",
      "min       2.0\n",
      "25%       2.5\n",
      "50%       3.0\n",
      "75%       3.5\n",
      "max       4.0\n"
     ]
    }
   ],
   "source": [
    "print(df.describe())"
   ]
  },
  {
   "cell_type": "markdown",
   "id": "92ede32f-8700-4f1c-9cde-b5cd4695dd2b",
   "metadata": {},
   "source": [
    "**Summary Statistic**"
   ]
  },
  {
   "cell_type": "code",
   "execution_count": 153,
   "id": "4a0ac6e2-688c-4fc7-b7b4-eb63f69d2981",
   "metadata": {},
   "outputs": [
    {
     "name": "stdout",
     "output_type": "stream",
     "text": [
      "3.0\n"
     ]
    }
   ],
   "source": [
    "print(df['values'].mean())"
   ]
  },
  {
   "cell_type": "markdown",
   "id": "239862d2-2762-4009-804a-28bc7ea7af22",
   "metadata": {},
   "source": [
    "**Group By Summary Statistic**"
   ]
  },
  {
   "cell_type": "code",
   "execution_count": 154,
   "id": "3a12bf95-9839-4bfd-a669-eb72ab73973c",
   "metadata": {},
   "outputs": [
    {
     "name": "stdout",
     "output_type": "stream",
     "text": [
      "color\n",
      "Blue      2.0\n",
      "Purple    3.5\n",
      "Name: values, dtype: float64\n"
     ]
    }
   ],
   "source": [
    "my_dict = {\n",
    "    'color': ['Blue', 'Blue', 'Purple', 'Purple'],\n",
    "    'values': [None, 2, 3, 4],\n",
    "}\n",
    "df = pd.DataFrame(my_dict)\n",
    "print(df.groupby('color')['values'].mean())  # Excludes null value"
   ]
  },
  {
   "cell_type": "code",
   "execution_count": 155,
   "id": "1b90e6e9-8ed6-4199-a0d9-2b345c574c49",
   "metadata": {},
   "outputs": [
    {
     "name": "stdout",
     "output_type": "stream",
     "text": [
      "    color  shade  values_1  values_2\n",
      "0    Blue   Dark       NaN         5\n",
      "1    Blue  Light       2.0         6\n",
      "2  Purple   Dark       3.0         7\n",
      "3  Purple  Light       4.0         8\n",
      "              values_1  values_2\n",
      "color  shade                    \n",
      "Blue   Dark        NaN       5.0\n",
      "       Light       2.0       6.0\n",
      "Purple Dark        3.0       7.0\n",
      "       Light       4.0       8.0\n"
     ]
    }
   ],
   "source": [
    "my_dict = {\n",
    "    'color': ['Blue', 'Blue', 'Purple', 'Purple'],\n",
    "    'shade': ['Dark', 'Light', 'Dark', 'Light'],\n",
    "    'values_1': [None, 2, 3, 4],\n",
    "    'values_2': [5, 6, 7, 8]\n",
    "}\n",
    "df = pd.DataFrame(my_dict)\n",
    "print(df)\n",
    "print(df.groupby(['color', 'shade'])[['values_1', 'values_2']].mean()) "
   ]
  },
  {
   "cell_type": "markdown",
   "id": "893b1f65-eb8c-4b95-9007-30e6250423e8",
   "metadata": {},
   "source": [
    "---"
   ]
  },
  {
   "cell_type": "markdown",
   "id": "dae66842-3748-483e-90f7-a8b08f4b2dcc",
   "metadata": {
    "tags": []
   },
   "source": [
    "## Count & Frequency Tables\n",
    "\n",
    "- Both count and value counts can be used to create a frequency table for a single categorcal variable"
   ]
  },
  {
   "cell_type": "markdown",
   "id": "7ffeb63b-0964-4fa3-a599-8b945f3e2606",
   "metadata": {},
   "source": [
    "---"
   ]
  },
  {
   "cell_type": "markdown",
   "id": "782a631e-3f35-4bc4-bed2-aa7fc1a2dcba",
   "metadata": {
    "tags": []
   },
   "source": [
    "Code | Use\n",
    "--- | ---\n",
    "`DF.count()` |  Returns a series with row labels representing column names and value representing the count of the non-null cells within each column.  I.e. count cells in columns.  Can also use count method on a column.\n",
    "`DF.value_counts()` | Returns a series with count of unique rows in data frame.  I.e. count unique records.  Argument `subset=` accepts column(s) to use to decide if a record is unique or not.  Argument `normalize=<BOOLEAN>` returns relative frequencies (proportions).  Argument `dropna=<BOOBLEAN>` determines if rows with null values are counted. "
   ]
  },
  {
   "cell_type": "markdown",
   "id": "662bcb5e-aa73-477c-b342-36c0868a0f0a",
   "metadata": {},
   "source": [
    "---"
   ]
  },
  {
   "cell_type": "markdown",
   "id": "1931d27b-d741-460c-b005-32e21255476a",
   "metadata": {},
   "source": [
    "**EXAMPLES**"
   ]
  },
  {
   "cell_type": "markdown",
   "id": "3f45de0e-c1b6-4432-a12e-bb3cdd9877b3",
   "metadata": {},
   "source": [
    "**`.count()`**"
   ]
  },
  {
   "cell_type": "code",
   "execution_count": 156,
   "id": "d220fc74-3ea1-4914-a453-23fc4d82d095",
   "metadata": {},
   "outputs": [
    {
     "name": "stdout",
     "output_type": "stream",
     "text": [
      "    color  values\n",
      "0    Blue     NaN\n",
      "1    Blue     2.0\n",
      "2  Purple     3.0\n",
      "3  Purple     4.0\n"
     ]
    }
   ],
   "source": [
    "my_dict = {\n",
    "    'color': ['Blue', 'Blue', 'Purple', 'Purple'],\n",
    "    'values': [None, 2, 3, 4],\n",
    "}\n",
    "df = pd.DataFrame(my_dict)\n",
    "print(df)"
   ]
  },
  {
   "cell_type": "code",
   "execution_count": 157,
   "id": "a0eb74e9-394d-41ff-a156-ba6c48fdd927",
   "metadata": {},
   "outputs": [
    {
     "name": "stdout",
     "output_type": "stream",
     "text": [
      "<class 'pandas.core.series.Series'>\n",
      "color     4\n",
      "values    3\n",
      "dtype: int64\n"
     ]
    }
   ],
   "source": [
    "counts = df.count()  # Excludes null from the count\n",
    "print(type(counts))\n",
    "print(counts)"
   ]
  },
  {
   "cell_type": "markdown",
   "id": "982081ca-464b-4968-8662-8d4329808762",
   "metadata": {},
   "source": [
    "**`.values_counts()`**"
   ]
  },
  {
   "cell_type": "code",
   "execution_count": 158,
   "id": "893614fa-2520-4a9b-bc75-e8451d6fed81",
   "metadata": {},
   "outputs": [
    {
     "name": "stdout",
     "output_type": "stream",
     "text": [
      "    color  values\n",
      "0    Blue     NaN\n",
      "1    Blue     2.0\n",
      "2  Purple     3.0\n",
      "3  Purple     4.0\n"
     ]
    }
   ],
   "source": [
    "my_dict = {\n",
    "    'color': ['Blue', 'Blue', 'Purple', 'Purple'],\n",
    "    'values': [None, 2, 3, 4],\n",
    "}\n",
    "df = pd.DataFrame(my_dict)\n",
    "print(df)"
   ]
  },
  {
   "cell_type": "code",
   "execution_count": 159,
   "id": "b8bc7fb6-ed6f-4018-9a3f-5d20d064d431",
   "metadata": {},
   "outputs": [
    {
     "name": "stdout",
     "output_type": "stream",
     "text": [
      "<class 'pandas.core.series.Series'>\n",
      "color\n",
      "Blue      2\n",
      "Purple    2\n",
      "dtype: int64\n"
     ]
    }
   ],
   "source": [
    "value_counts = df.value_counts(subset='color')  # Looks in color column to decide if rows are unique\n",
    "print(type(value_counts))\n",
    "print(value_counts)"
   ]
  },
  {
   "cell_type": "code",
   "execution_count": 160,
   "id": "57e38555-fa8b-41b2-aedf-1458898941e6",
   "metadata": {},
   "outputs": [
    {
     "name": "stdout",
     "output_type": "stream",
     "text": [
      "<class 'pandas.core.series.Series'>\n",
      "color   values\n",
      "Blue    2.0       1\n",
      "Purple  3.0       1\n",
      "        4.0       1\n",
      "dtype: int64\n"
     ]
    }
   ],
   "source": [
    "value_counts = df.value_counts()  # Looks in all columns to decide if rows are unique\n",
    "print(type(value_counts))\n",
    "print(value_counts)  # Excludes rows with null values from count"
   ]
  },
  {
   "cell_type": "code",
   "execution_count": 161,
   "id": "e69720ae-9b67-4a29-913d-8d1c9d004e55",
   "metadata": {},
   "outputs": [
    {
     "name": "stdout",
     "output_type": "stream",
     "text": [
      "<class 'pandas.core.series.Series'>\n",
      "color\n",
      "Blue      0.5\n",
      "Purple    0.5\n",
      "dtype: float64\n"
     ]
    }
   ],
   "source": [
    "value_counts = df.value_counts(subset=\"color\", normalize=True)  # Normalize\n",
    "print(type(value_counts))\n",
    "print(value_counts)  # Excludes rows with null values from count"
   ]
  },
  {
   "cell_type": "markdown",
   "id": "a39d25e0-cb13-44ef-8b44-91796f9f1510",
   "metadata": {},
   "source": [
    "**Relative Frequency Table with Count**"
   ]
  },
  {
   "cell_type": "code",
   "execution_count": 162,
   "id": "624b9b8c-aead-4893-8ea9-39ca9877f499",
   "metadata": {},
   "outputs": [
    {
     "name": "stdout",
     "output_type": "stream",
     "text": [
      "color\n",
      "Blue      0.5\n",
      "Purple    0.5\n",
      "Name: color, dtype: float64\n"
     ]
    }
   ],
   "source": [
    "sum_colors = df[\"color\"].count().sum()\n",
    "relative_frequencies = df.groupby(\"color\")[\"color\"].count() / sum_colors\n",
    "print(relative_frequencies)"
   ]
  },
  {
   "cell_type": "markdown",
   "id": "d50eeae4-87d2-4ea1-9dc0-f1c0fe45f9c1",
   "metadata": {},
   "source": [
    "**Relative Frequency Table with Value Count**"
   ]
  },
  {
   "cell_type": "code",
   "execution_count": 163,
   "id": "831deb6b-f8bd-4c0e-8a4d-291bc5a48b6c",
   "metadata": {},
   "outputs": [
    {
     "name": "stdout",
     "output_type": "stream",
     "text": [
      "color\n",
      "Blue      0.5\n",
      "Purple    0.5\n",
      "dtype: float64\n"
     ]
    }
   ],
   "source": [
    "relative_frequencies = df.value_counts(subset = \"color\", normalize=\"all\")\n",
    "print(relative_frequencies)"
   ]
  },
  {
   "cell_type": "markdown",
   "id": "81dc32de-c3b5-4c81-a79c-9e2601adc513",
   "metadata": {},
   "source": [
    "---"
   ]
  },
  {
   "cell_type": "markdown",
   "id": "705c21d3-eab6-47fe-b41c-470b9d6af7c7",
   "metadata": {
    "tags": []
   },
   "source": [
    "## Cut & Contingency Tables\n",
    "\n",
    "- Cut allows us to turn a continuous variable into a categorical variable\n",
    "- Crosstab allows us to to create a contingency table from 2 categorical variables"
   ]
  },
  {
   "cell_type": "markdown",
   "id": "3bc2f538-fe68-403b-be8d-23c03c21afc3",
   "metadata": {},
   "source": [
    "---"
   ]
  },
  {
   "cell_type": "markdown",
   "id": "954a1f53-b80b-4e51-b0e9-ead3bbf324e4",
   "metadata": {},
   "source": [
    "Code | Use\n",
    "--- | ---\n",
    "`pd.cut(DF[\"<COLUMN>\"])` | Returns series with categorical data.  First argument is column.  Second argument is either the number of equally spaced bins to create or a list of bin cut points.   Often used to turn continuous variables into discrete or categorical variables.  Similar to histograms.  Because returned series is the same length as the data frame, it can be used to modify an existing column or create a new column.  See documentation for details.\n",
    "`pdcrosstab(DF[\"<COLUMN>\"], DF[\"<COLUMN>\")` | Returns new data frame  organized as a contingency table.  Argument `normalize=` allows us to normalize by dividing by sum of all values, sum of rows, or sum of columns."
   ]
  },
  {
   "cell_type": "markdown",
   "id": "4bb698b4-6e77-480e-98fb-98634cad4c13",
   "metadata": {},
   "source": [
    "---"
   ]
  },
  {
   "cell_type": "markdown",
   "id": "e687e080-0bb4-458f-b03c-7211545da84e",
   "metadata": {},
   "source": [
    "**EXAMPLES**"
   ]
  },
  {
   "cell_type": "markdown",
   "id": "fb9ffe82-9252-4de7-b748-c5898bf29380",
   "metadata": {},
   "source": [
    "**`cut()`**\n",
    "\n",
    "- Output in form:  `integer index      (bin lower bound, bin upper bound]`\n",
    "- The parenthesis indicates an exclusive bound while the square bracket indicates an inclusive bound"
   ]
  },
  {
   "cell_type": "code",
   "execution_count": 164,
   "id": "e8c91540-717e-43e1-82a9-a8b2f98f0c67",
   "metadata": {},
   "outputs": [
    {
     "name": "stdout",
     "output_type": "stream",
     "text": [
      "<class 'pandas.core.series.Series'>\n",
      "0      (73.5, 92.0]\n",
      "1      (36.5, 55.0]\n",
      "2    (17.926, 36.5]\n",
      "3    (17.926, 36.5]\n",
      "4      (73.5, 92.0]\n",
      "5      (36.5, 55.0]\n",
      "dtype: category\n",
      "Categories (4, interval[float64, right]): [(17.926, 36.5] < (36.5, 55.0] < (55.0, 73.5] < (73.5, 92.0]]\n"
     ]
    }
   ],
   "source": [
    "# Specify number of bins.\n",
    "# Notice that the lowest bin starts below the lowest number.\n",
    "# This is because the lower bounds is exclusive and pandas wants to ensure all values are binned\n",
    "s = pd.Series([77, 53, 29, 18, 92, 48])  # pretend these are ages\n",
    "new_series = (pd.cut(s, 4))  # 4 bins.\n",
    "print(type(new_series))\n",
    "print(new_series)"
   ]
  },
  {
   "cell_type": "code",
   "execution_count": 165,
   "id": "2217340e-3119-4968-a8e7-3b7ec576ada4",
   "metadata": {},
   "outputs": [
    {
     "name": "stdout",
     "output_type": "stream",
     "text": [
      "0    (50.0, 100.0]\n",
      "1    (50.0, 100.0]\n",
      "2     (18.0, 30.0]\n",
      "3              NaN\n",
      "4    (50.0, 100.0]\n",
      "5     (30.0, 50.0]\n",
      "dtype: category\n",
      "Categories (3, interval[int64, right]): [(18, 30] < (30, 50] < (50, 100]]\n"
     ]
    }
   ],
   "source": [
    "# Notice that the 18 is NaN.  This is because the lower bound is exclusive.\n",
    "s = pd.Series([77, 53, 29, 18, 92, 48])  # pretend these are ages\n",
    "new_series = pd.cut(s, [18, 30, 50, 100])  # 4 cut points = 3 user specified bins\n",
    "print(new_series)"
   ]
  },
  {
   "cell_type": "code",
   "execution_count": 166,
   "id": "c3f69a53-c534-4c6c-97ee-44749f64df5f",
   "metadata": {},
   "outputs": [
    {
     "name": "stdout",
     "output_type": "stream",
     "text": [
      "      name  age age_categories\n",
      "0  Chapman   77  (50.0, 100.0]\n",
      "1   Cleese   53  (50.0, 100.0]\n",
      "2     Idle   29   (18.0, 30.0]\n",
      "3  Gilliam   18            NaN\n",
      "4    Jones   92  (50.0, 100.0]\n",
      "5    Palin   48   (30.0, 50.0]\n"
     ]
    }
   ],
   "source": [
    "my_dict = {\n",
    "    'name': ['Chapman', 'Cleese', 'Idle', 'Gilliam', 'Jones', 'Palin'],\n",
    "    'age': [77, 53, 29, 18, 92, 48]\n",
    "}\n",
    "df = pd.DataFrame(my_dict)\n",
    "new_series = pd.cut(df['age'], [18, 30, 50, 100])  # Categorize age, returning  new series\n",
    "df.insert(2, \"age_categories\", new_series)\n",
    "print(df)"
   ]
  },
  {
   "cell_type": "markdown",
   "id": "df200aaf-3b95-4c2a-b55a-f4b0673b26b0",
   "metadata": {},
   "source": [
    "**`crosstab()`**"
   ]
  },
  {
   "cell_type": "code",
   "execution_count": 167,
   "id": "8ae6494e-c0ef-4c1f-898e-279e22698db2",
   "metadata": {},
   "outputs": [
    {
     "name": "stdout",
     "output_type": "stream",
     "text": [
      "<class 'pandas.core.frame.DataFrame'>\n",
      "shade   Dark  Light\n",
      "color              \n",
      "Blue       0      1\n",
      "Purple     1      2\n"
     ]
    }
   ],
   "source": [
    "my_dict = {\n",
    "    'color': ['Blue', 'Blue', 'Purple', 'Purple', 'Purple'],\n",
    "    'shade': [None, 'Light', 'Dark', 'Light', 'Light'],\n",
    "}\n",
    "df = pd.DataFrame(my_dict)\n",
    "contingency_table = pd.crosstab(df[\"color\"], df[\"shade\"])\n",
    "print(type(contingency_table))\n",
    "print(contingency_table)"
   ]
  },
  {
   "cell_type": "code",
   "execution_count": 168,
   "id": "90735d56-797d-44d1-8325-edbe68571af7",
   "metadata": {},
   "outputs": [
    {
     "name": "stdout",
     "output_type": "stream",
     "text": [
      "<class 'pandas.core.frame.DataFrame'>\n",
      "shade   Dark  Light\n",
      "color              \n",
      "Blue    0.00   0.25\n",
      "Purple  0.25   0.50\n"
     ]
    }
   ],
   "source": [
    "contingency_table = pd.crosstab(df[\"color\"], df[\"shade\"], normalize='all' )\n",
    "print(type(contingency_table))\n",
    "print(contingency_table)  # Sums to one when all cells added together"
   ]
  },
  {
   "cell_type": "code",
   "execution_count": 169,
   "id": "3bff24bf-efa1-4df7-a48e-6ae06c1e87ad",
   "metadata": {},
   "outputs": [
    {
     "name": "stdout",
     "output_type": "stream",
     "text": [
      "<class 'pandas.core.frame.DataFrame'>\n",
      "shade       Dark     Light\n",
      "color                     \n",
      "Blue    0.000000  1.000000\n",
      "Purple  0.333333  0.666667\n"
     ]
    }
   ],
   "source": [
    "contingency_table = pd.crosstab(df[\"color\"], df[\"shade\"], normalize='index' )\n",
    "print(type(contingency_table))\n",
    "print(contingency_table)  # Sums to 1 going across rows"
   ]
  },
  {
   "cell_type": "code",
   "execution_count": 170,
   "id": "fd1034f4-a14d-4a0b-9e76-40f2386109f3",
   "metadata": {},
   "outputs": [
    {
     "name": "stdout",
     "output_type": "stream",
     "text": [
      "<class 'pandas.core.frame.DataFrame'>\n",
      "shade   Dark     Light\n",
      "color                 \n",
      "Blue     0.0  0.333333\n",
      "Purple   1.0  0.666667\n"
     ]
    }
   ],
   "source": [
    "contingency_table = pd.crosstab(df[\"color\"], df[\"shade\"], normalize='columns' )\n",
    "print(type(contingency_table))  \n",
    "print(contingency_table)  # Sums to 1 going down columns"
   ]
  },
  {
   "cell_type": "markdown",
   "id": "f4af395a-e201-4297-93a9-580b28d6a84a",
   "metadata": {},
   "source": [
    "**Contingency Table Vs Multivariate Frequency Table**\n",
    "- Below we use value counts to display similar info\n",
    "- Pro = \"tidy\"\n",
    "- Con = less flexible when it comes to normalizing"
   ]
  },
  {
   "cell_type": "code",
   "execution_count": 171,
   "id": "c0a3adbe-e456-4a21-b066-9396e84e13fb",
   "metadata": {},
   "outputs": [
    {
     "name": "stdout",
     "output_type": "stream",
     "text": [
      "<class 'pandas.core.series.Series'>\n",
      "color   shade\n",
      "Purple  Light    2\n",
      "Blue    Light    1\n",
      "Purple  Dark     1\n",
      "dtype: int64\n"
     ]
    }
   ],
   "source": [
    "frequency_table = df.value_counts(subset=[\"color\",\"shade\"])\n",
    "print(type(frequency_table))\n",
    "print(frequency_table)"
   ]
  },
  {
   "cell_type": "markdown",
   "id": "43b2450c-b9d5-40ea-8766-f7e2b3aeb17a",
   "metadata": {},
   "source": [
    "---"
   ]
  },
  {
   "cell_type": "markdown",
   "id": "bc97c0a9-1c0e-4380-aa4f-45bf65444a1b",
   "metadata": {
    "tags": []
   },
   "source": [
    "## Plot\n",
    "\n",
    "- Python has many visualization libraries including: Matplotlib, Seaborn, Plotly, Altair, Bokeh, and Plotnine.  Pandas also has basic plotting capabilities that is built on top of Matplotlib.  Plotting in pandas is limited, but simple.  For this reason plotting in pandas can be good for exploratory data analysis."
   ]
  },
  {
   "cell_type": "markdown",
   "id": "006a5521-4172-43b9-92b3-54b56124c665",
   "metadata": {},
   "source": [
    "---"
   ]
  },
  {
   "cell_type": "markdown",
   "id": "300624f7-7ac7-4423-8513-7afa281594a1",
   "metadata": {},
   "source": [
    "Code | Use\n",
    "--- | ---\n",
    "`import matplotlib.pyplot as plt` | Import Matplotlib plotting submodule\n",
    "`plt.show()` | After plot is created with pandas methods this function displays plot\n",
    "`import seaborn as sns` | Import Seaborn module.  Seaborn is not used by pandas, but contains good example datasets to use.\n",
    "`sns.load_dataset(\"<DATASET>\")`  | Load example data frame"
   ]
  },
  {
   "cell_type": "markdown",
   "id": "5b648af8-b466-4c8f-a707-671f781c1c41",
   "metadata": {},
   "source": [
    "---"
   ]
  },
  {
   "cell_type": "markdown",
   "id": "0efa23ba-f59a-4016-83f2-11af9963f0df",
   "metadata": {},
   "source": [
    "Code | Use\n",
    "--- | ---\n",
    "`DF.plot()` | Return plot.  Argument `kind=\"<PLOT_TYPE>\"` specifies which type of plot to create.  E.g. `kind=\"scatter\"`.  Alternatively, we can choose a method specific to each plot type.\n",
    "`DF.plot.line()` | Same as `.plot()`\n",
    "`DF.plot.scatter()` | Return scatter plot\n",
    "`DF.plot.hist(bin=#)` | Return histogram\n",
    "`DF.plot.bar()` | Return bar plot\n",
    "`DF.plot.hbar()` | Same as `.bar()`, but horizontal\n",
    "`DF.plot.pie()` | Return pie chart\n",
    "`DF.plot.kde()` | Return kernel density plot\n",
    "`DF.plot.area()` | Return area plot\n",
    "`DF.plot.hexbin()` | Return hexagonal bin plot"
   ]
  },
  {
   "cell_type": "markdown",
   "id": "650af3ae-7a9a-485e-9eee-390c2a12e02d",
   "metadata": {},
   "source": [
    "---"
   ]
  },
  {
   "cell_type": "markdown",
   "id": "6b1470d1-b8bb-43e5-9e58-dee28e6e1353",
   "metadata": {},
   "source": [
    "- For each method we must specify variables.  Methods also contain many optional arguments and the pandas documentation should be checked for each method.  The `plot()` function, which can create all the plot types, has many optional arguments that can be found [here](https://pandas.pydata.org/docs/reference/api/pandas.DataFrame.plot.html#pandas.DataFrame.plot). \n",
    "- We can handlne missing data before plotting.  If we don't, the default way pandas deals with missing data is:\n",
    "\n",
    "![](images/plot_missing_data.png)\n",
    "\n",
    "- Note that pandas appears to have two methods for creating histograms and boxplots.  There are the ones we have looked at above, as well as `DF.hist()` and `DF.boxplot()`.  As far as I know, only this version of boxplot can group  by category when plotting.\n",
    "- Lastly, note that pandas has a about a dozen, less used graphing methods organized within the pandas.plotting module such as `.plotting.andrews_curves()`.\n",
    "- So although the graphing is simple, the API is a bit messy :)"
   ]
  },
  {
   "cell_type": "markdown",
   "id": "a6f20d41-0b12-4594-ae7d-7ac42f1d0d10",
   "metadata": {},
   "source": [
    "---"
   ]
  },
  {
   "cell_type": "markdown",
   "id": "88e36b44-ac3c-49a5-906d-5f11ba861e83",
   "metadata": {},
   "source": [
    "**EXAMPLES**"
   ]
  },
  {
   "cell_type": "markdown",
   "id": "a2cee97d-448f-400d-95c5-5118cb506ddf",
   "metadata": {},
   "source": [
    "**Load Example Data Frame**"
   ]
  },
  {
   "cell_type": "code",
   "execution_count": 172,
   "id": "4b9c4ebe-7a37-49dd-9561-a2ef6424909e",
   "metadata": {},
   "outputs": [
    {
     "name": "stdout",
     "output_type": "stream",
     "text": [
      "    mpg  cylinders  displacement  horsepower  weight  acceleration  \\\n",
      "0  18.0          8         307.0       130.0    3504          12.0   \n",
      "1  15.0          8         350.0       165.0    3693          11.5   \n",
      "2  18.0          8         318.0       150.0    3436          11.0   \n",
      "3  16.0          8         304.0       150.0    3433          12.0   \n",
      "4  17.0          8         302.0       140.0    3449          10.5   \n",
      "\n",
      "   model_year origin                       name  \n",
      "0          70    usa  chevrolet chevelle malibu  \n",
      "1          70    usa          buick skylark 320  \n",
      "2          70    usa         plymouth satellite  \n",
      "3          70    usa              amc rebel sst  \n",
      "4          70    usa                ford torino  \n"
     ]
    }
   ],
   "source": [
    "import seaborn as sns\n",
    "\n",
    "mpg = sns.load_dataset(\"mpg\")\n",
    "print(mpg.head())"
   ]
  },
  {
   "cell_type": "code",
   "execution_count": 173,
   "id": "2da50abb-3e0f-4023-8356-a7bf7330f22e",
   "metadata": {},
   "outputs": [
    {
     "name": "stdout",
     "output_type": "stream",
     "text": [
      "   year month  passengers\n",
      "0  1949   Jan         112\n",
      "1  1949   Feb         118\n",
      "2  1949   Mar         132\n",
      "3  1949   Apr         129\n",
      "4  1949   May         121\n"
     ]
    }
   ],
   "source": [
    "flights = sns.load_dataset(\"flights\")\n",
    "print(flights.head())"
   ]
  },
  {
   "cell_type": "markdown",
   "id": "7a96e5c6-4d4e-453d-8d33-d083e25bd17a",
   "metadata": {},
   "source": [
    "**Load Matplotlib**"
   ]
  },
  {
   "cell_type": "code",
   "execution_count": 174,
   "id": "ad8eccc0-0070-4e4e-952b-f86121cf07ed",
   "metadata": {},
   "outputs": [],
   "source": [
    "import matplotlib.pyplot as plt"
   ]
  },
  {
   "cell_type": "markdown",
   "id": "cf5f4fca-face-42fb-83bd-3257f01e1629",
   "metadata": {},
   "source": [
    "**`.plot()` and `.plot.line()`**"
   ]
  },
  {
   "cell_type": "code",
   "execution_count": 175,
   "id": "dbd019ff-7f0c-4c02-89b9-f14509bdf22f",
   "metadata": {},
   "outputs": [
    {
     "name": "stdout",
     "output_type": "stream",
     "text": [
      "    year  passengers\n",
      "0   1949  126.666667\n",
      "1   1950  139.666667\n",
      "2   1951  170.166667\n",
      "3   1952  197.000000\n",
      "4   1953  225.000000\n",
      "5   1954  238.916667\n",
      "6   1955  284.000000\n",
      "7   1956  328.250000\n",
      "8   1957  368.416667\n",
      "9   1958  381.000000\n",
      "10  1959  428.333333\n",
      "11  1960  476.166667\n"
     ]
    },
    {
     "data": {
      "image/png": "[encoded data removed]",
      "text/plain": [
       "<Figure size 432x288 with 1 Axes>"
      ]
     },
     "metadata": {
      "needs_background": "light"
     },
     "output_type": "display_data"
    }
   ],
   "source": [
    "flights_new = flights.groupby(\"year\")[\"passengers\"].mean()  # Returns series\n",
    "flights_new = pd.DataFrame(flights_new)  # Convert to data frame\n",
    "flights_new = flights_new.reset_index()  # Create normal index\n",
    "print(flights_new)\n",
    "flights_new.plot.line(x=\"year\", y=\"passengers\")\n",
    "plt.show()"
   ]
  },
  {
   "cell_type": "markdown",
   "id": "4a340289-49c6-4944-a7d8-06005e7f5df7",
   "metadata": {},
   "source": [
    "**`.plot.scatter()`**"
   ]
  },
  {
   "cell_type": "code",
   "execution_count": 176,
   "id": "9b769214-9d65-4752-bebb-d8110c5e6fd5",
   "metadata": {},
   "outputs": [
    {
     "data": {
      "image/png": "[encoded data removed]",
      "text/plain": [
       "<Figure size 432x288 with 1 Axes>"
      ]
     },
     "metadata": {
      "needs_background": "light"
     },
     "output_type": "display_data"
    }
   ],
   "source": [
    "mpg.plot.scatter(x=\"displacement\", y=\"mpg\")\n",
    "plt.show()"
   ]
  },
  {
   "cell_type": "markdown",
   "id": "2a939748-1f47-49d3-b434-ce20e3084695",
   "metadata": {},
   "source": [
    "**`.plot.hist()`**"
   ]
  },
  {
   "cell_type": "code",
   "execution_count": 177,
   "id": "a5a61e76-c552-4fad-ac34-d7db829c9aac",
   "metadata": {},
   "outputs": [
    {
     "data": {
      "image/png": "[encoded data removed]",
      "text/plain": [
       "<Figure size 432x288 with 1 Axes>"
      ]
     },
     "metadata": {
      "needs_background": "light"
     },
     "output_type": "display_data"
    }
   ],
   "source": [
    "mpg[\"mpg\"].plot.hist(bins=20)\n",
    "plt.show()"
   ]
  },
  {
   "cell_type": "markdown",
   "id": "8a918abe-9aa6-4e6b-b004-3fd366ec1db6",
   "metadata": {},
   "source": [
    "**`.boxplot()`**"
   ]
  },
  {
   "cell_type": "code",
   "execution_count": 178,
   "id": "071299e9-1490-4306-a43b-0699b8200de1",
   "metadata": {},
   "outputs": [
    {
     "data": {
      "image/png": "[encoded data removed]",
      "text/plain": [
       "<Figure size 432x288 with 1 Axes>"
      ]
     },
     "metadata": {
      "needs_background": "light"
     },
     "output_type": "display_data"
    }
   ],
   "source": [
    "mpg.boxplot(column=\"mpg\", by=\"cylinders\")\n",
    "plt.show()"
   ]
  },
  {
   "cell_type": "markdown",
   "id": "d85e83c9-4b8f-4efa-b6fa-b566f14a86d5",
   "metadata": {},
   "source": [
    "**`.plot.bar()`**"
   ]
  },
  {
   "cell_type": "code",
   "execution_count": 179,
   "id": "3d9e0bef-8502-4602-99b9-af11403b2600",
   "metadata": {},
   "outputs": [
    {
     "name": "stdout",
     "output_type": "stream",
     "text": [
      "cylinders\n",
      "3    20.550000\n",
      "4    29.286765\n",
      "5    27.366667\n",
      "6    19.985714\n",
      "8    14.963107\n",
      "Name: mpg, dtype: float64 \n",
      "\n",
      "\n"
     ]
    },
    {
     "data": {
      "image/png": "[encoded data removed]",
      "text/plain": [
       "<Figure size 432x288 with 1 Axes>"
      ]
     },
     "metadata": {
      "needs_background": "light"
     },
     "output_type": "display_data"
    }
   ],
   "source": [
    "mpg_group_mean = mpg.groupby(\"cylinders\")[\"mpg\"].mean()\n",
    "print(mpg_group_mean, '\\n\\n')\n",
    "mpg_group_mean.plot.bar()\n",
    "plt.show()"
   ]
  },
  {
   "cell_type": "markdown",
   "id": "70be8b8d-5cfd-46dd-99fa-a2742aca7d16",
   "metadata": {},
   "source": [
    "**Practice Formatting**"
   ]
  },
  {
   "cell_type": "code",
   "execution_count": 180,
   "id": "8041c918-5811-4836-9bbd-c5bd530505ce",
   "metadata": {},
   "outputs": [
    {
     "data": {
      "image/png": "[encoded data removed]",
      "text/plain": [
       "<Figure size 504x360 with 1 Axes>"
      ]
     },
     "metadata": {
      "needs_background": "light"
     },
     "output_type": "display_data"
    }
   ],
   "source": [
    "mpg.plot.scatter(\n",
    "    x=\"displacement\",\n",
    "    y=\"mpg\", \n",
    "    figsize=(7,5), \n",
    "    title=\"Scatterplot Title\", \n",
    "    grid=True, \n",
    "    xlabel=\"X-axis Title\", \n",
    "    ylabel=\"Y-axis Title\"\n",
    ")\n",
    "plt.show()"
   ]
  },
  {
   "cell_type": "markdown",
   "id": "551bade1-2047-4c7c-9965-804dcdf10836",
   "metadata": {},
   "source": [
    "---"
   ]
  },
  {
   "cell_type": "markdown",
   "id": "fc361365-4b06-4f34-b556-496d18d7da6d",
   "metadata": {},
   "source": [
    "## Correlation\n",
    "\n",
    "Code | Use\n",
    "--- | ---\n",
    "`DF.corr()` | Pairwise correlation of columns, ignore non-numeric columns and excludes null values.  Argument `method=` can be `\"pearson\"`, `\"spearman\"`, or `\"kendall\"`.  `\"pearson\"` by default.  Can also use format `DF[\"<COLUMN>\"].corr(DF[\"<COLUMN>\"])`."
   ]
  },
  {
   "cell_type": "markdown",
   "id": "b8c0f238-c3b4-44b1-a392-30d45e55a1ac",
   "metadata": {},
   "source": [
    "---"
   ]
  },
  {
   "cell_type": "markdown",
   "id": "8f98766a-3f2d-4251-9563-6e228a636c68",
   "metadata": {},
   "source": [
    "**EXAMPLES**"
   ]
  },
  {
   "cell_type": "markdown",
   "id": "927054ab-90bc-46ad-873a-4f125a89dfc5",
   "metadata": {},
   "source": [
    "**Create Data Frame**"
   ]
  },
  {
   "cell_type": "code",
   "execution_count": 181,
   "id": "0167e98f-96c5-4c79-b77a-5ba6de826d60",
   "metadata": {},
   "outputs": [
    {
     "name": "stdout",
     "output_type": "stream",
     "text": [
      "   col_1  col_2\n",
      "0      1     25\n",
      "1      2     30\n",
      "2      3     30\n",
      "3      4     27\n"
     ]
    }
   ],
   "source": [
    "my_dict = {\n",
    "    'col_1': [1, 2, 3, 4],\n",
    "    'col_2':  [25, 30, 30, 27],\n",
    "}\n",
    "\n",
    "df = pd.DataFrame(my_dict)\n",
    "print(df)"
   ]
  },
  {
   "cell_type": "markdown",
   "id": "6d8063b3-6490-494c-bc57-0264a8343349",
   "metadata": {},
   "source": [
    "**Plot Data**"
   ]
  },
  {
   "cell_type": "code",
   "execution_count": 182,
   "id": "11062846-b130-42c4-9635-35b10c54659c",
   "metadata": {},
   "outputs": [
    {
     "data": {
      "image/png": "[encoded data removed]",
      "text/plain": [
       "<Figure size 432x288 with 1 Axes>"
      ]
     },
     "metadata": {
      "needs_background": "light"
     },
     "output_type": "display_data"
    }
   ],
   "source": [
    "df.plot.scatter(x=\"col_1\", y=\"col_2\")\n",
    "plt.show()"
   ]
  },
  {
   "cell_type": "markdown",
   "id": "849386dc-67ff-4112-a48d-7099656dad1d",
   "metadata": {},
   "source": [
    "**Correlation between Columns**"
   ]
  },
  {
   "cell_type": "code",
   "execution_count": 183,
   "id": "6db97fb6-5f28-4f2e-b157-721897729abc",
   "metadata": {},
   "outputs": [
    {
     "data": {
      "text/plain": [
       "0.316227766016838"
      ]
     },
     "execution_count": 183,
     "metadata": {},
     "output_type": "execute_result"
    }
   ],
   "source": [
    "df[\"col_1\"].corr(df[\"col_2\"])  # method=\"pearson\" by default"
   ]
  },
  {
   "cell_type": "markdown",
   "id": "d440e6f9-39ea-4d62-932d-bbf8bed1bf7a",
   "metadata": {},
   "source": [
    "**Pairwise Correlation**"
   ]
  },
  {
   "cell_type": "code",
   "execution_count": 184,
   "id": "dce6f13e-0a54-45af-9472-96ddac1ab8c9",
   "metadata": {},
   "outputs": [
    {
     "name": "stdout",
     "output_type": "stream",
     "text": [
      "          col_1     col_2\n",
      "col_1  1.000000  0.316228\n",
      "col_2  0.316228  1.000000\n",
      "          col_1     col_2\n",
      "col_1  1.000000  0.316228\n",
      "col_2  0.316228  1.000000\n",
      "          col_1     col_2\n",
      "col_1  1.000000  0.182574\n",
      "col_2  0.182574  1.000000\n",
      "          col_1     col_2\n",
      "col_1  1.000000  0.316228\n",
      "col_2  0.316228  1.000000\n"
     ]
    }
   ],
   "source": [
    "print(df.corr())  # method=\"pearson\" by default\n",
    "print(df.corr(method=\"pearson\")) \n",
    "print(df.corr(method=\"kendall\"))\n",
    "print(df.corr(method=\"spearman\"))"
   ]
  },
  {
   "cell_type": "markdown",
   "id": "a9349100-5b45-4ab6-9806-361a5a5c6afb",
   "metadata": {},
   "source": [
    "---"
   ]
  },
  {
   "cell_type": "markdown",
   "id": "a9c22db0-615d-41d7-a2c7-e0ce69ab9b29",
   "metadata": {},
   "source": [
    "## More to Explore\n",
    "\n",
    "- We have covered much basic functionality in pandas, but there is still more to explore with pandas:\n",
    "    - Date and time data\n",
    "    - Categorical data\n",
    "    - String data\n",
    "    - Prettifying tables\n",
    "    - Windowing\n",
    "    - Hierarchical indexing (multi-index) with stack and unstack"
   ]
  },
  {
   "cell_type": "markdown",
   "id": "869cdc00-c16f-4e71-b017-792bf5affaf5",
   "metadata": {},
   "source": [
    "---"
   ]
  }
 ],
 "metadata": {
  "kernelspec": {
   "display_name": "Python 3 (ipykernel)",
   "language": "python",
   "name": "python3"
  },
  "language_info": {
   "codemirror_mode": {
    "name": "ipython",
    "version": 3
   },
   "file_extension": ".py",
   "mimetype": "text/x-python",
   "name": "python",
   "nbconvert_exporter": "python",
   "pygments_lexer": "ipython3",
   "version": "3.9.9"
  }
 },
 "nbformat": 4,
 "nbformat_minor": 5
}
