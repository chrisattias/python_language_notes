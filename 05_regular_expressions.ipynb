{
 "cells": [
  {
   "cell_type": "markdown",
   "id": "36edcdb3-43b2-47f5-8de5-779fcbece812",
   "metadata": {
    "tags": []
   },
   "source": [
    "# Regular Expressions\n",
    "- **Regular Expression (RegEx)**--sequence of characters that form a search pattern.  Used to check if specified characters in a specified pattern match a string.  Provide much more flexibility than string methods.  \n",
    "- Regular expressions are used in many other programming languages and have been around for decades.  They are both powerful and not super intuitive.  \n",
    "- There is additional grammar and functions not shown below that can be found online at websites like https://www.regular-expressions.info/index.html\n",
    "- We can test expressions at https://pythex.org\n",
    "- Regular expressions are processed in two steps:\n",
    "    1. Search patterns are processed by the Python interpreter.  Any Python escape characters are created and sent to RegEx parser. \n",
    "    1. Search patterns are processed by the RegEx parser.  Any RegEx special sequences are recognized. \n",
    "- If there are any backslashes in the search pattern it is best practice to write the search pattern as a raw string.  This prevents the Python interpreter from potentially converting them into escape characters before the RegEx parser gets a chance to read the search pattern."
   ]
  },
  {
   "cell_type": "markdown",
   "id": "e8d36c1d-c134-4d80-bb1b-ce68e18d867b",
   "metadata": {},
   "source": [
    "Code | Use\n",
    "--- | --- |\n",
    "`re` | Module\n",
    "`re.findall()` | Returns a list containing all matching strings\n",
    "`re.split()` | Same as built-in `.split()` method, but can use metacharacters, special sequences, and sets\n",
    "`re.sub()` | Same as `.replace()` method, but can use metacharacters, special sequences, and sets\n",
    "`re.search()` | Returns a Match object if there is match anywhere in the string.  If no match returns None.  The Match Object contains information on the match search pattern used, if there was a match or not, and the index location of matching characters (slice).  Only includes info on the slice of the first match found.  Can be used in conditionals to say there is at least one match.  There are a few methods that can be used with this match object.\n",
    "`.group()` | Match object method.  Returns string that matched.\n",
    "`.start()` or `.end()` | Match object method.  Returns match location.  Could find multiple matches by using indices to slice out match and before searching again.\n",
    "`re.compile()` | Create RegEx object, which is our search pattern.  Other functions like `.findall()`, `.search()`, `.split().`, and `.sub()` are then called as methods on the RegEX object.  `re.compile()` can be passed arguments, which makes it more advanced than just saving our search pattern as a string.   However, we can either use a normal string or a RegEx object for a search pattern.\n",
    "`re.IGNORECASE` | Argument for `compile()`.  Ignores case in the string we are searching.  If we want to use multiple parameters we can use `re.IGNORECASE | re.DOTALL | re.VERBOSE` with the bitwise or (pipe) operator.\n",
    "`re.DOTALL` | Argument for `compile()`.  Makes the dot character match all characters *including* newlines.\n",
    "`re.VERBOSE` | Argument for `compile()`.  Allows us to format our search pattern over multiple lines (like a multiline string) while using comments and ignoring the whitepace created by those newlines and comments."
   ]
  },
  {
   "cell_type": "markdown",
   "id": "68ba20f9-7a6c-4497-8048-0194d5edac53",
   "metadata": {},
   "source": [
    "Metacharacter | Use.  Reminder: within Sets Metacharacters have no special meaning. | Example\n",
    "--- | -- | ---\n",
    "`\\` | Used in special sequences.  See table with special sequences.  A single backslash placed before a metacharacter suppresses the unique action of that character.  Similar to placing a backslash before Python escape characters.  This allows us to search for a metacharacter instead of just using its unique action. | \"\\d\"\n",
    "`[]` | A set of characters. Different from the Python data type. See table for working with sets | \"[ain]\"\n",
    "`.` | Any character (except newline) | \"a.n\"\n",
    "`^` | String starts with | \"^ain\"\n",
    "`$` | String ends with  | \"ain\\$\"\n",
    "`*` | Zero or more occurrences | \"ain*\"\n",
    "`*?` | Zero or more occurrences (non \"greedy\").  Normally, RegEx is **greedy**, meaning that it tries to find the longest string that matches our pattern.  **Non greedy (or lazy)** tells it to find the shortest string that matches the pattern |\"ain*?\"\n",
    "`+` | One or more occurrences | \"ain+\"\n",
    "`+?` | One or more occurrences (non greedy) | \"ain+?\"\n",
    "`{}` | Exactly the specified number of occurrences or a range of occurrences | \"ain{1}\", \"ain{2,3}\"\n",
    "`\\|` | Either or.  Must use escape in Markdown. | \"rain\\|Spain\"\n",
    "`()` | Extract.  Specifies what to extract.  Use more characters in search pattern, but only extract a subset of characters from match. | \"a(i)n\"\n",
    "`(?:)` |  Group but not extract.  Parentheses can be used to group characters together so we can apply the pipe or metacharacters to the entire group.  However, this also means extract.  `(?:)` means group, but do not extract. | \"(?:ai)+n\"\n",
    "`?` | Optional pattern.  Can occur 0 or 1 time.  Used after characters or groups of characters.  Takes on a different meaning in this scenario then when used to indicate non-greedy. | \"r?ain\""
   ]
  },
  {
   "cell_type": "markdown",
   "id": "eb1f4557-73e9-4fe5-9e0a-3e49e2560330",
   "metadata": {},
   "source": [
    "Special Sequences | Use.  The first half match portions of words/string.  The second half match individual characters.  | Example\n",
    "--- | --- | ---\n",
    "`\\A` | Returns a match where specified characters at START of STRING.  Same as ^. | \"\\Aain\"\n",
    "`\\Z` | Returns a match where specified characters at END of STRING. Same as $. | \"ain\\Z\"\n",
    "`\\b` | Returns a match where specified characters at START or END of a WORD. `r` creates \"raw string\". | r\"\\bain\", r\"ain\\b\"\n",
    "`\\B` | Returns a match where the specified characters are present, but NOT at START or END of WORD. | \"\\Bain\" \"ain\\B\"\n",
    "`\\d` | Returns a match where the string  DOES contain digits (numbers from 0-9) | \"\\d\"\n",
    "`\\D` | Returns a match where the string does NOT contain digits | \"\\D\"\n",
    "`\\s` | Returns a match where the string DOES contain a white space character | \"\\s\"\n",
    "`\\S` | Returns a match where the string does NOT contain a white space character | \"\\S\"\n",
    "`\\w` | Returns a match where the string DOES contain any alphanumeric characters or the underscore | \"\\w\"\n",
    "`\\W` | Returns a match where the string does NOT contain any alphanumeric characters or the underscore | \"\\W\""
   ]
  },
  {
   "cell_type": "markdown",
   "id": "8e790b99-114d-406b-b44d-c4f3e479ffb9",
   "metadata": {},
   "source": [
    "Set Syntax | Use.  These match specified individual characters.\n",
    "--- | ---\n",
    "[] | When used within sets, within [], the metacharacters above have no special meaning\n",
    "[ain] | Returns a match where one of the specified characters are present\n",
    "[^ain] | Returns a match for any character except those letters\n",
    "[a-n] | Returns a match for any lower case character alphabetically between\n",
    "[1-5] | Returns a match for numbers in range (both numbers inclusive)\n",
    "[0-5][0-9] | Returns match for numbers.  Here this is 0-59\n",
    "[a-zA-Z] | Returns a match for any character alphabetically between a and z, both lower or lower case"
   ]
  },
  {
   "cell_type": "markdown",
   "id": "e1766705-df35-4cd3-8a5c-350ec6c8b5c3",
   "metadata": {},
   "source": [
    "---"
   ]
  },
  {
   "cell_type": "markdown",
   "id": "f34c2fe6-f145-4922-9057-20f42144d058",
   "metadata": {},
   "source": [
    "**EXAMPLES**"
   ]
  },
  {
   "cell_type": "code",
   "execution_count": 1,
   "id": "13e45534-2057-4b05-906b-66c827f678d1",
   "metadata": {},
   "outputs": [],
   "source": [
    "import re"
   ]
  },
  {
   "cell_type": "markdown",
   "id": "bdb31881-691d-4f00-a44e-f7c413bc2001",
   "metadata": {
    "tags": []
   },
   "source": [
    "## Findall Examples"
   ]
  },
  {
   "cell_type": "markdown",
   "id": "6d62fd0f-205c-4c16-aee5-cddb84a86b89",
   "metadata": {},
   "source": [
    "Simple Example"
   ]
  },
  {
   "cell_type": "code",
   "execution_count": 2,
   "id": "bcf5eb68-d78d-45a6-affe-8dc7c946ba65",
   "metadata": {},
   "outputs": [
    {
     "data": {
      "text/plain": [
       "['ain', 'ain']"
      ]
     },
     "execution_count": 2,
     "metadata": {},
     "output_type": "execute_result"
    }
   ],
   "source": [
    "text = 'The rain in Spain'\n",
    "\n",
    "re.findall('ain', text)"
   ]
  },
  {
   "cell_type": "markdown",
   "id": "117fa20c-98f7-4e3d-95b1-99a792e179d5",
   "metadata": {
    "tags": []
   },
   "source": [
    "### Metacharacters\n",
    "\n",
    "- Remember that if we wanted to match a metacharacter, we must prefix that metacharacter with a backslash"
   ]
  },
  {
   "cell_type": "markdown",
   "id": "de8a258f-e21a-47b3-9cf4-39d76508625a",
   "metadata": {},
   "source": [
    "`^` String Starts With, `$` String Ends With"
   ]
  },
  {
   "cell_type": "code",
   "execution_count": 3,
   "id": "7ff484c1-6f4c-4bfb-97b6-dec6f31be38a",
   "metadata": {},
   "outputs": [
    {
     "name": "stdout",
     "output_type": "stream",
     "text": [
      "[]\n",
      "['ain']\n"
     ]
    }
   ],
   "source": [
    "text = 'The rain in Spain'\n",
    "\n",
    "# String starts with\n",
    "var_matches = re.findall('^ain', text)  # No match.  Empty list.\n",
    "print(var_matches)\n",
    "\n",
    "# String ends with\n",
    "var_matches = re.findall('ain$', text)\n",
    "print(var_matches)"
   ]
  },
  {
   "cell_type": "markdown",
   "id": "927a1055-9b4d-4d91-a4ee-f1a1d0d7c501",
   "metadata": {},
   "source": [
    "`.` Any Character"
   ]
  },
  {
   "cell_type": "code",
   "execution_count": 4,
   "id": "d7e25b31-30e1-498c-bcba-564cfef44efe",
   "metadata": {},
   "outputs": [
    {
     "data": {
      "text/plain": [
       "['ain', ' in', 'ain']"
      ]
     },
     "execution_count": 4,
     "metadata": {},
     "output_type": "execute_result"
    }
   ],
   "source": [
    "text = 'The rain in Spain'\n",
    "\n",
    "re.findall('.in', text)"
   ]
  },
  {
   "cell_type": "markdown",
   "id": "5756e02c-fa79-4c4f-9d74-136a80da1162",
   "metadata": {},
   "source": [
    "`*`  and `*?`.  Zero or More Occurrences Greedy and Non-greedy."
   ]
  },
  {
   "cell_type": "code",
   "execution_count": 5,
   "id": "24baf367-f614-48e9-bbb8-4b5cfd6ade41",
   "metadata": {},
   "outputs": [
    {
     "name": "stdout",
     "output_type": "stream",
     "text": [
      "['ain in Spain']\n",
      "['a', 'a']\n"
     ]
    }
   ],
   "source": [
    "text = 'The rain in Spain'\n",
    "\n",
    "# Greedy.  'a' found, greedy then matches any character until strings ends.\n",
    "# Matches do NOT overlap so only one match.\n",
    "var_matches = re.findall('a.*', text)\n",
    "print(var_matches)\n",
    "\n",
    "# Non-Greedy. a found, non-greedy then stops as 0 matches for any character is okay.\n",
    "var_matches = re.findall('a.*?', text)\n",
    "print(var_matches)"
   ]
  },
  {
   "cell_type": "markdown",
   "id": "b6e1e3ba-db9c-45ab-9f46-044a22569a38",
   "metadata": {},
   "source": [
    "`+` and `+?`.  One or More Occurrences Greedy and Non-greedy."
   ]
  },
  {
   "cell_type": "code",
   "execution_count": 6,
   "id": "355301a1-a9e0-4aad-a90f-aadf5e6b09a5",
   "metadata": {},
   "outputs": [
    {
     "name": "stdout",
     "output_type": "stream",
     "text": [
      "['a', 'a']\n",
      "['ai', 'ai']\n"
     ]
    }
   ],
   "source": [
    "text = 'The rain in Spain'\n",
    "\n",
    "# Greedy.  'a' found, greedy then matches any character until strings ends.\n",
    "# Matches do NOT overlap so only one match.var_matches = re.findall('a.+', text)\n",
    "print(var_matches)\n",
    "\n",
    "# Non-Greedy. a found, any character found once, non-greedy then stops as 1 match for any character is okay.\n",
    "var_matches = re.findall('a.+?', text)\n",
    "print(var_matches)"
   ]
  },
  {
   "cell_type": "markdown",
   "id": "126f447a-0ccb-4308-823e-dd05ec3732d4",
   "metadata": {},
   "source": [
    "`{}` Specify Number of Occurrences"
   ]
  },
  {
   "cell_type": "code",
   "execution_count": 7,
   "id": "e60aafcc-551d-4554-8d05-810a7677ffe2",
   "metadata": {},
   "outputs": [
    {
     "name": "stdout",
     "output_type": "stream",
     "text": [
      "['a', 'a']\n",
      "['ai', 'ai']\n",
      "['ain in Spain']\n",
      "['ain', 'ain']\n",
      "['a', 'a']\n"
     ]
    }
   ],
   "source": [
    "text = 'The rain in Spain'\n",
    "\n",
    "# a then any character 0 times\n",
    "var_matches = re.findall('a.{0}', text)\n",
    "print(var_matches)\n",
    "\n",
    "# a then any character 1 time\n",
    "var_matches = re.findall('a.{1}', text)\n",
    "print(var_matches)\n",
    "\n",
    "# a then any character 1 or more times\n",
    "var_matches = re.findall('a.{1,}', text)  # Same as a.+\n",
    "print(var_matches)\n",
    "\n",
    "# Greedy. a then any character 0 to 2 times.  Because greedy, goes for 2 characters after a\n",
    "var_matches = re.findall('a.{0,2}', text)\n",
    "print(var_matches)\n",
    "\n",
    "# Non-Greedy.  a then any charcter 0 to 2 times.  Because non-greedy, goes for 0 characters after a\n",
    "var_matches = re.findall('a.{0,2}?', text)\n",
    "print(var_matches)"
   ]
  },
  {
   "cell_type": "markdown",
   "id": "529473ed-81e5-4a1d-92b3-feb60d8667c8",
   "metadata": {},
   "source": [
    "`|` Either"
   ]
  },
  {
   "cell_type": "code",
   "execution_count": 8,
   "id": "89bb4b8a-af23-497a-abc0-5879aef0f5a8",
   "metadata": {},
   "outputs": [
    {
     "name": "stdout",
     "output_type": "stream",
     "text": [
      "['rain', 'Spain']\n"
     ]
    }
   ],
   "source": [
    "text = 'The rain in Spain'\n",
    "\n",
    "var_matches = re.findall('rain|Spain', text)\n",
    "print(var_matches)"
   ]
  },
  {
   "cell_type": "markdown",
   "id": "18eed5c6-22a4-4c39-827f-1deebf02777f",
   "metadata": {},
   "source": [
    "`()` Extract\n",
    "- If a `.findall()` search pattern has 0 or 1 groups, then the result is a list of matches like we'd expect\n",
    "- If a `.findall()` search pattern has 2 or more groups, then the result is a list of tuples.  Each tuple is a single match, with 2 or more groups per tuple."
   ]
  },
  {
   "cell_type": "code",
   "execution_count": 9,
   "id": "568acd6d-9677-459e-85bf-a6c6a2266996",
   "metadata": {},
   "outputs": [
    {
     "name": "stdout",
     "output_type": "stream",
     "text": [
      "['in', 'in']\n",
      "[('a', 'in'), ('a', 'in')]\n",
      "[('ain', 'a', 'in'), ('ain', 'a', 'in')]\n"
     ]
    }
   ],
   "source": [
    "text = 'The rain in Spain'\n",
    "\n",
    "# Single group\n",
    "var_matches = re.findall('a(in)', text)  # Two matches.  Returns list.\n",
    "print(var_matches)\n",
    "\n",
    "# Two groups\n",
    "var_matches = re.findall('(a)(in)', text)  # Two matches.  Returns list of tuples, with 2 items each.\n",
    "print(var_matches)\n",
    "\n",
    "# Three groups\n",
    "var_matches = re.findall('((a)(in))', text)  # Two matches.  Returns list of tuples, with 3 items each.\n",
    "print(var_matches)"
   ]
  },
  {
   "cell_type": "markdown",
   "id": "8fdfff92-cfb7-4823-8600-ece432f54f1e",
   "metadata": {},
   "source": [
    "`(?:)` Group\n",
    "- Parentheses can be used to group characters together so we can apply the pipe or metacharacters to the entire group.  However, this also means extract.  `(?:)` means group, but do not extract."
   ]
  },
  {
   "cell_type": "code",
   "execution_count": 10,
   "id": "4151fd33-0326-4205-84e7-b2567ad61e68",
   "metadata": {},
   "outputs": [
    {
     "name": "stdout",
     "output_type": "stream",
     "text": [
      "['r', 'Sp']\n",
      "['rain', 'Spain']\n"
     ]
    }
   ],
   "source": [
    "text = 'The rain in Spain'\n",
    "\n",
    "# Unwanted results\n",
    "var_matches = re.findall('(r|Sp)ain', text)\n",
    "print(var_matches)\n",
    "\n",
    "# (?:) Wanted Results\n",
    "var_matches = re.findall('(?:r|Sp)ain', text)\n",
    "print(var_matches)"
   ]
  },
  {
   "cell_type": "markdown",
   "id": "7cea1c54-48ab-475b-afda-eabefacdeb5f",
   "metadata": {},
   "source": [
    "`?` Optional Pattern"
   ]
  },
  {
   "cell_type": "code",
   "execution_count": 11,
   "id": "74db87c4-c951-4180-bf3b-2102c054074d",
   "metadata": {},
   "outputs": [
    {
     "name": "stdout",
     "output_type": "stream",
     "text": [
      "['ain', 'in', 'ain']\n"
     ]
    }
   ],
   "source": [
    "text = 'The rain in Spain'\n",
    "\n",
    "var_matches = re.findall('a?in', text)\n",
    "print(var_matches)"
   ]
  },
  {
   "cell_type": "markdown",
   "id": "6a4477b8-1f6c-45cf-a207-947df17f0255",
   "metadata": {},
   "source": [
    "### Special Sequences"
   ]
  },
  {
   "cell_type": "markdown",
   "id": "702868cb-04ce-4f1c-9635-e752b1769aad",
   "metadata": {},
   "source": [
    "`\\A` STRING Starts With.  `\\Z` STRING Ends With."
   ]
  },
  {
   "cell_type": "code",
   "execution_count": 12,
   "id": "386bdcce-8f4f-4ae9-b5ac-2a0b257ef446",
   "metadata": {},
   "outputs": [
    {
     "name": "stdout",
     "output_type": "stream",
     "text": [
      "[]\n",
      "['ain']\n"
     ]
    }
   ],
   "source": [
    "text = 'The rain in Spain'\n",
    "\n",
    "# STRING starts with\n",
    "var_matches = re.findall('\\Aain', text)\n",
    "print(var_matches)\n",
    "\n",
    "# STRING ends with\n",
    "var_matches = re.findall('ain\\Z', text)\n",
    "print(var_matches)"
   ]
  },
  {
   "cell_type": "markdown",
   "id": "577c2160-83b8-4ab6-8526-688a370ac203",
   "metadata": {},
   "source": [
    "`\\b` WORD Starts With.  `\\b` WORD Ends With."
   ]
  },
  {
   "cell_type": "code",
   "execution_count": 13,
   "id": "47bc1b01-dd00-44d4-82ac-7d86b0480e44",
   "metadata": {},
   "outputs": [
    {
     "name": "stdout",
     "output_type": "stream",
     "text": [
      "[]\n",
      "['ain', 'ain']\n"
     ]
    }
   ],
   "source": [
    "text = 'The rain in Spain'\n",
    "\n",
    "# WORD starts with\n",
    "var_matches = re.findall(r'\\bain', text)  # Raw string needed here (or two backslashes)\n",
    "print(var_matches)\n",
    "\n",
    "# WORD ends with\n",
    "var_matches = re.findall(r'ain\\b', text)  # Raw string needed here (or two backslashes)\n",
    "print(var_matches)"
   ]
  },
  {
   "cell_type": "markdown",
   "id": "1b8ece13-7ebb-4e65-85ee-4e773c34ccfa",
   "metadata": {},
   "source": [
    "`\\B` Present, but WORD does NOT Start With.  `\\B` Present, but WORD does NOT End With."
   ]
  },
  {
   "cell_type": "code",
   "execution_count": 14,
   "id": "cc69df67-f83f-4681-a161-2af54c6ffa93",
   "metadata": {},
   "outputs": [
    {
     "name": "stdout",
     "output_type": "stream",
     "text": [
      "['ain', 'ain']\n",
      "[]\n"
     ]
    }
   ],
   "source": [
    "text = 'The rain in Spain'\n",
    "\n",
    "# Present, but WORD does NOT start with\n",
    "var_matches = re.findall('\\Bain', text)\n",
    "print(var_matches)\n",
    "\n",
    "# Present, but WORD NOT ends with\n",
    "var_matches = re.findall('ain\\B', text)\n",
    "print(var_matches)"
   ]
  },
  {
   "cell_type": "markdown",
   "id": "8dd6be54-71d0-4c3a-a7ea-0938c0bcad94",
   "metadata": {},
   "source": [
    "`\\d` Number.  `\\D` NOT Number."
   ]
  },
  {
   "cell_type": "code",
   "execution_count": 15,
   "id": "a7a0241a-7df3-4d98-bc41-c421aa1f9202",
   "metadata": {},
   "outputs": [
    {
     "name": "stdout",
     "output_type": "stream",
     "text": [
      "[]\n",
      "['T', 'h', 'e', ' ', 'r', 'a', 'i', 'n', ' ', 'i', 'n', ' ', 'S', 'p', 'a', 'i', 'n']\n"
     ]
    }
   ],
   "source": [
    "text = 'The rain in Spain'\n",
    "\n",
    "# Number\n",
    "var_matches = re.findall(r'\\d', text)\n",
    "print(var_matches)\n",
    "\n",
    "# NOT number\n",
    "var_matches = re.findall(r'\\D', text)\n",
    "print(var_matches)"
   ]
  },
  {
   "cell_type": "markdown",
   "id": "00d0e09d-a5d4-4a30-b23e-cb128fa54c0a",
   "metadata": {},
   "source": [
    "`\\s` Whitespace.  `\\S` NOT Whitespace."
   ]
  },
  {
   "cell_type": "code",
   "execution_count": 16,
   "id": "57a8a3fd-5080-4cb7-b807-e9994a707a52",
   "metadata": {},
   "outputs": [
    {
     "name": "stdout",
     "output_type": "stream",
     "text": [
      "[' ', ' ', ' ']\n",
      "['T', 'h', 'e', 'r', 'a', 'i', 'n', 'i', 'n', 'S', 'p', 'a', 'i', 'n']\n"
     ]
    }
   ],
   "source": [
    "text = 'The rain in Spain'\n",
    "\n",
    "# Whitespace\n",
    "var_matches = re.findall('\\s', text)\n",
    "print(var_matches)\n",
    "\n",
    "# NOT whitespace\n",
    "var_matches = re.findall('\\S', text)\n",
    "print(var_matches)"
   ]
  },
  {
   "cell_type": "markdown",
   "id": "0e5f141d-bbbb-40e7-ae6a-103e833791d6",
   "metadata": {},
   "source": [
    "`\\w` Alphanumeric or Underscore.  `\\W` NOT Alphanumeric or Underscore."
   ]
  },
  {
   "cell_type": "code",
   "execution_count": 17,
   "id": "2ad629c1-b6a6-435e-be70-98ef66d232b0",
   "metadata": {},
   "outputs": [
    {
     "name": "stdout",
     "output_type": "stream",
     "text": [
      "['T', 'h', 'e', 'r', 'a', 'i', 'n', 'i', 'n', 'S', 'p', 'a', 'i', 'n']\n",
      "[' ', ' ', ' ']\n"
     ]
    }
   ],
   "source": [
    "text = 'The rain in Spain'\n",
    "\n",
    "# Alphanumeric/underscore\n",
    "var_matches = re.findall('\\w', text)\n",
    "print(var_matches)\n",
    "\n",
    "# NOT alphanumeric/undercore\n",
    "var_matches = re.findall('\\W', text)\n",
    "print(var_matches)"
   ]
  },
  {
   "cell_type": "markdown",
   "id": "7d2d7fa8-a11d-422a-9032-491294517111",
   "metadata": {},
   "source": [
    "### Sets"
   ]
  },
  {
   "cell_type": "markdown",
   "id": "b955f0e1-83c7-4b09-b385-98d661cfb85c",
   "metadata": {},
   "source": [
    "`[]`"
   ]
  },
  {
   "cell_type": "code",
   "execution_count": 18,
   "id": "06efe961-f411-48d7-b786-660c204dac5e",
   "metadata": {},
   "outputs": [
    {
     "data": {
      "text/plain": [
       "['a', 'i', 'n', 'i', 'n', 'a', 'i', 'n']"
      ]
     },
     "execution_count": 18,
     "metadata": {},
     "output_type": "execute_result"
    }
   ],
   "source": [
    "text = 'The rain in Spain'\n",
    "\n",
    "re.findall('[ain]', text)"
   ]
  },
  {
   "cell_type": "markdown",
   "id": "6cc9032f-e812-4893-a845-b44fc87bc316",
   "metadata": {},
   "source": [
    "`[^]`"
   ]
  },
  {
   "cell_type": "code",
   "execution_count": 19,
   "id": "5db64db0-f0ab-424e-a4c7-500c2d9df333",
   "metadata": {},
   "outputs": [
    {
     "data": {
      "text/plain": [
       "['T', 'h', 'e', ' ', 'r', ' ', ' ', 'S', 'p']"
      ]
     },
     "execution_count": 19,
     "metadata": {},
     "output_type": "execute_result"
    }
   ],
   "source": [
    "text = 'The rain in Spain'\n",
    "\n",
    "re.findall('[^ain]', text)"
   ]
  },
  {
   "cell_type": "markdown",
   "id": "a576648d-00ae-43f4-88a0-e1c740da4c14",
   "metadata": {},
   "source": [
    "`[-]`"
   ]
  },
  {
   "cell_type": "code",
   "execution_count": 20,
   "id": "d8827e56-36d3-4d68-ba95-ceaf834571b8",
   "metadata": {},
   "outputs": [
    {
     "name": "stdout",
     "output_type": "stream",
     "text": [
      "['h', 'e', 'a', 'i', 'n', 'i', 'n', 'a', 'i', 'n']\n",
      "['T', 'h', 'e', 'r', 'a', 'i', 'n', 'i', 'n', 'S', 'p', 'a', 'i', 'n']\n",
      "[]\n"
     ]
    }
   ],
   "source": [
    "text = 'The rain in Spain'\n",
    "\n",
    "var_matches = re.findall('[a-n]', text)\n",
    "print(var_matches)\n",
    "\n",
    "var_matches = re.findall('[a-zA-Z]', text)\n",
    "print(var_matches)\n",
    "\n",
    "var_matches = re.findall('[0-9]', text)\n",
    "print(var_matches)"
   ]
  },
  {
   "cell_type": "markdown",
   "id": "ea5cf502-05ba-4779-ae6c-3ae11c4ab276",
   "metadata": {},
   "source": [
    "## Compile Examples"
   ]
  },
  {
   "cell_type": "markdown",
   "id": "d5077e62-b94f-482a-989f-6afab6efc3b0",
   "metadata": {},
   "source": [
    "Simple Example"
   ]
  },
  {
   "cell_type": "code",
   "execution_count": 21,
   "id": "a684c1ee-a002-4914-80c5-3d7b2a9c883c",
   "metadata": {},
   "outputs": [
    {
     "data": {
      "text/plain": [
       "['ain', 'ain']"
      ]
     },
     "execution_count": 21,
     "metadata": {},
     "output_type": "execute_result"
    }
   ],
   "source": [
    "text = 'The rain in Spain'\n",
    "\n",
    "search_pattern = re.compile(r'ain')\n",
    "search_pattern.findall(text)"
   ]
  },
  {
   "cell_type": "markdown",
   "id": "3bd7764f-8701-4907-988a-f17eb6643f54",
   "metadata": {},
   "source": [
    ".IGNORECASE"
   ]
  },
  {
   "cell_type": "code",
   "execution_count": 22,
   "id": "46c5088e-2991-480e-bcfb-8924b0185d0a",
   "metadata": {},
   "outputs": [
    {
     "data": {
      "text/plain": [
       "['Spain']"
      ]
     },
     "execution_count": 22,
     "metadata": {},
     "output_type": "execute_result"
    }
   ],
   "source": [
    "text = 'The rain in Spain'\n",
    "\n",
    "search_pattern = re.compile(r'spain\\b', re.IGNORECASE)\n",
    "search_pattern.findall(text)"
   ]
  },
  {
   "cell_type": "markdown",
   "id": "f2fd6827-2639-4629-b571-8077faca105e",
   "metadata": {},
   "source": [
    "DOTALL"
   ]
  },
  {
   "cell_type": "code",
   "execution_count": 23,
   "id": "fd5730a5-1aa1-45f1-80e1-fb09b6534bc4",
   "metadata": {},
   "outputs": [
    {
     "name": "stdout",
     "output_type": "stream",
     "text": [
      "[]\n",
      "['Spain']\n"
     ]
    }
   ],
   "source": [
    "text = 'The rain\\n in Spain'  # Included newline character\n",
    "\n",
    "search_pattern = re.compile(r'^The.+(Spain)')\n",
    "print(search_pattern.findall(text))\n",
    "\n",
    "search_pattern = re.compile(r'^The.+(Spain)', re.DOTALL)\n",
    "print(search_pattern.findall(text))"
   ]
  },
  {
   "cell_type": "markdown",
   "id": "85fb8b84-600e-447b-845a-bdd87150da70",
   "metadata": {},
   "source": [
    "VERBOSE"
   ]
  },
  {
   "cell_type": "code",
   "execution_count": 24,
   "id": "f5287788-2275-4c94-a9f3-9a45a869b99b",
   "metadata": {},
   "outputs": [
    {
     "data": {
      "text/plain": [
       "['rain']"
      ]
     },
     "execution_count": 24,
     "metadata": {},
     "output_type": "execute_result"
    }
   ],
   "source": [
    "text = 'The rain in Spain'\n",
    "\n",
    "search_pattern = re.compile(r\"\"\"\n",
    "^The    # Starts with\n",
    "\\s      # Whitespace\n",
    "(rain)  # Extract rain\n",
    ".+      # Any character except newline repeated 1 or more times\n",
    "Spain$  # Ends with\n",
    "\"\"\", re.VERBOSE)\n",
    "search_pattern.findall(text)"
   ]
  },
  {
   "cell_type": "markdown",
   "id": "13e4ab04-cd1d-4fd3-a7ed-333e3fbcf97a",
   "metadata": {},
   "source": [
    "## Search Examples"
   ]
  },
  {
   "cell_type": "markdown",
   "id": "cf1b27fc-475d-41a2-8f07-0bfac07c3b42",
   "metadata": {},
   "source": [
    "**`search()`, `.group()`, `.start()`, `.end()`**"
   ]
  },
  {
   "cell_type": "code",
   "execution_count": 25,
   "id": "b8455363-2f7b-4735-8779-eba07232fc0e",
   "metadata": {},
   "outputs": [
    {
     "name": "stdout",
     "output_type": "stream",
     "text": [
      "<re.Match object; span=(5, 8), match='ain'>\n",
      "ain\n",
      "5\n",
      "8\n"
     ]
    }
   ],
   "source": [
    "text = 'The rain in Spain'\n",
    "\n",
    "match_object = re.search('ain', text)\n",
    "print(match_object)\n",
    "print(match_object.group())\n",
    "print(match_object.start())\n",
    "print(match_object.end())"
   ]
  },
  {
   "cell_type": "markdown",
   "id": "80f7b664-210e-4654-bf27-8979b4465d5e",
   "metadata": {},
   "source": [
    "- `search()` can be used in conditional statements"
   ]
  },
  {
   "cell_type": "code",
   "execution_count": 26,
   "id": "2819f065-6460-4a05-85ad-70fa8cd3c3e6",
   "metadata": {},
   "outputs": [
    {
     "name": "stdout",
     "output_type": "stream",
     "text": [
      "There is a match.\n"
     ]
    }
   ],
   "source": [
    "text = 'The rain in Spain'\n",
    "\n",
    "match_object = re.search('ain', text)\n",
    "\n",
    "if match_object:  # if match object exists then print  \n",
    "    print(\"There is a match.\")"
   ]
  },
  {
   "cell_type": "markdown",
   "id": "1c741abf-85c6-4a91-8181-76d459dc7de2",
   "metadata": {},
   "source": [
    "## Split Examples"
   ]
  },
  {
   "cell_type": "markdown",
   "id": "8eda7802-e960-4d96-8f96-2ec947099251",
   "metadata": {},
   "source": [
    "Simple Example"
   ]
  },
  {
   "cell_type": "code",
   "execution_count": 27,
   "id": "3348c208-b7be-41d7-90b4-5f9922c3cd7c",
   "metadata": {},
   "outputs": [
    {
     "name": "stdout",
     "output_type": "stream",
     "text": [
      "['The', 'rain', 'in', 'Spain']\n"
     ]
    }
   ],
   "source": [
    "text = 'The rain in Spain'\n",
    "\n",
    "l_matches = re.split(' ', text)\n",
    "print(l_matches)"
   ]
  },
  {
   "cell_type": "markdown",
   "id": "ebdb64da-c038-4f04-90ab-1720bdf5b514",
   "metadata": {
    "tags": []
   },
   "source": [
    "## Sub Examples"
   ]
  },
  {
   "cell_type": "markdown",
   "id": "497ff001-09fd-4d9e-a8db-58ef9a8ed061",
   "metadata": {},
   "source": [
    "Simple Example"
   ]
  },
  {
   "cell_type": "code",
   "execution_count": 28,
   "id": "14a12576-e2d2-48e2-9900-658c37517fdd",
   "metadata": {},
   "outputs": [
    {
     "name": "stdout",
     "output_type": "stream",
     "text": [
      "The rat in Spat\n"
     ]
    }
   ],
   "source": [
    "text = 'The rain in Spain'\n",
    "\n",
    "sub_text = re.sub('ain','at', text)\n",
    "print(sub_text)"
   ]
  },
  {
   "cell_type": "markdown",
   "id": "17dfffd0-dece-460c-af32-8becad97960d",
   "metadata": {},
   "source": [
    "Use Group from Match to Replace"
   ]
  },
  {
   "cell_type": "code",
   "execution_count": 29,
   "id": "ea649583-6401-430e-b8a3-68bea202a58a",
   "metadata": {},
   "outputs": [
    {
     "name": "stdout",
     "output_type": "stream",
     "text": [
      "Agent K and Agent J.\n"
     ]
    }
   ],
   "source": [
    "text = 'Agent Kevin and Agent James.'\n",
    "\n",
    "# 1st argument is search pattern\n",
    "# 2nd argument is what to replace with\n",
    "# The \\1 means use the group from the match and substitute that back into the text at each match\n",
    "# 3rd argument is text we are searching\n",
    "\n",
    "sub_text = re.sub(r'Agent (\\w)\\w*', r'Agent \\1', text)\n",
    "\n",
    "print(sub_text)"
   ]
  },
  {
   "cell_type": "markdown",
   "id": "c12cde37-1d90-483e-a9c8-fbfedcb864a1",
   "metadata": {},
   "source": [
    "## Additional Examples"
   ]
  },
  {
   "cell_type": "markdown",
   "id": "3e0c03e4-b07f-4252-ae9f-42ccddc324be",
   "metadata": {},
   "source": [
    "**Find Email Examples**"
   ]
  },
  {
   "cell_type": "code",
   "execution_count": 30,
   "id": "f797ad6e-af68-41da-92f1-814625277d9d",
   "metadata": {},
   "outputs": [
    {
     "name": "stdout",
     "output_type": "stream",
     "text": [
      "['info@nostarch.com', 'media@nostarch.com', 'academic@nostarch.com', 'conferences@nostarch.com', 'info@nostarch.com']\n"
     ]
    }
   ],
   "source": [
    "# Goals: return all emails\n",
    "\n",
    "text = \"\"\"\n",
    "Reach Us by Email\n",
    "\n",
    "    General inquiries: info@nostarch.com\n",
    "    Media requests: media@nostarch.com\n",
    "    Academic requests: academic@nostarch.com (Further information)\n",
    "    Conference and Events: conferences@nostarch.com\n",
    "    Help with your order: info@nostarch.com\n",
    "\"\"\"\n",
    "# Different characters are allowed in the username and domain name\n",
    "# The dot something at the end can only be 2-4 leters\n",
    "l_matches = re.findall(r'[a-zA-Z0-9.%+]+@[a-zA-Z0-9.-]+[.][a-zA-Z]{2,4}', text)\n",
    "print(l_matches)"
   ]
  },
  {
   "cell_type": "code",
   "execution_count": 31,
   "id": "480fd5c8-7de5-4b7e-926e-64931b273719",
   "metadata": {},
   "outputs": [
    {
     "name": "stdout",
     "output_type": "stream",
     "text": [
      "uct.ac.za\n",
      "uct.ac.za\n",
      "uct.ac.za\n"
     ]
    }
   ],
   "source": [
    "# Goals: return the email handle, without @\n",
    "\n",
    "text = 'From stephen.marquard@uct.ac.za Sat Jan 5 09:14:16 2008'\n",
    "\n",
    "# Double find and slice\n",
    "i_indexat = text.find('@')  # Return index position\n",
    "i_indexspace = text.find(' ', i_indexat)  # Start searching at index position\n",
    "s_handle = text[(i_indexat + 1) : i_indexspace]  # Slice\n",
    "print(s_handle)\n",
    "\n",
    "# Double split and slice\n",
    "l_words = text.split(' ')\n",
    "for s_word in l_words:\n",
    "    if '@' in s_word:\n",
    "        s_handle = (s_word.split('@'))[1]\n",
    "print(s_handle) \n",
    "\n",
    "# RegEx\n",
    "l_matches = re.findall('@(\\S+)', text)  # After @, NON-whitespace character 1 or more times greedy\n",
    "print(l_matches[0])"
   ]
  },
  {
   "cell_type": "markdown",
   "id": "87df074f-f3d1-4af8-a2d5-514206ad2409",
   "metadata": {},
   "source": [
    "- **Find Phone Numbers Example**\n",
    "- We provide an example text to search, but the RegEx search pattern will find phone numbers in multiple formats\n",
    "- Note that the below code uses some advanced features of RegEx:\n",
    "    - `re.compile(<SEARCH_PATTERN>,re.VERBOSE)` allows us to space out and comment our search pattern\n",
    "    - `r` creates a raw string\n",
    "    - `\"\"\"` allows us to use multiple lines\n",
    "    - `()` parentheses for grouping  \n",
    "    - `|` allows us to search for either pattern\n",
    "    - `?`  allows us to include optional portions such as the area code and extension.  If they are found they are included, but if they are not found it will not interfere with the match.\n",
    "    - `\\(\\)` we want to search for parentheses in the area code so we need to use backslashes before them\n",
    "- We show two slightly different RegEx search patterns"
   ]
  },
  {
   "cell_type": "markdown",
   "id": "e5da39c4-55ab-4f81-ad46-9273a6e9173f",
   "metadata": {},
   "source": [
    "1. The first uses parentheses to group characters and then use `?` or `|`.  The downside to this is that each group also tells the parser to extract.  This is OKAY if we then enclose and extract the entire search pattern and use the first item (index 0) in each tuple in the list of results returned.  This is because the group with the first parentheses always comes first.  The RegEx pattern is simpler in this method."
   ]
  },
  {
   "cell_type": "code",
   "execution_count": 32,
   "id": "062b2491-fd6a-4f73-a60a-f841a38b8e6f",
   "metadata": {},
   "outputs": [
    {
     "name": "stdout",
     "output_type": "stream",
     "text": [
      "[('800.420.7240', '800', '.', '.', '', ''), ('415.863.9900', '415', '.', '.', '', ''), ('415.863.9950', '415', '.', '.', '', '')]\n",
      "800.420.7240\n",
      "415.863.9900\n",
      "415.863.9950\n"
     ]
    }
   ],
   "source": [
    "# Goals: find all phone numbers in text\n",
    "\n",
    "text = \"\"\"\n",
    "Contact Us\n",
    "\n",
    "No Starch Press, Inc.\n",
    "245 8th Street\n",
    "San Francisco, CA 94103 USA\n",
    "Phone: 800.420.7240 or +1 415.863.9900 (9 a.m. to 5 p.m., M-F, PST)\n",
    "Fax: +1 415.863.9950\n",
    "\"\"\"\n",
    "\n",
    "search_phone = re.compile(r\"\"\"(\n",
    "(\\d{3}|\\(\\d{3}\\))?            # Area code.  In form: ### or (###).  Optional.\n",
    "(-|\\s|.)?                     # Separator.  In form: space or dash or period\n",
    "\\d{3}                         # First 3 digits.  In form ###\n",
    "(-|\\s|.)                      # Separator.  In form: space or dash or period\n",
    "\\d{4}                         # Last 4 digits.  In form: ####\n",
    "(\\s*(ext|x|ext.)\\s*\\d{2,5})?  # Extension.  In form: space ext or x or ext. space 2-5 digits\n",
    ")\"\"\", re.VERBOSE)\n",
    "\n",
    "l_matches = search_phone.findall(text)\n",
    "print(l_matches)\n",
    "for t_matches in l_matches:\n",
    "   print(t_matches[0])"
   ]
  },
  {
   "cell_type": "markdown",
   "id": "44d7b19f-299c-48c0-a329-29547a9cfe4c",
   "metadata": {},
   "source": [
    "2. The second uses the `(?:)`.  `(?:)` tells the parser to use the parentheses to group, but not extract.  This makes the RegEx more complicated, but the results are simpler."
   ]
  },
  {
   "cell_type": "code",
   "execution_count": 33,
   "id": "23cf802b-8eed-4815-9c09-31bb3b8ff36b",
   "metadata": {},
   "outputs": [
    {
     "name": "stdout",
     "output_type": "stream",
     "text": [
      "['800.420.7240', '415.863.9900', '415.863.9950']\n"
     ]
    }
   ],
   "source": [
    "# Goals: find all phone numbers in text\n",
    "\n",
    "text = \"\"\"\n",
    "Contact Us\n",
    "\n",
    "No Starch Press, Inc.\n",
    "245 8th Street\n",
    "San Francisco, CA 94103 USA\n",
    "Phone: 800.420.7240 or +1 415.863.9900 (9 a.m. to 5 p.m., M-F, PST)\n",
    "Fax: +1 415.863.9950\n",
    "\"\"\"\n",
    "\n",
    "search_phone = re.compile(r\"\"\"\n",
    "(?:\\d{3}|\\(\\d{3}\\))?              # Area code.  In form: ### or (###).  Optional.\n",
    "(?:-|\\s|.)?                       # Separator.  In form: space or dash or period\n",
    "\\d{3}                             # First 3 digits.  In form ###\n",
    "(?:-|\\s|.)                        # Separator.  In form: space or dash or period\n",
    "\\d{4}                             # Last 4 digits.  In form: ####\n",
    "(?:\\s*(?:ext|x|ext.)\\s*\\d{2,5})?  # Extension.  In form: space ext or x or ext. space 2-5 digits\n",
    "\"\"\", re.VERBOSE)\n",
    "\n",
    "l_matches = search_phone.findall(text)\n",
    "print(l_matches)"
   ]
  },
  {
   "cell_type": "markdown",
   "id": "4e793363-7a8f-4d1c-83c9-25372abf7933",
   "metadata": {},
   "source": [
    "**Backslash Cluster F\\w\\w\\w and Raw Strings**\n",
    "- `\\b` is both a Python escape character (backspace) and a RegEx special sequence (word begins with or word ends with).  When `\\b` is in the search pattern it is first passed into the Python interpreter and turned into a backspace.  Next, this backspace is sent the RegEx parser, but the RegEx parser can't use it.  \n",
    "- Therefore, we must either escape the escape character, or use a raw string.  Raw strings are easier to read and recommended."
   ]
  },
  {
   "cell_type": "code",
   "execution_count": 34,
   "id": "9a29f260-964a-4370-9b4e-44511bb0b744",
   "metadata": {},
   "outputs": [
    {
     "name": "stdout",
     "output_type": "stream",
     "text": [
      "['ain', 'ain']\n",
      "['ain', 'ain']\n"
     ]
    }
   ],
   "source": [
    "text = 'The rain in Spain'\n",
    "\n",
    "var_matches = re.findall('ain\\\\b', text)  # Escape the escape\n",
    "print(var_matches)\n",
    "\n",
    "var_matches = re.findall(r'ain\\b', text)  # Raw string.  Easier to read.\n",
    "print(var_matches)"
   ]
  },
  {
   "cell_type": "markdown",
   "id": "b72b52b9-f7c8-4a5d-af9c-d7e9a613fed6",
   "metadata": {},
   "source": [
    "- `\\` is both a Python escape character and a RegEx special character.  A RegEx search pattern actually completely ignores a single backslash used on its own.  To get RegEX to search for a single backslash, we'd actually have to include two, `\\\\`.  But wait, the Python interpreter looks at this string first and converts `\\\\` to `\\`.  If we want the RegEx parser to look for a single backslash, we must type `\\\\\\\\` so the Python interpreter sends the parser `\\\\`.  The parser converts this to `\\` and searches.\n",
    "- To avoid this, we use the raw string and two backslashes.  The results are a bit odd and appear to show the string search pattern instead of the match we found in the text."
   ]
  },
  {
   "cell_type": "code",
   "execution_count": 35,
   "id": "7e64d63f-d62f-4985-96ef-221838336f82",
   "metadata": {},
   "outputs": [
    {
     "name": "stdout",
     "output_type": "stream",
     "text": [
      "['\\\\ in']\n"
     ]
    }
   ],
   "source": [
    "text = 'The rain \\ in Spain'\n",
    "\n",
    "var_matches = re.findall(r'\\\\ in', text)\n",
    "print(var_matches)"
   ]
  },
  {
   "cell_type": "markdown",
   "id": "6f211271-8d8e-4aea-947e-45310f4e606e",
   "metadata": {},
   "source": [
    "---"
   ]
  }
 ],
 "metadata": {
  "kernelspec": {
   "display_name": "Python 3 (ipykernel)",
   "language": "python",
   "name": "python3"
  },
  "language_info": {
   "codemirror_mode": {
    "name": "ipython",
    "version": 3
   },
   "file_extension": ".py",
   "mimetype": "text/x-python",
   "name": "python",
   "nbconvert_exporter": "python",
   "pygments_lexer": "ipython3",
   "version": "3.9.9"
  }
 },
 "nbformat": 4,
 "nbformat_minor": 5
}
