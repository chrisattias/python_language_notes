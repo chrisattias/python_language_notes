{
 "cells": [
  {
   "cell_type": "markdown",
   "id": "abfff56c-7112-46d9-8132-7b00bee95382",
   "metadata": {},
   "source": [
    "# Program Automation"
   ]
  },
  {
   "cell_type": "markdown",
   "id": "c232ea7e-e6d1-409b-a5e8-3611f0a47114",
   "metadata": {},
   "source": [
    "---"
   ]
  },
  {
   "cell_type": "markdown",
   "id": "6a59b75b-751b-4411-82fa-e6f167085c08",
   "metadata": {},
   "source": [
    "## Subprocess\n",
    "- **Program**--software application.  E.g. Mozilla Firefox.\n",
    "- **Process**--a running instance of a program.  We can have multiple processes open at one time.  E.g. multiple instances of Firefox.\n",
    "- The `subprocess` module allows us to launch external programs as new processes\n",
    "- We can:\n",
    "    - Run programs like MS Paint, Task Scheduler, etc.  Note that some programs are better run with program specific modules.  E.g. the `webbrowser` or `selenium` modules for web browsers or `openpyxl` for MS Excel.\n",
    "    - Open files with their default program or open files with a specified program\n",
    "    - Run a terminal program and interact with it from within the Python script\n",
    "    - Run other Python scripts   \n",
    "\n",
    "Code | Use\n",
    "--- | ---\n",
    "`subprocess` | Module\n",
    "`subprocess.Popen(['<PROGRAM_FILEPATH>', <OTHER_ARG>])` | Run specified program as new process (called a **child process**) and also return a Popen object.  P stands for \"process\".  There are many optional arguments.  \n",
    "`subprocess.Popen(['start', '<FILEPATH>], shell=True)` | `<FILEPATH>` is for a file we want to open.  `start` can be used intsead of the program file path to use default program on the OS to open the file.  Start is a Windows OS progam.  One can use `open` on MacOS or `see` on Linux.  `shell=True` is needed only on Windows.\n",
    "`.wait()` | Popen object method.  Pauses Python script execution until launched process exits.  Once program exits, returns \"exit code\" as an integer.  0 signifies program exited without error.  Other numbers, usually 1, indicate an error.\n",
    "`.poll()` | Popen object method.  Returns `None` if launched process is still running.  Returns exit code if launched process has exited.\n",
    "`.terminate()` | Popen object method.  Exits programs.  We could also use `.kill()` alias, but this feels a bit dark to use on the process...it is a child process after all.  If we kill the program the exit code will be a 1.  If we close it manually the exit code will be a 0.\n",
    "`subprocess.run()` | Run specified program as new process.  Wait for program to complete.  Return CompletedProcess instance.  There are many optional arguments.  `.run` is a new command that combines `.Popen` + `.wait()` into one command. "
   ]
  },
  {
   "cell_type": "markdown",
   "id": "2e993a82-f6fd-446c-b32c-a0f519270916",
   "metadata": {},
   "source": [
    "---"
   ]
  },
  {
   "cell_type": "markdown",
   "id": "6acc1417-974b-4a07-902c-8e17e83beb8a",
   "metadata": {},
   "source": [
    "**EXAMPLES**"
   ]
  },
  {
   "cell_type": "code",
   "execution_count": 1,
   "id": "3214efbf-a5fb-4816-9c09-41989738f8bf",
   "metadata": {},
   "outputs": [],
   "source": [
    "import subprocess"
   ]
  },
  {
   "cell_type": "markdown",
   "id": "674d49ef-bc44-4dbd-bb30-6dbf43065ac7",
   "metadata": {},
   "source": [
    "**Open File with Default Program on Windows**"
   ]
  },
  {
   "cell_type": "code",
   "execution_count": 2,
   "id": "3defd6a1-9294-4479-bb83-5ef7185406b0",
   "metadata": {},
   "outputs": [],
   "source": [
    "po = subprocess.Popen(['start', \"input/monty_python.jpg\"], shell=True)"
   ]
  },
  {
   "cell_type": "markdown",
   "id": "d9b44039-372a-4e35-8ee3-6806c26dcf6a",
   "metadata": {},
   "source": [
    "---"
   ]
  },
  {
   "cell_type": "markdown",
   "id": "95b4a957-c7d2-4bad-b135-5347d92b03e3",
   "metadata": {},
   "source": [
    "## GUI Automation\n",
    "\n",
    "- **GUI Automation**--programs that control the mouse and keyboard and send virtual keystrokes and mouse clicks\n",
    "- GUI automation can be particularly helpful if there is a not an existing Python library designed to automatic a particular piece of software or task\n",
    "- We'll use a popular library called `pyautogui`.  It was written by Al Sweigart, the author of *Automate the Boring Stuff with Python*.  Like with other modules he has written, Al uses dromedary camelCase.\n",
    "- To exit GUI automation we can:\n",
    "    - Quickly move the mouse cursor to one of the corners of the screen (preferred)\n",
    "    - Log out using Ctrl-Alt-Del\n",
    "- To control the mouse cursor `pyautogui` uses pixel coordinates.  This is similar to the `pillow` module.  The origin is in the top left.  X increases going right. Y increases going down. \n",
    "\n",
    "![](images/pyautogui_coordinates.jpg)\n",
    "\n",
    "- To avoid affecting any current programs when running example cells, we will only include functions that do not affect the mouse and keyboard"
   ]
  },
  {
   "cell_type": "markdown",
   "id": "6ce3f937-1b6c-4f0d-b0ad-5ab1cbebe8d6",
   "metadata": {},
   "source": [
    "Code | Use\n",
    "---| ---\n",
    "`pyautogui` | Module\n",
    "`pyautogui.size()` | Returns a size object (a named tuple) that holds the number of pixels in display\n",
    "`pyautogui.moveTo(<X_PIXEL>, <Y_PIXEL>)` | Moves the mouse cursor to specified pixel.  Optional argument `duration = <SECONDS>`.\n",
    "`pyautogui.move(<X_PIXELS>, <Y_PIXELS>)` | Moves the mouse cursor in a specified direction.  Positive pixel numbers are right and down.  Negative pixel numbers are left and up.  Optional argument `duration = <SECONDS>`.\n",
    "`pyautogui.position()` | Return point object of current mouse cursor position\n",
    "`pyautogui.click()` | Send virtual mouse click.  By default it is a left click and occurs at the current mouse cursor location.  Optionally, pass x and y-coordinates.  Optionally, pass `button=\"left\"`, `button=\"middle\"`, or `button=\"right\"` to specify which mouse button will be virtually clicked.  Wrapper for `mouseDown()` and `mouseUp()`.\n",
    "`pyautogui.scroll(<INTEGER>)` | Send virtual scroll.  Passing positive integer scrolls up.  Passing negative integer scrolls down.\n",
    "`pyautogui.pixel(<X>,<Y>)` | Return tuple with RGB integers for specified pixel\n",
    "`pyautogui.pixelMatchesColor(<X>,<Y>,(<R>,<G>,<B>))` | Returns True if specified pixel has RGB values that exactly match those specified\n",
    "`pyautogui.screenshot()` | Return image object of screenshot\n",
    "`pyautogui.locateOnScreen(\"<SCREENSHOT_FILENAME>\")` | If the function finds a pixel perfect match for the specified screenshot, it returns a box object (similar to box tuple) for the first place on the screen where it is found.  The box object contains the x-coordinate of the leftmost pixel, the y-coordinate of the topmost pixel, the width and the height.  If the image can not be found on the screen, function returns `None` or raises an exception depending on the version of pyautogui.  If this box object is passed to `click()` it will click in the middle of it.  As a shortcut, the screenshot file name can also be passed to `click()` without using `locateOnScreen()`.  Note that the screenshot seems to work if it's a PNG, but not a JPEG.\n",
    "`pyautogui.locateAllOnScrceen()` | Return generator object that contains 4 integer tuples with the same info as the box object returned in `locateOnScreen()`.  Pass the generator object to `list()` to get a list of the tuples.\n",
    "`pyautogui.write(\"<STRING>\")` | Sends virtual key presses to active window.  Optionally, specify time delay between each character input. Instead of a string, we could also specify a list of strings.  For keys that are not single characters, like the Enter key, we can type `\"enter\"`.  `write()` is a wrapper for `keyDown()` and `keyUp()`.\n",
    "`pyautogui.KEYBOARD_KEYS` | Returns a list of possible key strings like `\"enter\"`"
   ]
  },
  {
   "cell_type": "markdown",
   "id": "f28f4728-d3ff-44e5-bca3-6d2b9c9e1c2d",
   "metadata": {},
   "source": [
    "---"
   ]
  },
  {
   "cell_type": "markdown",
   "id": "2ae368ea-12aa-4fb0-9f60-ee12fdc74a0a",
   "metadata": {},
   "source": [
    "**EXAMPLES**"
   ]
  },
  {
   "cell_type": "code",
   "execution_count": 3,
   "id": "531fa0d2-b1c9-49ec-9220-07fec64eb62b",
   "metadata": {},
   "outputs": [],
   "source": [
    "import pyautogui"
   ]
  },
  {
   "cell_type": "markdown",
   "id": "aa6ec157-4f35-40db-8c91-85955c8e2ce8",
   "metadata": {},
   "source": [
    "**`size()`**"
   ]
  },
  {
   "cell_type": "code",
   "execution_count": 4,
   "id": "af59a9ed-3dea-4e4a-b0d9-7891405ba071",
   "metadata": {},
   "outputs": [
    {
     "name": "stdout",
     "output_type": "stream",
     "text": [
      "<class 'pyautogui.Size'>\n",
      "Size(width=2560, height=1440)\n",
      "2560\n",
      "1440\n",
      "2560\n",
      "1440\n"
     ]
    }
   ],
   "source": [
    "size_object = pyautogui.size()\n",
    "print(type(size_object))\n",
    "print(size_object)\n",
    "print(size_object[0])\n",
    "print(size_object[1])\n",
    "print(size_object.width)\n",
    "print(size_object.height)"
   ]
  },
  {
   "cell_type": "markdown",
   "id": "1cb07953-cd00-44ff-946c-a6a3295a0e45",
   "metadata": {},
   "source": [
    "**`position()`**"
   ]
  },
  {
   "cell_type": "code",
   "execution_count": 5,
   "id": "1d4a414e-c3ee-474f-91e3-b3621f768bc2",
   "metadata": {},
   "outputs": [
    {
     "name": "stdout",
     "output_type": "stream",
     "text": [
      "<class 'pyautogui.Point'>\n",
      "Point(x=266, y=364)\n",
      "266\n",
      "364\n",
      "266\n",
      "364\n"
     ]
    }
   ],
   "source": [
    "point_object = pyautogui.position()\n",
    "print(type(point_object))\n",
    "print(point_object)\n",
    "print(point_object[0])\n",
    "print(point_object[1])\n",
    "print(point_object.x)\n",
    "print(point_object.y)"
   ]
  },
  {
   "cell_type": "markdown",
   "id": "e9f4314f-6584-40f0-8ac0-7a850045cdb8",
   "metadata": {},
   "source": [
    "**`KEYBOARD_KEYS`**"
   ]
  },
  {
   "cell_type": "code",
   "execution_count": 6,
   "id": "95b3d6d8-8e0b-4bcf-9fde-04f6b51b6fc2",
   "metadata": {},
   "outputs": [
    {
     "name": "stdout",
     "output_type": "stream",
     "text": [
      "'\\t'\n",
      "'\\n'\n",
      "'\\r'\n",
      "' '\n",
      "'!'\n",
      "'\"'\n",
      "'#'\n",
      "'$'\n",
      "'%'\n",
      "'&'\n"
     ]
    }
   ],
   "source": [
    "for i in range(10):\n",
    "    print(repr(pyautogui.KEYBOARD_KEYS[i]))"
   ]
  },
  {
   "cell_type": "markdown",
   "id": "a49809f2-736a-4276-9997-619e0fc27e27",
   "metadata": {},
   "source": [
    "---"
   ]
  },
  {
   "cell_type": "markdown",
   "id": "d0f84666-7824-48e8-bc8e-6de392155849",
   "metadata": {},
   "source": [
    "## Web Browser\n",
    "- Opening a web page with Python is not much harder than using an internet browser.  However, there are limited use cases.\n",
    "\n",
    "Code | Use\n",
    "--- | ---\n",
    "`webbrowser` | Module\n",
    "`webbrowser.open('<URL>')` | Open webpage in browser. Returns True when run, even if webpage does not exist."
   ]
  },
  {
   "cell_type": "markdown",
   "id": "f4daf230-b0ec-42d3-85db-6e0969277554",
   "metadata": {},
   "source": [
    "**EXAMPLES**"
   ]
  },
  {
   "cell_type": "code",
   "execution_count": 7,
   "id": "8b13e7ef-a19b-4fb0-95f2-f7821a158b19",
   "metadata": {},
   "outputs": [],
   "source": [
    "import webbrowser"
   ]
  },
  {
   "cell_type": "code",
   "execution_count": 8,
   "id": "747f8d92-aefc-4a25-a03c-28659730b517",
   "metadata": {},
   "outputs": [
    {
     "data": {
      "text/plain": [
       "True"
      ]
     },
     "execution_count": 8,
     "metadata": {},
     "output_type": "execute_result"
    }
   ],
   "source": [
    "webbrowser.open('https://www.wikipedia.org/')"
   ]
  },
  {
   "cell_type": "markdown",
   "id": "67bba581-8689-4bc3-906c-4ed0ce2d7323",
   "metadata": {},
   "source": [
    "---"
   ]
  },
  {
   "cell_type": "markdown",
   "id": "37fc1131-8831-444f-a411-d3c4f14c7b89",
   "metadata": {},
   "source": [
    "## Web Driver\n",
    "- Selenium is an umbrella term for a range of tools and libraries that support the automation of web browsers.  The basic idea is to automate processes like web application testing or simple web administration tasks.  At the core of Selenium is Selenium's web driver.  \n",
    "- **Web Driver**--program that drives (navigates) a web browser in place of a human user.\n",
    "- Selenium uses a different web driver for each web browser:\n",
    "    1. Firefox = Mozilla GeckoDriver\n",
    "    1. Edge = Microsoft EdgeDriver\n",
    "    1. Chrome = Google ChromeDriver\n",
    "    1. Safari = Apple SafariDriver\n",
    "- Search for and follow instructions for downloading and installing the desired web driver\n",
    "- Selenium itself can be downloaded as a web browser extension or downloaded as a package for C#, Ruby, Java, Javascript, Kotlin, or Python\n",
    "- We are using the Python package with the Mozilla GeckoDriver.  If we encounter the error message “'geckodriver' executable needs to be in PATH.”, then we need to manually download the webdriver for Firefox before we can use Selenium to control it.  Search for GeckoDriver and add to Path as seen in the section *Environmental PATH Variable*.\n",
    "- In general, when we use Python's `selenium` module, we:\n",
    "    1. Create a WebDriver object\n",
    "    1. Find and create WebElement objects using WebDriver object methods\n",
    "    1. Find attributes of WebElement objects using WebElement attributes and methods\n",
    "    1. Interact with WebElement objects by clicking and typing\n",
    "    \n",
    "Code | Use\n",
    "--- | ---\n",
    "`from selenium import webdriver` | Import module\n",
    "`webdriver.Fixefox()` | Create WebDriver object.  Opens browser window.\n",
    "`.get('<URL>')` | WebDriver object method.  Open webpage.  Similar to `webbrowser.open()`.\n",
    "\n",
    "- To drive a web page we need to find the desired HTML elements on the web page.  We find and create WebElement objects using WebDriver object methods.  Methods are divided into two broad categories:\n",
    "    1. `.find_element_`--returns a single WebElement object.  Only returns the FIRST element matching query.  Similar to `.find()` in Beautiful Soup.\n",
    "    2. `.find_elements_`--returns EVERY element on web page matching query.   Similar to `.find_all()` in Beautiful Soup.\n",
    "- The following table has methods.  Note that `browser` is just a variable for the WebBrowser object and is not Selenium grammar.  Also note that most arguments are case sensitive.\n",
    "\n",
    "![](images/selenium_methods_1.jpg)\n",
    "\n",
    "- The following are attributes and methods to be used on the WebElement objects\n",
    "\n",
    "![](images/selenium_methods_2.jpg)\n",
    "\n",
    "- The following code is used to click and type in the web browser:\n",
    "\n",
    "Code | Use\n",
    "--- | ---\n",
    "`.click()` | WebElement object method.  Clicks on WebElement object, following any hyperlinks.\n",
    "`.send_keys()` | WebElement object method.  Sends text to WebElement object.  Argument is string of text.\n",
    "`.submit()` | WebElement object method.  Has the same result as clicking a \"Submit\" button for a web form.  Could also identify this button WebElement object and use `.click()` method.\n",
    "\n",
    "- The following code is used to input keystrokes (non-character keys) on the keyboard.  To use these we must `from selenium.webdriver.common.keys import Keys`.\n",
    "![](images/selenium_methods_3.jpg)\n",
    "\n",
    "- The following code is used to simulate clicks of various browser buttons:\n",
    "\n",
    "Code | Use\n",
    "--- | ---\n",
    "`.back()` | WebDriver object method\n",
    "`.forward()` | WebDriver object method\n",
    "`.refresh()` | WebDriver object method\n",
    "`.quit()` | WebDriver object method"
   ]
  },
  {
   "cell_type": "markdown",
   "id": "c0863310-67d7-49ff-ac44-85250a8410ea",
   "metadata": {},
   "source": [
    "---"
   ]
  },
  {
   "cell_type": "markdown",
   "id": "9606bc23-631b-46fc-a302-2195c8d8c0b2",
   "metadata": {},
   "source": [
    "**EXAMPLES**"
   ]
  },
  {
   "cell_type": "code",
   "execution_count": 9,
   "id": "d4f7002f-6bf4-441a-a505-7ca0fe6dad60",
   "metadata": {},
   "outputs": [],
   "source": [
    "from selenium import webdriver\n",
    "from selenium.webdriver.common.keys import Keys\n",
    "import time"
   ]
  },
  {
   "cell_type": "markdown",
   "id": "78cda301-a192-400e-9d26-ae9f31986d5c",
   "metadata": {},
   "source": [
    "**WebDriver Object and Open Webpage**"
   ]
  },
  {
   "cell_type": "code",
   "execution_count": 10,
   "id": "9fc17cb2-4581-4ca1-be61-e7f386dde0bf",
   "metadata": {},
   "outputs": [
    {
     "name": "stdout",
     "output_type": "stream",
     "text": [
      "<class 'selenium.webdriver.firefox.webdriver.WebDriver'>\n"
     ]
    }
   ],
   "source": [
    "webdriver_object = webdriver.Firefox()\n",
    "print(type(webdriver_object))\n",
    "webdriver_object.get('http://www.python.org')"
   ]
  },
  {
   "cell_type": "markdown",
   "id": "3b6db140-be4b-448b-a843-35d49cc0296e",
   "metadata": {},
   "source": [
    "**WebElement Object and Attributes**"
   ]
  },
  {
   "cell_type": "code",
   "execution_count": 11,
   "id": "99d6b59e-efcc-4da4-8264-9eb67af57ea3",
   "metadata": {},
   "outputs": [
    {
     "name": "stdout",
     "output_type": "stream",
     "text": [
      "Found WebElement object.\n",
      "Found WebElement object attributes.\n",
      "a\n",
      "English\n",
      "6 383 000+ articles\n"
     ]
    }
   ],
   "source": [
    "webdriver_object = webdriver.Firefox()\n",
    "try:\n",
    "    webdriver_object.get('https://www.wikipedia.org')\n",
    "    webelement_object = webdriver_object.find_element_by_class_name('link-box')\n",
    "    print('Found WebElement object.')\n",
    "except Exception as err:\n",
    "    print('Unable to find WebElement object.')\n",
    "    print(err)\n",
    "try:\n",
    "    print('Found WebElement object attributes.')\n",
    "    print(webelement_object.tag_name)\n",
    "    print(webelement_object.text)\n",
    "except Exception as err:\n",
    "    print('Unable to find WebElement object attributes.')"
   ]
  },
  {
   "cell_type": "markdown",
   "id": "6ebd7f69-3f51-4202-a5a3-883e54994375",
   "metadata": {},
   "source": [
    "**Click the Page**"
   ]
  },
  {
   "cell_type": "code",
   "execution_count": 12,
   "id": "06df738e-3721-48cc-b0ed-a6f455794fe2",
   "metadata": {},
   "outputs": [
    {
     "name": "stdout",
     "output_type": "stream",
     "text": [
      "Found WebElement object.\n"
     ]
    }
   ],
   "source": [
    "webdriver_object = webdriver.Firefox()\n",
    "try:\n",
    "    webdriver_object.get('https://www.wikipedia.org')\n",
    "    webelement_object = webdriver_object.find_element_by_class_name('link-box')\n",
    "    print('Found WebElement object.')\n",
    "except Exception as err:\n",
    "    print('Unable to find WebElement object.')\n",
    "    print(err)\n",
    "webelement_object.click()"
   ]
  },
  {
   "cell_type": "markdown",
   "id": "69c5e42a-d244-4ca7-a29e-4f930a7cea36",
   "metadata": {},
   "source": [
    "**Input Text**"
   ]
  },
  {
   "cell_type": "code",
   "execution_count": 13,
   "id": "e0d7142e-e3fa-46af-b39e-9e305b6bf37c",
   "metadata": {},
   "outputs": [
    {
     "name": "stdout",
     "output_type": "stream",
     "text": [
      "<class 'selenium.webdriver.firefox.webdriver.WebDriver'>\n",
      "Found WebElement object.\n"
     ]
    }
   ],
   "source": [
    "webdriver_object = webdriver.Firefox()\n",
    "print(type(webdriver_object))\n",
    "try:\n",
    "    webdriver_object.get('https://www.wikipedia.org')\n",
    "    webelement_object = webdriver_object.find_element_by_id(\"searchInput\")\n",
    "    print('Found WebElement object.')\n",
    "except Exception as err:\n",
    "    print('Unable to find WebElement object.')\n",
    "    print(err)\n",
    "try:\n",
    "    webelement_object.send_keys('Python (programming language)')\n",
    "    webelement_object.submit()\n",
    "except Exception as err:\n",
    "    print('Unable to input and submit text string.')\n",
    "    print(err)"
   ]
  },
  {
   "cell_type": "markdown",
   "id": "b0495667-92b8-456e-b865-46a9c8917124",
   "metadata": {},
   "source": [
    "**Special Keys**"
   ]
  },
  {
   "cell_type": "code",
   "execution_count": 14,
   "id": "132a99fe-64ef-4f94-a512-548727df3ce0",
   "metadata": {},
   "outputs": [
    {
     "name": "stdout",
     "output_type": "stream",
     "text": [
      "Found WebElement object.\n"
     ]
    }
   ],
   "source": [
    "webdriver_object = webdriver.Firefox()\n",
    "try:\n",
    "    webdriver_object.get('https://en.wikipedia.org/wiki/Python_(programming_language)')\n",
    "    webelement_object = webdriver_object.find_element_by_tag_name(\"html\")\n",
    "    print('Found WebElement object.')\n",
    "except Exception as err:\n",
    "    print('Unable to find WebElement object.')\n",
    "    print(err)\n",
    "try:\n",
    "    webelement_object.send_keys(Keys.PAGE_DOWN)\n",
    "except Exception as err:\n",
    "    print('Unable to page down and up.')\n",
    "    print(err)"
   ]
  },
  {
   "cell_type": "markdown",
   "id": "26d3fbad-2839-4a58-8d72-3a83d639e358",
   "metadata": {},
   "source": [
    "---"
   ]
  }
 ],
 "metadata": {
  "kernelspec": {
   "display_name": "Python 3 (ipykernel)",
   "language": "python",
   "name": "python3"
  },
  "language_info": {
   "codemirror_mode": {
    "name": "ipython",
    "version": 3
   },
   "file_extension": ".py",
   "mimetype": "text/x-python",
   "name": "python",
   "nbconvert_exporter": "python",
   "pygments_lexer": "ipython3",
   "version": "3.9.9"
  }
 },
 "nbformat": 4,
 "nbformat_minor": 5
}
