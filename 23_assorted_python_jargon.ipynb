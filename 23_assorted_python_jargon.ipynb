{
 "cells": [
  {
   "cell_type": "markdown",
   "id": "e516cec0-dc96-4d08-ab75-045c8e41c7d3",
   "metadata": {
    "tags": []
   },
   "source": [
    "# Assorted Python Jargon\n",
    "\n",
    ">“You keep using that word. I do not think it means what you think it means.” --Inigo Montoya, The Princess Bride\n",
    "\n",
    "- Below, we'll provide terminology not covered in any other sections.  Keep in mind that sometimes, the same word can mean different things in different programming languages.\n",
    "\n",
    "- **Assignment Expressions**--also called named expressions. Uses `:=` (**Walrus Operator**) to assign a variable inside of an expression.  Simplifies code, but harder to read.  Recent addition in Python 3.8 and later.  Not necessary and in some cases not allowed or actively discouraged.  E.g. `a := 1`\n",
    "    \n",
    "- **Literals**--text in source code for a fixed, typed-out value.  The value that \"literally\" appears.  This is in contrast to variable names, whose value depends on which literal they are assigned to.\n",
    "\n",
    "Literal | Data Type\n",
    "--- | ---\n",
    "42 | Integer\n",
    "3.14 | Float\n",
    "1.488e+3 | Float\n",
    "\"Hello, World!\" | String\n",
    "r\"Hello,\\nWorld!\" | String\n",
    "b'\\x41' | Bytes\n",
    "True | Boolean\n",
    "None | None Type\n",
    "\n",
    "- **Module Attributes**--module attribuets indicated by double underscores.  These can be used upon the current script or an imported module.\n",
    "    - `__name__` or `.__name__`--returns name.   If `__name__` used on current Python script, returns `__main__`.  If `.__name__` used on imported module, returns module name.\n",
    "    - `.__doc__`--used upon module.  Returns docstring.  See *Docstrings and Help* section for more info.\n",
    "    - `.__file__`--used upon current script or imported module.  Returns file path if included.  See *File Handling* section for more info.\n",
    "    - `.__dict__`--used upon module.  Returns dictionary of module attributes and functions within module.  Same info as `dir()`.\n",
    "    \n",
    "- **Dunder methods**--short for double underscore.  Also called magic methods.  Methods having two underscores as a prefix and a suffix.  Used within class definitions.  Examples include:\n",
    "    - `__init__()`\n",
    "    - `__add__()`\n",
    "    - `__len__()`\n",
    "    - `__repr__()`\n",
    "    \n",
    "- Other uses of underscores include:\n",
    "\n",
    "![](images/underscores.png)\n",
    "\n",
    "- **Garbage Collection**.  In lower level programming languages the programmer must allocate and then deallocate (free) memory for saving data structures.  If we forgot to free memory it slow down the computer.  This is called a memory leak.  If we accidentally freed the same memory twice it would cause \"double free bugs\".  To avoid these issues and make Python faster to write, Python has \"garbage collection\".  This is the automatic memory management that tracks when to allocate and free memory so the programmer does not have to.  Whenever variable assignment takes place, the garbage collector is automatically saving data to the computer memory for us.  Whenever an object is no longer being referenced by a variable it is automatically deleted.  This occurs when functions finish running (local variables), when the script finishes running (all variables), or when we reassign variable names to new objects.\n",
    "\n",
    "- **Language level**.  Programming languages vary on how easy they are to read for computers and how easy they are to read for humans.  The easier it is for humans to read the higher-level that language is.  The easier it is for computers to read the lower-level.  E.g. in terms of level Python > C > Assembly > Byte Code > Machine Code\n",
    "\n",
    "- **Object Oriented Programming Language (OOP)**--style of programming which makes heavy use of classes, attributes, methods, and objects.  Emphasizes nouns.\n",
    "- **Functional Programming**--style of programming which makes heavy use of functions.  Emphasizes verbs.  lambda functions, `map()`, `filter()`, `reduce()`, and recursive functions are examples of functional programming.\n",
    "\n",
    "- **Implementation**.  There are often multiple ways to complete a task or write a software program.  Each way is called an implementation.  The \"reference\"/standard implementation of the Python interpreter is written in the C programming language and thus called CPython.  When we download the Python interpreter from https://www.python.org  we are downloading CPython.  There are other implementations like Jython (written in Java), PyPy (written in Python), and Cython (also in C), but they are much less used.\n",
    "\n",
    "- **Framework**--collection of code that operates with *inversion control*; the developer creates functions that the framework will call as needed, as opposed to the developer's code calling functions in the framework.  Inversion control is often described as \"Don't call us, we'll call you\".  For example, writing code for a web application framework involves creating functions for the web pages that the framework will call when a web request comes in.\n",
    "\n",
    "- **Software Development Kit (SDK)**--code libraries, documentation, an software tools to assist in creating applications for a particular operating system or platform.  For example, the Android SDK or iOS SDK are used to create mobile apps.  The Java Development Kit (JDK) is an SDK for creating applications for the JVM (Java Virtual Machine).\n",
    "\n",
    "- **Engine**--large self contained system that can be externally controlled by the developer's software.  Developers usually call functions in an engine to perform a large complex task.  Examples of engines include game engines, physics engines, recommendation engines, database engines, chess engines, and search engines"
   ]
  },
  {
   "cell_type": "markdown",
   "id": "77814d78-a8a1-4722-a4b6-2bf84f2ab52d",
   "metadata": {},
   "source": [
    "---"
   ]
  }
 ],
 "metadata": {
  "kernelspec": {
   "display_name": "Python 3 (ipykernel)",
   "language": "python",
   "name": "python3"
  },
  "language_info": {
   "codemirror_mode": {
    "name": "ipython",
    "version": 3
   },
   "file_extension": ".py",
   "mimetype": "text/x-python",
   "name": "python",
   "nbconvert_exporter": "python",
   "pygments_lexer": "ipython3",
   "version": "3.9.9"
  }
 },
 "nbformat": 4,
 "nbformat_minor": 5
}
