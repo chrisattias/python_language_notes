{
 "cells": [
  {
   "cell_type": "markdown",
   "id": "9ebbae14-79c0-453c-9b94-c99fb2d40bf3",
   "metadata": {},
   "source": [
    "## Binary Files\n",
    "- We've been reading and writing plaintext files.  Only basic data types such as integers, floats, strings, lists, and dictionaries can be written to a file as plaintext. Other objects like Regex and file objects, cannot be represented as text.  These must be saved as binary files."
   ]
  },
  {
   "cell_type": "markdown",
   "id": "0b69cb69-82c7-4c04-905d-4df70c63205a",
   "metadata": {},
   "source": [
    "---"
   ]
  },
  {
   "cell_type": "markdown",
   "id": "f2f5e784-731c-4813-bf70-cd27d6300cf1",
   "metadata": {
    "tags": []
   },
   "source": [
    "### Pickle and Shelve\n",
    "\n",
    "1. **Pickle**--encode Python data into a binary file.  Can take any Python object, pickle it, and store it as a binary file for later consumption (mmm...pickles).    Pickled data can only be read by the Python program.  Functions found in `pickle` module, however, we often don't directly interact with the `pickle` module.  Instead we interact with the `shelve` module.\n",
    "1. **Shelve**--built on top of `pickle`.  Functions found in `shelve` module.  Creates a shelf file similar to a dictionary.  Has keys and values.  Key is a text string, while value is a pickled Python object that we want to place in a shelf (file) and store (mmm...shelf pickles).  We can retrieve the pickled binary file by entering a text key.  A shelf file can be a good way to store Python data long term if it can not be stored as plaintext.\n",
    "\n",
    "Code | Use\n",
    "--- | ---\n",
    "`shelve` | Module\n",
    "`shelve.open()` | Create shelf object, which is like a dictionary. **CAUTION!** only accepts paths written as strings.  Error if path object entered.\n",
    "`<SHELF_OBJECT>['<KEY>'] = <PYTHON_OBJECT>` | Grammar for storing Python object (value) to text key in shelf file\n",
    "`<SHELF_OBJECT>.keys()` | List keys\n",
    "`del <SHELF_OBJECT>[<KEY>]` | Delete key: value pair\n",
    "`.close` | Shelf object method.  Close shelf file.\n",
    "`with shelve.open() as <SHELF_OBJECT>:` | *Context Manager* combines open and close.  It automatically closes the file when we are done with it.  It knows we are done when we de-indent.  It also closes a file correctly if there is an exception at some point in the file handling.  Using the context manager is recommended."
   ]
  },
  {
   "cell_type": "markdown",
   "id": "302f0d01-2575-40e6-85b1-f7418fd896a3",
   "metadata": {},
   "source": [
    "---"
   ]
  },
  {
   "cell_type": "markdown",
   "id": "c0e07491-06db-445a-9db4-2d99e358ad6f",
   "metadata": {},
   "source": [
    "**EXAMPLES**"
   ]
  },
  {
   "cell_type": "code",
   "execution_count": 1,
   "id": "04c870b0-21ca-46c1-bdb4-ae59aeaed0c9",
   "metadata": {},
   "outputs": [],
   "source": [
    "import shelve"
   ]
  },
  {
   "cell_type": "code",
   "execution_count": 2,
   "id": "aed044b1-eaa9-455b-b2fb-4ed714af8f74",
   "metadata": {},
   "outputs": [],
   "source": [
    "l_breakfast = ['spam', 'beans', 'spam']  # list is Python object that will be encoded as a binary file\n",
    "\n",
    "with shelve.open('./output/my_shelf_file') as shelf_object:\n",
    "    shelf_object['l_breakfast'] = l_breakfast  # 'l_breakfast' is text key"
   ]
  },
  {
   "cell_type": "code",
   "execution_count": 3,
   "id": "c60ad2c9-61b3-4a15-a4fe-a8e77f4a02ef",
   "metadata": {},
   "outputs": [
    {
     "name": "stdout",
     "output_type": "stream",
     "text": [
      "<class 'shelve.DbfilenameShelf'>\n",
      "['l_breakfast']\n",
      "['spam', 'beans', 'spam']\n"
     ]
    }
   ],
   "source": [
    "with shelve.open('./output/my_shelf_file') as shelf_object:\n",
    "    print(type(shelf_object))\n",
    "    print(list(shelf_object.keys()))\n",
    "    print(shelf_object['l_breakfast'])"
   ]
  },
  {
   "cell_type": "markdown",
   "id": "e18a8bb1-ada6-44c2-9428-ef5eb889534c",
   "metadata": {},
   "source": [
    "---"
   ]
  },
  {
   "cell_type": "markdown",
   "id": "9e7d14e5-e895-4154-9f2d-73c2d7dbec19",
   "metadata": {},
   "source": [
    "### RDBMS\n",
    "- We can also read and write data with a DBMS file\n",
    "- **Database management system (DBMS)**--computer program used to manage data.  DBMS can be non-relational in nature (called NoSQL), but the vast majority are relational databases that use SQL.   Theses are called relational DBMS, or RDBMS. \n",
    "- **Relational Database**--collection of tables that are *related* to each other by data common to each. This is the most common way to store data.\n",
    "- Databases are fundamentally CRUD:\n",
    "    1. Create data\n",
    "    1. Read (query) data\n",
    "    1. Update data\n",
    "    1. Delete data\n",
    "- **SQL**--Structured Query Language.  Communicate CRUD with RDBMS.\n",
    "- We can CRUD with a Python script by using a combination of Python commands, SQL commands, and SQLite\n",
    "- **SQLite**--RDBMS. SQLite stores data in one file on a hard drive.  Most RDBMS store a batch of separate files on a network.  SQLite is super simple and lightweight.  The most used data base in the world and embedded into many apps on phones, cars, etc.  It is actually built into Python, so we do not have to install any additional software in order to use it! The only down side is that SQLite is not great for large databases.\n",
    "\n",
    "Code | Use\n",
    "--- | ---\n",
    "`sqlite3` | Module\n",
    "`sqlite3.connect()` | Create connection object representing the database.  Parameter is database file path.  If the file does not exist it will be created.  \n",
    "`.cursor()` | Connection object method.  Creates cursor object, which is the equivalent of a file handle.\n",
    "`.execute()` | Cursor object method.  Runs/executes SQL code specified as a parameter in quotes\n",
    "`.executescript()` | Same as `execute()` except we can run multiple SQL commands separated by \";\" at once.\n",
    "`.fetchall()` | Cursor object method.  Returns (brings into Python) all the records from a RDBMS table that are currently selected.  Returns a list of records.  Each record is a tuple.  If nothing selected returns an empty list.\n",
    "`.fetchone()` | Cursor object method.  Same as `fetchall()` but only returns first record.  If nothing selected returns None.\n",
    "`.commit()` | Connection object method.  Forces data to be written to database file on hard drive.  Up until then, all info is in RAM.\n",
    "`.close()` | Connection object method.  Closes SQLite database file\n",
    "`?` | Is a placeholder used within the SQL code.  It helps prevent SQL injection.  The ? is replaced by a value in a tuple.  Multiple ? can be used."
   ]
  },
  {
   "cell_type": "markdown",
   "id": "95252c8d-9cef-4778-8890-3cf36bf9371a",
   "metadata": {},
   "source": [
    "---"
   ]
  },
  {
   "cell_type": "markdown",
   "id": "1bc84ecd-9350-4e93-b8b4-b8dbd49a4573",
   "metadata": {},
   "source": [
    "**EXAMPLES**"
   ]
  },
  {
   "cell_type": "code",
   "execution_count": 4,
   "id": "4a86c785-1553-4705-86b8-b0d8d3068698",
   "metadata": {},
   "outputs": [],
   "source": [
    "import sqlite3\n",
    "import re"
   ]
  },
  {
   "cell_type": "markdown",
   "id": "9d9a5dc4-8afa-4501-9db8-fa214859e2db",
   "metadata": {},
   "source": [
    "**Simple Example**"
   ]
  },
  {
   "cell_type": "code",
   "execution_count": 5,
   "id": "32740232-2e04-4b57-bc32-65243fc930ff",
   "metadata": {},
   "outputs": [
    {
     "name": "stdout",
     "output_type": "stream",
     "text": [
      "<class 'sqlite3.Connection'>\n",
      "<class 'sqlite3.Cursor'>\n",
      "<class 'tuple'>\n",
      "('Spam',)\n"
     ]
    }
   ],
   "source": [
    "con = sqlite3.connect('output/my_db.db')\n",
    "print(type(con))\n",
    "\n",
    "cur = con.cursor()\n",
    "print(type(cur))\n",
    "\n",
    "# Deletes table if it already exists.\n",
    "# We do this, so we can run the table creation code multiple times\n",
    "# If there were already a table with that name in the db we would get an error\n",
    "cur.execute('DROP TABLE IF EXISTS Breakfast')\n",
    "\n",
    "cur.execute('CREATE TABLE Breakfast (column_food TEXT (128))')\n",
    "\n",
    "cur.executescript('''\n",
    "    INSERT INTO Breakfast (column_food) VALUES (\"Spam\");\n",
    "    INSERT INTO Breakfast (column_food) VALUES (\"Beans\")\n",
    "''')\n",
    "\n",
    "con.commit()\n",
    "\n",
    "# SELECT certain records in table to work with\n",
    "cur.execute('SELECT * FROM Breakfast WHERE column_food = \"Spam\"')\n",
    "for record in cur:  # Only looks at selected records\n",
    "    print(type(record))\n",
    "    print(record)\n",
    "\n",
    "con.close()"
   ]
  },
  {
   "cell_type": "markdown",
   "id": "7aa658b4-a8f9-4893-a8c5-9009e7847e9f",
   "metadata": {},
   "source": [
    "**Complex Example**\n",
    "- Create table with the total number of times a domain is seen in an email that was sent in the mbox file\n",
    "    - E.g. the domain of \"lumberjack@humboldt.edu\" is \"humboldt.edu\"\n",
    "- We want to count how many times this domain was used as a sender"
   ]
  },
  {
   "cell_type": "code",
   "execution_count": 6,
   "id": "e183b35f-a617-469d-b132-fc3037c99a0a",
   "metadata": {},
   "outputs": [
    {
     "name": "stdout",
     "output_type": "stream",
     "text": [
      "<class 'list'>\n",
      "('iupui.edu', 536)\n",
      "('umich.edu', 491)\n",
      "('indiana.edu', 178)\n",
      "('caret.cam.ac.uk', 157)\n",
      "('vt.edu', 110)\n",
      "('uct.ac.za', 96)\n",
      "('media.berkeley.edu', 56)\n",
      "('ufp.pt', 28)\n",
      "('gmail.com', 25)\n",
      "('et.gatech.edu', 17)\n"
     ]
    }
   ],
   "source": [
    "con = sqlite3.connect('output/emaildb.sqlite')\n",
    "cur = con.cursor()\n",
    "\n",
    "# Drop table if exists so that we don't repeat counting steps if we run code multiple times\n",
    "cur.execute('DROP TABLE IF EXISTS table_counts')\n",
    "\n",
    "# Create new table\n",
    "# Instead of a Python dictionary we are using a SQLite table\n",
    "# Our key is now column_domain \n",
    "# Our value is now column_count\n",
    "cur.execute('CREATE TABLE table_counts (column_domain TEXT, column_count INTEGER)')\n",
    "\n",
    "# Sender emails start with 'From '. \n",
    "# Used so we don't create blank lists in next step\n",
    "# Isolate domain one line at a time\n",
    "fh_mbox = open('input/mbox.txt', 'rt')\n",
    "for s_line in fh_mbox:\n",
    "    if s_line.startswith('From '):\n",
    "        l_domain = re.findall('^From \\S+@(\\S+)', s_line)\n",
    "        s_domain = l_domain[0]\n",
    "        \n",
    "        # The following chunks of code are similar to the .get method for dicionaries\n",
    "        # For each domain name we find, our goal is to add one to the record's value in the column_count\n",
    "        # Select a record that has a value of the current domain\n",
    "        # The ? is a placeholder meant to stop SQL injection\n",
    "        # The portion after the comma is a tuple with one value in it.  The tuple will replace the ?\n",
    "        # Using ? is not necessary for us here, but good practice\n",
    "        cur.execute('SELECT column_count FROM table_counts WHERE column_domain = ?', (s_domain,))\n",
    "      \n",
    "        # Fetchone pulls first currently selected record from table into Python\n",
    "        # So the record with the current domain is returned\n",
    "        record = cur.fetchone()\n",
    "       \n",
    "       # The first time a domain is seen there is no record yet\n",
    "       # We insert a new record withthe domain and a count of 1\n",
    "        if record is None:\n",
    "            cur.execute('''\n",
    "                INSERT INTO table_counts (column_domain, column_count)\n",
    "                VALUES (?,1)''', (s_domain,))\n",
    "        \n",
    "        # If the domain is already in the table then we add one to the count\n",
    "        else:\n",
    "            cur.execute('''\n",
    "                UPDATE table_counts\n",
    "                SET column_count = column_count + 1\n",
    "                WHERE column_domain = ?''', (s_domain,))\n",
    "        \n",
    "        con.commit()\n",
    "\n",
    "# Select 10 most popular domains\n",
    "cur.execute('''\n",
    "    SELECT *\n",
    "    FROM table_counts\n",
    "    ORDER BY column_count DESC\n",
    "    LIMIT 10--00'\n",
    "''')\n",
    "\n",
    "# Make selection a variable using fetchall.\n",
    "# This gives us a list of records\n",
    "# Each record is a tuple\n",
    "l_top_10_domains = cur.fetchall()\n",
    "print(type(l_top_10_domains))\n",
    "for record in l_top_10_domains:\n",
    "    print(record)\n",
    "\n",
    "con.close()"
   ]
  },
  {
   "cell_type": "markdown",
   "id": "5178ba69-0738-40b3-8e06-0182ee9166b2",
   "metadata": {},
   "source": [
    "---"
   ]
  },
  {
   "cell_type": "markdown",
   "id": "a878ec99-e66c-432b-a74f-a409d79ef404",
   "metadata": {},
   "source": [
    "### MS Excel\n",
    "\n",
    "- Tabular data is often handled with the `pandas` library.  `pandas` can read and write Excel files.  However, there may be times when we need to automate the creation of Excel files.\n",
    "- `openpyxl` is the most popular module for working with Excel documents\n",
    "-  An Excel document has 3 main parts:\n",
    "    1. **Workbook**--entire Excel document\n",
    "    1. **Sheet/worksheet**--single page of the workbook\n",
    "    1. **Cells**-- cells that can be described by their column letter and row number\n",
    "- `openpyxl` has 3 main objects:\n",
    "    1. **Workbook object**\n",
    "    1. **Sheet object**--note that sheet indices start at 0 like they do in Python sequences.\n",
    "    1. **Cell object**--note that cell indices start at 1 like the they do in Excel."
   ]
  },
  {
   "cell_type": "markdown",
   "id": "387187bd-34fc-4d3a-8e19-71545faffd86",
   "metadata": {},
   "source": [
    "- Code for working with workbook objects:\n",
    "\n",
    "Code | Use\n",
    "--- | ---\n",
    "`openpyxl` | Module\n",
    "`openpyxl.Workbook()` | Returns workbook object by creating new workbook.  Starts with one sheet named \"Sheet\".\n",
    "`openpyxl.load_workbook(<FILENAME.xlsx>)` | Returns workbook object by opening existing workbook.   If we want to retrieve the result of a cell’s formula instead of the cell's formula itself, use argument `data_only = True`.\n",
    "`.sheetnames` | Workbook object attribute.  Returns list of sheet names.\n",
    "`.create_sheet()` | Workbook object method.  Create sheet. By default names sheet `Sheet#` where number is one more than any other existing sheet name.   Optionally, specify title with argument `title = \"<SHEETNAME>\"`. By default places sheet after existing sheets.  Optionally, specify index with argument `index = #`.\n",
    "`[\"<SHEETNAME>\"]` | Used upon workbook object.  Returns specified sheet object.\n",
    "`.save(\"<FILENAME>.xlsx\")` | Workbook object method. Save workbook.  If we open an existing workbook and edit it, we should always save to a new file name in case there are errors in code."
   ]
  },
  {
   "cell_type": "markdown",
   "id": "9dbba183-1582-49a0-be8b-130bccc77e57",
   "metadata": {},
   "source": [
    "- Code for working with sheet objects:\n",
    "\n",
    "Code | Use\n",
    "--- | ---\n",
    "`.title` | Sheet object attribute.  Returns sheet name as string.\n",
    "`.title = \"<SHEETNAME>\"` | Change sheet name\n",
    "`openpyxl.utils.column_index_from_string()` | Return converted column letter as integer\n",
    "`openpyxl.utils.get_column_letter()` | Return converted column integer as letter"
   ]
  },
  {
   "cell_type": "markdown",
   "id": "2c7cb77b-4150-419b-ba49-18f4d50acdfe",
   "metadata": {},
   "source": [
    "- Code for accessing cell objects\n",
    "\n",
    "Code | Use\n",
    "--- | ---\n",
    "`[\"<LETTER_NUMBER>\"]` | Used upon sheet object.  Returns specified cell object.\n",
    "`[\"<LETTER_NUMBER>\"] = <VALUE>` | Change cell value.  New value Python data type automatically converted into correct Excel data type.  Value can be a string with an Excel formula in it.\n",
    "`.cell(row = #, column = #)` | Sheet object method. Returns specified cell object. Column argument uses integer instead of letter.  Optionally, also specify cell value with argument `value = <VALUE>` or by `.cell().value = <VALUE>`.  Alternative to `[\"<LETTER_NUMBER>\"]`.\n",
    "`[\"<LETTER_NUMBER>\":\"<LETTER_NUMBER>\"]` | Used upon sheet object.  Returns tuple of tuples of cell objects.  The inner tuple is a row of cell objects.  The outer tuple contains the row tuples.  There are multiple ways to get cell objects grouped  by row, such as `tuple(<SHEET_OBJECT>.rows)`.  There are also ways to get cell objects grouped by column, such as `tuple(<SHEET_OBJECT>.columns)`."
   ]
  },
  {
   "cell_type": "markdown",
   "id": "2dcf3b19-363f-48c5-be02-86e0ba139e6c",
   "metadata": {},
   "source": [
    "- Code for working with cell objects\n",
    "\n",
    "Code | Use\n",
    "--- | ---\n",
    "`.value` | Cell object attribute.  Returns the cell's value.  Automatically converts Excel data type to correct Python data type."
   ]
  },
  {
   "cell_type": "markdown",
   "id": "4cf0d378-3b6f-4b71-9ec6-682d74076779",
   "metadata": {},
   "source": [
    "---"
   ]
  },
  {
   "cell_type": "markdown",
   "id": "f51a51c6-9009-4e9c-96d0-124426a9083a",
   "metadata": {},
   "source": [
    "**EXAMPLES**"
   ]
  },
  {
   "cell_type": "code",
   "execution_count": 7,
   "id": "50189ec0-4471-47e5-a393-255f1de8a615",
   "metadata": {},
   "outputs": [],
   "source": [
    "import openpyxl"
   ]
  },
  {
   "cell_type": "markdown",
   "id": "9ae1ac3b-6dfb-43bc-980d-fea0204c248d",
   "metadata": {},
   "source": [
    "**3 Objects**"
   ]
  },
  {
   "cell_type": "code",
   "execution_count": 8,
   "id": "2d930ed2-e5c3-4f87-bbf4-b6cb0c54abcb",
   "metadata": {},
   "outputs": [
    {
     "name": "stdout",
     "output_type": "stream",
     "text": [
      "<class 'openpyxl.workbook.workbook.Workbook'>\n",
      "<class 'openpyxl.worksheet.worksheet.Worksheet'>\n",
      "<class 'openpyxl.cell.cell.Cell'>\n"
     ]
    }
   ],
   "source": [
    "wo = openpyxl.load_workbook('input/example.xlsx')\n",
    "print(type(wo))\n",
    "so = wo['Sheet1']\n",
    "print(type(so))\n",
    "co_b1 = so['B1']\n",
    "co_b1 = so.cell(row = 1, column = 2) # Does same thing\n",
    "print(type(co_b1))"
   ]
  },
  {
   "cell_type": "markdown",
   "id": "c1df27ca-6a2c-4807-aa7c-70c72d7811ed",
   "metadata": {},
   "source": [
    "**Write New Workbook, Sheet, and Cell Values**"
   ]
  },
  {
   "cell_type": "code",
   "execution_count": 9,
   "id": "89a898d6-1f8c-44c8-9b22-507b44131a12",
   "metadata": {},
   "outputs": [],
   "source": [
    "wo = openpyxl.Workbook()\n",
    "wo.create_sheet(title = 'good_sheet', index = 1)\n",
    "so['A1'] = 'Column A'\n",
    "so['B1'] = 'Column B'\n",
    "so['A2'] = \"Spam\"\n",
    "so['B2'] = \"Eggs\"\n",
    "wo.save('output/example_new.xlsx')"
   ]
  },
  {
   "cell_type": "markdown",
   "id": "0a3b8a10-635c-4659-8851-ac201f6e1964",
   "metadata": {},
   "source": [
    "---"
   ]
  },
  {
   "cell_type": "markdown",
   "id": "20d94b48-3c99-4e82-95a8-b00135ee2e1d",
   "metadata": {},
   "source": [
    "### Google Sheets\n",
    "\n",
    "- Tabular data is often handled with the `pandas` library. However, there may be times when we want to automate downloads from Google Sheets or uploads to Google Sheets.\n",
    "- Google Sheets is analogous to MS Excel, but on the cloud.  Working with Google Sheets is more complicated than Excel because it is cloud based and attached to a Google account at all times.  There is a Google API that tells Python scripts how to interact with it.  We can avoid some of the more complicated parts of the API by using a third party Python library.\n",
    "- `gspread` is the most popular Python library for working with Google Sheets.  We'll focus on linking the Python script to Google Sheets (authentication) and provide some general tips for using `gspread`.\n",
    "- We'll provide a single code example, but this will not be functional without a valid credential."
   ]
  },
  {
   "cell_type": "markdown",
   "id": "3a01945c-76ae-4c3d-87f0-6ff9f01e5f1a",
   "metadata": {},
   "source": [
    "**AUTHENTICATION**\n",
    "\n",
    "Before we an connect to a Google Sheets spreadsheet we must authenticate our Python script.  The `gspread` documentation notes that using Google Colaboratory (Colab) may be the easiest route as Colab is integrated with the Google Drive.  This can make the authentication of accounts  easier.  If we don't want to use Colab we can take the following steps (as of 2021):\n",
    "\n",
    "1. Log into a Google account\n",
    "1. Navigate to the Google Developer Console and create a Google Cloud Platform project\n",
    "1. Enable both Google Drive and Google Sheets APIs for this project\n",
    "1. Create an \"OAuth consent screen\" for the \"app\" we are making\n",
    "    - Publishing status = Testing\n",
    "    - User Type = External (Internal not an option)\n",
    "    - Test Users = add Google account email\n",
    "1. Create Credentials for OAuth 2.0 Client ID for Desktop App\n",
    "1. Download this JSON credential file and rename it `credentials.json`\n",
    "1. For Windows, place credentials file in path: `C:/Users/<USER>/AppData/Roaming/gspread/credentials.json.` An `authorized_user.json` file will be created in this folder automatically after the first Python script with `gspread` is run.  \n",
    "    - Note that the gspread folder will need to be created. `gspread` documentation tells us to place this in `AppData`, but this raised an exception that hinted we needed to place the file in the`Roaming` folder.\n",
    "1. *Do not share credentials with anyone.  They do not grant access to a Google account, but do grant access to the spreadsheet.*"
   ]
  },
  {
   "cell_type": "markdown",
   "id": "59a7086a-2b3c-4daf-a5aa-032e7b581829",
   "metadata": {},
   "source": [
    "**TIPS**\n",
    "\n",
    "- A Google Sheets document has 3 main parts:\n",
    "    1. **Spreadsheet**--equivalent of an Excel **workbook**\n",
    "    1. **Sheet**\n",
    "    1. **Cell**\n",
    "- `gspread` has 4 main objects:\n",
    "    1. **Client object**-authenticates Google account\n",
    "    1. **Spreadsheet object**\n",
    "    1. **Worksheet object**--represents a Google sheet.  Worksheet indices start at 0 like they do in Python sequences\n",
    "    1. **Cell object**--cell indices start at 1 like the they do in Excel and Google Sheets.\n",
    "- A sheet can have up to 5 million cells. However, the fewer the faster.  It is a good idea to set the column and row count of a sheet to only those needed.\n",
    "- Updating (changing) cells individually takes about 1 second per cell.  This is because each time a method updates an individual cell, that method sends an API request.  It is faster to modify all cells in entire sheet in one API request.\n",
    "- Google Sheets sets quotas for read and write operations.   The quota is 100 requests per 100 seconds per user. If the script hits that limit, `APIError 429 RESOURCE_EXHAUSTED` is raised.\n",
    "- To increase speed and avoid quota exceptions:\n",
    "    1. Download all cell values from a sheet with one method call\n",
    "    1. Modify values with Python. The `pandas` Python library is often used.\n",
    "    1. Upload modified cell values to Google Sheets with one method call"
   ]
  },
  {
   "cell_type": "markdown",
   "id": "9ed3df72-aede-48d0-bfa3-4ab91ff7817f",
   "metadata": {},
   "source": [
    "- Code for working with client objects\n",
    "\n",
    "Code | Use\n",
    "--- | ---\n",
    "`gspread` | Module\n",
    "`gc = gspread.oauth()` | Returns a client object.  Assigned to variable `gc` in documentation.  The first time this is run, it should launch browser window(s) where Google asks for verification.\n",
    "`.create(\"<TITLE>\")` | Client object method.  Return spreadsheet object by creating new spreadsheet.\n",
    "`.open(\"<TITLE>\")` | Client object method.  Return spreadsheet object by accessing existing Google Sheet spreadsheet with title.  Will cause error if multiple spreadsheets have same title.  Best to use key or URL.\n",
    "`.open_by_url(\"<URL>\")` | Client object method.  Return spreadsheet object by accessing existing Google Sheet spreadsheet using spreadsheet URL.\n",
    "`.open_by_key(\"<KEY>\")` | Client object method.  Return spreadsheet object by accessing existing Google Sheet spreadsheet.    Key found in URL, after the `spreadsheet/d/` part and before the `/edit` part."
   ]
  },
  {
   "cell_type": "markdown",
   "id": "bad3a38c-bb1d-4f5a-89f8-a969ee52637f",
   "metadata": {},
   "source": [
    "- Code for working with spreadsheet objects\n",
    "\n",
    "Code | Use\n",
    "--- | ---\n",
    "`.add_worksheet()` | Spreadsheet object method.  Returns worksheet object by creating new worksheet.  Arguments are `title = \"<TITLE>\"`, `rows = \"#\"`, and `cols = \"#\"`.\n",
    "`.worksheets()` | Spreadsheet object method.  Return list of all worksheets.\n",
    "`.worksheet(\"<TITLE>\")` | Spreadsheet object method.  Returns worksheet object.\n",
    "`.get_worksheet(<INDEX #>)` | Spreadsheet object method.  Returns worksheet object."
   ]
  },
  {
   "cell_type": "markdown",
   "id": "74f52156-1bf1-4292-868f-049b675b3e28",
   "metadata": {},
   "source": [
    "- Code for working with worksheet objects and cell objects\n",
    "\n",
    "Code | Use\n",
    "--- | ---\n",
    "`.acell(\"<LETTER_NUMBER\">)` | Worksheet object method.  Returns cell object.  Optionally, return formula instead of cell value using argument `value_render_option='FORMULA'`.\n",
    "`.cell(row = #, col = #)` |  Worksheet object method.  Returns cell object.  Optionally, return formula instead of cell value using argument `value_render_option='FORMULA'`.\n",
    "`pd.DataFrame(<WORKSHEET_OBJECT>.get_all_records())` | Convert a worksheet object into Pandas data frame object.  Pandas is imported as `pd`.\n",
    "`<WORKSHEET_OBJECT>.update([<DF>.columns.values.tolist()] + <DF>.values.tolist())` | Convert Pandas data frame object into a worksheet object"
   ]
  },
  {
   "cell_type": "markdown",
   "id": "46064f1d-f303-4c66-8e33-679fd6b99993",
   "metadata": {},
   "source": [
    "---"
   ]
  },
  {
   "cell_type": "markdown",
   "id": "2741e626-0464-41c1-ad81-5b3a2909eaf7",
   "metadata": {},
   "source": [
    "**EXAMPLES**"
   ]
  },
  {
   "cell_type": "markdown",
   "id": "fbb19a0a-6066-4f71-86bb-c042b781f836",
   "metadata": {},
   "source": [
    "**4 Objects**"
   ]
  },
  {
   "cell_type": "markdown",
   "id": "dc5aa573-9969-48c6-b8a4-c6da5be7f1fc",
   "metadata": {},
   "source": [
    "- The Python code in this cell raises an exception when run\n",
    "- To avoid exceptions and allow the ipython kernel to run all code cells at once, this cell has been converted into a Markdown cell\n",
    "- Markdown grammar displays text as if it were Python code\n",
    "- It raises an exception because the token in the credential file we have generated and use to log in expired\n",
    "\n",
    "```Python\n",
    "import gspread\n",
    "\n",
    "gc = gspread.oauth()\n",
    "print(type(gc))\n",
    "spreadsheet_object = gc.open_by_key('<KEY>')\n",
    "print(type(spreadsheet_object))\n",
    "worksheet_object = spreadsheet_object.get_worksheet(0)\n",
    "print(type(worksheet_object))\n",
    "cell_object = worksheet_object.cell(row = 2, col = 2)\n",
    "print(type(cell_object))\n",
    "```"
   ]
  },
  {
   "cell_type": "markdown",
   "id": "5f4511f9-c04c-402d-af9f-79a5f42df155",
   "metadata": {},
   "source": [
    "---"
   ]
  },
  {
   "cell_type": "markdown",
   "id": "ec43f556-4b2c-470a-94ae-6c021b51de2e",
   "metadata": {
    "tags": []
   },
   "source": [
    "### PDFs\n",
    "- **PDF**--portable document format.  File extension is .pdf.  Created by Adobe in 1992.  In addition to text, they store font, color, layout information, images, and sometimes even JavaScript.  PDFs are binary files, which makes them much more complex than plaintext files.\n",
    "- There are additional PDF standards for specific use cases like PDF/A, PDF/E, PDF/X, PDF/UA, and PDF/VT\n",
    "- There are different types of functionality when it comes to PDF handling programs:\n",
    "    1. **Editors**--edit or otherwise modify PDF files\n",
    "        - E.g. Adobe Acrobat Pro, Nitro Pro, Foxit PDF Editor, etc.\n",
    "    1. **Creators**--convert other file formats to PDFs\n",
    "        - E.g. any PDF editor, Adobe Illustrator + Photoshop, GIMP,  MS + Libre + Google office suites, LaTeX/Tex programs, etc.\n",
    "        - E.g. some PDF creator programs like photo editors and office suites also allow us to perform PDF editing indirectly.  E.g. convert PDF to Word document, edit Word Document, then export back to PDF.\n",
    "    1. **Readers**--open, read, and print PDFs\n",
    "        - E.g. any PDF editor, Adobe Reader, Nitro PDF Reader, Foxit Reader, all web browsers, etc.\n",
    "    1. **Converters**--convert PDF files to other formats\n",
    "        - E.g. any PDF editor, software libraries like poppler and MuPDF, many websites, etc.\n",
    "- When it comes to text, we are concerned with 3 types of PDFs:\n",
    "    1. **Image only PDF**--PDF of an image.  Single image layer.  Can not copy text nor search text.\n",
    "    1. **Image + OCR (Searchable) PDF**--when an image only PDF (or other type of image file) is processed with **optical character recognition (OCR)** algorithms.  OCR recognizes text and places it in a new layer.  Can then copy and search for text.  Works well on documents that have all text  Can perform poorly on documents that have more styling or pictures.\n",
    "    1. **Digitally Created (True PDF)**--PDF created from original document (like .docx file).  Easy to copy and search for text.\n",
    "- There does not appear to be a clear favorite, but the most promising libraries in 2021 include:\n",
    "    1. **PyMuPDF**--PDF text and image extraction, PDF encryption/decryption, and PDF editing at the page and document level.  E.g. we could not add a new sentence to page 4 of a PDF; however, we could select page 4 and write it to a new PDF file.  Optionally uses Python-tesseract if OCR is needed.\n",
    "    1. **Python-tesseract**--Google library for OCR text extraction\n",
    "    1. **Camelot**--PDF table text extraction into Pandas dataframe\n",
    "- We won't provide any example code, but know that these libraries exist if needed.  "
   ]
  },
  {
   "cell_type": "markdown",
   "id": "475268ce-5bd2-4145-9db8-9cfd411de530",
   "metadata": {},
   "source": [
    "---"
   ]
  },
  {
   "cell_type": "markdown",
   "id": "de4b75e1-93b0-4777-a03c-cea2215ad1d2",
   "metadata": {
    "tags": []
   },
   "source": [
    "### MS Word\n",
    "- **Word document**--file extension is .docx.  Binary file. In addition to text, Word documents store font, color, layout information, images, etc.\n",
    "- We can add new paragraphs, headings, breaks, and pictures to the Word document, though only to the end of a Word document.  Though easier to work with than PDFs, Word documents are still hard to manipulate with Python.\n",
    "- We'll use the `docx` module to work with Word documents.  Note that the library is named `python-docx` on PyPI and Conda Forge.  Do NOT download the package named `docx`.  With that noted, we'll be referring to the `python-docx` download as`docx` from now on as that is the module that we import into Python scripts.\n",
    "- The `docx` module breaks a Word document into objects.  The 3 main ones are:\n",
    "    1. **Document object**--the entire Word document\n",
    "    1. **Paragraph object**--paragraphs are designated in Word with Enter or Return while typing\n",
    "    1. **Run object**--contiguous run of text with the same style.  A style is a collection of text attributes in Word like font, size, and color.\n",
    "\n",
    "![](images/word_docx_runs.jpg)"
   ]
  },
  {
   "cell_type": "markdown",
   "id": "fda8d42f-3f64-4305-99db-f91d0142a47a",
   "metadata": {},
   "source": [
    "Code | Use\n",
    "--- | ---\n",
    "`docx` | Module\n",
    "`docx.Document()` | Return document object by creating new document.  Optionally, load existing document by passing `\"<FILENAME>\"` as argument.\n",
    "`.save(\"<FILENAME>\")` | Document object method.  Write file.\n",
    "`.add_paragraph(\"<PARAGRAPH_TEXT>\")` | Document object method.  Adds paragraph.\n",
    "`.paragraphs` | Document object attribute.  Returns list of paragraph objects. Use `[<INDEX #>]` on list to return specified paragraph object.\n",
    "`.add_run(\"<TEXT>\")` | Paragraph object method.  Add new run.\n",
    "`.runs` | Paragraph object attribute.  Returns list of runs.\n",
    "`.text` | Paragraph object or run object attribute.  Return text. Use ` = \"<TEXT>\"` to change text."
   ]
  },
  {
   "cell_type": "markdown",
   "id": "84f683f4-45b9-4a06-9b6b-e58f47064138",
   "metadata": {},
   "source": [
    "---"
   ]
  },
  {
   "cell_type": "markdown",
   "id": "3d26ed36-cb74-4b97-a25e-b6d73af2df27",
   "metadata": {},
   "source": [
    "**EXAMPES**"
   ]
  },
  {
   "cell_type": "code",
   "execution_count": 10,
   "id": "8c378d0f-ebfe-4b5e-aa26-afa6b8394a4c",
   "metadata": {},
   "outputs": [],
   "source": [
    "import docx"
   ]
  },
  {
   "cell_type": "markdown",
   "id": "737c345c-123d-4633-aeea-44a00fa3c137",
   "metadata": {},
   "source": [
    "**3 Main Objects**"
   ]
  },
  {
   "cell_type": "code",
   "execution_count": 11,
   "id": "c2cf7250-9bcd-4af0-92fc-07bbf73bc195",
   "metadata": {},
   "outputs": [
    {
     "name": "stdout",
     "output_type": "stream",
     "text": [
      "<class 'docx.document.Document'>\n",
      "<class 'docx.text.paragraph.Paragraph'>\n",
      "<class 'docx.text.run.Run'>\n"
     ]
    }
   ],
   "source": [
    "do = docx.Document()\n",
    "print(type(do))\n",
    "do.add_paragraph(\"Hello world\")\n",
    "po = do.paragraphs[0]\n",
    "print(type(po))\n",
    "ro = po.runs[0]\n",
    "print(type(ro))"
   ]
  },
  {
   "cell_type": "markdown",
   "id": "e2fea85a-7c22-445d-92d0-432d5b2d2679",
   "metadata": {},
   "source": [
    "**Create and Write**"
   ]
  },
  {
   "cell_type": "code",
   "execution_count": 12,
   "id": "4f920170-1d2c-4b93-967a-5a01b82622a4",
   "metadata": {},
   "outputs": [],
   "source": [
    "do = docx.Document()\n",
    "do.add_paragraph(\"\")\n",
    "po = do.paragraphs[0]\n",
    "ro = po.add_run(\"Hello world\")\n",
    "ro.text = \"Hello moon\"\n",
    "do.save(\"output/example.docx\")"
   ]
  },
  {
   "cell_type": "markdown",
   "id": "8cd3a6f1-b2d4-4801-abff-6b67bce547ba",
   "metadata": {},
   "source": [
    "---"
   ]
  },
  {
   "cell_type": "markdown",
   "id": "90590480-36ae-4b9a-aec0-18eabb414051",
   "metadata": {},
   "source": [
    "### Images\n",
    "\n",
    "- There are many photo editor programs out there, from Adobe Photoshop to GIMP\n",
    "- There are also many Python libraries that can be used to handle image files.  Some of the most popular image handling libraries are actually aimed at machine learning.  These include NumPy, SciPy, Scikit-image, and OpenCV-Python.\n",
    "- The pillow library is an active, popular fork of the no longer maintained PIL library.  PIL stands for Python Imaging Library.  Unlike the machine learning libraries listed above, pillow excels at batch processing, image handling, and basic photo editing.\n",
    "- If each photo we are working with is unique, then other photo editor programs will likely be more useful\n",
    "- If we have to perform repetitive, simple image handling, then pillow may be a useful alternative to programs like Adobe Photoshop and GIMP (which also have batch processing capabilities)\n",
    "- We'll provide some background information on image files and then use a couple basic functions from the pillow library.  There is much more functionality that can be found in online documentation.\n",
    "- **Subtractive color model**--CMYK (cyan, magenta, yellow, and black) are printed on a white background as a series of dots.  Used for print documents. \n",
    "- **Additive color model**--displays red, green, and blue (RGB) light over a black background.  Mixing these light colors creates new ones.  Additive color model used in computer and television screens.  Each pixel (picture element) has an RGB value.  Can also include an alpha value, as in RGBA.\n",
    "- **Alpha**--transparency level.  Alpha is often a value between 0 and 1, with 0 being transparent and 1 being opaque.\n",
    "- In pillow, each color (and alpha) in each pixel takes on a value ranging from 0-255.  These values are stored in a tuple: (R, G, B, A).  E.g. red is (255, 0, 0, 255).\n",
    "- In pillow, there are many color names like \"red\" or \"cornflower blue\" with pre-determined tuples.  These can be found in documentation.  A handful of common ones are:\n",
    "    - Red = (255, 0, 0, 255)\n",
    "    - Green = (0, 128, 0, 255)\n",
    "    - Blue = (0, 0, 255, 255)\n",
    "    - White = (255, 255, 255, 255)\n",
    "    - Black = (0, 0, 0, 0)\n",
    "- Image pixels are arranged in a grid and addressed with x and y coordinates.  Unlike the normal Cartesian grid, the origin for image pixels is in the top left.  X values increase as one moves right, but y values increase as one moves down!\n",
    "\n",
    "![](images/pixel_coordinates.jpg)\n",
    "\n",
    "- A single pixel can be specified using a tuple of two integers, (x, y).\n",
    "- The size of the entire image can be specified with a tuple or two integers (width, height).\n",
    "- A \"box\" tuple can specified a 2D range of pixels using four integers.  In order, these are:\n",
    "    1. Left.  x coordinate of leftmost edge of box\n",
    "    1. Top.  y coordinate of uppermost edge of box\n",
    "    1. Right.  x coordinate of one pixel to the right of the rightmost edge of box\n",
    "    1. Bottom.  y coordinate of one pixel lower than the bottom edge of the box.\n",
    "\n",
    "![](images/pixel_box_coordinates.jpg)"
   ]
  },
  {
   "cell_type": "markdown",
   "id": "8c1d6df3-b929-49ff-aa31-160f3790e257",
   "metadata": {},
   "source": [
    "Code | Use\n",
    "--- | ---\n",
    "`from PIL import Image` | Main module.  Even though this is the pillow module, the creators maintained backwards compatibility with PIL, which lead to this import grammar.\n",
    "`Image.open('<FILENAME>')` | Return image object from specified file\n",
    "`.size` | Image object attribute.  Return size as tuple of two integers.\n",
    "`.filename` | Image object attribute.  Return image filename.\n",
    "`.format` | Image object attribute.  Return image format.\n",
    "`.format_description` | Image object attribute.  Return image format description.\n",
    "`.crop(<BOX_TUPLE>)` | Image object method.  Creates copy of image object then crops copy so new image object has specified 2D pixel range.  Does not modify original image object.\n",
    "`.paste(<IMAGE_OBJECT>, (x,y))` | Image object method.  Creates copy of image object and then pastes specified image object on top of that.  The top left corner of the second image will be located at the (x,y) coordinates specified in the first image.\n",
    "`.save('<FILNAME>')` | Image object method.  Save image with specified filename and file format indicated by extension.  Pillow converts between formats for us.\n",
    "`from PIL import ImageColor` | Module for working with RGBA color\n",
    "`ImageColor.getcolor(\"<COLOR>\", \"RGBA\")` | Return tuple of RGBA values for specified color"
   ]
  },
  {
   "cell_type": "markdown",
   "id": "e7d8de7a-993e-442f-b77e-57f59b8aad22",
   "metadata": {},
   "source": [
    "---"
   ]
  },
  {
   "cell_type": "markdown",
   "id": "da0223fa-4178-45e8-877c-712416555082",
   "metadata": {},
   "source": [
    "**EXAMPLES**"
   ]
  },
  {
   "cell_type": "code",
   "execution_count": 13,
   "id": "e1ce6a5c-216f-4c21-9f6e-e372f002c428",
   "metadata": {},
   "outputs": [],
   "source": [
    "from PIL import Image"
   ]
  },
  {
   "cell_type": "markdown",
   "id": "59c6d213-1e43-4d97-bd24-2cfa7798d486",
   "metadata": {},
   "source": [
    "**Change File Type**"
   ]
  },
  {
   "cell_type": "code",
   "execution_count": 14,
   "id": "4b0e90f6-0b7c-437e-a8b9-77b3cc30c5b4",
   "metadata": {},
   "outputs": [
    {
     "name": "stdout",
     "output_type": "stream",
     "text": [
      "<class 'PIL.JpegImagePlugin.JpegImageFile'>\n",
      "<class 'PIL.PngImagePlugin.PngImageFile'>\n"
     ]
    }
   ],
   "source": [
    "jpg_image = Image.open(\"input/monty_python.jpg\")\n",
    "print(type(jpg_image))\n",
    "jpg_image.save(\"output/monty_python.png\")\n",
    "png_image = Image.open(\"output/monty_python.png\")\n",
    "print(type(png_image))"
   ]
  },
  {
   "cell_type": "markdown",
   "id": "a21ece1e-d35f-4138-8c67-f88cba3eecd5",
   "metadata": {},
   "source": [
    "**`.crop()` and `.paste()`**"
   ]
  },
  {
   "cell_type": "code",
   "execution_count": 15,
   "id": "d1684d59-53d1-4b13-b6a2-51d59e2e41b0",
   "metadata": {},
   "outputs": [],
   "source": [
    "rabbit_image = Image.open(\"input/rabbit.jpg\")\n",
    "t_box = (130, 200, 400, 750)\n",
    "rabbit_image = rabbit_image.crop(t_box)\n",
    "monty_image = Image.open(\"input/monty_python.jpg\")\n",
    "monty_image.paste(rabbit_image, (980, 1300))\n",
    "monty_image.save(\"output/monty_python_rabbit.jpg\")"
   ]
  },
  {
   "cell_type": "markdown",
   "id": "142c3dc8-608a-41db-babb-8ace97d097ab",
   "metadata": {},
   "source": [
    "---"
   ]
  }
 ],
 "metadata": {
  "kernelspec": {
   "display_name": "Python 3 (ipykernel)",
   "language": "python",
   "name": "python3"
  },
  "language_info": {
   "codemirror_mode": {
    "name": "ipython",
    "version": 3
   },
   "file_extension": ".py",
   "mimetype": "text/x-python",
   "name": "python",
   "nbconvert_exporter": "python",
   "pygments_lexer": "ipython3",
   "version": "3.9.9"
  }
 },
 "nbformat": 4,
 "nbformat_minor": 5
}
