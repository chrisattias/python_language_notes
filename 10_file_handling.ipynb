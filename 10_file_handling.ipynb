{
 "cells": [
  {
   "cell_type": "markdown",
   "id": "599043e7-739b-4746-a6d8-f93b3a7f5551",
   "metadata": {
    "tags": []
   },
   "source": [
    "# File Handling\n",
    "- A file has two parts.  The filename and the path.\n",
    "- **Root directory**--base directory.  C: drive on Windows.\n",
    "- **Current working directory (CWD)**--active directory.  Usually this is the folder that contains the file we are currently working with, but we can change the CWD.\n",
    "- **Absolute path**--path that starts with the root directory\n",
    "- **Relative path**--path that starts with (written relative to) the current working directory\n",
    "- When we work with files we normally write relative paths instead of absolute paths.  This allows the code to work on other users's computers.  More \"portable\".\n",
    "- **Parent directory**--folder that contains the folder or file we are talking about.\n",
    "- **`..\\`** or **`../`** refers to the parent folder\n",
    "- **`.\\`** or **`./`** refers to the current working directory.  This is often omitted.\n",
    "- Files can have the same name as long as they are in different folders\n",
    "\n",
    "![](images/directories.jpg)\n",
    "\n",
    "- **Home directory**--term for a users folder.  Contains personal files.  This is `C:/Users/<USERNAME>` on Windows.  Even on a shared computer, users have access to their home directory.  This is often a good place to save files.\n",
    "- Note that paths on Windows use a `\\`, while paths on Linux and Mac use `/`.  This is a problem because:\n",
    "    1. Paths are normally stored as strings.  `\\` with certain characters create escape characters.\n",
    "    1. We want our code to be portable across operating systems\n",
    "- There are a couple of solutions if we want our code to work on ALL operating systems\n",
    "    1. Always use forward slashes when writing Python code.  Python 3 on Windows allows us to use forward slashes.\n",
    "    1. Use the `pathlib` module.  `pathlib` path objects change the slashes based on the operating system.  There may be some Windows applications that still require paths with backslashes.\n",
    "- There are a couple of solutions that work ONLY on the WINDOWS operating system\n",
    "    1. Use two backslashes as an escape character\n",
    "    1. Use raw strings\n",
    "- Note that folder and file names are not case sensitive on Windows and Mac, but they are on Linux\n",
    "- **Symlinks**--symbolic link.  Contains a text string that is automatically interpreted and followed by the operating system as a path to another file or directory. This other file or directory is called the \"target\".  A symlink is similar to a desktop shortcut because it points the OS to another folder or file."
   ]
  },
  {
   "cell_type": "markdown",
   "id": "98964c85-1654-4d1b-b08a-275bd1f82de4",
   "metadata": {},
   "source": [
    "- **Reading, writing, and file handling are common sources of error**\n",
    "    1. Folder names and file names may be changed\n",
    "    1. Folders or files may be moved\n",
    "    1. Absolute paths normally break on another user's computer\n",
    "    1. The CWD may not always be what we expect \n",
    "    1. Certain functions return errors if a folder or file already exists\n",
    "    1. Certain functions return errors if a folder or file does not exist yet\n",
    " - For this reason, reading, writing, and file handling are often performed within try and except statements\n",
    "- One example of file path error came when the same script was run in an IDE and the terminal.\n",
    "    - The script used `./output/<FILENAME.EXT>`, which created a new file at a file path relative to the CWD\n",
    "    - When run in an IDE (like Jupyter Lab), the CWD was the script's parent folder as expected.\n",
    "    - When run in the terminal, the CWD was the home folder and caused an error because no output folder existed within the home folder."
   ]
  },
  {
   "cell_type": "markdown",
   "id": "c5d430c9-ec82-41e6-8588-6a60d8d972d7",
   "metadata": {},
   "source": [
    "- **It seems to me that BEST PRACTICE would be to:**\n",
    "    1. Perform read, write, and file handling within try except statements\n",
    "    1. Use `pathlib` to create path objects so paths work on all operating systems\n",
    "    1. Construct paths relative to script being run, w/OUT relying on the CWD.  This can be done using `__file__`.  `__file__` returns the absolute file path of the script.  From there we can access the parent folder of the script using `.parent` and specify other folders and files if needed.  Using `__file__` is a more reliable way to write a path relative to the script's location.\n",
    "        - Twist.   `__file__` strangely does not exist in Jupyter Lab.  However we always run our .ipynb notebook file from the Jupyter Lab IDE (never the terminal) so file paths relative using the CWD should work fine. \n",
    "        - Alternatively, there will be times we want to prompt the user to input paths or filenames.  Inputting desired directories manually is another way to avoid error."
   ]
  },
  {
   "cell_type": "markdown",
   "id": "b313c07b-34a3-4446-9e6a-2c4e403de051",
   "metadata": {},
   "source": [
    "- We'll cover a few different modules:\n",
    "    1. `pathlib` module.  Newer module for file handling that should be used in place of most functions in  the `os` module.\n",
    "    1. `os` module.  Contains sub-module `os.path`.  Basic functions.\n",
    "    1. `shutil` module.  Shell utility. Contains a few functions not found in the `pathlib` module like copy + paste.\n",
    "    1. `send2trash` library.  Not in Python Standard Library.  Deletes folders and files by sending them to trash (not permanent).\n",
    "    1. `zip` module.  Create and extract from zip files."
   ]
  },
  {
   "cell_type": "markdown",
   "id": "cafc5664-9025-480a-8774-c365a5e09781",
   "metadata": {},
   "source": [
    "---"
   ]
  },
  {
   "cell_type": "markdown",
   "id": "9a7968e2-803e-47e0-808a-648afa107702",
   "metadata": {},
   "source": [
    "## Pathlib\n",
    "\n",
    "- The `pathlib` module creates and works with path objects\n",
    "- Path objects are like fancy strings that contain the path.  We can call methods on the path objects.\n",
    "- Whether the path object uses forward or backward slashes depends on whether the path object was created on a Windows operating system or a Unix-like operating system (Mac + Linux)\n",
    "- Path objects can be used in `os` and `shutil` module functions where the input is a path string\n",
    "\n",
    "![](images/path_object.jpg)\n",
    "\n",
    "- **Glob pattern**--like simplified form of regular expressions often used in command line commands\n",
    "\n",
    "Glob | RegEx Equivalent | Use\n",
    "--- | --- | ---\n",
    "`*` | `.*` | Matches any number of any characters including none\n",
    "`?` | `.` | Matches any single character\n",
    "`[abc]` | Same | Matches any single character in brackets\n",
    "`[a-c]` | Same | Matches any single character in brackets\n",
    "\n",
    "Code | Use\n",
    "--- | ---\n",
    "`pathlib` | Module\n",
    "`Path()` | Capital P. Conventional to `from pathlib import Path`.  Pass individual folder name(s) and file name.  Return a path object that is a path with the correct slashes for the operating system. \n",
    "`Path.home()` | Returns path object of home directory\n",
    "`Path.cwd()` | Returns path object of current working directory\n",
    "`.exists` | Path object method.  Returns True or False based on whether path actually exists on the computer.  Helps prevent errors when creating, copy, moving, and deleting folders and files.\n",
    "`.mkdir()` | Path object method.  Create new directory from path object. Can only make one directory at a time, unlike `os.makedirs()` .  Returns error if folder already exists.\n",
    "`.glob()` |  Path object method.  List contents of a folder according to glob pattern.  Can show everything in a directory by using `'*'` as glob pattern.  Format is `<PATH_OBJECT>.glob('<GLOB_PATTERN>')`.\n",
    "`.write_text()` | Path object method.   Creates new text file with text specified.  CAUTION! Overwrites text if file already exists.  Number returned is characters of text in file.  Closes file automatically.  Less functionality than normal `open()`, `w` seen below in section *Reading and Writing Files*.\n",
    "`.read_text()` | Path object method.  Returns string of the full contents of a text file.  Closes file automatically  Less functionality than normal `open()`, `r` seen below in section *Reading and Writing Files*.  Returns error if file does not exist."
   ]
  },
  {
   "cell_type": "markdown",
   "id": "02abfc1d-b543-444c-b747-1dc3408d1f00",
   "metadata": {},
   "source": [
    "---"
   ]
  },
  {
   "cell_type": "markdown",
   "id": "e55ea59c-fabc-407c-b427-31a343cf4e6e",
   "metadata": {},
   "source": [
    "**EXAMPLES**"
   ]
  },
  {
   "cell_type": "code",
   "execution_count": 1,
   "id": "636e8d82-4333-4045-a7c4-e0c887dd6ce3",
   "metadata": {},
   "outputs": [],
   "source": [
    "from pathlib import Path"
   ]
  },
  {
   "cell_type": "markdown",
   "id": "832b7e99-ca66-4ab0-9d81-96be95518121",
   "metadata": {},
   "source": [
    "**`Path()` and Attributes**"
   ]
  },
  {
   "cell_type": "code",
   "execution_count": 2,
   "id": "04187995-7258-494b-9c6d-7628589a9d1a",
   "metadata": {},
   "outputs": [
    {
     "name": "stdout",
     "output_type": "stream",
     "text": [
      "<class 'pathlib.WindowsPath'>\n",
      "folder1\\folder2\\filename.ext\n"
     ]
    }
   ],
   "source": [
    "# Create path object with a single string with forward slashes\n",
    "\n",
    "path_object = Path('folder1/folder2/filename.ext')\n",
    "print(type(path_object))\n",
    "print(path_object)"
   ]
  },
  {
   "cell_type": "code",
   "execution_count": 3,
   "id": "67a8077b-c64e-46b7-88c3-7b51f7e0261f",
   "metadata": {},
   "outputs": [
    {
     "name": "stdout",
     "output_type": "stream",
     "text": [
      "folder1\\folder2\\filename.ext\n"
     ]
    }
   ],
   "source": [
    "# Create path object with a raw string with backslashes\n",
    "\n",
    "path_object = Path(r'folder1\\folder2\\filename.ext')\n",
    "print(path_object)"
   ]
  },
  {
   "cell_type": "code",
   "execution_count": 4,
   "id": "20b482d2-d7fe-4463-8f67-03a5fab810a1",
   "metadata": {},
   "outputs": [
    {
     "name": "stdout",
     "output_type": "stream",
     "text": [
      "folder1\\folder2\\filename.ext\n"
     ]
    }
   ],
   "source": [
    "# Create path object with a sequence of strings\n",
    "\n",
    "path_object = Path('folder1', 'folder2', 'filename.ext')\n",
    "print(path_object)"
   ]
  },
  {
   "cell_type": "code",
   "execution_count": 5,
   "id": "9d634031-502e-42a0-9b25-a361e9c7afbe",
   "metadata": {},
   "outputs": [
    {
     "name": "stdout",
     "output_type": "stream",
     "text": [
      "C:\\folder1\\folder2\\filename.ext\n"
     ]
    }
   ],
   "source": [
    "# Join paths\n",
    "\n",
    "path_object = Path('folder1', 'folder2', 'filename.ext')\n",
    "\n",
    "# This fails.  One of the two leftmost values must be a path object.\n",
    "# path_object = 'C:' / 'folder0' / path_object \n",
    "\n",
    "# This works, but must include a slash in string\n",
    "path_object = 'C:/' / path_object\n",
    "print(path_object)"
   ]
  },
  {
   "cell_type": "code",
   "execution_count": 6,
   "id": "9594877b-b975-4127-86ea-a0c1c89c560c",
   "metadata": {},
   "outputs": [
    {
     "name": "stdout",
     "output_type": "stream",
     "text": [
      "Drive: C:\n",
      "Anchor: C:\\\n",
      "Parent: C:\\folder1\\folder2\n",
      "Name: filename.ext\n",
      "Stem: filename\n",
      "Suffix: .ext\n"
     ]
    }
   ],
   "source": [
    "print(f'Drive: {path_object.drive}')\n",
    "print(f'Anchor: {path_object.anchor}')\n",
    "print(f'Parent: {path_object.parent}')\n",
    "print(f'Name: {path_object.name}')\n",
    "print(f'Stem: {path_object.stem}')\n",
    "print(f'Suffix: {path_object.suffix}')"
   ]
  },
  {
   "cell_type": "markdown",
   "id": "85a36fdf-684a-4e9c-8eab-d4ad18f50010",
   "metadata": {},
   "source": [
    "**`home()`**"
   ]
  },
  {
   "cell_type": "code",
   "execution_count": 7,
   "id": "27a66cdf-77e6-4455-a69b-d990aca471a6",
   "metadata": {},
   "outputs": [
    {
     "name": "stdout",
     "output_type": "stream",
     "text": [
      "<class 'pathlib.WindowsPath'>\n",
      "C:\\Users\\ChrisAttias\n"
     ]
    }
   ],
   "source": [
    "po_home = Path.home()\n",
    "print(type(po_home))\n",
    "print(po_home)"
   ]
  },
  {
   "cell_type": "markdown",
   "id": "a94fed91-f637-4fcc-87ce-b89dc6d55bfb",
   "metadata": {},
   "source": [
    "**`cwd()`**"
   ]
  },
  {
   "cell_type": "code",
   "execution_count": 8,
   "id": "88bb574e-195f-43fb-9c6a-3d0e4dd45495",
   "metadata": {},
   "outputs": [
    {
     "name": "stdout",
     "output_type": "stream",
     "text": [
      "C:\\Users\\ChrisAttias\\OneDrive\\ChrisOneDrive\\Python\\python_language_notes\n"
     ]
    }
   ],
   "source": [
    "po_cwd = Path.cwd()\n",
    "print(po_cwd)"
   ]
  },
  {
   "cell_type": "markdown",
   "id": "fc4776e3-a146-46a5-b381-f87d8ca58615",
   "metadata": {},
   "source": [
    "**`.glob()`**"
   ]
  },
  {
   "cell_type": "code",
   "execution_count": 9,
   "id": "2b6b8241-9aa9-486a-81d8-2d3981126d40",
   "metadata": {},
   "outputs": [
    {
     "name": "stdout",
     "output_type": "stream",
     "text": [
      "C:\\Users\\ChrisAttias\\OneDrive\\ChrisOneDrive\\Python\\python_language_notes\\00_introduction.ipynb\n",
      "C:\\Users\\ChrisAttias\\OneDrive\\ChrisOneDrive\\Python\\python_language_notes\\01_python_programming_fundamentals.ipynb\n",
      "C:\\Users\\ChrisAttias\\OneDrive\\ChrisOneDrive\\Python\\python_language_notes\\02_references_and_copies.ipynb\n",
      "C:\\Users\\ChrisAttias\\OneDrive\\ChrisOneDrive\\Python\\python_language_notes\\03_errors_and_debugging.ipynb\n",
      "C:\\Users\\ChrisAttias\\OneDrive\\ChrisOneDrive\\Python\\python_language_notes\\04_input_validation.ipynb\n",
      "C:\\Users\\ChrisAttias\\OneDrive\\ChrisOneDrive\\Python\\python_language_notes\\05_regular_expressions.ipynb\n",
      "C:\\Users\\ChrisAttias\\OneDrive\\ChrisOneDrive\\Python\\python_language_notes\\06_numeric_data.ipynb\n",
      "C:\\Users\\ChrisAttias\\OneDrive\\ChrisOneDrive\\Python\\python_language_notes\\07_data_science.ipynb\n",
      "C:\\Users\\ChrisAttias\\OneDrive\\ChrisOneDrive\\Python\\python_language_notes\\08_data_visualization.ipynb\n",
      "C:\\Users\\ChrisAttias\\OneDrive\\ChrisOneDrive\\Python\\python_language_notes\\09_dates_and_times.ipynb\n",
      "C:\\Users\\ChrisAttias\\OneDrive\\ChrisOneDrive\\Python\\python_language_notes\\10_file_handling.ipynb\n",
      "C:\\Users\\ChrisAttias\\OneDrive\\ChrisOneDrive\\Python\\python_language_notes\\11_read_and_write_plaintext_files.ipynb\n",
      "C:\\Users\\ChrisAttias\\OneDrive\\ChrisOneDrive\\Python\\python_language_notes\\12_read_and_write_binary_files.ipynb\n",
      "C:\\Users\\ChrisAttias\\OneDrive\\ChrisOneDrive\\Python\\python_language_notes\\13_http_requests_and_parsing.ipynb\n",
      "C:\\Users\\ChrisAttias\\OneDrive\\ChrisOneDrive\\Python\\python_language_notes\\14_messaging.ipynb\n",
      "C:\\Users\\ChrisAttias\\OneDrive\\ChrisOneDrive\\Python\\python_language_notes\\15_program_automation.ipynb\n",
      "C:\\Users\\ChrisAttias\\OneDrive\\ChrisOneDrive\\Python\\python_language_notes\\16_need_for_speed.ipynb\n",
      "C:\\Users\\ChrisAttias\\OneDrive\\ChrisOneDrive\\Python\\python_language_notes\\17_algorithms.ipynb\n",
      "C:\\Users\\ChrisAttias\\OneDrive\\ChrisOneDrive\\Python\\python_language_notes\\18_coding_best_practices.ipynb\n",
      "C:\\Users\\ChrisAttias\\OneDrive\\ChrisOneDrive\\Python\\python_language_notes\\19_running_python_code.ipynb\n",
      "C:\\Users\\ChrisAttias\\OneDrive\\ChrisOneDrive\\Python\\python_language_notes\\20_package_managers_and_environments.ipynb\n",
      "C:\\Users\\ChrisAttias\\OneDrive\\ChrisOneDrive\\Python\\python_language_notes\\21_ides.ipynb\n",
      "C:\\Users\\ChrisAttias\\OneDrive\\ChrisOneDrive\\Python\\python_language_notes\\22_ascii_and_unicode.ipynb\n",
      "C:\\Users\\ChrisAttias\\OneDrive\\ChrisOneDrive\\Python\\python_language_notes\\23_assorted_python_jargon.ipynb\n"
     ]
    }
   ],
   "source": [
    "po_cwd = Path.cwd()\n",
    "glob_pattern = '*.ipynb'  \n",
    "glob = po_cwd.glob(glob_pattern)\n",
    "for thing in glob:\n",
    "    print(thing)"
   ]
  },
  {
   "cell_type": "markdown",
   "id": "9a979a42-3221-443a-9250-711a3f667a51",
   "metadata": {},
   "source": [
    "**`.exists()`**"
   ]
  },
  {
   "cell_type": "code",
   "execution_count": 10,
   "id": "0f7501a7-d304-47d5-b278-769c9c682ea8",
   "metadata": {},
   "outputs": [
    {
     "name": "stdout",
     "output_type": "stream",
     "text": [
      "True\n",
      "False\n"
     ]
    }
   ],
   "source": [
    "po_cwd = Path.cwd()\n",
    "print(po_cwd.exists())\n",
    "\n",
    "path_object = Path('folder1', 'folder2', 'filename.ext')\n",
    "print(path_object.exists())"
   ]
  },
  {
   "cell_type": "markdown",
   "id": "280fcc26-e8e8-4106-b04d-fb3cc945d3b6",
   "metadata": {},
   "source": [
    "**`.mkdir()` or `os.makedirs()`**"
   ]
  },
  {
   "cell_type": "code",
   "execution_count": 11,
   "id": "8791cf2a-0694-44f4-88f2-feeec96a261f",
   "metadata": {},
   "outputs": [],
   "source": [
    "Path('./output/spam').mkdir()\n",
    "#os.makedirs('./output/spam')    # Could also use os.makedirs()"
   ]
  },
  {
   "cell_type": "markdown",
   "id": "59481791-fee1-4dba-8b1f-01640a2f93a4",
   "metadata": {},
   "source": [
    "**`.write_text()`**"
   ]
  },
  {
   "cell_type": "code",
   "execution_count": 12,
   "id": "5967b6ab-85f3-476b-b48a-c596077c7852",
   "metadata": {},
   "outputs": [
    {
     "data": {
      "text/plain": [
       "39"
      ]
     },
     "execution_count": 12,
     "metadata": {},
     "output_type": "execute_result"
    }
   ],
   "source": [
    "po_spam_text_file = Path('output/spam/beans.txt')\n",
    "po_spam_text_file.write_text(\"This text is overwriting previous text.\")"
   ]
  },
  {
   "cell_type": "markdown",
   "id": "394b199e-69ca-4372-9f63-6b0048f2a504",
   "metadata": {},
   "source": [
    "**`.read_text()`**"
   ]
  },
  {
   "cell_type": "code",
   "execution_count": 13,
   "id": "f8bd7f76-7000-4982-8f44-b271031fa477",
   "metadata": {},
   "outputs": [
    {
     "data": {
      "text/plain": [
       "'This text is overwriting previous text.'"
      ]
     },
     "execution_count": 13,
     "metadata": {},
     "output_type": "execute_result"
    }
   ],
   "source": [
    "po_spam_text_file.read_text()"
   ]
  },
  {
   "cell_type": "markdown",
   "id": "9c1caa5e-a181-4dc2-9cc1-b0922ee7eba8",
   "metadata": {},
   "source": [
    "---"
   ]
  },
  {
   "cell_type": "markdown",
   "id": "b72dea7e-877d-4a6f-a411-beeb4d886701",
   "metadata": {},
   "source": [
    "## Os\n",
    "\n",
    "Code | Use\n",
    "--- | ---\n",
    "`os` | Module\n",
    "`os.listdir()` | Returns list of folders within specified folder\n",
    "`os.chdir()` | Change current working directory to specified path.  Returns error if path does not exist.\n",
    "`os.makedirs()` | Creates new folder.  Returns error if folder already exists.  Creates all intermediate folders in path specified if they do not already exist.\n",
    "`os.rmdir()` | Stands for remove directory.  CAUTION! Permanent deletion. Does NOT send to recycle bin.  Returns error if folder does not exist.  Returns error if folder not empty.\n",
    "`os.remove()` | Delete file.  CAUTION! Permanent deletion. Does NOT send to recycle bin.  Returns error if file does not exist.  \n",
    "`os.unlink()` | Same as `os.remove()`.  Unlink is older name for delete.\n",
    "`os.walk()` | Walks through file path tree.  Returns folder name of the folder `walk()` is currently looking at, list of subfolders within that current folder, and list of filenames within that current folder.  It then \"walks\" down to each subfolder, makes that that the current folder, and repeats the process.  Results are used in for loop.  Good way to go through each subfolder and file.  Can print names out, and make edits with conditional statements."
   ]
  },
  {
   "cell_type": "markdown",
   "id": "024cb7f5-5865-4c3c-84dc-2f3c0cb6b042",
   "metadata": {},
   "source": [
    "---"
   ]
  },
  {
   "cell_type": "markdown",
   "id": "6e97289f-0d2a-49a0-954b-fa89b6adfc2e",
   "metadata": {},
   "source": [
    "**EXAMPLES**"
   ]
  },
  {
   "cell_type": "code",
   "execution_count": 14,
   "id": "724784b9-6236-4f64-98d3-c17bfefc3b69",
   "metadata": {},
   "outputs": [],
   "source": [
    "import os"
   ]
  },
  {
   "cell_type": "markdown",
   "id": "a1073f87-3471-4ba3-83fb-988f8a10226a",
   "metadata": {},
   "source": [
    "**`chdir()`**"
   ]
  },
  {
   "cell_type": "code",
   "execution_count": 15,
   "id": "e0ee6d9e-a331-41b3-9c74-f605a6bb095f",
   "metadata": {},
   "outputs": [
    {
     "name": "stdout",
     "output_type": "stream",
     "text": [
      "C:\\Users\\ChrisAttias\\OneDrive\\ChrisOneDrive\\Python\\python_language_notes\n"
     ]
    }
   ],
   "source": [
    "po_cwd = Path.cwd()\n",
    "os.chdir('./')  # Stay in same folder\n",
    "os.chdir('./images')  # Change cwd with relative file path. './' optional.\n",
    "os.chdir('../')  # Change to parent folder\n",
    "os.chdir('C:')  # Change to C drive using absolute file path\n",
    "os.chdir(po_cwd)  # Change back to original cwd\n",
    "print(Path.cwd())"
   ]
  },
  {
   "cell_type": "markdown",
   "id": "26569b0f-2473-48da-8e27-0f722e63e619",
   "metadata": {},
   "source": [
    "**`walk()`**"
   ]
  },
  {
   "cell_type": "code",
   "execution_count": 16,
   "id": "1e6e306d-fa5d-4920-87da-5fbbc94b33d6",
   "metadata": {},
   "outputs": [
    {
     "name": "stdout",
     "output_type": "stream",
     "text": [
      "The folder name is output.\n",
      "The subfolders in output are ['spam', 'spam_extra_folder'].\n",
      "The filenames in output are ['log_records.txt', 'spam.txt', 'spam.zip'].\n",
      "The folder name is output\\spam.\n",
      "The subfolders in output\\spam are [].\n",
      "The filenames in output\\spam are ['beans.txt'].\n",
      "The folder name is output\\spam_extra_folder.\n",
      "The subfolders in output\\spam_extra_folder are [].\n",
      "The filenames in output\\spam_extra_folder are ['spam.txt'].\n"
     ]
    }
   ],
   "source": [
    "for folder_name, sub_folders, file_names in os.walk(Path('./output')):\n",
    "    print(f'The folder name is {folder_name}.')\n",
    "    print(f'The subfolders in {folder_name} are {str(sub_folders)}.')\n",
    "    print(f'The filenames in {folder_name} are {str(file_names)}.')"
   ]
  },
  {
   "cell_type": "markdown",
   "id": "a2350a5c-a87f-49d8-a418-93e0b776251e",
   "metadata": {},
   "source": [
    "---"
   ]
  },
  {
   "cell_type": "markdown",
   "id": "9ee4c541-d7a0-44e4-b5a1-32aa0c468c79",
   "metadata": {},
   "source": [
    "## Shutil\n",
    "\n",
    "Code | Use\n",
    "--- | ---\n",
    "`shutil` | Module\n",
    "`shutil.copy()` | Copy + paste file to desired folder.  Arguments are `shutil.copy(<SOUCRE_PATH>/<FILENAME.EXT>, <DESTINATION_PATH>)`.  Optionally, change copy file name by including a new file name in the destination path.  Returns error if file does not exist.  CAUTION!.  If there is a file with the same name in the new location it overwrites it.\n",
    "`shutil.move()` | Very similar `.copy()`, but move file (w/OUT copying) to desired folder.  Additional CAUTION!  if move can't find the last folder in the destination path, then move assumes that last folder is actually a new file name and renames the moved file.  Lastly, note that there is no \"rename\" function in `shutil`, but we could move file to the same folder with a new file name.  This \"renames\" the file.\n",
    "`shutil.copytree()` | Copy + paste tree (folder and all folders and files within it) to desired folder.  Returns error if folder already exists in new location.\n",
    "`shutil.rmtree()` | Deletes entire tree (folder and all folders and files within it).  CAUTION! Permanent deletion. Does NOT send to recycle bin.  Returns error if folder does not exist."
   ]
  },
  {
   "cell_type": "markdown",
   "id": "f59b3fcb-279f-49aa-aa08-fffa969c1b79",
   "metadata": {},
   "source": [
    "---"
   ]
  },
  {
   "cell_type": "markdown",
   "id": "03bea36c-5a77-4a4b-98b3-8440099833d7",
   "metadata": {},
   "source": [
    "**EXAMPLES**"
   ]
  },
  {
   "cell_type": "code",
   "execution_count": 17,
   "id": "1c1b04d3-9e28-4379-8d8b-8804207293ed",
   "metadata": {},
   "outputs": [],
   "source": [
    "import shutil"
   ]
  },
  {
   "cell_type": "markdown",
   "id": "4693b478-1423-4178-aa22-50711a003683",
   "metadata": {},
   "source": [
    "**`move()`  Rename**"
   ]
  },
  {
   "cell_type": "code",
   "execution_count": 18,
   "id": "982af087-c03b-4ca9-8a4f-d82eb01392e8",
   "metadata": {},
   "outputs": [
    {
     "data": {
      "text/plain": [
       "'./output/spam/spam.txt'"
      ]
     },
     "execution_count": 18,
     "metadata": {},
     "output_type": "execute_result"
    }
   ],
   "source": [
    "shutil.move('./output/spam/beans.txt', './output/spam/spam.txt')"
   ]
  },
  {
   "cell_type": "markdown",
   "id": "dbb4c8cc-c9f8-493b-be84-dffc0bbc4d0e",
   "metadata": {},
   "source": [
    "**`copy()`**"
   ]
  },
  {
   "cell_type": "code",
   "execution_count": 19,
   "id": "2bd9dc2f-b906-44f9-b78f-bd753a6c9b56",
   "metadata": {},
   "outputs": [
    {
     "data": {
      "text/plain": [
       "'./output/spam/extra_spam.txt'"
      ]
     },
     "execution_count": 19,
     "metadata": {},
     "output_type": "execute_result"
    }
   ],
   "source": [
    "shutil.copy('./output/spam/spam.txt', './output/spam/extra_spam.txt')"
   ]
  },
  {
   "cell_type": "markdown",
   "id": "c864c0e6-3c9e-4afe-b2c0-2ab08c4b4242",
   "metadata": {},
   "source": [
    "**`copytree()`**"
   ]
  },
  {
   "cell_type": "code",
   "execution_count": 20,
   "id": "5d20fe5d-3d1b-48eb-b54c-561476db9c26",
   "metadata": {},
   "outputs": [
    {
     "data": {
      "text/plain": [
       "'./output/spam_backup'"
      ]
     },
     "execution_count": 20,
     "metadata": {},
     "output_type": "execute_result"
    }
   ],
   "source": [
    "shutil.copytree('./output/spam', './output/spam_backup')"
   ]
  },
  {
   "cell_type": "markdown",
   "id": "02fbb81e-0144-419b-91e3-306aab6ba0a1",
   "metadata": {},
   "source": [
    "---"
   ]
  },
  {
   "cell_type": "markdown",
   "id": "e23969a9-82f7-413f-bde3-eb5103d3d2a1",
   "metadata": {},
   "source": [
    "## Send2trash\n",
    "\n",
    "Code | Use\n",
    "--- | ---\n",
    "`send2trash` | Module\n",
    "`send2trash.send2trash()` | Deletes files, folders, and trees by sending them to the Recycle Bin.  These can be restored if needed.  Returns error if folder or file does not exist."
   ]
  },
  {
   "cell_type": "markdown",
   "id": "abdec2d0-3fbd-4079-99ac-b9dfdebb63f3",
   "metadata": {},
   "source": [
    "**`send2trash()`**"
   ]
  },
  {
   "cell_type": "markdown",
   "id": "b1efa571-9955-46c4-b7e6-479f7b8e525f",
   "metadata": {},
   "source": [
    "---"
   ]
  },
  {
   "cell_type": "markdown",
   "id": "b382deb1-9711-4590-9feb-cb80f229ca93",
   "metadata": {},
   "source": [
    "**EXAMPLES**"
   ]
  },
  {
   "cell_type": "code",
   "execution_count": 21,
   "id": "dc69df05-582c-4db3-be67-910ed9c572b4",
   "metadata": {},
   "outputs": [],
   "source": [
    "from send2trash import send2trash"
   ]
  },
  {
   "cell_type": "code",
   "execution_count": 22,
   "id": "2cf76ada-dabe-4454-96cf-580f752c8a3a",
   "metadata": {},
   "outputs": [
    {
     "name": "stdout",
     "output_type": "stream",
     "text": [
      "No more spam : (\n"
     ]
    }
   ],
   "source": [
    "send2trash('./output/spam/spam.txt')  # Delete 1 file\n",
    "send2trash(['./output/spam_backup/spam.txt', './output/spam_backup/extra_spam.txt'])  # Delete list of files\n",
    "send2trash('./output/spam_backup')  # Delete empty folder\n",
    "send2trash('./output/spam')  # Delete folder with file inside\n",
    "print('No more spam : (')"
   ]
  },
  {
   "cell_type": "markdown",
   "id": "54ab33a7-4f00-41e2-b348-0bec901bceef",
   "metadata": {},
   "source": [
    "---"
   ]
  },
  {
   "cell_type": "markdown",
   "id": "040152c1-e900-4679-8a19-55b547e797e2",
   "metadata": {},
   "source": [
    "## Zipfile\n",
    "- Python scripts can create and open (extract) ZIP files using functions in the zipfile module\n",
    "\n",
    "Code | Use\n",
    "--- | ---\n",
    "`zipfile` | Module\n",
    "`zipfile.ZipFile()` | Create zip object.  Similar to file handle/file object.  First argument is zip file path, which accepts a string or a path object.  E.g. `<PATH>/<FILENAME>.zip`.  Second argument is mode.\n",
    "`r` | Read mode.  Default mode.  Allows a later specified file to be read.\n",
    "`.namelist()` | Zip object method.  Returns list of compressed folders and files within zip file.\n",
    "`.getinfo()` | Zip object method.  Returns ZipInfo object.  Argument is folder or file name within zip file.\n",
    "`.file_size` | ZipInfo attribute.  Returns folder or file size when un-compressesed.\n",
    "`.compress_size` | ZipInfo attribute.  Returns folder or file size when compressed within zip file.\n",
    "`.extractall()` | Zip object method.  Extract all folders and files from zip file.  Argument is path where the extracted files will be placed.\n",
    "`.extract()` | Zip object method.  Extract single folder or file from zip file.  First argument is the filename we want to extract.  Second argument is path where the extracted file will be placed.\n",
    "`w` | Overwrite mode.  Allows a later specified file to be written to the zip file, overwriting any current contents of the zip file.  CAUTION! Overwrite.\n",
    "`a` | Append mode.  Allows a later specified file to be written to the zip file, w/OUT overwriting (simply adding to).\n",
    "`.write()` | Zip object method.  Add specified file to be compressed as zip file.  The first argument is the filename, `<FILENAME.EXT>`.  Do NOT include a path for the file to be zipped.  Those path folders become part of zip.  Only include filename.  For this reason we will likely need to change directory to parent folder of file we intend to compress.   The second argument is the compression method.  If unsure, go with with `compress_type=zipfile.ZIP_DEFLATED`.\n",
    "`x` | Create mode.  Creates empty zip file.\n",
    "`.close()` | Zip object method.  Close zip object.\n",
    "`with zipfile.ZipFile() as <ZO>` | *Context Manager* combines open and close.  It automatically closes the file when we are done with it.  It knows we are done when we de-indent.  It also closes a file correctly if there is an exception at some point in the file handling.  Using the context manager is recommended."
   ]
  },
  {
   "cell_type": "markdown",
   "id": "f22a3596-3719-419e-a153-a5e11b4135b6",
   "metadata": {},
   "source": [
    "---"
   ]
  },
  {
   "cell_type": "markdown",
   "id": "0a5589ea-940f-4209-b54e-ae064cacdae7",
   "metadata": {},
   "source": [
    "**EXAMPLES**"
   ]
  },
  {
   "cell_type": "code",
   "execution_count": 23,
   "id": "2c410d44-edc2-4191-a2b9-255665c4c28a",
   "metadata": {},
   "outputs": [],
   "source": [
    "import zipfile"
   ]
  },
  {
   "cell_type": "markdown",
   "id": "43c7e838-3ee8-4245-b17e-34423f0c8010",
   "metadata": {},
   "source": [
    "**`ZipFile()` `w` Overwrite Mode**"
   ]
  },
  {
   "cell_type": "code",
   "execution_count": 24,
   "id": "065001c6-835d-4d80-9a26-9edfca052577",
   "metadata": {},
   "outputs": [],
   "source": [
    "# Change CWD.  \n",
    "os.chdir('./output')\n",
    "\n",
    "# Create text file we want to zip\n",
    "po_spam_text_file = Path('spam.txt')\n",
    "po_spam_text_file.write_text(\"This text is overwriting previous text\")\n",
    "\n",
    "# Create zip object\n",
    "zip_object = zipfile.ZipFile('spam.zip', 'w')\n",
    "\n",
    "# Do NOT include a path for the file to be compressed\n",
    "# Those path folders become part of zip\n",
    "# Only include filename\n",
    "zip_object.write('spam.txt', compress_type=zipfile.ZIP_DEFLATED)\n",
    "\n",
    "# Close zip object\n",
    "zip_object.close()\n",
    "\n",
    "# Change CWD back to original location\n",
    "os.chdir('../')"
   ]
  },
  {
   "cell_type": "markdown",
   "id": "a99b6fec-7c1c-4b97-be36-11b68f8e4ec8",
   "metadata": {},
   "source": [
    "**`ZipFile()` `r` Read Mode**"
   ]
  },
  {
   "cell_type": "code",
   "execution_count": 25,
   "id": "5ef31513-d44c-4b86-b5b7-0ee1da7c5a34",
   "metadata": {},
   "outputs": [
    {
     "name": "stdout",
     "output_type": "stream",
     "text": [
      "['spam.txt']\n",
      "38\n",
      "34\n"
     ]
    }
   ],
   "source": [
    "# Create zip object\n",
    "po_zip = Path('./output/spam.zip')\n",
    "zip_object = zipfile.ZipFile(po_zip, 'r')\n",
    "\n",
    "# Get info about files within zip\n",
    "print(zip_object.namelist())\n",
    "zip_info_object = zip_object.getinfo('spam.txt')\n",
    "print(zip_info_object.file_size)\n",
    "print(zip_info_object.compress_size)\n",
    "\n",
    "# Create new folder and extract compressed files to new folder\n",
    "zip_object.extractall('./output/spam_extra_folder')  \n",
    "\n",
    "# Close zip object\n",
    "zip_object.close()"
   ]
  },
  {
   "cell_type": "markdown",
   "id": "9821e9f3-b206-4095-a212-f09b3f84885f",
   "metadata": {},
   "source": [
    "---"
   ]
  }
 ],
 "metadata": {
  "kernelspec": {
   "display_name": "Python 3 (ipykernel)",
   "language": "python",
   "name": "python3"
  },
  "language_info": {
   "codemirror_mode": {
    "name": "ipython",
    "version": 3
   },
   "file_extension": ".py",
   "mimetype": "text/x-python",
   "name": "python",
   "nbconvert_exporter": "python",
   "pygments_lexer": "ipython3",
   "version": "3.9.9"
  }
 },
 "nbformat": 4,
 "nbformat_minor": 5
}
