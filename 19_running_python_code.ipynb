{
 "cells": [
  {
   "cell_type": "markdown",
   "id": "27fecfd4-9f28-4b41-b760-7285873170d1",
   "metadata": {},
   "source": [
    "# Running Python Code"
   ]
  },
  {
   "cell_type": "markdown",
   "id": "ba13fd5e-8185-45e8-91a1-ab58ad48551b",
   "metadata": {},
   "source": [
    "---"
   ]
  },
  {
   "cell_type": "markdown",
   "id": "9bfa764f-cca4-481e-8b2a-b7a364c64108",
   "metadata": {
    "tags": []
   },
   "source": [
    "## Installing Python\n",
    "- Windows computers do not come with Python installed.  Mac and Linux computers commonly do, but the versions installed may not be up to date.\n",
    "- Python can be downloaded from the official website, https://www.python.org\n",
    "- Python can also be downloaded along with other software.  For example Miniconda.\n",
    "- There can be multiple versions of Python installed on the same computer"
   ]
  },
  {
   "cell_type": "markdown",
   "id": "df3427f4-9a17-4c10-8580-e013d9d6def2",
   "metadata": {},
   "source": [
    "---"
   ]
  },
  {
   "cell_type": "markdown",
   "id": "473b61e0-2730-4900-98f2-e3ef54fa7a18",
   "metadata": {},
   "source": [
    "## Python Interpreter\n",
    "- Whether our Python code is run through the *interactive interpreter* or through a *script*, it is processed by the same \"Python interpreter\".  When we say that \"Python runs a program\" or \"Python raised an error\" we are referring to the Python interpreter.\n",
    "- People generally use the terms \"Python interpreter\", or simply  \"interpreter\", to mean all the stuff inside python.exe software program that makes our Python code run.  This is likely not technically correct, but we'll do the same.\n",
    "- Here's how the Python interpreter works:\n",
    "    1. User Python code is *compiled* (translated all at once) to a low level code called bytecode\n",
    "    1. Bytecode is *interpreted* (translated one line at a time)) by the **Python virtual machine** into machine code\n",
    "    1. Machine code is executed by the CPU hardware and results are returned to the user\n",
    "- Step 2 is why Python is called an interpreted language\n",
    "- Note that the terms \"compiled language\" and \"interpreted language\" are often a bit misleading.  Regardless of the programming language, user code must eventually be translated into machine code.  This is done in many steps and each language (and implementation of the language) does this differently."
   ]
  },
  {
   "cell_type": "markdown",
   "id": "12dbe59b-015a-4972-9614-2b3f92ed0969",
   "metadata": {},
   "source": [
    "---"
   ]
  },
  {
   "cell_type": "markdown",
   "id": "25299309-813e-413d-908b-9e9580744c93",
   "metadata": {},
   "source": [
    "## Interactive Interpreter\n",
    "- Python code can be run in the interactive interpreter\n",
    "- **Python Interactive interpreter**--reads Python code, evaluates code, returns results, and awaits next input. AKA Read, Eval, Print Loops (REPL).  Also called a shell.\n",
    "- The Python interactive interpreter is accessed by going through a terminal program\n",
    "- **Terminal/Shell/Console/Command Line**--command line interface program for computer operating system.  Windows uses the Command Prompt (cmd.exe) or Windows Powershell, while Linux systems mostly use the Bash program, and Macs use the aptly named Terminal program (which now uses Zsh under the hood).  Note that Windows terminal commands are NOT case sensitive, but Linux (and sometimes MacOS) are.\n",
    "- In a terminal, simply type `python` and click enter.  The `>>>` symbol appears, indicating that the terminal program has been magically transformed into an interactive interpreter and awaits our Python code.  Type away.\n",
    "- To exit the interactive interpreter and return to the terminal, type `exit()`\n",
    "- The interactive interpreter is good for testing short bits of code, but longer code requires scripts"
   ]
  },
  {
   "cell_type": "markdown",
   "id": "39907459-e0b5-4429-baa1-0741a9a35356",
   "metadata": {},
   "source": [
    "---"
   ]
  },
  {
   "cell_type": "markdown",
   "id": "60952e87-10af-41e7-90c0-833b7c693816",
   "metadata": {},
   "source": [
    "## Scripts\n",
    "- **Script**--plain text file containing Python code.  File name ends with `.py` file extension.\n",
    "- **The simplest way to run a script is to open a script in and IDE and click run.  Done.**\n",
    "- However, one may not want to run a script in an IDE.  For frequently run, finished scripts, we may want to run them through the terminal or by using Win-r.\n",
    "- When we use a terminal we use the term directory. **Directory** is the same thing as a folder.  There are a couple ways to run a script with the terminal in Windows.\n",
    "\n",
    "1. Type `python <PATH>\\<FILENAME>.py` into the terminal command line and press Enter. Note that some terminal programs require any folder name or filename containing spaces to be enclosed in double quotes.  OR\n",
    "1. Use the navigate method\n",
    "    1.  Navigate to the parent directory of the script file using commands.   Helpful Windows terminal commands include:\n",
    "        - `dir`--lists the contents of the current directory\n",
    "        - `cd ..`--\"cd\" stands for change directory.  Navigates to the parent directory.\n",
    "        - `cd <DIRECTORY_NAME>`--navigates to a sub-folder\n",
    "        - `cd <PATH>`--navigate to specified folder\n",
    "        - `cls`--clears the text on the terminal screen\n",
    "        - `exit()`--exits the terminal or the Python interactive interpreter\n",
    "        - `<COMMAND> /?`--prints more information on command\n",
    "        - `-<LETTER>` or `--<LETTER>`--**flags/options** are occasionally added onto commands to modify their behavior\n",
    "    1. Once inside the folder containing the script file enter:\n",
    "        - `python <FILENAME>.py`\n",
    "- *Note that when we save a script it should NOT have the same name as an existing module.  If our script has the same name as a module we are trying to use an exception will be raised.*\n",
    "- We'll next talk about more advanced topics that may come up when running scripts including environmental PATH variables, shebang lines, batch files, Run, Python Windowless, and the Python Launcher"
   ]
  },
  {
   "cell_type": "markdown",
   "id": "9d796265-e252-4c14-a9bf-01301438fbad",
   "metadata": {},
   "source": [
    "---"
   ]
  },
  {
   "cell_type": "markdown",
   "id": "68e1a7bc-dce3-415b-ad1d-345c64b079fd",
   "metadata": {},
   "source": [
    "## Running Scripts on Windows (Advanced)"
   ]
  },
  {
   "cell_type": "markdown",
   "id": "29e94509-b2c2-4d12-ae8e-f2bf351fcb24",
   "metadata": {},
   "source": [
    "---"
   ]
  },
  {
   "cell_type": "markdown",
   "id": "a43c8f11-c194-42cb-a799-4535f755d34a",
   "metadata": {
    "tags": []
   },
   "source": [
    "### Environmental PATH Variable\n",
    "- The above instructions to run Python code through a terminal program work on standard Windows installations of Python\n",
    "- The reason it works is because we tell the computer run the script with the Python program, python.exe, by inputting the command `python`.  Writing `python` is the same thing as writing `python.exe`.  Windows knows this is an executable file even without us explicitly writing the `.exe` file extension.  We'll keep using python.exe to make it clear we are talking about the software program.\n",
    "- But how does Windows know where to find python.exe?  Windows knows because of the environmental PATH variable.\n",
    "- **Environmental Variable**--system wide settings stored in strings and given variable names.  These settings are supplied to all programs when they are run.\n",
    "- **Environmental PATH Variable**--PATH is an environmental variable that holds a list of absolute file paths.  Each file path leads to an program file, like python.exe. If we enter a program name into the terminal, Windows checks to see if any saved file paths lead to that program name, and if so, opens the program using that file path.\n",
    "- In short, the environmental PATH variable allows us to run a program from the terminal using only the program name instead of the the absolute file path.\n",
    "- We can also use the environmental PATH variable for our Python script files and batch files.  We would add the file path of the parent folder that contains our Python scripts and batch files to the environmental PATH variable.  Then, where we would normally type `<PATH>\\<FILENAME>.py` we could  type `<FILENAME>.py`.  Where we would normally type `<PATH>\\<FILENAME>.bat` we could type `<FILENAME>.bat`.  This could be combined with a Shebang or a Batch file.  This would allow us to run a script by entering `<FILENAME>.py` or `<FILENAME>.bat`. into the terminal.\n",
    "- PATH can be accessed with the terminal or by navigating to Advanced System Settings in the Control Panel. Note that  there is a PATH variable within the *system environment variables* (which apply to all users) and *user environment variables* (which only apply to the current user)."
   ]
  },
  {
   "cell_type": "markdown",
   "id": "cbb89cb6-33bf-49e6-bef1-3a4dcc775954",
   "metadata": {},
   "source": [
    "---"
   ]
  },
  {
   "cell_type": "markdown",
   "id": "cbc3eaaf-29ec-440e-b15f-465de9b50d15",
   "metadata": {},
   "source": [
    "### Shebang\n",
    "- `#!`--hashbang or shebang.  Shebang is short for hashbang.  The `#` is the \"hash\" while the `!` is the \"bang\".\n",
    "- `#!` can be placed on the first line of a script.  `#` is used as most programming languages do not interpret `#`.  We do not want to run the `#!` line as Python code.\n",
    "- Following the `#!` is a shortened or absolute file path to the desired version of the python.exe program.  Usually, the shortened path is used and is written as:\n",
    "    1. `#!/usr/bin/env python` on Mac or Linux\n",
    "    1. `#! python3` on Windows\n",
    "- The shebang line tells the operating system the desired version of the python.exe program to use to run the script\n",
    "- Because this information is included in the shebang line, we don't have to include `python` as part of the terminal command\n",
    "- Shebang lines can save time if we frequently run the same script\n",
    "- These shebang lines with shortened file paths may not work well when one has many versions of Python on the same computer or when one is using virtual environments\n",
    "- Shebang was originally developed for the Unix family of operating systems, so it may be more important for Mac or Linux operating systems than for Windows"
   ]
  },
  {
   "cell_type": "markdown",
   "id": "deaf9bf8-390b-4ca2-b51b-fd6e7d3002c6",
   "metadata": {},
   "source": [
    "---"
   ]
  },
  {
   "cell_type": "markdown",
   "id": "77a5bf41-62eb-44ee-b89c-475b824504db",
   "metadata": {},
   "source": [
    "### Batch Files\n",
    "- **Batch File**--text file with `.bat` file extension that contains commands to run Python scripts.  I.e. a script that runs other script(s).\n",
    "- A batch file is not written in Python.  It is written with terminal commands.\n",
    "- Batch files can save time if we frequently run the same script(s)\n",
    "- Here is a batch file for a standard Python installation.  This batch file can be run in the terminal.\n",
    "\n",
    "```\n",
    "@REM This is batch file that runs two Python script files.\n",
    "@REM Let's run the first Python script.\n",
    "@python <PATH>\\<FILENAME>.py %*\n",
    "@pause\n",
    "@REM Let's run the second Python script.\n",
    "@python <PATH>\\<FILENAME>.py %*\n",
    "@pause\n",
    "```\n",
    "\n",
    "- In the above code,\n",
    "    - `@` sign at the start of each command prevents the command from being displayed in the terminal window.  We may actually want to include commands if we are debugging.\n",
    "    - `REM` is analogous to Python's `#`.  It starts a comment.\n",
    "    - `%*` forwards any command line arguments entered after the batch filename to the Python script.  The Python script, in turn, reads the command line arguments in the `sys.argv` list.\n",
    "    - `pause` adds a \"Press any key to continue...\"  after the end of the Python script to prevent the terminal window from disappearing too quickly. This way we can view the printed results from the code."
   ]
  },
  {
   "cell_type": "markdown",
   "id": "2f57b879-116d-47cb-826a-d35e594bb947",
   "metadata": {},
   "source": [
    "---"
   ]
  },
  {
   "cell_type": "markdown",
   "id": "9029d188-1ea8-4b68-8528-c6d585cd9aeb",
   "metadata": {},
   "source": [
    "### Passing Arguments\n",
    "- When we run a Python script we can pass arguments to the script using the terminal\n",
    "- This could be an alternative to using the `input()` within the script to ask for user input\n",
    "- We can pass arguments by including arguments separated by spaces after the file name in the terminal\n",
    "    - E.g. `python <PATH>\\<FILENAME>.py <ARGUMENT_1> <ARGUMENT_2>`\n",
    "- `sys.argv` is a variable that references a list of arguments passed to a Python script using the terminal\n",
    "- Within the Python script we can access this list data type\n",
    "\n",
    "E.g.\n",
    "```python\n",
    "import sys\n",
    "\n",
    "print(sys.argv[0])  # Prints the path and file name\n",
    "print(sys.argv[1])  # Prints first argument entered\n",
    "print(sys.argv[2])  # Prints second argument entered\n",
    "```\n",
    "\n",
    "- We can also pass arguments through a batch file to the Python script.  As shown above, this is done using the `%*` symbols in the batch file.  Assuming we do this, and assuming we have added the folder containing our batch file to the environmental PATH variable, then we could pass arguments by entering the following into the terminal:\n",
    "    - `<FILENAME> <ARGUMENT_1> <ARGUMENT_2>`"
   ]
  },
  {
   "cell_type": "markdown",
   "id": "4212befe-592b-48a1-afd0-92fbf982e8a8",
   "metadata": {},
   "source": [
    "---"
   ]
  },
  {
   "cell_type": "markdown",
   "id": "f59a786f-63ba-4f00-a2c6-15e159086f92",
   "metadata": {
    "tags": []
   },
   "source": [
    "### Run, Windowless, Launcher\n",
    "1. **Run**--Windows program that runs other programs.  Shortcut is Win-r. Can run Python scripts in certain circumstances.  \n",
    "    - E.g. Include the folder for a batch file in the environmental PATH variable.  Next, type Win-r and enter `<FILENAME>.bat`.  Probably the quickest way to run a Python script.\n",
    "1. **pyw.exe**--Python Windowless.  Program that comes installed with the standard Windows distribution of Python.  Similar to python.exe, except that it opens the Python script w/OUT opening a terminal window.  This is nice if we do not want to see the results of our Python script and instead just want the script to perform some task in the background.  This is most useful if we run batch files that include `pyw` instead of `python` and we run the batch file with the Run program.  Then we'd never need to see a terminal window.\n",
    "1. **py.exe**--Python Launcher.  Program that comes installed with the standard Windows distribution of Python.  py.exe opens python.exe.  The utility value is that py.exe chooses the best (hopefully) version of the Python interpreter to run a script when there are multiple versions installed on a computer. In many terminal commands, py.exe can be used in place of python.exe and `py` can be used in place of `python`."
   ]
  },
  {
   "cell_type": "markdown",
   "id": "27ccd986-b0d7-4a27-9a06-4d87a78d85b2",
   "metadata": {},
   "source": [
    "---"
   ]
  }
 ],
 "metadata": {
  "kernelspec": {
   "display_name": "Python 3 (ipykernel)",
   "language": "python",
   "name": "python3"
  },
  "language_info": {
   "codemirror_mode": {
    "name": "ipython",
    "version": 3
   },
   "file_extension": ".py",
   "mimetype": "text/x-python",
   "name": "python",
   "nbconvert_exporter": "python",
   "pygments_lexer": "ipython3",
   "version": "3.9.9"
  }
 },
 "nbformat": 4,
 "nbformat_minor": 5
}
