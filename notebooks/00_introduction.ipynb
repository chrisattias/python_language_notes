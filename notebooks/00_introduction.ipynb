{
 "cells": [
  {
   "cell_type": "markdown",
   "id": "17d5fd5b-cf01-479d-ad69-bfba34e8719d",
   "metadata": {},
   "source": [
    "# Introduction"
   ]
  },
  {
   "cell_type": "markdown",
   "id": "1250ebbd-6419-45b2-b1bb-4daa6a6537ff",
   "metadata": {},
   "source": [
    "---"
   ]
  },
  {
   "cell_type": "markdown",
   "id": "4d80a6ac-1b30-48a3-92e2-ca717679ac94",
   "metadata": {
    "tags": []
   },
   "source": [
    "![](images/pynotes.jpg)"
   ]
  },
  {
   "cell_type": "markdown",
   "id": "a48ccfea-e574-411a-98b2-230ae2d3b7ff",
   "metadata": {},
   "source": [
    "---"
   ]
  },
  {
   "cell_type": "markdown",
   "id": "27350a97-a1b9-4e6a-85bd-ea8059e506af",
   "metadata": {},
   "source": [
    "## What's in the Notebooks?"
   ]
  },
  {
   "cell_type": "markdown",
   "id": "fb0c970e-6223-4eda-9275-4775d2d58cb6",
   "metadata": {},
   "source": [
    "- There are 20+ notebooks in this folder\n",
    "- This notebook is titled \"Introduction\".  Here we cover the organizational structure of these notebooks, provide links to helpful resources for learning Python, and describe what the Python language is.\n",
    "- The next notebook is titled \"Python Programming Fundamentals\".  It covers Python syntax, data types, conditional statements, loops, function definitions, and much more. This is by far the longest notebook.  In fact, it is almost the same length as all the other notebooks combined! \n",
    "- The following 15 notebooks are shorter, more closely organized around a single theme and often introduce third-party Python libraries.  The order they are listed is not particularly important and one can jump between notebooks as desired.\n",
    "    - For example, the \"Regular Expressions\" notebook covers regular expressions with the `re` module.  The \"Data Science\" notebook covers data science with the `numpy` and `pandas` libraries.\n",
    "- The last handful of notebooks do not cover specific Python libraries.  Instead they cover topics tangentially related to the Python language.\n",
    "    - For example the \"Running Python Code\" notebook covers options for running Python code using terminal programs.  The \"IDEs\" notebook contains information on Jupyter Lab and Binder.\n",
    "- *Note that throughout these notebooks we may occasionally put text within angle brackets in all caps.  Putting text within angle brackets is a common notation that tells the reader they need to change this text because it is user specific input.  When we do this, we do NOT want the user to include angle brackets in their code.*\n",
    "    - *E.g. `<FILENAME>.py` indicates that the user enters their own file name, like `my_python_script.py`*"
   ]
  },
  {
   "cell_type": "markdown",
   "id": "f3b6c39b-0bf3-4186-91af-707a41d43c2d",
   "metadata": {},
   "source": [
    "---"
   ]
  },
  {
   "cell_type": "markdown",
   "id": "faf2e453-6b44-467e-9e1e-03c1f8b9a93d",
   "metadata": {
    "tags": []
   },
   "source": [
    "## Learning Resources\n",
    "\n",
    "1. [PY4E](https://www.py4e.com/)--intro course by Professor Chuck at the University of Michigan.  Great for those with zero computer science or programming experience.  Has video lectures, associated Powerpoints, and reference docs that parallel lecture.  Once we login through a Google account we have access to the full course (including script autograder, quizzes, and discussions) and there is no need to pay for a course on Coursera.  The only additional things on Coursera are some extra fun interviews with various CS people.\n",
    "\n",
    "1. [W3shools](https://www.w3schools.com/python/default.asp)--quickly covers all the major parts of Python and popular Python libraries in a very structured and organized way.  Great for review of topics already learned or for someone coming in with computer science experience already.   Allows one to practice examples of code on their website.  W3 Schools has information on many other languages as well, from Java to SQL.\n",
    "\n",
    "1. [Automate the Boring Stuff with Python Second Edition](https://automatetheboringstuff.com)--book and online course by Al Sweigart.  Focuses on automation of repetitive tasks. Book can be read on website for free. Course not free.  Great for someone coming in with a little computer science already.  It does cover the Python basics, but moves a bit fast for complete beginners.  Clear and concise.  \n",
    "\n",
    "1. [Beyond the Basic Stuff with Python](https://inventwithpython.com/beyond/)--Al Sweigart has written a number of other Python books including *Beyond the Basic Stuff with Python*.  It contains best practices for writing more Pythonic code.\n",
    "\n",
    "1. [Official Python 3 Documentation](https://docs.python.org/3/)--tutorial (not great for beginners), glossary, Python Standard Library (functions, data types, methods, modules, libraries, etc), Python Language Reference (syntax and \"core semantics\"), FAQ, etc.   \n",
    "\n",
    "1. [PEP 8](https://www.python.org/dev/peps/pep-0008/)--style guidelines for writing clear and shareable code\n",
    "\n",
    "1. Python library websites--many third-party Python libraries provide documentation that is built with [Sphinx](https://www.sphinx-doc.org/en/master/) and hosted by [Read the Docs](https://readthedocs.org/).  Others package authors may include documentation on GitHub, PyPI, or a separate library website.  For example:\n",
    "    1. [Requests Documentation](https://docs.python-requests.org/en/latest/)--online documentation for Python Requests library hosted by Read the Docs\n",
    "    1. [Pandas Documentation](https://pandas.pydata.org)--online documentation for the Pandas Python library.  They also have an official [Pandas Cheat Sheet](input/pandas_cheat_sheet.pdf).\n",
    "  \n",
    "1. [Python Data Science Handbook](https://jakevdp.github.io/PythonDataScienceHandbook/)--online book on NumPy, Pandas, Matplotlib, and machine learning with Scikit-Learn.\n",
    "\n",
    "1. *Grokking Algorithms.  An illustrated guide for programmers and for other curious people*--written by Aditya Y. Bhargava.  Introduces the topic of algorithms and provides examples of the most common algorithms.  Examples make extensive use of diagrams and illustrations. \n",
    "\n",
    "1. [RealPython](https://realpython.com)--detailed articles on Python topics.  Both free and paid-for content.\n",
    "\n",
    "1. [Stack Overflow](https://stackoverflow.com/)--the foremost forum for programming questions and answers.  Stack Overflow is the programming-centric version of other Stack Exchange websites.\n",
    "\n",
    "1. [Advent of Code](https://adventofcode.com)--fun puzzles that come out every winter season. Can be solved in any programming language.  A bit of cult following with programmers.\n",
    "\n",
    "1. [R for Data Science](https://r4ds.had.co.nz/)--online book that covers data science fundamentals.  Though written for the R programming language, it remains a good resource for anyone learning data science.\n",
    "\n",
    "1. [Markdown Guide](https://www.markdownguide.org/)--guide to writing Markdown"
   ]
  },
  {
   "cell_type": "markdown",
   "id": "f077c084-496a-4a76-a8f6-72c5e0a78ddb",
   "metadata": {},
   "source": [
    "---"
   ]
  },
  {
   "cell_type": "markdown",
   "id": "41c08229-e3dc-4a40-bf83-bb07dc5f9be4",
   "metadata": {
    "tags": []
   },
   "source": [
    "## Python in a Nutshell\n",
    "- The term \"Python\" is used to mean 2 things:\n",
    "    1. Python programming language. Similar to spoken languages like English.  We are learning Python words in order to build our vocabulary/lexicon.  We are also learning how to order these words to create meaningful sentences.  This is known as syntax.  When combined, we are able to write code sentences like `print(1 + 2)`.\n",
    "    1. Python interpreter.  This is the software program we download and install. E.g. \"python.exe\" on Windows.  The Python interpreter runs our user created code.  If our code sentence was `print(1 + 2)`, we could tell the Python interpreter to run our code, it would coordinate with our computer to crunch the numbers, and then display `3` on the screen.\n",
    "\n",
    "- If we said, \"I'm learning Python\", we mean we are learning the programming language.  If we said, \"\"Python ran our code\", we mean the interpreter.  If we said, \"We're using Python version 3.10.0\", we mean both the language and interpreter because they evolve together.  So in the end this distinction is not that important and we'll often use the term \"Python\" to mean both!\n",
    "\n",
    "- Python was created by Guido van Rossum and first released in 1991\n",
    "\n",
    "- Python is named after *Monty Python's Flying Circus*\n",
    "\n",
    "- Python was designed to be:\n",
    "    - High level.  Reads more like English than the 1s and 0s of machine code.\n",
    "    - Interpreted.  Do not have to compile an entire Python script to machine code before running.\n",
    "    - Garbage collected.  Do not have to manually declare where in computer memory values are stored.\n",
    "    - Dynamically typed.  Do not have to manually declare data type whenever values are stored.\n",
    "    - Object oriented.  Language emphasizes nouns (objects) instead of verbs (functions).\n",
    "\n",
    "- Python was also designed with certain aphorisms in mind.  These are found in the *The Zen of Python* below:"
   ]
  },
  {
   "cell_type": "code",
   "execution_count": 1,
   "id": "1a302909-d503-49ff-ab85-e4a633cbab56",
   "metadata": {},
   "outputs": [
    {
     "name": "stdout",
     "output_type": "stream",
     "text": [
      "The Zen of Python, by Tim Peters\n",
      "\n",
      "Beautiful is better than ugly.\n",
      "Explicit is better than implicit.\n",
      "Simple is better than complex.\n",
      "Complex is better than complicated.\n",
      "Flat is better than nested.\n",
      "Sparse is better than dense.\n",
      "Readability counts.\n",
      "Special cases aren't special enough to break the rules.\n",
      "Although practicality beats purity.\n",
      "Errors should never pass silently.\n",
      "Unless explicitly silenced.\n",
      "In the face of ambiguity, refuse the temptation to guess.\n",
      "There should be one-- and preferably only one --obvious way to do it.\n",
      "Although that way may not be obvious at first unless you're Dutch.\n",
      "Now is better than never.\n",
      "Although never is often better than *right* now.\n",
      "If the implementation is hard to explain, it's a bad idea.\n",
      "If the implementation is easy to explain, it may be a good idea.\n",
      "Namespaces are one honking great idea -- let's do more of those!\n"
     ]
    }
   ],
   "source": [
    "import this"
   ]
  },
  {
   "cell_type": "markdown",
   "id": "5c57e970-ca51-441b-9d91-f10142a4bd9d",
   "metadata": {},
   "source": [
    "- This philosophy leads to an easy to read and write language that is is popular for:\n",
    "    - Web development (back end/web servers)\n",
    "    - Data science\n",
    "    - Machine learning and artificial intelligence\n",
    "    - General scripting and task automation\n",
    "    - [Robotics](https://youtu.be/CicY1-1Tl9E)\n",
    "    - GUI creation\n",
    "    - Image processing\n",
    "    - Web scraping\n",
    "    - Education\n",
    "- Because Python is slower to run than compiled languages it is not used for:\n",
    "    - Operating systems\n",
    "    - Video games\n",
    "    - Mobile apps\n",
    "- Python has a very active community of developers and is frequently updated.  There were major revisions in 2000 with the release of Python 2 and in 2008 with the release of Python 3.  At the time of writing the latest version of Python is 3.10.0."
   ]
  },
  {
   "cell_type": "markdown",
   "id": "a824b255-906d-4d64-821d-f6ee088f11b6",
   "metadata": {},
   "source": [
    "- Learning Python certainly isn't easy, but it's easier than learning most other programming languages! : )"
   ]
  },
  {
   "cell_type": "code",
   "execution_count": null,
   "id": "9d879858-a1c9-40fa-b903-fa06ab7a4bb3",
   "metadata": {},
   "outputs": [],
   "source": [
    "import antigravity "
   ]
  },
  {
   "cell_type": "markdown",
   "id": "87b0b507-4c6d-4ad3-afe7-910094677e22",
   "metadata": {},
   "source": [
    "- Note that the above code cell will not run correctly through Binder.  One can still learn about antigravity by following the following [link](https://xkcd.com/353/)."
   ]
  }
 ],
 "metadata": {
  "kernelspec": {
   "display_name": "Python 3 (ipykernel)",
   "language": "python",
   "name": "python3"
  },
  "language_info": {
   "codemirror_mode": {
    "name": "ipython",
    "version": 3
   },
   "file_extension": ".py",
   "mimetype": "text/x-python",
   "name": "python",
   "nbconvert_exporter": "python",
   "pygments_lexer": "ipython3",
   "version": "3.9.9"
  }
 },
 "nbformat": 4,
 "nbformat_minor": 5
}
