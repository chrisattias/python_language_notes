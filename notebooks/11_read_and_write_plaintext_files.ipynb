{
 "cells": [
  {
   "cell_type": "markdown",
   "id": "21f82b25-2fb4-4da9-93a6-20905656f44d",
   "metadata": {
    "tags": []
   },
   "source": [
    "#  Read and Write\n",
    "- **Read**--open and display data\n",
    "- **Write**--save data\n",
    "- We often want to read data from other files.  We often want to save code output to a file.  Code output in variables is only temporary and disappears when our function or script ends.\n",
    "- In these notes we have only read-in and written data briefly using `<PATH_OBJECT>.read_text(\"Text\")` and `<PATH_OBJECT>.write_text(\"Text\")`\n",
    "- How we read and write data depends on the file type.  There are said to be two categories of files.\n",
    "    1. **Plaintext Files**--only contain text characters.  Do not contain font color, size, etc.  Each text character in a plaintext file is mapped to a Unicode code point.  When the file is saved it is encoded into bytes.  The encoding method depends on the operating system, but is often UTF-8 on Mac and Linux and UTF-16 on Windows.  When we read-in a file the process is reversed.\n",
    "        - E.g. .txt, .csv, .py, .md, .rmd, .ipynb, .json, .html, etc.  \n",
    "     1. **Binary Files**--every other type of file that is not a plaintext file.  Kinda strange distinction given that plaintext files are also ultimately saved as binary data, but I digress.  Each binary file type uses specific encoding and decoding methods.\n",
    "         - E.g. rich text (.docx and .pdf), .tiff, .jpg, .mp3, etc."
   ]
  },
  {
   "cell_type": "markdown",
   "id": "67d5a878-6c87-4dfd-ba63-681df217e462",
   "metadata": {},
   "source": [
    "---"
   ]
  },
  {
   "cell_type": "markdown",
   "id": "fec57c82-4d78-429c-8cc9-bada46ee2398",
   "metadata": {},
   "source": [
    "## Plaintext Files\n",
    "- Where possible, we try to use plaintext files to save Python objects/data.  Plaintext files are human readable and can be opened in any text editor.  When we write a script with a .py extension, we are saving our Python objects as plaintext.\n",
    "- Python strings are naturally compatible with plaintext files but are not the same thing.  Python strings can be directly written to a plaintext file and a plaintext file can be read in as a Python string.\n",
    "- Other simple Python data types like integers, floats, lists, and dictionaries can be converted into a Python string and then written to a plaintext file.  \n",
    "- We can also go from a plaintext file that holds simple Python data types, read them in as a Python string, and then convert the Python string into the correct data type.  This happens automatically when we import a Python module, which is itself a .py file.\n",
    "- We'll use the open function to read and write plaintext data.  The `open()` function has two modes. `t` is for a plaintext file and `b` is for a binary file.\n",
    "- **File Handle**--also called **file object**.  When a file is opened a file handle is created.  The file handle is used to retrieve the data stored in the file, but is not the data itself.\n",
    "    - *Note that file objects can only read in once.  If we want to read in a file a second time we need to create another file object.*"
   ]
  },
  {
   "cell_type": "markdown",
   "id": "f39d3d9d-f641-45c5-9cbd-80269f3bab38",
   "metadata": {},
   "source": [
    "Code | Use\n",
    "--- | ---\n",
    "`open()` | Opens file.  File can be a path stored as a string object or a path stored as a path object.  Creates file handle (file object).  Takes in 2 arguments, filename and mode.  The different modes have different methods that can be used on the file handle. `r` and `t` are the default modes.\n",
    "`t` | Text mode.  Default mode.\n",
    "`b` | Binary mode\n",
    "`r` | Read mode.  Default mode. Opens file for reading. Error if file does not exist.\n",
    "`.read()` | File object method.  Returns entire file.  Reads entire file to memory as one string.  Good for smaller files.  Optionally, specify number of characters to return.  *\n",
    "`.readline()` | File object method.  Returns only one line.  Reads only one line at a time to memory. A line being strings separated by \\n.\n",
    "`.readlines()` | File object method.  Returns list of strings with each string being one line of text.  \n",
    "`for` | The preferred way to read out all the lines of the file at once. Reads only one line at a time into memory.  Good for small or large files as only one line takes up memory before it is replaced by the next line.\n",
    "`a` | Append mode.  Opens file for appending.  Creates new file if filename does not exist.\n",
    "`.write()` | File object method.  When `a` and `write()` are used together, `write()` adds text to end of file\n",
    "`w` | Write mode.  Opens file for writing.  Creates new file if filename does not exist.\n",
    "`.write()` | File object method.  When `w` and `write()` are used together, `write()` overwrites text.  CAUTION! Overwrite.\n",
    "`x` | Create.  Creates a file. Error if filename already exists.\n",
    " `.close()` | File object method.  It is good programming to always close a file when done using it. Some changes only show up when file is closed.\n",
    "`with open() as <FO>:` | *Context Manager* combines open and close.  It automatically closes the file when we are done with it.  It knows we are done when we de-indent.  It also closes a file correctly if there is an exception at some point in the file handling.  Using the context manager is recommended."
   ]
  },
  {
   "cell_type": "markdown",
   "id": "a4b197d5-43d4-458a-8d77-93b5fdc7a09a",
   "metadata": {},
   "source": [
    "---"
   ]
  },
  {
   "cell_type": "markdown",
   "id": "a7afdf9b-2285-4bc8-b716-c6db7050a0fb",
   "metadata": {},
   "source": [
    "**EXAMPLES**"
   ]
  },
  {
   "cell_type": "code",
   "execution_count": 39,
   "id": "1f1e4f4a-c28f-4a0b-b418-39e4e0073e82",
   "metadata": {},
   "outputs": [],
   "source": [
    "from pathlib import Path\n",
    "import os"
   ]
  },
  {
   "cell_type": "markdown",
   "id": "e2f52ab7-8610-4144-8a20-6c856f30b3eb",
   "metadata": {},
   "source": [
    "**`r` Read Mode**"
   ]
  },
  {
   "cell_type": "markdown",
   "id": "11de3e22-98fa-449e-a6fa-c41e81b1b0cc",
   "metadata": {},
   "source": [
    "`.read()`"
   ]
  },
  {
   "cell_type": "code",
   "execution_count": 40,
   "id": "4d716d14-68e2-4ee3-9806-89398120d5f5",
   "metadata": {},
   "outputs": [
    {
     "name": "stdout",
     "output_type": "stream",
     "text": [
      "line one is here.  This is a file for practicing with the file open() function\n",
      "line two is here\n",
      "line three is here\n",
      "line four is here\n"
     ]
    }
   ],
   "source": [
    "# \"rt\" are default modes, but we'll include them for practice\n",
    "file_handle = open(\"./input/examplefile.txt\", \"rt\")\n",
    "print(file_handle.read())\n",
    "file_handle.close()"
   ]
  },
  {
   "cell_type": "code",
   "execution_count": 41,
   "id": "7d59e5ea-ecac-4b32-a3ba-c625c35ae719",
   "metadata": {},
   "outputs": [
    {
     "name": "stdout",
     "output_type": "stream",
     "text": [
      "line one is here.  This is a file for practicing with the file open() function\n",
      "line two is here\n",
      "line three is here\n",
      "line four is here\n"
     ]
    }
   ],
   "source": [
    "# open() accepts path objects\n",
    "file_handle = open(Path(\"./input/examplefile.txt\"), \"rt\")\n",
    "print(file_handle.read())\n",
    "file_handle.close()"
   ]
  },
  {
   "cell_type": "code",
   "execution_count": 42,
   "id": "6200089d-c034-409e-9628-e85478351b35",
   "metadata": {},
   "outputs": [
    {
     "name": "stdout",
     "output_type": "stream",
     "text": [
      "line one is \n"
     ]
    }
   ],
   "source": [
    "# Specify number of characters to read in\n",
    "file_handle = open(\"./input/examplefile.txt\", \"rt\")\n",
    "print(file_handle.read(12))\n",
    "file_handle.close()"
   ]
  },
  {
   "cell_type": "markdown",
   "id": "c94ca7d5-ffc2-4a26-ab05-28d997b6beb4",
   "metadata": {},
   "source": [
    "`.readline()` Singular"
   ]
  },
  {
   "cell_type": "code",
   "execution_count": 43,
   "id": "009cddf9-421a-4aba-8a54-d7b1da8d654b",
   "metadata": {},
   "outputs": [
    {
     "name": "stdout",
     "output_type": "stream",
     "text": [
      "line one is here.  This is a file for practicing with the file open() function\n",
      "\n"
     ]
    }
   ],
   "source": [
    "file_handle = open(\"./input/examplefile.txt\", \"rt\")\n",
    "print(file_handle.readline())\n",
    "file_handle.close()"
   ]
  },
  {
   "cell_type": "code",
   "execution_count": 44,
   "id": "1bb59895-26de-4acb-9374-fc7407f7d33d",
   "metadata": {},
   "outputs": [
    {
     "name": "stdout",
     "output_type": "stream",
     "text": [
      "line one is here.  This is a file for practicing with the file open() function\n",
      "\n",
      "line two is here\n",
      "\n"
     ]
    }
   ],
   "source": [
    "# readline() can return consecutive lines if called consecutively\n",
    "file_handle = open(\"./input/examplefile.txt\", \"rt\")\n",
    "print(file_handle.readline())\n",
    "print(file_handle.readline())\n",
    "file_handle.close()"
   ]
  },
  {
   "cell_type": "markdown",
   "id": "661eeb69-e7a8-4146-ae91-778a93a9c1fe",
   "metadata": {},
   "source": [
    "`.readlines()` Plural"
   ]
  },
  {
   "cell_type": "code",
   "execution_count": 45,
   "id": "f1e97b50-37cd-4f25-b31b-c132a83dc470",
   "metadata": {},
   "outputs": [
    {
     "name": "stdout",
     "output_type": "stream",
     "text": [
      "['line one is here.  This is a file for practicing with the file open() function\\n', 'line two is here\\n', 'line three is here\\n', 'line four is here']\n"
     ]
    }
   ],
   "source": [
    "file_handle = open(\"./input/examplefile.txt\", \"rt\")\n",
    "print(file_handle.readlines())\n",
    "file_handle.close()"
   ]
  },
  {
   "cell_type": "markdown",
   "id": "66c64088-7ed0-4273-a209-a5cb10cea9ca",
   "metadata": {},
   "source": [
    "`for` loop"
   ]
  },
  {
   "cell_type": "code",
   "execution_count": 46,
   "id": "ee8f3d55-b770-4465-b11f-3dc90130198c",
   "metadata": {},
   "outputs": [
    {
     "name": "stdout",
     "output_type": "stream",
     "text": [
      "line one is here.  This is a file for practicing with the file open() function\n",
      "\n",
      "line two is here\n",
      "\n",
      "line three is here\n",
      "\n",
      "line four is here\n"
     ]
    }
   ],
   "source": [
    "file_handle = open(\"./input/examplefile.txt\", \"rt\")\n",
    "for line in file_handle:\n",
    "    print(line)\n",
    "file_handle.close()"
   ]
  },
  {
   "cell_type": "markdown",
   "id": "f6d805e8-2f1e-416f-877e-e4429dc7d6e5",
   "metadata": {},
   "source": [
    "**`a`  Append Mode**"
   ]
  },
  {
   "cell_type": "code",
   "execution_count": 47,
   "id": "e7c0f7b3-aab3-4ca1-874f-533cddb08f30",
   "metadata": {},
   "outputs": [
    {
     "name": "stdout",
     "output_type": "stream",
     "text": [
      "\n",
      "Let's add another line to the file.\n",
      "Let's add another line to the file.\n"
     ]
    }
   ],
   "source": [
    "# Append to file.  The more we run this, the more times it appends.\n",
    "file_handle = open(\"./output/examplefileappend.txt\", \"at\")\n",
    "file_handle.write(\"\\nLet's add another line to the file.\")\n",
    "file_handle = open(\"./output/examplefileappend.txt\", \"r\")\n",
    "print(file_handle.read())\n",
    "file_handle.close()"
   ]
  },
  {
   "cell_type": "markdown",
   "id": "7628e381-9448-4ebd-a7e8-c7d89e7120fd",
   "metadata": {},
   "source": [
    "**`w`  Write Mode**"
   ]
  },
  {
   "cell_type": "code",
   "execution_count": 48,
   "id": "01c6da4f-1fdf-4df4-b745-530f26e1721c",
   "metadata": {},
   "outputs": [
    {
     "name": "stdout",
     "output_type": "stream",
     "text": [
      "This text is overwriting previous text.\n"
     ]
    }
   ],
   "source": [
    "# Overwrite file\n",
    "file_handle = open(\"./output/examplefileoverwrite.txt\", 'wt')\n",
    "file_handle.write(\"This text is overwriting previous text.\")\n",
    "file_handle = open(\"./output/examplefileoverwrite.txt\", 'rt')\n",
    "print(file_handle.read())\n",
    "file_handle.close()"
   ]
  },
  {
   "cell_type": "markdown",
   "id": "f7e601be-d6e4-40cc-bc87-2243a56b0aea",
   "metadata": {},
   "source": [
    "**`x` Create Mode**"
   ]
  },
  {
   "cell_type": "code",
   "execution_count": 49,
   "id": "b5b4f950-4545-4f1a-8f3e-c3d9820f7ec5",
   "metadata": {},
   "outputs": [],
   "source": [
    "file_handle = open(\"output/examplefiledelete.txt\", 'xt')  # File created.  If already exists returns error.\n",
    "file_handle.close()\n",
    "\n",
    "os.remove(\"output/examplefiledelete.txt\")  # File deleted"
   ]
  },
  {
   "cell_type": "code",
   "execution_count": 50,
   "id": "16bb6890-3794-4ab2-a56c-4b15bc4bb866",
   "metadata": {},
   "outputs": [],
   "source": [
    "# Check file existence then delete\n",
    "\n",
    "file_handle = open(\"output/examplefiledelete.txt\", 'xt')  # File created\n",
    "file_handle.close()\n",
    "\n",
    "if os.path.exists(\"output/examplefiledelete.txt\"):  # File existence checked\n",
    "    os.remove(\"output/examplefiledelete.txt\")  # File deleted\n",
    "else:\n",
    "    print(\"File not there.\")"
   ]
  },
  {
   "cell_type": "markdown",
   "id": "39b4355d-fed1-47a1-a303-b9b690a319fa",
   "metadata": {},
   "source": [
    "**`with open()`**"
   ]
  },
  {
   "cell_type": "code",
   "execution_count": 51,
   "id": "3a6c393b-9284-4471-8fb8-85184ede3f20",
   "metadata": {},
   "outputs": [
    {
     "name": "stdout",
     "output_type": "stream",
     "text": [
      "line one is here.  This is a file for practicing with the file open() function\n",
      "line two is here\n",
      "line three is here\n",
      "line four is here\n"
     ]
    }
   ],
   "source": [
    "with open(\"input/examplefile.txt\", 'rt') as file_handle:\n",
    "    print(file_handle.read())"
   ]
  },
  {
   "cell_type": "code",
   "execution_count": 52,
   "id": "22833b73-720c-4970-9354-6a0896abdb6a",
   "metadata": {},
   "outputs": [
    {
     "name": "stdout",
     "output_type": "stream",
     "text": [
      "Your file was not found.\n"
     ]
    }
   ],
   "source": [
    "# try and except commonly used with files as often they are not there and this would cause errors\n",
    "try:\n",
    "    with open(\"input/FileNameNotThere.txt\", 'rt') as file_handle:\n",
    "        print(file_handle.read())\n",
    "except FileNotFoundError:\n",
    "    print(\"Your file was not found.\")"
   ]
  },
  {
   "cell_type": "markdown",
   "id": "2401d808-748c-480d-8e15-d7d133e66be7",
   "metadata": {},
   "source": [
    "---"
   ]
  },
  {
   "cell_type": "markdown",
   "id": "72191249-06a3-4c41-96ae-65b876c81dfa",
   "metadata": {},
   "source": [
    "### Pretty Print\n",
    "\n",
    "- The pretty print module can be used to print simple Python data types out in an easy to read and syntactically correct format\n",
    "- Pretty print can also return an easy to read, syntactically correct string without printing, that can be written to a .py file\n",
    "- Pretty print is NOT necessary for file reading and writing.  It does make data structures like nested lists and dictionaries easier to read.\n",
    "- Pretty print can also help avoid errors when reading and writing a Python string data type\n",
    "\n",
    "Code | Use\n",
    "--- | ---\n",
    "`pprint` | Module\n",
    "`pprint.pprint()` | Prints data structure\n",
    "`pprint.pformat()` | Returns data structure as a string"
   ]
  },
  {
   "cell_type": "markdown",
   "id": "c846bca4-1ecf-45e7-b81c-3a60ef273052",
   "metadata": {},
   "source": [
    "---"
   ]
  },
  {
   "cell_type": "markdown",
   "id": "0ed46d90-1fd3-471a-8fc9-fe4a168f1e13",
   "metadata": {},
   "source": [
    "**EXAMPLES**"
   ]
  },
  {
   "cell_type": "code",
   "execution_count": 53,
   "id": "4d31536b-2911-410d-a9cb-64ad52289df8",
   "metadata": {},
   "outputs": [],
   "source": [
    "import pprint"
   ]
  },
  {
   "cell_type": "markdown",
   "id": "723c901b-73b7-4b86-9dbc-a69a81498d9f",
   "metadata": {},
   "source": [
    "**`pprint()` String**\n",
    "- Pretty print prints a string with enclosing quotations\n",
    "- This is similar to the `repr()` function"
   ]
  },
  {
   "cell_type": "code",
   "execution_count": 54,
   "id": "f7169574-4a15-4b50-ba48-94a0aa15666a",
   "metadata": {},
   "outputs": [
    {
     "name": "stdout",
     "output_type": "stream",
     "text": [
      "Hello world\n",
      "'Hello world'\n",
      "'Hello world'\n"
     ]
    }
   ],
   "source": [
    "print(\"Hello world\")\n",
    "pprint.pprint(\"Hello world\")\n",
    "print(repr(\"Hello world\"))"
   ]
  },
  {
   "cell_type": "markdown",
   "id": "051ec82b-572b-4a04-a2d9-93fcb17d5aa9",
   "metadata": {},
   "source": [
    "**`pprint()` Nested Dictionary**\n",
    "- Pretty print prints each item of a data structure on a new line making it easier to read"
   ]
  },
  {
   "cell_type": "code",
   "execution_count": 55,
   "id": "6cd75673-8fb8-4990-a1f1-fca42ad9d831",
   "metadata": {},
   "outputs": [
    {
     "name": "stdout",
     "output_type": "stream",
     "text": [
      "<class 'dict'>\n",
      "{'author': 'The Python Packaging Authority',\n",
      " 'author_email': 'pypa-dev@googlegroups.com',\n",
      " 'bugtrack_url': None,\n",
      " 'classifiers': [Ellipsis],\n",
      " 'description': 'A sample Python project\\n'\n",
      "                '=======================\\n'\n",
      "                '\\n'\n",
      "                'This is the description file for the project.\\n'\n",
      "                '\\n'\n",
      "                'The file should use UTF-8 encoding and be written using '\n",
      "                'ReStructured Text. It\\n'\n",
      "                'will be used to generate the project webpage on PyPI, and '\n",
      "                'should be written for\\n'\n",
      "                'that purpose.\\n'\n",
      "                '\\n',\n",
      " 'description_content_type': None,\n",
      " 'docs_url': None,\n",
      " 'download_url': 'UNKNOWN',\n",
      " 'downloads': {Ellipsis},\n",
      " 'home_page': 'https://github.com/pypa/sampleproject',\n",
      " 'keywords': 'sample setuptools development',\n",
      " 'license': 'MIT'}\n"
     ]
    }
   ],
   "source": [
    "d_example = {'author': 'The Python Packaging Authority',\n",
    " 'author_email': 'pypa-dev@googlegroups.com',\n",
    " 'bugtrack_url': None,\n",
    " 'classifiers': [...],\n",
    " 'description': 'A sample Python project\\n'\n",
    "                '=======================\\n'\n",
    "                '\\n'\n",
    "                'This is the description file for the '\n",
    "                'project.\\n'\n",
    "                '\\n'\n",
    "                'The file should use UTF-8 encoding and be '\n",
    "                'written using ReStructured Text. It\\n'\n",
    "                'will be used to generate the project '\n",
    "                'webpage on PyPI, and should be written '\n",
    "                'for\\n'\n",
    "                'that purpose.\\n'\n",
    "                '\\n',\n",
    " 'description_content_type': None,\n",
    " 'docs_url': None,\n",
    " 'download_url': 'UNKNOWN',\n",
    " 'downloads': {...},\n",
    " 'home_page': 'https://github.com/pypa/sampleproject',\n",
    " 'keywords': 'sample setuptools development',\n",
    " 'license': 'MIT'}\n",
    "\n",
    "print(type(d_example))\n",
    "pprint.pprint(d_example)"
   ]
  },
  {
   "cell_type": "markdown",
   "id": "dc538027-cc3f-4df3-a642-2b02f5cd1cf0",
   "metadata": {},
   "source": [
    "- The normal `print()` prints the entire data structure on a single line"
   ]
  },
  {
   "cell_type": "code",
   "execution_count": 56,
   "id": "872e7e16-0f81-4cb8-b6c0-7404e0f3c1af",
   "metadata": {},
   "outputs": [
    {
     "name": "stdout",
     "output_type": "stream",
     "text": [
      "<class 'dict'>\n",
      "{'author': 'The Python Packaging Authority', 'author_email': 'pypa-dev@googlegroups.com', 'bugtrack_url': None, 'classifiers': [Ellipsis], 'description': 'A sample Python project\\n=======================\\n\\nThis is the description file for the project.\\n\\nThe file should use UTF-8 encoding and be written using ReStructured Text. It\\nwill be used to generate the project webpage on PyPI, and should be written for\\nthat purpose.\\n\\n', 'description_content_type': None, 'docs_url': None, 'download_url': 'UNKNOWN', 'downloads': {Ellipsis}, 'home_page': 'https://github.com/pypa/sampleproject', 'keywords': 'sample setuptools development', 'license': 'MIT'}\n"
     ]
    }
   ],
   "source": [
    "print(type(d_example))\n",
    "print(d_example)"
   ]
  },
  {
   "cell_type": "markdown",
   "id": "d1d49680-32e0-44a8-92a4-a39fe215f82f",
   "metadata": {},
   "source": [
    "**`pformat()` Simple Example**\n",
    "- This example emphasizes that we need to type out the variable name and equals sign.  This variable assignment is not included otherwise in the plaintext file.\n",
    "- Also notice that even though we write strings to files, the plaintext file does not enclose all the data in quotes, so we get the correct list data structure in the plaintext file.\n",
    "- With a simple list, `pformat()` does not do anything differently and is not needed"
   ]
  },
  {
   "cell_type": "code",
   "execution_count": 57,
   "id": "6c45aed0-fdbc-4fff-8ccd-0a591cc6e94e",
   "metadata": {},
   "outputs": [],
   "source": [
    "l_breakfast = ['spam', 'beans', 'spam']\n",
    "\n",
    "with open('./output/my_breakfast_module.py', 'wt') as file_handle:\n",
    "    file_handle.write(f'l_breakfast = {l_breakfast}')  # Type assignment statement"
   ]
  },
  {
   "cell_type": "markdown",
   "id": "19166009-0c34-461a-95bc-5dfc9913b55a",
   "metadata": {},
   "source": [
    "- We can NOT easily read this list in as a string and convert it back to a list.  This would involve regular expressions or string methods to isolate the items and then `split()` to convert the string of items into a list of items.\n",
    "- We CAN easily import the module and use the list as a constant"
   ]
  },
  {
   "cell_type": "code",
   "execution_count": 58,
   "id": "d4268c4b-d88a-40c8-b838-5b381c633abd",
   "metadata": {},
   "outputs": [
    {
     "name": "stdout",
     "output_type": "stream",
     "text": [
      "<class 'list'>\n",
      "['spam', 'beans', 'spam']\n"
     ]
    }
   ],
   "source": [
    "from output import my_breakfast_module\n",
    "\n",
    "print(type(my_breakfast_module.l_breakfast))\n",
    "print(my_breakfast_module.l_breakfast)"
   ]
  },
  {
   "cell_type": "markdown",
   "id": "14bd2c2f-9a73-4065-bee8-4f47a533fbaf",
   "metadata": {},
   "source": [
    "**`pformat()` Nested Dictionary**\n",
    "- This example shows the easy to read data in a plaintext file that is created when we use `pformat()`\n",
    "- At first glance of the printed dictionary below, it does not appear that `pformat()` did anything.  However, if we manually open and view the plaintext file we'll see an easy to read dictionary.\n",
    "- If we did not first convert the dictionary into a pretty string format, then the plaintext file would look like the dictionary printed below"
   ]
  },
  {
   "cell_type": "code",
   "execution_count": 59,
   "id": "70597301-6901-45c3-9c5f-7cea0ce0cf69",
   "metadata": {},
   "outputs": [
    {
     "name": "stdout",
     "output_type": "stream",
     "text": [
      "<class 'dict'>\n",
      "{'author': 'The Python Packaging Authority', 'author_email': 'pypa-dev@googlegroups.com', 'bugtrack_url': None, 'classifiers': [Ellipsis], 'description': 'A sample Python project\\n=======================\\n\\nThis is the description file for the project.\\n\\nThe file should use UTF-8 encoding and be written using ReStructured Text. It\\nwill be used to generate the project webpage on PyPI, and should be written for\\nthat purpose.\\n\\n', 'description_content_type': None, 'docs_url': None, 'download_url': 'UNKNOWN', 'downloads': {Ellipsis}, 'home_page': 'https://github.com/pypa/sampleproject', 'keywords': 'sample setuptools development', 'license': 'MIT'}\n"
     ]
    }
   ],
   "source": [
    "s_pdict = pprint.pformat(d_example)\n",
    "\n",
    "with open('./output/my_pretty_dictionary_module.py', 'wt') as file_handle:\n",
    "    file_handle.write(f'l_pdict = {s_pdict}')\n",
    "\n",
    "from output import my_pretty_dictionary_module\n",
    "\n",
    "print(type(my_pretty_dictionary_module.l_pdict))\n",
    "print(my_pretty_dictionary_module.l_pdict)"
   ]
  },
  {
   "cell_type": "markdown",
   "id": "b08e3993-cae7-43e3-9784-e6f375aa264c",
   "metadata": {},
   "source": [
    "**`pformat()` String**\n",
    "- Normally the string, `\"Hello world\"` written to a plaintext file becomes `Hello world`.  The enclosing quotes are removed.  It is no longer a string data type. We pointed this out with the simple list example above.\n",
    "- To fix this we can include an extra set of quotes at some point in the process, or we can use `pformat()`"
   ]
  },
  {
   "cell_type": "code",
   "execution_count": 60,
   "id": "bdf6d5b9-2a72-4264-a154-25d55f33ed31",
   "metadata": {
    "tags": []
   },
   "outputs": [
    {
     "name": "stdout",
     "output_type": "stream",
     "text": [
      "<class 'str'>\n",
      "Hello world\n"
     ]
    }
   ],
   "source": [
    "s_example = \"Hello world\"\n",
    "\n",
    "with open('./output/my_string_module.py', 'wt') as file_handle:\n",
    "    file_handle.write(f's_example = \"{s_example}\"')  # Extra enclosing quotes needed\n",
    "\n",
    "from output import my_string_module\n",
    "\n",
    "print(type(my_string_module.s_example))\n",
    "print(my_string_module.s_example)"
   ]
  },
  {
   "cell_type": "code",
   "execution_count": 61,
   "id": "20d5e2b1-10c6-4eb1-8592-d2819d58ec1c",
   "metadata": {},
   "outputs": [
    {
     "name": "stdout",
     "output_type": "stream",
     "text": [
      "<class 'str'>\n",
      "Hello world\n"
     ]
    }
   ],
   "source": [
    "s_example = \"Hello world\"\n",
    "s_pretty_example = pprint.pformat(s_example)\n",
    "\n",
    "with open('./output/my_pretty_string_module.py', 'wt') as file_handle:\n",
    "    file_handle.write(f's_pretty_example = {s_pretty_example}')  # Pretty format used\n",
    "    \n",
    "from output import my_pretty_string_module\n",
    "\n",
    "print(type(my_pretty_string_module.s_pretty_example))\n",
    "print(my_pretty_string_module.s_pretty_example)"
   ]
  },
  {
   "cell_type": "markdown",
   "id": "8ff6ab33-7214-404b-8e3a-5c4a86943681",
   "metadata": {},
   "source": [
    "- `pformat()` can take simple Python data structures and turn them into strings with a pretty, syntactically correct format.  `pformat()` is good if we want to write data to a plaintext .py module and later import that module back into a Python script.  However, if we try to read the data in directly we'd still be reading in a string that requires complicated, manual parsing to get back the intended data structure.  Lastly, this Python formatted data is only understandable to the Python interpreter and is not a format that other programs and programming languages understand.\n",
    "- If we want to read and write simple Python data structures as plaintext without writing and importing Python modules or we want to share plaintext data with other applications, then we'll want to use JSON."
   ]
  },
  {
   "cell_type": "markdown",
   "id": "28aec607-1206-48a4-81be-b60229a58155",
   "metadata": {},
   "source": [
    "---"
   ]
  },
  {
   "cell_type": "markdown",
   "id": "0d67c8e6-9eab-40b7-a242-1572369c7902",
   "metadata": {
    "tags": []
   },
   "source": [
    "### JSON\n",
    "- **JSON**--Javascript Object Notation.  JSON is formatted text that stores simple data structures.  JSON documents are plaintext files that use the .json file extension.\n",
    "-  JSON was originally designed for Javascript in the early 2000s as a way to transfer Javascript arrays and objects as plaintext in a standardized way over the internet. Because Python and Javascript share similar grammar, JSON works well with Python.\n",
    "- Within Python this JSON formatted text is handled as a Python string data type. Because the Python string contains data structures written in JSON notation we'll often call them JSON strings.\n",
    "- The Python Standard Library module called `json` can take Python data structures and convert them to JSON string representations; this process is called serializing.  Reconstructing the Python data structure from the JSON string representation is called deserializing.  Between serializing and deserializing, the JSON string representing the Python object may have been stored in a file, or sent over a network connection to some distant computer.\n",
    "    - **Serialize**--more generally, serialize means to convert an object or data type into a format that can be stored or transmitted and reconstructed later.\n",
    "- All data types in JSON strings share a `{name: value}` pair format similar to what we see with Python dictionaries\n",
    "- The `value` portion of the `{name: value}` pair corresponds to the Python data type\n",
    "- The table below shows the 6 data types JSON strings can store and the analogous Python data types:\n",
    "\n",
    "JSON Type | JSON Grammar | Python Type\n",
    "--- | --- | ---\n",
    "null | {\"name\": null} | None\n",
    "Boolean | {\"name\":true} | Boolean\n",
    "String | {\"name\" : \"Hobbes\"} | String\n",
    "Number | { \"age\": 36} | Integer or float\n",
    "Array | {\"characters\":[\"Calvin\", \"Hobbes\"]} | List\n",
    "Object | {\"character\": {\"name\":\"Hobbes\", \"age\":36}} | Dictionary\n",
    "\n",
    "- Notation rules include:\n",
    "    1. Names and values are enclosed in curly brackets\n",
    "    1. Names and values are separated by colon\n",
    "    1. JSON requires double quotes for names and string values.  The only single quotes allowed would be around the entire JSON string containing all the data.\n",
    "    1. Square brackets hold arrays\n",
    "    1. Curly brackets hold objects\n",
    "- We show examples below and then touch on JSON again in the *Parsing JSON* section\n",
    "\n",
    "Code | Use\n",
    "--- | ---\n",
    "`json` | Module\n",
    "`json.loads()` | Returns Python data structures from JSON string.  Short for load **S**tring.\n",
    "`json.dumps()` | Returns JSON string from Python data structures.  Short for dump **S**tring."
   ]
  },
  {
   "cell_type": "markdown",
   "id": "51612a13-6bd4-4268-a0f8-3fab483316c3",
   "metadata": {},
   "source": [
    "---"
   ]
  },
  {
   "cell_type": "markdown",
   "id": "320c41ce-0ea4-418d-8cd4-57163f2f9a59",
   "metadata": {},
   "source": [
    "**EXAMPLES**"
   ]
  },
  {
   "cell_type": "code",
   "execution_count": 62,
   "id": "27f72ad9-2fb2-438f-a09c-13cb5e7c5ef0",
   "metadata": {},
   "outputs": [],
   "source": [
    "import json"
   ]
  },
  {
   "cell_type": "markdown",
   "id": "0d437ffe-0aab-41b6-b976-fa7febf1be64",
   "metadata": {},
   "source": [
    "**`loads()`**\n",
    "-  Returns Python data structures from JSON string"
   ]
  },
  {
   "cell_type": "code",
   "execution_count": 63,
   "id": "dea32282-74b4-4f7c-84cf-23efa60335dc",
   "metadata": {},
   "outputs": [
    {
     "name": "stdout",
     "output_type": "stream",
     "text": [
      "This is a JSON string: '{\"name\":\"Hobbes\"}'\n",
      "Loaded into the Python data structure: {'name': 'Hobbes'}.\n",
      "which is now a Python <class 'dict'>.\n"
     ]
    }
   ],
   "source": [
    "json_string = '{\"name\":\"Hobbes\"}'  # JSON string\n",
    "print(f'This is a JSON string: {repr(json_string)}')\n",
    "\n",
    "python_data_structure = json.loads(json_string)\n",
    "print(f'Loaded into the Python data structure: {repr(python_data_structure)}.')\n",
    "print(f'which is now a Python {type(python_data_structure)}.')"
   ]
  },
  {
   "cell_type": "markdown",
   "id": "6a208011-4e9a-460b-be75-728dc6e1101e",
   "metadata": {},
   "source": [
    "**`dumps()`**\n",
    "- Returns JSON string from Python data structures"
   ]
  },
  {
   "cell_type": "code",
   "execution_count": 64,
   "id": "83a42170-8d5d-4d58-9c6c-4d49f3a8b7cc",
   "metadata": {},
   "outputs": [
    {
     "name": "stdout",
     "output_type": "stream",
     "text": [
      "This is a Python data structure: None\n",
      "It is a Python <class 'NoneType'>.\n",
      "Dumped into a JSON string: 'null'.\n"
     ]
    }
   ],
   "source": [
    "python_data_structure = None\n",
    "print(f'This is a Python data structure: {repr(python_data_structure)}')\n",
    "print(f'It is a Python {type(python_data_structure)}.')\n",
    "\n",
    "json_string = json.dumps(python_data_structure)\n",
    "print(f'Dumped into a JSON string: {repr(json_string)}.')"
   ]
  },
  {
   "cell_type": "code",
   "execution_count": 65,
   "id": "65a5d210-7d4d-4851-b451-561e477738bb",
   "metadata": {},
   "outputs": [
    {
     "name": "stdout",
     "output_type": "stream",
     "text": [
      "This is a Python data structure: True\n",
      "It is a Python <class 'bool'>.\n",
      "Dumped into a JSON string: 'true'.\n"
     ]
    }
   ],
   "source": [
    "python_data_structure = True\n",
    "print(f'This is a Python data structure: {repr(python_data_structure)}')\n",
    "print(f'It is a Python {type(python_data_structure)}.')\n",
    "\n",
    "json_string = json.dumps(python_data_structure)\n",
    "print(f'Dumped into a JSON string: {repr(json_string)}.')"
   ]
  },
  {
   "cell_type": "code",
   "execution_count": 66,
   "id": "eb6402de-95a6-4421-9833-9964530d5e64",
   "metadata": {},
   "outputs": [
    {
     "name": "stdout",
     "output_type": "stream",
     "text": [
      "This is a Python data structure: 1\n",
      "It is a Python <class 'int'>.\n",
      "Dumped into a JSON string: '1'.\n"
     ]
    }
   ],
   "source": [
    "python_data_structure = 1\n",
    "print(f'This is a Python data structure: {repr(python_data_structure)}')\n",
    "print(f'It is a Python {type(python_data_structure)}.')\n",
    "\n",
    "json_string = json.dumps(python_data_structure)\n",
    "print(f'Dumped into a JSON string: {repr(json_string)}.')"
   ]
  },
  {
   "cell_type": "code",
   "execution_count": 67,
   "id": "d00642bc-d7e7-467c-816e-d8982ad7521b",
   "metadata": {},
   "outputs": [
    {
     "name": "stdout",
     "output_type": "stream",
     "text": [
      "This is a Python data structure: 'Hello world'\n",
      "It is a Python <class 'str'>.\n",
      "Dumped into a JSON string: '\"Hello world\"'.\n"
     ]
    }
   ],
   "source": [
    "python_data_structure = 'Hello world'\n",
    "print(f'This is a Python data structure: {repr(python_data_structure)}')\n",
    "print(f'It is a Python {type(python_data_structure)}.')\n",
    "\n",
    "json_string = json.dumps(python_data_structure)\n",
    "print(f'Dumped into a JSON string: {repr(json_string)}.')"
   ]
  },
  {
   "cell_type": "code",
   "execution_count": 68,
   "id": "9d8d9baf-3231-43a1-9850-75998767a9b0",
   "metadata": {},
   "outputs": [
    {
     "name": "stdout",
     "output_type": "stream",
     "text": [
      "This is a Python data structure: ['spam', 'beans', 'spam']\n",
      "It is a Python <class 'list'>.\n",
      "Dumped into a JSON string: '[\"spam\", \"beans\", \"spam\"]'.\n"
     ]
    }
   ],
   "source": [
    "python_data_structure = ['spam', 'beans', 'spam']\n",
    "print(f'This is a Python data structure: {repr(python_data_structure)}')\n",
    "print(f'It is a Python {type(python_data_structure)}.')\n",
    "\n",
    "json_string = json.dumps(python_data_structure)\n",
    "print(f'Dumped into a JSON string: {repr(json_string)}.')"
   ]
  },
  {
   "cell_type": "code",
   "execution_count": 69,
   "id": "109d52d6-9076-4680-9ed1-3c8601de04f2",
   "metadata": {},
   "outputs": [
    {
     "name": "stdout",
     "output_type": "stream",
     "text": [
      "This is a Python data structure: {'food': 'spam'}\n",
      "It is a Python <class 'dict'>.\n",
      "Dumped into a JSON string: '{\"food\": \"spam\"}'.\n"
     ]
    }
   ],
   "source": [
    "python_data_structure = {\"food\": \"spam\"}\n",
    "print(f'This is a Python data structure: {repr(python_data_structure)}')\n",
    "print(f'It is a Python {type(python_data_structure)}.')\n",
    "\n",
    "json_string = json.dumps(python_data_structure)\n",
    "print(f'Dumped into a JSON string: {repr(json_string)}.')"
   ]
  },
  {
   "cell_type": "markdown",
   "id": "a2923e3c-0842-4e5d-8cc3-6d677c142b5e",
   "metadata": {},
   "source": [
    "---"
   ]
  },
  {
   "cell_type": "markdown",
   "id": "9c135d33-bbbe-4e92-b3d5-300fc56ae61c",
   "metadata": {
    "tags": []
   },
   "source": [
    "### CSV\n",
    "\n",
    "- Tabular data can be written as a plaintext file.  Each row is a placed on a new line.  Values within each row are separated by delimiters instead of columns.\n",
    "- **Delimiter**--character that separates values in row.  Comma separated values (**CSV**) and tab separated (**TSV**) are the most common.  Colons, pipes, and spaces are also used.  All together, they can be called delimiter separated values (**DSV**).\n",
    "    - If delimiter characters are found in the values, then they must be escaped with special escape characters\n",
    "    - Though rare, pipe seems to me to be the natural choice to represent columns.  Pipes are rare enough in data that they would rarely have to be escaped.  More importantly, they just looks like a columns.\n",
    "- DSV files are plaintext so they don't have:\n",
    "    - Data types. Everything is a string.\n",
    "    - Styling attributes\n",
    "    - Multiple worksheets\n",
    "    - Charts/images\n",
    "- Despite this simplicity, the occurrence of escape characters, different methods for indicating newlines on different operating systems, and different methods for handling quoted strings can lead to trouble.  For this reason it is NOT recommended to read in DSV files as strings and use string methods like `.split(',')`.   Instead it is best to use the `csv` or the `pandas` module.\n",
    "- Tabular data is often handled with the `pandas` library.  `pandas` can read and write CSV and DSV files.  However, there may be times when we do not have `pandas` installed or when we prefer the grammar provided in the `csv` module.\n",
    "- The `csv` module comes pre-installed with Python. `csv` can be used for any DSV, not just CSVs.\n",
    "- The `csv` module uses the term **Dialect**.  A dialect is a saved collection of formatting parameters that can easily be applied in the future.  These include parameters like:\n",
    "    1. Delimiter character--choose our delimiter character.  Comma is default.\n",
    "    1. Escape characters--control if, and which, escape character is used to escape the delimiter character when the delimiter character is found within a value\n",
    "    1. Line terminator--which characters indicate a newline. Defaults to `'\\r\\n'`\n",
    "    1. Quoting logic--controls when values are quoted.  Values can be automatically placed within quotes when values contain the delimiter character.  Delimiter characters within quotes do not act as delimiters.  This is helpful if we want to use fewer escape characters. "
   ]
  },
  {
   "cell_type": "markdown",
   "id": "3b315d72-fa96-46df-8c07-c4c4a3bcc8ca",
   "metadata": {},
   "source": [
    "- Code for opening/closing DSV files:\n",
    "\n",
    "Code | Use\n",
    "--- | ---\n",
    "`csv` | Module\n",
    "`open(\"<FILENAME>\")` | Returns file object.  Use `rt` argument for reading in a CSV file.  Use `wt` and `newline = ''` for writing a CSV file.  The newline argument is necessary when writing as otherwise the output file will include a blank row inserted in between every row with data.\n",
    "`.close()` | File object method.  Close file.\n",
    "`with open() as <FO>:` | *Context Manager* combines open and close.  It automatically closes the file when we are done with it.  It knows we are done when we de-indent.  It also closes a file correctly if there is an exception at some point in the file handling.  Using the context manager is recommended."
   ]
  },
  {
   "cell_type": "markdown",
   "id": "b8b318c5-e29f-44db-9b96-2174fffc4564",
   "metadata": {},
   "source": [
    "- Code for reading-in DSV files:\n",
    "\n",
    "Code | Use\n",
    "--- | ---\n",
    "`csv.reader(<FILE_OBJECT>)` | Returns reader object.  File object must be in read mode.  A reader object is an iterable object made of lists.  Each of these inner lists represents a row of data.  Each item in an inner list represents a cell value.  Optional argument `dialect = \"<DIALECT>\"`.  We can also optionally specify individual parameters with code like `delimeter = \",\"`.  Note that file objects can only read in once.  If we want to read in a file a second time we need to create another file object.\n",
    "`list(<READER_OBJECT>)` |  Returns list of lists.  \n",
    "`<LIST_OBJECT>[<ROW>][<COLUMN>]` | Access values.  Remember that cell indices in sheets start at 1 while list indices in Python start at 0.  I.e. if we want to find the value for cell `A1` we'll specify `[0][0]`.\n",
    "`for row in <READER_OBJECT>:` | Like with other file types it is recommended to use a for loop to read in larger files.  This way, only one row of data is stored in memory at any one time.  Each row in the reader object is still a list.\n",
    "`csv.DictReader(<FILE_OBJECT>)` | Returns DictReader object.  A DictReader object is an iterable object made of dictionaries. This works well when the original data contains headers for the columns.  Each dictionary represents a row and each item in the dictionary represents a cell.  The item key is the column header for that cell while the item value is the value for that cell.  Optionally, argument `<LIST>` of strings of headers can be provided if the .csv file does not already have headers.\n",
    "`.line_num` | Reader and DictReader object attribute.  The number of lines read from the source iterator. This is not the same as the number of records returned, as records can span multiple lines."
   ]
  },
  {
   "cell_type": "markdown",
   "id": "9a666a25-f515-4745-9a0c-912e19ab27e6",
   "metadata": {},
   "source": [
    "- Code for writing DSV files:\n",
    "\n",
    "Code | Use\n",
    "--- | ---\n",
    "`csv.writer(<FILE_OBJECT>)` | Returns Writer object.  File object must be in write mode.  Optional argument `dialect = \"<DIALECT>\"`.  We can also optionally specify individual parameters with code like `delimeter = \",\"`.\n",
    "`.writerow(<LIST>)` | Writer and DictWriter object method.  Writes row of data.\n",
    "`csv.DictWriter(<FILE_OBJECT>)` | Returns DictReader object\n",
    "`.writeheaeder(<LIST>)` |  DictWriter object method.  Writes row of header data."
   ]
  },
  {
   "cell_type": "markdown",
   "id": "efaf4b29-8ba5-4217-8915-b8cfdb92f12b",
   "metadata": {},
   "source": [
    "---"
   ]
  },
  {
   "cell_type": "markdown",
   "id": "98acad2d-2c32-475c-8860-c26d9f94f2f7",
   "metadata": {},
   "source": [
    "**EXAMPLES**"
   ]
  },
  {
   "cell_type": "markdown",
   "id": "dac38c05-0663-4e96-95d9-bb6b6a086d76",
   "metadata": {},
   "source": [
    "**Read-in with NO Header**\n",
    "\n",
    "- If we open the example .csv file in Excel, we can see that there are a couple of commas.  We can see that there are no quotes around any values.\n",
    "\n",
    "- If we open the example .csv file with a text editor, it will look like this:\n",
    "\n",
    "```\n",
    "Red,\"Hello, world\",Yellow\n",
    "Green,\"(1, 2)\",5\n",
    "```\n",
    "\n",
    "- Note how neither the comma within \"Hello, world\" nor the comma within the tuple act as a delimiter.  Neither has to be escaped.  This is because the default settings place double quotes around the values containing delimiter characters.\n",
    "- Note how the read-in values below are all of the Python string data type"
   ]
  },
  {
   "cell_type": "code",
   "execution_count": 70,
   "id": "31bbe1a4-21be-497d-87a5-ec915beadcdc",
   "metadata": {},
   "outputs": [],
   "source": [
    "import csv"
   ]
  },
  {
   "cell_type": "markdown",
   "id": "43e35c4a-bff2-4b84-8b54-a48954195435",
   "metadata": {},
   "source": [
    "**Read with NO Headers**"
   ]
  },
  {
   "cell_type": "code",
   "execution_count": 71,
   "id": "8e7d7ac9-41da-45bd-808c-19421d5cd25e",
   "metadata": {},
   "outputs": [
    {
     "name": "stdout",
     "output_type": "stream",
     "text": [
      "<class '_csv.reader'>\n",
      "[['Red', 'Hello, world', 'Yellow'], ['Green', '(1, 2)', '5']]\n"
     ]
    }
   ],
   "source": [
    "with open('input/example.csv', 'rt') as fo:\n",
    "    reader_object = csv.reader(fo, delimiter = ',')\n",
    "    print(type(reader_object))\n",
    "    print(list(reader_object))"
   ]
  },
  {
   "cell_type": "markdown",
   "id": "666d360c-04a8-4407-b817-fa79f7e76bed",
   "metadata": {},
   "source": [
    "**Read with NO Headers with For**"
   ]
  },
  {
   "cell_type": "code",
   "execution_count": 72,
   "id": "34795441-c88a-484f-95b9-3bb44fbe3d76",
   "metadata": {},
   "outputs": [
    {
     "name": "stdout",
     "output_type": "stream",
     "text": [
      "1\n",
      "['Red', 'Hello, world', 'Yellow']\n",
      "2\n",
      "['Green', '(1, 2)', '5']\n"
     ]
    }
   ],
   "source": [
    "with open('input/example.csv', 'rt') as fo:\n",
    "    reader_object = csv.reader(fo, delimiter = ',')\n",
    "    for l_row in reader_object:\n",
    "        print(reader_object.line_num)\n",
    "        print(l_row)"
   ]
  },
  {
   "cell_type": "markdown",
   "id": "c931448e-adff-43e0-b32d-63286f78a74a",
   "metadata": {},
   "source": [
    "**Read with Headers**"
   ]
  },
  {
   "cell_type": "code",
   "execution_count": 73,
   "id": "7161fd7e-a7f9-48d9-bf3c-0b2ede1336e7",
   "metadata": {},
   "outputs": [
    {
     "name": "stdout",
     "output_type": "stream",
     "text": [
      "<class 'csv.DictReader'>\n",
      "{'Color': 'Red', 'Fruit': 'Strawberry'}\n",
      "{'Color': 'Orange', 'Fruit': 'Orange'}\n",
      "{'Color': 'Yellow', 'Fruit': 'Banana'}\n",
      "{'Color': 'Green', 'Fruit': 'Avocado'}\n",
      "{'Color': 'Blue', 'Fruit': 'Blueberry'}\n",
      "{'Color': 'Purple', 'Fruit': 'Grape'}\n"
     ]
    }
   ],
   "source": [
    "with open('input/example_header.csv', 'rt') as fo:\n",
    "    d_reader_object = csv.DictReader(fo, delimiter = ',')\n",
    "    print(type(d_reader_object))\n",
    "    for d_row in d_reader_object:\n",
    "        print(d_row)"
   ]
  },
  {
   "cell_type": "code",
   "execution_count": 74,
   "id": "cc7de3a1-8889-490b-8f20-c563c771ff54",
   "metadata": {},
   "outputs": [
    {
     "name": "stdout",
     "output_type": "stream",
     "text": [
      "Red Strawberry\n",
      "Orange Orange\n",
      "Yellow Banana\n",
      "Green Avocado\n",
      "Blue Blueberry\n",
      "Purple Grape\n"
     ]
    }
   ],
   "source": [
    "with open('input/example_header.csv', 'rt') as fo:\n",
    "    d_reader_object = csv.DictReader(fo, delimiter = ',')\n",
    "    for d_row in d_reader_object:\n",
    "        print(d_row['Color'], d_row['Fruit'])"
   ]
  },
  {
   "cell_type": "markdown",
   "id": "eb8a565a-5aa1-4108-99a4-2aa57439b0b2",
   "metadata": {},
   "source": [
    "**Write with NO Headers**\n",
    "\n",
    "- In the code  below, notice how the different Python data types.  Some have quotes and others do not.\n",
    "- If we open the outputted .csv file in a text editor it will look like this:\n",
    "\n",
    "```\n",
    "Red,\"Hello, world\",Yellow\n",
    "Green,\"(1, 2)\",5\n",
    "```\n",
    "\n",
    "- Notice how neither the comma within \"Hello, world\" nor the comma within the tuple act as a delimiter.  Neither has to be escaped.  This is because the default settings place double quotes around the values containing delimiter characters.\n",
    "- Notice also, that there are no quotes around the other values.  When we open this .csv file in Excel, values show up in the correct cells and there are no quotes around any values!"
   ]
  },
  {
   "cell_type": "code",
   "execution_count": 75,
   "id": "837c233f-3220-45eb-ae5a-a8d9df992a13",
   "metadata": {},
   "outputs": [],
   "source": [
    "with open('output/example_output.csv', 'wt', newline = '') as fo:\n",
    "    writer_object = csv.writer(fo, delimiter = \",\")\n",
    "    writer_object.writerow([\"Red\", \"Hello, world\", \"Yellow\"])\n",
    "    writer_object.writerow([\"Green\", (1, 2), 5])"
   ]
  },
  {
   "cell_type": "markdown",
   "id": "bef471f7-adb2-47a2-aa4d-d69fce0a143e",
   "metadata": {},
   "source": [
    "**Write with Headers**"
   ]
  },
  {
   "cell_type": "code",
   "execution_count": 76,
   "id": "01a39946-7dbc-491e-94b2-0c739459a5e3",
   "metadata": {},
   "outputs": [],
   "source": [
    "with open('output/example_output_header.csv', 'wt', newline = '') as fo:\n",
    "    d_writer_object = csv.DictWriter(fo, delimiter = \",\", fieldnames = [\"Color\", \"Fruit\"])\n",
    "    d_writer_object.writeheader()\n",
    "    d_writer_object.writerow({'Color': 'Red', 'Fruit': 'Strawberry'})\n",
    "    d_writer_object.writerow({'Color': 'Orange', 'Fruit': 'Orange'})\n",
    "    d_writer_object.writerow({'Color': 'Yellow', 'Fruit': 'Banana'})\n",
    "    d_writer_object.writerow({'Color': 'Green', 'Fruit': 'Avocado'})\n",
    "    d_writer_object.writerow({'Color': 'Blue', 'Fruit': 'Blueberry'})\n",
    "    d_writer_object.writerow({'Color': 'Purple', 'Fruit': 'Grape'})"
   ]
  },
  {
   "cell_type": "markdown",
   "id": "05959fb7-38bc-480f-aaab-0d2523037576",
   "metadata": {},
   "source": [
    "---"
   ]
  }
 ],
 "metadata": {
  "kernelspec": {
   "display_name": "Python 3 (ipykernel)",
   "language": "python",
   "name": "python3"
  },
  "language_info": {
   "codemirror_mode": {
    "name": "ipython",
    "version": 3
   },
   "file_extension": ".py",
   "mimetype": "text/x-python",
   "name": "python",
   "nbconvert_exporter": "python",
   "pygments_lexer": "ipython3",
   "version": "3.9.9"
  }
 },
 "nbformat": 4,
 "nbformat_minor": 5
}
