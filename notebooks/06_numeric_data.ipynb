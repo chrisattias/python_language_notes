{
 "cells": [
  {
   "cell_type": "markdown",
   "id": "a2c55456-3c56-4d17-8020-392d5d53b691",
   "metadata": {},
   "source": [
    "# Numeric Data\n",
    "\n",
    "- Numbers can be of the integer, float, decimal, or complex data type\n",
    "- Operators like +, -, /, and * are built into Python and allow for basic calculations.  There are also a handful of built-in functions that work with numbers. \n",
    "- However, most numerical functions are in modules or libraries that must be imported.  We'll cover:\n",
    "    1. Built-in functions\n",
    "    1. Floating point data type\n",
    "    1. Decimal module\n",
    "    1. Math module\n",
    "    1. Statistics module\n",
    "    1. Random module"
   ]
  },
  {
   "cell_type": "markdown",
   "id": "657b69ed-d0d1-4239-9c07-769d585a23a6",
   "metadata": {},
   "source": [
    "---"
   ]
  },
  {
   "cell_type": "markdown",
   "id": "afa229bf-d787-4129-987c-585a329cc99a",
   "metadata": {},
   "source": [
    "## Built-in Functions\n",
    "\n",
    "Code | Use\n",
    "--- | ---\n",
    "`round()` | Returns the number rounded to the desired precision as a float.  First argument is float to be rounded.  Optional second argument is precision.  Precision is the number of decimal places.  Default is 0 precision (rounds to  nearest integer).\n",
    "`abs()` | Returns the absolute value of a number\n",
    "`pow()` | Returns the power of a number\n",
    "`min(), max()` | Returns the min or max value.  Works on number types separated by commas, strings, ranges, and collections.\n",
    "`sum()` | Returns sum from an iterable object"
   ]
  },
  {
   "cell_type": "markdown",
   "id": "d61c0613-517c-48f6-ad3b-04f80f944626",
   "metadata": {},
   "source": [
    "---"
   ]
  },
  {
   "cell_type": "markdown",
   "id": "fe17dd9e-aa49-4e14-a83e-bca748bbb4d5",
   "metadata": {},
   "source": [
    "**EXAMPLES**"
   ]
  },
  {
   "cell_type": "markdown",
   "id": "5a4030e3-c3d7-4810-b8e9-bb680ab3978d",
   "metadata": {},
   "source": [
    "**`round()`**"
   ]
  },
  {
   "cell_type": "code",
   "execution_count": 1,
   "id": "6b6bd306-f138-48d0-818a-e55a14dbff8a",
   "metadata": {},
   "outputs": [
    {
     "data": {
      "text/plain": [
       "12.35"
      ]
     },
     "execution_count": 1,
     "metadata": {},
     "output_type": "execute_result"
    }
   ],
   "source": [
    "round(12.345, 2)  # Second number is the precision"
   ]
  },
  {
   "cell_type": "markdown",
   "id": "641352c2-4507-4dbd-a806-823ccfc712a6",
   "metadata": {},
   "source": [
    "**`abs()`**"
   ]
  },
  {
   "cell_type": "code",
   "execution_count": 2,
   "id": "24ba03f9-bb69-4bbd-a6f0-0f00e65e364e",
   "metadata": {},
   "outputs": [
    {
     "data": {
      "text/plain": [
       "1"
      ]
     },
     "execution_count": 2,
     "metadata": {},
     "output_type": "execute_result"
    }
   ],
   "source": [
    "abs(-1)"
   ]
  },
  {
   "cell_type": "markdown",
   "id": "b2c2f0d3-a913-4b49-9028-e1c2c6c31fa1",
   "metadata": {},
   "source": [
    "**`pow()`**"
   ]
  },
  {
   "cell_type": "code",
   "execution_count": 3,
   "id": "d463a314-8df0-4ae1-a5f9-ec3b10ad76b6",
   "metadata": {},
   "outputs": [
    {
     "data": {
      "text/plain": [
       "1"
      ]
     },
     "execution_count": 3,
     "metadata": {},
     "output_type": "execute_result"
    }
   ],
   "source": [
    "pow(1,2)"
   ]
  },
  {
   "cell_type": "markdown",
   "id": "c3196901-e8a1-4f3e-a5a1-7af57c84cc15",
   "metadata": {},
   "source": [
    "**`min()`**"
   ]
  },
  {
   "cell_type": "code",
   "execution_count": 4,
   "id": "a20f1a99-124f-4c03-9896-6fbf70d7b9f6",
   "metadata": {},
   "outputs": [
    {
     "data": {
      "text/plain": [
       "1"
      ]
     },
     "execution_count": 4,
     "metadata": {},
     "output_type": "execute_result"
    }
   ],
   "source": [
    "min(1,2,3)"
   ]
  },
  {
   "cell_type": "code",
   "execution_count": 5,
   "id": "29c3e07f-aecd-484b-8f91-d092df2982b1",
   "metadata": {},
   "outputs": [
    {
     "data": {
      "text/plain": [
       "0"
      ]
     },
     "execution_count": 5,
     "metadata": {},
     "output_type": "execute_result"
    }
   ],
   "source": [
    "min(range(3))"
   ]
  },
  {
   "cell_type": "code",
   "execution_count": 6,
   "id": "fc5d054a-f626-4875-81b5-8d237043f75d",
   "metadata": {},
   "outputs": [
    {
     "data": {
      "text/plain": [
       "'H'"
      ]
     },
     "execution_count": 6,
     "metadata": {},
     "output_type": "execute_result"
    }
   ],
   "source": [
    "min('Hello')"
   ]
  },
  {
   "cell_type": "code",
   "execution_count": 7,
   "id": "b74cdb6b-5f16-43ae-a370-c8f91941235a",
   "metadata": {},
   "outputs": [
    {
     "data": {
      "text/plain": [
       "'Apple'"
      ]
     },
     "execution_count": 7,
     "metadata": {},
     "output_type": "execute_result"
    }
   ],
   "source": [
    "min(['apple', 'Apple', 'banana'])"
   ]
  },
  {
   "cell_type": "markdown",
   "id": "07332e5c-e513-4cf1-b25f-eaf264907467",
   "metadata": {},
   "source": [
    "**`sum()`**"
   ]
  },
  {
   "cell_type": "code",
   "execution_count": 8,
   "id": "1e4beace-fc03-41f9-8f33-540d68f14c9f",
   "metadata": {},
   "outputs": [
    {
     "data": {
      "text/plain": [
       "6"
      ]
     },
     "execution_count": 8,
     "metadata": {},
     "output_type": "execute_result"
    }
   ],
   "source": [
    "sum([1,2,3])"
   ]
  },
  {
   "cell_type": "markdown",
   "id": "9fffb185-221a-47b2-b0a8-d168799c01f9",
   "metadata": {},
   "source": [
    "---"
   ]
  },
  {
   "cell_type": "markdown",
   "id": "e912167f-6013-48c4-ac95-7ad4415891c1",
   "metadata": {
    "tags": []
   },
   "source": [
    "## Floating Point\n",
    "- Integers are stored in Python 3 using the integer data type.  They are stored in an \"unbounded\" manner, meaning they can be as large or small as the computer memory can hold.  There is no limit to integer size.  Internally, these base 10 integers are stored as base 2 (binary) numbers.  Base 10 integers can be represented exactly in base 2.\n",
    "- Real numbers are stored in Python 3 using the float data type.  Specifically, a float is a \"double precision floating point\", which uses 64 bits to store a real number.  Python does NOT use single precision floating point numbers, which uses 32 bits per number.  Floats are \"Scientific notation, but in binary\".  Like integers, base 10 real numbers are stored internally as base 2 numbers (binary).  Unlike integers they are:\n",
    "    1. Bounded because of scientific notation \n",
    "    2. Usually can NOT be represented exactly in binary 2.\n",
    "\n",
    "**1. BOUNDED**\n",
    "\n",
    "- Floats are stored in scientific notation.  In the example below, 1.2 is the **mantissa**, 10 is the base, and 3 is the exponent.\n",
    "    - E.g. 1.2 x 10^3,  1.2e3 or  1.2E3.\n",
    "- There are a set number of digits allotted for the mantissa and a set number of digits allotted for the exponent\n",
    "1. If the mantissa has too many digits it will be truncated.  This leads to a loss of **precision**.  Precision is the amount of decimal digits in the mantissa.  For most purposes, the result will still be usable.\n",
    "    - E.g. pi (3.1415... x 10^1)  will need to be truncated at some point\n",
    "1. If the exponent has too many digits it will be truncated.  This leads to either overflow or underflow.\n",
    "    1. **Overflow**--when very large *positive* exponents are truncated. Occurs for numbers that are very large positive or very large negative.  Results off by factors of 10 that are unusable.  I.e. for most purposes 1 billion is much different than 1 trillion.\n",
    "        - E.g. $1.2 x 10^{3000000000000}$ or $-1.2x 10^{3000000000000}$ may need to be truncated\n",
    "    1.  **Underflow**--when very large *negative* exponents are truncated.  Occurs for numbers that are very small positive or very small negative.  Results in answer off by factors of 10 that may or may not be usable.  I.e. for many purposes 1/1 billion and 1/1 trillion are both so small that we treat them both as 0 and they are equivalent.\n",
    "        - E.g. $1.2x10^{-3000000000000}$ or $-1.2x10^{-3000000000000}$ may need to be truncated\n",
    "       \n",
    "**2. NOT EXACT**\n",
    "\n",
    "- Though we have represented numerical values using the base 10 numbering system, computers store numbers internally in base 2 (binary).  Unfortunately, most base 10 fractions (decimals) cannot be represented exactly as base 2 fractions. The consequence is that, in general, the base 10 floating-point numbers we enter are only approximated by the base 2 floating-point numbers actually stored in the computer.\n",
    "- The problem is easier to understand at first in base 10. Consider the fraction 1/3. We can approximate that as a base 10 fraction:\n",
    "    - 0.3\n",
    "    - Or better yet, 0.33\n",
    "    - Or better yet, 0.333\n",
    "    - Or better yet, 0.3333\n",
    "    - However we can never exactly write 1/3 as base 10\n",
    "- In the same way, no matter how many base 2 digits we’re willing to use, the base 10 value 0.1 cannot be represented exactly as a base 2 fraction.  In base 2, the base 10 fraction 1/10 is the infinitely repeating fraction 0.000110011001100110011001100110011...\n",
    "- Many users are not aware of the approximation because of the way values are displayed. \n",
    "    1. Humans enter an exact base 10 number.  E.g. 0.1\n",
    "    1. Python stores a base 2 approximation with many digits.  E.g. 0.0001100110011001101\n",
    "    1. When displaying the number to the human, Python first converts the base 2 number back to a base 10 number.  E.g. 0.1000003814697265625.\n",
    "    1. Before displaying, Python rounds it.  E.g. 0.1\n",
    "- Just remember, even though the displayed result looks like the exact value of 1/10, the actual stored value is the nearest representable base 2 fraction\n",
    "- This all leads to an example of floating point arithmetic.\n",
    "\n",
    "```\n",
    ">>> .1 + .1 + .1 == .3\n",
    "False\n",
    "```\n",
    "\n",
    "- Floating point should not be used for money or other applications that require very precise, very large, or very small real numbers\n",
    "    - These problems can be partially avoided by using integers with smaller denominations where applicable\n",
    "        - E.g. instead of recording seconds with floats we could record picoseconds with integers\n",
    "    - If changing denominations is not practical, then the decimal data type can be used.  See the *Decimal* section for more information.\n",
    "    \n",
    "Code | Use\n",
    "--- | ---\n",
    "`sys` | Module\n",
    "`sys.float_info()` | Returns information about float data type"
   ]
  },
  {
   "cell_type": "markdown",
   "id": "c1b7c844-5bbd-4364-96e9-c5a6e7107d1e",
   "metadata": {},
   "source": [
    "---"
   ]
  },
  {
   "cell_type": "markdown",
   "id": "7d9c8f64-333b-4282-a8fb-49114de56bcd",
   "metadata": {},
   "source": [
    "**EXAMPLES**"
   ]
  },
  {
   "cell_type": "markdown",
   "id": "45b3ba67-ffe1-40f0-85e7-2d01f7549374",
   "metadata": {},
   "source": [
    "**`float_info`**"
   ]
  },
  {
   "cell_type": "code",
   "execution_count": 9,
   "id": "5956f63a-d922-4111-8627-be79c21a00c2",
   "metadata": {},
   "outputs": [
    {
     "data": {
      "text/plain": [
       "sys.float_info(max=1.7976931348623157e+308, max_exp=1024, max_10_exp=308, min=2.2250738585072014e-308, min_exp=-1021, min_10_exp=-307, dig=15, mant_dig=53, epsilon=2.220446049250313e-16, radix=2, rounds=1)"
      ]
     },
     "execution_count": 9,
     "metadata": {},
     "output_type": "execute_result"
    }
   ],
   "source": [
    "import sys\n",
    "\n",
    "sys.float_info"
   ]
  },
  {
   "cell_type": "markdown",
   "id": "946df079-08b8-4f19-8657-e60c70e1beeb",
   "metadata": {},
   "source": [
    "**Float Arithmetic**"
   ]
  },
  {
   "cell_type": "markdown",
   "id": "1e9218ff-a392-49e1-96b8-5d7ef48afd23",
   "metadata": {},
   "source": [
    "- After floats get larger than 2^53 they start rounding"
   ]
  },
  {
   "cell_type": "markdown",
   "id": "696d8c63-d4bf-42db-a0b1-6ba5b76e1fda",
   "metadata": {},
   "source": [
    "- Integers are unbounded.  Float is bounded.  Rounding for floats occurs after 2^53."
   ]
  },
  {
   "cell_type": "code",
   "execution_count": 10,
   "id": "b6304e23-2ce4-4cc1-84b1-8dcbae69d5e3",
   "metadata": {},
   "outputs": [
    {
     "name": "stdout",
     "output_type": "stream",
     "text": [
      "False\n",
      "False\n",
      "True\n"
     ]
    }
   ],
   "source": [
    "print((2**53) == (2**53)+1)  # Integer\n",
    "print(float(2**52) == float(2**52)+1)  # Float\n",
    "print(float(2**53) == float(2**53)+1)  # Float"
   ]
  },
  {
   "cell_type": "markdown",
   "id": "3f0366f0-4734-462a-994f-3c5a840b97cc",
   "metadata": {},
   "source": [
    "- Python "
   ]
  },
  {
   "cell_type": "markdown",
   "id": "9768732b-6a47-427f-830b-1996ddd738ff",
   "metadata": {},
   "source": [
    "- When humans enter and exact base 10 number, Python often displays an exact base 10 number"
   ]
  },
  {
   "cell_type": "code",
   "execution_count": 11,
   "id": "8a4bccf7-4bf7-4de7-8d4d-90f98c3caab0",
   "metadata": {},
   "outputs": [
    {
     "name": "stdout",
     "output_type": "stream",
     "text": [
      "0.1\n"
     ]
    }
   ],
   "source": [
    "print(0.1)"
   ]
  },
  {
   "cell_type": "markdown",
   "id": "e05f6b46-d609-400b-b7ee-a245a91aa581",
   "metadata": {},
   "source": [
    "- Sometimes Python shows a more accurate base 10 number"
   ]
  },
  {
   "cell_type": "code",
   "execution_count": 12,
   "id": "905a384e-292f-4cfe-bd62-07a43d5d4b07",
   "metadata": {},
   "outputs": [
    {
     "name": "stdout",
     "output_type": "stream",
     "text": [
      "0.30000000000000004\n"
     ]
    }
   ],
   "source": [
    "print(0.1 + 0.1 + 0.1)"
   ]
  },
  {
   "cell_type": "markdown",
   "id": "feb77a0f-0f94-4f98-88ca-c01b68dcf9fd",
   "metadata": {},
   "source": [
    "- Python actually stores a base 2 approximation of the exact base 10 number.  This binary number is used for math equations.  The binary approximations of 0.1 added together do not equal the binary approximation of 0.3."
   ]
  },
  {
   "cell_type": "code",
   "execution_count": 13,
   "id": "bff3479c-3ed3-449e-b45e-20776346413d",
   "metadata": {},
   "outputs": [
    {
     "data": {
      "text/plain": [
       "False"
      ]
     },
     "execution_count": 13,
     "metadata": {},
     "output_type": "execute_result"
    }
   ],
   "source": [
    "0.1 + 0.1 + 0.1 == 0.3"
   ]
  },
  {
   "cell_type": "markdown",
   "id": "e3760521-0ddf-450f-83c5-0c9de7711221",
   "metadata": {},
   "source": [
    "- We can use fractions written with base 10 integers to avoid rounding errors and get the answer we'd expect"
   ]
  },
  {
   "cell_type": "code",
   "execution_count": 14,
   "id": "df4deda2-96c2-42c5-9582-a15958437c2b",
   "metadata": {},
   "outputs": [
    {
     "data": {
      "text/plain": [
       "True"
      ]
     },
     "execution_count": 14,
     "metadata": {},
     "output_type": "execute_result"
    }
   ],
   "source": [
    "(1/3) + (1/3) + (1/3) == 1"
   ]
  },
  {
   "cell_type": "markdown",
   "id": "092639b2-8704-473f-9229-3d09b335410c",
   "metadata": {},
   "source": [
    "---"
   ]
  },
  {
   "cell_type": "markdown",
   "id": "d616a7e5-dd39-4dc3-a1cb-fa6848954383",
   "metadata": {},
   "source": [
    "## Decimal\n",
    "- The float data type does not give good representations of decimal numbers.  It mostly has to do with the fact that humans use base 10 numbers, computers store base 2 numbers, and base 10 fractions (decimals) usually can not be stored exactly as base 2 numbers and must be approximated. See the *Floating Point* section above for more detail.\n",
    "- The decimal data type fixes these issues.  It is good for money values or when significant figures is important\n",
    "- From the Python Standard Library documentation:\n",
    "    - *\"Decimal “is based on a floating-point model which was designed with people in mind, and necessarily has a paramount guiding principle – computers must provide an arithmetic that works in the same way as the arithmetic that people learn at school.” – excerpt from the decimal arithmetic specification.*\n",
    "    - *Decimal numbers can be represented exactly. In contrast, numbers like 1.1 and 2.2 do not have exact representations in binary floating point. End users typically would not expect 1.1 + 2.2 to display as 3.3000000000000003 as it does with binary floating point.*\n",
    "    - *The exactness carries over into arithmetic. In decimal floating point, 0.1 + 0.1 + 0.1 - 0.3 is exactly equal to zero. In binary floating point, the result is 5.5511151231257827e-017. While near to zero, the differences prevent reliable equality testing and differences can accumulate. For this reason, decimal is preferred in accounting applications which have strict equality invariants.*\n",
    "    - *The decimal module incorporates a notion of significant places so that 1.30 + 1.20 is 2.50. The trailing zero is kept to indicate significance. This is the customary presentation for monetary applications. For multiplication, the “schoolbook” approach uses all the figures in the multiplicands. For instance, 1.3 * 1.2 gives 1.56 while 1.30 * 1.20 gives 1.5600.\"*\n",
    "- I am not sure what the \"schoolbook approach\" is.  It appears to be different from standard significant figures calculations.\n",
    "- See the [Python documentation on decimals](https://docs.python.org/3/library/decimal.html) for more details\n",
    "    \n",
    "Code | Use\n",
    "--- | ---\n",
    "`decimal` | Module\n",
    "`decimal.getcontext()` | Returns current settings and allows us to change settings.  Allows us to change precision, rounding, or enabled traps.\n",
    "`decimal.Decimal()` | Returns decimal type number.  Input is integer, float, or string.  It is NOT recommended to input float numbers because these inputs are approximations of desired real numbers. Once converted to a decimal type number, it can be used with math operators, and basic functions like those that are built-in and logarithms."
   ]
  },
  {
   "cell_type": "markdown",
   "id": "e0ecf12e-751e-4bff-94c3-9c6bd22e8085",
   "metadata": {},
   "source": [
    "---"
   ]
  },
  {
   "cell_type": "markdown",
   "id": "6e53630c-1ea6-4b58-96ac-8cc545c85cb3",
   "metadata": {},
   "source": [
    "**EXAMPLES**"
   ]
  },
  {
   "cell_type": "code",
   "execution_count": 15,
   "id": "6bb16bf3-5a15-4807-b305-5e86c3600f04",
   "metadata": {},
   "outputs": [],
   "source": [
    "import decimal"
   ]
  },
  {
   "cell_type": "markdown",
   "id": "5fbb71a5-29af-4d72-8876-e9cd43bdb482",
   "metadata": {},
   "source": [
    "- Use integer or string inputs"
   ]
  },
  {
   "cell_type": "code",
   "execution_count": 16,
   "id": "0f67bb58-8b5d-46bb-bd20-c18a28ceae65",
   "metadata": {},
   "outputs": [
    {
     "name": "stdout",
     "output_type": "stream",
     "text": [
      "<class 'decimal.Decimal'>\n",
      "1\n",
      "0.1\n"
     ]
    }
   ],
   "source": [
    "print(type(decimal.Decimal(1)))\n",
    "print(decimal.Decimal(1))  # String input\n",
    "print(decimal.Decimal('0.1'))  # String input"
   ]
  },
  {
   "cell_type": "markdown",
   "id": "96fd54d7-3f26-48bc-b188-3e5ddb38319b",
   "metadata": {},
   "source": [
    "- Don't use float inputs"
   ]
  },
  {
   "cell_type": "code",
   "execution_count": 17,
   "id": "0a799d42-8cda-42f1-80bc-4212fb65d1f1",
   "metadata": {},
   "outputs": [
    {
     "name": "stdout",
     "output_type": "stream",
     "text": [
      "0.1000000000000000055511151231257827021181583404541015625\n"
     ]
    }
   ],
   "source": [
    "print(decimal.Decimal(0.1))  # Float input"
   ]
  },
  {
   "cell_type": "markdown",
   "id": "a946b4a3-0d8a-4d2f-a23e-b1ecdcbd8493",
   "metadata": {},
   "source": [
    "- The decimal data type fixes the problem seen with float"
   ]
  },
  {
   "cell_type": "code",
   "execution_count": 18,
   "id": "d2075338-e199-4be2-a487-82afb43f83f3",
   "metadata": {},
   "outputs": [
    {
     "name": "stdout",
     "output_type": "stream",
     "text": [
      "False\n",
      "True\n"
     ]
    }
   ],
   "source": [
    "print(.1 + .1 + .1 == .3)\n",
    "print(decimal.Decimal('0.1') + decimal.Decimal('0.1') + decimal.Decimal('0.1') == decimal.Decimal('0.3'))"
   ]
  },
  {
   "cell_type": "markdown",
   "id": "af6c288c-99f0-46be-b540-75dadbe946b4",
   "metadata": {},
   "source": [
    "- The decimal dat type is not 100% precise though.  It does its best to the level of precision possible.  By default this is 28 decimal digits."
   ]
  },
  {
   "cell_type": "code",
   "execution_count": 19,
   "id": "c2d58657-9cfa-4656-9103-fb9ca496bdcb",
   "metadata": {},
   "outputs": [
    {
     "data": {
      "text/plain": [
       "Decimal('0.3333333333333333333333333333')"
      ]
     },
     "execution_count": 19,
     "metadata": {},
     "output_type": "execute_result"
    }
   ],
   "source": [
    "#  The 1 int is turned into a decimal.  The decimal is divided by 3 giving another decimal type\n",
    "decimal.Decimal(1) / 3"
   ]
  },
  {
   "cell_type": "code",
   "execution_count": 20,
   "id": "cd117214-cc98-4c89-a76e-c46408b6c5a0",
   "metadata": {},
   "outputs": [
    {
     "data": {
      "text/plain": [
       "False"
      ]
     },
     "execution_count": 20,
     "metadata": {},
     "output_type": "execute_result"
    }
   ],
   "source": [
    "decimal.Decimal(1)/3 + decimal.Decimal(1)/3 + decimal.Decimal(1)/3 == 1"
   ]
  },
  {
   "cell_type": "markdown",
   "id": "615e278f-fd6f-4380-b50b-1c99d0096fd7",
   "metadata": {},
   "source": [
    "- The default settings can be seen by using the `.getcontext()` function"
   ]
  },
  {
   "cell_type": "code",
   "execution_count": 21,
   "id": "38d3b064-877b-4d73-92f2-7c9972221b25",
   "metadata": {},
   "outputs": [
    {
     "name": "stdout",
     "output_type": "stream",
     "text": [
      "Context(prec=28, rounding=ROUND_HALF_EVEN, Emin=-999999, Emax=999999, capitals=1, clamp=0, flags=[Inexact, FloatOperation, Rounded], traps=[InvalidOperation, DivisionByZero, Overflow])\n"
     ]
    }
   ],
   "source": [
    "print(decimal.getcontext())"
   ]
  },
  {
   "cell_type": "markdown",
   "id": "9d75b28c-687e-4f97-bd94-129181eca92f",
   "metadata": {},
   "source": [
    "---"
   ]
  },
  {
   "cell_type": "markdown",
   "id": "fb559424-5351-4d4b-b9be-46d3f535e830",
   "metadata": {
    "tags": []
   },
   "source": [
    "## Math\n",
    "\n",
    "Code | Use\n",
    "--- | ---\n",
    "`math` | Module\n",
    "`math.log()` | Log.  By default, natural log.  Optionally, specify base.\n",
    "`math.sin()` | sin.  Uses radians by default.\n",
    "`math.cos()` | cos.  Uses radians by default.\n",
    "`math.tan()` | tan.  Uses radians by default.\n",
    "`math.pi` | pi constant to about 15 digits\n",
    "`math.factorial()` | Factorial"
   ]
  },
  {
   "cell_type": "markdown",
   "id": "23681338-fe35-4cd7-8b26-b3a083b24423",
   "metadata": {},
   "source": [
    "---"
   ]
  },
  {
   "cell_type": "markdown",
   "id": "1a726b01-1933-4842-b4b0-61668f596f94",
   "metadata": {},
   "source": [
    "**EXAMPLES**"
   ]
  },
  {
   "cell_type": "code",
   "execution_count": 22,
   "id": "e01d386a-1ac2-4e94-b98d-173eec2aab87",
   "metadata": {},
   "outputs": [],
   "source": [
    "import math"
   ]
  },
  {
   "cell_type": "code",
   "execution_count": 23,
   "id": "24814e01-1a26-4ac3-b655-ad2dfd2f9c26",
   "metadata": {},
   "outputs": [
    {
     "name": "stdout",
     "output_type": "stream",
     "text": [
      "2.302585092994046\n",
      "1.0\n",
      "3.141592653589793\n",
      "1.0\n",
      "6\n"
     ]
    }
   ],
   "source": [
    "print(math.log(10))  # Natural log\n",
    "print(math.log10(10))\n",
    "print(math.pi)\n",
    "print(math.sin(math.pi/2))\n",
    "print(math.factorial(3))"
   ]
  },
  {
   "cell_type": "markdown",
   "id": "9efd088a-df79-4aa7-8059-2ec554abc609",
   "metadata": {},
   "source": [
    "---"
   ]
  },
  {
   "cell_type": "markdown",
   "id": "a7f6db00-4acf-40ed-94d8-8d4e81fece55",
   "metadata": {},
   "source": [
    "## Statistics\n",
    "\n",
    "Code | Use\n",
    "--- | ---\n",
    "`statistics` | Module\n",
    "`statistics.mean()` | Arithmetic mean\n",
    "`statistics.median()` | Median\n",
    "`statistics.mode()` | Single mode\n",
    "`statistics.multimode()` | List of modes\n",
    "`statistics.pstdev()` | Population standard deviation\n",
    "`statistics.stdev()` | Sample standard deviation (uses n-1 in formula)"
   ]
  },
  {
   "cell_type": "markdown",
   "id": "770023cf-1aab-45b1-8991-ae015c1431c9",
   "metadata": {},
   "source": [
    "---"
   ]
  },
  {
   "cell_type": "markdown",
   "id": "05d1c441-00da-46f9-8a70-b01da0efc339",
   "metadata": {},
   "source": [
    "**EXAMPLES**"
   ]
  },
  {
   "cell_type": "code",
   "execution_count": 2,
   "id": "c8da94b2-b2bd-4559-bebf-2bfab50331a5",
   "metadata": {},
   "outputs": [],
   "source": [
    "import statistics"
   ]
  },
  {
   "cell_type": "code",
   "execution_count": 3,
   "id": "a5bb5df7-e531-48ab-84eb-132635c23346",
   "metadata": {},
   "outputs": [
    {
     "name": "stdout",
     "output_type": "stream",
     "text": [
      "3\n",
      "3\n",
      "1.4142135623730951\n",
      "1.5811388300841898\n"
     ]
    }
   ],
   "source": [
    "numbers = [1, 2, 3, 4, 5]\n",
    "print(statistics.mean(numbers))\n",
    "print(statistics.median(numbers))\n",
    "#print(statistics.mode(numbers)) # Only runs correctly in Python versions 3.8 and newer\n",
    "#print(statistics.multimode(numbers)) # Only runs correctly in Python versions 3.8 and newer\n",
    "print(statistics.pstdev(numbers))\n",
    "print(statistics.stdev(numbers))"
   ]
  },
  {
   "cell_type": "markdown",
   "id": "0736a38c-af1e-4371-9348-3b60599e8da4",
   "metadata": {},
   "source": [
    "---"
   ]
  },
  {
   "cell_type": "markdown",
   "id": "91fb1cac-b82d-4450-9a8e-f2a7b97b1dcd",
   "metadata": {
    "tags": []
   },
   "source": [
    "## Random\n",
    "- Used to generate pseudorandom numbers.  Not truly random, but good enough for the real world.\n",
    "- Random/pseudorandom functions are different from deterministic functions.  Deterministic means that given the same inputs it will always have the same output.\n",
    "\n",
    "Code | Use\n",
    "--- | ---\n",
    "`random` | Module\n",
    "`random.random()` | Returns random number between 0.0 and 1.0.  Can be used in conjunction with multiplication to create numbers within a certain range.\n",
    "`random.randint()` | Returns random integer.  Arguments specify range.  Both ends of range inclusive.\n",
    "`random.choice()` | Returns a randomly selected element/item from an iterable object"
   ]
  },
  {
   "cell_type": "markdown",
   "id": "5fa5dd90-57ed-44ec-a578-ef5c4af9e207",
   "metadata": {},
   "source": [
    "---"
   ]
  },
  {
   "cell_type": "markdown",
   "id": "ec6bb2ed-a079-41f0-9456-1e20f11c6f6f",
   "metadata": {},
   "source": [
    "**EXAMPLES**"
   ]
  },
  {
   "cell_type": "code",
   "execution_count": 26,
   "id": "94fa14c6-9a39-4d11-a06c-dd8d6ffdb91c",
   "metadata": {},
   "outputs": [],
   "source": [
    "import random"
   ]
  },
  {
   "cell_type": "code",
   "execution_count": 27,
   "id": "3a23b1ca-cbef-4f63-b2cc-c09165bfe349",
   "metadata": {},
   "outputs": [
    {
     "name": "stdout",
     "output_type": "stream",
     "text": [
      "0.919398454330448\n",
      "5\n",
      "2\n"
     ]
    }
   ],
   "source": [
    "print(random.random())\n",
    "print(random.randint(0,10))\n",
    "numbers = range(10)\n",
    "print(random.choice(numbers))"
   ]
  },
  {
   "cell_type": "markdown",
   "id": "33623226-bd67-4c00-a615-a87df84535e3",
   "metadata": {},
   "source": [
    "---"
   ]
  }
 ],
 "metadata": {
  "kernelspec": {
   "display_name": "Python 3 (ipykernel)",
   "language": "python",
   "name": "python3"
  },
  "language_info": {
   "codemirror_mode": {
    "name": "ipython",
    "version": 3
   },
   "file_extension": ".py",
   "mimetype": "text/x-python",
   "name": "python",
   "nbconvert_exporter": "python",
   "pygments_lexer": "ipython3",
   "version": "3.9.9"
  }
 },
 "nbformat": 4,
 "nbformat_minor": 5
}
