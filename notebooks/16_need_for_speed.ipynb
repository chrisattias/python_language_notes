{
 "cells": [
  {
   "cell_type": "markdown",
   "id": "271e5486-2f16-4913-ba08-b4280536af24",
   "metadata": {},
   "source": [
    "# Need for Speed"
   ]
  },
  {
   "cell_type": "markdown",
   "id": "51224b61-83c0-499e-b75c-01bb06969e1c",
   "metadata": {},
   "source": [
    "> \"Premature optimization is the root of all evil.\" - Donald Knuth and Tony Hoare\n",
    "\n",
    "- However, if a Python program has a long runtime and is run frequently we may want to increase its speed.  We can try the following:\n",
    "\n",
    "1. Profile code to see slowest parts.  Focus on those first.  After making any change, profile again.\n",
    "1. Optimize code algorithms.  This primarily means big O algorithm analysis.  Additional tips include choosing libraries like NumPy because they use fast data structures, reduce the number of operations within loops, and cache data that is re-used instead of retrieving the same data from a database or web server repeatedly.\n",
    "1. Consider multiprocessing for CPU bound programs.  Realize there are trade offs in program complexity and ease of debugging.  Use the `multiprocessing` module.  Multiprocessing can be used with distributed cloud computing.  \n",
    "1. Consider multithreading for I/O bound programs.  Realize there are trade offs in program complexity and ease of debugging.  Use the `asyncio` module if possible.  Avoid using the `threading` module.\n",
    "1. Consider using using PyPy for CPU bound long running programs.  **PyPy** is a Python implementation that uses **just-in-time (JIT)** compilation.  It is the fastest Python implementation, being about 4.5x faster than the standard CPython.  PyPy is \"compliant\", meaning that the vast majority of Python code we write works with PyPy without changing grammar.  However, we'd need to install the PyPy interpreter and PyPy versions of third-party libraries.\n",
    "1. Consider using a fully compiled programming language for CPU bound programs.  Python is known for being easy to read and write as well as being relatively slow.  For CPU bound programs switching to a compiled language could increase speed by a factor of 10 or more. Note that switching languages will not always provide this significant of a speed increase if a CPU bound program is already using a highly optimized library like NumPy."
   ]
  },
  {
   "cell_type": "markdown",
   "id": "94a20ce8-d212-468c-9479-cb5f259c3ab1",
   "metadata": {},
   "source": [
    "---"
   ]
  },
  {
   "cell_type": "markdown",
   "id": "7e16ba52-3650-4da1-bcad-eb4c5615329a",
   "metadata": {},
   "source": [
    "## Profile\n",
    "- **Profile**--set of statistics that describes how often and for how long various parts of a program execute\n",
    "There are 4 main ways to profile code in Python\n",
    "    1. `time` module can be used to manually measure the time it takes to run a program.  Simple tool to introduce the concept of profiling.\n",
    "    1. `timeit` module can be used to measure the time it takes to run a short piece of code\n",
    "    1. `cProfile` module generates profile in a more automated way.  Uses C code to increase speed of profile functions.\n",
    "    1. `profile` module is the same as `cProfile`, but `profile` is written in written in Python code.  Slower than `cProfile` so not commonly used.\n",
    "    1. `pstats` module formats profile returned by `cProfile` into a report\n",
    "\n",
    "Code | Use\n",
    "--- | ---\n",
    "`time` | Module\n",
    "`time.time()` | Returns time in seconds since Unix epoch.  Can be used to profile code by taking time at start and end of program and subtracting the two.\n",
    "\n",
    "Code | Use\n",
    "--- | ---\n",
    "`timeit` | Module\n",
    "`timeit.timeit()` | Returns seconds argument takes to run.  Argument is string of short section of code.\n",
    "\n",
    "Code | Use\n",
    "--- | ---\n",
    "`cProfile` | Module\n",
    "`cProfile.run()` | Prints profile for argument run.  Argument is string of function.  Unlike most functions used in arguments, we type the parentheses.\n",
    "\n",
    "`cProfile.run()` outputs the following:\n",
    "- ncalls  The number of calls made to the function\n",
    "- tottime  The total time spent in the function, excluding time in subfunctions\n",
    "- percall  The total time divided by the number of calls\n",
    "- cumtime  The cumulative time spent in the function and all subfunctions\n",
    "- percall  The cumulative time divided by the number of calls\n",
    "- filename:lineno(function)  The file the function is in and at which line number"
   ]
  },
  {
   "cell_type": "markdown",
   "id": "fd57ef39-5f89-4a4d-89be-4c154be845e9",
   "metadata": {},
   "source": [
    "---"
   ]
  },
  {
   "cell_type": "markdown",
   "id": "2a90fbe9-8e1d-4b05-b59d-ed242dc91471",
   "metadata": {},
   "source": [
    "**EXAMPLES**"
   ]
  },
  {
   "cell_type": "code",
   "execution_count": 1,
   "id": "dba72b8a-1f52-4a5b-aca3-c9f84df57e87",
   "metadata": {},
   "outputs": [],
   "source": [
    "import time\n",
    "import timeit\n",
    "import cProfile"
   ]
  },
  {
   "cell_type": "markdown",
   "id": "2b2ebbd9-af8a-4ed2-b7f2-92f61daa9d4e",
   "metadata": {},
   "source": [
    "**`time.time()`**"
   ]
  },
  {
   "cell_type": "code",
   "execution_count": 2,
   "id": "aba54eb4-95e6-4901-b847-c3af6902b3a6",
   "metadata": {},
   "outputs": [
    {
     "name": "stdout",
     "output_type": "stream",
     "text": [
      "This code took: 0.06101226806640625 seconds to run.\n"
     ]
    }
   ],
   "source": [
    "def add_numbers():\n",
    "    i_sum = 1\n",
    "    for number in range(1, 1000000):\n",
    "        i_sum += number\n",
    "\n",
    "t_start = time.time()\n",
    "add_numbers()\n",
    "t_end = time.time()\n",
    "\n",
    "print(f'This code took: {t_end - t_start} seconds to run.')"
   ]
  },
  {
   "cell_type": "markdown",
   "id": "f5869055-d92e-4869-aa1e-7c6c1d835622",
   "metadata": {},
   "source": [
    "**`timeit.timeit()`**"
   ]
  },
  {
   "cell_type": "code",
   "execution_count": 3,
   "id": "ec90c82b-bcdb-4d20-b022-82b0a8315079",
   "metadata": {},
   "outputs": [
    {
     "data": {
      "text/plain": [
       "0.02737289999999959"
      ]
     },
     "execution_count": 3,
     "metadata": {},
     "output_type": "execute_result"
    }
   ],
   "source": [
    "timeit.timeit('a, b = 42, 101; a, b = b, a')"
   ]
  },
  {
   "cell_type": "markdown",
   "id": "7d4c006b-c28f-480a-99bd-2497f4fe1621",
   "metadata": {},
   "source": [
    "**`cProfile.run()`**"
   ]
  },
  {
   "cell_type": "code",
   "execution_count": 4,
   "id": "a692c136-5460-4dbe-a91f-b0987d904b08",
   "metadata": {},
   "outputs": [
    {
     "name": "stdout",
     "output_type": "stream",
     "text": [
      "         4 function calls in 0.006 seconds\n",
      "\n",
      "   Ordered by: standard name\n",
      "\n",
      "   ncalls  tottime  percall  cumtime  percall filename:lineno(function)\n",
      "        1    0.006    0.006    0.006    0.006 999411293.py:1(add_numbers)\n",
      "        1    0.000    0.000    0.006    0.006 <string>:1(<module>)\n",
      "        1    0.000    0.000    0.006    0.006 {built-in method builtins.exec}\n",
      "        1    0.000    0.000    0.000    0.000 {method 'disable' of '_lsprof.Profiler' objects}\n",
      "\n",
      "\n"
     ]
    }
   ],
   "source": [
    "def add_numbers():\n",
    "    i_sum = 1\n",
    "    for number in range(1, 100000):\n",
    "        i_sum += number\n",
    "\n",
    "cProfile.run('add_numbers()')"
   ]
  },
  {
   "cell_type": "markdown",
   "id": "f40e4686-fd82-4eee-9f9e-fbfe55a994d2",
   "metadata": {},
   "source": [
    "---"
   ]
  },
  {
   "cell_type": "markdown",
   "id": "cf50494b-e477-4282-82d9-d6eb002b1a32",
   "metadata": {
    "tags": []
   },
   "source": [
    "## Multiprocessing\n",
    "- **CPU**--Central Processing Unit (or simply processing unit or processor).  Electronic circuitry that executes instructions comprising a computer program.  Theses include arithmetic, logic operations, controlling, and input/output.  I.e. the brains of the computer. \n",
    "- **Multi-core processor**--CPU containing multiple processing units on the same semiconductor chip.  Each processing unit is called a core.\n",
    "- **Program**--software application.  E.g. Mozilla Firefox.\n",
    "- **Process**--a running instance of a program.  We can have multiple processes open at one time.  E.g. multiple instances of Firefox. \n",
    "- **Mulitprocessing**--when a CPU uses multiple cores in **parallel**.  Similar to parallel electrical circuits.  In multiprocessing, we run different processes on different processors.  E.g. Instance of Mozilla on core A and instance of Notepad on core B.  We can also run a single program across different processors.\n",
    "- From now on, we'll be talking about running a single program across different processors.  The program is our Python script.  We can run a single Python script across multiple processors if the script has many activities that are not dependent on each other and the script can be redesigned so that each code chunk representing each activity is defined as its own process. Each of these processes can then be run on a different processor.\n",
    "- Pros\n",
    "    - Increase speed of **CPU bound** programs.  E.g. a program that applies mathematical expressions to large collections.  More cores means more computations can be done in a shorter amount of time, decreasing total run time.\n",
    "    - Simpler than multithreading\n",
    "- Cons\n",
    "    - Increases program complexity.  Must separate single program into independent processes.\n",
    "    - Hard to debug\n",
    "    - Processes can not (or at least it is very hard to) share variables and information with each other\n",
    "    - May or may not slow down \"I/O bound\" programs.  It takes a lot of CPU resources to divvy up processes to their processors.\n",
    "- *Best practice is to keep # processes =< # cores.  That way, each process can run at the same time without competing for processor time.*"
   ]
  },
  {
   "cell_type": "markdown",
   "id": "04680157-15e9-48b0-aa47-2b8fcbf49473",
   "metadata": {},
   "source": [
    "- Python uses 1 process by default\n",
    "- The `multiprocessing` module can be used to divide a Python script into multiple processes that run on multiple processors\n",
    "- \"Multiprocessing is a package that supports spawning processes using an API similar to the threading module. The multiprocessing package offers both local and remote concurrency, effectively side-stepping the Global Interpreter Lock by using subprocesses instead of threads. Due to this, the multiprocessing module allows the programmer to fully leverage multiple processors on a given machine. It runs on both Unix and Windows.\"\n",
    "\n",
    "Code | Use\n",
    "--- | ---\n",
    "`multiprocessing` | Module\n",
    "`multiprocessing.Process(target= <TARGET_FUNCTION>)` | Return process object.\n",
    "`.start()` | Process object method.  Return process object."
   ]
  },
  {
   "cell_type": "markdown",
   "id": "a57804ae-2c75-47e4-9646-6cba05d831e3",
   "metadata": {},
   "source": [
    "---"
   ]
  },
  {
   "cell_type": "markdown",
   "id": "691ad8e9-ea0a-494a-885f-6cca2d10fa4d",
   "metadata": {},
   "source": [
    "**EXAMPLES**"
   ]
  },
  {
   "cell_type": "markdown",
   "id": "047ffc60-2f7a-4ad5-a7ef-34fb21218971",
   "metadata": {},
   "source": [
    "- Multiprocessing actually doesn't work the same in Jupyter because of an issue with `__main__`.  The below code is in Markdown, but shows how to launch a process.  Grammar is similar to what is seen in the `threading` module."
   ]
  },
  {
   "cell_type": "markdown",
   "id": "badbff96-1a40-4299-85a8-7b4642cad323",
   "metadata": {},
   "source": [
    "```python\n",
    "import multiprocessing\n",
    "\n",
    "def process_function_2():\n",
    "    print(\"Process 2 is now running.\")\n",
    "    print(\"Process 2 is done running.\")\n",
    "\n",
    "if __name__ == '__main__':\n",
    "    po_process_2 = multiprocessing.Process(target = process_function_2)\n",
    "    po_process_2.start()\n",
    "```"
   ]
  },
  {
   "cell_type": "markdown",
   "id": "f3a976c0-e2b1-4d5a-8261-9f0dce30e92f",
   "metadata": {},
   "source": [
    "---"
   ]
  },
  {
   "cell_type": "markdown",
   "id": "cb70e149-3c47-4219-82dc-84acc839c5b2",
   "metadata": {
    "tags": []
   },
   "source": [
    "## Multithreading\n",
    "- **Thread**--any single program (like our Python script) in which many activities are not dependent on each other can be redesigned so that the code chunk representing each activity is defined as a \"thread\"\n",
    "- **Multithreading**--ability of a computer central processing unit (or a single core in multi-core processors) to provide multiple threads of execution **concurrently**.  The term concurrently here does NOT mean threads run at the same time on the same processor.  Threads on the same processor share the processor resources and the processor repeatedly switches between threads.\n",
    "- Pros\n",
    "    - Increases speed for **I/O bound** programs.  E.g a program that reads and writes to an external resource like a file system, database, or web server.  The slowest thread of the program (waiting on an external resource) will not act as a bottleneck for the execution of the entire program because the processor can switch away from the slow thread and come back to it later.  Multithreading is said to hide \"latency\".\n",
    "    - Threads can communicate and share variables (though this could lead to error)\n",
    "- Cons\n",
    "    - Increases program complexity.  Must separate single program into independent threads.\n",
    "    - Very hard to debug\n",
    "    - Can cause concurrency issues.  There are techniques like \"locks\" that solve this but these are complicated, error prone, and require CPU resources.\n",
    "    - Will slow down CPU bound program because it takes time to switch back and forth between threads\n",
    "- *Best practice is to never let multiple threads read or write the same variables and only use local variables (not global) in each thread.  This will reduce concurrency issues*"
   ]
  },
  {
   "cell_type": "markdown",
   "id": "15043698-05bd-4e58-a350-1d2a9b39fae5",
   "metadata": {},
   "source": [
    "- Below we have a chart showing multithreading and multiprocessing.  The left chart shows mulithreading on a single processor. It is almost like a single chef switching between jobs in a kitchen.    The right chart shows 4 processors running 4 jobs.  This is like 4 chefs working at the same time.  Multithreading = concurrent.  Multiprocessing = parallel.\n",
    "\n",
    "![](images/concurrent_parallel.jpg)"
   ]
  },
  {
   "cell_type": "markdown",
   "id": "6425c79b-11a2-4a6a-ba00-3d5941c3f3d6",
   "metadata": {},
   "source": [
    "---"
   ]
  },
  {
   "cell_type": "markdown",
   "id": "94e4ff27-35c8-4820-a44a-590c91307597",
   "metadata": {},
   "source": [
    "### Threading\n",
    "- Python scripts have a single thread of execution by default\n",
    "- The `threading` module creates multithreading programs\n",
    "- The `threading` module implements a **Global Interpreter Lock (GIL)**, so that only one thread executes Python bytecode at a time.  This means that multiple threads are only ever run on a single processor.\n",
    "- \"This simplifies the CPython implementation by making the object model (including critical built-in types such as dict) implicitly safe against concurrent access. Locking the entire interpreter makes it easier for the interpreter to be multi-threaded, at the expense of much of the parallelism afforded by multi-processor machines.  If we want our application to make better use of the computational resources of multi-core machines, we are advised to use multiprocessing or concurrent.futures.ProcessPoolExecutor. However, threading is still an appropriate model if we want to run multiple I/O-bound tasks simultaneously.\"\n",
    "- It is generally NOT recommend to use the `threading` module.  Even with GIL we can still run into concurrency issues.  The threading module is apparently VERY hard to get right, even for experienced programmers.\n",
    "- This is in part because the `threading` module switches between threads after a certain number of milliseconds.  If any threads were to share any variables then we could run into problems like this:\n",
    "    1. Thread 1 reads variable A, obtaining the value 5\n",
    "    1. OS automatically switches threads to Thread 2\n",
    "    1. Thread 2 reads variable A, obtaining the value 5, adds 10, and assigns the value 15 to variable A\n",
    "    1. OS automatically switches threads back to Thread 1\n",
    "    1. Thread 1 still thinks variable A is 5, even though it it is now 15\n",
    "    1. Thread 1 and 2 go back and forth using using variable A, but now all calculations are off\n",
    "- With that being said, we'll provide a little code and do a couple examples to help understand the principles of mulithreading.\n",
    "\n",
    "Code | Use\n",
    "--- | ---\n",
    "`threading` | Module\n",
    "`threading.Thread(target = <TARGET_FUNCTION>)` | Return thread object.  If the target function takes arguments, pass them through the `Thread()` function as keyword argument.  Use `args=[<LIST_OF_TARGET_AGRS>]` and/or `kwargs={DICT_OF_TARGET_KWARGS}`.  Keyword arguments within keyword arguments...inception!!!\n",
    "`.start()` | Thread object method.  Start executing code in thread object.  "
   ]
  },
  {
   "cell_type": "markdown",
   "id": "108b281e-1f47-45e5-9c6d-bc78009bce6b",
   "metadata": {},
   "source": [
    "---"
   ]
  },
  {
   "cell_type": "markdown",
   "id": "9bc9985f-9ee2-4714-b5e6-bfe278ddd2c9",
   "metadata": {},
   "source": [
    "**EXAMPLES**"
   ]
  },
  {
   "cell_type": "code",
   "execution_count": 5,
   "id": "12ab58c7-bd5e-4469-81dc-1bf378356532",
   "metadata": {},
   "outputs": [],
   "source": [
    "import threading\n",
    "import time"
   ]
  },
  {
   "cell_type": "markdown",
   "id": "52d63364-3282-42c8-bedb-9dd8f67b650c",
   "metadata": {},
   "source": [
    "- Notice how the OS switches back and forth between threads automatically\n",
    "- The program starts at Thread 1, switches to Thread 2 as instructed, but then Thread 2 sleeps for 5 seconds.  The OS automatically switches back to Thread 1, finishes running Thread 1, and then automatically switches back to Thread 2 and finishes Thread 2.\n",
    "- The sleep function represents a slow I/O function and demonstrates how we can hide this latency"
   ]
  },
  {
   "cell_type": "code",
   "execution_count": 6,
   "id": "f425b9f8-f32c-48fc-919d-6589ce7d8a76",
   "metadata": {},
   "outputs": [
    {
     "name": "stdout",
     "output_type": "stream",
     "text": [
      "Thread 1 is now running.\n",
      "Thread 2 is now running.\n",
      "Thread 1 is now running.\n",
      "Thread 1 is done running.\n"
     ]
    }
   ],
   "source": [
    "print(\"Thread 1 is now running.\")\n",
    "\n",
    "def func_thread_2():\n",
    "    print(\"Thread 2 is now running.\")\n",
    "    time.sleep(5)\n",
    "    print(\"Thread 2 is now running.\")\n",
    "    print(\"Thread 2 is done running.\")\n",
    "\n",
    "to_thread_2 = threading.Thread(target = func_thread_2)\n",
    "to_thread_2.start()\n",
    "\n",
    "print(\"Thread 1 is now running.\")\n",
    "print(\"Thread 1 is done running.\")"
   ]
  },
  {
   "cell_type": "markdown",
   "id": "1c67604c-95d6-4e26-a570-3e6585d58252",
   "metadata": {},
   "source": [
    "- Pass arguments to target function.  We'll first show these arguments are normally passed to a function, and then show how they are passed through `.Thread()`."
   ]
  },
  {
   "cell_type": "code",
   "execution_count": 7,
   "id": "bf649794-febe-4f43-96d3-5dbe337c7f6c",
   "metadata": {},
   "outputs": [
    {
     "name": "stdout",
     "output_type": "stream",
     "text": [
      "Hello world\n"
     ]
    }
   ],
   "source": [
    "print(\"Hello\", \"world\", sep = \" \")"
   ]
  },
  {
   "cell_type": "code",
   "execution_count": 8,
   "id": "0126e951-8758-470b-87d9-a1994de59dc5",
   "metadata": {},
   "outputs": [
    {
     "name": "stdout",
     "output_type": "stream",
     "text": [
      "Hello world\n",
      "Thread 2 is now running.\n",
      "Thread 2 is done running.\n"
     ]
    }
   ],
   "source": [
    "to_thread_2 = threading.Thread(target=print, args=[\"Hello\", \"world\"], kwargs={\"sep\":\" \"})\n",
    "to_thread_2.start()"
   ]
  },
  {
   "cell_type": "markdown",
   "id": "d8709803-d3b6-4b1c-95c3-212e4d1435c9",
   "metadata": {},
   "source": [
    "---"
   ]
  },
  {
   "cell_type": "markdown",
   "id": "d3da59a2-4f3f-46e4-a560-36a346e1798e",
   "metadata": {},
   "source": [
    "### Asyncio\n",
    "- `asyncio`--stands for asynchronous input output.  Newer Python multithreading module.\n",
    "- The `threading` module switches threads after a certain amount of time.  This is convenient because we don't need to add any code to cause thread switch\n",
    "- The `asyncio` module switches threads \"cooperatively\".  We explicitly add `yield` or `await` grammar to tell the program when to switch between threads.\n",
    "- Pros of `asyncio` compared to `threading` module\n",
    "    - No locks needed to prevent concurrency issues.  This increases speed and more importantly makes code easier to understand and debug\n",
    "    - Switching tasks in `asyncio` takes fewer CPU resources than switching threads with the `threading` module.  We might have 100s of concurrent threads with the `threading` module while we could have thousands of concurrent tasks with `asyncio`.\n",
    "- Cons of `asyncio` compared to `threading` module\n",
    "    - Need added syntax to switch between threads\n",
    "    - Need to use \"async\" versions of functions and libraries because we can't have any \"blocking\" function calls\n",
    "    - Steep learning curve"
   ]
  },
  {
   "cell_type": "markdown",
   "id": "ae95a7e7-e434-4289-a8b7-02a011443c9a",
   "metadata": {},
   "source": [
    "---"
   ]
  }
 ],
 "metadata": {
  "kernelspec": {
   "display_name": "Python 3 (ipykernel)",
   "language": "python",
   "name": "python3"
  },
  "language_info": {
   "codemirror_mode": {
    "name": "ipython",
    "version": 3
   },
   "file_extension": ".py",
   "mimetype": "text/x-python",
   "name": "python",
   "nbconvert_exporter": "python",
   "pygments_lexer": "ipython3",
   "version": "3.9.9"
  }
 },
 "nbformat": 4,
 "nbformat_minor": 5
}
