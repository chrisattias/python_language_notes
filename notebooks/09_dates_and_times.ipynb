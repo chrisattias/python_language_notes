{
 "cells": [
  {
   "cell_type": "markdown",
   "id": "22d42152-6682-49ab-a375-201a5efef329",
   "metadata": {},
   "source": [
    "# Date and Time Data\n",
    "\n",
    "TLDR avoid time data ; )\n",
    "\n",
    "- Dates and times are seemingly simple, yet apparently, frustratingly complex. See [this video](https://www.youtube.com/watch?v=-5wpm-gesOY&t=612s) about time zones. There are three simple questions that embody this complexity:\n",
    "    1. How many days in a year? 365!…unless it is a leap year. Leap years happen every 4 years!…unless the year can be evenly divided by 100, then it’s not!…unless it is also divisible by 400, then it is!\n",
    "    1. How many hours in a day? 24!…unless a given location celebrates daylight saving time. Then it’s 23 and 25 once a year!\n",
    "    1. How many seconds in a minute? 60!…unless there is leap second, then it’s 61!\n",
    "- We'll first cover a whole bunch of interesting background info and cover international date and time standards.  Python often does not return date and time data in these standard formats and this is something to keep in mind.\n",
    "- We'll then cover the following modules:\n",
    "    1. `time`\n",
    "    1. `datetime`\n",
    "    1. `zoneinfo`\n",
    "- We won't cover the following modules, but know that they are also used with date and time data\n",
    "    1. `calendar`\n",
    "    1. `dateutil`\n",
    "    1. `locale`"
   ]
  },
  {
   "cell_type": "markdown",
   "id": "d6c53e9b-628a-46e1-acb3-e80349e2a853",
   "metadata": {},
   "source": [
    "---"
   ]
  },
  {
   "cell_type": "markdown",
   "id": "b0bd1eb0-21b1-46d0-bf0a-3bd4760a3998",
   "metadata": {
    "tags": []
   },
   "source": [
    "## Background Reading"
   ]
  },
  {
   "cell_type": "markdown",
   "id": "1ffa1c9d-6039-425d-9b75-2b8000bfba67",
   "metadata": {},
   "source": [
    "---"
   ]
  },
  {
   "cell_type": "markdown",
   "id": "d25b3f0a-c5cb-486a-8ff5-9b46295d81ef",
   "metadata": {
    "tags": []
   },
   "source": [
    "### Time Systems\n",
    "\n",
    "- **Local/Civil Time**--what we mean when we ask \"What time is it?\".  It is UTC +- hours offset because of the time zone.  Time zones are drawn so that when the clock strikes 12 anywhere in the world, the sun is at roughly the highest point above the horizon (high noon) for that day.  We say roughly because this depends on the longitude within the time zone.  Being within the same time zone is useful for commercial and social communication.  Local time is also adjusted if a region adheres to a daylight saving time.  Daylight saving time allows higher latitude regions to adjust which clock times experience more sunlight during different seasons. In the USA we spring forward and skip the hour from 2 AM - 3 AM. We fall back and repeat the hour from 1 AM to 2 AM.\n",
    "- **Coordinated Universal Time (UTC)**--basis of local time.  Primary time standard worldwide.  Successor to Greenwich Mean Time (GMT).  UTC uses International Atomic Time and adds leap seconds as needed to keep up with Solar time.  Because the need for leap seconds can not be accurately calculated in advance, we do not actually know the interval of seconds there are to a date in the future! Mind blown.\n",
    "- **Solar Time**--based upon the concept of a solar day.  It takes Earth ~24 hours to rotate on its axis so that the Sun appears in the same spot in the sky.  The **apparent solar day** changes in length by +- 30 seconds throughout the year (1 rotation around Sun) because the orbit of the Earth around the Sun in not a perfect circle.  For this reason the **mean solar day** is used, which is an average of apparent solar day lengths.  For accuracy reasons, in today's age, solar time is measured by the position of the Earth relative to radio emissions from objects in other galaxies.\n",
    "- **International Atomic Time (TAI)**--time keeping system based on atomic clocks.  Atomic clocks are the most accurate time keeping mechanism and measure the electromagnetic emissions of atoms when they change energy levels.  TAI does NOT use leap seconds.  Currently, TAI - UTC = 37 seconds.  The 37 seconds result from the initial difference of 10 seconds at the start of 1972, plus 27 leap seconds in UTC since 1972.\n",
    "- **GPS Time**--GPS satellites have onboard atomic clocks that use GPS Time. GPS time was set in 1980 to the then current UTC time.  Does NOT uses leap seconds.  Because both TAI and GPS do not use leap seconds, there will always be a 19 second offset.  TAI - UTC = 19 seconds.\n",
    "- **Leap seconds**--used to accommodate differences between precise time (as measured by atomic clocks) and imprecise solar time (which is affected by the gradual slowdown of Earth's rotation).\n",
    "- **Epoch**--point where time starts\n",
    "- **Unix time/POSIX time**--time is measured as the number of seconds since 12 AM (midnight) January 1, 1970, Coordinated Universal Time (UTC).  Commonly used in computer programming.  It is said that Unix time does not use leap seconds.  This is true, but misleading!  Unix time never *adds* a leap seconds like UTC does.  However Unix time still syncs up with UTC.  When UTC adds a second to a day, Unix time *repeats* 23:59:59 twice.  Repeating a second means two seconds on the Unix clock map to the same time!  This can cause errors in computer programs.\n",
    "- The most obvious workaround is to use TAI for operational purposes and use UTC for displaying the time of day to humans.  UTC can easily be derived from TAI using a leap second table. Sometimes, leap smears are used to solve this problem.  This involves spreading the repetition of a second out over a 24 hour period. Lastly, there are also proposals to eliminate leap seconds from UTC so that is very (very) slowly drifts away from solar time."
   ]
  },
  {
   "cell_type": "markdown",
   "id": "c53ea77f-919f-4d7c-b5f3-71442ddb7dbe",
   "metadata": {},
   "source": [
    "---"
   ]
  },
  {
   "cell_type": "markdown",
   "id": "139cb38d-d327-4151-837d-9972f8ef4565",
   "metadata": {},
   "source": [
    "### Need for Format Standards\n",
    "\n",
    "- There are many different ways to write a dates and times\n",
    "- What order do we put the year, month, and day?\n",
    "    - YMD--works best for data organization purposes if read left to right.  Used in East Asia.\n",
    "    - DMY--works best to quickly communicate current day to humans if read left to right.  Used by most countries.\n",
    "    - MDY--for the love of the gods, why USA?  \n",
    "    - Luckily, no country uses YDM, MYD, or DYM \n",
    "- How is year written?\n",
    "    - YYYY\n",
    "    - YY\n",
    "- How is month written?\n",
    "    - January\n",
    "    - Jan\n",
    "    - MM (always 2 digits)\n",
    "    - M or MM (1 or 2 digits)\n",
    "- How is day written?\n",
    "    - DD (always 2 digits)\n",
    "    - D or DD (1 or 2 digits)\n",
    "- How is time written?\n",
    "    - 12 hour clock with AM and PM.  Exclusive use of of 12 hour clocks in USA, Central America, North Africa, Middle East \n",
    "    - 24 hour clock. Used by most other countries for written times. However, many countries will write with a 24 hour clock and orally use a 12 hour clock.  Others commonly use both formats interchangeably.\n",
    "    - For hours, minutes, and seconds do we use 1-2 digits or always 2 digits?\n",
    "    - Do we use UTC?\n",
    "    - Do we use time zones.  How are time zones written?\n",
    "    - Do we use daylight saving time?\n",
    "- How are separators written?\n",
    "    - ,\n",
    "    - :\n",
    "    - -\n",
    "    - /\n",
    "- Format differences can lead to minor annoyance or complete confusion\n",
    "    - E.g. With no metadata, we might may have no idea if 01-02-1999 is January 2nd or February 1st!!!"
   ]
  },
  {
   "cell_type": "markdown",
   "id": "71ac431a-cff6-4595-876d-79a214f9e89a",
   "metadata": {},
   "source": [
    "---"
   ]
  },
  {
   "cell_type": "markdown",
   "id": "6389f508-2365-440e-9096-704a8f2e320b",
   "metadata": {
    "tags": []
   },
   "source": [
    "### ISO 8601\n",
    "\n",
    "- **ISO 8601**--international standard for representation of dates and times\n",
    "- We may not want to include all info always so ISO 8601 allows us to only write the parts we need:\n",
    "    - YYYY\n",
    "    - YYYY-MM\n",
    "    - YYYY-MM-DD\n",
    "    - YYYY-MM-DDThh:mmTZD\n",
    "    - YYYY-MM-DDThh:mm:ssTZD\n",
    "- The pieces of the puzzle are:\n",
    "    - YYYY is 4 digit year\n",
    "    - MM is 2 digit month(e.g. January = 01)\n",
    "    - DD is 2 digit day (e.g. the 1st  = 01)\n",
    "    - Note how hyphens separate year, month, and day  \n",
    "    - T stands for time.  **THIS TIME IS THE LOCAL TIME!!!**\n",
    "    - hh is 2 digit hours in 24 hour clock (e.g. 1 AM = 01 and 1 PM = 13)\n",
    "    - mm is 2 digit minutes\n",
    "    - ss is 2 digit seconds.  Seconds can include decimal fraction (e.g. 01.123456)\n",
    "    - TZD is local time zone difference from UTC written in form +-hh:mm (e.g. -05:00 for NY City during standard time).  \n",
    "    - Note how colons separate hours, minutes, and seconds\n",
    "- E.g. `1999-12-31T23:59:59.99-05:00` is the date time for New York City right before the turn of the millenium. I believe this is correct as daylight saving time is not active this time of year so the offset should be -5 hours.\n",
    "- To convert from local time to UTC we ALWAYS subtract the offset from the local time\n",
    "    - E.g. at midnight on Jan 1st in NYC it's 00:00:00.  UTC = 00:00:00 - (-5) = 05:00:00 on January 1st, 2000.  This makes sense since UTC is ahead of EST. By the time the ball drops in NYC folks in the UTC time zone are all passed out because it is 5 in the morning.\n",
    "- Additional considerations for time zones include:\n",
    "    - If no TZD offset is given then time should be assumed to be in local time.  Unfortunately, this gets confusing if communicating across time zones.  Therefore, it is best to stick to ISO 8601.\n",
    "    - If the time zone is UTC (with no offsets), we can write +00:00 or use a \"Z\" directly after the time.  Z is the zone designator for the zero UTC offset.\n",
    "        - E.g. when the ball dropped in NYC in 2000 it was 2000-01-01T05:00:00:00Z\n",
    "- Note that,\n",
    "> \"This profile does not specify how many digits may be used to represent the decimal fraction of a second. An adopting standard that permits fractions of a second must specify both the minimum number of digits (a number greater than or equal to one) and the maximum number of digits (the maximum may be stated to be \"unlimited\").\n",
    "- Note that there are additional formatting options like the \"basic\" version which excludes all separators and the possibility of excluding the T before the time in some circumstances"
   ]
  },
  {
   "cell_type": "markdown",
   "id": "8950a77e-8e87-421f-ade5-7dd3baf5359f",
   "metadata": {},
   "source": [
    "---"
   ]
  },
  {
   "cell_type": "markdown",
   "id": "e1f1de9b-a057-47cd-be38-74702eff0f9c",
   "metadata": {},
   "source": [
    "### IANA\n",
    "\n",
    "- **IANA**--Internet Assigned Numbers Authority.  Overseas global IP address allocation, manages domain name system, and maintains a time zone database.  This time zone database also contains regional daylight saving data.\n",
    "- IANA standard uses `\"<CONTINENT>/<CITY>\"` notation to name time zones\n",
    "    - E.g. “America/New_York”\n",
    "- This is used because:\n",
    "    1. Country names may change when new leaders take control, but continent and city names rarely change\n",
    "    1. The name residents use for their time zone may not be unique\n",
    "        - E.g. EST could be for the US, Canada, or Australia.\n",
    "- When working with time zones we may want to:\n",
    "    1. Keep the time numbers the same but change the time zone name. The two times+time zones represent different moments in time. Use this if time zone was mislabeled.\n",
    "        - E.g. 12 PM “America/Los_Angeles” to 12 PM “America/New_York”.  These are two different moments in time, but the same time of day (high noon).\n",
    "    1. Change the time numbers and change the time zone names. The two times+time zones represent the same moment in time. Use for time conversions between time zones.\n",
    "        - E.g. 12 PM “America/Los_Angeles” to 3 PM “America/New_York”.  These are the same moment in time, but different times of day.\n",
    "\n",
    "![](images/time_zones.png)"
   ]
  },
  {
   "cell_type": "markdown",
   "id": "a8ab5c3e-1536-45ab-b3b6-a15616ec1243",
   "metadata": {},
   "source": [
    "---"
   ]
  },
  {
   "cell_type": "markdown",
   "id": "f0ae0078-2461-469e-9bbd-ec3a5b8111c4",
   "metadata": {},
   "source": [
    "### Time Spans\n",
    "- We mostly care about recording moments in time, but we may also want to record time spans.  There are three ways to measure time spans:\n",
    "\n",
    "1. **Intervals**--calculate time span by specifying starting and ending points\n",
    "    - E.g. 1998-12-31T23:59:59-5:00 to 1999-12-31T23:59:59-5:00\n",
    "    - E.g. Unix time\n",
    "1. **Durations**--create time span by specifying number of seconds\n",
    "    - E.g. add 1 hour onto an existing time\n",
    "1. **Periods**--create time span in human units like days, weeks, and months.  Accounts for differences in month lengths, leap years, and daylight saving time in more intuitive way than durations.  Often not want we actually want, but something to be aware of.\n",
    "    - E.g. if we add 5 years onto Jan 1st, the date will still be Jan 1st 5 years later and not Dec 31st (disregards the fact that leap year added an extra day)"
   ]
  },
  {
   "cell_type": "markdown",
   "id": "231c87b5-73eb-4f90-a9ae-97cf4f5bbbf7",
   "metadata": {},
   "source": [
    "---"
   ]
  },
  {
   "cell_type": "markdown",
   "id": "b9d10942-bf3f-492d-96f1-c472a2843d4e",
   "metadata": {},
   "source": [
    "### Best Practices\n",
    "\n",
    "- The local time (civil) zone should be used for meetings, train times, etc.  The kind of things that are put in our calendars.  Local time uses daylight saving time.\n",
    "- The UTC time zone should be used for time stamps, programming logging records, and time-critical operations.  UTC does NOT use daylight saving time and is always **monotonically** increasing.  We don't want to deal with daylight saving time if we don't have to.  If we spring forward we skip the hour from 2 AM - 3 AM. If we fall back we repeat the hour from 1 AM - 2 AM, which would lead to ambiguity in time records!  Note that UTC still has ambiguity when it comes to leap seconds, which likely leads some organizations to use TAI."
   ]
  },
  {
   "cell_type": "markdown",
   "id": "15136b77-6def-48a9-bf5f-3cd3d340839d",
   "metadata": {},
   "source": [
    "---"
   ]
  },
  {
   "cell_type": "markdown",
   "id": "c89a4009-ddff-4013-8f47-fe7830c1714a",
   "metadata": {},
   "source": [
    "## Time\n",
    "\n",
    "- The `time` module provides time-related functions.  It does not contain any new classes.\n",
    "- Note that functions may perform differently on different operating systems (UNIX vs Windows)\n",
    "\n",
    "Code | Use\n",
    "--- | ---\n",
    "`time` | Module\n",
    "`time.time()` | Returns current Unix time as float\n",
    "`time.ctime()` | Returns string of local time.  Not in the ISO 8601 format.  Optionally, specify Unix time in seconds to convert to local time.\n",
    "`time.sleep()` | Pause program for a set number of seconds before continuing to run"
   ]
  },
  {
   "cell_type": "markdown",
   "id": "fe94e00d-0d03-4ab1-8863-9bbab57d9a5f",
   "metadata": {},
   "source": [
    "---"
   ]
  },
  {
   "cell_type": "markdown",
   "id": "f3da43be-dccb-48aa-a464-66a6012f9e1d",
   "metadata": {},
   "source": [
    "**EXAMPLES**"
   ]
  },
  {
   "cell_type": "code",
   "execution_count": 1,
   "id": "6933bb24-48d8-40e0-9a97-92488d7aeac7",
   "metadata": {},
   "outputs": [],
   "source": [
    "import time"
   ]
  },
  {
   "cell_type": "markdown",
   "id": "3a2dc6e8-5e1f-4804-8ee9-b50ebb1927c7",
   "metadata": {},
   "source": [
    "**`time()` and `ctime()`**"
   ]
  },
  {
   "cell_type": "code",
   "execution_count": 2,
   "id": "a4628ea1-ac3f-4e33-b636-ab8695b0d0f0",
   "metadata": {},
   "outputs": [
    {
     "name": "stdout",
     "output_type": "stream",
     "text": [
      "<class 'float'>\n",
      "1641100917.2558506\n",
      "<class 'str'>\n",
      "Sat Jan  1 21:21:57 2022\n",
      "Wed Dec 31 16:00:00 1969\n"
     ]
    }
   ],
   "source": [
    "print(type(time.time()))\n",
    "print(time.time())\n",
    "print(type(time.ctime()))\n",
    "print(time.ctime())\n",
    "\n",
    "# Unix epoch is `Thu Jan 1 00:00:00 1970`.\n",
    "# 0 seconds since Unix epoch is `Thu Jan 1 00:00:00 1970`.\n",
    "# However ctime returns local time, accounting for TZD.  Confusing huh?\n",
    "print(time.ctime(0))  "
   ]
  },
  {
   "cell_type": "markdown",
   "id": "3694411a-202e-4ba4-98b0-7a908e98d7e3",
   "metadata": {},
   "source": [
    "**`sleep()`**"
   ]
  },
  {
   "cell_type": "code",
   "execution_count": 3,
   "id": "274fa74b-0616-40eb-b1af-82355f33a194",
   "metadata": {},
   "outputs": [
    {
     "name": "stdout",
     "output_type": "stream",
     "text": [
      "Tick\n",
      "Tock\n",
      "Tick\n",
      "Tock\n",
      "Tick\n",
      "Tock\n"
     ]
    }
   ],
   "source": [
    "def tick_tock(i_seconds):\n",
    "    for i_second in range(i_seconds):\n",
    "        print(\"Tick\")\n",
    "        time.sleep(1)\n",
    "        print(\"Tock\")\n",
    "        time.sleep(1)\n",
    "tick_tock(3)"
   ]
  },
  {
   "cell_type": "markdown",
   "id": "b5c6043f-e5cf-43f7-a0fe-89eaf874684b",
   "metadata": {},
   "source": [
    "---"
   ]
  },
  {
   "cell_type": "markdown",
   "id": "d6bec4be-53fd-415f-8d4e-99cea8351056",
   "metadata": {},
   "source": [
    "## Datetime\n",
    "- The module has its own data types (classes).  Some **\"aware\"** objects include timezone information while other **\"naive\"** objects do not.\n",
    "    1. `date`--\"An idealized naive date, assuming the current Gregorian calendar always was, and always will be, in effect. Attributes: year, month, and day.\"\n",
    "    1. `time`--\"An idealized time, independent of any particular day, assuming that every day has exactly 24*60*60 seconds. (There is no notion of “leap seconds” here.) Attributes: hour, minute, second, microsecond, and tzinfo.\"  Naive unless we add time zone information.\n",
    "    1. `datetime`--\"A combination of a date and a time. Attributes: year, month, day, hour, minute, second, microsecond, and tzinfo.\"  Naive unless we add time zone information.\n",
    "    1. `tzinfo` or `timezone`--supplies the  tzinfo subclass object that we can attach to time or datetime objects to make then \"aware\" of timezone information.\n",
    "    1. `timedelta`--\"A duration expressing the difference between two date, time, or datetime instances to microsecond resolution.\"  These objects are useful for date and time arithmetic."
   ]
  },
  {
   "cell_type": "markdown",
   "id": "c743c515-3691-4ea5-b8f3-dff6951ce88c",
   "metadata": {},
   "source": [
    "- Code for `datetime` objects\n",
    "\n",
    "Code | Use\n",
    "--- | ---\n",
    "`datetime` | Module\n",
    "`datetime.datetime.(Y, M, D, H, M, S, mS)` | Returns datetime object.  Must NOT include any leading 0s.  E.g. write 5 instead of 05.  Optional, include microseconds, `mS`.  Optional argument `tzinfo = <TZINFO_SUBCLASS_OBJECT>`\n",
    "`datetime.datetime.now()` | Returns datetime object.  Reads date and local time from computer clock.  Optional argument `tz = <TZINFO_SUBCLASS_OBJECT>`.  Note the keyword is `tz` and not `tzinfo`.  Optional argument `datetime.timezone.utc`.  Will then return aware datetime object in UTC time zone.\n",
    "`.year` | Datetime object attribute.  Returns year integer.\n",
    "`.month` | Datetime object attribute.  Returns month integer.\n",
    "`.day` | Datetime object attribute.  Returns day integer.\n",
    "`.hour` | Datetime object attribute.  Returns hour integer.\n",
    "`.minute` | Datetime object attribute.  Returns minute integer.\n",
    "`.second` | Datetime object attribute.  Returns second integer.\n",
    "`.microsecond` | Datetime object attribute.  Returns second integer.\n",
    "`.strftime(\"<FORMAT>\")` | Datetime object method.  Returns date and time in specified string format.  \"f\" stands for format.  Format codes found in module documentation.\n",
    "`datetime.datetime.strptime(<\"DATE_TIME_STRING>\", <\"FORMAT\">)` | Return datetime object.  \"p\" stands for parse.  The first argument is a string of date and time information.  The second argument is the format of our string input that we are parsing to create the datetime object. Format codes found in module documentation.\n",
    "`.astimezone()` | Datetime object method.  Return datetime object with time zone info attached.  No argument needed.  Time zone does NOT update correctly if used in datetime arithmetic.\n",
    "`.tzname()` | Datetime object method.  Return string of time zone.\n",
    "`datetime.datetime.now(timezone.utc)` | Create datetime object with UTC time zone info added\n",
    "`.isoformat()` | Datetime object method.  Return string in correct ISO 8601 format."
   ]
  },
  {
   "cell_type": "markdown",
   "id": "299c92ba-f345-4213-a211-b8e10c883fc2",
   "metadata": {},
   "source": [
    "- Code for `timedelta` objects\n",
    "\n",
    "Code | Use\n",
    "--- | ---\n",
    "`datetime.timedelta()` | Returns timedelta object.  All arguments are optional and default to 0.  They can be positive or negative integers or floats.  `weeks=`, `days =`, `hours=`, `minutes=`, `seconds=`, `milliseconds =`, and `microseconds =`.  Only days, seconds, and microseconds are stored internally.  These can be retrieved as attributes.  Months and years are not arguments.  Months is not included as the length of a month is not consistent.\n",
    "`.days` | Timedelta attribute. Returns days as integer.\n",
    "`.seconds` | Timedelta attribute. Returns seconds as integer.\n",
    "`.microseconds` | Timedelta attribute. Returns microseconds as integer."
   ]
  },
  {
   "cell_type": "markdown",
   "id": "c6998c57-da0b-4a76-8296-315d151463bc",
   "metadata": {},
   "source": [
    "---"
   ]
  },
  {
   "cell_type": "markdown",
   "id": "60d37132-aa22-43f7-9521-317af888b773",
   "metadata": {},
   "source": [
    "**EXAMPLES**"
   ]
  },
  {
   "cell_type": "code",
   "execution_count": 4,
   "id": "2113c208-3715-4091-9339-8f64c1ab6b85",
   "metadata": {},
   "outputs": [],
   "source": [
    "import datetime"
   ]
  },
  {
   "cell_type": "markdown",
   "id": "11adcb1b-144b-4138-997c-04aaa241fd97",
   "metadata": {},
   "source": [
    "**`datetime` Object**"
   ]
  },
  {
   "cell_type": "code",
   "execution_count": 5,
   "id": "5a0bbbec-1993-44fe-bc98-4a3eaec91c1c",
   "metadata": {},
   "outputs": [
    {
     "name": "stdout",
     "output_type": "stream",
     "text": [
      "1999-12-31 23:59:59.500000\n",
      "2022-01-01 21:22:03.337385\n",
      "2022\n",
      "1\n",
      "1\n",
      "21\n",
      "22\n",
      "3\n",
      "337385\n"
     ]
    }
   ],
   "source": [
    "print(datetime.datetime(1999, 12, 31, 23, 59, 59, 500000))\n",
    "dto = datetime.datetime.now()\n",
    "print(dto)\n",
    "print(dto.year)\n",
    "print(dto.month)\n",
    "print(dto.day)\n",
    "print(dto.hour)\n",
    "print(dto.minute)\n",
    "print(dto.second)\n",
    "print(dto.microsecond)"
   ]
  },
  {
   "cell_type": "markdown",
   "id": "51e257e3-fe64-40ff-b4c9-67917cd49404",
   "metadata": {},
   "source": [
    "**`timedelta` Object**"
   ]
  },
  {
   "cell_type": "code",
   "execution_count": 6,
   "id": "bab1f989-5375-4274-9794-3fad983a7a8c",
   "metadata": {},
   "outputs": [
    {
     "name": "stdout",
     "output_type": "stream",
     "text": [
      "<class 'datetime.timedelta'>\n",
      "8 days, 1:01:01\n",
      "8\n",
      "3661\n"
     ]
    }
   ],
   "source": [
    "tdo = datetime.timedelta(weeks = 1, days = 1, hours = 1, minutes = 1, seconds = 1)\n",
    "print(type(tdo))\n",
    "print(tdo)\n",
    "print(tdo.days)\n",
    "print(tdo.seconds)"
   ]
  },
  {
   "cell_type": "markdown",
   "id": "f932366c-6dc2-4453-8276-fbf77a15c1b7",
   "metadata": {},
   "source": [
    "- Date time arithmetic.  Add timedelta object onto datetime object.  This returns a new datetime object.  This is an example of duration time span as it accounts for things like leap years."
   ]
  },
  {
   "cell_type": "code",
   "execution_count": 7,
   "id": "7660de7b-6bd6-4151-9de0-3c9050dab070",
   "metadata": {},
   "outputs": [
    {
     "name": "stdout",
     "output_type": "stream",
     "text": [
      "Current date and time is: 2022-01-01 21:22:03.367231.\n",
      "4 years from now the date and time will be: 2025-12-31 21:22:03.367231.\n"
     ]
    }
   ],
   "source": [
    "dto = datetime.datetime.now()\n",
    "print(f'Current date and time is: {dto}.')\n",
    "tdo = datetime.timedelta(weeks = 0, days = 1460, hours = 0, minutes = 0, seconds = 0) \n",
    "print(f'4 years from now the date and time will be: {dto + tdo}.')"
   ]
  },
  {
   "cell_type": "markdown",
   "id": "043078d6-24cc-4986-8e10-86362c1b0c9a",
   "metadata": {},
   "source": [
    "- Attach UTC time zone data to datetime object"
   ]
  },
  {
   "cell_type": "code",
   "execution_count": 8,
   "id": "f7c6a318-a719-4468-ac42-e093332687b7",
   "metadata": {},
   "outputs": [
    {
     "name": "stdout",
     "output_type": "stream",
     "text": [
      "2022-01-02 05:22:03.382235+00:00\n",
      "UTC\n"
     ]
    }
   ],
   "source": [
    "dto_aware = datetime.datetime.now(datetime.timezone.utc)\n",
    "print(dto_aware)\n",
    "print(dto_aware.tzname())"
   ]
  },
  {
   "cell_type": "markdown",
   "id": "8f6eef7f-296e-43c5-aa2c-8ba2cf707590",
   "metadata": {},
   "source": [
    "- Attach local time zone data to datetime object"
   ]
  },
  {
   "cell_type": "code",
   "execution_count": 9,
   "id": "2974dcd5-7cd8-4310-a11c-16e82ce75539",
   "metadata": {},
   "outputs": [
    {
     "name": "stdout",
     "output_type": "stream",
     "text": [
      "2022-01-01 21:22:03.397766-08:00\n",
      "Pacific Standard Time\n"
     ]
    }
   ],
   "source": [
    "dto_aware = datetime.datetime.now().astimezone()\n",
    "print(dto_aware)\n",
    "print(dto_aware.tzname())"
   ]
  },
  {
   "cell_type": "markdown",
   "id": "df85b7a3-cd0c-4f6f-9f6f-cb56d8b0e89d",
   "metadata": {},
   "source": [
    "- Return string of current time in correct ISO 8601 format "
   ]
  },
  {
   "cell_type": "code",
   "execution_count": 10,
   "id": "be8c2449-fcd1-4066-90e9-d2440b17b578",
   "metadata": {},
   "outputs": [
    {
     "name": "stdout",
     "output_type": "stream",
     "text": [
      "2022-01-01T21:22:03.413542-08:00\n"
     ]
    }
   ],
   "source": [
    "dto_aware = datetime.datetime.now().astimezone()\n",
    "print(dto_aware.isoformat())"
   ]
  },
  {
   "cell_type": "markdown",
   "id": "a8095a4c-552f-4961-99d3-3bc5b4244d0f",
   "metadata": {},
   "source": [
    "- Schedule code to run.  Our program checks (after a few seconds of grumbling) to see if we have reach the specified datetime yet.  If we have not it puts itself back to sleep for 60 seconds.  Upon waking it repeats this process.  This code would need to always be running, which means that it will keep the ipython kernel \"busy\" until the code completes.  There are more advanced ways to schedule program runs.  I suggest running this program a few minutes in the future by changing the `.datetime()` function arguments."
   ]
  },
  {
   "cell_type": "code",
   "execution_count": 11,
   "id": "5915ad42-a130-492a-9a30-a7f81163bc1f",
   "metadata": {},
   "outputs": [
    {
     "name": "stdout",
     "output_type": "stream",
     "text": [
      "You have called upon, I, the mighty Python chronologist!\n",
      "I will track the very sands of time and run your program when you desire...\n",
      "But I may need my beauty rest first.  The sands of time are harsh on the skin after all.\n",
      "I have awakened from my mighty slumber and I look gorgeous! Your program shall run across the lands!!!\n"
     ]
    }
   ],
   "source": [
    "dto_run_at_this_time = datetime.datetime(2021, 12, 30, 14, 17)  # E.g. 2021, December 30th 2:15 PM\n",
    "\n",
    "time.sleep(2)\n",
    "print(\"You have called upon, I, the mighty Python chronologist!\")\n",
    "time.sleep(3)\n",
    "print(\"I will track the very sands of time and run your program when you desire...\")\n",
    "time.sleep(3)\n",
    "print(\"But I may need my beauty rest first.  The sands of time are harsh on the skin after all.\")\n",
    "time.sleep(3)\n",
    "\n",
    "while datetime.datetime.now() < dto_run_at_this_time:\n",
    "    print(\"*checks the mighty chronometer*\")\n",
    "    time.sleep(3)\n",
    "    print(\"Your time will come...give it a minute, will ya?\")\n",
    "    time.sleep(3)\n",
    "    print(\"*presses the mighty snooze button.*\")\n",
    "    time.sleep(3)\n",
    "    print(\"*zzzzzzzzzzzzzzzzzzzzzzzzzz*\")\n",
    "    time.sleep(60)\n",
    "print(\"I have awakened from my mighty slumber and I look gorgeous! Your program shall run across the lands!!!\")"
   ]
  },
  {
   "cell_type": "markdown",
   "id": "f5325078-2a26-4079-b7aa-cff2bc0cc991",
   "metadata": {},
   "source": [
    "---"
   ]
  },
  {
   "cell_type": "markdown",
   "id": "79d3d4b2-3415-4834-b778-debad922c01d",
   "metadata": {
    "tags": []
   },
   "source": [
    "## Zoneinfo\n",
    "- The `zoneinfo` module contains the `ZoneInfo()` function which can be used to create a ZoneInfo object that holds  IANA time zone information. \n",
    "- The ZoneInfo object can be attached to datetime objects to make them \"aware\" like we did above with the `.astimezone()` method.  The above automatically got our local time zone.  Below we'll manually define the time zone.\n",
    "- \"Datetimes constructed in this way are compatible with datetime arithmetic and handle daylight saving time transitions with no further intervention\". \n",
    "- This is NOT the case with our `.astimezone()` method above, so using the zoneinfo module is preferred if we are doing any datetime arithmetic.  We could also use UTC, which ignores time zones all together.\n",
    "\n",
    "Code | Use\n",
    "--- | ---\n",
    "`zoneinfo.available_timezones()` | Returns Python set data type of IANA time zone keys\n",
    "`zoneinfo.ZoneInfo(\"<KEY>\")` | Returns ZoneInfo object from specified IANA time zone key.  We can add this into a datetime object by using it as an argument when building that datetime object.  It goes where the tzinfo subclass object goes.  I.e. after `tz = ` or `tzinfo = `."
   ]
  },
  {
   "cell_type": "markdown",
   "id": "8374066b-3ab7-45d4-ab60-1ae6a2acb744",
   "metadata": {},
   "source": [
    "---"
   ]
  },
  {
   "cell_type": "markdown",
   "id": "47510c70-c2a0-4a5d-ad00-bfdbd4869fcd",
   "metadata": {},
   "source": [
    "**EXAMPLES**"
   ]
  },
  {
   "cell_type": "markdown",
   "id": "6e5e6707-eee9-4bd6-8096-04e217ae8dd4",
   "metadata": {},
   "source": [
    "**Note that `zoneinfo` examples will only run correctly in Python versions 3.9 and newer.  For this reason they will not currently run correctly through Binder.**"
   ]
  },
  {
   "cell_type": "code",
   "execution_count": 12,
   "id": "12f528cf-feab-402b-8112-22d04279e446",
   "metadata": {},
   "outputs": [],
   "source": [
    "import zoneinfo"
   ]
  },
  {
   "cell_type": "code",
   "execution_count": 13,
   "id": "509286c5-827b-49ab-951b-13b2c4de7f24",
   "metadata": {},
   "outputs": [
    {
     "name": "stdout",
     "output_type": "stream",
     "text": [
      "<class 'set'>\n",
      "Africa/Ceuta\n",
      "America/Indiana/Vincennes\n",
      "Africa/Khartoum\n",
      "Africa/Nairobi\n",
      "Asia/Colombo\n",
      "America/Detroit\n",
      "Asia/Kamchatka\n",
      "Etc/GMT+3\n",
      "Pacific/Niue\n",
      "Etc/GMT-1\n"
     ]
    }
   ],
   "source": [
    "s_zone_keys = zoneinfo.available_timezones()\n",
    "print(type(s_zone_keys))\n",
    "for i in range(10):\n",
    "    print(list(s_zone_keys)[i])"
   ]
  },
  {
   "cell_type": "code",
   "execution_count": 14,
   "id": "b4fe1c5e-8b8e-4b4e-81ce-96b181ce174a",
   "metadata": {},
   "outputs": [
    {
     "name": "stdout",
     "output_type": "stream",
     "text": [
      "<class 'zoneinfo.ZoneInfo'>\n",
      "America/Antigua\n"
     ]
    }
   ],
   "source": [
    "zio = zoneinfo.ZoneInfo(\"America/Antigua\")\n",
    "print(type(zio))\n",
    "print(zio)"
   ]
  },
  {
   "cell_type": "markdown",
   "id": "5e537359-9013-4606-8fb3-414f4e687a45",
   "metadata": {},
   "source": [
    "- Attach time zone data to datetime object"
   ]
  },
  {
   "cell_type": "code",
   "execution_count": 15,
   "id": "041930da-03c9-4f11-aca8-125e3cdad8b3",
   "metadata": {},
   "outputs": [
    {
     "name": "stdout",
     "output_type": "stream",
     "text": [
      "2022-01-01 21:22:14.633046-08:00\n",
      "PST\n",
      "2022-01-01T21:22:14.633046-08:00\n"
     ]
    }
   ],
   "source": [
    "dto_aware = datetime.datetime.now(tz = zoneinfo.ZoneInfo(\"US/Pacific\"))\n",
    "print(dto_aware)\n",
    "print(dto_aware.tzname())\n",
    "print(dto_aware.isoformat())"
   ]
  },
  {
   "cell_type": "markdown",
   "id": "314e6ced-8bd1-4742-91da-ef0a9ee477db",
   "metadata": {},
   "source": [
    "- When we use the zoneinfo objects to create aware datetime objects it is compatible with datetime arithmetic and handles daylight saving time correctly.  We choose two dates. October 31, 2020 which is is Pacific Daylight Time and November 1, 2020 which is the day we switch back to Pacific Standard Time.  We'll first show an example of this NOT working correctly and then show it working correctly."
   ]
  },
  {
   "cell_type": "code",
   "execution_count": 16,
   "id": "b78adccc-d383-465c-95fb-a6d6fd146ef0",
   "metadata": {},
   "outputs": [
    {
     "name": "stdout",
     "output_type": "stream",
     "text": [
      "2020-10-31 12:00:00-07:00\n",
      "Pacific Daylight Time\n",
      "2020-11-01 12:00:00-07:00\n",
      "Pacific Daylight Time\n"
     ]
    }
   ],
   "source": [
    "dto_aware = datetime.datetime(2020, 10, 31, 12).astimezone()  # astimezone() used\n",
    "print(dto_aware)\n",
    "print(dto_aware.tzname())\n",
    "dto_add = dto_aware + datetime.timedelta(days=1)\n",
    "print(dto_add)  # Should be -08:00\n",
    "print(dto_add.tzname())  # Should be Pacific Standard Time"
   ]
  },
  {
   "cell_type": "code",
   "execution_count": 17,
   "id": "3cbee8cb-981b-4345-81c2-0ed125803792",
   "metadata": {},
   "outputs": [
    {
     "name": "stdout",
     "output_type": "stream",
     "text": [
      "2020-10-31 12:00:00-07:00\n",
      "PDT\n",
      "2020-11-01 12:00:00-08:00\n",
      "PST\n"
     ]
    }
   ],
   "source": [
    "dto_aware = datetime.datetime(2020, 10, 31, 12, tzinfo = zoneinfo.ZoneInfo(\"US/Pacific\"))\n",
    "print(dto_aware)\n",
    "print(dto_aware.tzname())\n",
    "dto_add = dto_aware + datetime.timedelta(days=1)\n",
    "print(dto_add)\n",
    "print(dto_add.tzname())"
   ]
  },
  {
   "cell_type": "markdown",
   "id": "02ca24c6-a474-4ba4-a38e-791d516271ac",
   "metadata": {},
   "source": [
    "---"
   ]
  }
 ],
 "metadata": {
  "kernelspec": {
   "display_name": "Python 3 (ipykernel)",
   "language": "python",
   "name": "python3"
  },
  "language_info": {
   "codemirror_mode": {
    "name": "ipython",
    "version": 3
   },
   "file_extension": ".py",
   "mimetype": "text/x-python",
   "name": "python",
   "nbconvert_exporter": "python",
   "pygments_lexer": "ipython3",
   "version": "3.9.9"
  }
 },
 "nbformat": 4,
 "nbformat_minor": 5
}
