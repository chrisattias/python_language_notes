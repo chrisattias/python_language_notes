{
 "cells": [
  {
   "cell_type": "markdown",
   "id": "ba4caa7e-230d-4b0b-b898-b237da4bd966",
   "metadata": {
    "tags": []
   },
   "source": [
    "# Coding Best Practices\n",
    "- What constitutes \"good\" and \"bad\" code is somewhat subjective, but there commonly agreed upon coding practices that fall into both categories\n",
    "- This section is divided into 4 parts:\n",
    "    1. Code Smell (bad code)\n",
    "    1. Pythonic Code (good code)\n",
    "    1. General Reminders\n",
    "    1. Tips for Functions"
   ]
  },
  {
   "cell_type": "markdown",
   "id": "bb16a8bc-dafa-4dbb-8b85-1c08511da082",
   "metadata": {},
   "source": [
    "---"
   ]
  },
  {
   "cell_type": "markdown",
   "id": "d42385de-6eb1-4635-b245-d48310d5d51c",
   "metadata": {},
   "source": [
    "## Code Smell\n",
    "- The smell of mercaptan (added to natural gas) can help people identify a gas leak before something blows up\n",
    "- The smell of bad code can help people identify problems in code before their code blows up\n",
    "- **Code smell**--bad coding practice that could potentially lead to a bug\n",
    "\n",
    "**CODE SMELLS**\n",
    "\n",
    "1. **Duplicate code**--if there are duplicate chunks of the same code it is tedious to edit because we must perform the same edit on multiple chunks.  We can deduplicate by placing chunks inside functions or adding looping structures.  The longer the code chunks or the more the chunk is repeated, the smellier the code.\n",
    "\n",
    "1. **Magic numbers**--numbers within code can be mysterious (*like magic!*) if there is no explanation for why they are chosen.  It is good practice to add a comment.  If the number should not be modified, it can be written in the form of a constant.  To do this place an assign statement near the top of the script.  Assign that number to a variable that uses all uppercase letters with underscores as needed.  Other data types can also be made into constants in the same way.  This is not an official \"constant object\". It is a normal assignment statement, but the all caps name is a hint to other programmers that the variable should not be modified.\n",
    "\n",
    "1. **Commented out code**--commenting out code can be used for debugging.  If commented out code is left in other readers may wonder if/when the code should ever be used.  Commented out code should be removed.\n",
    "\n",
    "1. **Dead code**--dead code is code that will never actually run because of the the structure of the script.  E.g. function definition if function is never called or lines of code below a return statement in a function definition.\n",
    "\n",
    "1. **Print debugging**--print debugging is when we temporarily place print statements into code to display what variables contain.  This is good for very short scripts to help see what variables may be contributing to bugs.  The practice is considered a code smell because when used in longer scripts it can be tedious to remove them and it is easy to accidentally leave them in.  Instead, debuggers can be used to view variable contents and data types.  Loggers can be used to record information onscreen or to a file.  Logs can be customized to include variable contents and data types.\n",
    "\n",
    "1.  **Variables with numeric suffixes**-- variables like `password1`, `password2`, `password3` are differentiated by numbers, but it is unclear what these numbers mean.  Instead, use descriptive variable names.  These situations might also call for a looping structure.\n",
    "\n",
    "1. **Classes that should just be functions or modules**--in some other programming languages, functions must be written within a class definition.  In Python it is often simpler to just create a function definition within a module and avoid an extra, unneeded, class definition.  That being said, if there are many user defined functions that all work on the same data type, it can be helpful to make that data type a class and turn those functions into class methods.\n",
    "\n",
    "1. **List comprehensions within list comprehensions**--when a comprehension is placed within another comprehension it becomes hard to comprehend. Similarly, it is possible for a single comprehension to include two for statements within it.  This is hard to comprehend.  In both circumstances it would be better to use 1 for loop and 1 comprehension.  Alternatively, we could use 2 for loops, or even generator objects.\n",
    "\n",
    "1. **Empty except blocks and poor error messages**--except blocks can be empty (only have pass statement) to prevent an exception from being raised.  This likely only temporarily hides a problem instead of addressing it.  Except statements may also have bare excepts that are not tailored to any specific problem.  Instead, we should avoid bare excepts, tailor except statements to the problem at hand, and provide a detailed message to the user that explains how they can fix the problem.\n",
    "\n",
    "**CODE SMELL MYTHS**\n",
    "\n",
    "- There are a few code smell myths.  These are fine to do and can be ignored:\n",
    "1. **Myth: functions should have only one return statement at the end.** Myth comes from FORTRAN language in which functions were supposed to have \"one entry, one exit\".\n",
    "\n",
    "1. **Myth: flag arguments are bad**.  Flag arguments are binary parameters in a function that are often specified using Boolean values.  Functions are supposed to only do one thing.  Flag values could allow functions to do multiple, unrelated things.  In reality, most flag values simply tweak the function's purpose slightly like any other  function argument.\n",
    "    - E.g. in `sorted([1,4,2], reverse=True)`, `reverse=True` is a flag argument\n",
    "    \n",
    "1. **Myth: functions should have at most one try statement.**  Some say that try except blocks of code should be made into their own local function and be called within an enclosing function.  However, this leads to unnecessary complexity.\n",
    "\n",
    "1. **Myth: global variables are bad.**  This is only half true.  Global variables are often bad.  This is because every global variable effectively becomes an argument for functions in the future.  More arguments mean more complexity and bugs.  It can be hard to track down where global variables are set and understand why they have the values they do.  The exceptions to the rule are global variables that represent constants.  These are often placed at the top of a script.  Because they are assigned right away and never changed, they are unlikely to be the cause of any bugs.\n",
    "\n",
    "1. **Myth: comments are unnecessary.**  Use comments that explain the \"why\" of code."
   ]
  },
  {
   "cell_type": "markdown",
   "id": "a9e66bdd-d263-4230-9998-22d752c19205",
   "metadata": {},
   "source": [
    "---"
   ]
  },
  {
   "cell_type": "markdown",
   "id": "e6f98050-b19a-4066-9aa6-fb811a172249",
   "metadata": {},
   "source": [
    "**EXAMPLES**"
   ]
  },
  {
   "cell_type": "markdown",
   "id": "5499c6d3-c04f-43ab-94a1-ef4c5cf90234",
   "metadata": {},
   "source": [
    "**Duplicate Code**"
   ]
  },
  {
   "cell_type": "markdown",
   "id": "f92d6430-af4a-491a-941b-13bef0f0f9ca",
   "metadata": {},
   "source": [
    "- Original duplicate code"
   ]
  },
  {
   "cell_type": "code",
   "execution_count": 1,
   "id": "6d5262f4-c5ac-4fbd-aae6-528c7e0e7245",
   "metadata": {},
   "outputs": [
    {
     "name": "stdout",
     "output_type": "stream",
     "text": [
      "Hello World!\n",
      "What is your astrological sign?\n",
      "Hello Moon!\n",
      "What is your astrological sign?\n",
      "Hello Sun!\n",
      "What is your astrological sign?\n"
     ]
    }
   ],
   "source": [
    "print('Hello World!')\n",
    "print('What is your astrological sign?')\n",
    "\n",
    "print('Hello Moon!')\n",
    "print('What is your astrological sign?')\n",
    "\n",
    "print('Hello Sun!')\n",
    "print('What is your astrological sign?')"
   ]
  },
  {
   "cell_type": "markdown",
   "id": "35b8c25e-9033-44aa-bcb0-0bcf09fce32c",
   "metadata": {},
   "source": [
    "- Function definition"
   ]
  },
  {
   "cell_type": "code",
   "execution_count": 2,
   "id": "19a13ff9-1ee9-4147-847e-af99d7a08f80",
   "metadata": {},
   "outputs": [
    {
     "name": "stdout",
     "output_type": "stream",
     "text": [
      "Hello World!\n",
      "What is your astrological sign?\n",
      "Hello Moon!\n",
      "What is your astrological sign?\n",
      "Hello Sun!\n",
      "What is your astrological sign?\n"
     ]
    }
   ],
   "source": [
    "def salutation(subject):\n",
    "    print(f'Hello {subject}!')\n",
    "    print('What is your astrological sign?')\n",
    "salutation('World')\n",
    "salutation('Moon')\n",
    "salutation('Sun')"
   ]
  },
  {
   "cell_type": "markdown",
   "id": "04eefc97-05d1-423c-a6dd-531c53fc40de",
   "metadata": {},
   "source": [
    "- Loop"
   ]
  },
  {
   "cell_type": "code",
   "execution_count": 3,
   "id": "5ffa8e11-80ed-4a4b-9512-9acb00ddc903",
   "metadata": {},
   "outputs": [
    {
     "name": "stdout",
     "output_type": "stream",
     "text": [
      "Hello World!\n",
      "What is your astrological sign?\n",
      "Hello Moon!\n",
      "What is your astrological sign?\n",
      "Hello Sun!\n",
      "What is your astrological sign?\n"
     ]
    }
   ],
   "source": [
    "for subject in ['World', 'Moon', 'Sun']:\n",
    "    print(f'Hello {subject}!')\n",
    "    print('What is your astrological sign?')"
   ]
  },
  {
   "cell_type": "markdown",
   "id": "212be68f-b01b-4373-9c8c-0c234d7d4a4f",
   "metadata": {},
   "source": [
    "- Function definition and loop"
   ]
  },
  {
   "cell_type": "code",
   "execution_count": 4,
   "id": "89158a7f-3fd0-4510-8e31-0c8eeb06f874",
   "metadata": {},
   "outputs": [
    {
     "name": "stdout",
     "output_type": "stream",
     "text": [
      "Hello World!\n",
      "What is your astrological sign?\n",
      "Hello Moon!\n",
      "What is your astrological sign?\n",
      "Hello Sun!\n",
      "What is your astrological sign?\n"
     ]
    }
   ],
   "source": [
    "def salutation(subject):\n",
    "    print(f'Hello {subject}!')\n",
    "    print('What is your astrological sign?')\n",
    "for subject in ['World', 'Moon', 'Sun']:\n",
    "    salutation(subject)"
   ]
  },
  {
   "cell_type": "markdown",
   "id": "560340cc-5b63-457d-a90b-1d2fbef0c66e",
   "metadata": {},
   "source": [
    "**Magic Numbers**"
   ]
  },
  {
   "cell_type": "code",
   "execution_count": 5,
   "id": "2c3b372d-9038-4e46-902a-29214cfe9c8c",
   "metadata": {},
   "outputs": [],
   "source": [
    "SECONDS_IN_YEAR = 31536000\n",
    "SUMMER_MONTHS = ['June', 'July', 'August'] "
   ]
  },
  {
   "cell_type": "markdown",
   "id": "7e1c9c00-da62-477d-9a49-1432c86b2424",
   "metadata": {},
   "source": [
    "**Dead Code**"
   ]
  },
  {
   "cell_type": "code",
   "execution_count": 6,
   "id": "cd1567f3-0cfc-4543-ae46-f292447345b0",
   "metadata": {},
   "outputs": [
    {
     "data": {
      "text/plain": [
       "'Hello World!'"
      ]
     },
     "execution_count": 6,
     "metadata": {},
     "output_type": "execute_result"
    }
   ],
   "source": [
    "def salutation(subject):\n",
    "    return f'Hello {subject}!'\n",
    "    return 'What is your astrological sign?'  # Dead code.  Should be deleted.\n",
    "salutation(\"World\")"
   ]
  },
  {
   "cell_type": "markdown",
   "id": "5c1a5534-7e4d-4dbe-aedf-5677b9d4f6b2",
   "metadata": {},
   "source": [
    "**Numerical Suffixes**\n",
    "\n",
    "- Instead of using numerical suffixes to differentiate values, we can store the values in a collection"
   ]
  },
  {
   "cell_type": "markdown",
   "id": "974ca112-f581-43d9-98cb-7c31eacca850",
   "metadata": {},
   "source": [
    "- Original numerical suffixes"
   ]
  },
  {
   "cell_type": "code",
   "execution_count": 7,
   "id": "12156d88-0ec0-4bd9-ad0a-a0672fc02201",
   "metadata": {},
   "outputs": [
    {
     "name": "stdout",
     "output_type": "stream",
     "text": [
      "password\n",
      "123456\n",
      "111111\n"
     ]
    }
   ],
   "source": [
    "password1 = \"password\"\n",
    "password2 = \"123456\"\n",
    "password3 = \"111111\"\n",
    "print(password1)\n",
    "print(password2)\n",
    "print(password3)"
   ]
  },
  {
   "cell_type": "markdown",
   "id": "87cb5a58-9d8e-4962-ab2c-960ed1b13a71",
   "metadata": {},
   "source": [
    "- Collection"
   ]
  },
  {
   "cell_type": "code",
   "execution_count": 8,
   "id": "235916e7-984f-4d36-a13f-9c59942f3870",
   "metadata": {},
   "outputs": [
    {
     "name": "stdout",
     "output_type": "stream",
     "text": [
      "password\n",
      "123456\n",
      "111111\n"
     ]
    }
   ],
   "source": [
    "passwords = (\"password\", \"123456\", \"111111\")\n",
    "for password in passwords:\n",
    "    print(password)"
   ]
  },
  {
   "cell_type": "markdown",
   "id": "c7fe09ac-97d9-4e2c-8f5e-bdbf7dd07b89",
   "metadata": {},
   "source": [
    "**Unnecessary Classes**"
   ]
  },
  {
   "cell_type": "markdown",
   "id": "d8afa35f-4eb2-45d7-ba3a-48445982e7a6",
   "metadata": {},
   "source": [
    "- Original class and method"
   ]
  },
  {
   "cell_type": "code",
   "execution_count": 9,
   "id": "fcddf36b-4921-4285-8071-da3980aec714",
   "metadata": {},
   "outputs": [
    {
     "name": "stdout",
     "output_type": "stream",
     "text": [
      "6\n"
     ]
    }
   ],
   "source": [
    "class Dice:\n",
    "    def __init__(self):\n",
    "        self.sides = 6\n",
    "    def roll(self):\n",
    "        import random\n",
    "        return random.randint(1, self.sides)\n",
    "dice_object = Dice()\n",
    "print(dice_object.roll())"
   ]
  },
  {
   "cell_type": "markdown",
   "id": "db5eb8cb-2c71-4f0c-8460-1edd806e13e1",
   "metadata": {},
   "source": [
    "- Turned into a function"
   ]
  },
  {
   "cell_type": "code",
   "execution_count": 10,
   "id": "4cb8ad5b-0835-466d-a74e-00eaaa19bced",
   "metadata": {},
   "outputs": [
    {
     "name": "stdout",
     "output_type": "stream",
     "text": [
      "6\n"
     ]
    }
   ],
   "source": [
    "def roll():\n",
    "    import random\n",
    "    return random.randint(1, 6)\n",
    "print(roll())"
   ]
  },
  {
   "cell_type": "markdown",
   "id": "c30d4f59-42c2-4e91-9014-4a5ec270349d",
   "metadata": {},
   "source": [
    "**Nested Comprehensions**"
   ]
  },
  {
   "cell_type": "markdown",
   "id": "1d185463-0948-4247-b8e6-34b1f81adbc0",
   "metadata": {},
   "source": [
    "- Original nested comprehensions"
   ]
  },
  {
   "cell_type": "code",
   "execution_count": 11,
   "id": "c49813a2-cf68-4745-a35d-627582aeea54",
   "metadata": {},
   "outputs": [
    {
     "name": "stdout",
     "output_type": "stream",
     "text": [
      "[['a', 'b'], [1, 2, 3]]\n"
     ]
    }
   ],
   "source": [
    "outer_list = [['a', 'b'], [1, 2, 3]]\n",
    "new_outer = [[j for j in inner_list] for inner_list in outer_list]\n",
    "print(new_outer)"
   ]
  },
  {
   "cell_type": "markdown",
   "id": "c9e8084b-0b4e-44ca-865f-3bfbc911f437",
   "metadata": {},
   "source": [
    "- 1 for loop and 1 comprehension"
   ]
  },
  {
   "cell_type": "code",
   "execution_count": 12,
   "id": "9549e6c1-600e-4e09-86c7-4344c9c4ed13",
   "metadata": {},
   "outputs": [
    {
     "name": "stdout",
     "output_type": "stream",
     "text": [
      "[['a', 'b'], [1, 2, 3]]\n"
     ]
    }
   ],
   "source": [
    "outer_list = [['a', 'b'], [1, 2, 3]]\n",
    "new_outer = []\n",
    "for inner_list in outer_list:\n",
    "    new_outer.append([j for j in inner_list])\n",
    "print(new_outer)"
   ]
  },
  {
   "cell_type": "markdown",
   "id": "ad1ab66f-8692-49fc-9952-ae81b5508044",
   "metadata": {},
   "source": [
    "- 2 for loops"
   ]
  },
  {
   "cell_type": "code",
   "execution_count": 13,
   "id": "12d6ef69-26fb-44db-a513-1f2efb9b970e",
   "metadata": {},
   "outputs": [
    {
     "name": "stdout",
     "output_type": "stream",
     "text": [
      "[['a', 'b'], [1, 2, 3]]\n"
     ]
    }
   ],
   "source": [
    "outer_list = [['a', 'b'], [1, 2, 3]]\n",
    "new_outer = []\n",
    "for inner_list in outer_list:\n",
    "    new_inner = []\n",
    "    for j in inner_list:\n",
    "        new_inner.append(j)\n",
    "    new_outer.append(new_inner)\n",
    "print(new_outer)"
   ]
  },
  {
   "cell_type": "markdown",
   "id": "b3c880f8-703f-4c50-bc48-6932fa67ee80",
   "metadata": {},
   "source": [
    "- Comprehension with 2 for statements to flatten list"
   ]
  },
  {
   "cell_type": "code",
   "execution_count": 14,
   "id": "f657dc36-c419-47c6-bdcb-06298941cf08",
   "metadata": {},
   "outputs": [
    {
     "name": "stdout",
     "output_type": "stream",
     "text": [
      "['a', 'b', 1, 2, 3]\n"
     ]
    }
   ],
   "source": [
    "outer_list = [['a', 'b'], [1, 2, 3]]\n",
    "flat_list = [j for inner_list in outer_list for j in inner_list]\n",
    "print(flat_list)"
   ]
  },
  {
   "cell_type": "markdown",
   "id": "8f7102ce-a9f4-43af-8763-d8846bcd0c95",
   "metadata": {},
   "source": [
    "- 2 for loops to flatten list"
   ]
  },
  {
   "cell_type": "code",
   "execution_count": 15,
   "id": "f082ba0d-1430-4694-8482-6865448a6183",
   "metadata": {},
   "outputs": [
    {
     "name": "stdout",
     "output_type": "stream",
     "text": [
      "['a', 'b', 1, 2, 3]\n"
     ]
    }
   ],
   "source": [
    "outer_list = [['a', 'b'], [1, 2, 3]]\n",
    "flat_list = []\n",
    "for inner_list in outer_list:\n",
    "    for j in inner_list:\n",
    "        flat_list.append(j)\n",
    "print(flat_list)"
   ]
  },
  {
   "cell_type": "markdown",
   "id": "884cad22-53a0-4cf0-9c0d-b3a1800637d7",
   "metadata": {},
   "source": [
    "---"
   ]
  },
  {
   "cell_type": "markdown",
   "id": "06a413eb-ed10-4ad2-9379-b564a24e805b",
   "metadata": {},
   "source": [
    "## Pythonic Code\n",
    "- **Pythonic**--good Python coding practices\n",
    "- *The Zen of Python* lays out aphorisms for writing Pythonic code"
   ]
  },
  {
   "cell_type": "markdown",
   "id": "8fe8fba2-d587-443a-9836-7b50ff818cee",
   "metadata": {},
   "source": [
    "1. Use `enumerate()` instead of `range(len())` to return both an index position and its associated item in a for loop. See *For Loops* section for examples.\n",
    "\n",
    "1. Use the context manager instead of `open()` and `close()`.  If we use `open()` to open a file we later need to use  `close()` to close it to prevent errors.  It is easy to forget to always close it when there are many conditional statements. Additionally, if any exception is raised after the file is opened and before the file is closed the file stays open, which can lead to errors.  Instead, use \"context manager\" `with open()` statements. See *Read and Write* section for examples.\n",
    "1. Use `is` to compare with `None` instead of `==`.  See *Identity Operator* for examples.\n",
    "1. Use f-strings.  See *String Formatting* section for examples.\n",
    "1. Use raw strings if our string has many backslashes instead of escaping with `\\\\`.  See *Raw Strings* section for examples.\n",
    "1. Use shallow copy function to explicitly copy collection instead of slicing an entire collection with `[:]`.  Though they do the same thing, when `[:]` is used it is not clear to the reader that a shallow copy is being created.  See *References and Copies* section for more information on shallow and deep copies.\n",
    "1. Use the dictionary methods `.get()` and `.setdefault()` instead of if statements. Normally, we'd need to use an if statement to check if key in dictionary before accessing it with `[key]` to avoid `KeyError` exception.  `.get()` or `.setdefault()` allows us to skip using if-then statements.  See *Dictionary* sections for examples.\n",
    "1. Use collections module and `collections.defaultdict()` to set many default dictionary key values.  The dictionary method `.setdefault()` does this, but it can be tedious if we need to do this for every key.  Argument is data type.  `int` uses `0` as default. `float` uses `0.0` as default.  `str` uses `\"\"` as default.  Collections use empty collections.  E.g. `list` uses `[]`.\n",
    "1. \"Switch\" statements and dictionaries.  \"Switch\" statements are if-elif-else statements used for variable assignments.  These are Pythonic, but verbose.  Another way to retrieve a value based on a name is using a dictionary.  This is less clear, but more concise.  Either grammar can be used.\n",
    "1. \"Ternary\" Operator-- if-else statements used for variable assignment (similar to \"switch\").  Ternary means three.  However, in programming it is synonymous with conditional expressions.  Instead of the standard, multi-lined if-else statement, \"ugly\" one line ternary statements can be used.  Ternary statements were introduced in Python because programmers were using an even worse short-circuit evaluation that could lead to bugs.  Variable assignment in multi-line if-else statements is by far easiest to read, ternary statements are concise but hard to read, and short-circuit should not be used as it can introduce bugs.\n",
    "1. Use chaining assignments and comparison operators instead of `and` operator\n",
    "1. Use `in` instead of multiple or-equals statements."
   ]
  },
  {
   "cell_type": "markdown",
   "id": "2486a0a2-4b1c-4a5d-be0b-8d983f1345e9",
   "metadata": {},
   "source": [
    "---"
   ]
  },
  {
   "cell_type": "markdown",
   "id": "f6ea925c-0fb8-4654-b579-dba6b72ab46a",
   "metadata": {},
   "source": [
    "**EXAMPLES**"
   ]
  },
  {
   "cell_type": "code",
   "execution_count": 16,
   "id": "7cdd9718-d07d-4762-975a-70cc3bd18fbd",
   "metadata": {},
   "outputs": [],
   "source": [
    "import collections"
   ]
  },
  {
   "cell_type": "markdown",
   "id": "99bde97a-8ba3-4723-a6fe-39577fbe46e3",
   "metadata": {},
   "source": [
    "**`collections.defaultdict()`**"
   ]
  },
  {
   "cell_type": "code",
   "execution_count": 17,
   "id": "ee026aa3-af65-453a-a2fb-9c7c1681e567",
   "metadata": {},
   "outputs": [
    {
     "name": "stdout",
     "output_type": "stream",
     "text": [
      "0\n",
      "0\n",
      "0\n"
     ]
    }
   ],
   "source": [
    "my_dict = {}\n",
    "print(my_dict.setdefault(\"key1\", 0))\n",
    "print(my_dict.setdefault(\"key2\", 0))\n",
    "print(my_dict.setdefault(\"key3\", 0))"
   ]
  },
  {
   "cell_type": "code",
   "execution_count": 18,
   "id": "807279e0-a9d5-4a4f-8649-69b5c38b5cb4",
   "metadata": {},
   "outputs": [
    {
     "name": "stdout",
     "output_type": "stream",
     "text": [
      "0\n",
      "0\n",
      "0\n"
     ]
    }
   ],
   "source": [
    "my_dict = collections.defaultdict(int)\n",
    "print(my_dict[\"key1\"])\n",
    "print(my_dict[\"key2\"])\n",
    "print(my_dict[\"key3\"])"
   ]
  },
  {
   "cell_type": "markdown",
   "id": "705bac8b-5691-4612-b170-f63143bef81f",
   "metadata": {},
   "source": [
    "**Switch statements and dictionaries**\n",
    "\n",
    "- The first example is a \"switch\" statement that conditionally assigns values to variables\n",
    "- The second example uses keys in a dictionary to retrieve values"
   ]
  },
  {
   "cell_type": "code",
   "execution_count": 19,
   "id": "1b227b86-9f39-4a89-a8d7-2e5323129379",
   "metadata": {},
   "outputs": [
    {
     "name": "stdout",
     "output_type": "stream",
     "text": [
      "Halloween\n"
     ]
    }
   ],
   "source": [
    "season = \"Fall\"\n",
    "if season == \"Winter\":\n",
    "    holiday = \"New Year's Day\"\n",
    "elif season == \"Spring\":\n",
    "    holiday = \"May Day\"\n",
    "elif season == \"Summer\":\n",
    "    holiday = \"Juneteenth\"\n",
    "elif season == \"Fall\":\n",
    "    holiday = \"Halloween\"\n",
    "else:\n",
    "    holiday = \"Personal Day\"\n",
    "print(holiday)"
   ]
  },
  {
   "cell_type": "code",
   "execution_count": 20,
   "id": "df992828-6a20-4fc2-bd88-00c2f2e826a1",
   "metadata": {},
   "outputs": [
    {
     "name": "stdout",
     "output_type": "stream",
     "text": [
      "Halloween\n",
      "Personal Day\n"
     ]
    }
   ],
   "source": [
    "my_dict = {\n",
    "    \"Winter\": \"New Year's Day\",\n",
    "    \"Spring\": \"May Day\",\n",
    "    \"Summer\": \"Juneteenth\",\n",
    "    \"Fall\": \"Halloween\"}\n",
    "print(my_dict[\"Fall\"])\n",
    "print(my_dict.get(\"Other Season\", \"Personal Day\"))  # Like else statement above"
   ]
  },
  {
   "cell_type": "markdown",
   "id": "fced397f-cdd8-4cc6-ac09-9a3cdaf0401f",
   "metadata": {},
   "source": [
    "**Ternary**\n",
    "- The first example is a standard multi-line if-else assignment statement\n",
    "- The second example is a ternary operator assignment statement\n",
    "- The third example is a short-circuit evaluation assignment statement\n",
    "- The fourth example is a buggy short-circuit evaluation assignment statement.  If the value for True is a\"falsey\" value (False, None, 0, 0.0, \"\", [], etc.) then the condition would evaluate as False.  This would likely not be the intended code outcome."
   ]
  },
  {
   "cell_type": "code",
   "execution_count": 21,
   "id": "fd4a8fcd-be82-4bbd-ad69-e9b19a7ff2a9",
   "metadata": {},
   "outputs": [
    {
     "name": "stdout",
     "output_type": "stream",
     "text": [
      "Value when true\n"
     ]
    }
   ],
   "source": [
    "x = 0\n",
    "if x < 1:\n",
    "    my_variable = \"Value when true\"\n",
    "else:\n",
    "    my_variable = \"Value when false\"\n",
    "print(my_variable)"
   ]
  },
  {
   "cell_type": "code",
   "execution_count": 22,
   "id": "05bca2a6-8527-4095-86a8-98c3da2d907d",
   "metadata": {},
   "outputs": [
    {
     "name": "stdout",
     "output_type": "stream",
     "text": [
      "Value when true\n"
     ]
    }
   ],
   "source": [
    "x = 0\n",
    "my_variable = \"Value when true\" if x < 1 else \"Value when false\"\n",
    "print(my_variable)"
   ]
  },
  {
   "cell_type": "code",
   "execution_count": 23,
   "id": "62514515-e720-449b-8d26-09b1aed016ba",
   "metadata": {},
   "outputs": [
    {
     "name": "stdout",
     "output_type": "stream",
     "text": [
      "Value when true\n"
     ]
    }
   ],
   "source": [
    "x = 0\n",
    "my_variable = x < 1 and \"Value when true\" or \"Value when false\"\n",
    "print(my_variable)"
   ]
  },
  {
   "cell_type": "code",
   "execution_count": 24,
   "id": "99daa0f8-8a65-44eb-9d1b-fccd7abb7182",
   "metadata": {},
   "outputs": [
    {
     "name": "stdout",
     "output_type": "stream",
     "text": [
      "Value when false\n"
     ]
    }
   ],
   "source": [
    "x = 0\n",
    "my_variable =  x < 1 and x or \"Value when false\"\n",
    "print(my_variable)"
   ]
  },
  {
   "cell_type": "markdown",
   "id": "99bae6b0-64eb-4ba2-ae60-54c8bcd7adf5",
   "metadata": {},
   "source": [
    "**Chaining Operators and Assignments**\n",
    "\n",
    "- The first example shows an unpythonic `and` operator\n",
    "- The second example shows pythonic chaining comparison operators\n",
    "- The third example shows an unpythonic `and` operator\n",
    "- The fourth example shows pythonic chaining assignment and equality operators"
   ]
  },
  {
   "cell_type": "code",
   "execution_count": 25,
   "id": "db6d8882-96f8-48ff-bd9a-ac2b6abe6296",
   "metadata": {},
   "outputs": [
    {
     "name": "stdout",
     "output_type": "stream",
     "text": [
      "Conditions true\n"
     ]
    }
   ],
   "source": [
    "x = 0\n",
    "if x < 5 and x > -1:\n",
    "    print(\"Conditions true\")"
   ]
  },
  {
   "cell_type": "code",
   "execution_count": 26,
   "id": "defd75a8-6674-43a7-9427-9f35e78cddb1",
   "metadata": {},
   "outputs": [
    {
     "name": "stdout",
     "output_type": "stream",
     "text": [
      "Conditions true\n"
     ]
    }
   ],
   "source": [
    "x = 0\n",
    "if -1 < x < 5:\n",
    "    print(\"Conditions true\")"
   ]
  },
  {
   "cell_type": "code",
   "execution_count": 27,
   "id": "83295fdb-a84d-4126-86bd-e10306daf13a",
   "metadata": {},
   "outputs": [
    {
     "name": "stdout",
     "output_type": "stream",
     "text": [
      "Conditions true\n"
     ]
    }
   ],
   "source": [
    "x = y = z = 0\n",
    "if x == y and x == z:\n",
    "    print(\"Conditions true\")"
   ]
  },
  {
   "cell_type": "code",
   "execution_count": 28,
   "id": "c9f66399-e538-4741-8f9f-785d4083001d",
   "metadata": {},
   "outputs": [
    {
     "name": "stdout",
     "output_type": "stream",
     "text": [
      "Conditions true\n"
     ]
    }
   ],
   "source": [
    "x = y = z = 0\n",
    "if x == y == z:\n",
    "    print(\"Conditions true\")"
   ]
  },
  {
   "cell_type": "markdown",
   "id": "6e0cf5c5-4384-4ae5-9c5d-b48f680aaee8",
   "metadata": {},
   "source": [
    "**`in`**\n",
    "\n",
    "- The first example shows unpythonic `or` statements\n",
    "- The second example shows a pythonic `in` statement"
   ]
  },
  {
   "cell_type": "code",
   "execution_count": 29,
   "id": "80f1b3e7-f93f-4c6f-a93b-c36e09454488",
   "metadata": {},
   "outputs": [
    {
     "name": "stdout",
     "output_type": "stream",
     "text": [
      "It's a match\n"
     ]
    }
   ],
   "source": [
    "my_string = \"c\"\n",
    "if my_string == \"a\" or my_string == 'b'  or my_string == 'c':\n",
    "    print(\"It's a match\")  "
   ]
  },
  {
   "cell_type": "code",
   "execution_count": 30,
   "id": "a30a4851-1d10-4906-bfb9-756b984c011a",
   "metadata": {},
   "outputs": [
    {
     "name": "stdout",
     "output_type": "stream",
     "text": [
      "It's a match\n"
     ]
    }
   ],
   "source": [
    "my_string = \"c\"\n",
    "if my_string in (\"a\", \"b\", \"c\"):\n",
    "    print(\"It's a match\")  "
   ]
  },
  {
   "cell_type": "markdown",
   "id": "f4ade4df-1743-4069-a10e-6baf1aec2a14",
   "metadata": {},
   "source": [
    "---"
   ]
  },
  {
   "cell_type": "markdown",
   "id": "1c3850ce-087b-4b7d-9327-659eaeb2e53b",
   "metadata": {},
   "source": [
    "## General Reminders\n",
    "1. Don't add or delete items from a list while looping over that same list.  This changes the index positions of items between iterations and can lead to bugs.  Note that it is perfectly fine to modify/edit items in place with a loop as this does not affect the index positions.\n",
    "    - Instead of adding:\n",
    "        1. Create new empty list\n",
    "        1. For loop that iterates over original list and appends new items to new list\n",
    "        1. Extend original list with new list\n",
    "    - Instead of deleting:\n",
    "        1. Create new empty list\n",
    "        1. For loop that iterates over original list and appends only the items we want to keep to new list\n",
    "        1. Reassign new list to original variable name\n",
    "1. Don't copy mutable values without `copy.copy()` and `copy.deppcopy()`.  See *References* section for more detail.\n",
    "1. Don't use mutable objects for default arguments in function definitions.  This means that we should not use lists, sets, or dictionaries as default arguments.  Because they are mutable, they can be changed during a function call.  The next time that function is run the default argument would be changed and we'd get unexpected results.\n",
    "1. Don't use for loops and string concatenation or string formatting to create new strings.  Instead, append to a list and then join list.  This increases speed.  The more iterations the more it matters.\n",
    "1. Don't expect `sort()` to sort alphabetically.  It sorts ASCIIbetically.  To sort alphabetically, use the argument `key=str.lower`.  See *ASCII and Unicode* section for more information.\n",
    "1. Don't assume floating point numbers are perfectly accurate.  See *Floating Point* section for details.\n",
    "1. Don't chain `!=` operator together.  They do something unexpected.\n",
    "1. Don't forget the comma in single-item tuples.  With no comma, no tuple data type.\n",
    "1. Don't use `++` or `--`.  Unlike some languages, Python does not have this syntax.  These would act as double positive signs and double negative signs.\n",
    "1. Don't use `all()` on an empty collection.  The `all()` function inputs a collection and returns `True` if there are no falsey values in that collection.  If there are no values at all it also returns `True`.  This may be an unexpected result.\n",
    "1. Don't use `True` and `False` for mathematics.  Boolean values are a subclass of int and and `True` actually evaluates to 1 while `False` evaluates to 0.  Convert these to integers explicitly to write clear code.\n",
    "1. Don't chain multiple, different types of operators together"
   ]
  },
  {
   "cell_type": "markdown",
   "id": "b66cc9f8-a82c-41d1-91e8-db45482e7b55",
   "metadata": {},
   "source": [
    "---"
   ]
  },
  {
   "cell_type": "markdown",
   "id": "c020853f-6f24-4687-94d0-ec7838e1249e",
   "metadata": {},
   "source": [
    "**EXAMPLES**"
   ]
  },
  {
   "cell_type": "code",
   "execution_count": 31,
   "id": "836623ae-d91d-4718-a9b2-a7db707cdae7",
   "metadata": {},
   "outputs": [],
   "source": [
    "import time"
   ]
  },
  {
   "cell_type": "markdown",
   "id": "5d99b4b4-d563-4e9c-a9b3-3bd8f4f43016",
   "metadata": {},
   "source": [
    "- Don't use for loops with string concatenation/formatting to create a single long string.  Instead use lists.  The first example is slower than the second."
   ]
  },
  {
   "cell_type": "code",
   "execution_count": 32,
   "id": "cc32dc2b-80cf-430f-b536-4d866463e85b",
   "metadata": {},
   "outputs": [
    {
     "name": "stdout",
     "output_type": "stream",
     "text": [
      "0.024005413055419922\n"
     ]
    }
   ],
   "source": [
    "seconds_start = time.time()\n",
    "final_string = \"\"\n",
    "for i in range(100000):\n",
    "    final_string = final_string + \"spam\"\n",
    "seconds_end = time.time()\n",
    "seconds_runtime = seconds_end - seconds_start\n",
    "print(seconds_runtime)"
   ]
  },
  {
   "cell_type": "code",
   "execution_count": 33,
   "id": "5401242c-d0a7-4f77-9a88-4284aa0962aa",
   "metadata": {},
   "outputs": [
    {
     "name": "stdout",
     "output_type": "stream",
     "text": [
      "0.01100301742553711\n"
     ]
    }
   ],
   "source": [
    "seconds_start = time.time()\n",
    "my_list = []\n",
    "for i in range(100000):\n",
    "    my_list.append(\"spam\")\n",
    "\"\".join(my_list)\n",
    "seconds_end = time.time()\n",
    "seconds_runtime = seconds_end - seconds_start\n",
    "print(seconds_runtime)"
   ]
  },
  {
   "cell_type": "markdown",
   "id": "35570fd7-a6a1-43d1-83ca-3cbaf360f05f",
   "metadata": {},
   "source": [
    "- Don't chain `!=`"
   ]
  },
  {
   "cell_type": "code",
   "execution_count": 34,
   "id": "68c82e68-2dd8-470e-a969-69c4c9dc2190",
   "metadata": {},
   "outputs": [
    {
     "name": "stdout",
     "output_type": "stream",
     "text": [
      "True\n",
      "True\n",
      "False\n"
     ]
    }
   ],
   "source": [
    "a = 'spam'\n",
    "b = 'beans'\n",
    "c = 'spam'\n",
    "\n",
    "print(a != b != c)\n",
    "print((a != b) and (b != c))  # Equivalent to above\n",
    "print(a != b and b != c and a != c)  # What we really mean"
   ]
  },
  {
   "cell_type": "markdown",
   "id": "84d4b471-33ec-4174-a0f5-015e1d621e1f",
   "metadata": {},
   "source": [
    "- Don't chain multiple types of operators together"
   ]
  },
  {
   "cell_type": "code",
   "execution_count": 35,
   "id": "6982cdb2-56b4-4bdd-8794-20228ee3ae48",
   "metadata": {},
   "outputs": [
    {
     "data": {
      "text/plain": [
       "True"
      ]
     },
     "execution_count": 35,
     "metadata": {},
     "output_type": "execute_result"
    }
   ],
   "source": [
    "False == False in [False]"
   ]
  },
  {
   "cell_type": "markdown",
   "id": "2c7accca-a18a-4426-a200-5cad24be9e19",
   "metadata": {},
   "source": [
    "---"
   ]
  },
  {
   "cell_type": "markdown",
   "id": "9e95213a-f2fc-4a87-a9a9-c1562e6b9705",
   "metadata": {},
   "source": [
    "## Tips for Writing Functions\n",
    "- How many functions should a script have?  \n",
    "    - If a code chunk occurs more than once we should consider putting it into a function.  The longer the chunk and the more repetitions the better candidate it is to be placed into its own function.\n",
    "    - Even if code doesn't repeat many programmers will separate conceptually distinct lines of code into different functions. Each function is often less than 30 lines of code and definitely less than 200 lines. \n",
    "- There are pros and cons to creating many shorter functions\n",
    "    1. Pros:\n",
    "        - Easier to understand each individual function\n",
    "        - Shorter code likely requires fewer parameters.  Easier to debug.\n",
    "    1. Cons:\n",
    "        - Must define more functions, creating more function names and more docstrings\n",
    "        - The overall script becomes harder to understand as we have to figure out how functions work together\n",
    "- How many parameters should each function have?  0-3 parameters is great. 4-6 is okay.  > ~ 6 parameters often means functions are over-complicated.  A function is supposed to have one main purpose and if it has too many options it should be broken into multiple shorter functions.\n",
    "- Which argument types should we use?\n",
    "   - Positional arguments are good if we have 1-3 arguments, they are always used in the function, and it is easy to remember what they are and in which order they are supposed to be written\n",
    "   - `kwargs` are good if keys reduce confusion caused by positional arguments.  Kwargs are also used with default parameters.\n",
    "   - Default parameters are good if the majority of function calls use a particular parameter.  Common defaults are 0, 1, \"\", None, True, and False.    \n",
    "   - If we are uncertain how many arguments the user will pass and we will use all these arguments, then we should either use a single iterable object or `*args`\n",
    "        - If a function usually deals with a data structure created while the program is running, it’s better to have it accept a single iterable argument.   E.g. `sum()`.\n",
    "        - If a function usually deals with arguments that the programmer specifies while writing the code, it’s better to use the `*args` syntax to accept a varying number of arguments.  E.g.`print()`\n",
    "    - `**kwargs` is a good option if keys reduce confusion and we don't know how many values will be passed.  Its mostly used in wrapper functions.\n",
    "- To reduce the chances of bugs:\n",
    "     - Don't use mutable objects as default arguments\n",
    "     - Choose the simplest argument type possible.  There are even argument types not covered here such as keyword only and position only arguments!  These are more complex.\n",
    "     - Avoid mixing argument types where possible.  Parameters must be defined in a certain order and arguments must be called in a certain order depending on the argument type.  **Different web resources give conflicting advice on order.  When in doubt keep it simple!!!**:\n",
    "        - The order of parameters in a function definition might be:\n",
    "            1. Positional arguments, `kwargs` (same as positional arguments until function call)\n",
    "            1. `*args`\n",
    "            1. Default parameters \n",
    "            1. `**kwargs`\n",
    "         - The order of arguments in a function call might be:\n",
    "            1. Positional arguments\n",
    "            1. `*args` (collects remaining positional objects into tuple)\n",
    "            1. Default parameters, `kwargs`, `**kwargs` (collects remaining key-value pairs into dictionary)\n",
    "    - There can be multiple return statements within a single function.  It is recommended that all return statements within a single function output the same data type.  This will help prevent type errors.\n",
    "- The best way to learn may be look at other Python functions"
   ]
  },
  {
   "cell_type": "markdown",
   "id": "da190a80-35f8-47d1-8e60-3fbd6cd8bc0c",
   "metadata": {},
   "source": [
    "---"
   ]
  },
  {
   "cell_type": "markdown",
   "id": "d1b2740f-b7b2-4b53-b1c4-5a6e43e2b8fe",
   "metadata": {},
   "source": [
    "**EXAMPLES**"
   ]
  },
  {
   "cell_type": "markdown",
   "id": "63fc6434-3db6-4db6-ae97-b9dde7ebd42e",
   "metadata": {},
   "source": [
    "- The `print()` function uses:\n",
    "    1. `*arbs` for an unknown number of user specified strings to concatenate and print\n",
    "    1. Default parameter to change separator character\n",
    "    1. Default parameter to change line ending character\n",
    "    1. Two more default argument which I don't understand : )"
   ]
  },
  {
   "cell_type": "code",
   "execution_count": 36,
   "id": "552c724a-efe2-463a-9d96-11e161955b33",
   "metadata": {},
   "outputs": [
    {
     "name": "stdout",
     "output_type": "stream",
     "text": [
      "Help on built-in function print in module builtins:\n",
      "\n",
      "print(...)\n",
      "    print(value, ..., sep=' ', end='\\n', file=sys.stdout, flush=False)\n",
      "    \n",
      "    Prints the values to a stream, or to sys.stdout by default.\n",
      "    Optional keyword arguments:\n",
      "    file:  a file-like object (stream); defaults to the current sys.stdout.\n",
      "    sep:   string inserted between values, default a space.\n",
      "    end:   string appended after the last value, default a newline.\n",
      "    flush: whether to forcibly flush the stream.\n",
      "\n"
     ]
    }
   ],
   "source": [
    "help(print)"
   ]
  },
  {
   "cell_type": "markdown",
   "id": "e8d9d8e7-286b-43d1-a867-b0f4c3fe903a",
   "metadata": {},
   "source": [
    "- The `sum()` function uses:\n",
    "    1. Positional argument that is single iterable object.  This will be a collection of numbers to sum.\n",
    "    1. `/` .  I don't understand : )\n",
    "    1. Default parameter"
   ]
  },
  {
   "cell_type": "code",
   "execution_count": 37,
   "id": "2d5c7e74-3438-46a3-88e5-904e1974d365",
   "metadata": {},
   "outputs": [
    {
     "name": "stdout",
     "output_type": "stream",
     "text": [
      "Help on built-in function sum in module builtins:\n",
      "\n",
      "sum(iterable, /, start=0)\n",
      "    Return the sum of a 'start' value (default: 0) plus an iterable of numbers\n",
      "    \n",
      "    When the iterable is empty, return the start value.\n",
      "    This function is intended specifically for use with numeric values and may\n",
      "    reject non-numeric types.\n",
      "\n"
     ]
    }
   ],
   "source": [
    "help(sum)"
   ]
  },
  {
   "cell_type": "markdown",
   "id": "160da19d-fef0-496c-881d-834ce9e9f62e",
   "metadata": {},
   "source": [
    "- The `pow` (power) function uses:\n",
    "    1. Positional argument for the base value\n",
    "    1. Positional value for exponent value\n",
    "    1. Default parameter for modulus operator"
   ]
  },
  {
   "cell_type": "code",
   "execution_count": 38,
   "id": "96fdabff-10d0-439d-b119-30bd466298f3",
   "metadata": {},
   "outputs": [
    {
     "name": "stdout",
     "output_type": "stream",
     "text": [
      "Help on built-in function pow in module builtins:\n",
      "\n",
      "pow(base, exp, mod=None)\n",
      "    Equivalent to base**exp with 2 arguments or base**exp % mod with 3 arguments\n",
      "    \n",
      "    Some types, such as ints, are able to use a more efficient algorithm when\n",
      "    invoked using the three argument form.\n",
      "\n"
     ]
    }
   ],
   "source": [
    "help(pow)"
   ]
  },
  {
   "cell_type": "markdown",
   "id": "562b56fa-2680-48ad-bab9-dae829fd4b53",
   "metadata": {},
   "source": [
    "---"
   ]
  }
 ],
 "metadata": {
  "kernelspec": {
   "display_name": "Python 3 (ipykernel)",
   "language": "python",
   "name": "python3"
  },
  "language_info": {
   "codemirror_mode": {
    "name": "ipython",
    "version": 3
   },
   "file_extension": ".py",
   "mimetype": "text/x-python",
   "name": "python",
   "nbconvert_exporter": "python",
   "pygments_lexer": "ipython3",
   "version": "3.9.9"
  }
 },
 "nbformat": 4,
 "nbformat_minor": 5
}
