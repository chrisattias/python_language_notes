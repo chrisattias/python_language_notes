{
 "cells": [
  {
   "cell_type": "markdown",
   "id": "a11c6f35-7b8c-4e03-93e4-ff2ccb30b6f1",
   "metadata": {},
   "source": [
    "# IDEs"
   ]
  },
  {
   "cell_type": "markdown",
   "id": "43cd449f-def8-4065-939d-2e280d28d790",
   "metadata": {
    "tags": []
   },
   "source": [
    "- **Text Editor**--Notepad\n",
    "- **Code Editor**--text editor with additional features. These include auto indent, syntax color coding, and auto-completion (code completion). They often have the ability to download extensions to increase functionality.\n",
    "- **IDE**--Integrated Development Environment, or IDE, is a program that combines the features of a code editor with more advanced features helpful for the completion of larger software development projects.  A few additional features found in IDEs include debugging, versioning, and tools for **refactoring** code (cleaning code up).\n",
    "- There is a lot of overlap between the terms code editor and IDE\n",
    "- Python comes with its own built-in IDE called IDLE.  IDLE stands for integrated development and learning environment.  This acronym was created to reference Eric Idle, one of the members of Monty Python.  While IDLE can be used, other IDEs are generally chosen.\n",
    "- Popular code editors and IDEs that work well for many programming languages include:\n",
    "    - Atom\n",
    "    - Notepad++\n",
    "    - Sublime\n",
    "    - Vim\n",
    "    - VS Code\n",
    "- Popular code editors and IDEs that are primarily for Python include:\n",
    "    - PyCharm\n",
    "    - Spyder\n",
    "    - JupyterLab"
   ]
  },
  {
   "cell_type": "markdown",
   "id": "5171f969-291d-4498-9937-0d837504bfb6",
   "metadata": {},
   "source": [
    "---"
   ]
  },
  {
   "cell_type": "markdown",
   "id": "cbcd6308-2cb5-45f1-b7a7-f753a0f8b879",
   "metadata": {
    "tags": []
   },
   "source": [
    "## JupyterLab\n",
    "- JupyterLab is a browser based program that is both a lightweight IDE and a Markdown editor at the same time\n",
    "- Jupyter is a combination of *Ju*lia + *Pyt*hon + e + *R*\n",
    "- Jupyter uses a file document called a notebook.  A notebook contains cells that can run either code or Markdown.  Markdown cells can also contain rich text elements like figures and images. \n",
    "- A notebook uses the file extension *.ipynb*, as JupyterLab was originally called IPython Notebook\n",
    "- JupyterNotebook is an older version of the more feature rich JupyterLab IDE\n",
    "- While notebooks are great for reproducible research, they are not the best for larger software development projects\n",
    "- Other features include the ability to view HTML, PDF, LaTex, and .csv files.  Can export to formats like HTML and PDF.\n",
    "\n",
    "**Libraries, Extensions, and Other Languages**\n",
    "- Jupyter allows the installation of popular Python libraries like NumPy, SciPy, Pandas,and Matplotlib.  These are all data science libraries.\n",
    "- Jupyter allows for many extensions to be installed to increase functionality.  Some basic extensions include:\n",
    "    - Spell check\n",
    "    - Collapsible headings\n",
    "    - autopep8.  Helps format Python according to PEP8 standards\n",
    "    - Many more that are specific to tasks or languages\n",
    "- Jupyter comes installed with the Python kernel.  A **kernel** is the most fundamental part of an operating system.  The kernel is what runs the programming language.  By downloading additional kernels, almost any programming language can be run. This includes R, Matlab, C, Javascript, etc,.  \n",
    "\n",
    "**Keyboad Shortcuts**\n",
    "- A notebook has 2 \"modes\", which determines which keyboard shortcuts can be used\n",
    "\n",
    "1. *Command Mode*--manage cells\n",
    "    - Esc--enters Command Mode \n",
    "    - Arrow keys--navigate up and down\n",
    "    - a--insert cell above\n",
    "    - b--insert cell below\n",
    "    - c--copy cell\n",
    "    - x--cut cell\n",
    "    - v--paste cell\n",
    "    - dd--delete cell\n",
    "    - z--undo\n",
    "    - Shft+z--redo\n",
    "    - m--change cell to markdown\n",
    "    - y--change cell to code\n",
    "    - Ctrl+Enter--run cell and stay on cell\n",
    "    - Shft+Enter--run cell and move to next cell\n",
    "2. *Edit Mode*--manage content within single cell\n",
    "    - Enter--enters Edit Mode\n",
    "    - Use common keyboard shorcuts like Ctrl-z\n",
    "    - Use Markdown formatting.  Including \\\\$\\\\$ for LaTeX\n",
    "    - Use Python syntax    \n",
    "    - Ctrl+Enter--run cell and stay on cell\n",
    "    - Shft+Enter--run cell and move to next cell\n",
    "   \n",
    "**Quirks to be Aware of**\n",
    "- JupyterLab contains a Windows PowerShell terminal that can run code scripts.  This terminal is fine and dandy but not the strength of Jupyter.  Code is usually run cell by cell using an interactive interpreter.  The notebook remembers variable assignments from other cells. Cells do not have to be run in order, so variables could be non-existent or re-assigned depending on the order the cells are run. The order cells are run is shown in [ ] to the left of code cells.  Where possible, it is probably best to keep code that shares variables in the same cell.\n",
    "- A further quirk of using a REPL is that it will print the value of the last expression even if we do not `print()` anything.  When running scripts in a terminal it only shows us what we `print()`.  Skipping the print function does make code easier to read in simple examples. Note that the output for REPL and `print()` is slightly different. REPL may show quotes while `print()` may show angle brackets in certain circumstances.\n",
    "- Another quirk to be aware of in Jupyter is the Python kernel.  If the Python kernel is trying to run a certain cell unsuccessfully (like waiting for user input or stuck in an infinite loop), then the kernel is not available to run other cells.  In this case the kernel could be restarted.  SyntaxErrors and Exceptions also stop the kernel from running through all the cells at once.\n",
    "- Functions that normally exit a Python script like `exit()` and  `quit()`, actually exit the Python kernel.  The kernel automatically restarts.  These functions do not do this in other IDEs.\n",
    "- Lastly, File>Export Notebook As>HTML may not include images depending on how they are embedded into the notebook.  However within the command line `jupyter nbconvert --to html <PATH>\\<FILENAME>.ipynb` may still export a notebook as an HTML document with images.\n",
    "\n",
    "**Other Python Notebook IDEs**\n",
    "- Because Jupyter is open source, it has been used as the basis for many other open source and proprietary notebook IDEs.  Many of these notebook IDE programs keep the Jupyter user interface, kernels, and .ipynb file type while adding cloud server functionality.  Running the Python interpreter, libraries, and notebook IDE from web servers opens up the potential for real-time code collaboration, easy file sharing, and reproducible environments for Python libraries.  The number of programs is overwhelming, but a good list can be found [here](https://datasciencenotebook.org/)."
   ]
  },
  {
   "cell_type": "markdown",
   "id": "3ec291f9-1deb-4f56-87e6-b7c6bd0b047a",
   "metadata": {},
   "source": [
    "---"
   ]
  },
  {
   "cell_type": "markdown",
   "id": "bdc76604-d261-4d2a-98a9-546d10c095a5",
   "metadata": {
    "tags": []
   },
   "source": [
    "### Binder\n",
    "- \"Turn a Git repo into a collection of interactive notebooks.  Have a repository full of Jupyter notebooks? With Binder, open those notebooks in an executable environment, making our code immediately reproducible by anyone, anywhere.\"\n",
    "- Jupyter notebooks can be shared easily on GitHub.  However, to be run locally, the notebooks still need the correct environment set up.  Binder allows us to share a Jupyter notebook with others, who can then run the notebook code through their web browser. No need for other users to install Python, Jupyter, and various Python libraries.  This is especially great for sharing notebooks with non-Python users, teaching, and presenting.\n",
    "- Binder must access a public GitHub repo.  In addition to common GitHub repo files like README.md, the repo must have an IPYNB notebook file and a plaintext dependencies file such as \"environment.yml\".\n",
    "- The dependencies file specifies everything that is needed to set up a virtual environment.  This includes the Python interpreter, package manager, where to find packages, and required packages.  While we can specify Python and package version numbers, this is not necessary.  Note that we only have to list the most inclusive packages.  E.g. if we list Seaborn, it will know that Seaborn in turn needs NumPy, Pandas, SciPy, and Matplotlib.  This saves us from knowing an entire package dependency tree structure.\n",
    "- When a GitHub repo URL is provided to Binder, it builds a Docker container for this notebook using the specified dependencies file.  This container has everything needed to run the notebook.  Binder hosts this container and provides a link that we can share with other users.  More info on Binder and  BinderHub can be found here: https://mybinder.org/."
   ]
  },
  {
   "cell_type": "markdown",
   "id": "5fca5dd2-a550-4569-83d1-a1b5a59d1a51",
   "metadata": {},
   "source": [
    "---"
   ]
  },
  {
   "cell_type": "markdown",
   "id": "a510ba60-893e-4477-a60a-111505ebdd0c",
   "metadata": {},
   "source": [
    "## Linters and Formatters\n",
    "\n",
    "- IDEs come with programs that can help us format our code better\n",
    "- **Linter**--program that highlights stylistic and logical problems in script.  These problems are the \"lint\" that can get all over our code.  Stylistic problems are mostly non-compliance with PEP 8 formatting guidelines.  Logical problems are more serious and can lead to exceptions or unexpected results.\n",
    "    - E.g. stylistic could be line length or amount of whitespace\n",
    "    - E.g. logical could be undefined variable or mising parenthesis\n",
    "- In VS Code linting is included by default.  However, third party extensions can be added.  Popular linters are:\n",
    "    - Pylint--logical and stylistic.  Verbose with lots of options, which is both good and bad.\n",
    "    - Flake8--includes PyFlakes (logical), pycodestyle (stylistic), and Mccabe.\n",
    "    - Pylama--includes PyFlakes, pycodestyle, pydocstyle, Mccabe, Pylint, Radon, and gjslint\n",
    "    - Bandit--logical\n",
    "    - MyPy--logical\n",
    "- **Formatter**--program that highlights stylistic problems and automatically refactors code to comply with formatting rules and make it easier to maintain \n",
    "- **Refactor**--restructure code while not changing how code runs.  I.e. won't change results, only looks.\n",
    "    - E.g. super simple: change all single quotes to double quotes (or vice versa)\n",
    "    - E.g. simple: rename all occurances of a variable\n",
    "    - E.g. complex: find code that repeats, extract it to a function defintion, and replace the original repeating code with the function name.\n",
    "- Popular formatters are:\n",
    "    - autopep8\n",
    "    - YAPF (Yet Another Python Formatter)\n",
    "    - Black\n",
    "- Stylistic linters and formatters have overlapping functionality.  The main difference is that linters highlight suggested changes while formatters actual make those changes.  Both can be helpful, especially when working with teams of programmers that all code with different styles.  This way, no one is taking the time to re-format another team members' code!"
   ]
  },
  {
   "cell_type": "markdown",
   "id": "e9787a64-09d7-45a4-b70c-a4a9b5c61c8a",
   "metadata": {},
   "source": [
    "---"
   ]
  },
  {
   "cell_type": "markdown",
   "id": "939f8980-7924-4c86-badc-c8c74f2ccd0f",
   "metadata": {},
   "source": [
    "### Black\n",
    "- Black is newest formatter on the block and has quickly become the most popular and most recommended\n",
    "- Black has fewer configurations compared to YAPF, but this makes it easy to get started\n",
    "- Black's name, emblem, and motto \"Any color you like\", are allusions to a Henry Ford quote.  Ford more or less said, \"You can have any color you like as long as it’s black\", when referring to the Model T.\n",
    "- To format a script, simply:\n",
    "    1. Install Black from pip or conda\n",
    "    1. Enter `black <PATH>/<FILENAME>.py` into the terminal\n",
    "    1. Done\n",
    "- Before formatting with Black we can also check to see which changes Black would have made.  This is done by including a terminal flag to show the differences.  This is similar to what version control software shows.\n",
    "    1. Enter `black <PATH>/<FILENAME>.py --diff` into the terminal\n",
    "    1. Or for easier to read colored differences `black <PATH>/<FILENAME>.py --diff --color`\n",
    "- Before formatting we may want to back up the file with version control software or a manual copy and paste just in case we didn't like the formatting. \n",
    "- Examples of Black settings that can be configured include:\n",
    "    - Double quotes vs single quotes.  Double used by default.\n",
    "    - Line length.  88 characters per line is default.\n",
    "    - Black formatting can be disabled on specified lines of the script"
   ]
  },
  {
   "cell_type": "markdown",
   "id": "8272ae54-505d-493e-b602-10122b1ef481",
   "metadata": {},
   "source": [
    "---"
   ]
  }
 ],
 "metadata": {
  "kernelspec": {
   "display_name": "Python 3 (ipykernel)",
   "language": "python",
   "name": "python3"
  },
  "language_info": {
   "codemirror_mode": {
    "name": "ipython",
    "version": 3
   },
   "file_extension": ".py",
   "mimetype": "text/x-python",
   "name": "python",
   "nbconvert_exporter": "python",
   "pygments_lexer": "ipython3",
   "version": "3.9.9"
  }
 },
 "nbformat": 4,
 "nbformat_minor": 5
}
