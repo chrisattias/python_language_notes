{
 "cells": [
  {
   "cell_type": "markdown",
   "id": "baa0b198-ee7b-422c-bacc-e9102e4cf3fd",
   "metadata": {
    "tags": []
   },
   "source": [
    "# Print\n",
    "\n",
    "- `print()` is a Python function.  A function commands the Python interpreter to perform a task when the function is run.\n",
    "- Like in math, functions have inputs.  These are called arguments.  Arguments are typed within the parentheses by the user when a function is run.\n",
    "- Some arguments are required for the function to run.  Other arguments have a default value already, but we have the option to change them if we want.\n",
    "\n",
    "Code | Use\n",
    "--- | ---\n",
    "`print()` | Displays results on the screen.  By default, argument `end=\"\\n\"` inserts newline after each print call.  By default, argument `sep=\" \"` separates multiple objects inside the same print call with a space. \n"
   ]
  },
  {
   "cell_type": "markdown",
   "id": "c117bbd9-85c2-4a00-985a-2cc13f7de965",
   "metadata": {},
   "source": [
    "---"
   ]
  },
  {
   "cell_type": "markdown",
   "id": "86d57c71-c803-4e11-9e78-7a30e74b78df",
   "metadata": {},
   "source": [
    "**EXAMPLES**"
   ]
  },
  {
   "cell_type": "markdown",
   "id": "c4ea3e1e-058b-4af3-b453-d7598c080788",
   "metadata": {},
   "source": [
    "- We'll start with a celestial salutation"
   ]
  },
  {
   "cell_type": "code",
   "execution_count": 1,
   "id": "9bd35949-f3a9-45e1-9da9-767d8270603d",
   "metadata": {},
   "outputs": [
    {
     "name": "stdout",
     "output_type": "stream",
     "text": [
      "Hello world\n"
     ]
    }
   ],
   "source": [
    "print(\"Hello world\")"
   ]
  },
  {
   "cell_type": "markdown",
   "id": "481026fb-d841-40f7-9d14-018a0dda8858",
   "metadata": {},
   "source": [
    "- We can print more than just words"
   ]
  },
  {
   "cell_type": "code",
   "execution_count": 2,
   "id": "39987c77-e57b-41a1-bfe8-4c64cc9ef037",
   "metadata": {},
   "outputs": [
    {
     "name": "stdout",
     "output_type": "stream",
     "text": [
      "3\n"
     ]
    }
   ],
   "source": [
    "print(1 + 2)"
   ]
  },
  {
   "cell_type": "markdown",
   "id": "a63f9e1d-8bc1-4161-90d2-bfa4455876ab",
   "metadata": {},
   "source": [
    "- By default, `print()` inserts newline after each print call"
   ]
  },
  {
   "cell_type": "code",
   "execution_count": 3,
   "id": "751cfcbb-fc41-4731-9692-26a053975fc4",
   "metadata": {
    "tags": []
   },
   "outputs": [
    {
     "name": "stdout",
     "output_type": "stream",
     "text": [
      "Hello world\n",
      "Hello sun\n"
     ]
    }
   ],
   "source": [
    "print(\"Hello world\")\n",
    "print(\"Hello sun\")"
   ]
  },
  {
   "cell_type": "markdown",
   "id": "f42d71d1-6315-4cf7-bc47-0dca9acc4df7",
   "metadata": {},
   "source": [
    "- Optionally, we can specify the characters to insert"
   ]
  },
  {
   "cell_type": "code",
   "execution_count": 4,
   "id": "8ea44c31-6864-4993-abe2-18f717589e7b",
   "metadata": {},
   "outputs": [
    {
     "name": "stdout",
     "output_type": "stream",
     "text": [
      "Hello world, Hello sun\n"
     ]
    }
   ],
   "source": [
    "print(\"Hello world\", end = \", \")\n",
    "print(\"Hello sun\")"
   ]
  },
  {
   "cell_type": "markdown",
   "id": "9bbbd1ea-6e3a-41ed-977f-6cd844618aaf",
   "metadata": {},
   "source": [
    "- By default, `print()` adds a space in between multiple objects "
   ]
  },
  {
   "cell_type": "code",
   "execution_count": 5,
   "id": "8d59552d-d343-4253-8117-a9be81a4ca45",
   "metadata": {},
   "outputs": [
    {
     "name": "stdout",
     "output_type": "stream",
     "text": [
      "Hello world\n"
     ]
    }
   ],
   "source": [
    "print(\"Hello\", \"world\")"
   ]
  },
  {
   "cell_type": "markdown",
   "id": "0e7310c7-4e0f-4d22-a3f3-797951cbf3a6",
   "metadata": {},
   "source": [
    "- Optionally, we can specify the separator"
   ]
  },
  {
   "cell_type": "code",
   "execution_count": 6,
   "id": "1a1c03cd-4220-43e0-a464-5a4a1a9cad78",
   "metadata": {
    "tags": []
   },
   "outputs": [
    {
     "name": "stdout",
     "output_type": "stream",
     "text": [
      "Hello + world\n"
     ]
    }
   ],
   "source": [
    "print(\"Hello\", \"world\", sep = \" + \")"
   ]
  },
  {
   "cell_type": "markdown",
   "id": "7759693d-9cbd-4acd-8c46-f918a455770b",
   "metadata": {},
   "source": [
    "- Jupyter notebook code cells display the result of the last expression even if we do not `print()` anything on the screen"
   ]
  },
  {
   "cell_type": "code",
   "execution_count": 7,
   "id": "163d1be4-95a9-4c3c-a941-8109e65c2ce9",
   "metadata": {},
   "outputs": [
    {
     "data": {
      "text/plain": [
       "'Hello sun'"
      ]
     },
     "execution_count": 7,
     "metadata": {},
     "output_type": "execute_result"
    }
   ],
   "source": [
    "\"Hello world\"\n",
    "\"Hello sun\""
   ]
  },
  {
   "cell_type": "markdown",
   "id": "317f6030-7631-4be4-927d-68d8f0702231",
   "metadata": {},
   "source": [
    "---"
   ]
  },
  {
   "cell_type": "markdown",
   "id": "667389d7-7125-4d4b-a46a-098848b30521",
   "metadata": {},
   "source": [
    "# Data Types\n",
    "\n",
    "- **Data type**--a data type is similar to how MS Excel has different cell types like numbers, dates, money, etc.\n",
    "    - E.g. string, integer, list, etc.\n",
    "- **Data structure**--abstract term that describes how data is stored in a computer's memory\n",
    "- **Collection/container**--data type that holds a bunch of other items/elements\n",
    "    - E.g. string (holds individual characters), range, bytes, bytearray, list, tuple, set, frozen set, and dictionary\n",
    "- **Item/Element**--each thing in a collection\n",
    "    - E.g. in [\"a\", \"b\", \"c\"], \"a\" is an item\n",
    "- **Sequence**--collection that is ordered and uses index positions\n",
    "    - E.g. string, range, bytes, bytearray, list, and tuple \n",
    "- **Mutable**--data type that can be modified after creation\n",
    "    - E.g. lists, sets, and dictionaries\n",
    "- **Immutable**--data type that can NOT be modified after creation\n",
    "    - E.g. integers, floats, strings, Booleans, range, tuples, and frozen sets.  All immutable objects are hashable.\n",
    "- **Heterogeneous**--a single collection may contain items that are different data types\n",
    "    - E.g. lists, tuples, sets, frozen sets, and dictionaries\n",
    "- **Homogeneous**--a single collection must contain items of all the same type. Python does not commonly use these.\n",
    "    - E.g. NumPy arrays"
   ]
  },
  {
   "cell_type": "markdown",
   "id": "7878c461-d43b-4cb0-b606-126c2c03f0be",
   "metadata": {},
   "source": [
    "---"
   ]
  },
  {
   "cell_type": "markdown",
   "id": "986533b2-72c0-4a50-947d-0262ff50b312",
   "metadata": {
    "tags": []
   },
   "source": [
    "## Built-in Data Types\n",
    "\n",
    "Type | Description | Example\n",
    "--- | --- | ---\n",
    "**None**| Null value.  Absence of an object/value.  Different from zero, which has a value...of zero. | None\n",
    "**string** | Sequence of characters enclosed in quotation marks (single or double)  | \"Hello world\", 'Hello world'\n",
    "**integer** | Integer numbers | 2\n",
    "**float** | Double floating point numbers.  We can also write floats using scientific notation with `E`, or `e` characters, which mean x10^.  Floating point should NOT be used for money. |  2.0, 0.02E2\n",
    "**decimal** | A data type in the `decimal` module.  Good for precise decimals like money. | 2.0\n",
    "**complex** | Complex number. `j` is used in place of `i` for a complex number.  This is because in some type faces the capital letter i looks like a l (lowercase L) or a 1 (one). | 2j\n",
    "**range** | Sequence of numbers | range(0, 2)\n",
    "**boolean** | Truth values | True. False.\n",
    "**bytes** | Immutable sequence of bytes.  If bytes store textual data, bytes look like strings with a `b` in front. | b'Hello world' \n",
    "**bytearray** |  Mutable sequence of bytes | bytearray(b'Hello world')"
   ]
  },
  {
   "cell_type": "markdown",
   "id": "92f70c5d-ba77-4113-a8ae-384a9e38dad6",
   "metadata": {},
   "source": [
    "- The following data types are collections\n",
    "\n",
    "Type | Brackets | Duplicates Allowed? | Ordered? | Mutable? | Heterogeneous? | Example\n",
    "--- | --- | --- | --- | --- | --- | ---\n",
    "List | [] | Yes | Yes | Yes | Yes | [\"a\", \"b\", \"c\"]\n",
    "Tuple | () | Yes | Yes | No | Yes | (\"a\", \"b\", \"c\")\n",
    "Set | {} | No | No | Kinda | Yes | {\"a\", \"b\", \"c\"}\n",
    "Frozen Set | {} | No | No | No | Yes | {\"a\", \"b\", \"c\"}\n",
    "Dictionary | {} | Keys No, Values Yes | No | Keys No, Values Yes | Yes | {\"key_a\":\"value_a\"}\n",
    "\n",
    "- *We can can add onto sets, changing the set as a whole, but cannot change the items already in the set.  We can NOT add onto a frozen set.*\n",
    "- *In Python 3.7 dictionaries became partially ordered (remembers item insertion order).  In 3.6 and before Python dictionaries were completely unordered.*"
   ]
  },
  {
   "cell_type": "markdown",
   "id": "ea45e605-05d4-4f0a-83dd-e6ded0751c88",
   "metadata": {},
   "source": [
    "---"
   ]
  },
  {
   "cell_type": "markdown",
   "id": "3a807c35-987d-458a-a534-be3ef90cce68",
   "metadata": {
    "tags": []
   },
   "source": [
    "## Type Function\n",
    "\n",
    "Code | Use\n",
    "--- | ---\n",
    "`type()` | Returns the data type"
   ]
  },
  {
   "cell_type": "markdown",
   "id": "94bf2c7d-1752-4ff6-89d9-01dab0727179",
   "metadata": {},
   "source": [
    "---"
   ]
  },
  {
   "cell_type": "markdown",
   "id": "789709a5-f681-4851-8ee1-940866789306",
   "metadata": {},
   "source": [
    "**EXAMPLES**"
   ]
  },
  {
   "cell_type": "code",
   "execution_count": 8,
   "id": "3deab216-ba4f-47cd-a9fa-5998a531c2a2",
   "metadata": {},
   "outputs": [
    {
     "data": {
      "text/plain": [
       "str"
      ]
     },
     "execution_count": 8,
     "metadata": {},
     "output_type": "execute_result"
    }
   ],
   "source": [
    "type('Hello world')"
   ]
  },
  {
   "cell_type": "code",
   "execution_count": 9,
   "id": "a84f81d2-1202-4143-97af-7e73345067ee",
   "metadata": {},
   "outputs": [
    {
     "data": {
      "text/plain": [
       "int"
      ]
     },
     "execution_count": 9,
     "metadata": {},
     "output_type": "execute_result"
    }
   ],
   "source": [
    "type(1)"
   ]
  },
  {
   "cell_type": "code",
   "execution_count": 10,
   "id": "1a6277df-908c-453d-9c9c-6e580735fda8",
   "metadata": {},
   "outputs": [
    {
     "data": {
      "text/plain": [
       "float"
      ]
     },
     "execution_count": 10,
     "metadata": {},
     "output_type": "execute_result"
    }
   ],
   "source": [
    "type(1.2)"
   ]
  },
  {
   "cell_type": "code",
   "execution_count": 11,
   "id": "d1855a86-9a15-4403-95fd-162bea44e502",
   "metadata": {},
   "outputs": [
    {
     "data": {
      "text/plain": [
       "float"
      ]
     },
     "execution_count": 11,
     "metadata": {},
     "output_type": "execute_result"
    }
   ],
   "source": [
    "type(1.2e3)"
   ]
  },
  {
   "cell_type": "code",
   "execution_count": 12,
   "id": "4b3db622-e385-4f1a-833d-7fee7b5f0247",
   "metadata": {},
   "outputs": [
    {
     "data": {
      "text/plain": [
       "list"
      ]
     },
     "execution_count": 12,
     "metadata": {},
     "output_type": "execute_result"
    }
   ],
   "source": [
    "type([1 ,2, 3])"
   ]
  },
  {
   "cell_type": "code",
   "execution_count": 13,
   "id": "39b51938-7cda-4904-813b-bbc9e5dff320",
   "metadata": {},
   "outputs": [
    {
     "data": {
      "text/plain": [
       "tuple"
      ]
     },
     "execution_count": 13,
     "metadata": {},
     "output_type": "execute_result"
    }
   ],
   "source": [
    "type((1, 2, 3))"
   ]
  },
  {
   "cell_type": "code",
   "execution_count": 14,
   "id": "fe8942d7-c8d6-437c-b756-2f819529cfda",
   "metadata": {},
   "outputs": [
    {
     "data": {
      "text/plain": [
       "set"
      ]
     },
     "execution_count": 14,
     "metadata": {},
     "output_type": "execute_result"
    }
   ],
   "source": [
    "type({1, 2, 3})"
   ]
  },
  {
   "cell_type": "code",
   "execution_count": 15,
   "id": "394c33ad-9add-4387-a8fd-6a3729e312ca",
   "metadata": {},
   "outputs": [
    {
     "data": {
      "text/plain": [
       "dict"
      ]
     },
     "execution_count": 15,
     "metadata": {},
     "output_type": "execute_result"
    }
   ],
   "source": [
    "type({'key1': 'value2','key2': 'value2'})"
   ]
  },
  {
   "cell_type": "code",
   "execution_count": 16,
   "id": "677667b6-8658-4f3d-948a-d9b2d21a3f9f",
   "metadata": {},
   "outputs": [
    {
     "data": {
      "text/plain": [
       "range"
      ]
     },
     "execution_count": 16,
     "metadata": {},
     "output_type": "execute_result"
    }
   ],
   "source": [
    "type(range(1))"
   ]
  },
  {
   "cell_type": "code",
   "execution_count": 17,
   "id": "b0b0a407-0e46-4c93-95f7-d3791e13805e",
   "metadata": {},
   "outputs": [
    {
     "data": {
      "text/plain": [
       "bool"
      ]
     },
     "execution_count": 17,
     "metadata": {},
     "output_type": "execute_result"
    }
   ],
   "source": [
    "type(True)"
   ]
  },
  {
   "cell_type": "code",
   "execution_count": 18,
   "id": "d7a8b5db-dfec-47bb-8775-a0f81f2402ca",
   "metadata": {},
   "outputs": [
    {
     "data": {
      "text/plain": [
       "complex"
      ]
     },
     "execution_count": 18,
     "metadata": {},
     "output_type": "execute_result"
    }
   ],
   "source": [
    "type(1J)"
   ]
  },
  {
   "cell_type": "markdown",
   "id": "e57f366a-1b72-48b0-9b1e-a635473c1a58",
   "metadata": {},
   "source": [
    "---"
   ]
  },
  {
   "cell_type": "markdown",
   "id": "af786a54-56da-466d-96c0-91b1235719fd",
   "metadata": {},
   "source": [
    "## Casting Functions\n",
    "- **Coercion**--implicitly convert between data types\n",
    "- **Casting**--explicitly convert between data types\n",
    "\n",
    "Code | Use | Inputs Allowed\n",
    "--- | --- | ---\n",
    "`str()` |  Specifies the string type |  Input can be any valid type as function just puts it in quotes\n",
    "`float()` | Specifies the float type | Input can be float, integer, or string (if it is an integer or float in the quotes)\n",
    "`int()` |  Specifies the integer type | Input can be integers, floats (drops decimals), or strings (if it is an integer in the quotes).  Can also convert into different base numbering systems, like base 2 and 16."
   ]
  },
  {
   "cell_type": "markdown",
   "id": "3031036a-633a-43ca-bc7a-edabd099a54b",
   "metadata": {},
   "source": [
    "---"
   ]
  },
  {
   "cell_type": "markdown",
   "id": "fa557798-4854-4779-8144-0bd9985f7930",
   "metadata": {},
   "source": [
    "**EXAMPLES**"
   ]
  },
  {
   "cell_type": "markdown",
   "id": "a6d734a4-5582-4fc4-89e2-f7fc64d73027",
   "metadata": {},
   "source": [
    "**Coercion**"
   ]
  },
  {
   "cell_type": "code",
   "execution_count": 19,
   "id": "65f74f5b-2be9-480b-9598-80a1d62ced79",
   "metadata": {},
   "outputs": [
    {
     "data": {
      "text/plain": [
       "3.0"
      ]
     },
     "execution_count": 19,
     "metadata": {},
     "output_type": "execute_result"
    }
   ],
   "source": [
    "2 + 1.0  # 2 is int, but return is float"
   ]
  },
  {
   "cell_type": "code",
   "execution_count": 20,
   "id": "53ee232e-8c36-4bfc-b4e7-4859d80806fb",
   "metadata": {},
   "outputs": [
    {
     "data": {
      "text/plain": [
       "2.0"
      ]
     },
     "execution_count": 20,
     "metadata": {},
     "output_type": "execute_result"
    }
   ],
   "source": [
    "2/1  # 2 and 1 are both floats, but division always returns float"
   ]
  },
  {
   "cell_type": "code",
   "execution_count": 21,
   "id": "1a80780e-b995-41a4-b70d-a5ab839aa5ea",
   "metadata": {},
   "outputs": [
    {
     "data": {
      "text/plain": [
       "2"
      ]
     },
     "execution_count": 21,
     "metadata": {},
     "output_type": "execute_result"
    }
   ],
   "source": [
    "True + True + False  # Booleans coerced into 1s and 0s"
   ]
  },
  {
   "cell_type": "markdown",
   "id": "83c0bcdb-53a0-49ea-bf99-03dd3d7be485",
   "metadata": {},
   "source": [
    "**`str()`**"
   ]
  },
  {
   "cell_type": "code",
   "execution_count": 22,
   "id": "23147e29-4b53-4a86-83e1-79c7d5518c23",
   "metadata": {},
   "outputs": [
    {
     "data": {
      "text/plain": [
       "'1'"
      ]
     },
     "execution_count": 22,
     "metadata": {},
     "output_type": "execute_result"
    }
   ],
   "source": [
    "str(1)"
   ]
  },
  {
   "cell_type": "code",
   "execution_count": 23,
   "id": "0a04e75b-bc5e-44df-8eb4-1d8ae5d7952f",
   "metadata": {},
   "outputs": [
    {
     "data": {
      "text/plain": [
       "'[1, 2, 3]'"
      ]
     },
     "execution_count": 23,
     "metadata": {},
     "output_type": "execute_result"
    }
   ],
   "source": [
    "str([1, 2, 3])"
   ]
  },
  {
   "cell_type": "markdown",
   "id": "6801b32a-9c0a-4a61-88d6-2197d657d151",
   "metadata": {},
   "source": [
    "**`float()`**"
   ]
  },
  {
   "cell_type": "code",
   "execution_count": 24,
   "id": "33e225a2-ee3d-47e1-8da2-ef09991e4f9a",
   "metadata": {},
   "outputs": [
    {
     "data": {
      "text/plain": [
       "1.0"
      ]
     },
     "execution_count": 24,
     "metadata": {},
     "output_type": "execute_result"
    }
   ],
   "source": [
    "float(1)"
   ]
  },
  {
   "cell_type": "code",
   "execution_count": 25,
   "id": "aff1b2f5-ac02-43cf-a752-09e7a536c581",
   "metadata": {},
   "outputs": [
    {
     "data": {
      "text/plain": [
       "1.0"
      ]
     },
     "execution_count": 25,
     "metadata": {},
     "output_type": "execute_result"
    }
   ],
   "source": [
    "float('1')"
   ]
  },
  {
   "cell_type": "markdown",
   "id": "681c7ad5-1289-4496-9ec0-db0c383ac8d0",
   "metadata": {},
   "source": [
    "**`int()`**"
   ]
  },
  {
   "cell_type": "code",
   "execution_count": 26,
   "id": "f8048501-76e3-4335-b8cd-4c6f90cfad4a",
   "metadata": {},
   "outputs": [
    {
     "data": {
      "text/plain": [
       "1"
      ]
     },
     "execution_count": 26,
     "metadata": {},
     "output_type": "execute_result"
    }
   ],
   "source": [
    "int('1')"
   ]
  },
  {
   "cell_type": "code",
   "execution_count": 27,
   "id": "5bc7bd5c-2871-4bc3-a3dc-fdfd163d0d90",
   "metadata": {},
   "outputs": [
    {
     "data": {
      "text/plain": [
       "1"
      ]
     },
     "execution_count": 27,
     "metadata": {},
     "output_type": "execute_result"
    }
   ],
   "source": [
    "int(1.6)"
   ]
  },
  {
   "cell_type": "markdown",
   "id": "231b9c72-25a7-40a8-9dc4-c9662b06d822",
   "metadata": {},
   "source": [
    "- Converts base 2 number to base 10\n",
    "    - First argument is original number. Must be in quotes. Here it is '11'.\n",
    "    - Second argument is original number's numbering system.  Here it is base 2.\n",
    "    - Return is base 10 number"
   ]
  },
  {
   "cell_type": "code",
   "execution_count": 28,
   "id": "70a67899-92ae-4484-976a-58e60f83f25b",
   "metadata": {},
   "outputs": [
    {
     "data": {
      "text/plain": [
       "3"
      ]
     },
     "execution_count": 28,
     "metadata": {},
     "output_type": "execute_result"
    }
   ],
   "source": [
    "int('11', 2) "
   ]
  },
  {
   "cell_type": "markdown",
   "id": "c16f7b1f-ba44-48d9-b820-785de4712d87",
   "metadata": {},
   "source": [
    "- Converts base 16 number to base 10\n",
    "    - First argument is original number. Must be in quotes. Here it is '11'.\n",
    "    - Second argument is original number's numbering system.  Here it is base 16.\n",
    "    - Return is base 10 number"
   ]
  },
  {
   "cell_type": "code",
   "execution_count": 29,
   "id": "0f3c6985-1bfe-4d59-a546-6ca1be26bd4f",
   "metadata": {},
   "outputs": [
    {
     "data": {
      "text/plain": [
       "17"
      ]
     },
     "execution_count": 29,
     "metadata": {},
     "output_type": "execute_result"
    }
   ],
   "source": [
    "int('11', 16) "
   ]
  },
  {
   "cell_type": "markdown",
   "id": "9f65a23c-fd6a-457e-8b0b-94ff0021a59e",
   "metadata": {},
   "source": [
    "---"
   ]
  },
  {
   "cell_type": "markdown",
   "id": "384f6c91-afd7-4482-b000-3281c4b0eb3b",
   "metadata": {},
   "source": [
    "## Type Hints\n",
    "- **Static Typing**--the data type of each variable, parameter, and return value must be explicitly declared in the code. This allows the interpreter or compiler to check that the code uses the correct data types before the script is actually run.  Static typing reduces the number of bugs but is harder to read and write.\n",
    "- **Dynamic Typing**--the data type of each variable, parameter, and return value is never explicitly declared and can be of any data type.  Dynamic typing increases the number of bugs but is easier to read and write.\n",
    "- Python is dynamically typed\n",
    "- **Type Hints**--also called type checking, or type annotation  Optional static typing introduced in Python 3.5.  We can also choose to declare type hints for only some portions of our Python code.  This is called **gradual typing**.\n",
    "- Type hinting allows static analyzer programs like *MyPy* to check for bugs caused by wrong types before the script is run\n",
    "- When the code is run, the Python interpreter treats type hints like comments and completely ignores them\n",
    "- Type hinting may be useful if we are collaborating on Python projects.  It is not necessary for beginners writing their own code."
   ]
  },
  {
   "cell_type": "markdown",
   "id": "d1745f98-d4f2-4850-9e0b-53bea92bfe47",
   "metadata": {},
   "source": [
    "---"
   ]
  },
  {
   "cell_type": "markdown",
   "id": "ec2d7d0f-f651-4cd9-a5c9-a25958cde7c4",
   "metadata": {},
   "source": [
    "**EXAMPLES**"
   ]
  },
  {
   "cell_type": "markdown",
   "id": "397675be-1e8a-41ce-b670-c8f3c832b046",
   "metadata": {},
   "source": [
    "**Variable Assignment**"
   ]
  },
  {
   "cell_type": "code",
   "execution_count": 30,
   "id": "fe3b21f8-0307-4f9f-85e6-fac0e20e6aca",
   "metadata": {},
   "outputs": [],
   "source": [
    "a: int = 1\n",
    "b: float = 1.0\n",
    "c: bool = False\n",
    "d: str = \"Hello world\"\n",
    "#e: list[str, str] = [\"item1\", \"item2\"]  # Implemented in Python 3.9\n",
    "#f: tuple[str, str] = (\"item1\", \"item2\") # Implemented in Python 3.9\n",
    "#g: set[str, str] = {\"item1\", \"item2\"} # Implemented in Python 3.9\n",
    "#h: dict[str, str] = {\"key1\": \"value1\", \"key2\": \"value2\"} # Implemented in Python 3.9"
   ]
  },
  {
   "cell_type": "markdown",
   "id": "7f70d2c0-8109-4987-882a-109fe1154481",
   "metadata": {},
   "source": [
    "**Function Definition**"
   ]
  },
  {
   "cell_type": "code",
   "execution_count": 31,
   "id": "474fb256-b5ba-4c94-b5ac-0c365da7d1eb",
   "metadata": {},
   "outputs": [
    {
     "data": {
      "text/plain": [
       "'This is a positive number'"
      ]
     },
     "execution_count": 31,
     "metadata": {},
     "output_type": "execute_result"
    }
   ],
   "source": [
    "# First line different than normal function definitions\n",
    "def my_function(integer_parameter: int) -> str: \n",
    "    if integer_parameter > 0:\n",
    "        return \"This is a positive number\"\n",
    "    if integer_parameter < 0:\n",
    "        return \"This is a negative number\"\n",
    "    \n",
    "my_function(1)"
   ]
  },
  {
   "cell_type": "markdown",
   "id": "bc861931-1afd-4f1a-83a8-67270b5cf78d",
   "metadata": {},
   "source": [
    "---"
   ]
  },
  {
   "cell_type": "markdown",
   "id": "b524e997-2419-47da-98d0-02626c57a24f",
   "metadata": {
    "tags": []
   },
   "source": [
    "# Operators"
   ]
  },
  {
   "cell_type": "markdown",
   "id": "6f6afc21-9d47-4279-bafd-1af7c0af7034",
   "metadata": {},
   "source": [
    "---"
   ]
  },
  {
   "cell_type": "markdown",
   "id": "670fcec3-b03a-4ce3-8141-384484b6ad99",
   "metadata": {
    "tags": []
   },
   "source": [
    "## Comparative Operators\n",
    "\n",
    "Operator | Use\n",
    "--- | ---\n",
    "`==` | Equal\n",
    "`!=` | Not equal\n",
    "`<` | Less than\n",
    "`<=` | Less than or equal\n",
    "`>` | Greater than\n",
    "`>=` | Greater than or equal"
   ]
  },
  {
   "cell_type": "markdown",
   "id": "23948eb3-aedf-4df9-9913-9cc9eadcebad",
   "metadata": {},
   "source": [
    "---"
   ]
  },
  {
   "cell_type": "markdown",
   "id": "1cb666fd-51ae-4e37-b0a6-43e749e19200",
   "metadata": {
    "tags": []
   },
   "source": [
    "## Arithmetic Operators\n",
    "\n",
    "Operator | Use\n",
    "--- | ---\n",
    "`+` |  Addition with numbers, or used to concatenate other data types\n",
    "`-` | Subtraction\n",
    "`*` | Multiplication with numbers, occasionally used with other data types\n",
    "`/` | Addition, subtraction, and multiplication output integers if all inputs are integers or float if any inputs float.  However, division, always outputs float.\n",
    "`**` | Exponent.  Note that trying to use `^` will result in an error.  It appears to subtract.\n",
    "`%` | Modulo\n",
    "`//` | Floor division. It means divide and round quotient down. Returns an integer."
   ]
  },
  {
   "cell_type": "markdown",
   "id": "0d1af0d6-e44e-4198-aeeb-ad1d991546a9",
   "metadata": {},
   "source": [
    "---"
   ]
  },
  {
   "cell_type": "markdown",
   "id": "fb5fe629-42dc-4a12-bc5e-6c958000c6f6",
   "metadata": {},
   "source": [
    "## Logical Operators\n",
    "\n",
    "Operator | Use\n",
    "--- | ---\n",
    "`and` | Returns True if both statements are true\n",
    "`or` | Returns True if one or both statements are true\n",
    "`not` | Returns the truth value opposite of the input.  Inverts current truth value."
   ]
  },
  {
   "cell_type": "markdown",
   "id": "7d0df863-20a2-448f-9af3-61a04c22472e",
   "metadata": {},
   "source": [
    "---"
   ]
  },
  {
   "cell_type": "markdown",
   "id": "e16fdc01-71c2-420c-a96a-cd47e9cd854b",
   "metadata": {},
   "source": [
    "## Assign Operators\n",
    "\n",
    "Operator | Use\n",
    "--- | ---\n",
    "`=` | Assign symbol.  E.g.`x=1` means remember the constant 1, assign it the variable name `x`\n",
    "`+=` | Assign addition.  E.g. `x+=1` is the same as `x=x+1`\n",
    "`-=` | Assign subtraction\n",
    "`*=` | Assign multiplication\n",
    "`/=` | Assign division\n",
    "`%=` | Assign modulo\n",
    "`//=` | Assign floor division"
   ]
  },
  {
   "cell_type": "markdown",
   "id": "d3ef1996-8159-4e04-add2-40f3565ac9e4",
   "metadata": {},
   "source": [
    "---"
   ]
  },
  {
   "cell_type": "markdown",
   "id": "d30dd3ff-3a7e-44f8-a488-286fb2728a34",
   "metadata": {
    "tags": []
   },
   "source": [
    "## Membership Operators\n",
    "\n",
    "Operator | Use\n",
    "--- | ---\n",
    "`in` | Returns True if specified value is present in the object\n",
    "`not in` | Returns True if specified value is not present in the object"
   ]
  },
  {
   "cell_type": "markdown",
   "id": "f17c9e77-cbaf-4e20-8144-642e8c5bbd73",
   "metadata": {},
   "source": [
    "---"
   ]
  },
  {
   "cell_type": "markdown",
   "id": "4a1812bd-9b35-4871-8972-42f281e51fba",
   "metadata": {
    "tags": []
   },
   "source": [
    "## Bitwise Operators\n",
    "- Work on individual bits of information\n",
    "- They compare two input bits and return one output bit\n",
    "- Usually one byte of information is compared at a time as computers think in bytes\n",
    "\n",
    "Operator | Description | Example\n",
    "--- | --- | ---\n",
    "& | Bitwise AND | 1&1=1, 1&0=0, 0&0=0\n",
    "Pipe | Bitwise OR | 1&1=1, 1&0=1, 0&0=0\n",
    "^ | Bitwise exclusive OR | 1&1=0, 1&0=1, 0&0=0\n",
    "~ | NOT | 1=0, 0=1"
   ]
  },
  {
   "cell_type": "markdown",
   "id": "345a6e1c-0f97-475b-9517-1980c398c138",
   "metadata": {},
   "source": [
    "---"
   ]
  },
  {
   "cell_type": "markdown",
   "id": "76b14893-3d3a-4b15-8bfb-e8ef217632c0",
   "metadata": {
    "tags": []
   },
   "source": [
    "## Identity Operators\n",
    "- Identity operators are used to determine it two objects are the same object, with the same memory location\n",
    "- Often, `is` and `is not` are used to compare an object to the `None` object. `None` can screw up functions.  By using conditional statements and `is None` or `is not None` we can avoid values that are `None`. \n",
    "- For the vast majority of comparisons of equality, `==` and `!=` should be used instead of `is` and `is not` \n",
    "\n",
    "Operator | Use\n",
    "--- | ---\n",
    "`is` | Returns True if both variables are the same object\n",
    "`is not` | Returns True if both variables are not the same object"
   ]
  },
  {
   "cell_type": "markdown",
   "id": "c5a77db5-29c3-4b21-ac2d-70ef680e7c4c",
   "metadata": {},
   "source": [
    "---"
   ]
  },
  {
   "cell_type": "markdown",
   "id": "420ab31a-f0ea-4d97-8cba-6cec0a452eac",
   "metadata": {},
   "source": [
    "**EXAMPLES**"
   ]
  },
  {
   "cell_type": "code",
   "execution_count": 32,
   "id": "40b8bb4c-7ebd-40f9-ba24-86bc3623ad8d",
   "metadata": {
    "tags": []
   },
   "outputs": [],
   "source": [
    "a = None\n",
    "b = 5\n",
    "if a is not None:\n",
    "    (a + b) # Avoids error"
   ]
  },
  {
   "cell_type": "markdown",
   "id": "6a1d7f11-904a-4a63-bf2e-eef2af0ba473",
   "metadata": {},
   "source": [
    "---"
   ]
  },
  {
   "cell_type": "markdown",
   "id": "5f4be7d9-0c29-44e8-bd7a-c1f653f3715e",
   "metadata": {
    "tags": []
   },
   "source": [
    "# Keywords\n",
    "- **Keyword/Reserved Words**--words that have a specific meaning to Python.  These words should not be chosen as variable names or put any other place, unless we intend enact their meaning.\n",
    "\n",
    "Keyword | Use\n",
    "--- | ---\n",
    "and | Logical operator\n",
    "as | Creates alias\n",
    "assert | For debugging\n",
    "break | Breaks out of loop\n",
    "class | Defines class\n",
    "continue | Continues to next iteration of loop\n",
    "def | Defines function\n",
    "del | Deletes objects\n",
    "elif | Conditional statements\n",
    "else | Conditional statements\n",
    "except | Conditional statements\n",
    "False | Boolean value, result of comparison operations\n",
    "finally | Used with exceptions\n",
    "for | For loops\n",
    "from | Imports specific parts of module\n",
    "global | Declare global variable\n",
    "if | Conditional statements\n",
    "import | Imports module\n",
    "in | Membership operator\n",
    "is | Identity operator\n",
    "lambda | Creates anonymous function\n",
    "None | Null value\n",
    "nonlocal | Declare a non-local variable\n",
    "not | Logical operator\n",
    "or | Logical operator\n",
    "pass | Null statement, a statement that will do nothing\n",
    "raise | Raises an exception\n",
    "return | Exits a function and returns value\n",
    "True | Boolean value, result of comparison operator\n",
    "try | Try except statements\n",
    "while | While loops\n",
    "with | Simplifies exception handling\n",
    "yield | Ends a functions, returns a generator"
   ]
  },
  {
   "cell_type": "markdown",
   "id": "f11be8f5-6c92-43ab-bb29-71e6feb9db22",
   "metadata": {},
   "source": [
    "---"
   ]
  },
  {
   "cell_type": "markdown",
   "id": "cb4cd070-e051-4cfd-aca5-c4ab2e0cdd93",
   "metadata": {
    "tags": []
   },
   "source": [
    "# Variables\n",
    "- **Expression**--in math, expressions are a combination of variables, values, and operators that evaluate down to a single value. E.g. `a + 1`.  More or less the same meaning in Python.  A value by itself is also considered an expression.  E.g. `True`.\n",
    "- **Statement**--in math, a statement is two expressions separated by a comparative operator.   In Python, it is a fairly general term that means a line or multiple lines that instruct Python to do something.  Reserved words are used in statements.\n",
    "    - E.g. assignment statement, conditional `if` statements, `import` statement, `return` statements, etc.\n",
    "- **Variable**--name used in assignment statement with an object.  Allows us to later retrieve object from computer memory using variable name.  Sometimes called symbolic name or identifier.\n",
    "- **Alias**--a second variable name assigned to the same object as another variable\n",
    "    - E.g. if a = 1 and b = a, then b is an alias for a.\n",
    "- There are rules for variable names:\n",
    "    1. Variables can be some combination of numbers, letters, and underscores\n",
    "    1. Variables must NOT have other special symbols\n",
    "    1. Variables must NOT start with a number \n",
    "    1. Variables ARE case sensitive\n",
    "    1. Variable names should NEVER be the same as keywords or functions\n",
    "- It is also recommended that:\n",
    "    1. Very common variable names be avoided.  This includes: all, any, data, date, email, file, format, hash, id, input, list, min, max, object, open, random, set, str, sum, temp, test, type, and var.\n",
    "    1. *Hungarian notation* be avoided.  This is when we use a prefix to indicate the variable data type.  As of Python 3.5 type hinting has been added to the language.  If a person decides they want to indicate data type, they should use type hinting instead of Hungarian notation.\n",
    "        - E.g. Instead of `int_age = 50` use `age: int = 50`\n",
    "    1. One or two letter names are discouraged except in two situations:\n",
    "        1.  `i` is often used in for loops.  Any inner for loops could use the letters `j` (or even `k`) in the same location as `i`.\n",
    "            - E.g `for i in ['a', 'b', 'c']:`\n",
    "        1. `x, y` are often used for x and y coordinates\n",
    "    1. Variable names be descriptive\n",
    "        - E.g. Instead of `date` use `start_date` or `brian_birthday`\n",
    "- With that all said, we commonly ignore these recommendations in examples.  \"Do as I say, not...\""
   ]
  },
  {
   "cell_type": "markdown",
   "id": "41fd8bab-8441-493d-aeb0-b7fd60d756a7",
   "metadata": {},
   "source": [
    "---"
   ]
  },
  {
   "cell_type": "markdown",
   "id": "5af44ee6-100c-4160-adce-7677f281e9a6",
   "metadata": {},
   "source": [
    "**EXAMPLES**"
   ]
  },
  {
   "cell_type": "markdown",
   "id": "a33290df-c384-48c2-bae7-03424061fdb5",
   "metadata": {},
   "source": [
    "**Assignment Statement**"
   ]
  },
  {
   "cell_type": "code",
   "execution_count": 33,
   "id": "08c60838-0036-4d9e-9431-59ae03adbc10",
   "metadata": {},
   "outputs": [
    {
     "name": "stdout",
     "output_type": "stream",
     "text": [
      "1\n"
     ]
    }
   ],
   "source": [
    "a = 1\n",
    "\n",
    "print(a)"
   ]
  },
  {
   "cell_type": "markdown",
   "id": "5533f82d-2b3b-40b7-abba-2775abd4e0bb",
   "metadata": {},
   "source": [
    "**Chained Assignment Statement**"
   ]
  },
  {
   "cell_type": "code",
   "execution_count": 34,
   "id": "26449ccf-832a-4d01-bc02-ec9e23196ded",
   "metadata": {},
   "outputs": [
    {
     "name": "stdout",
     "output_type": "stream",
     "text": [
      "1\n",
      "1\n"
     ]
    }
   ],
   "source": [
    "a = b = 1\n",
    "\n",
    "print(a)\n",
    "print(b)"
   ]
  },
  {
   "cell_type": "markdown",
   "id": "d39ffbe0-59a9-405a-8a06-68808dbac8c3",
   "metadata": {},
   "source": [
    "**Assignment Statement with Collection (\"Unpacking\")**"
   ]
  },
  {
   "cell_type": "code",
   "execution_count": 35,
   "id": "4a36bdd0-4437-490e-bb3a-e54e96ee87ce",
   "metadata": {},
   "outputs": [
    {
     "name": "stdout",
     "output_type": "stream",
     "text": [
      "1\n",
      "2\n"
     ]
    }
   ],
   "source": [
    "a, b = (1, 2)\n",
    "\n",
    "print(a)\n",
    "print(b)"
   ]
  },
  {
   "cell_type": "code",
   "execution_count": 36,
   "id": "9cb1e82a-b87a-4b8a-bf78-15e9c897f391",
   "metadata": {},
   "outputs": [
    {
     "name": "stdout",
     "output_type": "stream",
     "text": [
      "1\n",
      "[2, 3]\n"
     ]
    }
   ],
   "source": [
    "a, *b = (1, 2, 3)  # * indicates leftover items included in list\n",
    "\n",
    "print(a)\n",
    "print(b)"
   ]
  },
  {
   "cell_type": "markdown",
   "id": "10dd2508-c201-43b2-8b43-8e0ed701b5e7",
   "metadata": {},
   "source": [
    "**Variable Swapping**"
   ]
  },
  {
   "cell_type": "code",
   "execution_count": 37,
   "id": "1894e89f-62e4-4634-b926-6cd7f9d6af22",
   "metadata": {},
   "outputs": [
    {
     "name": "stdout",
     "output_type": "stream",
     "text": [
      "2\n",
      "1\n"
     ]
    }
   ],
   "source": [
    "a = 1\n",
    "b = 2\n",
    "a, b = b, a\n",
    "\n",
    "print(a)\n",
    "print(b)"
   ]
  },
  {
   "cell_type": "markdown",
   "id": "80ba7ef8-f97d-44bd-b565-4f3d972fc7f0",
   "metadata": {},
   "source": [
    "---"
   ]
  },
  {
   "cell_type": "markdown",
   "id": "f0580b0d-687a-4be2-98e7-81b6e445279d",
   "metadata": {
    "tags": []
   },
   "source": [
    "# Comments\n",
    "- Code is read more than it is written and future readers (including ourselves) will appreciate comments\n",
    "- Good comments should generally explain why the code is written the way it is and other aspects that aren't obvious from the code itself.  In this Jupyter notebook many of our comments also explain how lines of code work for learning purposes.\n",
    "- Summary comments can be helpful.  Programmers often use a blank line to separate conceptually related lines of code (a \"paragraph\") from other paragraphs.  At the top of the paragraph there may be a comment that summarizes its purpose. \n",
    "- **Comment**--text that is not run by the Python interpreter.  Anything after a pound sign is not run by the Python interpreter.  Usually placed above a line of code.\n",
    "- **In-line comment**--comment placed at the end of a line of code\n",
    "- **Multi-line comment**--multiple lines of text flanked by three double quotation marks create a multi-line string.  If multi-line strings are not used by some other Python code, they are ignored by the Python interpreter and can be used as a long comment.\n",
    "- **Codetag**--all uppercase label that describes the comment to come.  Not generally recommended for group projects as they are easy to forget about. Some IDEs highlight this text in our source code to more prominently display it.\n",
    "\n",
    "\n",
    "Code | Use\n",
    "--- | ---\n",
    "`#` | Comments\n",
    "`\"\"\"` | Multi-line comments\n",
    "`# TODO` | Codetag introduces a reminder about work that needs to be done\n",
    "`# FIXME` | Codetag introduces a reminder that this part of the code doesn't entirely work\n",
    "`# HACK` | Codetag introduces a reminder that this part of the code works, but barely, and should be improved\n",
    "`# XXX` | Codetag introduces a warning, often of high severity"
   ]
  },
  {
   "cell_type": "markdown",
   "id": "39bfe25f-1392-498f-9b0d-cb6d72350dd9",
   "metadata": {},
   "source": [
    "---"
   ]
  },
  {
   "cell_type": "markdown",
   "id": "31829e84-3983-4459-b96d-8f5813c4ef12",
   "metadata": {},
   "source": [
    "**EXAMPLES**"
   ]
  },
  {
   "cell_type": "markdown",
   "id": "188edc83-08b5-4477-bd4e-242b552832b5",
   "metadata": {},
   "source": [
    "**Comment**"
   ]
  },
  {
   "cell_type": "code",
   "execution_count": 38,
   "id": "f8d3a1be-fbec-405a-931c-a5fc3c0822e1",
   "metadata": {},
   "outputs": [
    {
     "name": "stdout",
     "output_type": "stream",
     "text": [
      "Hello world\n"
     ]
    }
   ],
   "source": [
    "# This is a comment.\n",
    "print(\"Hello world\")"
   ]
  },
  {
   "cell_type": "markdown",
   "id": "98b017d8-6b19-4d70-8f81-4a97b04bd678",
   "metadata": {},
   "source": [
    "**In-Line Comment**"
   ]
  },
  {
   "cell_type": "code",
   "execution_count": 39,
   "id": "1787d77f-51ce-40f7-82f4-e4c0c0073296",
   "metadata": {},
   "outputs": [
    {
     "name": "stdout",
     "output_type": "stream",
     "text": [
      "Hello world\n"
     ]
    }
   ],
   "source": [
    "print(\"Hello world\")  # This is an in-line comment."
   ]
  },
  {
   "cell_type": "markdown",
   "id": "63fa6934-09d7-4fde-9c08-e6371779554d",
   "metadata": {},
   "source": [
    "**Multi-Line Comment**"
   ]
  },
  {
   "cell_type": "code",
   "execution_count": 40,
   "id": "5d36c9fc-8060-49e4-86ad-4ce548e93869",
   "metadata": {},
   "outputs": [
    {
     "name": "stdout",
     "output_type": "stream",
     "text": [
      "Hello world\n"
     ]
    }
   ],
   "source": [
    "\"\"\"This is a multi-line string,\n",
    "but the Python interpreter will ignore it\n",
    "if it is not used by some other piece of code\n",
    "It can be used as a long comment.\"\"\"\n",
    "\n",
    "print(\"Hello world\")"
   ]
  },
  {
   "cell_type": "markdown",
   "id": "eb739ae0-a601-47fa-a3db-1795ae776094",
   "metadata": {},
   "source": [
    "**Code Tag**"
   ]
  },
  {
   "cell_type": "code",
   "execution_count": 41,
   "id": "7df8603b-eeb1-42ce-ab0c-6ddbc61ef8dd",
   "metadata": {},
   "outputs": [
    {
     "name": "stdout",
     "output_type": "stream",
     "text": [
      "Hello world\n"
     ]
    }
   ],
   "source": [
    "# TODO: write helpful comments and then eat more spam.\n",
    "print(\"Hello world\")"
   ]
  },
  {
   "cell_type": "markdown",
   "id": "c835ecfb-3a58-4603-a640-688eb53ad4ce",
   "metadata": {},
   "source": [
    "---"
   ]
  },
  {
   "cell_type": "markdown",
   "id": "e6c64778-aefe-4966-bb88-b3009002d831",
   "metadata": {
    "tags": []
   },
   "source": [
    "# Strings\n",
    "- Strings are immutable, so string methods make a copy, then modify the copy.  The original string is NOT changed \"in place\".  String methods have a return value that is the modified copy.  \n",
    "\n",
    "Code | Use\n",
    "--- | ---\n",
    "`[#]` |  Returns character at specified index position. Strings start numbering characters at 0.  **Negative indexing** starts counting from end.  Last letter is -1.  As we go left we get more negative.  \n",
    "`[#:#]` | Returns slice.  First number is inclusive and second is exclusive.  Can also be used with negative indexing.\n",
    "`len()` | Returns number of characters in string\n",
    "`min(), max()` | Returns min or max value.  Based on character location in ASCII table.\n",
    "*comparison operators* | Comparison operators can be used to compare strings.  Compares first character from each string first.  If first characters are equal then compares second character from each string. Etc.  Returns True or False. Based on character location in ASCII table.\n",
    "`*` | Returns new string made of the original replicated a specified number of times\n",
    "`.count()` | Returns number of times specified character(s) appears in string\n",
    "`.index()` | Returns index number of first character in string with specified character(s).  Returns error if specified character(s) not found.\n",
    "`.find()` | Same as `index()`, except if specified character(s) not found then returns -1.  Optionally, can specify which index position to start searching on.\n",
    "`in`, `not in` | Returns True or False based on whether specified character(s) is in string\n",
    "`.startswith()` | Returns True if string starts with specified characters(s).\n",
    "`.endswith()` | Returns True if string ends with specified characters(s).\n",
    "`is<METHOD>()` | Returns True or False based on whether string contains only certain characters.  E.g. only alphabetical characters, only alphanumeric, only numeric, only whitespace, only words that begin with uppercase.\n",
    "`.upper()` | Returns copy of string with all characters in upper case\n",
    "`.lower()` | Returns copy of string with all characters in lower case\n",
    "`.strip()` | Returns copy of string with whitespace removed from both left and right side of string.  Keeps spaces between words.  Optionally, specify characters to be stripped (order of characters does not matter).\n",
    "`.lstrip()` | Returns copy of string with whitespace removed from left side only\n",
    "`.rstrip()` | Opposite of `.lstrip()`\n",
    "`.center()` | Returns copy of string with string centered.  Specify total number of characters new string will have.  Inserts spaces to left and right.  Optionally, specify a single character other than space to center string with.\n",
    "`.ljust()` | Returns copy of string with string left justified.  Specify total number of characters new string will have.  Inserts spaces to the right.  Optionally, specify a single character other than space to justify string with.\n",
    "`.rjust()` | Opposite of `.ljust()`\n",
    "`.replace()` | Returns copy of string with specified character(s) replaced with other specified character(s).  Can be used to delete character(s).  Optionally, specify max number of replacements.\n",
    "`.translate()` | Similar to `replace()`.  Can only replace single characters with arbitrary strings, but a single call can perform multiple replacements.  Can be used to delete.  Parameter is transition table.  \n",
    "`.maketrans()` | Returns transition table. Parameters can be '', which means ignore.  First parameter is list of characters that need to be replaced. Second parameter is the list of characters used to replace.  Third parameter is characters that will be deleted (they will map to None).  `string.punctuation` generates a list of punctuation.  Good for deleting symbols if only want words in a string.\n",
    "`del` | Deletes entire string.  Can NOT delete individual character(s).\n",
    "`.split()` | Splits the string into list of substrings if it finds the specified separator.  It does not include the separator in any of the substrings. By default the separator space.  If multiple spaces are together then it treats like one space. E.g.  `Hello world` similar to `Hello      world`.  Can specify max number of splits.\n",
    "`.partition()` | Splits the string into tuple of 3 substrings strings.  This first is the \"before\" substring.  The second is the \"separator\" substring.  The third is the \"after\" subsiding.\n",
    "`for` | String used as iterable object to create `for` loop\n",
    "`input()` | displays a prompt and waits for user to input something.  Returns a string."
   ]
  },
  {
   "cell_type": "markdown",
   "id": "add49a36-74a3-4e5e-b2ab-b45c62a0c6eb",
   "metadata": {},
   "source": [
    "---"
   ]
  },
  {
   "cell_type": "markdown",
   "id": "583629b3-d459-4a11-8bfb-55cec04476cb",
   "metadata": {
    "tags": []
   },
   "source": [
    "**EXAMPLES**"
   ]
  },
  {
   "cell_type": "markdown",
   "id": "03e065ce-579e-4b14-9ce2-250bf9dc97f0",
   "metadata": {},
   "source": [
    "**`[#]` and `[#:#]`**"
   ]
  },
  {
   "cell_type": "code",
   "execution_count": 42,
   "id": "346b0c1d-97ac-42cf-b512-7a74a279535c",
   "metadata": {},
   "outputs": [
    {
     "data": {
      "text/plain": [
       "'H'"
      ]
     },
     "execution_count": 42,
     "metadata": {},
     "output_type": "execute_result"
    }
   ],
   "source": [
    "\"Hello\"[0]  # Start counting at 0"
   ]
  },
  {
   "cell_type": "code",
   "execution_count": 43,
   "id": "114966d5-1009-4890-9a70-d6f24c1e2bf8",
   "metadata": {},
   "outputs": [],
   "source": [
    "#\"Hello\"[5]  # This returns an error if run as 5 is not a valid index (0 - 4)"
   ]
  },
  {
   "cell_type": "code",
   "execution_count": 44,
   "id": "8d346cfa-a271-4f05-af13-6de09d7a3afc",
   "metadata": {},
   "outputs": [
    {
     "data": {
      "text/plain": [
       "'Hell'"
      ]
     },
     "execution_count": 44,
     "metadata": {},
     "output_type": "execute_result"
    }
   ],
   "source": [
    "\"Hello\"[0:4]  # Slice"
   ]
  },
  {
   "cell_type": "code",
   "execution_count": 45,
   "id": "6268075c-f4d9-4adc-9021-91c2cae97919",
   "metadata": {},
   "outputs": [
    {
     "data": {
      "text/plain": [
       "'Hello'"
      ]
     },
     "execution_count": 45,
     "metadata": {},
     "output_type": "execute_result"
    }
   ],
   "source": [
    "\"Hello\"[0:5]  # Unlike single indexes, a slice will not return an error if an index is too big"
   ]
  },
  {
   "cell_type": "code",
   "execution_count": 46,
   "id": "63347ce9-1e62-46f0-90aa-75f6a9bd47bb",
   "metadata": {},
   "outputs": [
    {
     "data": {
      "text/plain": [
       "'Hell'"
      ]
     },
     "execution_count": 46,
     "metadata": {},
     "output_type": "execute_result"
    }
   ],
   "source": [
    "\"Hello\"[:4]  # Slice from start"
   ]
  },
  {
   "cell_type": "code",
   "execution_count": 47,
   "id": "34cf85aa-7f04-4f0a-8869-31e073a1f447",
   "metadata": {},
   "outputs": [
    {
     "data": {
      "text/plain": [
       "'ello'"
      ]
     },
     "execution_count": 47,
     "metadata": {},
     "output_type": "execute_result"
    }
   ],
   "source": [
    "\"Hello\"[1:]  # Slice to end"
   ]
  },
  {
   "cell_type": "code",
   "execution_count": 48,
   "id": "5794f564-5e90-4473-ab58-9ae6b446ffd9",
   "metadata": {},
   "outputs": [
    {
     "data": {
      "text/plain": [
       "'Hello'"
      ]
     },
     "execution_count": 48,
     "metadata": {},
     "output_type": "execute_result"
    }
   ],
   "source": [
    "\"Hello\"[:]  # Returns entire string"
   ]
  },
  {
   "cell_type": "code",
   "execution_count": 49,
   "id": "9a1eb563-de1a-44c1-834e-135007e573c3",
   "metadata": {},
   "outputs": [
    {
     "data": {
      "text/plain": [
       "''"
      ]
     },
     "execution_count": 49,
     "metadata": {},
     "output_type": "execute_result"
    }
   ],
   "source": [
    "\"Hello\"[3:1]  # Returns empty string as bigger number is on the left"
   ]
  },
  {
   "cell_type": "code",
   "execution_count": 50,
   "id": "8b87482c-dd2a-4a36-9b06-a8849be7c6ff",
   "metadata": {},
   "outputs": [
    {
     "data": {
      "text/plain": [
       "'o'"
      ]
     },
     "execution_count": 50,
     "metadata": {},
     "output_type": "execute_result"
    }
   ],
   "source": [
    "\"Hello\"[-1]   # Negative indexing"
   ]
  },
  {
   "cell_type": "code",
   "execution_count": 51,
   "id": "93d30a95-08e4-4155-949d-679d328c4715",
   "metadata": {},
   "outputs": [
    {
     "data": {
      "text/plain": [
       "'Hell'"
      ]
     },
     "execution_count": 51,
     "metadata": {},
     "output_type": "execute_result"
    }
   ],
   "source": [
    "\"Hello\"[-5:-1]  # Negative indexing slice"
   ]
  },
  {
   "cell_type": "code",
   "execution_count": 52,
   "id": "c32abd8f-d998-427a-b176-b726153b89b3",
   "metadata": {},
   "outputs": [
    {
     "data": {
      "text/plain": [
       "'Hello'"
      ]
     },
     "execution_count": 52,
     "metadata": {},
     "output_type": "execute_result"
    }
   ],
   "source": [
    "\"Hello\"[-5:]  # Negative indexing slice"
   ]
  },
  {
   "cell_type": "markdown",
   "id": "b75c84b8-a506-436c-85b3-c508411c2a1f",
   "metadata": {},
   "source": [
    "**`len()`**"
   ]
  },
  {
   "cell_type": "code",
   "execution_count": 53,
   "id": "9dc36c6b-92c9-4571-9abf-3bdaf845e3ba",
   "metadata": {},
   "outputs": [
    {
     "data": {
      "text/plain": [
       "11"
      ]
     },
     "execution_count": 53,
     "metadata": {},
     "output_type": "execute_result"
    }
   ],
   "source": [
    "len('Hello world')"
   ]
  },
  {
   "cell_type": "code",
   "execution_count": 54,
   "id": "a61d85ae-37b2-43f9-985f-5319817dc720",
   "metadata": {},
   "outputs": [
    {
     "data": {
      "text/plain": [
       "0"
      ]
     },
     "execution_count": 54,
     "metadata": {},
     "output_type": "execute_result"
    }
   ],
   "source": [
    "len(\"\")  # Empty string"
   ]
  },
  {
   "cell_type": "code",
   "execution_count": 55,
   "id": "da743acb-a6ba-4ca3-a2b4-aef6fd30cf9b",
   "metadata": {},
   "outputs": [
    {
     "data": {
      "text/plain": [
       "1"
      ]
     },
     "execution_count": 55,
     "metadata": {},
     "output_type": "execute_result"
    }
   ],
   "source": [
    "len(\" \")  # Space is 1 character"
   ]
  },
  {
   "cell_type": "code",
   "execution_count": 56,
   "id": "1e7b6d42-ef64-43e0-9c5c-4f78665a83ac",
   "metadata": {},
   "outputs": [
    {
     "data": {
      "text/plain": [
       "1"
      ]
     },
     "execution_count": 56,
     "metadata": {},
     "output_type": "execute_result"
    }
   ],
   "source": [
    "len(\"\\n\")  # Newline is 1 character"
   ]
  },
  {
   "cell_type": "code",
   "execution_count": 57,
   "id": "805ed91a-08b2-46e4-81d6-e5f001ad103c",
   "metadata": {},
   "outputs": [
    {
     "data": {
      "text/plain": [
       "1"
      ]
     },
     "execution_count": 57,
     "metadata": {},
     "output_type": "execute_result"
    }
   ],
   "source": [
    "len(\"\"\"\n",
    "\"\"\")  # Newline is 1 character even if it is shown as whitespace"
   ]
  },
  {
   "cell_type": "code",
   "execution_count": 58,
   "id": "329b5348-2f22-40eb-a179-972fa631209e",
   "metadata": {},
   "outputs": [
    {
     "data": {
      "text/plain": [
       "1"
      ]
     },
     "execution_count": 58,
     "metadata": {},
     "output_type": "execute_result"
    }
   ],
   "source": [
    "len(\"\\t\")  # Tab is 1 character"
   ]
  },
  {
   "cell_type": "code",
   "execution_count": 59,
   "id": "70e80bab-6ca5-406f-971a-66d71582621c",
   "metadata": {
    "tags": []
   },
   "outputs": [
    {
     "data": {
      "text/plain": [
       "4"
      ]
     },
     "execution_count": 59,
     "metadata": {},
     "output_type": "execute_result"
    }
   ],
   "source": [
    "len(\"    \")  # Tab key was clicked.  Tab is automatically converted to 4 spaces by Jupyter notebook."
   ]
  },
  {
   "cell_type": "markdown",
   "id": "bc4f510c-f446-4bfa-964c-161c90a782a7",
   "metadata": {},
   "source": [
    "**`min()`**"
   ]
  },
  {
   "cell_type": "code",
   "execution_count": 60,
   "id": "87bcf28f-1889-4e64-b65e-60f5bb58f941",
   "metadata": {},
   "outputs": [
    {
     "data": {
      "text/plain": [
       "' '"
      ]
     },
     "execution_count": 60,
     "metadata": {},
     "output_type": "execute_result"
    }
   ],
   "source": [
    "min(\"Hello world\")"
   ]
  },
  {
   "cell_type": "markdown",
   "id": "9118d08b-21e8-4353-a82e-f901a0cc6a41",
   "metadata": {},
   "source": [
    "**`max()`**"
   ]
  },
  {
   "cell_type": "code",
   "execution_count": 61,
   "id": "d351c6d8-d3f6-4df0-a009-9ab30fffff3e",
   "metadata": {},
   "outputs": [
    {
     "data": {
      "text/plain": [
       "'w'"
      ]
     },
     "execution_count": 61,
     "metadata": {},
     "output_type": "execute_result"
    }
   ],
   "source": [
    "max(\"Hello world\")"
   ]
  },
  {
   "cell_type": "markdown",
   "id": "e06bbe8f-3bd6-431a-8464-481ff75fa78b",
   "metadata": {},
   "source": [
    "**comparison operators**"
   ]
  },
  {
   "cell_type": "code",
   "execution_count": 62,
   "id": "5b47a807-9e32-4d58-b143-a0aae5e27047",
   "metadata": {},
   "outputs": [
    {
     "data": {
      "text/plain": [
       "False"
      ]
     },
     "execution_count": 62,
     "metadata": {},
     "output_type": "execute_result"
    }
   ],
   "source": [
    "\"a\" == \"b\""
   ]
  },
  {
   "cell_type": "code",
   "execution_count": 63,
   "id": "26bf0a52-1e0d-4e32-82ce-9d9d883f584a",
   "metadata": {},
   "outputs": [
    {
     "data": {
      "text/plain": [
       "True"
      ]
     },
     "execution_count": 63,
     "metadata": {},
     "output_type": "execute_result"
    }
   ],
   "source": [
    "\"a\" < \"b\""
   ]
  },
  {
   "cell_type": "code",
   "execution_count": 64,
   "id": "1c91261d-bf5d-49f0-a22c-9e84b00a8840",
   "metadata": {},
   "outputs": [
    {
     "data": {
      "text/plain": [
       "True"
      ]
     },
     "execution_count": 64,
     "metadata": {},
     "output_type": "execute_result"
    }
   ],
   "source": [
    "\"A\" < \"a\""
   ]
  },
  {
   "cell_type": "code",
   "execution_count": 65,
   "id": "f662418d-fe8a-41d3-9669-4c023af4ae7a",
   "metadata": {},
   "outputs": [
    {
     "data": {
      "text/plain": [
       "True"
      ]
     },
     "execution_count": 65,
     "metadata": {},
     "output_type": "execute_result"
    }
   ],
   "source": [
    "\"aa\" < \"ab\""
   ]
  },
  {
   "cell_type": "markdown",
   "id": "132c73fa-6c10-40e9-98f2-627c5c4235fc",
   "metadata": {},
   "source": [
    "`*`"
   ]
  },
  {
   "cell_type": "code",
   "execution_count": 66,
   "id": "d084cb08-c6c9-450e-a222-b493ec09da20",
   "metadata": {},
   "outputs": [
    {
     "data": {
      "text/plain": [
       "'Hello Hello Hello '"
      ]
     },
     "execution_count": 66,
     "metadata": {},
     "output_type": "execute_result"
    }
   ],
   "source": [
    "'Hello ' * 3"
   ]
  },
  {
   "cell_type": "markdown",
   "id": "0c2017f3-6f4d-434e-ae72-e1605f24f0f0",
   "metadata": {},
   "source": [
    "**`.count()`**"
   ]
  },
  {
   "cell_type": "code",
   "execution_count": 67,
   "id": "523d18a6-8cd5-46de-9154-e1ca1d5de200",
   "metadata": {},
   "outputs": [
    {
     "data": {
      "text/plain": [
       "1"
      ]
     },
     "execution_count": 67,
     "metadata": {},
     "output_type": "execute_result"
    }
   ],
   "source": [
    "\"Hello world\".count(\"world\")"
   ]
  },
  {
   "cell_type": "markdown",
   "id": "55a83c06-6dee-412a-bd6e-cbaa75d41783",
   "metadata": {},
   "source": [
    "**`.index()`**"
   ]
  },
  {
   "cell_type": "code",
   "execution_count": 68,
   "id": "ca8ca107-78da-45b6-b38f-c63a2b86a67f",
   "metadata": {},
   "outputs": [
    {
     "data": {
      "text/plain": [
       "6"
      ]
     },
     "execution_count": 68,
     "metadata": {},
     "output_type": "execute_result"
    }
   ],
   "source": [
    "\"Hello world\".index(\"world\")"
   ]
  },
  {
   "cell_type": "markdown",
   "id": "24e10045-8e8d-4068-9874-ef4780aece48",
   "metadata": {},
   "source": [
    "**`.find()`**"
   ]
  },
  {
   "cell_type": "code",
   "execution_count": 69,
   "id": "f3cd0ac8-6ecf-4b7a-9e3b-de14357d1b74",
   "metadata": {},
   "outputs": [
    {
     "data": {
      "text/plain": [
       "6"
      ]
     },
     "execution_count": 69,
     "metadata": {},
     "output_type": "execute_result"
    }
   ],
   "source": [
    "\"Hello world\".find(\"world\")"
   ]
  },
  {
   "cell_type": "code",
   "execution_count": 70,
   "id": "f6c0f30b-582b-44b2-8ca4-702f8e08ba43",
   "metadata": {},
   "outputs": [
    {
     "data": {
      "text/plain": [
       "-1"
      ]
     },
     "execution_count": 70,
     "metadata": {},
     "output_type": "execute_result"
    }
   ],
   "source": [
    "\"Hello world\".find(\"moon\")  # Returns -1 instead of error"
   ]
  },
  {
   "cell_type": "code",
   "execution_count": 71,
   "id": "a1875c2a-40f8-47f2-892e-5c720b18322a",
   "metadata": {},
   "outputs": [
    {
     "data": {
      "text/plain": [
       "9"
      ]
     },
     "execution_count": 71,
     "metadata": {},
     "output_type": "execute_result"
    }
   ],
   "source": [
    "\"Hello world\".find(\"l\", 4)  # Starts searching at the 4th character "
   ]
  },
  {
   "cell_type": "markdown",
   "id": "12a6da8f-568a-49f3-8dca-8c3235111e03",
   "metadata": {},
   "source": [
    "**`in`**"
   ]
  },
  {
   "cell_type": "code",
   "execution_count": 72,
   "id": "050bc11a-04cc-46d8-b4e0-39f0ee638d87",
   "metadata": {},
   "outputs": [
    {
     "data": {
      "text/plain": [
       "True"
      ]
     },
     "execution_count": 72,
     "metadata": {},
     "output_type": "execute_result"
    }
   ],
   "source": [
    "\"world\" in \"Hello world\""
   ]
  },
  {
   "cell_type": "markdown",
   "id": "a6c403a8-e20f-4b8f-8ee1-ad67fa0325c8",
   "metadata": {},
   "source": [
    "**`not in`**"
   ]
  },
  {
   "cell_type": "code",
   "execution_count": 73,
   "id": "c31af487-e7cf-4914-8b9c-3a8ee7de6a4e",
   "metadata": {},
   "outputs": [
    {
     "data": {
      "text/plain": [
       "False"
      ]
     },
     "execution_count": 73,
     "metadata": {},
     "output_type": "execute_result"
    }
   ],
   "source": [
    "\"world\" not in \"Hello world\""
   ]
  },
  {
   "cell_type": "markdown",
   "id": "c0e22bd0-552f-4aa9-809e-83cdafdef7df",
   "metadata": {},
   "source": [
    "**`is<METHOD>()`**"
   ]
  },
  {
   "cell_type": "code",
   "execution_count": 74,
   "id": "ac340b95-879e-4732-8091-98a236e7984e",
   "metadata": {},
   "outputs": [
    {
     "data": {
      "text/plain": [
       "False"
      ]
     },
     "execution_count": 74,
     "metadata": {},
     "output_type": "execute_result"
    }
   ],
   "source": [
    "\"Hello world\".isalpha()  # Has spaces so is False"
   ]
  },
  {
   "cell_type": "markdown",
   "id": "8bf57e7c-6e70-4ddd-bc5f-f2431621520f",
   "metadata": {},
   "source": [
    "**`.startswith()`**"
   ]
  },
  {
   "cell_type": "code",
   "execution_count": 75,
   "id": "87680112-33ba-4dd0-97fe-f59f2bb85505",
   "metadata": {},
   "outputs": [
    {
     "data": {
      "text/plain": [
       "False"
      ]
     },
     "execution_count": 75,
     "metadata": {},
     "output_type": "execute_result"
    }
   ],
   "source": [
    "\"Hello world\".startswith(\"world\")"
   ]
  },
  {
   "cell_type": "markdown",
   "id": "aa709c02-2c43-47c9-9897-4c1a7ba57d8e",
   "metadata": {},
   "source": [
    "**`.endswith()`**"
   ]
  },
  {
   "cell_type": "code",
   "execution_count": 76,
   "id": "726c3d6d-46cd-46bf-baae-71bd263f6154",
   "metadata": {},
   "outputs": [
    {
     "data": {
      "text/plain": [
       "True"
      ]
     },
     "execution_count": 76,
     "metadata": {},
     "output_type": "execute_result"
    }
   ],
   "source": [
    "\"Hello world\".endswith(\"world\")"
   ]
  },
  {
   "cell_type": "markdown",
   "id": "00758802-611f-4721-aef8-78d8c61b784a",
   "metadata": {},
   "source": [
    "**`.upper()`**"
   ]
  },
  {
   "cell_type": "code",
   "execution_count": 77,
   "id": "64216bdc-74fe-40d8-b5d2-77a0c55df245",
   "metadata": {},
   "outputs": [
    {
     "data": {
      "text/plain": [
       "'HELLO WORLD'"
      ]
     },
     "execution_count": 77,
     "metadata": {},
     "output_type": "execute_result"
    }
   ],
   "source": [
    "'Hello world'.upper()"
   ]
  },
  {
   "cell_type": "markdown",
   "id": "7498f45e-2465-4b1c-b655-385e10a8cb1b",
   "metadata": {},
   "source": [
    "**`.lower()`**"
   ]
  },
  {
   "cell_type": "code",
   "execution_count": 78,
   "id": "9bfe8c47-9d78-4f15-9613-15519fc801e7",
   "metadata": {},
   "outputs": [
    {
     "data": {
      "text/plain": [
       "'hello world'"
      ]
     },
     "execution_count": 78,
     "metadata": {},
     "output_type": "execute_result"
    }
   ],
   "source": [
    "'Hello world'.lower()"
   ]
  },
  {
   "cell_type": "markdown",
   "id": "0a734bf6-7c8a-4335-a977-9acbcc80508d",
   "metadata": {},
   "source": [
    "**`.strip()`**"
   ]
  },
  {
   "cell_type": "code",
   "execution_count": 79,
   "id": "2f47ed3a-cf4e-4439-81e2-029790a64357",
   "metadata": {},
   "outputs": [
    {
     "data": {
      "text/plain": [
       "'Hello world'"
      ]
     },
     "execution_count": 79,
     "metadata": {},
     "output_type": "execute_result"
    }
   ],
   "source": [
    "'   Hello world   '.strip()"
   ]
  },
  {
   "cell_type": "code",
   "execution_count": 80,
   "id": "9937cc10-4ea2-4084-a4bf-5384d1e61157",
   "metadata": {},
   "outputs": [
    {
     "data": {
      "text/plain": [
       "'BaconSpamEggs'"
      ]
     },
     "execution_count": 80,
     "metadata": {},
     "output_type": "execute_result"
    }
   ],
   "source": [
    "'SpamSpamBaconSpamEggsSpamSpam'.strip('mapS')"
   ]
  },
  {
   "cell_type": "markdown",
   "id": "79ab59b2-1f45-4713-8108-40e546cf0a0f",
   "metadata": {},
   "source": [
    "**`.lstrip()`**"
   ]
  },
  {
   "cell_type": "code",
   "execution_count": 81,
   "id": "6aee9f7f-15cf-4344-8a94-4318ab221333",
   "metadata": {},
   "outputs": [
    {
     "data": {
      "text/plain": [
       "'Hello world    '"
      ]
     },
     "execution_count": 81,
     "metadata": {},
     "output_type": "execute_result"
    }
   ],
   "source": [
    "'    Hello world    '.lstrip()"
   ]
  },
  {
   "cell_type": "markdown",
   "id": "401cb0cf-005a-493c-8684-23db450d5792",
   "metadata": {},
   "source": [
    "**`.rstrip()`**"
   ]
  },
  {
   "cell_type": "code",
   "execution_count": 82,
   "id": "d4d791c6-250e-4744-8eaf-a4bdc1681a92",
   "metadata": {},
   "outputs": [
    {
     "data": {
      "text/plain": [
       "'    Hello world'"
      ]
     },
     "execution_count": 82,
     "metadata": {},
     "output_type": "execute_result"
    }
   ],
   "source": [
    "'    Hello world    '.rstrip()"
   ]
  },
  {
   "cell_type": "markdown",
   "id": "9bcc7724-d118-4c6d-b8ea-628dcdc15c4b",
   "metadata": {},
   "source": [
    "**`.center()`**"
   ]
  },
  {
   "cell_type": "code",
   "execution_count": 83,
   "id": "5c36b408-cecf-4a1c-9e57-3a4ddbf60a78",
   "metadata": {},
   "outputs": [
    {
     "data": {
      "text/plain": [
       "'    Hello world     '"
      ]
     },
     "execution_count": 83,
     "metadata": {},
     "output_type": "execute_result"
    }
   ],
   "source": [
    "'Hello world'.center(20, ' ')"
   ]
  },
  {
   "cell_type": "code",
   "execution_count": 84,
   "id": "59b341e4-7fa8-423a-bbf3-987c1002fe4e",
   "metadata": {},
   "outputs": [
    {
     "data": {
      "text/plain": [
       "'----Hello world-----'"
      ]
     },
     "execution_count": 84,
     "metadata": {},
     "output_type": "execute_result"
    }
   ],
   "source": [
    "'Hello world'.center(20, '-')"
   ]
  },
  {
   "cell_type": "markdown",
   "id": "5152b87f-7656-408d-bc70-1ca725effdcd",
   "metadata": {},
   "source": [
    "**`.ljust()`**"
   ]
  },
  {
   "cell_type": "code",
   "execution_count": 85,
   "id": "04fe96ba-b921-409e-92e0-beda6d774d90",
   "metadata": {
    "tags": []
   },
   "outputs": [
    {
     "data": {
      "text/plain": [
       "'Hello world---------'"
      ]
     },
     "execution_count": 85,
     "metadata": {},
     "output_type": "execute_result"
    }
   ],
   "source": [
    "'Hello world'.ljust(20, '-')"
   ]
  },
  {
   "cell_type": "markdown",
   "id": "86634e27-69c6-4fbf-9276-7ba5c22b22b4",
   "metadata": {},
   "source": [
    "**`.rjust()`**"
   ]
  },
  {
   "cell_type": "code",
   "execution_count": 86,
   "id": "56ccf40a-a7e5-4442-b96f-1e28fa2fc50a",
   "metadata": {},
   "outputs": [
    {
     "data": {
      "text/plain": [
       "'---------Hello world'"
      ]
     },
     "execution_count": 86,
     "metadata": {},
     "output_type": "execute_result"
    }
   ],
   "source": [
    "'Hello world'.rjust(20, '-')"
   ]
  },
  {
   "cell_type": "markdown",
   "id": "561a1d30-183c-4bdb-85d6-7166c545a2bf",
   "metadata": {},
   "source": [
    "**`.replace`**"
   ]
  },
  {
   "cell_type": "code",
   "execution_count": 87,
   "id": "4296dace-a1e6-4966-88a4-b02b87b16737",
   "metadata": {},
   "outputs": [
    {
     "data": {
      "text/plain": [
       "'Jello world'"
      ]
     },
     "execution_count": 87,
     "metadata": {},
     "output_type": "execute_result"
    }
   ],
   "source": [
    "\"Hello world\".replace('H','J')"
   ]
  },
  {
   "cell_type": "code",
   "execution_count": 88,
   "id": "61889643-37fc-4f0d-9ea3-0e75f23ad705",
   "metadata": {},
   "outputs": [
    {
     "data": {
      "text/plain": [
       "'ello world'"
      ]
     },
     "execution_count": 88,
     "metadata": {},
     "output_type": "execute_result"
    }
   ],
   "source": [
    "\"Hello world\".replace('H','')  # Deletes character"
   ]
  },
  {
   "cell_type": "code",
   "execution_count": 89,
   "id": "2d2e0bf9-60c8-418e-bf44-20177f663209",
   "metadata": {},
   "outputs": [
    {
     "data": {
      "text/plain": [
       "'HeJJo worJd'"
      ]
     },
     "execution_count": 89,
     "metadata": {},
     "output_type": "execute_result"
    }
   ],
   "source": [
    "\"Hello world\".replace('l','J')  # Replaces all occurances"
   ]
  },
  {
   "cell_type": "code",
   "execution_count": 90,
   "id": "d4b37c4d-b716-484a-84fa-0e2a4f0e2899",
   "metadata": {},
   "outputs": [
    {
     "data": {
      "text/plain": [
       "'Hello moon'"
      ]
     },
     "execution_count": 90,
     "metadata": {},
     "output_type": "execute_result"
    }
   ],
   "source": [
    "\"Hello world\".replace('world','moon')  # Replaces multiple characters at once"
   ]
  },
  {
   "cell_type": "markdown",
   "id": "7f543885-ec76-4f1b-be9b-039b0f984d4f",
   "metadata": {},
   "source": [
    "**`.translate()`**"
   ]
  },
  {
   "cell_type": "code",
   "execution_count": 91,
   "id": "adb7c878-129f-4e84-a145-21c80f379223",
   "metadata": {},
   "outputs": [
    {
     "data": {
      "text/plain": [
       "'Jellu wurld'"
      ]
     },
     "execution_count": 91,
     "metadata": {},
     "output_type": "execute_result"
    }
   ],
   "source": [
    "# Replace \"H\" with \"J\" and all \"o\"s with \"u\"s\n",
    "table = \"\".maketrans('Ho','Ju')\n",
    "\"Hello world\".translate(table)"
   ]
  },
  {
   "cell_type": "code",
   "execution_count": 92,
   "id": "fd0e4716-fbca-4d6f-bcaa-b06cf59e9dde",
   "metadata": {},
   "outputs": [
    {
     "data": {
      "text/plain": [
       "'Hll wrld'"
      ]
     },
     "execution_count": 92,
     "metadata": {},
     "output_type": "execute_result"
    }
   ],
   "source": [
    "# Delete characters\n",
    "table = \"\".maketrans('', '', 'eo')\n",
    "\"Hello world\".translate(table)"
   ]
  },
  {
   "cell_type": "code",
   "execution_count": 93,
   "id": "846508ff-7c87-419c-8feb-5179602921a1",
   "metadata": {},
   "outputs": [
    {
     "data": {
      "text/plain": [
       "'Jllu wurld'"
      ]
     },
     "execution_count": 93,
     "metadata": {},
     "output_type": "execute_result"
    }
   ],
   "source": [
    "# Replace and delete\n",
    "table = \"\".maketrans('Ho', 'Ju', 'e')\n",
    "\"Hello world\".translate(table)"
   ]
  },
  {
   "cell_type": "code",
   "execution_count": 94,
   "id": "291d51ed-d62d-4e84-beac-0eac532aee63",
   "metadata": {},
   "outputs": [
    {
     "name": "stdout",
     "output_type": "stream",
     "text": [
      "!\"#$%&'()*+,-./:;<=>?@[\\]^_`{|}~\n",
      "Hello world\n"
     ]
    }
   ],
   "source": [
    "import string\n",
    "\n",
    "# Delete punctuation\n",
    "print(string.punctuation)  # Showing punctuation\n",
    "table = \"\".maketrans('', '', string.punctuation)\n",
    "print(\"Hello world!!!\".translate(table))"
   ]
  },
  {
   "cell_type": "markdown",
   "id": "dc577f2d-a8f7-48dd-8689-49a2c4a877c4",
   "metadata": {},
   "source": [
    "**`.split()`**"
   ]
  },
  {
   "cell_type": "code",
   "execution_count": 95,
   "id": "12a0efb4-b5b9-45a7-b20a-cef83e404d60",
   "metadata": {},
   "outputs": [
    {
     "data": {
      "text/plain": [
       "['Hello', 'world']"
      ]
     },
     "execution_count": 95,
     "metadata": {},
     "output_type": "execute_result"
    }
   ],
   "source": [
    "'Hello world'.split(' ')  # Returns list"
   ]
  },
  {
   "cell_type": "markdown",
   "id": "3512d01d-2eb6-4b05-8ad0-16a55ab89fda",
   "metadata": {},
   "source": [
    "**`.partition()`**"
   ]
  },
  {
   "cell_type": "code",
   "execution_count": 96,
   "id": "262bc964-da6c-45c8-9af4-2cf9019ac07e",
   "metadata": {},
   "outputs": [
    {
     "data": {
      "text/plain": [
       "('Hello', ' ', 'world')"
      ]
     },
     "execution_count": 96,
     "metadata": {},
     "output_type": "execute_result"
    }
   ],
   "source": [
    "'Hello world'.partition(' ')  # Returns tuple"
   ]
  },
  {
   "cell_type": "markdown",
   "id": "bbeef6c3-ab17-4c42-a569-de2d63ef4fef",
   "metadata": {},
   "source": [
    "**input()**"
   ]
  },
  {
   "cell_type": "markdown",
   "id": "5f3fe8c0-6a6f-4b2d-911d-49cc768fadb1",
   "metadata": {},
   "source": [
    "- The Python code in this cell requires user input when run\n",
    "- To avoid prompts and allow the ipython kernel to run all code cells at once, this cell has been converted into a Markdown cell\n",
    "- Markdown grammar displays text as if it were Python code\n",
    "\n",
    "```Python\n",
    "input('Please input something here and press enter')\n",
    "```"
   ]
  },
  {
   "cell_type": "markdown",
   "id": "3f0e2335-1798-4f39-aa56-69da202f0e2a",
   "metadata": {},
   "source": [
    "---"
   ]
  },
  {
   "cell_type": "markdown",
   "id": "9758bb7c-d157-43ec-946b-0441b91b13a1",
   "metadata": {},
   "source": [
    "## Escape Characters\n",
    "- **Escape Characters**--characters preceded by `\\` that have special functions. Python treats them as a single character.\n",
    "\n",
    "Code | Name | Use\n",
    "--- | --- | ---\n",
    "`\\\"` | Double Quotes |  Able to put quotes where they would ordinarily cause an error\n",
    "`\\'` | Single Quote | Able to put quotes where they would ordinarily cause an error\n",
    "`\\n` | New line, NL | Inserts line of whitespace\n",
    "`\\t` | Tab |  Inserts tab of whitespace\n",
    "`\\v` | Vertical Tab | Insert both a new line and a tab of whitespace\n",
    "`\\newline` | Ignore newline | Backslash and newline ignored\n",
    "`\\\\` | Backslash |  Inserts one backslash and cancels out any escape function the original backslash was doing\n",
    "`\\r` | Carriage return | The text after `\\r` get inserted into the beginning of that current line, replacing an equal number of characters\n",
    "`\\b` | Backspace | Removes previous character\n",
    "`\\f` | Form Feed | Inserts new line and tab of whitespace\n",
    "`\\o##` | Octal value | Returns character represented by specified octal value\n",
    "`\\x##` | Hex value | Returns character represented by specified hex value\n",
    "`\\uxxxx` | 16 bit Unicode | Returns character represented by specified Unicode code point\n",
    "`\\Uxxxxxxxx` | 32 bit Unicode | Returns character represented by specified Unicode code point\n",
    "`\\a` | ASCII Bell | Unsure.  Returns whitespace.\n",
    "`\\N{name}` | Name | Returns character named \"name\""
   ]
  },
  {
   "cell_type": "markdown",
   "id": "df94f85b-0fec-430b-ba0b-57c6f7476bd0",
   "metadata": {},
   "source": [
    "---"
   ]
  },
  {
   "cell_type": "markdown",
   "id": "b7678787-f748-45d3-b6a7-34c96ac06de0",
   "metadata": {},
   "source": [
    "**EXAMPLES**"
   ]
  },
  {
   "cell_type": "markdown",
   "id": "65dab6b6-8324-40b2-8475-a09fe65a42ce",
   "metadata": {},
   "source": [
    "**`\\\"`**"
   ]
  },
  {
   "cell_type": "code",
   "execution_count": 97,
   "id": "e1643356-5167-4de4-b99e-c9de95fe74e6",
   "metadata": {},
   "outputs": [
    {
     "name": "stdout",
     "output_type": "stream",
     "text": [
      "The cat said, \"Hello world\"\n"
     ]
    }
   ],
   "source": [
    "print(\"The cat said, \\\"Hello world\\\"\")"
   ]
  },
  {
   "cell_type": "markdown",
   "id": "17fbd266-3039-4949-8284-ed6ddac7bec4",
   "metadata": {},
   "source": [
    "**`\\'`**"
   ]
  },
  {
   "cell_type": "code",
   "execution_count": 98,
   "id": "9cc21c03-67ae-4ce8-8bef-18cd3928d509",
   "metadata": {},
   "outputs": [
    {
     "name": "stdout",
     "output_type": "stream",
     "text": [
      "The cat said, \"'ello world\"\n"
     ]
    }
   ],
   "source": [
    "print('The cat said, \"\\'ello world\"')"
   ]
  },
  {
   "cell_type": "markdown",
   "id": "969a6f14-7c58-43ae-89d9-d7e3bb103bc9",
   "metadata": {},
   "source": [
    "**`\\n`**"
   ]
  },
  {
   "cell_type": "code",
   "execution_count": 99,
   "id": "e1b68d47-17bd-489c-b3d7-7c568e602dd0",
   "metadata": {},
   "outputs": [
    {
     "name": "stdout",
     "output_type": "stream",
     "text": [
      "Hello \n",
      "world\n"
     ]
    }
   ],
   "source": [
    "print(\"Hello \\nworld\")"
   ]
  },
  {
   "cell_type": "markdown",
   "id": "2f35ec95-4442-4656-852b-28f5f52622d4",
   "metadata": {},
   "source": [
    "**`\\t`**"
   ]
  },
  {
   "cell_type": "code",
   "execution_count": 100,
   "id": "83e5baf2-29e1-46ae-8ce7-28393c48dd11",
   "metadata": {
    "tags": []
   },
   "outputs": [
    {
     "name": "stdout",
     "output_type": "stream",
     "text": [
      "Hello \t world\n"
     ]
    }
   ],
   "source": [
    "print('Hello \\t world')"
   ]
  },
  {
   "cell_type": "markdown",
   "id": "a8d51fa5-810c-4900-8d11-debb201dc998",
   "metadata": {},
   "source": [
    "`Ignore Newline`"
   ]
  },
  {
   "cell_type": "code",
   "execution_count": 101,
   "id": "d573bf2c-3305-4c16-8f10-76bcca8e62f0",
   "metadata": {},
   "outputs": [
    {
     "name": "stdout",
     "output_type": "stream",
     "text": [
      "Hello world\n"
     ]
    }
   ],
   "source": [
    "print('Hello \\\n",
    "world')"
   ]
  },
  {
   "cell_type": "markdown",
   "id": "ff4ae7b2-0a3c-4729-88d7-0a932682052d",
   "metadata": {},
   "source": [
    "**`\\\\`**"
   ]
  },
  {
   "cell_type": "code",
   "execution_count": 102,
   "id": "1a724b44-8ffa-45d0-855a-bc5fed57ea49",
   "metadata": {},
   "outputs": [],
   "source": [
    "#print('\\')  # This does not work because the \\' is actually an escape character.  There is no closing quote."
   ]
  },
  {
   "cell_type": "code",
   "execution_count": 103,
   "id": "7963c6ef-c8bd-4849-85d7-581c9a0e2d70",
   "metadata": {},
   "outputs": [
    {
     "name": "stdout",
     "output_type": "stream",
     "text": [
      "\\\n"
     ]
    }
   ],
   "source": [
    "print('\\\\')  # This works because we used \\\\.  There is a closing quote."
   ]
  },
  {
   "cell_type": "markdown",
   "id": "2c1320a9-bb34-40e4-acae-f868737b860e",
   "metadata": {},
   "source": [
    "**`\\r`**"
   ]
  },
  {
   "cell_type": "code",
   "execution_count": 104,
   "id": "8939ef5f-70d3-42ae-8e03-aa367fa012ff",
   "metadata": {},
   "outputs": [
    {
     "name": "stdout",
     "output_type": "stream",
     "text": [
      "Fo sho  bro \n"
     ]
    }
   ],
   "source": [
    "print('Replace bro \\rFo sho ')"
   ]
  },
  {
   "cell_type": "markdown",
   "id": "1a935dda-3f3f-441c-b687-96800d92898b",
   "metadata": {},
   "source": [
    "---"
   ]
  },
  {
   "cell_type": "markdown",
   "id": "52245158-58db-4f91-ab80-e8ed5e0a9838",
   "metadata": {
    "tags": []
   },
   "source": [
    "## Raw Strings\n",
    "- **Raw string**--string preceded by `r` or `R` that that ignores escape characters (*mostly*)\n",
    "- We could use an additional preceding backslash to cancel out action of escape characters, but this is tedious and hard to read\n",
    "- Raw strings can be helpful when:\n",
    "    1. Dealing with Windows file paths.  Only Windows file paths use backslashes instead of forward slashes.\n",
    "    1. Dealing with regular expressions.  See *Regular Expressions* section."
   ]
  },
  {
   "cell_type": "markdown",
   "id": "55b179fc-faf6-4d51-b11a-d33bbec730d2",
   "metadata": {},
   "source": [
    "---"
   ]
  },
  {
   "cell_type": "markdown",
   "id": "70763a40-636f-4db5-b091-e8e548c028a3",
   "metadata": {},
   "source": [
    "**EXAMPLES**"
   ]
  },
  {
   "cell_type": "markdown",
   "id": "79ad46f7-1664-49bc-9376-d75898e7b8fb",
   "metadata": {},
   "source": [
    "**Windows File Paths**\n",
    "- In the below example, `\\U` is an escape character for a Unicode code point.  We must escape the escape or use a raw string."
   ]
  },
  {
   "cell_type": "code",
   "execution_count": 105,
   "id": "e4b54778-03cf-45da-aa6f-34c3cf5ff37c",
   "metadata": {},
   "outputs": [
    {
     "name": "stdout",
     "output_type": "stream",
     "text": [
      "C:\\Users\\<USER_NAME>\\Documents\n"
     ]
    }
   ],
   "source": [
    "print('C:\\\\Users\\\\<USER_NAME>\\\\Documents')  # Escape the escape"
   ]
  },
  {
   "cell_type": "code",
   "execution_count": 106,
   "id": "41029da5-06d2-4e77-9587-22dfe43abf11",
   "metadata": {},
   "outputs": [
    {
     "name": "stdout",
     "output_type": "stream",
     "text": [
      "C:\\Users\\<USER_NAME>\\Documents\n"
     ]
    }
   ],
   "source": [
    "print(r'C:\\Users\\<USER_NAME>\\Documents')  # Raw string"
   ]
  },
  {
   "cell_type": "markdown",
   "id": "56a840ab-1ae8-4976-b6ae-e08ec1921c58",
   "metadata": {},
   "source": [
    "**Mostly**\n",
    "- We say mostly because there is a historic feature/bug where a raw string can NOT end with an odd number of backslashes.  The unpaired backslash at the end escapes the closing quote character, leaving an unterminated string. "
   ]
  },
  {
   "cell_type": "code",
   "execution_count": 107,
   "id": "c0b30599-72bc-4269-b929-1728ef93d3ab",
   "metadata": {},
   "outputs": [
    {
     "name": "stdout",
     "output_type": "stream",
     "text": [
      "Text \\\\\n"
     ]
    }
   ],
   "source": [
    "#print(r'Text \\')  # Causes error.  Escapes closing quote then includes it as part of string. Now no closing quote.\n",
    "print(r'Text \\\\')  # Okay.  First backslash escapes second, then both included as part of string.  Closing quote.\n",
    "#print(r'Text \\\\\\')  # Causes error.  Combo of two backslashes that are okay and one backslash that causes error."
   ]
  },
  {
   "cell_type": "markdown",
   "id": "c3830b86-94bf-4eca-8966-b190e5264589",
   "metadata": {},
   "source": [
    "---"
   ]
  },
  {
   "cell_type": "markdown",
   "id": "aaabf256-6a9c-402b-bf0d-4686778e67b4",
   "metadata": {},
   "source": [
    "## String Formatting\n",
    "- **String formatting**--combine strings and expressions\n",
    "- There are multiple ways to combine strings and expressions\n",
    "- f-strings are the newest, most versatile, and least tedious to write and read.  f-strings are recommended.\n",
    "- It is good to be aware of other ways to perform string interpolation in case we are viewing older code\n",
    "\n",
    "Code | Use\n",
    "--- | ---\n",
    "`+` |  Returns concatenated string.  Only works with string data types.  Does NOT automatically insert space. Tedious.\n",
    "`%s` | Old version of `.format()`.  An example of a **conversion specifier**.  Tedious.\n",
    "`.format()` | Old version of f-string. Tedious.\n",
    "**f-string** | Formatted strings.  Returns copy of string with data of any other type converted into string type and placed into {}. Evaluated at runtime.  Can put any valid Python expression in {}."
   ]
  },
  {
   "cell_type": "markdown",
   "id": "be44e7f8-3de6-4094-bfca-162206769eca",
   "metadata": {},
   "source": [
    "---"
   ]
  },
  {
   "cell_type": "markdown",
   "id": "1bf5d4f9-8812-4202-9f57-5883a6b6d95c",
   "metadata": {},
   "source": [
    "**EXAMPLES**"
   ]
  },
  {
   "cell_type": "markdown",
   "id": "dbf102f7-3c4a-47ac-8789-c75fe5416bbe",
   "metadata": {},
   "source": [
    "**`+`**"
   ]
  },
  {
   "cell_type": "code",
   "execution_count": 108,
   "id": "eaa922cd-9521-4f00-8218-3cb38bf876c2",
   "metadata": {},
   "outputs": [
    {
     "name": "stdout",
     "output_type": "stream",
     "text": [
      "Hello world, my name is Hobbes and I am 36 years old\n"
     ]
    }
   ],
   "source": [
    "name = 'Hobbes'\n",
    "age = 36\n",
    "print('Hello world, my name is ' + name + ' and I am ' + str(age) + ' years old')"
   ]
  },
  {
   "cell_type": "markdown",
   "id": "32c74f62-b5e7-403d-8ae3-cc9b1b21516d",
   "metadata": {},
   "source": [
    "**`%s`**"
   ]
  },
  {
   "cell_type": "code",
   "execution_count": 109,
   "id": "60126876-f349-4841-96d9-4384cf8414b8",
   "metadata": {},
   "outputs": [
    {
     "name": "stdout",
     "output_type": "stream",
     "text": [
      "Hello world, my name is Hobbes and I am 36 years old\n"
     ]
    }
   ],
   "source": [
    "name = 'Hobbes'\n",
    "age = 36\n",
    "print('Hello world, my name is %s and I am %s years old'%(name, age))"
   ]
  },
  {
   "cell_type": "markdown",
   "id": "8dd7d0a6-0bd0-437a-bc72-5fa96511ed4f",
   "metadata": {},
   "source": [
    "**`.format()`**"
   ]
  },
  {
   "cell_type": "code",
   "execution_count": 110,
   "id": "b4838dda-3951-410c-b68f-eceaf15a73ad",
   "metadata": {},
   "outputs": [
    {
     "name": "stdout",
     "output_type": "stream",
     "text": [
      "Hello world, my name is Hobbes and I am 36 years old\n"
     ]
    }
   ],
   "source": [
    "name = 'Hobbes'\n",
    "age = 36\n",
    "print('Hello world, my name is {} and I am {} years old'.format(name, age))"
   ]
  },
  {
   "cell_type": "markdown",
   "id": "69bfb6de-2346-402a-bdc4-8c618543c98c",
   "metadata": {},
   "source": [
    "**f-strings**"
   ]
  },
  {
   "cell_type": "code",
   "execution_count": 111,
   "id": "8f5c4f5b-a2e3-46ac-88ff-2aa0df2bb773",
   "metadata": {},
   "outputs": [
    {
     "name": "stdout",
     "output_type": "stream",
     "text": [
      "Hello world, my name is Hobbes and I am 36 years old\n"
     ]
    }
   ],
   "source": [
    "name = 'Hobbes'\n",
    "age = 36\n",
    "print(f'Hello world, my name is {name} and I am {age} years old')"
   ]
  },
  {
   "cell_type": "markdown",
   "id": "b665d0e8-a38a-47b1-b032-06df86bf18c6",
   "metadata": {
    "tags": []
   },
   "source": [
    "# Lists\n",
    "- Lists are mutable so list *methods* may change the existing list \"in place\" instead of making a copy.  For this reason some list methods have a return value of None.  If the return value is None, we can NOT assign the output of a list method to a variable name.  This would cause an error.\n",
    "\n",
    "Code | Use\n",
    "--- | ---\n",
    "`[]` | Creates new list\n",
    "`list()` | Create new list from collection.  This would be a \"shallow copy\", which is important to note if there are inner collections.\n",
    "`[#]` |  Returns item at specified index position. Starts numbering items at 0.  **Negative indexing** starts counting from end.  Last item is -1.  As we go left we get more negative.  \n",
    "`[#:#]` | Returns slice.  This is a sublist.  First number is inclusive and second is exclusive.  Can also be used with negative indexing.  \n",
    "`[#][#]` | Compound lists can have \"nested\", \"inner\", or \"child\" collections.  Can use two pairs of square brackets to drill down into the inner collection and return items(s).\n",
    "`len()` | Returns number of items in list\n",
    "`min()`, `max()` | Returns min or max value\n",
    "*comparison operators* | Compares lists to each other.  Compares first item from each list first.  If first items are equal then compares second item from each list. Etc.  Returns True or False.\n",
    "`.count()` | Returns number of times specified value appears in list\n",
    "`.index()` | Returns index number of first item in list with a specified value.  Returns error if specified value not found.\n",
    "`in`, `not in` | Returns True or False based on whether specified value is in list\n",
    "`.sort()` | Method sorts original list.   By default, ascending order.  Optionally, descending order. By default, capital letters sorted before lowercase letters.  This is called **ASCII-betical order** because it has to do with position letters in  ASCII table.  Optionally, sort independent of capitalization.\n",
    "`sorted()` | Function returns new sorted list\n",
    "`.reverse()` | Reverses list order\n",
    "`.insert()` | Adds item at specified index position (really just before index position)\n",
    "`.append()` | Adds item to end of list\n",
    "`.extend()` | Adds iterable object onto end of list.  Like a join.\n",
    "`+=` | Same as `.extend()`\n",
    "`+` | Returns new list made of two concatenated lists.  Like a join.  Can NOT join other iterable objects, only lists.\n",
    "`*` | Returns new list made of original replicated a specified number of times\n",
    "`.join()` | Returns new *string* from list input.  Items become characters. Specify character(s) to  be inserted in between list items in new string.  Technically a string method.\n",
    "`copy()` | Copies list, creating new list.  This is a \"shallow\" copy of the original.  See the *References* section for more detail.\n",
    "`deepcopy()` | Copies list, creating new list.  This is a \"deep\" copy.  See the *References* section for more detail.\n",
    "`.remove()` | Deletes one specified item from list.  If more than one, only removes the first.\n",
    "`.pop()` | Delete the most recent item added to the list (last in, first out).  Default behavior.  When item is removed, it can be assigned to a variable.  Optionally (and more commonly), specify index position of item to delete.\n",
    "`del` | Deletes entire list.  Optionally, delete only individual item(s) based on index position(s).\n",
    "`.clear()` | Deletes all items from list.  List remains, but is empty.\n",
    "`for` | List used as iterable object to create for loop\n",
    "**List Comprehension** | Shorthand `for` loop used to create a new list from items in another iterable object. Does not run faster nor use less memory than normal for loop.  More confusing to read, but more concise."
   ]
  },
  {
   "cell_type": "markdown",
   "id": "2a1069af-a492-4a94-b03e-0695ea9dac1d",
   "metadata": {},
   "source": [
    "---"
   ]
  },
  {
   "cell_type": "markdown",
   "id": "2fd0d415-3d6a-4d5a-af9d-e1a88253ea24",
   "metadata": {},
   "source": [
    "**EXAMPLES**"
   ]
  },
  {
   "cell_type": "markdown",
   "id": "5ba80bd8-e2d4-4c46-8d15-bb3394938aa3",
   "metadata": {},
   "source": [
    "**`[]`**"
   ]
  },
  {
   "cell_type": "code",
   "execution_count": 112,
   "id": "94031658-5b7b-4ffb-b34f-e35b00b9a84d",
   "metadata": {},
   "outputs": [
    {
     "data": {
      "text/plain": [
       "[]"
      ]
     },
     "execution_count": 112,
     "metadata": {},
     "output_type": "execute_result"
    }
   ],
   "source": [
    "[]  # Creates empty list."
   ]
  },
  {
   "cell_type": "code",
   "execution_count": 113,
   "id": "6280b12a-65b6-4c83-a437-eafc976f9e41",
   "metadata": {},
   "outputs": [
    {
     "data": {
      "text/plain": [
       "['a', 'B', 'c']"
      ]
     },
     "execution_count": 113,
     "metadata": {},
     "output_type": "execute_result"
    }
   ],
   "source": [
    "['a', 'B', 'c']  # Creates list."
   ]
  },
  {
   "cell_type": "markdown",
   "id": "ac0d1ae8-bcd4-4fc5-8feb-d37c0164cba3",
   "metadata": {},
   "source": [
    "**`list()`**"
   ]
  },
  {
   "cell_type": "code",
   "execution_count": 114,
   "id": "edc410be-b078-4cc2-bd0b-c551a0763cda",
   "metadata": {},
   "outputs": [
    {
     "data": {
      "text/plain": [
       "[]"
      ]
     },
     "execution_count": 114,
     "metadata": {},
     "output_type": "execute_result"
    }
   ],
   "source": [
    "list()  # Creates empty list using list() function."
   ]
  },
  {
   "cell_type": "code",
   "execution_count": 115,
   "id": "3270f7bf-ea28-4bed-bd0e-4d51f4172af9",
   "metadata": {},
   "outputs": [
    {
     "data": {
      "text/plain": [
       "['a', 'B', 'c']"
      ]
     },
     "execution_count": 115,
     "metadata": {},
     "output_type": "execute_result"
    }
   ],
   "source": [
    "list(('a', 'B', 'c'))  # Create new list from collection.  Here it is tuple."
   ]
  },
  {
   "cell_type": "code",
   "execution_count": 116,
   "id": "50534407-0751-498f-a4c2-8e19c1ad6e29",
   "metadata": {},
   "outputs": [
    {
     "data": {
      "text/plain": [
       "['a', 'B', 'c']"
      ]
     },
     "execution_count": 116,
     "metadata": {},
     "output_type": "execute_result"
    }
   ],
   "source": [
    "list('aBc')  # Create new list from collection. Here it is a string."
   ]
  },
  {
   "cell_type": "code",
   "execution_count": 117,
   "id": "02febab6-ffeb-414a-a020-171414405215",
   "metadata": {},
   "outputs": [
    {
     "data": {
      "text/plain": [
       "['a', 'B', [1, 2, 3]]"
      ]
     },
     "execution_count": 117,
     "metadata": {},
     "output_type": "execute_result"
    }
   ],
   "source": [
    "['a', 'B', [1, 2, 3]]  # Inner list.  LISTCEPTION!!!"
   ]
  },
  {
   "cell_type": "markdown",
   "id": "87266716-1d21-4530-b5eb-e345abda4d7e",
   "metadata": {},
   "source": [
    "**`[#]`, `[#:#]`, and `[#][#]`**"
   ]
  },
  {
   "cell_type": "code",
   "execution_count": 118,
   "id": "c2607bd8-a3ac-42c7-9882-6b58bccaf6a7",
   "metadata": {},
   "outputs": [
    {
     "data": {
      "text/plain": [
       "'a'"
      ]
     },
     "execution_count": 118,
     "metadata": {},
     "output_type": "execute_result"
    }
   ],
   "source": [
    "['a', 'B', 'c'][0]  # Returns item based on index number"
   ]
  },
  {
   "cell_type": "code",
   "execution_count": 119,
   "id": "5925a44c-152d-4a85-97c0-a808b3dac2e8",
   "metadata": {},
   "outputs": [
    {
     "data": {
      "text/plain": [
       "['B']"
      ]
     },
     "execution_count": 119,
     "metadata": {},
     "output_type": "execute_result"
    }
   ],
   "source": [
    "['a', 'B', 'c'][1:2]  # Returns slice based on index numbers"
   ]
  },
  {
   "cell_type": "code",
   "execution_count": 120,
   "id": "f868f29e-4d65-4157-8bed-b76bb1d055b5",
   "metadata": {},
   "outputs": [
    {
     "data": {
      "text/plain": [
       "['a', 'B']"
      ]
     },
     "execution_count": 120,
     "metadata": {},
     "output_type": "execute_result"
    }
   ],
   "source": [
    "['a', 'B', 'c'][:2]  # Returns slice from beggining to index number"
   ]
  },
  {
   "cell_type": "code",
   "execution_count": 121,
   "id": "6d78ae34-fd34-4a60-8793-dcc79504b8ee",
   "metadata": {},
   "outputs": [
    {
     "data": {
      "text/plain": [
       "['c']"
      ]
     },
     "execution_count": 121,
     "metadata": {},
     "output_type": "execute_result"
    }
   ],
   "source": [
    "['a', 'B', 'c'][2:]  # Returns slice from index number to end"
   ]
  },
  {
   "cell_type": "code",
   "execution_count": 122,
   "id": "a3e14b13-8e75-433f-a19a-991e7434c81d",
   "metadata": {},
   "outputs": [
    {
     "data": {
      "text/plain": [
       "['a', 'B', 'c']"
      ]
     },
     "execution_count": 122,
     "metadata": {},
     "output_type": "execute_result"
    }
   ],
   "source": [
    "['a', 'B', 'c'][:]  # Returns entire list"
   ]
  },
  {
   "cell_type": "code",
   "execution_count": 123,
   "id": "37cdddf1-c762-4cfc-aaab-7b6fd8322299",
   "metadata": {},
   "outputs": [
    {
     "data": {
      "text/plain": [
       "['a', 'B']"
      ]
     },
     "execution_count": 123,
     "metadata": {},
     "output_type": "execute_result"
    }
   ],
   "source": [
    "['a', 'B', 'c'][-3:-1]  # Negative index.  Starts at right with -1 and gets more negative going left.  "
   ]
  },
  {
   "cell_type": "code",
   "execution_count": 124,
   "id": "b3c46fc9-03e9-42cd-8679-1614c5766d50",
   "metadata": {},
   "outputs": [
    {
     "data": {
      "text/plain": [
       "['a', 'B', 'c']"
      ]
     },
     "execution_count": 124,
     "metadata": {},
     "output_type": "execute_result"
    }
   ],
   "source": [
    "['a', 'B', 'c'][-3:] # Negative index"
   ]
  },
  {
   "cell_type": "code",
   "execution_count": 125,
   "id": "ef7cf812-3e82-4fe8-8d2e-0f5df25b2886",
   "metadata": {},
   "outputs": [
    {
     "data": {
      "text/plain": [
       "[1, 2, 3]"
      ]
     },
     "execution_count": 125,
     "metadata": {},
     "output_type": "execute_result"
    }
   ],
   "source": [
    "my_list = ['a', 'B', [1, 2, 3]]\n",
    "my_list[2] # Listception staying on first level"
   ]
  },
  {
   "cell_type": "code",
   "execution_count": 126,
   "id": "53d8112b-af9d-4565-9c30-7f0dcefea118",
   "metadata": {},
   "outputs": [
    {
     "data": {
      "text/plain": [
       "1"
      ]
     },
     "execution_count": 126,
     "metadata": {},
     "output_type": "execute_result"
    }
   ],
   "source": [
    "my_list = ['a', 'B', [1, 2, 3]]\n",
    "my_list[2][0] # Listception drilling down one level"
   ]
  },
  {
   "cell_type": "markdown",
   "id": "b35397e2-482f-4474-81ee-dd4ce88e36b7",
   "metadata": {},
   "source": [
    "`[#]`, `[#:#]`, and `[#][#]` can also be used to change items"
   ]
  },
  {
   "cell_type": "code",
   "execution_count": 127,
   "id": "d506aa0f-d891-4cbf-a5fc-fb5f0f8c4ba4",
   "metadata": {},
   "outputs": [
    {
     "name": "stdout",
     "output_type": "stream",
     "text": [
      "[1, 'B', 'c']\n"
     ]
    }
   ],
   "source": [
    "my_list = ['a', 'B', 'c']\n",
    "my_list[0] = 1  # Replace one with one\n",
    "print(my_list)"
   ]
  },
  {
   "cell_type": "code",
   "execution_count": 128,
   "id": "ac516384-652f-46f7-bb05-eb0c897e5eee",
   "metadata": {},
   "outputs": [
    {
     "name": "stdout",
     "output_type": "stream",
     "text": [
      "[1, 2, 'c']\n"
     ]
    }
   ],
   "source": [
    "my_list = ['a', 'B', 'c']\n",
    "my_list[0:2] = [1, 2]  # Replace two with two\n",
    "print(my_list)"
   ]
  },
  {
   "cell_type": "code",
   "execution_count": 129,
   "id": "f9b348ed-83e6-4475-b4cf-444740fef1b0",
   "metadata": {},
   "outputs": [
    {
     "name": "stdout",
     "output_type": "stream",
     "text": [
      "[1, 'c']\n"
     ]
    }
   ],
   "source": [
    "my_list = ['a', 'B', 'c']\n",
    "my_list[0:2] = [1]  # Replace two with one\n",
    "print(my_list)"
   ]
  },
  {
   "cell_type": "code",
   "execution_count": 130,
   "id": "39727b88-df5a-4dac-908d-472a1fab5bc4",
   "metadata": {},
   "outputs": [
    {
     "name": "stdout",
     "output_type": "stream",
     "text": [
      "[[1, 2], 'B', 'c']\n"
     ]
    }
   ],
   "source": [
    "my_list = ['a', 'B', 'c']\n",
    "my_list[0] = [1, 2]  # Replace one with list of two\n",
    "print(my_list)"
   ]
  },
  {
   "cell_type": "markdown",
   "id": "e0e9940e-20b8-4612-93d8-6adb4984efe0",
   "metadata": {},
   "source": [
    "**`len()`**"
   ]
  },
  {
   "cell_type": "code",
   "execution_count": 131,
   "id": "4eb53757-a76b-4759-a273-6bbbad38f84c",
   "metadata": {},
   "outputs": [
    {
     "data": {
      "text/plain": [
       "3"
      ]
     },
     "execution_count": 131,
     "metadata": {},
     "output_type": "execute_result"
    }
   ],
   "source": [
    "len(['a', 'B', 'c'])"
   ]
  },
  {
   "cell_type": "markdown",
   "id": "c37f0012-b020-46db-9069-f1bae2d5fa91",
   "metadata": {},
   "source": [
    "**`comparison operators`**"
   ]
  },
  {
   "cell_type": "code",
   "execution_count": 132,
   "id": "fcb961df-f95b-49f3-851e-d305bd217157",
   "metadata": {},
   "outputs": [
    {
     "data": {
      "text/plain": [
       "True"
      ]
     },
     "execution_count": 132,
     "metadata": {},
     "output_type": "execute_result"
    }
   ],
   "source": [
    "list1 = ['a', 'b']\n",
    "list2 = ['a', 'c']\n",
    "list1 < list2"
   ]
  },
  {
   "cell_type": "markdown",
   "id": "bd257a36-797c-4a88-8e0c-e9e568c83839",
   "metadata": {},
   "source": [
    "**`.count()`**"
   ]
  },
  {
   "cell_type": "code",
   "execution_count": 133,
   "id": "1f372a35-48c3-45e5-b81d-4d71cf5d8b6d",
   "metadata": {},
   "outputs": [
    {
     "data": {
      "text/plain": [
       "1"
      ]
     },
     "execution_count": 133,
     "metadata": {},
     "output_type": "execute_result"
    }
   ],
   "source": [
    "['a', 'B', 'c'].count('a')"
   ]
  },
  {
   "cell_type": "markdown",
   "id": "8c582529-d489-4e64-9d1c-e72238e51e1d",
   "metadata": {},
   "source": [
    "**`.index()`**"
   ]
  },
  {
   "cell_type": "code",
   "execution_count": 134,
   "id": "d1b6c0e7-8d35-4f90-b9f8-17af624c35dc",
   "metadata": {},
   "outputs": [
    {
     "data": {
      "text/plain": [
       "0"
      ]
     },
     "execution_count": 134,
     "metadata": {},
     "output_type": "execute_result"
    }
   ],
   "source": [
    "['a', 'B', 'c'].index('a')"
   ]
  },
  {
   "cell_type": "markdown",
   "id": "57606911-e2b7-4db0-86db-854303e2ee1e",
   "metadata": {},
   "source": [
    "**`in`**"
   ]
  },
  {
   "cell_type": "code",
   "execution_count": 135,
   "id": "4b03c144-0567-4a6f-911f-f933dc9dd5ce",
   "metadata": {},
   "outputs": [
    {
     "data": {
      "text/plain": [
       "False"
      ]
     },
     "execution_count": 135,
     "metadata": {},
     "output_type": "execute_result"
    }
   ],
   "source": [
    "1 in ['a', 'B', 'c']"
   ]
  },
  {
   "cell_type": "markdown",
   "id": "9644182e-0f9c-474f-ad6d-95c09751dc58",
   "metadata": {},
   "source": [
    "**`not in`**"
   ]
  },
  {
   "cell_type": "code",
   "execution_count": 136,
   "id": "552cc7bb-186c-483a-b609-a7b899aa8a18",
   "metadata": {},
   "outputs": [
    {
     "data": {
      "text/plain": [
       "True"
      ]
     },
     "execution_count": 136,
     "metadata": {},
     "output_type": "execute_result"
    }
   ],
   "source": [
    "1 not in ['a', 'B', 'c']"
   ]
  },
  {
   "cell_type": "markdown",
   "id": "7fb326d4-659f-40ad-bac2-6048cd9aaf8e",
   "metadata": {},
   "source": [
    "**`.sort()`** "
   ]
  },
  {
   "cell_type": "code",
   "execution_count": 137,
   "id": "506401cf-56c5-4bf0-bfac-aad0d2d42e59",
   "metadata": {},
   "outputs": [
    {
     "name": "stdout",
     "output_type": "stream",
     "text": [
      "['B', 'a', 'c']\n"
     ]
    }
   ],
   "source": [
    "my_list = ['a', 'B', 'c']\n",
    "my_list.sort() # Changes original list\n",
    "print(my_list)"
   ]
  },
  {
   "cell_type": "code",
   "execution_count": 138,
   "id": "9571d6c6-92c1-4cde-978b-7e440e436ace",
   "metadata": {},
   "outputs": [
    {
     "name": "stdout",
     "output_type": "stream",
     "text": [
      "None\n"
     ]
    }
   ],
   "source": [
    "my_list = ['a', 'B', 'c']\n",
    "new_list = my_list.sort() # Changes original list.  Return value is None.\n",
    "print(new_list)"
   ]
  },
  {
   "cell_type": "code",
   "execution_count": 139,
   "id": "9e507355-6755-453a-acdc-1ec6eaa86e8b",
   "metadata": {},
   "outputs": [
    {
     "name": "stdout",
     "output_type": "stream",
     "text": [
      "['c', 'a', 'B']\n"
     ]
    }
   ],
   "source": [
    "my_list = ['a', 'B', 'c']\n",
    "my_list.sort(reverse = True)  # Sort descending\n",
    "print(my_list)"
   ]
  },
  {
   "cell_type": "code",
   "execution_count": 140,
   "id": "67231b5b-334a-4030-861c-06cd8bc1a32b",
   "metadata": {},
   "outputs": [
    {
     "name": "stdout",
     "output_type": "stream",
     "text": [
      "['a', 'B', 'c']\n"
     ]
    }
   ],
   "source": [
    "my_list = ['a', 'B', 'c']\n",
    "my_list.sort(key = str.lower)  # Sort independent of capitalization\n",
    "print(my_list)"
   ]
  },
  {
   "cell_type": "markdown",
   "id": "cffc998a-50e7-4392-b7c1-65af0783ff42",
   "metadata": {},
   "source": [
    "**`sorted()`**"
   ]
  },
  {
   "cell_type": "code",
   "execution_count": 141,
   "id": "8bcd6238-4b27-45ce-a4a7-beb10385c056",
   "metadata": {},
   "outputs": [
    {
     "name": "stdout",
     "output_type": "stream",
     "text": [
      "['a', 'B', 'c']\n",
      "['B', 'a', 'c']\n"
     ]
    }
   ],
   "source": [
    "my_list = ['a', 'B', 'c']\n",
    "new_list = sorted(my_list)  # Return value is sorted copy\n",
    "print(my_list)  # Original is un-changed\n",
    "print(new_list)"
   ]
  },
  {
   "cell_type": "markdown",
   "id": "85a05a7f-5e3d-4ea3-888c-61169ba33fb9",
   "metadata": {},
   "source": [
    "**`.reverse()`**"
   ]
  },
  {
   "cell_type": "code",
   "execution_count": 142,
   "id": "10267b8e-3052-4c45-b132-1471ac9302d8",
   "metadata": {},
   "outputs": [
    {
     "name": "stdout",
     "output_type": "stream",
     "text": [
      "['c', 'B', 'a']\n"
     ]
    }
   ],
   "source": [
    "my_list = ['a', 'B', 'c']\n",
    "my_list.reverse() \n",
    "print(my_list)"
   ]
  },
  {
   "cell_type": "markdown",
   "id": "2c87d005-de48-4e4c-b95a-06b2b56615f0",
   "metadata": {},
   "source": [
    "**`.insert()`**"
   ]
  },
  {
   "cell_type": "code",
   "execution_count": 143,
   "id": "0cd79530-946f-45e3-8acb-7dd565d4ec03",
   "metadata": {},
   "outputs": [
    {
     "name": "stdout",
     "output_type": "stream",
     "text": [
      "[1, 'a', 'B', 'c']\n"
     ]
    }
   ],
   "source": [
    "my_list = ['a', 'B', 'c']\n",
    "my_list.insert(0, 1)\n",
    "print(my_list)"
   ]
  },
  {
   "cell_type": "markdown",
   "id": "9d5395de-5b4c-4c98-a106-c2180ec8216a",
   "metadata": {},
   "source": [
    "**`.append()`**"
   ]
  },
  {
   "cell_type": "code",
   "execution_count": 144,
   "id": "ff548e25-49c5-4865-8de9-2d944f4f79b2",
   "metadata": {},
   "outputs": [
    {
     "name": "stdout",
     "output_type": "stream",
     "text": [
      "['a', 'B', 'c', 1]\n"
     ]
    }
   ],
   "source": [
    "my_list = ['a', 'B', 'c']\n",
    "my_list.append(1)\n",
    "print(my_list)"
   ]
  },
  {
   "cell_type": "code",
   "execution_count": 145,
   "id": "d8671431-1938-4b13-9fe2-6a8948934fd1",
   "metadata": {},
   "outputs": [
    {
     "name": "stdout",
     "output_type": "stream",
     "text": [
      "['a', 'B', 'c', 1, 2]\n"
     ]
    }
   ],
   "source": [
    "my_list = ['a', 'B', 'c']\n",
    "list_number=[1, 2]\n",
    "for number in list_number:\n",
    "    my_list.append(number)\n",
    "print(my_list)"
   ]
  },
  {
   "cell_type": "markdown",
   "id": "5ba29118-3274-481e-b919-bf36ccd5331a",
   "metadata": {},
   "source": [
    "**`.extend()`**"
   ]
  },
  {
   "cell_type": "code",
   "execution_count": 146,
   "id": "465aee5f-4411-44c2-a9ff-895c08a30e48",
   "metadata": {},
   "outputs": [
    {
     "name": "stdout",
     "output_type": "stream",
     "text": [
      "['a', 'B', 'c', 1, 2]\n"
     ]
    }
   ],
   "source": [
    "my_list = ['a', 'B', 'c']\n",
    "list_number = [1, 2]\n",
    "my_list.extend(list_number)\n",
    "print(my_list)"
   ]
  },
  {
   "cell_type": "markdown",
   "id": "29110d85-6f90-48a6-b67d-64696dec302a",
   "metadata": {},
   "source": [
    "**`+=`**"
   ]
  },
  {
   "cell_type": "code",
   "execution_count": 147,
   "id": "04626e8e-0984-4dee-a4af-3a4047b58d3b",
   "metadata": {},
   "outputs": [
    {
     "name": "stdout",
     "output_type": "stream",
     "text": [
      "['a', 'B', 'c', 1, 2]\n"
     ]
    }
   ],
   "source": [
    "my_list = ['a', 'B', 'c']\n",
    "list_number = [1, 2]\n",
    "my_list += list_number\n",
    "print(my_list)"
   ]
  },
  {
   "cell_type": "markdown",
   "id": "9a16c404-6a7d-49e4-8369-8e74cd3eb14c",
   "metadata": {},
   "source": [
    "**`+`**"
   ]
  },
  {
   "cell_type": "code",
   "execution_count": 148,
   "id": "d32e3100-5017-4fb8-9d9c-5512b6d84d4e",
   "metadata": {},
   "outputs": [
    {
     "name": "stdout",
     "output_type": "stream",
     "text": [
      "['a', 'B', 'c', 1, 2]\n"
     ]
    }
   ],
   "source": [
    "my_list = ['a', 'B', 'c']\n",
    "list_number = [1, 2]\n",
    "new_list = my_list + list_number\n",
    "print(new_list)"
   ]
  },
  {
   "cell_type": "markdown",
   "id": "f9feb690-ca0a-428e-90a1-9eb105be215b",
   "metadata": {},
   "source": [
    "**`.join()`**"
   ]
  },
  {
   "cell_type": "code",
   "execution_count": 149,
   "id": "f4b1ecde-cc0e-4285-a3ca-467073e3da18",
   "metadata": {},
   "outputs": [
    {
     "name": "stdout",
     "output_type": "stream",
     "text": [
      "red, orange, yellow\n"
     ]
    }
   ],
   "source": [
    "list_words = ['red', 'orange', 'yellow']\n",
    "string_words = ', '.join(list_words)\n",
    "print(string_words)"
   ]
  },
  {
   "cell_type": "markdown",
   "id": "f4484948-cb7c-4807-9748-d4a16d02d9db",
   "metadata": {},
   "source": [
    "**`.remove()`**"
   ]
  },
  {
   "cell_type": "code",
   "execution_count": 150,
   "id": "398fc716-6c71-413c-bd02-4900c902b859",
   "metadata": {},
   "outputs": [
    {
     "name": "stdout",
     "output_type": "stream",
     "text": [
      "['a', 'B', 'c']\n"
     ]
    }
   ],
   "source": [
    "my_list = ['a', 'a', 'B', 'c']\n",
    "my_list.remove('a')  # Does NOT remove all `a`s\n",
    "print(my_list)"
   ]
  },
  {
   "cell_type": "markdown",
   "id": "9c8758e0-361d-44ea-9367-4a35719ae6fa",
   "metadata": {},
   "source": [
    "**`.pop()`**"
   ]
  },
  {
   "cell_type": "code",
   "execution_count": 151,
   "id": "b603f849-6098-48f6-911e-5f149acd9707",
   "metadata": {},
   "outputs": [
    {
     "name": "stdout",
     "output_type": "stream",
     "text": [
      "['B', 'c']\n",
      "a\n"
     ]
    }
   ],
   "source": [
    "my_list = ['a', 'B', 'c']\n",
    "string_pop = my_list.pop(0)  # Assign deleted item to variable\n",
    "print(my_list)\n",
    "print(string_pop)"
   ]
  },
  {
   "cell_type": "markdown",
   "id": "41f77e04-8436-4fe4-99fd-958d54a63198",
   "metadata": {},
   "source": [
    "**`del`**"
   ]
  },
  {
   "cell_type": "code",
   "execution_count": 152,
   "id": "5c99f13a-5146-4dd2-8907-4b8a66ed7cfc",
   "metadata": {},
   "outputs": [
    {
     "name": "stdout",
     "output_type": "stream",
     "text": [
      "['c']\n"
     ]
    }
   ],
   "source": [
    "my_list = ['a', 'B', 'c']\n",
    "del my_list[0:2]\n",
    "print(my_list)"
   ]
  },
  {
   "cell_type": "code",
   "execution_count": 153,
   "id": "28f93efe-2167-462a-80b2-8a1b821dce1f",
   "metadata": {},
   "outputs": [],
   "source": [
    "my_list = ['a', 'B', 'c']\n",
    "del my_list  # Deletes entire list"
   ]
  },
  {
   "cell_type": "markdown",
   "id": "83d1dd5b-8047-4bfd-82bb-ceb6ce1c5abf",
   "metadata": {},
   "source": [
    "**`.clear()`**"
   ]
  },
  {
   "cell_type": "code",
   "execution_count": 154,
   "id": "4af98d1a-9187-48be-bf55-26b49217879a",
   "metadata": {},
   "outputs": [
    {
     "name": "stdout",
     "output_type": "stream",
     "text": [
      "[]\n"
     ]
    }
   ],
   "source": [
    "my_list = ['a', 'B', 'c']\n",
    "my_list.clear()\n",
    "print(my_list)"
   ]
  },
  {
   "cell_type": "markdown",
   "id": "cc073324-bf33-4513-b8d5-c66b5701248e",
   "metadata": {},
   "source": [
    "**`for`**"
   ]
  },
  {
   "cell_type": "code",
   "execution_count": 155,
   "id": "4144554d-9eee-41c7-9664-79bdc883288b",
   "metadata": {},
   "outputs": [
    {
     "name": "stdout",
     "output_type": "stream",
     "text": [
      "a\n",
      "B\n",
      "c\n"
     ]
    }
   ],
   "source": [
    "my_list = ['a', 'B', 'c']\n",
    "for item in my_list:\n",
    "    print(item)"
   ]
  },
  {
   "cell_type": "markdown",
   "id": "457757cf-de2b-4b47-8247-21701e81e7b1",
   "metadata": {},
   "source": [
    "**List Comprehension Simple Example**"
   ]
  },
  {
   "cell_type": "code",
   "execution_count": 156,
   "id": "2528b5ac-07d6-4e8c-af0b-e51bfdd164e2",
   "metadata": {},
   "outputs": [
    {
     "name": "stdout",
     "output_type": "stream",
     "text": [
      "['a', 'B', 'c']\n",
      "['a', 'B', 'c']\n"
     ]
    }
   ],
   "source": [
    "my_list = ['a', 'B', 'c']\n",
    "\n",
    "# Normal for loop\n",
    "new_list = []\n",
    "for letter in my_list:\n",
    "    new_list.append(letter) \n",
    "print(new_list)\n",
    "\n",
    "# List comprehension\n",
    "# Format is:  new_list = [expression for item in iterable]\n",
    "new_list = [letter for letter in my_list]\n",
    "print(new_list)"
   ]
  },
  {
   "cell_type": "markdown",
   "id": "992bff5c-3ef3-4d31-abc3-f14c7efd014d",
   "metadata": {},
   "source": [
    "**List Comprehension Complex Example**"
   ]
  },
  {
   "cell_type": "code",
   "execution_count": 157,
   "id": "97bed36e-be41-4bbe-bbd1-69c6999199dc",
   "metadata": {},
   "outputs": [
    {
     "name": "stdout",
     "output_type": "stream",
     "text": [
      "['A']\n",
      "['A']\n"
     ]
    }
   ],
   "source": [
    "my_list = ['a', 'B', 'c']\n",
    "\n",
    "# Normal for loop\n",
    "new_list = []\n",
    "for letter in my_list:\n",
    "    if letter == 'a':\n",
    "        new_list.append(letter.upper())\n",
    "print(new_list)\n",
    "\n",
    "# List comprehension\n",
    "# Format is:  new_list = [expression for item in iterable condition]\n",
    "new_list = [letter.upper() for letter in my_list if letter == 'a']\n",
    "print(new_list)"
   ]
  },
  {
   "cell_type": "markdown",
   "id": "2a1267cf-4418-46d9-bdca-4048dee136f5",
   "metadata": {},
   "source": [
    "---"
   ]
  },
  {
   "cell_type": "markdown",
   "id": "6125f00a-6cba-4f34-988d-90e7c05839a5",
   "metadata": {},
   "source": [
    "# Tuples\n",
    "\n",
    "- A tuple is a collection of items separated by commas.  Though not necessary, they are also almost always surrounded by parentheses to increase readability.  \n",
    "- Fun fact: The word “tuple” comes from the names given to sequences of numbers of varying lengths: single, double, triple, quadruple, quintuple, sextuple, septuple, etc.\n",
    "- Tuples are immutable.  However, occasionally, we might want to modify them.  The work around is to: \n",
    "    1. Turn a tuple into a list with `list()`\n",
    "    1. Modify list\n",
    "    1. Turn list back into tuple with `tuple()`\n",
    "- In part because tuples are immutable, there is no \"tuple comprehension\".  However the syntax `(expression for item in iterable condition)`, which would be tuple comprehension, is actually used for generator comprehension.\n",
    "\n",
    "Code | Use\n",
    "--- | ---\n",
    "`()` | Create new tuple\n",
    "`tuple()` | Create new tuple from collection. This would be a \"shallow copy\", which is important to note if there are inner collections.\n",
    "`[#], [#:#], [#][#]` | Same as lists, but can NOT change values\n",
    "`len()` | Same as lists\n",
    "`min()`, `max()` | Same as lists\n",
    "*comparison operators* | Same as lists\n",
    "`.count()` | Same as lists\n",
    "`.index()` | Same as lists\n",
    "`in`, `not in` | Same as lists\n",
    "`sorted()` | Same as lists\n",
    "`+` | Same as lists\n",
    "`+=` | Same as lists, but only combines tuples\n",
    "`*` | Same as lists\n",
    "`copy()`, `deepcopy()` | NOT often used for tuples.  Why copy tuple if we can NOT change it?  \n",
    "`del` | Same as lists, but can NOT delete items\n",
    "`for` | Same as lists\n",
    "`*` | Used when unpacking tuples if the number of items in the tuple is greater than the number of variables specified"
   ]
  },
  {
   "cell_type": "markdown",
   "id": "95adb032-37a0-428b-bef8-bbfced1d7110",
   "metadata": {},
   "source": [
    "---"
   ]
  },
  {
   "cell_type": "markdown",
   "id": "7f7b1398-40a9-4857-a2bb-e94ac0b98783",
   "metadata": {},
   "source": [
    "**EXAMPLES**"
   ]
  },
  {
   "cell_type": "markdown",
   "id": "53a62212-ac2c-4dec-b704-6c47df5f4541",
   "metadata": {},
   "source": [
    "**`()`**"
   ]
  },
  {
   "cell_type": "code",
   "execution_count": 158,
   "id": "7fd6338e-b484-49e8-923c-06af19f81c73",
   "metadata": {},
   "outputs": [
    {
     "data": {
      "text/plain": [
       "()"
      ]
     },
     "execution_count": 158,
     "metadata": {},
     "output_type": "execute_result"
    }
   ],
   "source": [
    "()  # Create empty tuple."
   ]
  },
  {
   "cell_type": "code",
   "execution_count": 159,
   "id": "61dec860-cbdf-49db-b05a-146101ea218a",
   "metadata": {},
   "outputs": [
    {
     "data": {
      "text/plain": [
       "('a',)"
      ]
     },
     "execution_count": 159,
     "metadata": {},
     "output_type": "execute_result"
    }
   ],
   "source": [
    "('a',)  # Create tuple with one item. Note comma."
   ]
  },
  {
   "cell_type": "code",
   "execution_count": 160,
   "id": "2be21493-55a4-48b0-891a-5794fbbc85ff",
   "metadata": {},
   "outputs": [
    {
     "data": {
      "text/plain": [
       "('a', 'B', 'c')"
      ]
     },
     "execution_count": 160,
     "metadata": {},
     "output_type": "execute_result"
    }
   ],
   "source": [
    "('a', 'B', 'c')  # Create tuple."
   ]
  },
  {
   "cell_type": "markdown",
   "id": "b891dc89-46d2-4e37-bcaa-52e1b03a153b",
   "metadata": {},
   "source": [
    "**`tuple()`**"
   ]
  },
  {
   "cell_type": "code",
   "execution_count": 161,
   "id": "856b741b-6aa0-4e2a-8824-e74336b0d6a7",
   "metadata": {},
   "outputs": [
    {
     "data": {
      "text/plain": [
       "()"
      ]
     },
     "execution_count": 161,
     "metadata": {},
     "output_type": "execute_result"
    }
   ],
   "source": [
    "tuple()  # Create empty tuple using tuple() function."
   ]
  },
  {
   "cell_type": "code",
   "execution_count": 162,
   "id": "1dfad745-a029-46c7-a0a5-b897d2d423e9",
   "metadata": {},
   "outputs": [
    {
     "data": {
      "text/plain": [
       "('a', 'B', 'c')"
      ]
     },
     "execution_count": 162,
     "metadata": {},
     "output_type": "execute_result"
    }
   ],
   "source": [
    "tuple(['a', 'B', 'c'])  # Create new tuple from collection.  Here it is a list."
   ]
  },
  {
   "cell_type": "markdown",
   "id": "7edd0fa5-872e-4204-a26f-21fcf495c615",
   "metadata": {},
   "source": [
    "**Inner Mutable Collection**"
   ]
  },
  {
   "cell_type": "code",
   "execution_count": 163,
   "id": "323f59e7-c482-4be8-914d-4c8b5f9e29fb",
   "metadata": {},
   "outputs": [
    {
     "name": "stdout",
     "output_type": "stream",
     "text": [
      "(['z', 2], 'a')\n"
     ]
    }
   ],
   "source": [
    "my_tuple = ([1, 2], 'a')  # Create tuple with inner list\n",
    "my_tuple[0][0] = 'z'  # An inner mutable collection is still mutable.  Rest of tuple is not.\n",
    "print(my_tuple)"
   ]
  },
  {
   "cell_type": "markdown",
   "id": "adaab1f8-5d6f-477e-b36d-a33aef869463",
   "metadata": {},
   "source": [
    "**`tuple(list(<TUPLE>))`**"
   ]
  },
  {
   "cell_type": "code",
   "execution_count": 164,
   "id": "6e82255d-c179-468a-9e5d-f70bd7894eb1",
   "metadata": {},
   "outputs": [
    {
     "name": "stdout",
     "output_type": "stream",
     "text": [
      "(1, 'B', 'c')\n"
     ]
    }
   ],
   "source": [
    "my_tuple = ('a', 'B', 'c')\n",
    "my_list = list(my_tuple)\n",
    "my_list[0] = 1\n",
    "my_tuple = tuple(my_list)\n",
    "print(my_tuple)"
   ]
  },
  {
   "cell_type": "markdown",
   "id": "4ed06705-e7dd-4195-91b7-ed095aa0ffb1",
   "metadata": {},
   "source": [
    "---"
   ]
  },
  {
   "cell_type": "markdown",
   "id": "c7af5cd5-d0a8-4f36-bd8b-2bd61c6ed69f",
   "metadata": {},
   "source": [
    "# Sets\n",
    "- Sets are mutable so set *methods* may change the existing set \"in place\" instead of making a copy.  For this reason some set methods have a return value of None.  If the return value is None, we can NOT assign the output of a set method to a variable name.  This would cause an error.\n",
    "- There are methods unique to sets, mostly relating to set theory joins\n",
    "\n",
    "Code | Use\n",
    "--- | ---\n",
    "`{}` | Create new set\n",
    "`set()` | Creates new set from a collection.  This would be a \"shallow copy\", which is important to note if there are inner collections.\n",
    "`frozenset()` | Returns immutable set\n",
    "`len()` | Same as lists\n",
    "`min()`, `max()` | Same as lists\n",
    "`in`, `not in` | Same as lists\n",
    "`.add()` | Adds a single item to current set.  Does NOT create new set.  To add multiple, use `.update()`.\n",
    "`.union()` | Joins iterable object to set, creating new set.  A OR B.\n",
    "`.update()` | Same as `.union()` but does NOT create new set\n",
    "`.intersection()` | Joins iterable object to set, creating new set. A AND B.\n",
    "`.intersection_update()` | Same as `.intersection()` but does NOT create new set\n",
    "`.difference()` | Joins iterable object to set, creating new set. A, but excludes intersection with B.\n",
    "`.difference_update()` | Same as `.difference()` but does NOT create new set\n",
    "`.symmetric_difference()` | Joins iterable object to set, creating new set.  A OR B, but excludes intersection.  Exclusive OR, XOR.\n",
    "`.symmetric_difference_update()` | Same as `.symmetric_difference()` but does NOT create new set\n",
    "`.remove()` | Remove item from current set using specified value.  Error if item not in set.\n",
    "`.discard()` | Remove item from current set using specified value.  Does NOT return error if item not in set.\n",
    "`.pop()` | Remove item arbitrarily from current set. Pop normally removes item using specified index.  Sets have no index.  Do NOT use `.pop()`.\n",
    "`del` | Same as lists, but can NOT delete individual items\n",
    "`.clear()` | Same as lists\n",
    "`copy()` | Copies set, creating new set.  This is a \"shallow\" copy of the original.  See the *References* section for more detail.\n",
    "`deepcopy()` | Copies set, creating new set.  This is a \"deep\" copy.  See the *References* section for more detail.\n",
    "`for` | Sets used as iterable objects to create for loops\n",
    "**Set Comprehension** | Shorthand **`for`** loop used to create new set from items in another iterable object.  More confusing to read, but condenses code into one line."
   ]
  },
  {
   "cell_type": "markdown",
   "id": "e2d9e995-7a41-4144-9aba-21961bea015f",
   "metadata": {},
   "source": [
    "---"
   ]
  },
  {
   "cell_type": "markdown",
   "id": "12161a33-1a32-436e-8e65-ed249ca16106",
   "metadata": {
    "tags": []
   },
   "source": [
    "**EXAMPLES**"
   ]
  },
  {
   "cell_type": "markdown",
   "id": "d569e3ba-5eb3-4081-94c1-e6fbde78ad24",
   "metadata": {},
   "source": [
    "**`{}`**"
   ]
  },
  {
   "cell_type": "code",
   "execution_count": 165,
   "id": "28217df6-4d63-45e7-ab0c-850a9ee02f7f",
   "metadata": {},
   "outputs": [
    {
     "name": "stdout",
     "output_type": "stream",
     "text": [
      "{}\n",
      "<class 'dict'>\n"
     ]
    }
   ],
   "source": [
    "variable = {}  # This actually creates an empty dictionary.\n",
    "print(variable)\n",
    "print(type(variable))"
   ]
  },
  {
   "cell_type": "code",
   "execution_count": 166,
   "id": "baf978d7-56ae-4415-81b8-4e601406169a",
   "metadata": {},
   "outputs": [
    {
     "data": {
      "text/plain": [
       "{'B', 'a', 'c'}"
      ]
     },
     "execution_count": 166,
     "metadata": {},
     "output_type": "execute_result"
    }
   ],
   "source": [
    "{'c', 'a', 'B'}  # Create set."
   ]
  },
  {
   "cell_type": "markdown",
   "id": "727355a3-c57a-42bd-9b1e-928b0fa4ecfe",
   "metadata": {},
   "source": [
    "**`set()`**"
   ]
  },
  {
   "cell_type": "code",
   "execution_count": 167,
   "id": "0ad66763-771f-4d95-87c9-107bff45f718",
   "metadata": {},
   "outputs": [
    {
     "data": {
      "text/plain": [
       "set()"
      ]
     },
     "execution_count": 167,
     "metadata": {},
     "output_type": "execute_result"
    }
   ],
   "source": [
    "set()  # Create empty set using set() function."
   ]
  },
  {
   "cell_type": "code",
   "execution_count": 168,
   "id": "985412ee-c59d-41e2-bc36-1782041e8f8a",
   "metadata": {},
   "outputs": [
    {
     "data": {
      "text/plain": [
       "{'B', 'a', 'c'}"
      ]
     },
     "execution_count": 168,
     "metadata": {},
     "output_type": "execute_result"
    }
   ],
   "source": [
    "set(['c', 'a', 'B'])  # Create new set from collection.  Here it is a list."
   ]
  },
  {
   "cell_type": "markdown",
   "id": "9f7da1ab-4f75-41fd-9d5a-a8534f24d036",
   "metadata": {},
   "source": [
    "**`frozenset()`**"
   ]
  },
  {
   "cell_type": "code",
   "execution_count": 169,
   "id": "9b75b536-38ee-4afa-b0de-db393687ce4b",
   "metadata": {},
   "outputs": [
    {
     "data": {
      "text/plain": [
       "frozenset({'B', 'a', 'c'})"
      ]
     },
     "execution_count": 169,
     "metadata": {},
     "output_type": "execute_result"
    }
   ],
   "source": [
    "frozenset({'c', 'a', 'B'})"
   ]
  },
  {
   "cell_type": "markdown",
   "id": "4ac39d65-2c88-4723-a73a-3cfdc9b0146b",
   "metadata": {},
   "source": [
    "**`.add()`**"
   ]
  },
  {
   "cell_type": "code",
   "execution_count": 170,
   "id": "03c6b2f5-3063-4303-bb19-90c627984f96",
   "metadata": {},
   "outputs": [
    {
     "name": "stdout",
     "output_type": "stream",
     "text": [
      "{'c', 1, 'a', 'B'}\n"
     ]
    }
   ],
   "source": [
    "my_set = {'c', 'a', 'B'}\n",
    "my_set.add(1)\n",
    "print(my_set)"
   ]
  },
  {
   "cell_type": "code",
   "execution_count": 171,
   "id": "e527b928-b9f3-445c-bb08-1e7bb71b5496",
   "metadata": {},
   "outputs": [
    {
     "name": "stdout",
     "output_type": "stream",
     "text": [
      "{'c', 'a', 'B'}\n"
     ]
    }
   ],
   "source": [
    "my_set = {'c', 'a', 'B'}\n",
    "my_set.add('a')  # Does not add another 'a' as there can not be duplicates\n",
    "print(my_set)"
   ]
  },
  {
   "cell_type": "markdown",
   "id": "49671a54-2d75-455b-91ed-ec1298b79b9c",
   "metadata": {},
   "source": [
    "**`.union()`**"
   ]
  },
  {
   "cell_type": "code",
   "execution_count": 172,
   "id": "a9554814-0b74-43eb-96db-9e88dedcff0e",
   "metadata": {},
   "outputs": [
    {
     "name": "stdout",
     "output_type": "stream",
     "text": [
      "{'c', 'B', '2', '1', 'a'}\n"
     ]
    }
   ],
   "source": [
    "my_set1 = {'c', 'a', 'B'}\n",
    "my_set2 = {'1', '2'}\n",
    "my_set3 = my_set1.union(my_set2)\n",
    "print(my_set3)"
   ]
  },
  {
   "cell_type": "markdown",
   "id": "1be08e20-0d55-4c01-83b0-9c143556a6ea",
   "metadata": {},
   "source": [
    "**`.update()`**"
   ]
  },
  {
   "cell_type": "code",
   "execution_count": 173,
   "id": "f845ccfd-f053-4c39-b402-d18a490b29f5",
   "metadata": {},
   "outputs": [
    {
     "name": "stdout",
     "output_type": "stream",
     "text": [
      "{'c', 'B', '2', '1', 'a'}\n"
     ]
    }
   ],
   "source": [
    "my_set1 = {'c', 'a', 'B'}\n",
    "my_set2 = {'1', '2'}\n",
    "my_set1.update(my_set2)\n",
    "print(my_set1)"
   ]
  },
  {
   "cell_type": "markdown",
   "id": "adaf4a47-53d6-4dd8-98d1-7b470679d235",
   "metadata": {},
   "source": [
    "**`.intersection()`**"
   ]
  },
  {
   "cell_type": "code",
   "execution_count": 174,
   "id": "5f6088a9-96f5-4d56-96f4-59e505dcb734",
   "metadata": {},
   "outputs": [
    {
     "name": "stdout",
     "output_type": "stream",
     "text": [
      "{'a'}\n"
     ]
    }
   ],
   "source": [
    "my_set1 = {'c', 'a', 'B'}\n",
    "my_set2 = {'a', '1', '2'}\n",
    "my_set3 = my_set1.intersection(my_set2)\n",
    "print(my_set3)"
   ]
  },
  {
   "cell_type": "markdown",
   "id": "dd411a3c-8b24-4318-8360-c0b84a283b73",
   "metadata": {},
   "source": [
    "**`.difference()`**"
   ]
  },
  {
   "cell_type": "code",
   "execution_count": 175,
   "id": "7fd27ad2-ed6d-478c-a098-3912085df834",
   "metadata": {},
   "outputs": [
    {
     "name": "stdout",
     "output_type": "stream",
     "text": [
      "{'c', 'B'}\n"
     ]
    }
   ],
   "source": [
    "my_set1 = {'c', 'a', 'B'}\n",
    "my_set2 = {'a', '1', '2'}\n",
    "my_set3 = my_set1.difference(my_set2)\n",
    "print(my_set3)"
   ]
  },
  {
   "cell_type": "markdown",
   "id": "276fb1da-8675-4664-9260-d2edaabde5d7",
   "metadata": {},
   "source": [
    "**`.symmetric_difference()`**"
   ]
  },
  {
   "cell_type": "code",
   "execution_count": 176,
   "id": "d8566916-7d16-4b85-b4cf-a9f9f0df99be",
   "metadata": {},
   "outputs": [
    {
     "name": "stdout",
     "output_type": "stream",
     "text": [
      "{'2', '1', 'c', 'B'}\n"
     ]
    }
   ],
   "source": [
    "my_set1 = {'c', 'a', 'B'}\n",
    "my_set2 = {'a', '1', '2'}\n",
    "my_set3 = my_set1.symmetric_difference(my_set2)\n",
    "print(my_set3)"
   ]
  },
  {
   "cell_type": "markdown",
   "id": "86ac139b-0b4a-4d5f-8dcc-fa1ea0ef266a",
   "metadata": {},
   "source": [
    "**`.remove()`**"
   ]
  },
  {
   "cell_type": "code",
   "execution_count": 177,
   "id": "c1731f4e-a0a7-4db1-899d-4b35a144b303",
   "metadata": {},
   "outputs": [
    {
     "name": "stdout",
     "output_type": "stream",
     "text": [
      "{'c', 'B'}\n"
     ]
    }
   ],
   "source": [
    "my_set = {'c', 'a', 'B'}\n",
    "my_set.remove('a')\n",
    "print(my_set)"
   ]
  },
  {
   "cell_type": "markdown",
   "id": "5fd2efea-f08e-4cdc-b4fa-4ed60f11ab62",
   "metadata": {},
   "source": [
    "**`.discard()`**"
   ]
  },
  {
   "cell_type": "code",
   "execution_count": 178,
   "id": "242ff9a0-c71f-4608-b7c3-bfadc9a3b0c5",
   "metadata": {},
   "outputs": [
    {
     "name": "stdout",
     "output_type": "stream",
     "text": [
      "{'c', 'a', 'B'}\n"
     ]
    }
   ],
   "source": [
    "my_set = {'c', 'a', 'B'}\n",
    "my_set.discard('d')\n",
    "print(my_set)"
   ]
  },
  {
   "cell_type": "markdown",
   "id": "bc7fa4e6-c3de-42cb-a1d2-30f52fbe7ff5",
   "metadata": {},
   "source": [
    "**Set Comprehension**"
   ]
  },
  {
   "cell_type": "code",
   "execution_count": 179,
   "id": "ba50f20c-694f-408f-bef9-ab2c6b090e76",
   "metadata": {},
   "outputs": [
    {
     "name": "stdout",
     "output_type": "stream",
     "text": [
      "{'a', 'c', 'B'}\n",
      "{'a', 'c', 'B'}\n"
     ]
    }
   ],
   "source": [
    "my_set = {'a', 'B', 'c'}\n",
    "\n",
    "# Normal for loop\n",
    "new_set = set()\n",
    "for letter in my_set:\n",
    "    new_set.add(letter) \n",
    "print(new_set)\n",
    "\n",
    "# Set comprehension\n",
    "# Format is:  new_set = {expression for item in iterable}\n",
    "new_set = {letter for letter in my_set}\n",
    "print(new_set)"
   ]
  },
  {
   "cell_type": "markdown",
   "id": "519b1b51-cac5-4972-bf53-0caafc01a513",
   "metadata": {},
   "source": [
    "---"
   ]
  },
  {
   "cell_type": "markdown",
   "id": "d466d405-2161-4974-bf16-ca0a96b84173",
   "metadata": {},
   "source": [
    "# Dictionaries\n",
    "- Dictionary values are mutable so dictionary *methods* may change the existing value \"in place\" instead of making a copy.  For this reason some dictionary methods have a return value of None.  If the return value is None, we can NOT assign the output of a dictionary method to a variable name.  This would cause an error.\n",
    "- Note that as of Python 3.7 dictionaries are kinda, but mostly not, ordered.  The dictionaries are still unordered, as we can’t access items in them using integer indexes.  However, dictionaries in Python 3.7 and later will remember the insertion order of their key-value pairs.\n",
    "\n",
    "\n",
    "Code | Use\n",
    "--- | ---\n",
    "`{}` | Create new dictionary\n",
    "`dict()` | Creates new dictionary from series of key: value pairs\n",
    "`.keys()` | Returns *list-like* object of all keys.  Object has strange formatting, but we can use `list()` on this object to get a normal list.\n",
    "`.values()` | Returns *list-like* object of all values.  Object has strange formatting, but we can use `list()` on this object to get a normal list.\n",
    "`.items()` | Returns *list-like* object of tuples of key: value pairs.  Object has strange formatting, but we can use `list()` on this object to get a normal list.\n",
    "`len()` | Returns number of key: value pairs in dictionary\n",
    "`min()`, `max()` | Returns min or max *key* in dictionary\n",
    "`in`, `not in` | Returns True or False based on whether specified *key* is in dictionary\n",
    "`.update()` | Update value by specifying key and updated value.  Can also be used to add a new key: value pair.\n",
    "`[<KEY>]` | Returns paired value by specifying key.  If key not in dictionary returns error.  Can also be used to update a value.  Can also be used to add a new key: value pair.\n",
    "`[<KEY>][<KEY>]` | Compound dictionaries can have \"nested\", \"inner\", or \"child\" collections.  Can use two pairs of square brackets to drill down into the inner collection and return items(s).\n",
    "`.get()` | Returns paired value by specifying key.  Input both key and optional default value.  If key is not in dictionary, returns default value.  Normally, we'd need to use an if statement to check if key in dictionary before accessing it with `[<KEY>]` to avoid `KeyError` exception.  `.get()` allows us to skip using if-then statements.  Also commonly used with a list of items and a for loop to generate a dictionary histogram.\n",
    "`.setdefault()` | Returns paired value by specifying key.  Input both key and default value. If key is not in dictionary, creates new key: value pair and returns new value.  Similar to `get()`.  Often used to ensure a key exists.\n",
    "`copy()` | Same as lists\n",
    "`deepcopy()` | Same as lists\n",
    "`.pop()` | Remove key: value pair by specifying key\n",
    "`.popitem()` | Remove the last key: value pair added\n",
    "`del` | Deletes entire dictionary. Can also delete key: value pair by specifying key.\n",
    "`.clear()` | Same as lists\n",
    "`for` | Can use keys, values, or key: value pairs as an iterable object in for loops.  Can loop through both key and value by setting two iteration variables.\n",
    "**Dictionary Comprehension** | Shorthand **`for`** loop used to create a new dictionary from items in another iterable object.  More confusing to read, but condenses code into one line."
   ]
  },
  {
   "cell_type": "markdown",
   "id": "adfce6eb-e156-4101-892f-c6410e6aac6f",
   "metadata": {},
   "source": [
    "---"
   ]
  },
  {
   "cell_type": "markdown",
   "id": "46430bbf-3de8-4391-955e-55a287fb48f0",
   "metadata": {},
   "source": [
    "**EXAMPLES**"
   ]
  },
  {
   "cell_type": "markdown",
   "id": "87cf142f-447c-4ef3-a5f1-ab896d3996b1",
   "metadata": {},
   "source": [
    "**`{}`**"
   ]
  },
  {
   "cell_type": "code",
   "execution_count": 180,
   "id": "cb2129c4-9f17-4e8d-89ff-1b1b3d4238e0",
   "metadata": {},
   "outputs": [
    {
     "data": {
      "text/plain": [
       "{}"
      ]
     },
     "execution_count": 180,
     "metadata": {},
     "output_type": "execute_result"
    }
   ],
   "source": [
    "{}  # Create empty dictionary"
   ]
  },
  {
   "cell_type": "code",
   "execution_count": 181,
   "id": "25b220a8-8b32-4621-bec4-390c5705fd96",
   "metadata": {},
   "outputs": [
    {
     "data": {
      "text/plain": [
       "{'brand': 'Ford', 'model': 'Mustang', 'year': 2000}"
      ]
     },
     "execution_count": 181,
     "metadata": {},
     "output_type": "execute_result"
    }
   ],
   "source": [
    "{\"brand\": \"Ford\", \"model\": \"Mustang\", \"year\": 2000}  # Create dictionary \n",
    "# Keys do have quotes aroun them, just like in the dictionary that is returned"
   ]
  },
  {
   "cell_type": "markdown",
   "id": "3ae09f7c-81d0-47c7-ad34-7f32b814e2a0",
   "metadata": {},
   "source": [
    "**`dict()`**"
   ]
  },
  {
   "cell_type": "code",
   "execution_count": 182,
   "id": "3dd4df18-516e-48c7-94e8-acac855b7bb4",
   "metadata": {},
   "outputs": [
    {
     "data": {
      "text/plain": [
       "{}"
      ]
     },
     "execution_count": 182,
     "metadata": {},
     "output_type": "execute_result"
    }
   ],
   "source": [
    "dict()  # Create empty dictionary using function"
   ]
  },
  {
   "cell_type": "code",
   "execution_count": 183,
   "id": "f57ef8c0-087e-42c3-9571-ced1705046c7",
   "metadata": {},
   "outputs": [
    {
     "data": {
      "text/plain": [
       "{'brand': 'Ford', 'model': 'Mustang', 'year': 2000}"
      ]
     },
     "execution_count": 183,
     "metadata": {},
     "output_type": "execute_result"
    }
   ],
   "source": [
    "dict(brand = \"Ford\", model = \"Mustang\", year = 2000)  # Create dictionary using function\n",
    "# Keys do NOT have quotes around them. Use equal sign."
   ]
  },
  {
   "cell_type": "code",
   "execution_count": 184,
   "id": "078806c5-074a-4a49-9384-631c161a661d",
   "metadata": {},
   "outputs": [
    {
     "data": {
      "text/plain": [
       "{'brand': 'Ford', 'model': 'Mustang', 'year': 2000}"
      ]
     },
     "execution_count": 184,
     "metadata": {},
     "output_type": "execute_result"
    }
   ],
   "source": [
    "dict([(\"brand\", \"Ford\"), (\"model\", \"Mustang\"), (\"year\", 2000)])  # Create dictionary from a list of tuples\n",
    "# Keys do have quotes around them"
   ]
  },
  {
   "cell_type": "markdown",
   "id": "17173564-c4fa-4418-9147-f2a10e8c97ac",
   "metadata": {},
   "source": [
    "**`.keys()`**"
   ]
  },
  {
   "cell_type": "code",
   "execution_count": 185,
   "id": "481aa358-5204-40e0-8f2d-2012a1611a44",
   "metadata": {},
   "outputs": [
    {
     "name": "stdout",
     "output_type": "stream",
     "text": [
      "dict_keys(['brand', 'model', 'year'])\n",
      "<class 'dict_keys'>\n",
      "['brand', 'model', 'year']\n"
     ]
    }
   ],
   "source": [
    "my_dict = {\n",
    "    \"brand\": \"Ford\",\n",
    "    \"model\": \"Mustang\",\n",
    "    \"year\": 2000\n",
    "}\n",
    "my_keys = my_dict.keys()\n",
    "print(my_keys)\n",
    "print(type(my_keys))\n",
    "l_keys = list(my_keys)\n",
    "print(l_keys)"
   ]
  },
  {
   "cell_type": "markdown",
   "id": "64a3f459-4db2-4e32-9c57-b883d9de3f76",
   "metadata": {},
   "source": [
    "**`.values()`**"
   ]
  },
  {
   "cell_type": "code",
   "execution_count": 186,
   "id": "d2a2b660-349a-4212-8228-847fd9d4f31f",
   "metadata": {},
   "outputs": [
    {
     "name": "stdout",
     "output_type": "stream",
     "text": [
      "dict_values(['Ford', 'Mustang', 2000])\n",
      "<class 'dict_values'>\n",
      "['Ford', 'Mustang', 2000]\n"
     ]
    }
   ],
   "source": [
    "my_dict = {\n",
    "    \"brand\": \"Ford\",\n",
    "    \"model\": \"Mustang\",\n",
    "    \"year\": 2000\n",
    "}\n",
    "my_values = my_dict.values()\n",
    "print(my_values)\n",
    "print(type(my_values))\n",
    "l_values = list(my_values)\n",
    "print(l_values)"
   ]
  },
  {
   "cell_type": "markdown",
   "id": "5036388a-ff50-4b68-b886-25dc09f35195",
   "metadata": {},
   "source": [
    "**`items()`**"
   ]
  },
  {
   "cell_type": "code",
   "execution_count": 187,
   "id": "dcff939a-f146-4445-9b12-793f3f03a499",
   "metadata": {},
   "outputs": [
    {
     "name": "stdout",
     "output_type": "stream",
     "text": [
      "dict_items([('brand', 'Ford'), ('model', 'Mustang'), ('year', 2000)])\n",
      "<class 'dict_items'>\n",
      "[('brand', 'Ford'), ('model', 'Mustang'), ('year', 2000)]\n"
     ]
    }
   ],
   "source": [
    "my_dict = {\n",
    "    \"brand\": \"Ford\",\n",
    "    \"model\": \"Mustang\",\n",
    "    \"year\": 2000\n",
    "}\n",
    "my_items = my_dict.items()\n",
    "print(my_items)\n",
    "print(type(my_items))\n",
    "l_items = list(my_items)\n",
    "print(l_items)"
   ]
  },
  {
   "cell_type": "markdown",
   "id": "b124f8c2-c4ca-41f1-8b31-19b2855a549e",
   "metadata": {},
   "source": [
    "**`len()`**"
   ]
  },
  {
   "cell_type": "code",
   "execution_count": 188,
   "id": "22a32243-882c-45ea-9539-78d6ffc0bf80",
   "metadata": {},
   "outputs": [
    {
     "name": "stdout",
     "output_type": "stream",
     "text": [
      "3\n"
     ]
    }
   ],
   "source": [
    "my_dict = {\n",
    "    \"brand\": \"Ford\",\n",
    "    \"model\": \"Mustang\",\n",
    "    \"year\": 2000\n",
    "}\n",
    "print(len(my_dict))"
   ]
  },
  {
   "cell_type": "markdown",
   "id": "f346241f-c4c7-4c11-840e-98ecac0a7a99",
   "metadata": {},
   "source": [
    "**`.update()`**"
   ]
  },
  {
   "cell_type": "code",
   "execution_count": 189,
   "id": "c47e4ec4-b738-4713-8362-6194bd6fdff6",
   "metadata": {},
   "outputs": [
    {
     "name": "stdout",
     "output_type": "stream",
     "text": [
      "{'brand': 'Ford', 'model': 'Mustang', 'year': 2040}\n"
     ]
    }
   ],
   "source": [
    "my_dict = {\n",
    "    \"brand\": \"Ford\",\n",
    "    \"model\": \"Mustang\",\n",
    "    \"year\": 2000\n",
    "}\n",
    "my_dict.update({\"year\": 2040})  # Update value\n",
    "print(my_dict)"
   ]
  },
  {
   "cell_type": "code",
   "execution_count": 190,
   "id": "9f2a4c3a-c628-4ddd-ad1a-d78475dac0f4",
   "metadata": {},
   "outputs": [
    {
     "name": "stdout",
     "output_type": "stream",
     "text": [
      "{'brand': 'Ford', 'model': 'Mustang', 'year': 2000, 'color': 'Red'}\n"
     ]
    }
   ],
   "source": [
    "my_dict = {\n",
    "    \"brand\": \"Ford\",\n",
    "    \"model\": \"Mustang\",\n",
    "    \"year\": 2000\n",
    "}\n",
    "my_dict.update({\"color\": \"Red\"})  # Add new key: value pair\n",
    "print(my_dict)"
   ]
  },
  {
   "cell_type": "markdown",
   "id": "8ce79ae7-7243-419a-bf2a-0bd5b8dd3191",
   "metadata": {},
   "source": [
    "**`[key]`**"
   ]
  },
  {
   "cell_type": "code",
   "execution_count": 191,
   "id": "89e5901d-3cf2-44a8-b602-d6dbe77a05b1",
   "metadata": {},
   "outputs": [
    {
     "name": "stdout",
     "output_type": "stream",
     "text": [
      "2000\n"
     ]
    }
   ],
   "source": [
    "my_dict = {\n",
    "    \"brand\": \"Ford\",\n",
    "    \"model\": \"Mustang\",\n",
    "    \"year\": 2000\n",
    "}\n",
    "print(my_dict[\"year\"])"
   ]
  },
  {
   "cell_type": "code",
   "execution_count": 192,
   "id": "34972cde-e78e-4c19-bb98-178d455fdfa1",
   "metadata": {},
   "outputs": [
    {
     "name": "stdout",
     "output_type": "stream",
     "text": [
      "{'brand': 'Ford', 'model': 'Mustang', 'year': 2040}\n"
     ]
    }
   ],
   "source": [
    "my_dict = {\n",
    "    \"brand\": \"Ford\",\n",
    "    \"model\": \"Mustang\",\n",
    "    \"year\": 2000\n",
    "}\n",
    "my_dict[\"year\"] = 2040  # Update value\n",
    "print(my_dict)"
   ]
  },
  {
   "cell_type": "code",
   "execution_count": 193,
   "id": "5b16b72e-5f13-4614-a394-3f440b0e796e",
   "metadata": {},
   "outputs": [
    {
     "name": "stdout",
     "output_type": "stream",
     "text": [
      "{'brand': 'Ford', 'model': 'Mustang', 'year': 2000, 'color': 'Red'}\n"
     ]
    }
   ],
   "source": [
    "my_dict = {\n",
    "    \"brand\": \"Ford\",\n",
    "    \"model\": \"Mustang\",\n",
    "    \"year\": 2000\n",
    "}\n",
    "my_dict[\"color\"] = \"Red\"  # Add new key: value pair\n",
    "print(my_dict)"
   ]
  },
  {
   "cell_type": "markdown",
   "id": "f2f01444-407c-4aad-902f-774d1dcab50c",
   "metadata": {},
   "source": [
    "**`[key][key]`**"
   ]
  },
  {
   "cell_type": "code",
   "execution_count": 194,
   "id": "fe29492e-0d8f-460d-a001-60398513da90",
   "metadata": {},
   "outputs": [
    {
     "name": "stdout",
     "output_type": "stream",
     "text": [
      "value2\n"
     ]
    }
   ],
   "source": [
    "inner = {\n",
    "    \"key1\": \"value1\",\n",
    "    \"key2\": \"value2\",\n",
    "    \"key3\": \"value3\"\n",
    "}\n",
    "outer = {\n",
    "    \"brand\": \"Ford\",\n",
    "    \"model\": \"Mustang\",\n",
    "    \"year\": 2000,\n",
    "    \"inner\": inner\n",
    "}\n",
    "\n",
    "# First returns value which is the inner dictionary.  Then returns value from inner dictionary.\n",
    "print(outer[\"inner\"][\"key2\"])"
   ]
  },
  {
   "cell_type": "markdown",
   "id": "c4906f6c-0d35-45e9-98fd-7cf510f1188a",
   "metadata": {},
   "source": [
    "**`.get()`**"
   ]
  },
  {
   "cell_type": "code",
   "execution_count": 195,
   "id": "ffb03476-d61c-4005-b505-3354bb401683",
   "metadata": {},
   "outputs": [],
   "source": [
    "# Without .get() we mut use an if statement to avoid errors in case key is not in dictionry\n",
    "\n",
    "my_dict = {\n",
    "    \"brand\": \"Ford\",\n",
    "    \"model\": \"Mustang\",\n",
    "    \"year\": 2000\n",
    "}\n",
    "if \"color\" in my_dict: \n",
    "    print(my_dict[\"color\"])"
   ]
  },
  {
   "cell_type": "code",
   "execution_count": 196,
   "id": "1e92ab01-cafb-488f-a5a9-e38433591430",
   "metadata": {},
   "outputs": [
    {
     "name": "stdout",
     "output_type": "stream",
     "text": [
      "None\n"
     ]
    }
   ],
   "source": [
    "my_dict = {\n",
    "    \"brand\": \"Ford\",\n",
    "    \"model\": \"Mustang\",\n",
    "    \"year\": 2000\n",
    "}\n",
    "print(my_dict.get(\"color\"))  # Not in dictionary, returns None"
   ]
  },
  {
   "cell_type": "code",
   "execution_count": 197,
   "id": "2f530e26-ecbf-4470-bbfc-9a633f19445d",
   "metadata": {},
   "outputs": [
    {
     "data": {
      "text/plain": [
       "'red'"
      ]
     },
     "execution_count": 197,
     "metadata": {},
     "output_type": "execute_result"
    }
   ],
   "source": [
    "my_dict = {\n",
    "    \"brand\": \"Ford\",\n",
    "    \"model\": \"Mustang\",\n",
    "    \"year\": 2000\n",
    "}\n",
    "my_dict.get(\"color\", \"red\")  # Specify value to return if key not in dictionary"
   ]
  },
  {
   "cell_type": "code",
   "execution_count": 198,
   "id": "603804a4-8cfd-4583-9ec8-00cf9d68913a",
   "metadata": {},
   "outputs": [
    {
     "name": "stdout",
     "output_type": "stream",
     "text": [
      "{'A': 2, 'B': 2}\n"
     ]
    }
   ],
   "source": [
    "# Create dictionary histogram with .get()\n",
    "\n",
    "my_string = 'ABBA'\n",
    "my_dict = {}\n",
    "for letter in my_string:\n",
    "    my_dict[letter] = my_dict.get(letter, 0) + 1\n",
    "print(my_dict)"
   ]
  },
  {
   "cell_type": "markdown",
   "id": "78a43e44-b8b5-4b09-85b6-bbb534afc298",
   "metadata": {},
   "source": [
    "**`.setdefault()`**"
   ]
  },
  {
   "cell_type": "code",
   "execution_count": 199,
   "id": "8e01552d-fa17-4fa4-8604-ac735974913b",
   "metadata": {},
   "outputs": [
    {
     "data": {
      "text/plain": [
       "'red'"
      ]
     },
     "execution_count": 199,
     "metadata": {},
     "output_type": "execute_result"
    }
   ],
   "source": [
    "my_dict = {\n",
    "    \"brand\": \"Ford\",\n",
    "    \"model\": \"Mustang\",\n",
    "    \"year\": 2000\n",
    "}\n",
    "my_dict.setdefault(\"color\", \"red\")"
   ]
  },
  {
   "cell_type": "markdown",
   "id": "0f8ed220-5c75-418b-b463-3363026fbf13",
   "metadata": {},
   "source": [
    "**`.pop()`**"
   ]
  },
  {
   "cell_type": "code",
   "execution_count": 200,
   "id": "ab04a7f6-60d9-48f5-9c22-32f9f137c742",
   "metadata": {},
   "outputs": [
    {
     "name": "stdout",
     "output_type": "stream",
     "text": [
      "{'brand': 'Ford', 'year': 2000}\n"
     ]
    }
   ],
   "source": [
    "my_dict = {\n",
    "    \"brand\": \"Ford\",\n",
    "    \"model\": \"Mustang\",\n",
    "    \"year\": 2000\n",
    "}\n",
    "my_dict.pop(\"model\")\n",
    "print(my_dict)"
   ]
  },
  {
   "cell_type": "code",
   "execution_count": 201,
   "id": "4d8be4cf-ed80-4eb3-9701-c513971875f5",
   "metadata": {},
   "outputs": [
    {
     "data": {
      "text/plain": [
       "'Key not found.'"
      ]
     },
     "execution_count": 201,
     "metadata": {},
     "output_type": "execute_result"
    }
   ],
   "source": [
    "my_dict = {\n",
    "    \"brand\": \"Ford\",\n",
    "    \"model\": \"Mustang\",\n",
    "    \"year\": 2000\n",
    "}\n",
    "my_dict.pop(\"potato\", \"Key not found.\")  # Set value to be returned if key is not in dictionary."
   ]
  },
  {
   "cell_type": "markdown",
   "id": "1a6790e5-f501-49bc-87e9-a646c6bb2fe9",
   "metadata": {},
   "source": [
    "**`.popitem()`**"
   ]
  },
  {
   "cell_type": "code",
   "execution_count": 202,
   "id": "55cdcba6-b58b-499c-bf32-f005a0b44ca9",
   "metadata": {},
   "outputs": [
    {
     "name": "stdout",
     "output_type": "stream",
     "text": [
      "{'brand': 'Ford', 'model': 'Mustang'}\n"
     ]
    }
   ],
   "source": [
    "my_dict = {\n",
    "    \"brand\": \"Ford\",\n",
    "    \"model\": \"Mustang\",\n",
    "    \"year\": 2000\n",
    "}\n",
    "my_dict.popitem()\n",
    "print(my_dict)"
   ]
  },
  {
   "cell_type": "markdown",
   "id": "60091051-7b01-4ab1-8be5-2e2b1f4150d6",
   "metadata": {},
   "source": [
    "**`del`**"
   ]
  },
  {
   "cell_type": "code",
   "execution_count": 203,
   "id": "aef838ea-dd70-4a2c-b14e-8a72d6e44d18",
   "metadata": {},
   "outputs": [
    {
     "name": "stdout",
     "output_type": "stream",
     "text": [
      "{'brand': 'Ford', 'year': 2000}\n"
     ]
    }
   ],
   "source": [
    "my_dict = {\n",
    "    \"brand\": \"Ford\",\n",
    "    \"model\": \"Mustang\",\n",
    "    \"year\": 2000\n",
    "}\n",
    "del my_dict[\"model\"]\n",
    "print(my_dict)"
   ]
  },
  {
   "cell_type": "code",
   "execution_count": 204,
   "id": "dd04c829-76de-4d34-8f9c-c3e04864d865",
   "metadata": {},
   "outputs": [],
   "source": [
    "my_dict = {\n",
    "    \"brand\": \"Ford\",\n",
    "    \"model\": \"Mustang\",\n",
    "    \"year\": 2000\n",
    "}\n",
    "del my_dict"
   ]
  },
  {
   "cell_type": "markdown",
   "id": "782b0fca-df41-4d06-ad8a-1191dd16a211",
   "metadata": {},
   "source": [
    "**`.clear()`**"
   ]
  },
  {
   "cell_type": "code",
   "execution_count": 205,
   "id": "f233ecdb-b18f-4736-9296-b21ab0b0817f",
   "metadata": {},
   "outputs": [
    {
     "name": "stdout",
     "output_type": "stream",
     "text": [
      "{}\n"
     ]
    }
   ],
   "source": [
    "my_dict = {\n",
    "    \"brand\": \"Ford\",\n",
    "    \"model\": \"Mustang\",\n",
    "    \"year\": 2000\n",
    "}\n",
    "my_dict.clear()\n",
    "print(my_dict)"
   ]
  },
  {
   "cell_type": "markdown",
   "id": "b3aad5b0-b8f5-478e-9862-faf1415e36cb",
   "metadata": {},
   "source": [
    "**`for`**"
   ]
  },
  {
   "cell_type": "code",
   "execution_count": 206,
   "id": "3755dd9e-b910-4e79-ae7b-a1eb63d064d8",
   "metadata": {},
   "outputs": [
    {
     "name": "stdout",
     "output_type": "stream",
     "text": [
      "('brand', 'Ford')\n",
      "('model', 'Mustang')\n",
      "('year', 2000)\n"
     ]
    }
   ],
   "source": [
    "my_dict = {\n",
    "    \"brand\": \"Ford\",\n",
    "    \"model\": \"Mustang\",\n",
    "    \"year\": 2000\n",
    "}\n",
    "for item in my_dict.items():  # Iterate through items.  Returns tuples of key: value pairs\n",
    "    print(item)"
   ]
  },
  {
   "cell_type": "code",
   "execution_count": 207,
   "id": "80a9183a-4db5-4b7b-9528-505efaec036e",
   "metadata": {},
   "outputs": [
    {
     "name": "stdout",
     "output_type": "stream",
     "text": [
      "brand Ford\n",
      "model Mustang\n",
      "year 2000\n"
     ]
    }
   ],
   "source": [
    "my_dict = {\n",
    "    \"brand\": \"Ford\",\n",
    "    \"model\": \"Mustang\",\n",
    "    \"year\": 2000\n",
    "}\n",
    "for key, value in my_dict.items():  # Iterate through both keys and values.\n",
    "    print(key, value)"
   ]
  },
  {
   "cell_type": "markdown",
   "id": "d7509731-f2b1-40bc-95ed-07b6e474fc85",
   "metadata": {},
   "source": [
    "**Dictionary Comprehension Simple Example**\n",
    "\n",
    "- Format is the same as list and set comprehension, but each item is a key: value pair"
   ]
  },
  {
   "cell_type": "code",
   "execution_count": 208,
   "id": "b90a28e9-03fd-4232-b105-f8e06d6d4bca",
   "metadata": {},
   "outputs": [
    {
     "name": "stdout",
     "output_type": "stream",
     "text": [
      "{'brand': 'Ford', 'model': 'Mustang', 'year': 2000}\n",
      "{'brand': 'Ford', 'model': 'Mustang', 'year': 2000}\n"
     ]
    }
   ],
   "source": [
    "my_dict = {\n",
    "    \"brand\": \"Ford\",\n",
    "    \"model\": \"Mustang\",\n",
    "    \"year\": 2000\n",
    "}\n",
    "\n",
    "# Normal for loop\n",
    "new_dict0 = {}\n",
    "for key, value in my_dict.items():\n",
    "    new_dict0.update({key: value})\n",
    "print(new_dict0)\n",
    "\n",
    "# Dictionary Comprehension\n",
    "# Format is:  {new_dictionary = expression: expression for key, value in dictionary.items()}\n",
    "new_dict1 = {key: value for key, value in my_dict.items()}\n",
    "print(new_dict1)"
   ]
  },
  {
   "cell_type": "markdown",
   "id": "9d25c6ae-36df-44ea-8f25-a8464283c0e7",
   "metadata": {},
   "source": [
    "**Dictionary Comprehension Complex Example**"
   ]
  },
  {
   "cell_type": "code",
   "execution_count": 209,
   "id": "237ceec7-51de-4483-9567-8750f406a516",
   "metadata": {},
   "outputs": [
    {
     "name": "stdout",
     "output_type": "stream",
     "text": [
      "{'year': 2021}\n",
      "{'year': 2021}\n"
     ]
    }
   ],
   "source": [
    "my_dict = {\n",
    "    \"brand\": \"Ford\",\n",
    "    \"model\": \"Mustang\",\n",
    "    \"year\": 2000\n",
    "}\n",
    "\n",
    "# Normal for loop\n",
    "new_dict = {}\n",
    "for key, value in my_dict.items():\n",
    "    if type(value) == int:\n",
    "        new_dict.update({key: value + 21})\n",
    "print(new_dict)\n",
    "\n",
    "# Dictionary Comprehension\n",
    "# Format is:  {new_dictionary = expression: expression for key, value in dictionary.items() condition}\n",
    "new_dict = {key: value + 21 for key, value in my_dict.items() if type(value) == int}\n",
    "print(new_dict)"
   ]
  },
  {
   "cell_type": "markdown",
   "id": "0190899a-8646-41cc-b873-53c44030a105",
   "metadata": {},
   "source": [
    "---"
   ]
  },
  {
   "cell_type": "markdown",
   "id": "7c645569-fc29-4670-911c-9f37e6c3771b",
   "metadata": {
    "tags": []
   },
   "source": [
    "# Boolean\n",
    "- Boolean values are True and False\n",
    "- Boolean values are returned when using comparison operators (<,<=,==,>=,>), identity operators (is, not is), and membership operators (in, not in)\n",
    "- We can also check to see if values are True or False using the `bool()` function.  Most values will return True except a handful that essentially mean False or the absence of a value.  These are: False, None, 0, \"\", (), [], and {}."
   ]
  },
  {
   "cell_type": "markdown",
   "id": "e53b42b0-fe28-4c13-847b-38b2e6b34b51",
   "metadata": {},
   "source": [
    "---"
   ]
  },
  {
   "cell_type": "markdown",
   "id": "28071287-6502-4ec7-9483-0fa3aba31727",
   "metadata": {},
   "source": [
    "**EXAMPLES**"
   ]
  },
  {
   "cell_type": "code",
   "execution_count": 210,
   "id": "6faaa488-e940-46c6-b3e2-f986c8345c33",
   "metadata": {},
   "outputs": [
    {
     "name": "stdout",
     "output_type": "stream",
     "text": [
      "Is it really B.S.?\n"
     ]
    }
   ],
   "source": [
    "if bool('shit'):\n",
    "    print(\"Is it really B.S.?\")"
   ]
  },
  {
   "cell_type": "markdown",
   "id": "17676332-976c-4303-b00d-a80266d06731",
   "metadata": {},
   "source": [
    "---"
   ]
  },
  {
   "cell_type": "markdown",
   "id": "5115821c-0f49-4a4a-9044-292af157dbfa",
   "metadata": {
    "tags": []
   },
   "source": [
    "# Bytes\n",
    "- All information in computers is stored as 1s and 0s so that it can ultimately be represented by electricity.    A computer stores 8 bits of information grouped into a byte (sorry nibbles : (.  To store anything in a computer, we must first encode it as a sequence of bytes.  For example:\n",
    "    - If we want to store music, we must first encode it using MP3, WAV, etc.\n",
    "    - If we want to store a picture, we must first encode it using PNG, JPEG, etc.\n",
    "    - If we want to store text, we must first encode it using ASCII, UTF-8, etc.\n",
    "- **Encoding**--represent audio, images, video, text, etc. as sequence of bytes\n",
    "- **Decoding**--convert bytes into audio, images, video, text, etc.\n",
    "- In Python there are two built-in data types that store bytes\n",
    "    1. **Bytes**--also called bytes object. Python bytes are immutable.  Bytes can store any type of file, but are most commonly used to store encoded string data.\n",
    "    1. **Byte array**--similar to bytes, but mutable\n",
    "- Bytes are not human readable.  Bytes are 1s and 0s.  However, if we `print()` a Python bytes object, Python automatically decodes the bytes object for us, and displays it with a `b` in front.  Python does this automatic print decoding using ASCII character mapping (instead of Unicode strangely).  Remember though, bytes are 1s and 0s.  This will be more obvious if we try to print bytes that encode an image, audio, video, etc. as we'll get something we definitely can't read.\n",
    "- While bytes can store any type a data, in Python, we most commonly:\n",
    "    1. Encode string, returning bytes object\n",
    "    1. Decode bytes object, returning string\n",
    " \n",
    "Code | Use\n",
    "--- | ---\n",
    "`bytes()` | Create bytes object.  If argument is integer, an empty bytes object of specified size will be created.\n",
    "`bytearray()` | Create bytearray object.  Similar to `bytes()`.\n",
    "`.encode()` | String object method.  Encode string, returning bytes object.  Uses UTF-8 by default.\n",
    "`.decode()` | Bytes object method.  Decode bytes object, returning string .  Uses UTF-8 by default."
   ]
  },
  {
   "cell_type": "markdown",
   "id": "8704c3aa-882e-4c00-a7ff-7c200172be4f",
   "metadata": {},
   "source": [
    "---"
   ]
  },
  {
   "cell_type": "markdown",
   "id": "75bc3774-b7b6-4124-81a2-031b91323a88",
   "metadata": {},
   "source": [
    "**EXAMPLES**"
   ]
  },
  {
   "cell_type": "markdown",
   "id": "69711239-52da-44d1-8a9e-8aadd90bb8ef",
   "metadata": {},
   "source": [
    "**`bytes()`**"
   ]
  },
  {
   "cell_type": "code",
   "execution_count": 211,
   "id": "8a76bd93-7d5f-470d-94cb-e8e580e7ccd1",
   "metadata": {},
   "outputs": [
    {
     "data": {
      "text/plain": [
       "b''"
      ]
     },
     "execution_count": 211,
     "metadata": {},
     "output_type": "execute_result"
    }
   ],
   "source": [
    "bytes()  # Empty bytes object"
   ]
  },
  {
   "cell_type": "markdown",
   "id": "c91dadc5-36d2-4d4a-a1ce-d1eedea681f6",
   "metadata": {},
   "source": [
    "**`bytearray()`**"
   ]
  },
  {
   "cell_type": "code",
   "execution_count": 212,
   "id": "d077d8d6-2c63-4f58-b33c-615223f48fa7",
   "metadata": {},
   "outputs": [
    {
     "data": {
      "text/plain": [
       "bytearray(b'')"
      ]
     },
     "execution_count": 212,
     "metadata": {},
     "output_type": "execute_result"
    }
   ],
   "source": [
    "bytearray()  # Empty bytearray object"
   ]
  },
  {
   "cell_type": "markdown",
   "id": "7e7bca1b-2c21-4184-881c-89c0ce0a8518",
   "metadata": {},
   "source": [
    "**`.encode()`**"
   ]
  },
  {
   "cell_type": "code",
   "execution_count": 213,
   "id": "4086d3f6-c552-489a-87f6-1754e852fb67",
   "metadata": {},
   "outputs": [
    {
     "data": {
      "text/plain": [
       "bytes"
      ]
     },
     "execution_count": 213,
     "metadata": {},
     "output_type": "execute_result"
    }
   ],
   "source": [
    "type('Hello world'.encode())"
   ]
  },
  {
   "cell_type": "code",
   "execution_count": 214,
   "id": "aafadd99-0ca3-43bc-91fd-2889973ac4d7",
   "metadata": {},
   "outputs": [
    {
     "name": "stdout",
     "output_type": "stream",
     "text": [
      "b'Hello world'\n"
     ]
    }
   ],
   "source": [
    "print('Hello world'.encode())"
   ]
  },
  {
   "cell_type": "markdown",
   "id": "dfa21274-c095-4e45-b50a-5966946c7ffa",
   "metadata": {},
   "source": [
    "**`.decode()`**"
   ]
  },
  {
   "cell_type": "code",
   "execution_count": 215,
   "id": "bf680519-26e2-48c9-adca-5fa359ac82f8",
   "metadata": {},
   "outputs": [
    {
     "data": {
      "text/plain": [
       "str"
      ]
     },
     "execution_count": 215,
     "metadata": {},
     "output_type": "execute_result"
    }
   ],
   "source": [
    "type(b'Hello world'.decode())"
   ]
  },
  {
   "cell_type": "code",
   "execution_count": 216,
   "id": "dd174435-9c39-4afa-9e6b-3f763b0e9865",
   "metadata": {},
   "outputs": [
    {
     "name": "stdout",
     "output_type": "stream",
     "text": [
      "Hello world\n"
     ]
    }
   ],
   "source": [
    "print(b'Hello world'.decode())"
   ]
  },
  {
   "cell_type": "markdown",
   "id": "528f3fa0-085d-4923-8abe-279155505f2d",
   "metadata": {},
   "source": [
    "---"
   ]
  },
  {
   "cell_type": "markdown",
   "id": "cac41422-b9c1-444b-b9fc-e0881b32863d",
   "metadata": {},
   "source": [
    "# Conditional Statements\n",
    "-  **Control flow**--the use of conditional statements\n",
    "- Conditional statements are \"if-then\" statements. If a condition is met, then run code.  \n",
    "- The condition is expression that evaluates that evaluates to a Boolean\n",
    "- **Conditional statement basic syntax**:\n",
    "```python\n",
    "if <CONDITION>:\n",
    "    <RUN THIS CODE>\n",
    "```\n",
    "- **Conditional statement complex syntax**\n",
    "```python\n",
    "if <CONDITION>:\n",
    "    <RUN THIS CODE>\n",
    "elif <CONDITION>:\n",
    "    <RUN THIS CODE>\n",
    "elif <CONDITION>:\n",
    "    <RUN THIS CODE>\n",
    "else:\n",
    "    <RUN THIS CODE>\n",
    "```\n",
    "\n",
    "Code | Use\n",
    "--- | ---\n",
    "`if` | Means “if this condition is True, then run this code”\n",
    "`elif` | elif stands for \"else if\".  Means “if all previous conditions were False, and this condition is True, then run this code.”  Conditions evaluate sequentially. The first one to evaluate as True is run. The remaining are not evaluated nor run.\n",
    "`else` | Means “if all previous conditions were False, then run this code.” A catch all.\n",
    "`pass` | If `pass` placed within an otherwise empty `if` statement, we avoid receiving an error.  Pass protection."
   ]
  },
  {
   "cell_type": "markdown",
   "id": "dafac836-fee9-4db7-945c-011b1fbcaf3d",
   "metadata": {},
   "source": [
    "---"
   ]
  },
  {
   "cell_type": "markdown",
   "id": "9f4894af-80c5-40dd-9109-c62853fabe39",
   "metadata": {},
   "source": [
    "**EXAMPLES**"
   ]
  },
  {
   "cell_type": "markdown",
   "id": "1b6dc9d1-d2ac-44a6-8a18-ffc694cb507e",
   "metadata": {},
   "source": [
    "**`if`**"
   ]
  },
  {
   "cell_type": "code",
   "execution_count": 217,
   "id": "f6295c9a-9c85-491b-b945-52d4420b7488",
   "metadata": {},
   "outputs": [
    {
     "name": "stdout",
     "output_type": "stream",
     "text": [
      "Can assign True or False to variables.\n"
     ]
    }
   ],
   "source": [
    "a = True\n",
    "\n",
    "# This reads, \"if a is True then\". The `:` is read as \"then\".\n",
    "# Since a is assigned to True, the condition evaluates as True.\n",
    "if a:  \n",
    "    print(\"Can assign True or False to variables.\")"
   ]
  },
  {
   "cell_type": "code",
   "execution_count": 218,
   "id": "3827f131-ad19-45cd-8bd9-540d340c5249",
   "metadata": {},
   "outputs": [
    {
     "name": "stdout",
     "output_type": "stream",
     "text": [
      "Very old dog\n"
     ]
    }
   ],
   "source": [
    "dog = 16\n",
    "if dog > 15: \n",
    "    print(\"Very old dog\")"
   ]
  },
  {
   "cell_type": "code",
   "execution_count": 219,
   "id": "9eca71d6-010c-4ef3-a285-b6ea499c6b9d",
   "metadata": {},
   "outputs": [],
   "source": [
    "dog = 15\n",
    "if dog > 15:\n",
    "    print(\"Very old dog\")  # Nothing is printed"
   ]
  },
  {
   "cell_type": "markdown",
   "id": "d8336caf-9476-47b7-9d5a-a58951408889",
   "metadata": {},
   "source": [
    "**`elif`**"
   ]
  },
  {
   "cell_type": "code",
   "execution_count": 220,
   "id": "16527b41-d4ad-4548-be75-8cf2af56a81d",
   "metadata": {},
   "outputs": [
    {
     "name": "stdout",
     "output_type": "stream",
     "text": [
      "Middle-aged dog\n"
     ]
    }
   ],
   "source": [
    "dog = 6\n",
    "if dog > 15:\n",
    "    print(\"Very old dog\")\n",
    "elif dog > 10:\n",
    "    print(\"Old dog\")\n",
    "elif dog > 5:\n",
    "    print(\"Middle-aged dog\")\n",
    "elif dog > 0:\n",
    "    print(\"Young dog\")"
   ]
  },
  {
   "cell_type": "markdown",
   "id": "4ce421b0-523c-49f0-a8e4-026a508e7320",
   "metadata": {},
   "source": [
    "**`else`**"
   ]
  },
  {
   "cell_type": "code",
   "execution_count": 221,
   "id": "107d4816-0ccc-4318-803c-e7e2a44138c1",
   "metadata": {},
   "outputs": [
    {
     "name": "stdout",
     "output_type": "stream",
     "text": [
      "Not very old dog\n"
     ]
    }
   ],
   "source": [
    "dog = 12\n",
    "if dog > 15:\n",
    "    print(\"Very old dog\")\n",
    "else:\n",
    "    print(\"Not very old dog\")"
   ]
  },
  {
   "cell_type": "markdown",
   "id": "5af50e30-03c8-418c-a7dc-5eb126f9774e",
   "metadata": {},
   "source": [
    "**`if` `elif` `else`**"
   ]
  },
  {
   "cell_type": "code",
   "execution_count": 222,
   "id": "208e41ef-bb0a-4cbb-814c-9fd6153205a5",
   "metadata": {},
   "outputs": [
    {
     "name": "stdout",
     "output_type": "stream",
     "text": [
      "Age unknown\n"
     ]
    }
   ],
   "source": [
    "dog = -1\n",
    "if dog > 15:\n",
    "    print(\"Very old dog\")\n",
    "elif dog > 10:\n",
    "    print(\"Old dog\")\n",
    "elif dog > 5:\n",
    "    print(\"Middle-aged dog\")\n",
    "elif dog > 0:\n",
    "    print(\"Young dog\")\n",
    "else:\n",
    "    print(\"Age unknown\")"
   ]
  },
  {
   "cell_type": "markdown",
   "id": "15f431da-8ed1-4e2e-9608-233d53c4686e",
   "metadata": {},
   "source": [
    "**`and` or `or` to \"Flatten\"**\n",
    "\n",
    "- Having nested conditional is possible and often necessary.  However, it can get confusing if it is done more than a few times.  `and` or `or` can be used to \"flatten\" conditional statements with too many nestings. "
   ]
  },
  {
   "cell_type": "code",
   "execution_count": 223,
   "id": "acb10c95-f1bf-460f-a317-1adb90fa5f7d",
   "metadata": {},
   "outputs": [
    {
     "name": "stdout",
     "output_type": "stream",
     "text": [
      "If you are reading this, all conditions evaluated as True.\n"
     ]
    }
   ],
   "source": [
    "a = 1\n",
    "b = 2\n",
    "c = 3\n",
    "\n",
    "if a > 0 :\n",
    "    if b > 0:\n",
    "        if c > 0:\n",
    "                print(\"If you are reading this, all conditions evaluated as True.\")"
   ]
  },
  {
   "cell_type": "code",
   "execution_count": 224,
   "id": "34ef4027-1426-4e22-9d2a-5c7bb9fc37f5",
   "metadata": {},
   "outputs": [
    {
     "name": "stdout",
     "output_type": "stream",
     "text": [
      "If you are reading this, all conditions evaluated as True.\n"
     ]
    }
   ],
   "source": [
    "if a > 0 and b > 0 and c > 0:\n",
    "    print(\"If you are reading this, all conditions evaluated as True.\")"
   ]
  },
  {
   "cell_type": "markdown",
   "id": "b07bba26-d5b5-41e7-a4d1-6f46ef5d1d73",
   "metadata": {},
   "source": [
    "---"
   ]
  },
  {
   "cell_type": "markdown",
   "id": "04489874-045d-420d-95e7-13bd1b7f9b2a",
   "metadata": {},
   "source": [
    "## Short-Circuit Evaluation\n",
    "- **`and` short-circuit evaluation**--in an `and` statement, if the first expression evaluates as `False`, then the `and` statement will always be `False`.  For this reason, the second expression does not run.  The first expression can be used as a \"gatekeeper expression\" to protect the second expression from running, if it may cause an error. \n",
    "- **`or` short-circuit evaluation**--in an `or` statement, if the first expression evaluates as `True`, then the `or` statement will always be `True`.  For this reason, the second expression does not run.  The first expression can be used as a \"gatekeeper expression\" to protect the second expression from running, if it may cause an error. \n",
    "- There are pros and cons to short circuit evaluation and some languages use them more than others\n",
    "    - Pro is short code\n",
    "    - Con is readability.  An `if` statement makes it much clearer what the intent of the code is."
   ]
  },
  {
   "cell_type": "markdown",
   "id": "627f0a52-1cf8-452a-8108-fa4b357ead34",
   "metadata": {},
   "source": [
    "---"
   ]
  },
  {
   "cell_type": "markdown",
   "id": "f2746511-4a51-4b92-a40b-693ea5864c88",
   "metadata": {},
   "source": [
    "**EXAMPLES**"
   ]
  },
  {
   "cell_type": "markdown",
   "id": "dbcbea76-8a20-4e1b-9b0e-6615fc0d0ef9",
   "metadata": {},
   "source": [
    "**`if` Statement**"
   ]
  },
  {
   "cell_type": "code",
   "execution_count": 225,
   "id": "459e904b-edd8-40d5-935f-1fd692a0657d",
   "metadata": {},
   "outputs": [],
   "source": [
    "a = 1\n",
    "b = 0  # Dividing by 0 causes an error\n",
    "\n",
    "if b != 0:\n",
    "    a / b"
   ]
  },
  {
   "cell_type": "markdown",
   "id": "6760ee76-4486-4163-a8c7-7c170214f589",
   "metadata": {},
   "source": [
    "**`and` Short-Circuit Evaluation**"
   ]
  },
  {
   "cell_type": "code",
   "execution_count": 226,
   "id": "6312a405-be4d-417a-b447-6fd7f15225ba",
   "metadata": {},
   "outputs": [
    {
     "data": {
      "text/plain": [
       "False"
      ]
     },
     "execution_count": 226,
     "metadata": {},
     "output_type": "execute_result"
    }
   ],
   "source": [
    "b != 0 and a / b"
   ]
  },
  {
   "cell_type": "markdown",
   "id": "9f3034dd-261a-483f-ae73-77263b31a489",
   "metadata": {},
   "source": [
    "**`or` Short-Circuit Evaluation**"
   ]
  },
  {
   "cell_type": "code",
   "execution_count": 227,
   "id": "d409a0b6-2ef4-4bb1-b331-80aac6fcd375",
   "metadata": {},
   "outputs": [
    {
     "data": {
      "text/plain": [
       "True"
      ]
     },
     "execution_count": 227,
     "metadata": {},
     "output_type": "execute_result"
    }
   ],
   "source": [
    "b == 0 or a / b"
   ]
  },
  {
   "cell_type": "markdown",
   "id": "9a11f173-3f0a-422d-9806-55ca6becd935",
   "metadata": {},
   "source": [
    "---"
   ]
  },
  {
   "cell_type": "markdown",
   "id": "5f0be831-ad75-48bb-a91b-0f99256db8cd",
   "metadata": {},
   "source": [
    "# While Loops\n",
    "- A loop is iteration.  Iteration is the repetition of a process. A while loop repeats a process as long as a condition is True.  It is important to increment a variable so that it changes each loop, eventually making the condition evaluate as False.  We don't want the condition to be True forever as this will create an infinite loop.  To exit an infinite loop press **Ctrl-c**.\n",
    "- **Counter**--variable used in a loop to record the number of loops so far.  Usually initialized at 0.\n",
    "- **Accumulator**--variable used in a loop to record the sum so far.  Usually initialized at 0.\n",
    "- **Increment**--an update that increases the value of a variable, often by one. \n",
    "- **Decrement**--an update that decreases the value of a variable, often by one.\n",
    "- **while loop basic syntax**:\n",
    "```python\n",
    "<VARIABLE_NAME> = <CONSTANT>\n",
    "while <CONDITION>:\n",
    "    <RUN THIS CODE>\n",
    "    <VARIABLE_NAME> += <INCREMENT>\n",
    "```\n",
    "\n",
    "Code | Use\n",
    "-- | ---\n",
    "`while` | Main keyword\n",
    "`continue` | Stops current iteration and goes to next iteration. Optional.\n",
    "`break` | Exits loop, even if condition is still True. Optional.\n",
    "`else` | Used directly below/after a loop.  Only executes if the entire loop is run. Else statement won't run if break occurs,  but will still run if `continue` is used.  Optional.\n",
    "`pass` | If `pass` placed within an otherwise empty loop, we avoid receiving an error.  Pass protection.\n",
    "`Ctrl-c` | Triggers a `KeyboardInterrupt` which exists the currently running statement.  Helpful if stuck in an infinite while loop."
   ]
  },
  {
   "cell_type": "markdown",
   "id": "f418d9c7-2402-42b4-b2e2-6aa2297a5172",
   "metadata": {},
   "source": [
    "---"
   ]
  },
  {
   "cell_type": "markdown",
   "id": "c437bf9b-a994-4d70-b1bc-6390c4fa472a",
   "metadata": {},
   "source": [
    "**EXAMPLES**"
   ]
  },
  {
   "cell_type": "markdown",
   "id": "961a7cff-7083-4c7e-aa4f-dd08d07eb8d0",
   "metadata": {},
   "source": [
    "**Simple Example**"
   ]
  },
  {
   "cell_type": "code",
   "execution_count": 228,
   "id": "ef5f2723-388a-4b89-8edb-511dcd371407",
   "metadata": {},
   "outputs": [
    {
     "name": "stdout",
     "output_type": "stream",
     "text": [
      "1\n",
      "2\n",
      "3\n",
      "4\n",
      "5\n"
     ]
    }
   ],
   "source": [
    "i = 1\n",
    "while i <= 5:\n",
    "    print(i)\n",
    "    i += 1"
   ]
  },
  {
   "cell_type": "markdown",
   "id": "8405d673-50f1-41c9-91e9-578475b6bf29",
   "metadata": {},
   "source": [
    "**continue**"
   ]
  },
  {
   "cell_type": "code",
   "execution_count": 229,
   "id": "f0d29b15-1f92-4c90-8d52-00668f41dbc0",
   "metadata": {},
   "outputs": [],
   "source": [
    "i = 1\n",
    "while i <= 5:\n",
    "    i += 1\n",
    "    continue  # Return to top of loop before print()\n",
    "    print(i)"
   ]
  },
  {
   "cell_type": "markdown",
   "id": "a1b81082-33f1-4fff-be85-33a2856c3098",
   "metadata": {},
   "source": [
    "**break**"
   ]
  },
  {
   "cell_type": "code",
   "execution_count": 230,
   "id": "cdb875b8-52c9-403d-a994-450a886a3f85",
   "metadata": {},
   "outputs": [
    {
     "name": "stdout",
     "output_type": "stream",
     "text": [
      "1\n",
      "2\n"
     ]
    }
   ],
   "source": [
    "i = 1\n",
    "while i <= 5:\n",
    "    if i == 3:\n",
    "        break\n",
    "    else:\n",
    "        print(i)\n",
    "        i += 1"
   ]
  },
  {
   "cell_type": "markdown",
   "id": "8b4b7941-6c8e-4220-91b5-62f38b8d2de0",
   "metadata": {},
   "source": [
    "**else**"
   ]
  },
  {
   "cell_type": "code",
   "execution_count": 231,
   "id": "81049d30-dbd4-4ba6-8bed-7a87af06dc32",
   "metadata": {},
   "outputs": [
    {
     "name": "stdout",
     "output_type": "stream",
     "text": [
      "1\n",
      "2\n",
      "3\n",
      "4\n",
      "5\n",
      "This only prints if loop completes\n"
     ]
    }
   ],
   "source": [
    "i = 1\n",
    "while i <= 5:\n",
    "    print(i)\n",
    "    i += 1\n",
    "else:\n",
    "    print(\"This only prints if loop completes\")"
   ]
  },
  {
   "cell_type": "markdown",
   "id": "c471d6ed-f66f-4997-89f1-4e52d00e0f00",
   "metadata": {},
   "source": [
    "---"
   ]
  },
  {
   "cell_type": "markdown",
   "id": "b81b8904-e7e3-4291-a44f-0fe0f6107779",
   "metadata": {},
   "source": [
    "# For Loops\n",
    "- A loop is iteration. Iteration is the repetition of a process. A for loop uses an **iterable object** (string, range, list, tuple, set, dictionary, generator object, etc.) then goes through each item of the iterable object consecutively.  One at a time it assigns an item to a variable (called the **iteration variable**), does something with it (like use it in a function or expression) and then repeats process with the next item.  Does this until all items have been used.\n",
    "- In for loops, under the hood, the iterable objects is passed to the `iter()` function, which returns an iterator object.  The **iterator object** keeps track of which item is next in the for loop.  In each iteration of the for loop `next()` is called on the iterator object.  We don't need to know this, but it may help avoid confusion if we hear the word \"iterator\" in the future.\n",
    "- **Nested loops**--loop inside of loop.  For every single iteration of outer/main loop the inner/nested loop runs all the way through.\n",
    "    - E.g. With minutes and seconds, a minute can be thought of as an outer loop and seconds can be thought of as an inner loop\n",
    "\n",
    "Code | Use\n",
    "--- | ---\n",
    "`for` | Main keyword\n",
    "`continue` | Stops current iteration and goes to next iteration. Optional.\n",
    "`break` | Exits loop. Optional.\n",
    "`else` | Used directly below/after a loop.  Only executes if the entire loop is run. Else statement won't run if `break` used, but will still run if `continue` is used.  Optional.\n",
    "`pass` | If `pass` placed within an otherwise empty loop, we avoid receiving an error.  Pass protection.\n",
    "`range()` | Returns a sequence of numbers that are iterable.  By default starts at 0, which is inclusive. Goes until specified number, which is exclusive. Optionally, specify interval.  Optionally, specify increment size.  Increment size can be negative.\n",
    "`range(len())` | Returns a sequence of numbers that are iterable.  The sequence starts at 0 and is equal in length to the specified collection.  Each number represents the index position of an item in the specified collection.\n",
    "`enumerate()` | Returns list of tuples in the form (index, item).  It is recommended to use `enumerate()` in place of `range(len())`."
   ]
  },
  {
   "cell_type": "markdown",
   "id": "1c0c1eef-1460-4354-bd4d-0cb90404540a",
   "metadata": {},
   "source": [
    "---"
   ]
  },
  {
   "cell_type": "markdown",
   "id": "3d61b7a0-66d3-4f79-b356-32a8d35f4cca",
   "metadata": {},
   "source": [
    "**EXAMPLES**"
   ]
  },
  {
   "cell_type": "markdown",
   "id": "5ff407d2-da7f-4996-9cc4-bdc888f23b4c",
   "metadata": {},
   "source": [
    "**Simple Example**"
   ]
  },
  {
   "cell_type": "code",
   "execution_count": 232,
   "id": "e2c22d60-3e24-450e-9431-f3dade22b626",
   "metadata": {},
   "outputs": [
    {
     "name": "stdout",
     "output_type": "stream",
     "text": [
      "a\n",
      "b\n",
      "c\n"
     ]
    }
   ],
   "source": [
    "iterable = [\"a\", \"b\", \"c\"]\n",
    "\n",
    "for item in iterable:\n",
    "    print(item)"
   ]
  },
  {
   "cell_type": "markdown",
   "id": "20504bcb-fcaf-4c35-9092-dac407104444",
   "metadata": {},
   "source": [
    "**`continue`**"
   ]
  },
  {
   "cell_type": "code",
   "execution_count": 233,
   "id": "6b28d8f4-73ce-4444-a470-448844fe9467",
   "metadata": {},
   "outputs": [],
   "source": [
    "iterable = [\"a\", \"b\", \"c\"]\n",
    "\n",
    "for item in iterable:\n",
    "    continue\n",
    "    print(item)"
   ]
  },
  {
   "cell_type": "markdown",
   "id": "5191900f-163e-4121-865e-a1929b1e2a34",
   "metadata": {},
   "source": [
    "**`break`**"
   ]
  },
  {
   "cell_type": "code",
   "execution_count": 234,
   "id": "6965a645-cf5f-4c05-805a-f65b6fca0d75",
   "metadata": {},
   "outputs": [
    {
     "name": "stdout",
     "output_type": "stream",
     "text": [
      "a\n"
     ]
    }
   ],
   "source": [
    "iterable = [\"a\", \"b\", \"c\"]\n",
    "\n",
    "for item in iterable:\n",
    "    print(item)\n",
    "    break"
   ]
  },
  {
   "cell_type": "markdown",
   "id": "bdbc0019-5401-40ed-9a2e-3bb2b38464c3",
   "metadata": {},
   "source": [
    "**`else`**"
   ]
  },
  {
   "cell_type": "code",
   "execution_count": 235,
   "id": "007e4e1a-8a7a-43e0-b58d-ec08f043e4d9",
   "metadata": {},
   "outputs": [
    {
     "name": "stdout",
     "output_type": "stream",
     "text": [
      "a\n",
      "b\n",
      "c\n",
      "This sentence is printed if the loop completes.\n"
     ]
    }
   ],
   "source": [
    "iterable = [\"a\", \"b\", \"c\"]\n",
    "\n",
    "for item in iterable:\n",
    "    print(item)\n",
    "else:\n",
    "    print(\"This sentence is printed if the loop completes.\") "
   ]
  },
  {
   "cell_type": "markdown",
   "id": "3cc3401d-3990-4c40-8723-b965e41ecc93",
   "metadata": {},
   "source": [
    "**Nested Loop**"
   ]
  },
  {
   "cell_type": "code",
   "execution_count": 236,
   "id": "13dbcbca-6e38-4715-9921-653d4ac8c44c",
   "metadata": {},
   "outputs": [
    {
     "name": "stdout",
     "output_type": "stream",
     "text": [
      "1\n",
      "a\n",
      "b\n",
      "2\n",
      "a\n",
      "b\n",
      "3\n",
      "a\n",
      "b\n"
     ]
    }
   ],
   "source": [
    "outer = [1, 2, 3]\n",
    "inner = [\"a\", \"b\"]\n",
    "for item_outer in outer:  # Outer loop runs through items once\n",
    "    print(item_outer)\n",
    "    for item_inner in inner:  # Inner loop completes for each item in outer loop\n",
    "        print(item_inner)"
   ]
  },
  {
   "cell_type": "markdown",
   "id": "f7429cf2-eb20-4a6e-ab33-88cf4fb210d5",
   "metadata": {},
   "source": [
    "**`range()`**"
   ]
  },
  {
   "cell_type": "code",
   "execution_count": 237,
   "id": "5d9c1abe-d3d8-40e6-af7b-bd1923d330a9",
   "metadata": {},
   "outputs": [
    {
     "name": "stdout",
     "output_type": "stream",
     "text": [
      "<class 'range'>\n",
      "range(0, 6)\n",
      "0\n",
      "1\n",
      "2\n",
      "3\n",
      "4\n",
      "5\n"
     ]
    }
   ],
   "source": [
    "iterable = range(6)\n",
    "print(type(iterable))\n",
    "print(iterable)\n",
    "for item in iterable:\n",
    "    print(item)"
   ]
  },
  {
   "cell_type": "code",
   "execution_count": 238,
   "id": "cd569a02-a042-423a-916f-0fe6c7732bfc",
   "metadata": {},
   "outputs": [
    {
     "name": "stdout",
     "output_type": "stream",
     "text": [
      "2\n",
      "3\n",
      "4\n",
      "5\n"
     ]
    }
   ],
   "source": [
    "iterable = range(2, 6)  # Set interval\n",
    "for item in iterable:\n",
    "    print(item)"
   ]
  },
  {
   "cell_type": "code",
   "execution_count": 239,
   "id": "9a31301b-381a-437a-8534-31fde5269a91",
   "metadata": {},
   "outputs": [
    {
     "name": "stdout",
     "output_type": "stream",
     "text": [
      "2\n",
      "4\n"
     ]
    }
   ],
   "source": [
    "iterable = range(2, 6, 2)  # Set increment\n",
    "for item in iterable:\n",
    "    print(item)"
   ]
  },
  {
   "cell_type": "code",
   "execution_count": 240,
   "id": "d0739d5e-36e6-42dc-857d-2f94d22d90ab",
   "metadata": {},
   "outputs": [
    {
     "name": "stdout",
     "output_type": "stream",
     "text": [
      "6\n",
      "4\n"
     ]
    }
   ],
   "source": [
    "iterable = range(6, 2, -2)  # Negative increment\n",
    "for item in iterable:\n",
    "    print(item)"
   ]
  },
  {
   "cell_type": "markdown",
   "id": "3cc132c6-c7a7-4f7c-ada2-7e54e482bc3b",
   "metadata": {},
   "source": [
    "**`range(len())`**"
   ]
  },
  {
   "cell_type": "code",
   "execution_count": 241,
   "id": "f85a4bc5-38db-4b40-ae0b-659acdcd4d90",
   "metadata": {},
   "outputs": [
    {
     "name": "stdout",
     "output_type": "stream",
     "text": [
      "0\n",
      "1\n",
      "2\n"
     ]
    }
   ],
   "source": [
    "iterable = ['a', 'b', 'c']\n",
    "for i in range(len(iterable)):\n",
    "    print(i)"
   ]
  },
  {
   "cell_type": "code",
   "execution_count": 242,
   "id": "ac3a6586-2d1b-4f13-9868-5bcec78aaea6",
   "metadata": {},
   "outputs": [
    {
     "name": "stdout",
     "output_type": "stream",
     "text": [
      "Index: 0 Item: a\n",
      "Index: 1 Item: b\n",
      "Index: 2 Item: c\n"
     ]
    }
   ],
   "source": [
    "iterable = ['a', 'b', 'c']\n",
    "for i in range(len(iterable)):\n",
    "    print(f'Index: {i} Item: {iterable[i]}')"
   ]
  },
  {
   "cell_type": "markdown",
   "id": "c68816eb-f174-4818-ac12-ef53b2c20f6c",
   "metadata": {},
   "source": [
    "**`enumerate()`**"
   ]
  },
  {
   "cell_type": "code",
   "execution_count": 243,
   "id": "7558c585-6470-4153-9855-4b96da71d4f7",
   "metadata": {},
   "outputs": [
    {
     "name": "stdout",
     "output_type": "stream",
     "text": [
      "Index: 0 Item: a\n",
      "Index: 1 Item: b\n",
      "Index: 2 Item: c\n"
     ]
    }
   ],
   "source": [
    "iterable = ['a', 'b', 'c']\n",
    "for i, item in enumerate(iterable):\n",
    "    print(f'Index: {i} Item: {iterable[i]}')"
   ]
  },
  {
   "cell_type": "markdown",
   "id": "08bc8ccb-9ec5-4a16-b20c-dc89221ec9d1",
   "metadata": {},
   "source": [
    "## Generators\n",
    "- **Lazy Evaluation**--also called *call-by-need*.  Evaluation strategy which delays the evaluation of an expression until its value is needed.\n",
    "- **Generator**--list-like object that uses lazy evaluation.  Does not store its contents in memory.\n",
    "- Useful when reading in large files so that the computer memory is not filled unnecessarily.\n",
    "- Generator objects are commonly created:\n",
    "    1. By some libraries for us when files are read in\n",
    "    1. With function definitions using the `yield` keyword instead of `return`\n",
    "    1. With generator comprehension.  Generator comprehension takes the form: \n",
    "        - `new_generator = (expression for item in iterable condition)`\n",
    "        - Note that there is no tuple comprehension, so this syntax does not overlap with tuples\n",
    "- Generator objects, like other iterable objects, can only be looped over once.  To loop over them again they have to be created another time.\n",
    "- Once created, there are generator methods such as `.send()`, `.throw()`, and `.close()`\n",
    "- Though generator objects do not hog memory, they are slower to work with than other objects iterable objects\n",
    "    - E.g. `sum(<GENERATOR_OBJECT>)` would be slower than `sum(<LIST_OBJECT>)`"
   ]
  },
  {
   "cell_type": "markdown",
   "id": "3e51a50e-88a4-4567-91a9-9f575a8dd769",
   "metadata": {},
   "source": [
    "---"
   ]
  },
  {
   "cell_type": "markdown",
   "id": "313cf1e6-897b-41b3-a62e-16a10f1173ba",
   "metadata": {},
   "source": [
    "**EXAMPLES**"
   ]
  },
  {
   "cell_type": "markdown",
   "id": "5a1d446c-b106-41ce-8a74-bd89dfe0bda2",
   "metadata": {},
   "source": [
    "**`yield`**"
   ]
  },
  {
   "cell_type": "code",
   "execution_count": 244,
   "id": "df53c3f2-5ab1-417c-a924-31d34b20fcf0",
   "metadata": {},
   "outputs": [
    {
     "name": "stdout",
     "output_type": "stream",
     "text": [
      "<class 'generator'>\n",
      "<generator object create_generator at 0x000002755BA7CA50>\n",
      "1\n",
      "2\n",
      "3\n",
      "4\n",
      "5\n"
     ]
    }
   ],
   "source": [
    "iterable_object = [1, 2, 3, 4, 5]\n",
    "\n",
    "def create_generator(iter_ob):\n",
    "    for item in iterable_object:\n",
    "        yield item\n",
    "        \n",
    "new_generator = create_generator(iterable_object)\n",
    "print(type(new_generator))\n",
    "print(new_generator)\n",
    "for item in new_generator:\n",
    "    print(item)"
   ]
  },
  {
   "cell_type": "markdown",
   "id": "8a1b94e2-7ade-4a02-b6a8-dfd79d697b13",
   "metadata": {},
   "source": [
    "**Generator Comprehension**"
   ]
  },
  {
   "cell_type": "code",
   "execution_count": 245,
   "id": "e6836c0b-b7fb-49c4-be01-ff56f81998df",
   "metadata": {},
   "outputs": [
    {
     "name": "stdout",
     "output_type": "stream",
     "text": [
      "<class 'generator'>\n",
      "<generator object <genexpr> at 0x000002755BA7C970>\n",
      "1\n",
      "2\n",
      "3\n",
      "4\n",
      "5\n"
     ]
    }
   ],
   "source": [
    "iterable_object = [1, 2, 3, 4, 5]  # The item would often be a line in a file\n",
    "new_generator = (item for item in iterable_object)\n",
    "print(type(new_generator))\n",
    "print(new_generator)\n",
    "for item in new_generator:\n",
    "    print(item)"
   ]
  },
  {
   "cell_type": "markdown",
   "id": "accb08a0-e0a4-4a69-ad2f-23590484e1ea",
   "metadata": {},
   "source": [
    "---"
   ]
  },
  {
   "cell_type": "markdown",
   "id": "8e652d13-7895-4ba5-9821-087aaeaf51e3",
   "metadata": {
    "tags": []
   },
   "source": [
    "# Function Definitions\n",
    "- **Function**--sequence of code that commands Python to do something.  The sequence of code is represented by the function's name. Built-in functions' names are almost always lowercase and they are case sensitive.  Using uppercase can create errors. E.g. `Print()` will return an error, but `print()` works.\n",
    "- **Function Definition**--we can define our own function using `def` keyword.  The function name is a variable assigned to lines of re-usable code.  It's conventional to name a function using snake case.  This means all lowercase with underscores for spaces.  Defining a function does NOT call/invoke the function. \n",
    "- **Call/Invoke**--to make a function run\n",
    "- **Return value**--output/result/residual value of a function.  The `return` keyword is used for this when defining a function.  The `return` keyword also ends the function.\n",
    "- **Fruitful Function**--function that produces a return value\n",
    "    - E.g. `int()`\n",
    "- **Unfruitful Function/Void Function**--function that does not specify a return value with `return`.  If this occurs then the function will return `None`.  \n",
    "    - E.g. `print()` \n",
    "- **Argument**--the value we input into parenthesis of a function before it is invoked.  There can be more than one argument.\n",
    "    - E.g. `print(\"Hello world\")`.  Here, \"Hello world\", is the argument.  \n",
    "- **Parameter**--variable that contains argument.  When a function is defined the portion inside the parentheses has a placeholder called a parameter.  The parameter is also used in other parts of the function definition.  When an argument is entered and the function is invoked, the argument replaces the parameter wherever it is.  There can be more than one parameter.  The value stored in the parameter is forgotten when the function ends.\n",
    "- `pass`--when placed within an otherwise empty definition, we avoid receiving an error.  Pass protection.  Used in stub functions.\n",
    "- **Stub**/**no-operation**--definition that is empty except for a pass statement.  Stub functions may be temporarily included in code to indicate that real code needs to be added there in the future.  Stub functions may also use `raise NotImplementedError` in place of a pass statement.\n",
    "- **Wrapper Function**--function that collects arguments and passes them onto another function within the wrapper's definition.  Wrapper function are not meant to add too much additional functional.  Instead they make it easier to use the function that is wrapped within it for a specific purpose.\n",
    "- **Recursion**--use function within that same function. Functionception."
   ]
  },
  {
   "cell_type": "markdown",
   "id": "3b966c84-86e6-455f-a391-137c02bfd91c",
   "metadata": {},
   "source": [
    "---"
   ]
  },
  {
   "cell_type": "markdown",
   "id": "64038d9f-cd02-4410-a548-47d22ca214a5",
   "metadata": {},
   "source": [
    "**EXAMPLES**"
   ]
  },
  {
   "cell_type": "markdown",
   "id": "6cb472d3-4606-48bc-8f27-38da32ba203f",
   "metadata": {},
   "source": [
    "**Stub Function**"
   ]
  },
  {
   "cell_type": "code",
   "execution_count": 246,
   "id": "699a5b87-d775-472b-8a2a-6b422e4b91bc",
   "metadata": {},
   "outputs": [],
   "source": [
    "def my_function():\n",
    "    pass\n",
    "\n",
    "my_function()  "
   ]
  },
  {
   "cell_type": "markdown",
   "id": "8e67cdb6-236d-4dbb-805e-f6639854bebf",
   "metadata": {},
   "source": [
    "**Simple Example w/out Parameters**"
   ]
  },
  {
   "cell_type": "code",
   "execution_count": 247,
   "id": "6ff29be0-6169-47c1-a885-04d9a200e62f",
   "metadata": {},
   "outputs": [
    {
     "name": "stdout",
     "output_type": "stream",
     "text": [
      "Hello world\n"
     ]
    }
   ],
   "source": [
    "def my_function():\n",
    "    \"\"\"This is a docstring that describes a function.\"\"\"\n",
    "    print(\"Hello world\")\n",
    "\n",
    "my_function()  "
   ]
  },
  {
   "cell_type": "markdown",
   "id": "8749c2e1-0cf2-48d4-868e-cd2f05a19720",
   "metadata": {},
   "source": [
    "**Positional Argument**\n",
    "- Argument quantity and order matters\n",
    "- When argument order matters it is called a **positional** argument"
   ]
  },
  {
   "cell_type": "code",
   "execution_count": 248,
   "id": "ebe53f17-5a2e-4393-af5d-77956b9a3560",
   "metadata": {},
   "outputs": [
    {
     "name": "stdout",
     "output_type": "stream",
     "text": [
      "Hello world\n"
     ]
    }
   ],
   "source": [
    "def my_function(parameter1):\n",
    "    \"\"\"This is a docstring that describes a function.\"\"\"\n",
    "    print(parameter1)\n",
    "\n",
    "my_function(\"Hello world\")  # Function called.  One argument entered.  Passed to parameter."
   ]
  },
  {
   "cell_type": "code",
   "execution_count": 249,
   "id": "48398161-f804-4923-a2c8-05b88e8e7601",
   "metadata": {},
   "outputs": [
    {
     "name": "stdout",
     "output_type": "stream",
     "text": [
      "world Hello\n"
     ]
    }
   ],
   "source": [
    "def my_function(parameter1, parameter2):\n",
    "    \"\"\"This is a docstring that describes a function.\"\"\"\n",
    "    print(parameter1, parameter2)\n",
    "\n",
    "my_function(\"world\", \"Hello\")  # Function called.  Two arguments entered.  Passed to two parameters. "
   ]
  },
  {
   "cell_type": "markdown",
   "id": "9fbead11-77e3-4ff9-b0cc-c2f9dba377b6",
   "metadata": {},
   "source": [
    "**`return`**\n",
    "- Most functions don't `print()`, instead they return a value"
   ]
  },
  {
   "cell_type": "code",
   "execution_count": 250,
   "id": "43c0d1bf-6b5d-4bf9-bf89-8481ebca54d6",
   "metadata": {},
   "outputs": [
    {
     "name": "stdout",
     "output_type": "stream",
     "text": [
      "Hello world\n"
     ]
    }
   ],
   "source": [
    "def my_function(parameter1):\n",
    "    \"\"\"This is a docstring that describes a function.\"\"\"\n",
    "    return parameter1 \n",
    "\n",
    "my_function(\"Hello world\")  # Returns value, but does not print\n",
    "print(my_function(\"Hello world\"))  # Prints return value"
   ]
  },
  {
   "cell_type": "markdown",
   "id": "4e606d3b-a2e3-43d8-bf37-af915c674069",
   "metadata": {},
   "source": [
    "**Default Parameter**\n",
    "- If no arguments passed, default parameter used\n",
    "- If argument passed, that argument trumps the default parameter\n",
    "- Default parameter written after any other parameters in the function definition\n",
    "- Immutable objects can be used as default parameters.  Mutable objects like lists, sets, and dictionaries should not be used as these can accidentally be modified."
   ]
  },
  {
   "cell_type": "code",
   "execution_count": 251,
   "id": "b0b9d674-de2a-4864-9dc0-0db0efd0db63",
   "metadata": {},
   "outputs": [
    {
     "name": "stdout",
     "output_type": "stream",
     "text": [
      "Hello world\n"
     ]
    }
   ],
   "source": [
    "def my_function(parameter1 = \"Hello world\"):\n",
    "    \"\"\"This is a docstring that describes a function.\"\"\"\n",
    "    return parameter1\n",
    "\n",
    "print(my_function())  # No argument.  Uses default parameter"
   ]
  },
  {
   "cell_type": "code",
   "execution_count": 252,
   "id": "978a61ea-d986-4dd4-b5c5-1f1891fb7cf2",
   "metadata": {},
   "outputs": [
    {
     "name": "stdout",
     "output_type": "stream",
     "text": [
      "Hello moon\n"
     ]
    }
   ],
   "source": [
    "def my_function(parameter1 = \"Hello world\"):\n",
    "    \"\"\"This is a docstring that describes a function.\"\"\"\n",
    "    return parameter1\n",
    "\n",
    "print(my_function(parameter1=\"Hello moon\"))  # Passed argument trumps default parameter"
   ]
  },
  {
   "cell_type": "code",
   "execution_count": 253,
   "id": "375841f2-fac9-4412-9237-9bc9f641216a",
   "metadata": {},
   "outputs": [
    {
     "name": "stdout",
     "output_type": "stream",
     "text": [
      "Hello world\n"
     ]
    }
   ],
   "source": [
    "def my_function(parameter1, parameter2 = \"world\"):  # Default parameter written after any other parameters\n",
    "    \"\"\"This is a docstring that describes a function.\"\"\"\n",
    "    return parameter1 + \" \" + parameter2\n",
    "\n",
    "print(my_function(\"Hello\"))"
   ]
  },
  {
   "cell_type": "markdown",
   "id": "47f2691e-fd14-438f-bb74-9ef5f2ab7b1f",
   "metadata": {},
   "source": [
    "**Keyword Arguments (`kwargs`)**\n",
    "- Argument quantity matters, order does not\n",
    "- Multiple parameters written.  Parameter names will match argument key names.\n",
    "- Arguments passed in `<KEY> = <VALUE>` format\n",
    "- Each parameter receives value from matching key\n",
    "- Note that positional arguments and `kwargs` are the same in the function definition.  It is only when we optionally use the parameter name in the function call that it becomes a \"kwarg\"."
   ]
  },
  {
   "cell_type": "code",
   "execution_count": 254,
   "id": "dfe248c4-1f22-4fca-8b4f-064191c9deac",
   "metadata": {},
   "outputs": [
    {
     "name": "stdout",
     "output_type": "stream",
     "text": [
      "Hello world\n"
     ]
    }
   ],
   "source": [
    "def my_function(key_Hello, key_world):\n",
    "    \"\"\"This is a docstring that describes a function.\"\"\"\n",
    "    return key_Hello + ' ' + key_world\n",
    "\n",
    "print(my_function(key_world=\"world\", key_Hello=\"Hello\"))"
   ]
  },
  {
   "cell_type": "markdown",
   "id": "e01d65a5-2315-4d5d-b708-da6598594019",
   "metadata": {},
   "source": [
    "**Arbitrary Arguments (`*args`)**\n",
    "- Argument quantity does not matter, order does\n",
    "- Single parameter preceded by `*`.  Parameter commonly named args.\n",
    "- Arbitrary number of arguments passed\n",
    "- Parameter becomes tuple and argument values accessed through indices"
   ]
  },
  {
   "cell_type": "code",
   "execution_count": 255,
   "id": "025ae832-c382-45c2-ac4f-f92f46f82ec1",
   "metadata": {},
   "outputs": [
    {
     "name": "stdout",
     "output_type": "stream",
     "text": [
      "moon world\n"
     ]
    }
   ],
   "source": [
    "def my_function(*args):\n",
    "    \"\"\"This is a docstring that describes a function.\"\"\"\n",
    "    return args[0] + ' ' + args[1]\n",
    "\n",
    "print(my_function(\"moon\", \"world\", \"Hello\"))"
   ]
  },
  {
   "cell_type": "markdown",
   "id": "1e572c55-a99d-4b18-81e1-64d48cbc03a5",
   "metadata": {},
   "source": [
    "**Arbitrary Keyword Arguments (`**kwargs`)**\n",
    "- Argument quantity does not matter, order does not matter\n",
    "- Single parameter preceded by `**`.  Parameter commonly named kwargs.\n",
    "- Arbitrary number of arguments passed in `<KEY> = <VALUE>` format\n",
    "- Parameter becomes dictionary and argument values accessed through keys"
   ]
  },
  {
   "cell_type": "code",
   "execution_count": 256,
   "id": "a3d43d30-43f1-4305-956c-2c7fa88ddf72",
   "metadata": {},
   "outputs": [
    {
     "name": "stdout",
     "output_type": "stream",
     "text": [
      "Hello world\n"
     ]
    }
   ],
   "source": [
    "def my_function(**kwargs):\n",
    "    \"\"\"This is a docstring that describes a function.\"\"\"\n",
    "    return kwargs[\"key_Hello\"] + ' ' + kwargs[\"key_world\"]\n",
    "\n",
    "print(my_function(key_moon=\"moon\", key_world=\"world\", key_Hello=\"Hello\"))"
   ]
  },
  {
   "cell_type": "markdown",
   "id": "d6097945-aafc-4da9-aa2f-3dcb57896efe",
   "metadata": {},
   "source": [
    "**Recursion**"
   ]
  },
  {
   "cell_type": "code",
   "execution_count": 257,
   "id": "084520a3-e80a-4644-9432-5cb233e49ec7",
   "metadata": {},
   "outputs": [
    {
     "name": "stdout",
     "output_type": "stream",
     "text": [
      "120\n"
     ]
    }
   ],
   "source": [
    "def my_function(a):\n",
    "    \"\"\"This is a docstring that describes a function.\"\"\"\n",
    "    if a <= 0:  # \"Base case\".  Function stops calling recursively.\n",
    "        return 1\n",
    "    else:  # Recursive case.  Function calls recursively\n",
    "        return a * my_function(a - 1)\n",
    "\n",
    "print(my_function(5))"
   ]
  },
  {
   "cell_type": "markdown",
   "id": "483852a6-8865-4e9e-884b-e6fbe0ea9e20",
   "metadata": {},
   "source": [
    "**Unpacking Operators**\n",
    "\n",
    "- We've been passing arguments one at a time within a function call.  If there were many arguments then we could pass them all at once using an iterable object like a tuple, list, or dictionary.\n",
    "- When this is done we use either the `*` or the `**` characters.  When used this way, they are called **unpacking operators**.\n",
    "- In the function call a tuple or list is preceded by `*`.\n",
    "- In the function call a dictionary is preceded by `**`.  This would be useful when a function requires many keyword arguments.  It could be a `kwarg` or a `**kwarg`.\n",
    "- Note that here `*` and `**` are used in the argument. Above, they were used with the parameters."
   ]
  },
  {
   "cell_type": "code",
   "execution_count": 258,
   "id": "590b4a38-02e1-49da-9f38-9ef135517c05",
   "metadata": {},
   "outputs": [
    {
     "name": "stdout",
     "output_type": "stream",
     "text": [
      "Hello world\n"
     ]
    }
   ],
   "source": [
    "# Passing tuple as positional arguments.\n",
    "def my_function(parameter1, parameter2):\n",
    "    \"\"\"This is a docstring that describes a function.\"\"\"\n",
    "    return parameter1 + \" \" + parameter2 \n",
    "\n",
    "my_tuple = (\"Hello\", \"world\")\n",
    "print(my_function(*my_tuple)) "
   ]
  },
  {
   "cell_type": "code",
   "execution_count": 259,
   "id": "9e0e9580-640e-4c4f-981a-a8c7cb8f5335",
   "metadata": {},
   "outputs": [
    {
     "name": "stdout",
     "output_type": "stream",
     "text": [
      "The large hippo flew gracefully around the gazebo.\n"
     ]
    }
   ],
   "source": [
    "# Passing dictionary as kwargs\n",
    "def mad_libs(verb, adverb, noun):\n",
    "    \"\"\"This is a docstring that describes a function.\"\"\"\n",
    "    print(f'The large {noun} {verb} {adverb} around the gazebo.')\n",
    "\n",
    "my_dict = {\n",
    "    \"noun\": \"hippo\",\n",
    "    \"adverb\": \"gracefully\",\n",
    "    \"verb\": \"flew\"\n",
    "}\n",
    "mad_libs(**my_dict)"
   ]
  },
  {
   "cell_type": "markdown",
   "id": "e3aa4d56-7235-4be2-a1ed-310bfde9080f",
   "metadata": {},
   "source": [
    "---"
   ]
  },
  {
   "cell_type": "markdown",
   "id": "505a49a5-68bd-4041-8fcd-2bb01c424b1b",
   "metadata": {},
   "source": [
    "# Lambda Functions\n",
    "- **lambda function**--small user created function.  It can take in multiple arguments, but can only have one expression.\n",
    "- Also called \"Anonymous\" functions because we do not give them a function name\n",
    "- Lambda functions are not too common, but can be helpful if:\n",
    "    1. We want to shorten code\n",
    "    1. We want to define and invoke the function at the same time\n",
    "    1. We only need a function temporarily. Often lambda is placed within another function.\n",
    "- lambda functions are an example of **functional programming**.  We do not define any objects.  Instead the focus is on the function, with its inputs and outputs.\n",
    "- **lambda Function Syntax**\n",
    "```python\n",
    "(lambda <PARAMETER>: <EXPRESSION>)(<INPUT>)\n",
    "```    \n",
    "    - `lambda` can be read as \"function of\". Like f(x).\n",
    "    - `:` can be read as \"return\""
   ]
  },
  {
   "cell_type": "markdown",
   "id": "24056fd8-47cb-4776-8039-0481759a0401",
   "metadata": {},
   "source": [
    "---"
   ]
  },
  {
   "cell_type": "markdown",
   "id": "61c60127-4f4e-482b-8864-016398f9ccbf",
   "metadata": {},
   "source": [
    "**EXAMPLES**"
   ]
  },
  {
   "cell_type": "markdown",
   "id": "5b2f348e-4180-432d-b2b8-1b7f4583510e",
   "metadata": {},
   "source": [
    "**Define and Invoke**\n",
    "\n",
    "- The below lambda function can be read function of x, return x plus 10.  Argument  is x = 5."
   ]
  },
  {
   "cell_type": "code",
   "execution_count": 260,
   "id": "6388e91a-7ecf-4216-84bb-6b535b16bd6f",
   "metadata": {},
   "outputs": [
    {
     "data": {
      "text/plain": [
       "15"
      ]
     },
     "execution_count": 260,
     "metadata": {},
     "output_type": "execute_result"
    }
   ],
   "source": [
    "(lambda x : x + 10)(5)"
   ]
  },
  {
   "cell_type": "markdown",
   "id": "15989f74-68ee-4c6e-9fc5-1151a08f7ba4",
   "metadata": {},
   "source": [
    "- The below lambda function can be read function of x and y, return x plus y.  Arguments are x = 2 and y = 4."
   ]
  },
  {
   "cell_type": "code",
   "execution_count": 261,
   "id": "bc97536d-1187-4f3b-91fe-65ab5a98b5e5",
   "metadata": {},
   "outputs": [
    {
     "data": {
      "text/plain": [
       "6"
      ]
     },
     "execution_count": 261,
     "metadata": {},
     "output_type": "execute_result"
    }
   ],
   "source": [
    "(lambda x, y : x + y)(2, 4)"
   ]
  },
  {
   "cell_type": "markdown",
   "id": "04c3c7fe-1e59-46e6-b479-511dd7eb9971",
   "metadata": {},
   "source": [
    "**`lambda` within `filter()`**\n",
    "- `filter()` function is used to filter a given iterable object using another function that defines the filtering logic.  A lambda function is typically used to define the filtering logic and is passed as the first argument of `filter()`.  An iterable is passed as the second argument to `filter()`."
   ]
  },
  {
   "cell_type": "code",
   "execution_count": 262,
   "id": "7dc14b4b-6732-43be-ac7b-347d9654a5e3",
   "metadata": {},
   "outputs": [
    {
     "name": "stdout",
     "output_type": "stream",
     "text": [
      "[2, 4]\n"
     ]
    }
   ],
   "source": [
    "my_list = [2, 3, 4, 5]\n",
    "\n",
    "# Modulo expression filters out odd numbers.\n",
    "new_list = list(filter(lambda x: (x % 2 == 0), my_list)) \n",
    "\n",
    "print(new_list)"
   ]
  },
  {
   "cell_type": "markdown",
   "id": "08b820f8-a6b2-4d01-871f-955b4bc5cbcd",
   "metadata": {},
   "source": [
    "---"
   ]
  },
  {
   "cell_type": "markdown",
   "id": "eb2cde25-2b1d-40af-90e1-5238bb54ac3f",
   "metadata": {
    "tags": []
   },
   "source": [
    "# Classes and Objects\n",
    "- **Object**--\"Everything's an object.\"  Generally speaking, anything that can be assigned a variable name is an object.  This includes `\"Hello\"`, `2`, and `[\"a\", \"b\", \"c\"]`.  It also includes function, class, method, constant, and exception definitions which are assigned names when they are defined.  To start off, its easier to think about objects like `\"Hello\"` and `5`.\n",
    "- **Class**--starting in Python 3, class is the same thing as data type.  When we make our our custom data types we tend to call them classes.  Each class has both *attributes* and associated *methods*.  A class is used as a template to create objects.  \n",
    "- **Instantiation**--each time a class is used as a template to create an object it's called instantiation.  Each object is said to be an instance of a class.  This occurs every time data/values are created.  User inputs arguments, which go to parameters, which give the object its unique attributes.  For built-in data types like string, float, etc., this happens under the hood.  It is more obvious when we define our own classes.\n",
    "- **Attributes**--categories/structure of data that a class can store.  Also refers to the actual values stored in an object after instantiation.  For many objects the attributes can be accessed using dot notation, `<OBJECT>.<ATTRIBUTE>`.\n",
    "    - E.g. if `my_birthday` was and instance (an object) of the data class, then `my_birthday.year` would return its year attribute\n",
    "- **Method**--a function that works for a certain type/class.  Each method works on an instance of a class.  \n",
    "    - E.g. for the string class we can write, `\"Hello\".replace('H','J')`.  Here the `.replace()` is a method that is working on the `\"Hello\"` object.\n",
    "- **Initialize**--assign initial values to an object's attributes when the object is created as an instance of a class\n",
    "- **Constructor**--term with slightly different meanings in different programming languages.  In Python, to some people it means the `__init__()` function, while other people use the term constructor to describe the function `__new__()`.  Other people use it to describe the class definition because classes construct objects. Can ignore the term and refer to the functions specifically to avoid confusion.\n",
    "- **Destructor**--function that is called when an object is deleted. Not used often in Python.  Python has a \"garbage collector\" that handles memory management automatically.\n",
    "- Methods and attributes can be termed public, private, or protected\n",
    "    1. **Public**--attributes or methods are available to all of a programming language.  Any code can access and modify object attributes.\n",
    "    1. **Private**-- attributes or methods can only be used directly within the class for which they are defined.  They are designated private because accessing them directly (instead of through class methods) may lead to a bug or an unexpected result. \n",
    "    1. **Protected**--mostly the same as private \n",
    "- Python only uses public methods and attributes.  However, when an attribute or method name begins with a single underscore, it should be treated as if it were private. It is mostly just a hint for the programmer.\n",
    "- **Property**--attribute with assigned *getter*, *setter*, and *deleter* methods that can regulate how the attribute is read, changed, and deleted. Allows attributes to have some of the safety features of \"private\" methods in other languages.\n",
    "- **Subclass**--class within another class that takes on the other class's attributes and methods\n",
    "- **Inheritance**--term that describes creating a class based on another class.  Allows code reuse.  New class inherits the properties and methods of the other class.  Have the ability to inherit all the properties and methods or only specified ones, as well as define new methods and attributes.\n",
    "\n",
    "Code | Use\n",
    "--- | ---\n",
    "`class` | Keyword used to create a custom class.  It is conventional to name a class using Bactrian camel case (`<ClassName>`).\n",
    "`__init__()` | The **initializer**. Function used to assign initial values to object attributes.  Automatically called every time a class is being used to create a new object. The object is created (has a variable name), then that variable name is passed into `self` and the object's attributes are assigned values. \n",
    "`self` | PEP 8 recommends that we always use `self` for the first parameter when defining a class.  `self` is a variable  name that is assigned to current object/instance of a class.  It is often also the first parameter in a method definition.\n",
    "`del` | Deletes object or object properties\n",
    "`pass` | If `pass` placed within an otherwise empty class definition, we avoid receiving an error.  Pass protection."
   ]
  },
  {
   "cell_type": "markdown",
   "id": "7068a058-a830-4dc8-b120-137ac84b2484",
   "metadata": {},
   "source": [
    "---"
   ]
  },
  {
   "cell_type": "markdown",
   "id": "0d91220a-dab5-4178-bf64-a87143b1132d",
   "metadata": {},
   "source": [
    "**EXAMPLES**"
   ]
  },
  {
   "cell_type": "markdown",
   "id": "e20975f0-4269-4bf0-9f62-0b66277b1643",
   "metadata": {},
   "source": [
    "**Class**"
   ]
  },
  {
   "cell_type": "code",
   "execution_count": 263,
   "id": "b176295d-979d-4384-a161-49720ccc6355",
   "metadata": {},
   "outputs": [
    {
     "name": "stdout",
     "output_type": "stream",
     "text": [
      "Hobbes\n",
      "36\n"
     ]
    }
   ],
   "source": [
    "class ClassPerson:  # Class name in Bactrian CamelCase\n",
    "    \"\"\"This is a docstring that describes a class.\"\"\"\n",
    "    def __init__(self, param_name, param_age): \n",
    "        # self replaced by object variable name after instantiation\n",
    "        self.param_name = param_name  # Attributes are attached to objects using dot notation\n",
    "        self.param_age = param_age\n",
    "        # Note that __init__() never has a return statement\n",
    "        \n",
    "object_person1 = ClassPerson(\"Hobbes\", 36)  # Instantiation\n",
    "# object_person1 is the object/instance of the class\n",
    "# ClassPerson is the class name\n",
    "# \"Hobbes\" and 36 are arguments that are passed to the parameters and become attributes\n",
    "\n",
    "print(object_person1.param_name)  # name is an attribute\n",
    "print(object_person1.param_age)  # age is an attribute"
   ]
  },
  {
   "cell_type": "markdown",
   "id": "0cec2f81-3e86-49e2-be0b-9692a4cce455",
   "metadata": {},
   "source": [
    "**Class with Method**"
   ]
  },
  {
   "cell_type": "code",
   "execution_count": 264,
   "id": "3eddc2e5-ab72-4a15-a7d1-3127db9788ac",
   "metadata": {},
   "outputs": [
    {
     "name": "stdout",
     "output_type": "stream",
     "text": [
      "Hello, my name is Hobbes\n"
     ]
    }
   ],
   "source": [
    "class Person:\n",
    "    \"\"\"This is a docstring that describes a class.\"\"\"\n",
    "    def __init__(self, name, age): \n",
    "        self.name = name\n",
    "        self.age = age\n",
    "        \n",
    "    def my_method(self):\n",
    "        \"\"\"This is a docstring that describes a method.\"\"\"       \n",
    "        print(f'Hello, my name is {self.name}')\n",
    "        \n",
    "person1 = Person(\"Hobbes\", 36) \n",
    "\n",
    "person1.my_method()  # Object name with dot notation for method"
   ]
  },
  {
   "cell_type": "markdown",
   "id": "2719f534-68c3-48ea-8d64-ba6b85eb496a",
   "metadata": {},
   "source": [
    "**Modify Attribute**\n",
    "- Syntax is: `<OBJECT_NAME>.<PARAMETER> = <NEW_VALUE>`"
   ]
  },
  {
   "cell_type": "code",
   "execution_count": 265,
   "id": "fa232a1f-ab87-4026-ba95-a589a7e943fe",
   "metadata": {},
   "outputs": [
    {
     "name": "stdout",
     "output_type": "stream",
     "text": [
      "50\n"
     ]
    }
   ],
   "source": [
    "person1.age = 50\n",
    "print(person1.age)"
   ]
  },
  {
   "cell_type": "markdown",
   "id": "885ee01d-8ea6-42c2-9a2b-28c311b84d51",
   "metadata": {},
   "source": [
    "**`del`**\n",
    "- Syntax for deleting entire object is: `del <OBJECT_NAME>`\n",
    "- Syntax for deleting attribute is: `del <OBJECT_NAME>.<PARAMETER>`"
   ]
  },
  {
   "cell_type": "code",
   "execution_count": 266,
   "id": "65ba7c3d-b2d4-4f7c-b7a0-e85e1e5cb3b4",
   "metadata": {},
   "outputs": [],
   "source": [
    "del person1.age"
   ]
  },
  {
   "cell_type": "code",
   "execution_count": 267,
   "id": "fd23b90d-7173-4ba5-a5cc-af9e6af6ad7e",
   "metadata": {},
   "outputs": [],
   "source": [
    "del person1"
   ]
  },
  {
   "cell_type": "markdown",
   "id": "9a4a5cca-d2d5-4d11-adf4-510bf8ed3745",
   "metadata": {},
   "source": [
    "---"
   ]
  },
  {
   "cell_type": "markdown",
   "id": "25025541-149d-4957-a829-685a1a203bc4",
   "metadata": {},
   "source": [
    "# Namespace and Scope\n",
    ">     Namespaces are one honking great idea -- let's do more of those!\n",
    "- **Namespace**--collection of currently assigned variables and information about the objects they are assigned to.  Objects may be functions, classes, methods, exceptions, and constants.  There are 4 types of namespaces:\n",
    "    1. **Local**--contains the variable names assigned within a single object (e.g. function definition).  We call these variables local variables.  They are temporary and only available while the function is running.\n",
    "    1. **Enclosing**--we can have a object (e.g. function) that calls another object (e.g. function).  The  enclosing namespace is all the variables assigned within the former function. Variables assigned within the latter function would be local variables.\n",
    "    1. **Global**--contains variable names assigned at the level of the main script.  The ones NOT assigned within the definition of objects (e.g. functions).  We  call these global variables.  They are available until the script ends.  Best practice is to put as little code as possible into the main scripts.  Instead import reusable pieces of code from objects.  I.e define lots of functions.\n",
    "   1. **Built-in**--contains the variable names of Python's objects that are available to us at all times.  Pre-assigned variable names.  We call variables in this namespace built-in variables.\n",
    "- **Variable Scope**--the region of the program in which the name has meaning.  The same variable name (referencing different objects) can exist simultaneously in different namespaces. Important points to remember are:\n",
    "    1. Code in global scope (outside of functions) can not access local variables\n",
    "    1. Code in a local scope can access global variables\n",
    "    1. Code in one local scope can not access variables from another local scope\n",
    "- **LEGB**--Python checks to see what object is assigned to a variable name by checking to see if it assigned in a **L**ocal namespace first, then the **E**nclosing namespace, then the **G**lobal namespace, and then the **B**uilt-in namespace.  LEGB describes the priority given to variables.\n",
    "\n",
    "Code | Use\n",
    "--- | ---\n",
    "`dir()` | Returns list of variables in the current namespace.  If no argument provided it returns all the global variables. We can use the parameter `__builtins__` to see variables assigned in the built-in namespace.    Enter object as argument to see variables in that objects's namespace (local or enclosing namespace).  If we enter an object we will get a lot of variable names which represent methods.\n",
    "`globals()` | Returns a dictionary.  The keys are the variables in the global namespace.  The values are the objects assigned to those variables.\n",
    "`locals()` | Same as `globals()`, but for local variables. If this is called in the main program (and not within an object definition) it will give us the same output as `globals`.\n",
    "`global` | Signals Python that a variable created within an local namespace (e.g. a function definition) should be treated as a global variable.  Make local global."
   ]
  },
  {
   "cell_type": "markdown",
   "id": "90269ea6-ce63-4910-a8e4-7559ec025a2c",
   "metadata": {},
   "source": [
    "---"
   ]
  },
  {
   "cell_type": "markdown",
   "id": "0d48ae7b-680f-49ec-94c3-abb8278e76e9",
   "metadata": {},
   "source": [
    "**EXAMPLES**"
   ]
  },
  {
   "cell_type": "markdown",
   "id": "39b6785f-905a-4f73-a18a-8c6ce1991252",
   "metadata": {},
   "source": [
    "**Global Variable**"
   ]
  },
  {
   "cell_type": "code",
   "execution_count": 268,
   "id": "3bdb9a32-1a2d-4740-a869-7a608fcdec37",
   "metadata": {},
   "outputs": [
    {
     "name": "stdout",
     "output_type": "stream",
     "text": [
      "Dude!\n",
      "Dude!\n"
     ]
    }
   ],
   "source": [
    "x = \"Dude!\"  # This is a global variable.  It can be used by any function.\n",
    "def my_function():\n",
    "    print(x)  # First, print() looks in local namespace for variable x, but finds none.  Finds x in global namespace.\n",
    "my_function()  # This prints 'Dude!'\n",
    "print(x)  # This also prints 'Dude!'"
   ]
  },
  {
   "cell_type": "markdown",
   "id": "224b69b6-78e1-4691-8256-6c7912c3afc4",
   "metadata": {},
   "source": [
    "**Global and Local Variables**"
   ]
  },
  {
   "cell_type": "code",
   "execution_count": 269,
   "id": "b9983ffa-1840-42ef-a7fd-305097220fe1",
   "metadata": {},
   "outputs": [
    {
     "name": "stdout",
     "output_type": "stream",
     "text": [
      "Sweet!\n",
      "Dude! But what does mine say?\n"
     ]
    }
   ],
   "source": [
    "x = \"Dude! But what does mine say?\"\n",
    "def my_function():\n",
    "    x = \"Sweet!\"  # This is a local variable.\n",
    "    print(x)  # First, print() looks in local namespace for variable x, and finds x.\n",
    "my_function()  # This prints the local variable\n",
    "print(x)  # This prints the global variable"
   ]
  },
  {
   "cell_type": "markdown",
   "id": "356a6977-f6ca-42cc-abb8-eb187a693df4",
   "metadata": {},
   "source": [
    "**`global`**"
   ]
  },
  {
   "cell_type": "code",
   "execution_count": 270,
   "id": "7bbbc32c-ebfe-46aa-af6b-ed19caf4fa4e",
   "metadata": {
    "tags": []
   },
   "outputs": [
    {
     "name": "stdout",
     "output_type": "stream",
     "text": [
      "Epic!\n",
      "Epic!\n"
     ]
    }
   ],
   "source": [
    "x = \"Totally tubular\"\n",
    "def my_function():\n",
    "    global x  # This is now a global variable\n",
    "    x = \"Epic!\"  # Reassigned x to \"Epic!\"\n",
    "    print(x)\n",
    "my_function()  # This prints the global variable\n",
    "print(x)  # This prints the global variable"
   ]
  },
  {
   "cell_type": "markdown",
   "id": "427da4f2-d0fc-4608-8d22-eeab227b7275",
   "metadata": {},
   "source": [
    "---"
   ]
  },
  {
   "cell_type": "markdown",
   "id": "7e0d74d7-dee7-40f1-ac2b-e4bc97a67951",
   "metadata": {
    "tags": []
   },
   "source": [
    "# Importing Modules \n",
    "- **Script**--a .py file with code that can be run by the Python interpreter.  AKA our program.\n",
    "- **Module**--a .py file with additional object definitions (e.g. function definitions) that can be imported by a script\n",
    "- **Package**--a folder of related modules. Has `__init__.py` file that tells Python it is a package.\n",
    "- **Library**--a vague term that generally means a bundle of code\n",
    "-  Note that the terms module, package, and library are commonly used interchangeably\n",
    "- **The Standard Python Library**--bundle of objects (modules/packages/libraries with functions, constants, data types, and exceptions) that come pre-installed with the Python interpreter. \n",
    "- Many modules/packages/libraries are not pre-installed and must be downloaded from websites like PyPI or conda-forge\n",
    "- **Import**--once installed, must load contents of module/package/library into current script.  Once imported, we have access to additional object definitions."
   ]
  },
  {
   "cell_type": "markdown",
   "id": "953386fc-30a7-4a42-9aef-e3e4c169aa4f",
   "metadata": {},
   "source": [
    "Code | Use\n",
    " --- | ---\n",
    "`import <MODULE_NAME>` | Import module.  Best to place this at the top of script so all script has access to module.  We can also import multiple modules in the same statement by separating the module names with commas, but this is discouraged.  When the function is called, use **dot notation**. E.g. `<MODULE_NAME>.<FUNCTION_NAME>()`.\n",
    "`from <MODULE_NAME> import <FUNCTION_NAME>` | Import specific function.  Do not include parentheses.  We can import multiple functions with the same statement by separating the functions with commas. We do NOT need to use dot notation to call function.  E.g. `<FUNCTION_NAME>()`.\n",
    "`*` | Use `*` with from statement to import all functions from module.  E.g. `from <MODULE_NAME> import *` It is best practice to NOT do this because new variable names could be introduced that overlap with existing variable names. This is called **namespace contamination**.  Only import what we need by using either of the first two methods.\n",
    "`as` | Give an alias to module or function\n",
    "`import <PACKAGE_NAME>.<MODULE_NAME>` | There are some libraries/packages/modules that are nested.  Documentation may tell us to access a module using dot notation."
   ]
  },
  {
   "cell_type": "markdown",
   "id": "45b8252f-6d63-4ad6-b382-6517ae6983a9",
   "metadata": {},
   "source": [
    "- To create our own module, save a plaintext document using a .py file extension. This file IS a module.  That's it!  This file will have object definitions.\n",
    "- To import our module into a Python script, we do need to save the module in the same folder as the Python script.  When we import the module, we do not include the .py extension.  It looks like any other import statement.\n",
    "    - E.g. `import <MODULE_NAME>`\n",
    "- Alternatively, we can store the module inside a folder and use `from`\n",
    "    - E.g. `from <FOLDER_NAME> import <MODULE_NAME>`"
   ]
  },
  {
   "cell_type": "markdown",
   "id": "79b24c28-3107-4a54-9a53-d05f0096bcae",
   "metadata": {},
   "source": [
    "---"
   ]
  },
  {
   "cell_type": "markdown",
   "id": "17bbecd4-a317-4669-bea6-2a617dd7bf2b",
   "metadata": {},
   "source": [
    "**EXAMPLES**"
   ]
  },
  {
   "cell_type": "markdown",
   "id": "bf0666e2-fdc8-4a0a-be03-e9839e66192e",
   "metadata": {},
   "source": [
    "**`import`**"
   ]
  },
  {
   "cell_type": "code",
   "execution_count": 271,
   "id": "d7620786-3b63-425e-a02b-82eaedec5774",
   "metadata": {},
   "outputs": [
    {
     "data": {
      "text/plain": [
       "0.9999999999999999"
      ]
     },
     "execution_count": 271,
     "metadata": {},
     "output_type": "execute_result"
    }
   ],
   "source": [
    "import math\n",
    "\n",
    "math.tan(math.pi / 4)  # Dot notation\n",
    "# pi/4 is radians for 45 degrees"
   ]
  },
  {
   "cell_type": "markdown",
   "id": "7c10d6f0-963b-4b59-8313-a7bcfcfd827f",
   "metadata": {},
   "source": [
    "**`as`**"
   ]
  },
  {
   "cell_type": "code",
   "execution_count": 272,
   "id": "dbbbbaf7-d75e-4ee9-9c57-6c47230172be",
   "metadata": {},
   "outputs": [
    {
     "data": {
      "text/plain": [
       "0.9999999999999999"
      ]
     },
     "execution_count": 272,
     "metadata": {},
     "output_type": "execute_result"
    }
   ],
   "source": [
    "import math as m\n",
    "\n",
    "m.tan(m.pi / 4)"
   ]
  },
  {
   "cell_type": "markdown",
   "id": "7e2bac5e-8d4f-4eb8-b14a-e4af68ef1bdd",
   "metadata": {},
   "source": [
    "**`from`**"
   ]
  },
  {
   "cell_type": "code",
   "execution_count": 273,
   "id": "ac694ddd-bbb2-4740-97d6-40f5c87d0538",
   "metadata": {},
   "outputs": [
    {
     "data": {
      "text/plain": [
       "0.9999999999999999"
      ]
     },
     "execution_count": 273,
     "metadata": {},
     "output_type": "execute_result"
    }
   ],
   "source": [
    "from math import tan, pi\n",
    "\n",
    "tan(pi / 4)  # Do NOT need dot notation"
   ]
  },
  {
   "cell_type": "markdown",
   "id": "d8c125de-9445-40f9-8bf8-0c0e66d2d2eb",
   "metadata": {},
   "source": [
    "**`from as`**"
   ]
  },
  {
   "cell_type": "code",
   "execution_count": 274,
   "id": "f3216dac-23a6-49b5-9ff8-dbaadcb1f19b",
   "metadata": {},
   "outputs": [
    {
     "data": {
      "text/plain": [
       "0.9999999999999999"
      ]
     },
     "execution_count": 274,
     "metadata": {},
     "output_type": "execute_result"
    }
   ],
   "source": [
    "from math import tan as t\n",
    "from math import pi\n",
    "\n",
    "t(pi / 4)  # Do NOT need dot notation"
   ]
  },
  {
   "cell_type": "markdown",
   "id": "d2360324-cfef-47e9-9c92-c9af1e12ee35",
   "metadata": {},
   "source": [
    "**Custom module**"
   ]
  },
  {
   "cell_type": "code",
   "execution_count": 275,
   "id": "c6fd70b8-ab46-4e7d-ad41-6f51b90ddf10",
   "metadata": {},
   "outputs": [
    {
     "name": "stdout",
     "output_type": "stream",
     "text": [
      "Hello world\n"
     ]
    }
   ],
   "source": [
    " # Input is a folder name.  my_module is a .py filename.\n",
    "from input import my_module \n",
    "\n",
    "# The modue contains a function defintion.\n",
    "my_module.my_function(\"world\")"
   ]
  },
  {
   "cell_type": "markdown",
   "id": "1779ae56-a13d-4c0d-a236-905f84925266",
   "metadata": {},
   "source": [
    "---"
   ]
  },
  {
   "cell_type": "markdown",
   "id": "32964cd0-1f25-4ad8-9807-57422e65b357",
   "metadata": {},
   "source": [
    "# Docstrings and Help\n",
    "- **Docstrings**--comments that document code\n",
    "- They are placed on the first line of function, class, method, constant, and exception definitions.  They are also placed on the the first line of modules and scripts (though below any magic comments like shebang lines).\n",
    "- Under the hood, this placement creates a `__doc__` attribute for the defined object.  The docstring could be read using this attribute.\n",
    "- `help()` is a function that prints out docstrings.  When using IDEs besides Jupyter, the Space key pages through the docstring, the Enter key advances one line, and the q key quits.  \n",
    "- Docstrings are helpful for understanding what objects are in a module, what methods and attributes are in a class, or what parameters are in a function.\n",
    "- **PEP 257**--Python Enhancement Project.  Contains docstring style conventions.\n",
    "- There are two types of docstrings and they have similar style recommendations.\n",
    "    1. One-line docstrings\n",
    "        - Indentation should start at 4 spaces\n",
    "        - Three double quotes flank docstring, making it easier to expand later\n",
    "        - Use rawstrings if any backslashes in docstring\n",
    "        - 72 character max per line\n",
    "        - No blank line before or after docstring (unless for class)\n",
    "        - Provide quick summary of object\n",
    "    1. Multi-line docstrings\n",
    "        - Same as one line docstring plus\n",
    "        - First line can start immediately to the right of \"\"\" or start on next line\n",
    "        - **First line of a multiline docstring must be followed by a blank line**.  Additional lines of text provide more detail.\n",
    "        - Closing quotes should be on own line\n",
    "- Docstrings can also be broken up based on whether they are for functions, classes, modules, or scripts\n",
    "     1. Functions/methods.  Explain use, arguments, return values, any exceptions raised, and any words of caution.\n",
    "     1. Classes.  Explain use and list the methods.\n",
    "     1. Modules.  List functions, classes, and any other objects that are exported by module, each with a one-line summary.  The docstring under each object will provide more detail.\n",
    "     1. Scripts.  Explain use.  Touch on any special command line syntax, environmental variables, files, etc.\n",
    " - In addition to these guidelines there are a few more general style templates\n",
    "     1. **Restructured Text**--seems unnecessarily hard to read.  Don't use.\n",
    "     1. **Epytext**--seems unnecessarily hard to read.  Don't use.\n",
    "     1. **Google Docstrings**--easy to read\n",
    "     1. **NumPy/SciPy Docstrings**--easy to read.  Good for long docstrings and used by two of the most important Python libraries."
   ]
  },
  {
   "cell_type": "markdown",
   "id": "3b670a28-0404-4cf2-995a-abb696b93ca4",
   "metadata": {},
   "source": [
    "---"
   ]
  },
  {
   "cell_type": "markdown",
   "id": "0ae2677c-b382-4568-b198-48bb51f7e1b9",
   "metadata": {},
   "source": [
    "**EXAMPLES**"
   ]
  },
  {
   "cell_type": "markdown",
   "id": "931c9bd7-3754-4182-80ec-7cda46559611",
   "metadata": {},
   "source": [
    "**Single Line Function Docstring**"
   ]
  },
  {
   "cell_type": "code",
   "execution_count": 276,
   "id": "04df5716-a895-4632-b40f-ee82e0d935b6",
   "metadata": {},
   "outputs": [
    {
     "name": "stdout",
     "output_type": "stream",
     "text": [
      "Hello world.  Hello sun.\n"
     ]
    }
   ],
   "source": [
    "def celestial_salutation(celestial_body_1, celestial_body_2):\n",
    "    \"\"\"Says hello to the specified celestial bodies.\"\"\"\n",
    "    return f\"Hello {celestial_body_1}.  Hello {celestial_body_2}.\"\n",
    "\n",
    "print(celestial_salutation(\"world\", \"sun\"))"
   ]
  },
  {
   "cell_type": "markdown",
   "id": "7c83d34f-dc82-4a24-b225-14afb5989682",
   "metadata": {},
   "source": [
    "**Google Multi-Line Function Docstring**"
   ]
  },
  {
   "cell_type": "code",
   "execution_count": 277,
   "id": "79ded9e3-1919-43b8-a1e3-bdd4c012235e",
   "metadata": {},
   "outputs": [],
   "source": [
    "def celestial_salutation(celestial_body_1, celestial_body_2):\n",
    "    \"\"\"Says hello to the specified celestial bodies\n",
    "\n",
    "    Args:\n",
    "        celestial_body_1 (str): A celestial body we want to greet.\n",
    "            Indent to to include more information.\n",
    "        celestial_body_2 (str): A celestial we want to greet.\n",
    "        \n",
    "    Returns:\n",
    "        string: a greeting.\n",
    "    \"\"\"\n",
    "    return f\"Hello {celestial_body_1}.  Hello {celestial_body_2}.\""
   ]
  },
  {
   "cell_type": "markdown",
   "id": "06d0f2ed-7c32-477b-a884-74aa0e2a7379",
   "metadata": {},
   "source": [
    "**NumPy/SciPy Multi-Line Function Docstring**"
   ]
  },
  {
   "cell_type": "code",
   "execution_count": 278,
   "id": "0e1f5f19-8934-4488-829f-53b999998dd0",
   "metadata": {},
   "outputs": [],
   "source": [
    "def celestial_salutation(celestial_body_1, celestial_body_2):\n",
    "    \"\"\"Says hello to the specified celestial bodies\n",
    "\n",
    "    Parameters\n",
    "    ----------\n",
    "    celestial_body_1 : str\n",
    "        A celestial body we want to greet.\n",
    "        Retain indentation to include more information.\n",
    "    celestial_body_2 : str\n",
    "        A celestial body we want to greet.\n",
    "    \n",
    "    Returns\n",
    "    -------\n",
    "    string\n",
    "        A greeting.\n",
    "    \"\"\"\n",
    "    return f\"Hello {celestial_body_1}.  Hello {celestial_body_2}.\""
   ]
  },
  {
   "cell_type": "markdown",
   "id": "c0e719ad-0fcc-4ac6-aef0-ebc02819aa10",
   "metadata": {},
   "source": [
    "**`.__doc__`**"
   ]
  },
  {
   "cell_type": "code",
   "execution_count": 279,
   "id": "ca3f316b-40ac-4263-a936-29a44a1992d0",
   "metadata": {},
   "outputs": [
    {
     "name": "stdout",
     "output_type": "stream",
     "text": [
      "Says hello to the specified celestial bodies\n",
      "\n",
      "    Parameters\n",
      "    ----------\n",
      "    celestial_body_1 : str\n",
      "        A celestial body we want to greet.\n",
      "        Retain indentation to include more information.\n",
      "    celestial_body_2 : str\n",
      "        A celestial body we want to greet.\n",
      "    \n",
      "    Returns\n",
      "    -------\n",
      "    string\n",
      "        A greeting.\n",
      "    \n"
     ]
    }
   ],
   "source": [
    "print(celestial_salutation.__doc__)"
   ]
  },
  {
   "cell_type": "code",
   "execution_count": 280,
   "id": "3be01e0d-675f-4c66-bc55-4b607ae0c1ee",
   "metadata": {},
   "outputs": [
    {
     "name": "stdout",
     "output_type": "stream",
     "text": [
      "print(value, ..., sep=' ', end='\\n', file=sys.stdout, flush=False)\n",
      "\n",
      "Prints the values to a stream, or to sys.stdout by default.\n",
      "Optional keyword arguments:\n",
      "file:  a file-like object (stream); defaults to the current sys.stdout.\n",
      "sep:   string inserted between values, default a space.\n",
      "end:   string appended after the last value, default a newline.\n",
      "flush: whether to forcibly flush the stream.\n"
     ]
    }
   ],
   "source": [
    "print(print.__doc__)"
   ]
  },
  {
   "cell_type": "markdown",
   "id": "347c10c0-183a-4c61-9c9c-379df336d8f5",
   "metadata": {},
   "source": [
    "**`help()`**"
   ]
  },
  {
   "cell_type": "code",
   "execution_count": 281,
   "id": "7d1c5ef6-4a63-4fe7-ba45-a983eb5789cc",
   "metadata": {},
   "outputs": [
    {
     "name": "stdout",
     "output_type": "stream",
     "text": [
      "Help on function celestial_salutation in module __main__:\n",
      "\n",
      "celestial_salutation(celestial_body_1, celestial_body_2)\n",
      "    Says hello to the specified celestial bodies\n",
      "    \n",
      "    Parameters\n",
      "    ----------\n",
      "    celestial_body_1 : str\n",
      "        A celestial body we want to greet.\n",
      "        Retain indentation to include more information.\n",
      "    celestial_body_2 : str\n",
      "        A celestial body we want to greet.\n",
      "    \n",
      "    Returns\n",
      "    -------\n",
      "    string\n",
      "        A greeting.\n",
      "\n"
     ]
    }
   ],
   "source": [
    "# Note the lack of parentheses for the function in the argument\n",
    "help(celestial_salutation)"
   ]
  },
  {
   "cell_type": "code",
   "execution_count": 282,
   "id": "50f789f3-110e-4c31-baed-30d5106c5dd6",
   "metadata": {},
   "outputs": [
    {
     "name": "stdout",
     "output_type": "stream",
     "text": [
      "Help on built-in function print in module builtins:\n",
      "\n",
      "print(...)\n",
      "    print(value, ..., sep=' ', end='\\n', file=sys.stdout, flush=False)\n",
      "    \n",
      "    Prints the values to a stream, or to sys.stdout by default.\n",
      "    Optional keyword arguments:\n",
      "    file:  a file-like object (stream); defaults to the current sys.stdout.\n",
      "    sep:   string inserted between values, default a space.\n",
      "    end:   string appended after the last value, default a newline.\n",
      "    flush: whether to forcibly flush the stream.\n",
      "\n"
     ]
    }
   ],
   "source": [
    "# Note the lack of parentheses for the function in the argument\n",
    "help(print)"
   ]
  },
  {
   "cell_type": "markdown",
   "id": "e3d8b86a-1f87-4f66-aa16-67a02ccd992b",
   "metadata": {},
   "source": [
    "---"
   ]
  },
  {
   "cell_type": "markdown",
   "id": "ff90c9e1-39f7-4031-ab70-7adb6a90e091",
   "metadata": {
    "tags": []
   },
   "source": [
    "# PEP 8 Style Guidelines\n",
    "- **PEP 8**--Python Enhancement Proposal 8.  Document with Python code formatting guidelines.  \n",
    "- We define a few terms and then list important takeaways from PEP 8.  Note that this Jupyter notebook often does not have properly formatted code cells.  \"Do as I say, not...\"\n",
    "\n",
    "Terms:\n",
    "\n",
    "- **Whitespace**-assuming we are using a light theme, it is the white, non-text, portions of the page.  Whitespace is created by the space character (Space key), tab character (`\\t` or a Tab key), and newline character (`\\n` or Enter key).\n",
    "- **Snake case**--words in all lowercase with underscores separating words as needed.  Snake case is named as it looks like there is a snake in between each word.\n",
    "    - E.g. `snake_case`\n",
    "- **Camel Case**--words is mostly lowercase, but capitalize the starting letter of words.  Terminology varies depending on whether the first letter is upper or lower case.  I like to use the terms \"dromedary camel case\" and \"Bactrian camel case\".  This is not common, but I am trying to make it a thing because it's so fetch : ).\n",
    "    - E.g. Dromendary: `camelCase`\n",
    "    - E.g. Bactrian: `CamelCase`\n",
    "    \n",
    "Takeaways:\n",
    "\n",
    "1. Variable names casing depends on the object type\n",
    "    1. Global and local variables, function names, method names, and module names use snake case.  Note that sometimes authors will use other naming conventions such as dromedary camel case.\n",
    "        - E.g. `local_variable_name`\n",
    "        - E.g. `function_name()`\n",
    "    1. Class names use Bactrian camel case\n",
    "        - E.g. `ClassName`\n",
    "    1. Constant names use all uppercase with underscores as needed\n",
    "        - E.g. `CONSTANT_NAME`\n",
    "    1. Package names use lowercase with no underscores\n",
    "        - E.g. `packagename`\n",
    "1. Blank lines can be used sparingly to separate conceptionally distinct portions of the script\n",
    "    - E.g. two lines of whitespace below function definitions\n",
    "1. Use 4 spaces per indentation level in compound statements (conditional statements, loops, definitions, etc.).  A tab may NOT be used in place of 4 spaces, however most code editors convert tab characters to 4 space characters automatically.  If tabs and spaces are mixed while writing code in Notepad, the resulting file will have different horizontal indent levels and raise the following exception: `TabError: inconsistent use of tabs and spaces in indentation`.\n",
    "1. Add 1 space on either side of operators  If operators with different priorities are used, consider adding whitespace around the operators with the lowest priority(ies).  One exception is when equal signs are used in arguments.\n",
    "    - E.g. `y = 1 + 2`\n",
    "    - E.g. `y = 1*2 + 1*2` or `y = (1+2) * (1-2)`\n",
    "    - E.g. `print(\"Hello\", \"world\", sep=\"--\")`\n",
    "1. Add 1 space after commas and colons.\n",
    "    - E.g. `our_list = [1, 2, 3, 4]`\n",
    "    - E.g.`our_list[0: 2]`\n",
    "1. Avoid trailing whitespace anywhere as it's hard to find and may cause errors\n",
    "1. Limit lines to 79 characters or 72 characters for docstrings/comments.  The preferred way of wrapping long lines is by using Python's implied line continuation inside parentheses, brackets and braces. Long lines can be broken over multiple lines by wrapping expressions in parentheses. These should be used in preference to using a backslash for line continuation.\n",
    "    - Note that this topic is debated.  Many ye olde punch card machines and computers screens had a 79 column (AKA character) maximum.  Today this hard limit is gone.  Most will recommended treating 79 as a soft limit, going up to 100 (even 120) if it increases readability.  Generally, shorter lines increase readability, prevent too many nested compound statements that create complicated code, and allow 2 code documents to be easily displayed on a screen side by side. \n",
    "1. Strings can use double or single quotes. There are no guidelines on this.  However, its encouraged to use both when this allows one to avoid using an escape character.\n",
    "1. Multi-line strings or comments should use double quotes\n",
    "1. Comments should be complete sentences and start with a capital letter (except when variables or keywords are lowercase)\n",
    "1. Inline comments should be two or more spaces from code.  Comments on their own line are preferred if inline comments make the line longer and harder to read.\n",
    "1. In mathematical formulas that take up multiple lines, it is preferred to have operators start the line rather than end the line\n",
    "    - E.g. `+ 1` instead of `1 +`\n",
    "1. Do not compare Boolean values to True or False using ==\n",
    "    - E.g. use `if <VARIABLE_NAME>:` instead of `if <VARIABLE_NAME> == True:`\n",
    "1. Avoid compound statements on the same line\n",
    "    - E.g. `if True: print('Hello world')` is bad.  `print()` should be on the next line  \n",
    "1. Import statements should be at the top of the document and separate import statements should be on separate lines. Modules in the Python Standard Library should be written first, third-party modules second, and local modules third"
   ]
  },
  {
   "cell_type": "markdown",
   "id": "3d704da6-cbe5-48ea-9650-b892c9c04f06",
   "metadata": {},
   "source": [
    "---"
   ]
  },
  {
   "cell_type": "markdown",
   "id": "7aa36b3e-2ee9-4802-ba90-9cd98472c7b2",
   "metadata": {},
   "source": [
    "**EXAMPLES**"
   ]
  },
  {
   "cell_type": "markdown",
   "id": "a1f16b36-2ea2-48ff-b609-cb4c81fa7054",
   "metadata": {},
   "source": [
    "**Wrapping Long Strings**\n",
    "\n",
    "\n",
    "- There are multiple options.  This form of the hanging indent seems the most universal.\n",
    "- Notice the enclosing parentheses on their own lines and hanging indent that is 4 spaces.  Some prefer 8 spaces as 4 can occasionally be less readable when the line below the enclosing parenthesis is also indented 4 spaces.\n",
    "- We won't cover the `\\`."
   ]
  },
  {
   "cell_type": "code",
   "execution_count": 283,
   "id": "a2c13f3d-65ac-4d1f-a9f7-27b4b15d75c0",
   "metadata": {},
   "outputs": [
    {
     "name": "stdout",
     "output_type": "stream",
     "text": [
      "Plant a new Truffula.  Treat it with care. Give it clean water. And feed it fresh air.\n"
     ]
    }
   ],
   "source": [
    "long_string = (\n",
    "    'Plant a new Truffula.  Treat it with care. '\n",
    "    'Give it clean water. And feed it fresh air.'\n",
    ")\n",
    "print(long_string)"
   ]
  },
  {
   "cell_type": "markdown",
   "id": "3e5adede-816e-4772-9cc1-641e3b74bdae",
   "metadata": {},
   "source": [
    "**Wrapping Long Code**"
   ]
  },
  {
   "cell_type": "code",
   "execution_count": 284,
   "id": "efdb9d65-791b-4b87-8d41-38f14e00fa37",
   "metadata": {},
   "outputs": [
    {
     "name": "stdout",
     "output_type": "stream",
     "text": [
      "['Plant a new Truffula.  Treat it with care.', 'Give it clean water. And feed it fresh air.']\n"
     ]
    }
   ],
   "source": [
    "long_list = [\n",
    "    'Plant a new Truffula.  Treat it with care.',\n",
    "    'Give it clean water. And feed it fresh air.'\n",
    "]\n",
    "print(long_list)"
   ]
  },
  {
   "cell_type": "markdown",
   "id": "bff9a324-e7a4-4d54-bcbf-9258bbbe9da2",
   "metadata": {},
   "source": [
    "---"
   ]
  }
 ],
 "metadata": {
  "kernelspec": {
   "display_name": "Python 3 (ipykernel)",
   "language": "python",
   "name": "python3"
  },
  "language_info": {
   "codemirror_mode": {
    "name": "ipython",
    "version": 3
   },
   "file_extension": ".py",
   "mimetype": "text/x-python",
   "name": "python",
   "nbconvert_exporter": "python",
   "pygments_lexer": "ipython3",
   "version": "3.9.9"
  }
 },
 "nbformat": 4,
 "nbformat_minor": 5
}
