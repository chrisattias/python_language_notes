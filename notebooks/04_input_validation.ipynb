{
 "cells": [
  {
   "cell_type": "markdown",
   "id": "581022d2-d63b-4a75-bd7f-7dd0871347a7",
   "metadata": {
    "tags": []
   },
   "source": [
    "# Input Validation\n",
    "- Scripts may input data.  This input could be as simple as a user inputting data after being prompted by the `input()` function.  It may be more complex input in the form of HTML, XML, or JSON data from HTTP GET requests.  Unfortunately, input is not always in the expected form and may cause errors in the script.  These errors may trigger exceptions or they may lead to logic errors.\n",
    "- **Input Validation**--code that checks input data to ensure it is in the right format.  Potential checks include:\n",
    "    1. Input data type is correct\n",
    "    1. Input between min and max values\n",
    "    1. Input matches RegEx pattern\n",
    "    1. Input has correct fields in table\n",
    "    1. Other custom validation checks\n",
    "- There are a handful of popular input validation libraries like Cerebrus, Colander, Schemantics, Shema, Jsonschema, Valideer, Volupuous, and Pydantic that focus receiving info from GET requests.  We are going to keep it simple and use `pyinputplus`.\n",
    "- **`pyinputplus`**--basic input validation library written by Al Swiegart, the author of *Automate the Boring Stuff with Python*.  Has input functions that take in user input, checks it, reprompts the user for input if there are problems, and returns the data in the appropriate data type.  This differs from the `input()` function, which does not do any checking and only returns strings.  Additional functions and arguments can be found by using the `help(pyinputplus)` function or by visiting the [website](https://pyinputplus.readthedocs.io/en/latest).  Like with other modules he has written, Al uses dromedary camelCase.\n",
    "\n",
    "Code | Use\n",
    "--- | ---\n",
    "`pyinputplus` | Module.  Conventionally imported `import pyinputplus as pyip`.\n",
    "`pyip.inputStr()` | Similar to `input()`\n",
    "`pyip.inputNum()` | Ensures user enters a number and returns an int or float, depending on if the number has a decimal point in it\n",
    "`pyip.inputInt()` |  Ensures user enters an int\n",
    "`pyip.inputFloat()` | Ensures user enters a float\n",
    "`pyip.inputCustom()` | We write our own custom validation function and include it as an argument within `inputCustom()`.  This allows us to use the looping nature of all the input function and various arguments like `blank`, `timeout`, etc.\n",
    "`help(pyinputplus)` | See more functions and arguments"
   ]
  },
  {
   "cell_type": "markdown",
   "id": "8a1687c9-f2a1-4343-82d3-555a568502a3",
   "metadata": {},
   "source": [
    "---"
   ]
  },
  {
   "cell_type": "markdown",
   "id": "a618526e-d16a-4852-81fc-b196288af445",
   "metadata": {},
   "source": [
    "**EXAMPLES**"
   ]
  },
  {
   "cell_type": "code",
   "execution_count": 1,
   "id": "6d203836-dedb-4d49-bcd5-7484896159a9",
   "metadata": {},
   "outputs": [],
   "source": [
    "import pyinputplus as pyip"
   ]
  },
  {
   "cell_type": "markdown",
   "id": "fee766bd-84b8-4861-9038-c8f5491d0794",
   "metadata": {},
   "source": [
    "**Manual Input Validation**\n",
    "- Manual input validation may use while loops and try and except statements\n",
    "- Manual input validation can be tedious and it is hard to account for all possible inputs"
   ]
  },
  {
   "cell_type": "code",
   "execution_count": 5,
   "id": "9f515056-ac70-454c-ab43-28fce62ae99f",
   "metadata": {
    "tags": []
   },
   "outputs": [
    {
     "name": "stdin",
     "output_type": "stream",
     "text": [
      "How old are you?.  Input age as a positive integer and press Enter:   30\n"
     ]
    },
    {
     "name": "stdout",
     "output_type": "stream",
     "text": [
      "Your age is 30.\n"
     ]
    }
   ],
   "source": [
    "while True:\n",
    "    s_age = input(\"How old are you?.  Input age as a positive integer and press Enter:  \")\n",
    "    try:\n",
    "        i_age = int(s_age)  # Can this input be converted into an integer?\n",
    "    except:\n",
    "        print(\"Age must be a positive integer.  Try again.\")\n",
    "        continue\n",
    "    if i_age <= 0:  # Is this number positive?\n",
    "        print(\"Age must be a positive integer.  Try again.\")\n",
    "        continue\n",
    "    break\n",
    "print(f'Your age is {i_age}.')"
   ]
  },
  {
   "cell_type": "markdown",
   "id": "7ee6ae30-fde2-4d82-8914-7c36f10e0552",
   "metadata": {},
   "source": [
    "**`inputStr()`**"
   ]
  },
  {
   "cell_type": "code",
   "execution_count": 6,
   "id": "9ed176e6-b17a-40ce-979f-bccc32fbffde",
   "metadata": {},
   "outputs": [
    {
     "name": "stdout",
     "output_type": "stream",
     "text": [
      "Input any text and press Enter:  "
     ]
    },
    {
     "name": "stdin",
     "output_type": "stream",
     "text": [
      " Textual input\n"
     ]
    },
    {
     "data": {
      "text/plain": [
       "'Textual input'"
      ]
     },
     "execution_count": 6,
     "metadata": {},
     "output_type": "execute_result"
    }
   ],
   "source": [
    "pyip.inputStr(\"Input any text and press Enter:  \", blank=True)  # Blank response Okay.  Default text."
   ]
  },
  {
   "cell_type": "markdown",
   "id": "20825372-b731-4fb7-9933-0832d8b0d6f2",
   "metadata": {},
   "source": [
    "**`inputNum()`**"
   ]
  },
  {
   "cell_type": "code",
   "execution_count": 7,
   "id": "c9127b76-6942-48d7-981b-df8264016d91",
   "metadata": {},
   "outputs": [
    {
     "name": "stdout",
     "output_type": "stream",
     "text": [
      "Input any number between 0 and 100 and press Enter:  "
     ]
    },
    {
     "name": "stdin",
     "output_type": "stream",
     "text": [
      " 50\n"
     ]
    },
    {
     "data": {
      "text/plain": [
       "50"
      ]
     },
     "execution_count": 7,
     "metadata": {},
     "output_type": "execute_result"
    }
   ],
   "source": [
    "pyip.inputNum(\"Input any number between 0 and 100 and press Enter:  \", min=0, max=100)"
   ]
  },
  {
   "cell_type": "markdown",
   "id": "e1c5c1f1-3429-4edb-8b74-52cc40b5b32d",
   "metadata": {},
   "source": [
    "**`inputInt()`**"
   ]
  },
  {
   "cell_type": "code",
   "execution_count": 8,
   "id": "ad150101-1c39-441d-8be2-ba59cd9bc3bf",
   "metadata": {},
   "outputs": [
    {
     "name": "stdout",
     "output_type": "stream",
     "text": [
      "Input any INTEGER between 0 and 100 and press Enter:  "
     ]
    },
    {
     "name": "stdin",
     "output_type": "stream",
     "text": [
      " 50\n"
     ]
    },
    {
     "data": {
      "text/plain": [
       "50"
      ]
     },
     "execution_count": 8,
     "metadata": {},
     "output_type": "execute_result"
    }
   ],
   "source": [
    "pyip.inputInt(\"Input any INTEGER between 0 and 100 and press Enter:  \", greaterThan = -1, lessThan = 101)"
   ]
  },
  {
   "cell_type": "markdown",
   "id": "a84ea745-54d9-4501-9085-1922e97d1747",
   "metadata": {},
   "source": [
    "**`inputFloat()`**"
   ]
  },
  {
   "cell_type": "code",
   "execution_count": 9,
   "id": "efcdbee4-831e-495e-a397-900e7511beed",
   "metadata": {},
   "outputs": [
    {
     "name": "stdout",
     "output_type": "stream",
     "text": [
      "Input any number and press Enter:  "
     ]
    },
    {
     "name": "stdin",
     "output_type": "stream",
     "text": [
      " 50.0\n"
     ]
    },
    {
     "data": {
      "text/plain": [
       "50.0"
      ]
     },
     "execution_count": 9,
     "metadata": {},
     "output_type": "execute_result"
    }
   ],
   "source": [
    "pyip.inputFloat(\"Input any number and press Enter:  \", limit = 2, timeout = 10)  # Tries allowed and seconds program waits before throwing error"
   ]
  },
  {
   "cell_type": "code",
   "execution_count": 10,
   "id": "ae33d7de-dd1e-4230-ae21-7423591bc2c2",
   "metadata": {},
   "outputs": [
    {
     "name": "stdout",
     "output_type": "stream",
     "text": [
      "Input any number and press Enter:  "
     ]
    },
    {
     "name": "stdin",
     "output_type": "stream",
     "text": [
      " 50\n"
     ]
    },
    {
     "data": {
      "text/plain": [
       "50.0"
      ]
     },
     "execution_count": 10,
     "metadata": {},
     "output_type": "execute_result"
    }
   ],
   "source": [
    "pyip.inputFloat(\"Input any number and press Enter:  \", limit = 1, default = 1.0)   # Instead of error, use default input"
   ]
  },
  {
   "cell_type": "markdown",
   "id": "c1fcbad0-b14b-4148-a086-448778e8a48f",
   "metadata": {},
   "source": [
    "**`allowRegExes`**"
   ]
  },
  {
   "cell_type": "code",
   "execution_count": 11,
   "id": "c9f647e5-7d6a-460b-9c62-d10927d21a13",
   "metadata": {},
   "outputs": [
    {
     "name": "stdout",
     "output_type": "stream",
     "text": [
      "Input a Roman numeral or the word \"zero\"."
     ]
    },
    {
     "name": "stdin",
     "output_type": "stream",
     "text": [
      " X\n"
     ]
    },
    {
     "data": {
      "text/plain": [
       "'X'"
      ]
     },
     "execution_count": 11,
     "metadata": {},
     "output_type": "execute_result"
    }
   ],
   "source": [
    "prompt_text = 'Input a Roman numeral or the word \"zero\".'\n",
    "pyip.inputNum(prompt_text, allowRegexes = [r'I|V|X|L|C|D|M+', r'zero'])  # Only accepts inputs composed of Roman numerals or zero"
   ]
  },
  {
   "cell_type": "markdown",
   "id": "d8fdd5b5-26e6-45d7-84d5-29dcd3bdb02d",
   "metadata": {},
   "source": [
    "**`blockRegExes`**"
   ]
  },
  {
   "cell_type": "code",
   "execution_count": 12,
   "id": "71777189-6a5f-4a9a-b2db-a02513c8ac03",
   "metadata": {},
   "outputs": [
    {
     "name": "stdout",
     "output_type": "stream",
     "text": [
      "Input an odd integer."
     ]
    },
    {
     "name": "stdin",
     "output_type": "stream",
     "text": [
      " 3\n"
     ]
    },
    {
     "name": "stdout",
     "output_type": "stream",
     "text": [
      "3\n"
     ]
    }
   ],
   "source": [
    "prompt_text = 'Input an odd integer.'\n",
    "user_input = pyip.inputInt(prompt_text, blockRegexes = [r'(0|2|4|6|8)$'])  # Blocks inputs ending with an even number\n",
    "print(user_input)"
   ]
  },
  {
   "cell_type": "markdown",
   "id": "f6f73cbf-269c-4abb-81fa-d78656c5f845",
   "metadata": {},
   "source": [
    "**Custom validation Function**\n",
    "\n",
    "- Input must be entered must add up to 10 in order to be considered valid\n",
    "    - E.g. `1234`, `334`, and `64`, are all valid inputs."
   ]
  },
  {
   "cell_type": "code",
   "execution_count": 13,
   "id": "50dabc8a-7196-48e6-b4ac-1186d4024429",
   "metadata": {},
   "outputs": [
    {
     "name": "stdin",
     "output_type": "stream",
     "text": [
      " 4321\n"
     ]
    },
    {
     "name": "stdout",
     "output_type": "stream",
     "text": [
      "4321 is a valid input\n"
     ]
    }
   ],
   "source": [
    "def sum_to_ten(numbers):  \n",
    "    l_numbers = list(numbers)  # Make each character in string item in list\n",
    "    for i, value in enumerate(l_numbers):  # enumerate returns list of tuples of item index position and value\n",
    "        l_numbers[i] = int(value)  # Make each value int and save back to same spot in list\n",
    "    i_sum = sum(l_numbers)\n",
    "    if i_sum!= 10:\n",
    "        raise Exception(f'The digits must add up to 10, not {i_sum}.')\n",
    "    return numbers\n",
    "\n",
    "response = pyip.inputCustom(sum_to_ten, limit = 2, default = 1234)  # No parentheses on function object sum_to_ten when used as an argument\n",
    "print(f'{response} is a valid input')"
   ]
  },
  {
   "cell_type": "markdown",
   "id": "1c16ab46-05fd-42b8-b876-21d53cf40d25",
   "metadata": {},
   "source": [
    "---"
   ]
  },
  {
   "cell_type": "markdown",
   "id": "ec2a5cd3-2739-459b-8bfd-7daa0b9e06ce",
   "metadata": {
    "tags": []
   },
   "source": [
    "# Copy and Paste\n",
    "- The `pyperclip` module contains copy and paste functions that interact with our computer's clipboard.  It is also written by Al Sweigart.\n",
    "- Copy and paste only works with plaintext data\n",
    "- We could paste contents from the clipboard into a script when prompted for input\n",
    "- We could also copy script data to the clipboard and later paste it into another application\n",
    "\n",
    "Code | Use\n",
    "--- | ---\n",
    "`pyperclip` | Module\n",
    "`pyperclip.copy()` | Copies object to clipboard\n",
    "`pyperclip.paste()` | Pastes string from clipboard"
   ]
  },
  {
   "cell_type": "markdown",
   "id": "f7733072-a007-42b1-a22c-5beb637c639b",
   "metadata": {},
   "source": [
    "---"
   ]
  },
  {
   "cell_type": "markdown",
   "id": "7ef9c2d9-897f-4ee6-ba7a-4a0f5cd03a50",
   "metadata": {
    "tags": []
   },
   "source": [
    "**EXAMPLES**"
   ]
  },
  {
   "cell_type": "markdown",
   "id": "e2f50ccb-3104-4ece-bf30-bbda01e8f036",
   "metadata": {},
   "source": [
    "**Note that examples do not run correctly on Binder as `pyperclip` does not have access to a clipboard**"
   ]
  },
  {
   "cell_type": "code",
   "execution_count": 14,
   "id": "c63646c1-23b2-4858-82a4-d2f45dc2a0cb",
   "metadata": {},
   "outputs": [],
   "source": [
    "import pyperclip"
   ]
  },
  {
   "cell_type": "markdown",
   "id": "bcb36aef-bc41-4f56-a507-09e1e0284116",
   "metadata": {},
   "source": [
    "**`copy()`**"
   ]
  },
  {
   "cell_type": "code",
   "execution_count": 15,
   "id": "ae4cc1d7-acb2-41db-82e6-a06f5e83f734",
   "metadata": {},
   "outputs": [],
   "source": [
    "pyperclip.copy('Hello world')  # Copies to clipboard.  Try pasting somewhere!"
   ]
  },
  {
   "cell_type": "markdown",
   "id": "6daf68a7-8547-4755-8d15-096dc1b75f99",
   "metadata": {},
   "source": [
    "**`paste()`**\n",
    "\n",
    "- Try copying plaintext to clipboard manually then run function below"
   ]
  },
  {
   "cell_type": "code",
   "execution_count": 16,
   "id": "2ab06935-426a-4ff7-b5ce-2ef0a5530ab3",
   "metadata": {},
   "outputs": [
    {
     "data": {
      "text/plain": [
       "'Hello world'"
      ]
     },
     "execution_count": 16,
     "metadata": {},
     "output_type": "execute_result"
    }
   ],
   "source": [
    "pyperclip.paste()"
   ]
  }
 ],
 "metadata": {
  "kernelspec": {
   "display_name": "Python 3 (ipykernel)",
   "language": "python",
   "name": "python3"
  },
  "language_info": {
   "codemirror_mode": {
    "name": "ipython",
    "version": 3
   },
   "file_extension": ".py",
   "mimetype": "text/x-python",
   "name": "python",
   "nbconvert_exporter": "python",
   "pygments_lexer": "ipython3",
   "version": "3.9.9"
  }
 },
 "nbformat": 4,
 "nbformat_minor": 5
}
