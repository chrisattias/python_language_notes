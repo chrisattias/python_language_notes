{
 "cells": [
  {
   "cell_type": "markdown",
   "id": "b4f219ad-721f-4f93-b958-03902f7dc8ff",
   "metadata": {},
   "source": [
    "# Package Managers and Environments"
   ]
  },
  {
   "cell_type": "markdown",
   "id": "9c5c6c79-8a42-4bf9-b288-cc8271013ee5",
   "metadata": {},
   "source": [
    "---"
   ]
  },
  {
   "cell_type": "markdown",
   "id": "a437b44c-fb47-4c7c-9852-86458b901de7",
   "metadata": {
    "tags": []
   },
   "source": [
    "## Package Managers\n",
    "- Many of Python's advanced features are found in modules/packages/libraries\n",
    "- If a module/package/library does not come pre-installed we need to download and install it using a package manager\n",
    "- **Package Manager**--program that downloads, installs, and organizes packages\n",
    "- There are two main Python package managers:\n",
    "    1. **pip**--stands for Pip Installs Packages (recursive acronym).  Python's officially endorsed open source package manager.   Both a program and a Python module.   Written in Python.  Only installs Python packages.  Used to install packages from the Python Package Index (PyPI) or GitHub. PyPI is the largest repository of Python packages, with over 150,000.\n",
    "    1. **conda**--open source package manager program. Mostly used to install Python modules/packages/libraries, but can be used to install packages for other languages like R, C, C++, etc.  Installs packages from Anaconda repository, which has 1,500 of the most popular packages or the conda-forge, which is like the open source version of the Anaconda repository. conda is used by the Miniconda, Miniforge, and Anaconda Python distribution.  conda also manages \"environments\" to prevent non-compatible versions of packages and programs from causing errors."
   ]
  },
  {
   "cell_type": "markdown",
   "id": "3d238f96-7036-43a9-8981-bb4ffa4406bb",
   "metadata": {},
   "source": [
    "---"
   ]
  },
  {
   "cell_type": "markdown",
   "id": "b0b01ed8-1344-4fab-ab9b-5a8086eb38f0",
   "metadata": {
    "tags": []
   },
   "source": [
    "## Environments\n",
    "- **Environment**--combination of Python interpreter program (python.exe) and installed packages that we are using\n",
    "- **Global Environment**--by default, when python.exe is installed, it runs in the global environment.  This is not specific to any project or folder.  If we run the Python interpreter by typing `python` into the Command Prompt, it opens the interpreter in the global environment. If we install a package with pip, it is installed in the global environment.\n",
    "- Working in the global environment is easy.  However, over time it may become cluttered by all the packages we have installed.  Some packages may not be compatible with each other or we may have different versions of the same package.  We may also want to use a different version of the Python interpreter.  E.g. Python 3.7 or 3.9.  For complicated Python projects/scripts, it becomes hard to ensure that a Python script will work if we are testing it in the global environment.  Which Python interpreter version and combination of packages is needed to run the script without bugs?\n",
    "- **Virtual Environment**--isolated subfolder (environment) that contains a specified version of the Python interpreter.  We can install the packages we need for a particular project into this environment.  Prevents package compatibility issues.  Good for script testing.  The terms environment and virtual environment are used interchangeably.\n",
    "- There are multiple ways to create a virtual environment in Python.  It gets confusing.\n",
    "    1. conda--manages both packages and environments.  Used by Anaconda, Miniconda, and MiniForge.  Popular in the data science community.\n",
    "    1. pip + `venv`--now included with the Python Standard Library.  If using pip, most recommended.\n",
    "    1. pip +`pipenv`--also recommended, but complex\n",
    "    1. pip + `poetry`--also recommend, but complex\n",
    "    1. pip + `virtualenv`--older. Not recommended.\n",
    "    1. pip + `pyenv`--used for installing different Python versions.  Not recommended."
   ]
  },
  {
   "cell_type": "markdown",
   "id": "cfec1547-d1c6-4806-a9da-c00587a41221",
   "metadata": {},
   "source": [
    "---"
   ]
  },
  {
   "cell_type": "markdown",
   "id": "46863af9-c051-4f12-bfe3-acc057b79ec4",
   "metadata": {
    "tags": []
   },
   "source": [
    "### Conda Environment\n",
    "- **Anaconda**--for profit data science company specializing in Python. Provides a free distribution of Python named Anaconda that includes Python, conda, a bunch of the most popular Python packages, a terminal program, a GUI navigator program, and a few IDEs like Jupyter, R Studio, Spyder, and PyCharm.  A bit slow and buggy in my experience.\n",
    "- **Minconda**--distribution includes Python, conda, a handful of popular packages, and a terminal program.  No GUI, only command line.  In my experience Miniconda runs fast and without any issues.\n",
    "- **Miniforge**--Miniforge is like Miniconda, but uses conda-forge as the default channel to download packages from instead of the Anaconda Repository.\n",
    "\n",
    "1. To get started, install Miniconda or Miniforge.  Instructions can be seen on conda or conda-forge websites.\n",
    "1. Create virtual environment by following conda instructions\n",
    "1. Install any needed packages into virtual environment by following conda instructions\n",
    "    - Note that I installed Miniconda, but then set the default channel to conda-forge following instructions on the conda-forge website\n",
    "    - Note that, where possible, packages should be installed using the conda package manager and the conda-forge or Anaconda repository channels.  If a desired package is not available there, then we can use pip to install packages from PyPI.   We use the Anaconda Prompt(miniconda3) terminal program and virtual environments in the same way. The only change is that we enter `pip install` instead of `conda install`.\n",
    "1. When using virtual environments with conda, we need to activate the virtual environment in the Anaconda Prompt(miniconda3) terminal program before we run our code\n",
    "    - **Interactive Interpreter**\n",
    "        1. Open the Anaconda Prompt(miniconda3) terminal program\n",
    "        1. Enter `conda activate <ENVIRONMENT>`\n",
    "        1. Enter `python`\n",
    "    - **Opening Jupyter Lab**\n",
    "        1. Open the Anaconda Prompt(miniconda3) terminal program\n",
    "        1. Enter `conda activate <ENVIRONMENT>`\n",
    "        1. Enter `jupyter lab`\n",
    "    - **Opening VS Code**\n",
    "        1. Open the Anaconda Prompt(miniconda3) terminal program\n",
    "        1. Enter `conda activate <ENVIRONMENT>`\n",
    "        1. Enter `code`.  VS Code must be in the Environmental PATH variable for this to work.  Other wise we'd have to type the absolute file path of the VS Code program (code.exe).\n",
    "    - **Running Scripts in a Terminal**\n",
    "        1. Open the Anaconda Prompt(miniconda3) terminal program\n",
    "        1. Enter `conda activate <ENVIRONMENT>`\n",
    "        1. Enter `python <PATH>\\<FILENAME>.py`\n",
    "    - **Batch Files**\n",
    "        1. Method 1\n",
    "            1. Open the Anaconda Prompt(miniconda3) terminal program\n",
    "            1. Enter `conda activate <ENVIRONMENT>`\n",
    "            1. Enter `<PATH>\\<FILENAME>.bat`\n",
    "        1. Method 2\n",
    "            1. Open the Anaconda Prompt(miniconda3) terminal program\n",
    "            1. Don't activate within terminal, but instead include `call activate <ENVIRONMENT>` and `call conda deactivate` like in the following script.  Deactivate is optional. \n",
    "            1. Enter `<PATH>\\<FILENAME>.bat`\n",
    "\n",
    "```\n",
    "@REM This is a comment\n",
    "@call activate <ENVIRONMENT>\n",
    "@python <PATH>\\<FILENAME>.py %*\n",
    "@pause\n",
    "@call conda deactivate\n",
    "```"
   ]
  },
  {
   "cell_type": "markdown",
   "id": "f43acb57-5d9d-469a-ab3f-f8911b0e9dfe",
   "metadata": {},
   "source": [
    "---"
   ]
  },
  {
   "cell_type": "markdown",
   "id": "0f842105-1623-4e18-afc6-99a2e9f2e4e8",
   "metadata": {},
   "source": [
    "## Containers"
   ]
  },
  {
   "cell_type": "markdown",
   "id": "691e60b5-54e6-4bd4-b371-fcf36ddc4aef",
   "metadata": {},
   "source": [
    "- A virtual environment contains an interpreter and packages.  A virtual environment is helpful for program development.  Professional-level programs may be developed with virtual machines or containers.  These take the concepts of isolated environments to another level.\n",
    "- **Machine**--a physical computer with computer hardware\n",
    "- **Virtual machine**--program that virtualizes computer hardware.  There is a virtual CPU, RAM, storage memory, etc.  Normal operating systems and applications are then run on this virtual machine.  The program that creates this virtual machine is called the hypervisor.  The hypervisor is run on top of a normal computer (usually a computer server) with physical hardware and its own operating system.  This allows a single physical computer server to host many isolated virtual computers that are separated from each other.  This layer of abstraction is useful for developing and hosting cloud applications.\n",
    "- **Containers**--a program virtualizes a computer operating system.  This virtual operating system has one or more containers.  Each container typically contains a single program of interest and any dependencies (other programs on which it relies).  The virtual OS and all containers are run on top of a normal computer (usually a computer server) with physical hardware and its own operating system.  This allows a single physical computer server to host many isolated applications that are separated from each other.  This layer of abstraction is useful for developing and hosting cloud applications.\n",
    "- **Docker**--open-source technology for creating containers.  Docker-inc. is a for profit company that uses this technology.\n",
    "\n",
    "![](images/VM_containers.png)\n",
    "\n",
    "- **Kubernettes**--open-source orchestration software that controls how different containers interact.  Large cloud applications are often organized into many containers instead of just one.  How and when these containers interact is controlled by Kubernettes."
   ]
  },
  {
   "cell_type": "markdown",
   "id": "446fb7db-56ef-4906-a025-b352508422f9",
   "metadata": {},
   "source": [
    "---"
   ]
  }
 ],
 "metadata": {
  "kernelspec": {
   "display_name": "Python 3 (ipykernel)",
   "language": "python",
   "name": "python3"
  },
  "language_info": {
   "codemirror_mode": {
    "name": "ipython",
    "version": 3
   },
   "file_extension": ".py",
   "mimetype": "text/x-python",
   "name": "python",
   "nbconvert_exporter": "python",
   "pygments_lexer": "ipython3",
   "version": "3.9.9"
  }
 },
 "nbformat": 4,
 "nbformat_minor": 5
}
