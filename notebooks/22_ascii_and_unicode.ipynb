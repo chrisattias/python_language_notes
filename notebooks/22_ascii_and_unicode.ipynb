{
 "cells": [
  {
   "cell_type": "markdown",
   "id": "75fa5814-70c9-42d2-a9d0-eea28fef25fd",
   "metadata": {},
   "source": [
    "# ASCII and Unicode\n",
    "- In Python 3 and later, the Python strings data type is stored internally as a sequence of Unicode code points\n",
    "- We've covered that strings can be encoded as bytes and bytes can be decoded to strings. What does this have to do with Unicode?  What is UTF-8?  To answer these questions, we start with ASCII."
   ]
  },
  {
   "cell_type": "markdown",
   "id": "2398fdcd-853f-41e4-b2ca-f89b95baac28",
   "metadata": {},
   "source": [
    "---"
   ]
  },
  {
   "cell_type": "markdown",
   "id": "43e8aa80-98b0-438a-b437-da38599434a4",
   "metadata": {
    "tags": []
   },
   "source": [
    "## ASCII\n",
    "- **ASCII**--American Standard Code for Information Interchange.  It was created by the American National Standards Institute in the early 1960s. Uppercase and lowercase English letters, characters 0-9, punctuation/symbols, and some basic computer commands are mapped to numbers.  All ASCII is, is the mapping of characters to numbers.  These numbers are commonly written in base 2, 10, or 16 (hexadecimal).\n",
    "- Standard ASCII is 7 bits long and can map $2^7 = 128$ unique characters.  \n",
    "- Extended ASCII is 8 bits long and can map $2^8 = 256$ unique characters.  Extended ASCII was not too common.\n",
    "\n",
    "![](images/ASCIITable.png)\n",
    "\n",
    "- Notice how a character is listed and encoded with a number, starting with 0\n",
    "    - Decimal (base 10) numbers that encode the characters go from 0-127\n",
    "    - Binary (base 2) numbers go from 0 to 1111111\n",
    "    - Octal (base 8) numbers go from 0 to 177\n",
    "    - Hexadecimal (base 16) numbers go from 0 to 7F\n",
    "- Notice how the character \"A\" is mapped to the decimal number 65.  This was chosen because 65 written as a binary number is 10000001  If we look at the right-most 5 digits, use them as binary, and convert them to decimal we get the decimal number 1.  \"A\" is the first letter of the alphabet.   \"Z\" maps to the decimal number 90, which is 101011010 in binary.  Take the 5 digits to the right, use them as binary, convert to decimal, and we get 26.  \"Z\" is the 26th letter of the alphabet.\n",
    "- Notice how the same thing was done with the lowercase letters.  \"a\" starts at 97, which is 1100001 in binary.  \"z\" is 122, which is 1111010.  The 5 digits to the right are the same as those for uppercase.   Mind blown!\n",
    "- Notice that uppercase characters are mapped to lower numbers lowercase characters.  This is why uppercase is sorted as lower by Python. **ASCII-betical order**.\n",
    "- Notice how the characters 0-9 on the keyboard are mapped to the decimal numbers 48 to 57.  This was chosen because we can write 48-57 as binary (base 2) numbers, then take the right 4 digits.  These right 4 digits are themselves the binary (base 2) numbers for the the decimal numbers 0-9.  MIND BLOWN!!!"
   ]
  },
  {
   "cell_type": "markdown",
   "id": "90467333-e1e3-4661-9b2e-756e52e9a312",
   "metadata": {},
   "source": [
    "---"
   ]
  },
  {
   "cell_type": "markdown",
   "id": "27135a71-9dd1-476e-9e97-019e73fb6d5e",
   "metadata": {},
   "source": [
    "## ISO-8859\n",
    "\n",
    "- ISO-8859 refers to a family of one byte character sets (mappings) that rose to prominence in the 1980s and 1990s. IS0-8859 character sets have largely been replaced by Unicode and are only used on about 1% of web pages today.\n",
    "- ASCII focused on the English alphabet and fit 128 characters into 7 bits.  There are 16 ISO-8859 character sets that cover different European alphabets.  Each character set uses 8 bits (1 byte) and encodes 256 unique characters.\n",
    "- ISO-8859-1, or Latin-1 for short, is a character mapping for Western Europe.  The first 128 characters are the same as ASCII but it introduces new characters for 129-256.  Only the first 128 characters of Latin-1 (ASCII) are compatible with UTF-8."
   ]
  },
  {
   "cell_type": "markdown",
   "id": "0e8a40f5-3103-4316-b5e3-fa6108d48418",
   "metadata": {},
   "source": [
    "---"
   ]
  },
  {
   "cell_type": "markdown",
   "id": "be9fe6aa-7f47-4dc7-b9ab-e9686253106c",
   "metadata": {
    "tags": []
   },
   "source": [
    "## Unicode\n",
    "- **Unicode**--Unicode is the successor to ASCII and ISO-8859.  ASCII focused on the English alphabet.  ISO-8859 mappings focused on European languages while sticking to only 1 byte.  Unicode maps all the worlds scripts (alphabets), characters 0-9, punctuation/symbols, basic computer commands, and emojis to numbers.   All Unicode is, is the mapping of characters to numbers.   There is space to map 1.1 million unique characters.\n",
    "- These numbers are commonly written in base 2, 10, or 16 (hexadecimal)\n",
    "- **Unicode code point**--hexadecimal number with \"U+\" in front of it\n",
    "    - E.g. the character \"A\" is mapped to the decimal number 65, the binary (base 2) number 1000001, the hex number 41, and the Unicode code point U+0041\n",
    "- *The Python program stores strings internally as sequences of Unicode code points*\n",
    "\n",
    "Code | Use\n",
    "--- | ---\n",
    "`ord()` | Returns the base 10 integer that is mapped to the Unicode character specified\n",
    "`chr()` | Returns the Unicode character that is mapped to the base 10 integer specified"
   ]
  },
  {
   "cell_type": "markdown",
   "id": "1fea8593-3179-47f7-8125-28bedd747683",
   "metadata": {},
   "source": [
    "---"
   ]
  },
  {
   "cell_type": "markdown",
   "id": "c21a6412-147b-49f0-8db5-a2b4d280346e",
   "metadata": {},
   "source": [
    "**EXAMPLES**"
   ]
  },
  {
   "cell_type": "markdown",
   "id": "621a2366-36e7-4ab6-8cf3-de07097ae38c",
   "metadata": {},
   "source": [
    "**`ord()`**"
   ]
  },
  {
   "cell_type": "code",
   "execution_count": 1,
   "id": "e546c473-f211-4a77-930e-34b008246972",
   "metadata": {},
   "outputs": [
    {
     "name": "stdout",
     "output_type": "stream",
     "text": [
      "65\n",
      "97\n",
      "48\n"
     ]
    }
   ],
   "source": [
    "print(ord('A'))\n",
    "print(ord('a'))\n",
    "print(ord('0'))"
   ]
  },
  {
   "cell_type": "markdown",
   "id": "c3e9251e-d192-47df-93c1-3ca3d3378e07",
   "metadata": {},
   "source": [
    "**`chr()`**"
   ]
  },
  {
   "cell_type": "code",
   "execution_count": 2,
   "id": "48f522d8-a03a-4ae0-a663-56ca7453da5e",
   "metadata": {},
   "outputs": [
    {
     "name": "stdout",
     "output_type": "stream",
     "text": [
      "A\n",
      "a\n",
      "0\n"
     ]
    }
   ],
   "source": [
    "print(chr(65))\n",
    "print(chr(97))\n",
    "print(chr(48))"
   ]
  },
  {
   "cell_type": "markdown",
   "id": "b831f0f7-9afc-4584-b407-71f44165887a",
   "metadata": {},
   "source": [
    "---"
   ]
  },
  {
   "cell_type": "markdown",
   "id": "6ed213b4-6dc1-4144-8ce3-8e4760fe728a",
   "metadata": {
    "tags": []
   },
   "source": [
    "## UTF-8\n",
    "- Unicode has standardized the mapping of characters to numbers and then to Unicode code points. Many programs like Python store character strings as Unicode code points.\n",
    "- However, computers ultimately store 1s and 0s and so we use the binary (base 2) number for each character when we store them on the computer or when we send data across the internet\n",
    "- Depending on the character, the binary number could take up anywhere from 1-4 bytes of space.  And how do we concatenate binary numbers so that we know which 1s and which 0s correspond to which characters?  This is where UTF-8, UTF-16, and UTF-32 come in.\n",
    "\n",
    "**UTF-32**\n",
    "\n",
    "- UTF-32 stands for Unicode Transformation Format 32.  Uses one 32 bit chunk (code unit) to code for each character.  Not often used because of inefficient use of memory.\n",
    "\n",
    "**UTF-16**\n",
    "\n",
    "- UTF-16 stands for Unicode Transformation Format 16.  UTF-16 is a variable-width code that uses one or two 16 bit chunks (code units) to encode each character. Microsoft Windows, Java, and Javascript use UTF-16.  Windows is moving away from it to UTF-8 in the future.\n",
    "\n",
    "**UTF-8**\n",
    "\n",
    "- UTF-8 stands for Unicode Transformation Format 8.  UTF-8 is a variable-width encoding that uses 1-4, 8 bit chunks (code units) for each character.  So depending on the character it may use 8, 16, 24, or, 32 bits. 1, 2, 3, or 4, bytes.\n",
    "- The reason for this variable width encoding comes back to efficient use of computer memory.  If we map/encode a single character to its binary (base 2) number and always store this using 32 bits for every character, we end up with lots of 0s that are just filler.  Ex. \"A\" would be 00000000 00000000 00000000 010000001.\n",
    "- For a character that uses 1 byte, the standard 7 bit ASCII codes are used. UTF-8 is simply that 7 bit binary number with a 0 in front. The UTF-8 code for \"A\" is 01000001.  So standard ASCII is valid UTF-8!\n",
    "- For characters stored using 2-4 bytes, UTF-8 uses certain bits to indicate how many bytes the character is.  In the following code the `x`s are the character's binary (base 2) number, while 1s and 0s are the prefixes that indicate how many bytes there are.  A human can look at the 1s and can think the following.  Two 1s means two bytes.  Three 1s means three bytes.  Four 1s means four bytes.\n",
    " \n",
    "```\n",
    "0xxxxxxx\n",
    "110xxxxx 10xxxxxx\n",
    "1110xxxx 10xxxxxx 10xxxxxx\n",
    "11110xxx 10xxxxxx 10xxxxxx 10xxxxxx\n",
    "```\n",
    "\n",
    "- Now imagine we had multiple characters's binary concatenated together.  In the below sequence, we could use the prefixes to tell that we have a 2-byte character, then a 1-byte character, then a 4-byte character, then a 3-byte character.\n",
    "\n",
    "```\n",
    "110xxxxx10xxxxxx0xxxxxxx11110xxx10xxxxxx10xxxxxx10xxxxxx1110xxxx10xxxxxx10xxxxxx\n",
    "```\n",
    " \n",
    "- The internet almost exclusively uses UTF-8 as it encodes everything, is backwards compatible with ASCII, and doesn't use an unnecessary number of bits\n",
    "- UTF-8 is the default encoding and decoding method for Python functions"
   ]
  },
  {
   "cell_type": "markdown",
   "id": "63fba9d2-3ab1-4658-b791-0fe61cabcec5",
   "metadata": {},
   "source": [
    "---"
   ]
  }
 ],
 "metadata": {
  "kernelspec": {
   "display_name": "Python 3 (ipykernel)",
   "language": "python",
   "name": "python3"
  },
  "language_info": {
   "codemirror_mode": {
    "name": "ipython",
    "version": 3
   },
   "file_extension": ".py",
   "mimetype": "text/x-python",
   "name": "python",
   "nbconvert_exporter": "python",
   "pygments_lexer": "ipython3",
   "version": "3.9.9"
  }
 },
 "nbformat": 4,
 "nbformat_minor": 5
}
