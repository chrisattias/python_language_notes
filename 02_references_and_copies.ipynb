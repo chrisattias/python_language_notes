{
 "cells": [
  {
   "cell_type": "markdown",
   "id": "a2070f05-c2f6-4dfa-a129-3e6009ea5ecb",
   "metadata": {
    "tags": []
   },
   "source": [
    "# References\n",
    "- A variable name is a **reference** to the computer memory location where an object is stored\n",
    "- `id()`returns an ID number (the **identity**) that identifies the memory location of an object\n",
    "- The following code can be read as, \"Store the \"Hello world\" string in a location in the computer memory, refer to this location using the variable name, \"spam\"\".  We can see the ID number for this location."
   ]
  },
  {
   "cell_type": "code",
   "execution_count": 1,
   "id": "c1ca4998-27e3-41eb-84a3-3e92131eff60",
   "metadata": {},
   "outputs": [
    {
     "name": "stdout",
     "output_type": "stream",
     "text": [
      "Hello world\n",
      "1564821121392\n"
     ]
    }
   ],
   "source": [
    "spam = \"Hello world\"\n",
    "print(spam)\n",
    "print(id(spam))"
   ]
  },
  {
   "cell_type": "markdown",
   "id": "2c874345-3b7b-424a-9e85-077bae1eda0c",
   "metadata": {},
   "source": [
    "---"
   ]
  },
  {
   "cell_type": "markdown",
   "id": "468b2fd7-8910-4760-b6cb-838e8c348e26",
   "metadata": {
    "tags": []
   },
   "source": [
    "## Immutable Objects\n",
    "- Immutable objects can NOT be changed\n",
    "- These include:\n",
    "    1. Strings\n",
    "    1. Numbers (integer, float, complex)\n",
    "    1. Tuples\n",
    "    1. Frozen sets\n",
    "    1. Ranges\n",
    "-  An immutable object can NOT be modified \"in place\"\n",
    "- To make \"changes\", we must create a new object with a new memory location"
   ]
  },
  {
   "cell_type": "markdown",
   "id": "37eeb3bf-9de1-4527-a757-0e8d3e7f8cad",
   "metadata": {},
   "source": [
    "- The following code demonstrates how the reference to the memory location from spam is copied and assigned to cheese.  spam and cheese refer to the same memory location with the same object, but have different variable names."
   ]
  },
  {
   "cell_type": "code",
   "execution_count": 2,
   "id": "6865edd0-509d-4480-af44-68cb5a02f63d",
   "metadata": {},
   "outputs": [
    {
     "name": "stdout",
     "output_type": "stream",
     "text": [
      "Hello world\n",
      "1564821182576\n",
      "Hello world\n",
      "1564821182576\n"
     ]
    }
   ],
   "source": [
    "spam = \"Hello world\"\n",
    "cheese = spam\n",
    "print(spam)\n",
    "print(id(spam))\n",
    "print(cheese)\n",
    "print(id(cheese))"
   ]
  },
  {
   "cell_type": "markdown",
   "id": "f958d2f9-65cb-4b84-a590-39d61bd0dedf",
   "metadata": {},
   "source": [
    "- The following code demonstrates that when we \"change\" an immutable object, we are actually creating a new object in a new memory location.  We do NOT affect other variable names that reference that original object in the original memory location."
   ]
  },
  {
   "cell_type": "code",
   "execution_count": 3,
   "id": "6e3a8faf-3c2f-448f-8280-e551892b7d45",
   "metadata": {},
   "outputs": [
    {
     "name": "stdout",
     "output_type": "stream",
     "text": [
      "Hello moon\n",
      "1564821099760\n",
      "Hello world\n",
      "1564821182576\n"
     ]
    }
   ],
   "source": [
    "spam = \"Hello moon\"\n",
    "print(spam)\n",
    "print(id(spam))\n",
    "print(cheese)\n",
    "print(id(cheese))"
   ]
  },
  {
   "cell_type": "markdown",
   "id": "4e1b7605-fb12-417e-8d61-8d858d09b10f",
   "metadata": {},
   "source": [
    "---"
   ]
  },
  {
   "cell_type": "markdown",
   "id": "8523e957-8646-4414-8b2f-c54710ab3ccc",
   "metadata": {},
   "source": [
    "## Mutable Objects\n",
    "- Mutable objects can be changed\n",
    "- These include:\n",
    "    1. Lists\n",
    "    1. Sets\n",
    "    1. Dictionaries\n",
    "-  A mutable object can be modified \"in place\"\n",
    "- This affects other variable names that reference that memory location"
   ]
  },
  {
   "cell_type": "markdown",
   "id": "f9502eff-233f-4506-814a-94592fc77942",
   "metadata": {},
   "source": [
    "![](images/reference_1.jpg)"
   ]
  },
  {
   "cell_type": "code",
   "execution_count": 4,
   "id": "06dc43b0-83b4-44f0-852a-09452f5bd178",
   "metadata": {},
   "outputs": [],
   "source": [
    "spam = [0, 1, 2, 3, 4, 5]"
   ]
  },
  {
   "cell_type": "markdown",
   "id": "48527fb3-880e-4bbf-ba7a-2d7a68f4049a",
   "metadata": {},
   "source": [
    "![](images/reference_2.jpg)"
   ]
  },
  {
   "cell_type": "code",
   "execution_count": 5,
   "id": "0cd6dbea-4cac-44ac-91c4-af4509624af2",
   "metadata": {},
   "outputs": [
    {
     "name": "stdout",
     "output_type": "stream",
     "text": [
      "[0, 1, 2, 3, 4, 5]\n",
      "1564821395008\n",
      "[0, 1, 2, 3, 4, 5]\n",
      "1564821395008\n"
     ]
    }
   ],
   "source": [
    "cheese = spam  # spam = cheese actually causes error.  Must be cheese = spam.\n",
    "print(spam)\n",
    "print(id(spam))\n",
    "print(cheese)\n",
    "print(id(cheese))"
   ]
  },
  {
   "cell_type": "markdown",
   "id": "fee8fc41-6bc3-4b6b-b0c6-af056b97150a",
   "metadata": {},
   "source": [
    "![](images/reference_3.jpg)"
   ]
  },
  {
   "cell_type": "code",
   "execution_count": 6,
   "id": "ca9a578a-cb42-45a5-89ff-9ea3452e4c92",
   "metadata": {},
   "outputs": [
    {
     "name": "stdout",
     "output_type": "stream",
     "text": [
      "[0, 'Hello!', 2, 3, 4, 5]\n",
      "1564821395008\n",
      "[0, 'Hello!', 2, 3, 4, 5]\n",
      "1564821395008\n"
     ]
    }
   ],
   "source": [
    "cheese[1] = 'Hello!'\n",
    "print(spam)\n",
    "print(id(spam))\n",
    "print(cheese)\n",
    "print(id(cheese))"
   ]
  },
  {
   "cell_type": "markdown",
   "id": "1dbe2012-f992-46ee-b2a4-43120004d9d3",
   "metadata": {},
   "source": [
    "- Modifying objects in place could cause errors if we are not aware that other variables are being modified\n",
    "- Why is this done then?  This is done to save computer memory.  If our list contained 1 billion items and we needed another variable name to refer to that same data, it would take a twice the memory to store that same data twice using two variable names.  It is more efficient to store the data once and copy the reference to that one memory location.\n",
    "- But what if we want to change one list and leave the original alone?  This is where `copy()` and `deepcopy()` come in.  "
   ]
  },
  {
   "cell_type": "markdown",
   "id": "e2499fc0-4ada-40de-9673-990302aec0e9",
   "metadata": {},
   "source": [
    "---"
   ]
  },
  {
   "cell_type": "markdown",
   "id": "266e8482-f4d3-4078-8639-a91583913a88",
   "metadata": {
    "tags": []
   },
   "source": [
    "### Shallow Copy\n",
    "- `copy()` function comes from `copy` module.  There is also a copy list method, `.copy()`, that performs the same function.\n",
    "- `copy()` copies list (or other collection), creating a new list at a new memory location.  This new list can usually be modified w/OUT affecting the original.  This is analogous to \"changing\" strings and other immutable objects.  `copy()` is said to create a \"shallow\" copy of the original.\n",
    "    - The exception to this rule occurs if lists contain other \"nested\", \"inner\", or \"child\" collections.  Then the list is said to be \"compound\". If a shallow copy is made and the inner collection is changed on either the original OR the shallow copy, both the original AND the shallow copy change.  Changing the inner collections on one affects the other.   Shallow copies are PARTIALLY independent of the original.  "
   ]
  },
  {
   "cell_type": "markdown",
   "id": "49666ef9-e02f-4896-9312-4e0534583889",
   "metadata": {},
   "source": [
    "![](images/reference_4.jpg)"
   ]
  },
  {
   "cell_type": "markdown",
   "id": "36ed827f-5cb9-4709-9787-cd6018ba0b22",
   "metadata": {},
   "source": [
    "---"
   ]
  },
  {
   "cell_type": "markdown",
   "id": "dc640f76-1549-49c6-93e1-d5d81bd50eb7",
   "metadata": {},
   "source": [
    "**EXAMPLES**"
   ]
  },
  {
   "cell_type": "code",
   "execution_count": 7,
   "id": "68b4ab7d-c593-4bac-9440-31128e73bb70",
   "metadata": {},
   "outputs": [],
   "source": [
    "import copy"
   ]
  },
  {
   "cell_type": "markdown",
   "id": "f43d6a11-bfa2-4f9f-8b4d-69c21efbd91a",
   "metadata": {},
   "source": [
    "**Simple Example**"
   ]
  },
  {
   "cell_type": "code",
   "execution_count": 8,
   "id": "b07a7e9c-5e0b-4823-89aa-5023b05f7c75",
   "metadata": {},
   "outputs": [
    {
     "name": "stdout",
     "output_type": "stream",
     "text": [
      "['A', 'B', 'C', 'D']\n",
      "1564821401664\n",
      "['A', 'B', 'C', 'D']\n",
      "1564820602560\n"
     ]
    }
   ],
   "source": [
    "spam = ['A', 'B', 'C', 'D']\n",
    "cheese = copy.copy(spam)\n",
    "print(spam)\n",
    "print(id(spam))\n",
    "print(cheese)\n",
    "print(id(cheese))"
   ]
  },
  {
   "cell_type": "markdown",
   "id": "8650277c-e1b5-42cf-bdaa-85c3266c606c",
   "metadata": {},
   "source": [
    "- Now that we have two different objects at two different memory locations we can modify one without affecting the other"
   ]
  },
  {
   "cell_type": "code",
   "execution_count": 9,
   "id": "b770ac76-66b6-4dec-8da8-1a048509b6b0",
   "metadata": {},
   "outputs": [
    {
     "name": "stdout",
     "output_type": "stream",
     "text": [
      "['A', 'B', 'C', 'D']\n",
      "1564821401664\n",
      "['A', 42, 'C', 'D']\n",
      "1564820602560\n"
     ]
    }
   ],
   "source": [
    "cheese[1] = 42\n",
    "print(spam)\n",
    "print(id(spam))\n",
    "print(cheese)\n",
    "print(id(cheese))"
   ]
  },
  {
   "cell_type": "markdown",
   "id": "d40d03ca-c566-40a2-a8cf-74e0ef31ca3c",
   "metadata": {},
   "source": [
    "**\"Shallow\" Copy Example 1**\n",
    "- Notice that when the inner list changes, both the original outer list and shallow copy change"
   ]
  },
  {
   "cell_type": "code",
   "execution_count": 10,
   "id": "0d931ce4-fd8b-4e6c-81f1-9780f7dfc811",
   "metadata": {},
   "outputs": [
    {
     "name": "stdout",
     "output_type": "stream",
     "text": [
      "['a', 'b']\n",
      "[['a', 'b'], 1]\n",
      "[['a', 'b'], 1]\n",
      "[20, 'b']\n",
      "[[20, 'b'], 1]\n",
      "[[20, 'b'], 1]\n"
     ]
    }
   ],
   "source": [
    "inner = ['a','b']\n",
    "outer = [inner, 1]\n",
    "shallow = copy.copy(outer)\n",
    "print(inner)\n",
    "print(outer)\n",
    "print(shallow)\n",
    "\n",
    "inner[0] = 20\n",
    "print(inner)\n",
    "print(outer)\n",
    "print(shallow)"
   ]
  },
  {
   "cell_type": "markdown",
   "id": "45feef9d-c246-40af-a25f-7e266c3dfe51",
   "metadata": {},
   "source": [
    "**\"Shallow\" Copy Example 2**\n",
    "- We change the inner list by using the outer list and drilling down.  Notice that when the inner list changes, both the original outer list and shallow copy change.  This occurs no matter how we go about changing the inner list."
   ]
  },
  {
   "cell_type": "code",
   "execution_count": 11,
   "id": "d1c753a5-0d2a-4035-bfb4-cd11c4083d33",
   "metadata": {},
   "outputs": [
    {
     "name": "stdout",
     "output_type": "stream",
     "text": [
      "['a', 'b']\n",
      "[['a', 'b'], 1]\n",
      "[['a', 'b'], 1]\n",
      "[20, 'b']\n",
      "[[20, 'b'], 1]\n",
      "[[20, 'b'], 1]\n"
     ]
    }
   ],
   "source": [
    "inner = ['a','b']\n",
    "outer = [inner, 1]\n",
    "shallow = outer.copy()  # Can also use the copy method\n",
    "print(inner)\n",
    "print(outer)\n",
    "print(shallow)\n",
    "\n",
    "outer[0][0] = 20  # Another way to change inner list\n",
    "print(inner)\n",
    "print(outer)\n",
    "print(shallow)"
   ]
  },
  {
   "cell_type": "markdown",
   "id": "94876846-63e1-4e4f-b179-3d0e601f42f5",
   "metadata": {},
   "source": [
    "**\"Shallow\" Copy Example 3**\n",
    "- We change the inner list by using the shallow copy and drilling down.  Notice that when the inner list changes, both the original outer list and shallow copy change.  This occurs no matter how we go about changing the inner list."
   ]
  },
  {
   "cell_type": "code",
   "execution_count": 12,
   "id": "571c08cd-f825-408d-86e9-bf4f5b6e6b5e",
   "metadata": {},
   "outputs": [
    {
     "name": "stdout",
     "output_type": "stream",
     "text": [
      "['a', 'b']\n",
      "[['a', 'b'], 1]\n",
      "[['a', 'b'], 1]\n",
      "[20, 'b']\n",
      "[[20, 'b'], 1]\n",
      "[[20, 'b'], 1]\n"
     ]
    }
   ],
   "source": [
    "inner = ['a','b']\n",
    "outer = [inner, 1]\n",
    "shallow = outer.copy()\n",
    "print(inner)\n",
    "print(outer)\n",
    "print(shallow)\n",
    "\n",
    "shallow[0][0] = 20  # Another way to change  inner list\n",
    "print(inner)\n",
    "print(outer)\n",
    "print(shallow)"
   ]
  },
  {
   "cell_type": "markdown",
   "id": "44bc6885-6a73-4334-ab5d-a87588802db3",
   "metadata": {},
   "source": [
    "---"
   ]
  },
  {
   "cell_type": "markdown",
   "id": "d6ee2071-3998-4ecf-a403-973aa026f803",
   "metadata": {
    "tags": []
   },
   "source": [
    "### Deep Copy\n",
    "- `deepcopy()` function comes from `copy` module\n",
    "- `deepcopy()` copies list, creating new list.  This is a \"deep copy\".  Changing either list has no affect on the other.  Deep copies are COMPLETELY INDEPENDENT of the original."
   ]
  },
  {
   "cell_type": "markdown",
   "id": "5f0ae002-e502-4293-8f2a-626f72ddf73c",
   "metadata": {},
   "source": [
    "---"
   ]
  },
  {
   "cell_type": "markdown",
   "id": "ae281597-4ed2-42dd-9f0d-876d0233a795",
   "metadata": {},
   "source": [
    "**EXAMPLES**"
   ]
  },
  {
   "cell_type": "markdown",
   "id": "9b5dc18e-19c6-4f4e-93c3-01ac7bcec854",
   "metadata": {},
   "source": [
    "**Simple Example**\n",
    "- Notice that `deepcopy()` and `copy()` behave the same when there are no nested collections.  I.e. a \"flat\" list."
   ]
  },
  {
   "cell_type": "code",
   "execution_count": 13,
   "id": "96ebcf0b-4fb3-4af8-b8c4-102aaa434047",
   "metadata": {},
   "outputs": [
    {
     "name": "stdout",
     "output_type": "stream",
     "text": [
      "['A', 'B', 'C', 'D']\n",
      "1564821404672\n",
      "['A', 'B', 'C', 'D']\n",
      "1564821382912\n"
     ]
    }
   ],
   "source": [
    "spam = ['A', 'B', 'C', 'D']\n",
    "cheese = copy.deepcopy(spam)\n",
    "print(spam)\n",
    "print(id(spam))\n",
    "print(cheese)\n",
    "print(id(cheese))"
   ]
  },
  {
   "cell_type": "markdown",
   "id": "12379460-2c2c-443d-bb03-b77329bdfeb2",
   "metadata": {},
   "source": [
    "- Now that we have two different objects at two different memory locations we can modify one without affecting the other"
   ]
  },
  {
   "cell_type": "code",
   "execution_count": 14,
   "id": "e9fb7e77-3023-46de-833f-fc77b12febf5",
   "metadata": {},
   "outputs": [
    {
     "name": "stdout",
     "output_type": "stream",
     "text": [
      "['A', 'B', 'C', 'D']\n",
      "1564821404672\n",
      "['A', 42, 'C', 'D']\n",
      "1564821382912\n"
     ]
    }
   ],
   "source": [
    "cheese[1] = 42\n",
    "print(spam)\n",
    "print(id(spam))\n",
    "print(cheese)\n",
    "print(id(cheese))"
   ]
  },
  {
   "cell_type": "markdown",
   "id": "47662d74-9568-473c-87e5-21a038d7e356",
   "metadata": {},
   "source": [
    "**\"Deep\" Copy Example 1**\n",
    "- Notice that when the inner list changes, the outer list changes.  The deep copy does NOT change."
   ]
  },
  {
   "cell_type": "code",
   "execution_count": 15,
   "id": "837edb2c-725c-49c0-b921-1219c2f0d582",
   "metadata": {},
   "outputs": [
    {
     "name": "stdout",
     "output_type": "stream",
     "text": [
      "['a', 'b']\n",
      "[['a', 'b'], 1]\n",
      "[['a', 'b'], 1]\n",
      "[20, 'b']\n",
      "[[20, 'b'], 1]\n",
      "[['a', 'b'], 1]\n"
     ]
    }
   ],
   "source": [
    "inner = ['a','b']\n",
    "outer = [inner, 1]\n",
    "deep = copy.deepcopy(outer)\n",
    "print(inner)\n",
    "print(outer)\n",
    "print(deep)\n",
    "\n",
    "inner[0] = 20\n",
    "print(inner)\n",
    "print(outer)\n",
    "print(deep)"
   ]
  },
  {
   "cell_type": "markdown",
   "id": "6c2cdc20-8182-4a1e-b091-b4c63c3f9297",
   "metadata": {},
   "source": [
    "**\"Deep\" Copy Example 2**\n",
    "- We change the inner list by using the outer list and drilling down.  Notice that when the inner list changes, the outer list changes.  The deep copy does NOT change."
   ]
  },
  {
   "cell_type": "code",
   "execution_count": 16,
   "id": "c5228353-8d2a-40af-a21f-9c60870ad635",
   "metadata": {},
   "outputs": [
    {
     "name": "stdout",
     "output_type": "stream",
     "text": [
      "['a', 'b']\n",
      "[['a', 'b'], 1]\n",
      "[['a', 'b'], 1]\n",
      "[20, 'b']\n",
      "[[20, 'b'], 1]\n",
      "[['a', 'b'], 1]\n"
     ]
    }
   ],
   "source": [
    "inner = ['a','b']\n",
    "outer = [inner, 1]\n",
    "deep = copy.deepcopy(outer)\n",
    "print(inner)\n",
    "print(outer)\n",
    "print(deep)\n",
    "\n",
    "outer[0][0] = 20  # Drill down through outer to change inner\n",
    "print(inner)\n",
    "print(outer)\n",
    "print(deep)"
   ]
  },
  {
   "cell_type": "markdown",
   "id": "ee986077-c149-4769-91f5-fb4b9db5c447",
   "metadata": {},
   "source": [
    "**\"Deep\" Copy Example 3**\n",
    "- We change the deep copy inner list by using the deep copy and drilling down.  Notice that when the deep copy inner list changes, only the deep copy changes.  The original inner list and outer list do NOT change.\n",
    "- I believe the deep copy inner list no longer has a variable name.  This is because we keep the variable name for the original inner list and we could not have the same global variable name referencing two objects."
   ]
  },
  {
   "cell_type": "code",
   "execution_count": 17,
   "id": "808ef2a0-65e5-4462-b2a4-98e450fd0f6f",
   "metadata": {},
   "outputs": [
    {
     "name": "stdout",
     "output_type": "stream",
     "text": [
      "['a', 'b']\n",
      "[['a', 'b'], 1]\n",
      "[['a', 'b'], 1]\n",
      "['a', 'b']\n",
      "[['a', 'b'], 1]\n",
      "[[20, 'b'], 1]\n"
     ]
    }
   ],
   "source": [
    "inner = ['a','b']\n",
    "outer = [inner, 1]\n",
    "deep = copy.deepcopy(outer)\n",
    "print(inner)\n",
    "print(outer)\n",
    "print(deep)\n",
    "\n",
    "deep[0][0] = 20  # Drill down through deep copy\n",
    "print(inner)\n",
    "print(outer)\n",
    "print(deep)"
   ]
  },
  {
   "cell_type": "markdown",
   "id": "31fe9fa2-50da-43df-8376-6e47b206ac07",
   "metadata": {},
   "source": [
    "## \"Fun\" Fact"
   ]
  },
  {
   "cell_type": "markdown",
   "id": "f161330c-9431-4641-8cba-de04a49178dd",
   "metadata": {},
   "source": [
    "**id() Fun Fact**"
   ]
  },
  {
   "cell_type": "markdown",
   "id": "b678cb82-4678-4fd5-ac8c-bf2712bf233c",
   "metadata": {},
   "source": [
    "- Normally, when the same value is saved at different times, these values occupy different memory locations"
   ]
  },
  {
   "cell_type": "code",
   "execution_count": 18,
   "id": "4f743a09-9ebb-46bf-bfea-afb960f5d4e1",
   "metadata": {},
   "outputs": [
    {
     "name": "stdout",
     "output_type": "stream",
     "text": [
      "1564821495920\n",
      "1564821496048\n"
     ]
    }
   ],
   "source": [
    "a = 257\n",
    "b = 257\n",
    "print(id(a))\n",
    "print(id(b))"
   ]
  },
  {
   "cell_type": "markdown",
   "id": "4fd627cf-5774-41e8-a453-299dd19b31fa",
   "metadata": {},
   "source": [
    "- The exception to this rule are numbers -5 through 256.  They are used so frequently that they always occupy a specific spot in the memory, regardless of when they are used in an assignment statement.  Same with None."
   ]
  },
  {
   "cell_type": "code",
   "execution_count": 19,
   "id": "99c66b71-8cec-472e-9e85-84705137a977",
   "metadata": {},
   "outputs": [
    {
     "name": "stdout",
     "output_type": "stream",
     "text": [
      "1564740315536\n",
      "1564740315536\n",
      "140705776233152\n",
      "140705776233152\n"
     ]
    }
   ],
   "source": [
    "a = 256\n",
    "b = 256\n",
    "print(id(a))\n",
    "print(id(b))\n",
    "a = None\n",
    "b = None\n",
    "print(id(a))\n",
    "print(id(b))"
   ]
  },
  {
   "cell_type": "markdown",
   "id": "d8b6144c-7bbc-4f14-8bb0-1bd197b9787e",
   "metadata": {},
   "source": [
    "---"
   ]
  }
 ],
 "metadata": {
  "kernelspec": {
   "display_name": "Python 3 (ipykernel)",
   "language": "python",
   "name": "python3"
  },
  "language_info": {
   "codemirror_mode": {
    "name": "ipython",
    "version": 3
   },
   "file_extension": ".py",
   "mimetype": "text/x-python",
   "name": "python",
   "nbconvert_exporter": "python",
   "pygments_lexer": "ipython3",
   "version": "3.9.9"
  }
 },
 "nbformat": 4,
 "nbformat_minor": 5
}
