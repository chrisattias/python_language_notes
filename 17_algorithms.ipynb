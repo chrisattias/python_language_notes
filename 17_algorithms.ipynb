{
 "cells": [
  {
   "cell_type": "markdown",
   "id": "532040f2-f9b9-4465-8aae-428c8de83cb8",
   "metadata": {},
   "source": [
    "# Algorithms\n",
    "\n",
    "- **Algorithm**--step by step instructions for accomplishing a task\n",
    "    - E.g. steps for baking cake, steps for solving Rubik's cube, steps for sorting a list of items alphabetically\n",
    "- Algorithms can be implemented with Python code\n",
    "- For most common tasks, algorithms have already been implemented as Python code.  These are Python functions and methods.  Every Python function and method is an algorithm!  Do we want to sum numbers?  That algorithm is implemented in`sum()`.  Do we want to sort a list alphabetically?  That algorithm is implemented in `sorted()`...\n",
    "- Different algorithms can solve the same problem with different steps.  I.e. different Python functions may accomplish the same task with different lines of code.  Some functions will be faster and others will be slower.  Measuring the relative speed of algorithms is covered in big O algorithm analysis.  This will be covered first.\n",
    "- For more abstract problems, an advanced knowledge of algorithms can help us solve problems we would not otherwise know how to solve.  Certain types of problems have well known algorithms to solve them.  We just have to be able to recognize the problem type, apply the correct algorithm, and implement it in Python code."
   ]
  },
  {
   "cell_type": "markdown",
   "id": "3544ac14-0fcc-4ff2-a4ac-a9744b3feb50",
   "metadata": {},
   "source": [
    "---"
   ]
  },
  {
   "cell_type": "markdown",
   "id": "9d7493c9-cd89-46f6-8188-e945f2781e12",
   "metadata": {},
   "source": [
    "## Big O Algorithm Analysis\n",
    "\n",
    "- Big O algorithm analysis is a compliment to profiling that can help programmers write faster programs\n",
    "- **Big O Algorithm Analysis**--\"how code slows as data grows\".  Theory that describes how code structure runtime increases as the amount of data processed increases.  It is called big O because notation uses an \"O\" to describe different \"orders\".  \n",
    "- **Orders**--levels of speed\n",
    "- Orders are differentiated using names and/or function grammar. In the function the \"O\" stands for order.  The \"n\" represents the size of the data input.  The function output is unitless, but can be thought of as the runtime or the number of steps (operations) that must be taken for each algorithm to complete.\n",
    "    - E.g. Name of order is linear time.  Function notation is O(n). Function can be read, \"big O of n\"\n",
    "- We'll write the orders from fastest to slowest.  These are the most commonly used orders, but there are others.\n",
    "- For each order we'll provide:\n",
    "    1. A mathematical example.  **Note that in programming it is often assumed that logarithms use a base of 2.**  We'll use \"8\" as the data size in examples as it provides easy math with base 2 logarithms.  \n",
    "    1. The general programming idea\n",
    "    1. A bookshelf metaphor where the number of books represents the data size    \n",
    "1. **O(1), Constant Time**\n",
    "    - Math example: 1\n",
    "    - General idea: runtime is not affected by data size.  Runtime is constant. Sometimes written as O(c), where \"c\" stands for constant.\n",
    "    - Bookshelf example: code checks if any books on bookshelf (0 books vs 1 or more books) and then stops.  This is 1 step.\n",
    "1. **O(log n), Logarithmic Time**\n",
    "    - Math example: log(8) = 3\n",
    "    - General idea: logarithmic relationship is the inverse of exponential.  Seen in the binary search algorithm.\n",
    "    - Bookshelf example: code searches for a specified book in alphabetized bookshelf.  Starts checking in the middle of the shelf.  If that is the book, it's done.  This is step 1.  Otherwise, determines if book starts with a higher or lower letter.  Checks the middle of that half.  If that is the book, it's done.  This is step 2. Etc...   This is a binary search algorithm.  Number of splits = number of steps.  If 8 books, 3 splits = 3 steps.\n",
    "1. **O(n), Linear Time**\n",
    "    - Math example:. 8 = 8\n",
    "    - General idea: code loops over the data once.  Seen in for loops and \"simple search\".  A simple search is where we try every possible item to identify correct one.\n",
    "    - Bookshelf example: code reads all the books in the bookshelf.  If 8 books, 8 steps.\n",
    "1. **O(n log n), N-Log-N Time**\n",
    "    - Math example: 8 log(8) = 24\n",
    "    - General idea: seen in fast sorting algorithms like quicksort, merge sort, heapsort, and Timsort\n",
    "    - Bookshelf example: code sorts the books into alphabetical order.  Follows steps for binary search algorithm to place a single book on the bookshelf in the correct place.  Repeat steps for each book. If 8 books, 3 splits = 3 steps.  Repeat for each of 8 books.  3 x 8 = 24 steps.\n",
    "1. **O(n^2), Quadratic Time**\n",
    "    - Math example: 8^2 = 64\n",
    "    - General idea: n raised to a small integer.  It may be quadratic (n^2), cubic (n^3), etc.  For this reason it is also called polynomial time.  Seen in nested for loops. Seen in slow sorting algorithms like selection sort, bubble sort, and insertion sort. \n",
    "    - Bookshelf example: code checks for duplicate books on an unsorted bookshelf.  If 8 books, starts with the first book and compares it with the other 7 books to see if they are the same.  This takes 7, ~8 steps.  Repeat for each of 8 books. 8+8+8+8+8+8+8+8 =  8 x 8 = 64 steps.\n",
    "1. **O(2^n), Exponential Time**\n",
    "    - Math example: 2^8 = 256\n",
    "    - General idea: find quantity of unique combinations.  Each combination does not have to use all elements.  Must not use any individual element more than once (selection without replacement).  Permutations of bits (think ASCII) also follows exponential time, but this is a bit different than the example here.\n",
    "    - Bookshelf example: code finds combinations of books.  If 3 books in total, named A, B, and C we could have no books, A, B, C, AB, AC, BC, and ABC.  2^3 = 8.  If 8 books in total, 2^8 = 256. 256 steps.\n",
    "1. **O(n!), Factorial Time**\n",
    "    - Math example: 8! = 40,320\n",
    "    - General idea: find quantity of unique permutations.  Each permutation must use all elements.  Must not use any individual elements more than once (selection without replacement).  Permutations are combinations where element position matters.  Seen in traveling sales person.\n",
    "    - Bookshelf example: code finds permutations of books.  If 3 books in total, named A, B, and C, we could have ABC, ACB, BAC, BCA, CAB, or CBA.  We can also use the idea of selection without replacement.  There are 3 book options for the first slot, two book options for the second slot, and 1 book option for the third.  3x2x1 = 6.  If 8 books in total, 8x7x6x5x4x3x2x1 = 40,320 permutations.  Each permutation must be searched, so for 8 books = 40,320 steps.\n",
    "\n",
    "![](images/big_o.jpg)\n",
    "\n",
    "- **Worst case scenario**--largest possible number of steps an algorithm may take to complete\n",
    "- In big O analysis, if not otherwise stated, it should be assumed that an order is is referring to an algorithm's worst case.\n",
    "     - E.g. in a search algorithm we may get lucky and select the correct item on the first try or it may take until the last possible try.  Big O assumes the latter.\n",
    "- **Average case scenario**--average number of steps an algorithm takes to complete\n",
    "- There are times when we may choose to compare average cases.  Two algorithms may solve the same problem.  One may have a lower average number of steps, but also a higher number of steps in the worst case scenario.  If the latter is acceptable, then we may choose the algorithm with the lower average.\n",
    "- Steps for applying big O algorithm analysis to real-world code:\n",
    "    1. Identify n.  Often argument in function.\n",
    "    1. Count steps in code.  This is not an exact measurement, only an approximation.  Each line of code is counted as a step.  Within loops, each line of code should be multiplied by the number of iterations.\n",
    "    1. Drop lower orders.  These are not impactful when compared to highest order.\n",
    "    1. Drop coefficients of highest order.  Coefficients are only impactful when comparing algorithms of the same order.\n",
    "- Big picture ideas include:\n",
    "    1. The jump from O(n log n) to O(n^2) is the largest runtime difference and much of big O analysis revolves around recognizing algorithms with O(n^2) or higher orders and modifying them (or choosing new algorithms) so they are are O(n log n) or lower orders.\n",
    "    1. Big O analysis only matters if the size of the data is very large...and usually it is not!"
   ]
  },
  {
   "cell_type": "markdown",
   "id": "d5ce96e0-c59d-47cf-b543-d39492273707",
   "metadata": {},
   "source": [
    "---"
   ]
  },
  {
   "cell_type": "markdown",
   "id": "bc611437-44af-4efb-ac7d-3f0b8395fe7c",
   "metadata": {},
   "source": [
    "**EXAMPLES**"
   ]
  },
  {
   "cell_type": "markdown",
   "id": "9d017fd9-3579-4614-8477-7820e5175a58",
   "metadata": {},
   "source": [
    "**Example 1**"
   ]
  },
  {
   "cell_type": "markdown",
   "id": "cfe93c9b-1937-448a-83d2-e289d4c90df9",
   "metadata": {},
   "source": [
    "```python\n",
    "def readingList(books):\n",
    "    print('Here are the books I will read:')  # 1 step\n",
    "    numberOfBooks = 0                     # 1 step\n",
    "    for book in books:                    # n x steps in loop\n",
    "        print(book)                       # 1 step\n",
    "        numberOfBooks += 1                # 1 step\n",
    "    print(numberOfBooks, 'books total.')  # 1 step\n",
    "```\n",
    "1. Identify n.  N is books.\n",
    "1. Count steps.  2n + 3.  2n can be thought of as (2 x n^1) while 3 can be thought of as (3 x n^0).\n",
    "1. Drop lower orders.  Drop the 3.  \n",
    "1. Drop coefficients.  Drop the 2, leaving n.  O(n)."
   ]
  },
  {
   "cell_type": "markdown",
   "id": "6ce6460d-ff90-4585-9487-cf8456023922",
   "metadata": {},
   "source": [
    "**Example 2**"
   ]
  },
  {
   "cell_type": "markdown",
   "id": "c5a89b0b-dcb2-4495-a5ab-9b14638d5618",
   "metadata": {},
   "source": [
    "```python\n",
    "def iLoveBooks(books):\n",
    "    for i in range(10):              # 10 x steps in the loop\n",
    "        print('I LOVE BOOKS!!!')     # 1 step\n",
    "        print('BOOKS ARE GREAT!!!')  # 1 step\n",
    "```\n",
    "1. Identify n.  N is 10, not books.\n",
    "1. Count steps.  20 x n^0\n",
    "1. Drop lower orders.  Nothing to drop.\n",
    "1. Drop coefficients.  Drop 20, leaving 1.  O(1)."
   ]
  },
  {
   "cell_type": "markdown",
   "id": "c20bf6a3-d707-4034-aa36-a3ef83d9e26f",
   "metadata": {},
   "source": [
    "**Example 3**"
   ]
  },
  {
   "cell_type": "markdown",
   "id": "7e49f5e6-dadb-4cb8-a421-2ee71f7d49c5",
   "metadata": {},
   "source": [
    "```python\n",
    "def cheerForFavoriteBook(books, favorite):\n",
    "    for book in books:                            # n x steps in the loop\n",
    "        print(book)                               # 1 step\n",
    "        if book == favorite:                      # 1 step\n",
    "            for i in range(100):                  # 100 x steps in the loop\n",
    "                print('THIS IS A GREAT BOOK!!!')  # 1 step\n",
    "```\n",
    "1. Identify n.  N is books.\n",
    "1. Count steps. 2n + 100n = 102n.\n",
    "1. Drop lower orders.  None to drop.\n",
    "1. Drop coefficients.  Drop 102, leaving n.  O(n)."
   ]
  },
  {
   "cell_type": "markdown",
   "id": "46e5387c-3e85-4806-8c82-cb6bf59a10b7",
   "metadata": {},
   "source": [
    "**Example 4**"
   ]
  },
  {
   "cell_type": "markdown",
   "id": "ac603fc7-a050-4c97-81e0-59d5b363fe09",
   "metadata": {},
   "source": [
    "```python\n",
    "def findDuplicateBooks(books):\n",
    "    for i in range(books):                     # n steps\n",
    "        for j in range(i + 1, books):          # n steps\n",
    "            if books[i] == books[j]:           # 1 step\n",
    "                print('Duplicate:', books[i])  # 1 step\n",
    "```\n",
    "1. Identify n.  N is books.\n",
    "1. Count steps. n + (2n x n) = 2n^2 + n .\n",
    "1. Drop lower orders.  Drop n.\n",
    "1. Drop coefficients.  Drop 2, leaving n^2.  O(n^2)."
   ]
  },
  {
   "cell_type": "markdown",
   "id": "f47c33dc-e85a-4c81-8ce9-c49e4ab5c9b0",
   "metadata": {},
   "source": [
    "**Example 5**"
   ]
  },
  {
   "cell_type": "markdown",
   "id": "ba8f6cda-dfb1-4e29-81a7-3575471cf938",
   "metadata": {},
   "source": [
    "```python\n",
    "def binarySearch(needle, haystack):\n",
    "    if not len(haystack):                        # 1 step\n",
    "        return None                              # 1 step\n",
    "    startIndex = 0                               # 1 step\n",
    "    endIndex = len(haystack) - 1                 # 1 step\n",
    "\n",
    "    haystack.sort()                              # ??? steps = n log n (have to look this up for Python)\n",
    "\n",
    "    while start <= end:  # ??? = This whole wile loop is a binary search algorithm, which makes it log(n).\n",
    "        midIndex = (startIndex + endIndex) // 2  # 1 step\n",
    "        if haystack[midIndex] == needle:         # 1 step\n",
    "            # Found the needle.\n",
    "            return midIndex                      # 1 step\n",
    "        elif needle < haystack[midIndex]:        # 1 step\n",
    "            # Search the previous half.\n",
    "            endIndex = midIndex - 1              # 1 step\n",
    "        elif needle > haystack[mid]:             # 1 step\n",
    "            # Search the latter half.\n",
    "            startIndex = midIndex + 1            # 1 step\n",
    "```\n",
    "1. Identify n.  N is haystack.\n",
    "1. Count steps. (n log n) + (log n) + various steps.\n",
    "1. Drop lower orders.  Drop (log n) and various steps.\n",
    "1. Drop coefficients.  Drop nothing, leaving (n log n).  O(n log n)."
   ]
  },
  {
   "cell_type": "markdown",
   "id": "f07d7088-5acf-4836-8ab1-8e617a2ed39c",
   "metadata": {},
   "source": [
    "---"
   ]
  },
  {
   "cell_type": "markdown",
   "id": "b8a86117-334c-477c-8f13-d4b9533d53a2",
   "metadata": {},
   "source": [
    "## Data Structures\n",
    "- **Data structure**--strategy for storing collections of elements in computer memory\n",
    "- A few common abstract families of data structures are:\n",
    "    1. **Array**--items stored in single contiguous block in computer memory\n",
    "        - To read item, can jump straight to index position.  Fast.  Constant time, O(1).\n",
    "        - To insert or delete item, must shift every item in a chunk over.  Slow.  Linear time, O(n).\n",
    "    1. **Linked-lists**--items can be stored anywhere in computer memory.  A single item points to the previous item and the next item in the linked-list.\n",
    "        - To read item, must start at first item and go through each item until the correct index is reached.  Slow.  Linear time, O(n).\n",
    "        - To insert or delete item, only need to edit a single item and adjust pointers.  Fast.  Constant time, O(n)\n",
    "    1. **Hash tables**--items stored as key:value pairs. An immutable key is hashed to a position in an array, which stores the value.  In Python, hash tables are called dictionaries.\n",
    "        - Fast to read, insert, and delete on average, but can be slow in worst case scenarios\n",
    "        - Good for mapping relationships, checking for duplicates, and caching\n",
    "- The image below shows how arrays and linked lists differ\n",
    "\n",
    "![](images/array_linked_list.png)\n",
    "\n",
    "- The following table compares the speeds of different data structures:\n",
    "\n",
    "Data Structure | Read | Insert or Delete\n",
    "--- | --- | ---\n",
    "Array | O(1) | O(n)\n",
    "Linked-list | O(n) | O(1)\n",
    "Hash table (average case) | O(1) | O(1)\n",
    "Hash table (worst case) | O(n) | O(n)\n",
    "\n",
    "- In practice, terminology and implementation for data structures varies between programming languages.  Some data structures even combine the concepts of arrays and linked lists.\n",
    "- Despite this fuzziness, it is common to use the term \"array\" when talking about algorithms.  We'll use the term array, even if the data structure in an example is actually a Python list."
   ]
  },
  {
   "cell_type": "markdown",
   "id": "8c9a39a9-ede9-46f6-9c2e-29f7fbe45236",
   "metadata": {},
   "source": [
    "---"
   ]
  },
  {
   "cell_type": "markdown",
   "id": "93baeeb0-aad6-409c-836c-2aeac81649ff",
   "metadata": {
    "tags": []
   },
   "source": [
    "## Binary Search\n",
    "- **Binary search**--returns the index position of a specified item by implementing a binary search algorithm on an array.  \n",
    "- Only works on an ordered/sorted array\n",
    "- Typically returns a null value if specified item is not in the array\n",
    "- Binary search is logarithmic time.  O(log n)."
   ]
  },
  {
   "cell_type": "markdown",
   "id": "a2868e68-d684-4b5c-a750-09756d40c3aa",
   "metadata": {},
   "source": [
    "---"
   ]
  },
  {
   "cell_type": "markdown",
   "id": "b72ee065-33bd-4d87-a8b3-1bd3d357b541",
   "metadata": {},
   "source": [
    "**EXAMPLES**"
   ]
  },
  {
   "cell_type": "code",
   "execution_count": 1,
   "id": "6d7115d8-94f2-4760-a35a-3fa4942b926c",
   "metadata": {},
   "outputs": [],
   "source": [
    "def binary_search(sorted_array, specified_item):\n",
    "    \"\"\"Find index position of specified item by using a binary search algorithm.\n",
    "   \n",
    "   This function is kept short for learning purposes.\n",
    "   The array must be sorted already or function behaves illogically.\n",
    "   The item must be in the array or function enters infinite loop.\n",
    "   \n",
    "   Parameters\n",
    "    ----------\n",
    "    sorted_array : array-like sequence\n",
    "        Array of items to search.  Must be sorted.\n",
    "    specified_item\n",
    "        The item we are searching for.  Must be in array.\n",
    "    \n",
    "    Returns\n",
    "    -------\n",
    "    item_index : int\n",
    "        The specified items's index position within the sorted array.\n",
    "    \"\"\"  \n",
    "    \n",
    "    lower_index = 0 \n",
    "    upper_index = len(sorted_array) - 1\n",
    "      \n",
    "    while True:\n",
    "        #  Make guess by choosing middle value in array\n",
    "        middle_index = (lower_index + upper_index)  // 2\n",
    "        guess = sorted_array[middle_index]\n",
    "        if specified_item == guess:  # Did we guess right?\n",
    "            item_index = middle_index  # More descriptive name\n",
    "            break\n",
    "        # Cut possibilities in half   \n",
    "        elif specified_item > guess:\n",
    "            lower_index = middle_index + 1\n",
    "            # Upper index stays the same.\n",
    "        elif specified_item < guess:\n",
    "            # Lower index stays the same.\n",
    "            upper_index = middle_index - 1\n",
    "            \n",
    "    return item_index"
   ]
  },
  {
   "cell_type": "code",
   "execution_count": 2,
   "id": "4c724b81-f7a7-4e39-84ad-e7a810290cef",
   "metadata": {},
   "outputs": [
    {
     "name": "stdout",
     "output_type": "stream",
     "text": [
      "Item index is: 2\n"
     ]
    }
   ],
   "source": [
    "my_sorted_array = ['a', 'b', 'c', 'd', 'e']\n",
    "my_specified_item = 'c'\n",
    "\n",
    "item_index = binary_search(my_sorted_array, my_specified_item)\n",
    "print(f\"Item index is: {item_index}\")"
   ]
  },
  {
   "cell_type": "code",
   "execution_count": 3,
   "id": "353fd303-9037-4176-8d87-b5d40fe9ec25",
   "metadata": {},
   "outputs": [
    {
     "name": "stdout",
     "output_type": "stream",
     "text": [
      "Item index is: 2\n"
     ]
    }
   ],
   "source": [
    "my_sorted_array = [1, 2, 3, 4, 5, 6, 7, 8, 9, 10]\n",
    "my_specified_item = 3\n",
    "\n",
    "item_index = binary_search(my_sorted_array, my_specified_item)\n",
    "print(f\"Item index is: {item_index}\")"
   ]
  },
  {
   "cell_type": "markdown",
   "id": "9edf8dec-3e61-4612-95d8-093d2ca39acf",
   "metadata": {},
   "source": [
    "---"
   ]
  },
  {
   "cell_type": "markdown",
   "id": "3eb12489-251f-480a-91ba-6aac8dcc45e2",
   "metadata": {},
   "source": [
    "## Selection Sort"
   ]
  },
  {
   "cell_type": "markdown",
   "id": "54870709-9dcf-43af-946c-723cb577d36d",
   "metadata": {},
   "source": [
    "- **Selection Sort**--sort using two for loops.  The inner for loop finds the smallest item in the array.  The outer for loop is used to delete items from the original array and append them to a new array.  Non-recursive.\n",
    "- Selection sort is quadratic time. O(n^2).  Selection sort slower than other sorts like Timsort.\n",
    "- We cover selection sort as it provides a gentle introduction to sorting algorithms"
   ]
  },
  {
   "cell_type": "markdown",
   "id": "9195ecfb-4f58-4116-9f96-48c70d35872f",
   "metadata": {},
   "source": [
    "---"
   ]
  },
  {
   "cell_type": "markdown",
   "id": "168baadc-81cf-4569-b4a6-e4a37b8de663",
   "metadata": {},
   "source": [
    "**EXAMPLES**"
   ]
  },
  {
   "cell_type": "code",
   "execution_count": 4,
   "id": "c5cdcf8a-3a84-4e3d-9840-d9f955b477fa",
   "metadata": {},
   "outputs": [
    {
     "name": "stdout",
     "output_type": "stream",
     "text": [
      "[2, 3, 5, 6, 10]\n"
     ]
    }
   ],
   "source": [
    "def find_index_of_lowest(original_array):\n",
    "    \"\"\"Find index position of item with lowest value.\"\"\"\n",
    "    lowest_item = original_array[0]\n",
    "    index_of_lowest = 0\n",
    "    for i, item in enumerate(original_array):\n",
    "        if item < lowest_item:\n",
    "            lowest_item = item\n",
    "            index_of_lowest = i\n",
    "    return index_of_lowest\n",
    "\n",
    "\n",
    "def selection_sort(original_array):\n",
    "    \"\"\"Selection sort array-like sequence, returning new array.\n",
    "    \n",
    "    This function works, but with a minor tweak becomes buggyy.\n",
    "    If we loop over range(len(original_array)) then it works.\n",
    "    This is because we are NOT looping over the original array as we delete items.\n",
    "    If we were to loop over the original array it becomes buggy.\n",
    "    \"\"\"\n",
    "    new_array = []\n",
    "    \n",
    "    for i in range(len(original_array)):\n",
    "        # Find lowest\n",
    "        index_of_lowest = find_index_of_lowest(original_array)\n",
    "        # Delete lowest from original array and add to new array\n",
    "        new_array.append(original_array.pop(index_of_lowest))  \n",
    "    return new_array\n",
    "\n",
    "print(selection_sort([5, 3, 6, 2, 10]))"
   ]
  },
  {
   "cell_type": "markdown",
   "id": "7578a77e-5a38-4bc6-babb-a0277fc2f84b",
   "metadata": {},
   "source": [
    "---"
   ]
  },
  {
   "cell_type": "markdown",
   "id": "714ac2ad-4658-448b-8571-7ab660789155",
   "metadata": {
    "tags": []
   },
   "source": [
    "## Recursion\n",
    "\n",
    "- **Recursive Function**--function that calls itself in its own function definition\n",
    "- **Base case**--conditional statement where recursive function is not called and function ends\n",
    "- **Recursive case**--conditional statement where recursive function is called\n",
    "- Like while loops, it is important to always increment or decrement recursive functions\n",
    "- Unlike while loops, each recursive case pushes the function call to the call stack.  These recursive function calls do not begin to be popped from the call stack until the base case is reached.  If we do not increment or decrement, there will not be a base case.  The call stack will keep growing until there is stack overflow or a related error!\n",
    "- **Depth limit**--limit to the number of recursive function calls.  When the depth limit is reached an error message is triggered.  This prevents infinite recursion from causing a stack overflow.  The default depth limit in Python is about 1000. \n",
    "- There are often multiple possible implementations to complete a task such as while loops, for loops, and recursion\n",
    "- Recursive pros:\n",
    "    - More concise\n",
    "    - Easier to read and write for programmers with a functional programming background\n",
    "- Recursive cons\n",
    "    - Much harder to read and write for beginner to intermediate programmers with an object oriented programming background\n",
    "    - Provides less informative traceback messages and harder to debug\n",
    "    - Less memory efficient as recursive function calls take up space on the call stack\n",
    "    - Slightly slower, but speed difference is often negligible\n",
    "- In Python, while loops and for loops are often preferable to recursion.  There are certain use cases for recursion such as traversing data stored in a tree-like structure.\n",
    "- Recursion is also used in certain algorithms like quick sort and depth first searches for graphs"
   ]
  },
  {
   "cell_type": "markdown",
   "id": "57a1eeda-6f7a-4cf5-81bb-72788e55e5c4",
   "metadata": {},
   "source": [
    "---"
   ]
  },
  {
   "cell_type": "markdown",
   "id": "3a3a136b-b13c-468d-8636-e2111b1d8b69",
   "metadata": {},
   "source": [
    "**EXAMPLES**"
   ]
  },
  {
   "cell_type": "markdown",
   "id": "82059b64-c491-4aa0-9c50-38b814a0da3c",
   "metadata": {},
   "source": [
    "**Countdown**"
   ]
  },
  {
   "cell_type": "code",
   "execution_count": 5,
   "id": "da811e24-57a2-440c-aecf-5e7ba11f6284",
   "metadata": {},
   "outputs": [
    {
     "name": "stdout",
     "output_type": "stream",
     "text": [
      "5\n",
      "4\n",
      "3\n",
      "2\n",
      "1\n"
     ]
    }
   ],
   "source": [
    "def countdown_while_loop(number):\n",
    "    while number >= 1:\n",
    "        print(number)\n",
    "        number -= 1\n",
    "        \n",
    "countdown_while_loop(5) "
   ]
  },
  {
   "cell_type": "code",
   "execution_count": 6,
   "id": "95a71454-cac7-4ab2-ab47-a4cec05aace4",
   "metadata": {},
   "outputs": [
    {
     "name": "stdout",
     "output_type": "stream",
     "text": [
      "5\n",
      "4\n",
      "3\n",
      "2\n",
      "1\n"
     ]
    }
   ],
   "source": [
    "def countdown_for_loop(number):\n",
    "    countdown_range = range(number, 0, -1)  # Negative step\n",
    "    for number in countdown_range:\n",
    "        print(number)\n",
    "\n",
    "countdown_for_loop(5) "
   ]
  },
  {
   "cell_type": "code",
   "execution_count": 7,
   "id": "b1df26c7-4351-4cab-9980-e52ec1394f5f",
   "metadata": {},
   "outputs": [
    {
     "name": "stdout",
     "output_type": "stream",
     "text": [
      "5\n",
      "4\n",
      "3\n",
      "2\n",
      "1\n"
     ]
    }
   ],
   "source": [
    "def countdown_recursion(number):\n",
    "    print(number)\n",
    "    if number <= 1:  # Base case.\n",
    "        return\n",
    "    else:  # Recursive case.\n",
    "        countdown_recursion(number - 1)  \n",
    "\n",
    "countdown_recursion(5)"
   ]
  },
  {
   "cell_type": "markdown",
   "id": "5c763ba5-5eec-478e-8295-41b4642bc180",
   "metadata": {},
   "source": [
    "**Factorial**"
   ]
  },
  {
   "cell_type": "code",
   "execution_count": 8,
   "id": "551dc048-c123-46f6-bd76-65619f040c4f",
   "metadata": {},
   "outputs": [
    {
     "name": "stdout",
     "output_type": "stream",
     "text": [
      "120\n"
     ]
    }
   ],
   "source": [
    "def factorial_while_loop(number):\n",
    "    total = 1\n",
    "    while number >= 2:\n",
    "        total *= number\n",
    "        number -= 1\n",
    "    return total\n",
    "\n",
    "print(factorial_while_loop(5))"
   ]
  },
  {
   "cell_type": "code",
   "execution_count": 9,
   "id": "a745a8fa-1f9c-4762-8819-fbb9124ef706",
   "metadata": {},
   "outputs": [
    {
     "name": "stdout",
     "output_type": "stream",
     "text": [
      "120\n"
     ]
    }
   ],
   "source": [
    "def factorial_for_loop(number):\n",
    "    numbers = range(2, number + 1)\n",
    "    total = 1\n",
    "    for number in numbers:\n",
    "        total *= number\n",
    "    return total\n",
    "\n",
    "print(factorial_for_loop(5))"
   ]
  },
  {
   "cell_type": "code",
   "execution_count": 10,
   "id": "19c97779-8704-4512-af46-4de9557d595a",
   "metadata": {},
   "outputs": [
    {
     "name": "stdout",
     "output_type": "stream",
     "text": [
      "120\n"
     ]
    }
   ],
   "source": [
    "def factorial_recursion(number):\n",
    "    if number == 1:  # Base case.\n",
    "        return 1\n",
    "    else:  # Recursive case.\n",
    "        return number * factorial_recursion(number - 1)\n",
    "\n",
    "print(factorial_recursion(5))"
   ]
  },
  {
   "cell_type": "markdown",
   "id": "c1adb20b-318f-4028-939f-97341b9c3064",
   "metadata": {},
   "source": [
    "---"
   ]
  },
  {
   "cell_type": "markdown",
   "id": "79112cc4-8faf-47f7-a694-afe92afae7e2",
   "metadata": {},
   "source": [
    "## Divide-and-Conquer\n",
    "- **Divide and conquer (D & C)**--problem solving strategy where a problem is broken down into smaller and smaller pieces.  When a piece is small enough, it becomes easy to solve.\n",
    "- The smallest piece can be treated as a base case in a recursive function.  In algorithms that use a divide and conquer strategy, the base case is often an array of length 0 or 1.\n",
    "- Once all the pieces are solved using a recursive function they are combined to form a final answer\n",
    "\n",
    "![](images/divide_conquer.png)\n",
    "\n",
    "- Two common algorithms that use a divide and conquer strategy are:\n",
    "    1. **Merge sort**--repeatedly splits array in half until it gets to base cases.  Base case is array of length 1.  Divides and sorts recursively.\n",
    "    1. **Quicksort**--similar to merge sort, but randomly chooses an item to be the \"pivot\" point and splits arrays there."
   ]
  },
  {
   "cell_type": "markdown",
   "id": "501cc484-ea47-4e9f-9a76-d0d01219b47d",
   "metadata": {},
   "source": [
    "---"
   ]
  },
  {
   "cell_type": "markdown",
   "id": "2baac0c8-2fd8-4825-bcbf-4a714be03261",
   "metadata": {},
   "source": [
    "**EXAMPLES**"
   ]
  },
  {
   "cell_type": "markdown",
   "id": "1ed4f61e-6981-4834-b314-d42fa7240b4d",
   "metadata": {},
   "source": [
    "**Sum**"
   ]
  },
  {
   "cell_type": "code",
   "execution_count": 11,
   "id": "89b9bead-bdff-4efe-8720-1de1cbdc1a34",
   "metadata": {},
   "outputs": [
    {
     "name": "stdout",
     "output_type": "stream",
     "text": [
      "12\n"
     ]
    }
   ],
   "source": [
    "def sum_while_loop(numbers):\n",
    "    index = 0\n",
    "    total = 0\n",
    "    while index < len(numbers):\n",
    "        total += numbers[index]\n",
    "        index += 1\n",
    "    return total\n",
    "\n",
    "print(sum_while_loop([2, 4, 6]))"
   ]
  },
  {
   "cell_type": "code",
   "execution_count": 12,
   "id": "219a4099-b542-499c-bf68-2ad21ed3de98",
   "metadata": {},
   "outputs": [
    {
     "name": "stdout",
     "output_type": "stream",
     "text": [
      "12\n"
     ]
    }
   ],
   "source": [
    "def sum_for_loop(numbers):\n",
    "    total = 0\n",
    "    for number in numbers:\n",
    "        total += number\n",
    "    return total      \n",
    "\n",
    "print(sum_for_loop([2, 4, 6]))"
   ]
  },
  {
   "cell_type": "code",
   "execution_count": 13,
   "id": "a14473f7-8022-4fcd-98dc-0a2d192c2f83",
   "metadata": {},
   "outputs": [
    {
     "name": "stdout",
     "output_type": "stream",
     "text": [
      "12\n"
     ]
    }
   ],
   "source": [
    "def sum_recursion(numbers):\n",
    "    if numbers == []: # Base case.\n",
    "        return 0\n",
    "    else:   # Recursive case.\n",
    "        return numbers[0] + sum_recursion(numbers[1:]) \n",
    "\n",
    "print(sum_recursion([2, 4, 6]))"
   ]
  },
  {
   "cell_type": "markdown",
   "id": "992722bc-be60-435b-ada3-3a2016bd5054",
   "metadata": {},
   "source": [
    "**Quicksort**"
   ]
  },
  {
   "cell_type": "code",
   "execution_count": 14,
   "id": "d755d78a-4df1-48ca-8c86-72f341936405",
   "metadata": {},
   "outputs": [
    {
     "name": "stdout",
     "output_type": "stream",
     "text": [
      "[2, 4, 6]\n"
     ]
    }
   ],
   "source": [
    "def quicksort(array):\n",
    "    from random import randint\n",
    "    # If the input array contains fewer than two elements,\n",
    "    # then return it as the result of the function\n",
    "    if len(array) < 2:  # Base case\n",
    "        return array\n",
    "\n",
    "    low, same, high = [], [], []\n",
    "\n",
    "    # Select your `pivot` element randomly\n",
    "    pivot = array[randint(0, len(array) - 1)]\n",
    "\n",
    "    for item in array:\n",
    "        # Elements that are smaller than the `pivot` go to the `low` list. \n",
    "        # Elements that are larger than `pivot` go to the `high` list. \n",
    "        # Elements that are equal to `pivot` go to the `same` list.\n",
    "        if item < pivot:\n",
    "            low.append(item)\n",
    "        elif item == pivot:\n",
    "            same.append(item)\n",
    "        elif item > pivot:\n",
    "            high.append(item)\n",
    "\n",
    "    # The final result combines the sorted `low` list \n",
    "    # with the `same` list and the sorted `high` list.\n",
    "    return quicksort(low) + same + quicksort(high)  # Recursive case\n",
    "\n",
    "print(quicksort([4, 6, 2]))"
   ]
  },
  {
   "cell_type": "markdown",
   "id": "c367fff4-6dc8-4f5a-bd9e-946372ee8738",
   "metadata": {},
   "source": [
    "---"
   ]
  },
  {
   "cell_type": "markdown",
   "id": "95b6830f-e219-4709-9d04-89ea6fe6b36f",
   "metadata": {},
   "source": [
    "## Sorting Comparison\n",
    "- A coefficient, $c$, can be placed in front of big O orders\n",
    "    - E.g. $O(c*n)$ in linear time\n",
    "    - E.g. $O(c*n^2)$ in quadratic time\n",
    "- In big O analysis the coefficient is usually dropped\n",
    "    - E.g. regardless of the coefficient, linear time will be smaller than quadratic time\n",
    "- However, when algorithms share the same order, the coefficient can be used to determine which one is faster.  This is important when comparing the speed of sorting algorithms.\n",
    "    - E.g. $O(3 * n)$ is faster than $O(7 * n)$ even though they are both linear time\n",
    "- We'll display a table.  The algorithms are sorted based on steps needed in their average case scenario.\n",
    "\n",
    "Algorithm | Big O Order | Recursive? | Other\n",
    "--- | --- | --- | ---\n",
    "Timsort | O(n log n) | Not recursive | Python `sort()`.  Uses natural runs and insertion sort.  \n",
    "Quicksort | O(n log n) | Recursive | Uses D & C and divides at random pivot\n",
    "Merge sort | O(n log n) | Recursive | Uses D & C and divides evenly\n",
    "Insertion sort | O(n^2) | Not recursive | Simple.  Used in Timsort.\n",
    "Selection sort | O(n^2) | Not recursive | Simple and slow\n",
    "Bubble sort | O(n^2) | Not recursive | Simple and slow"
   ]
  },
  {
   "cell_type": "markdown",
   "id": "14317b4a-3744-41ea-ab28-42874830ac9b",
   "metadata": {},
   "source": [
    "---"
   ]
  },
  {
   "cell_type": "markdown",
   "id": "60792383-1bc7-4390-93f4-8854c20e9e5b",
   "metadata": {
    "tags": []
   },
   "source": [
    "## Breadth-First Search\n",
    "- **Graph**--network.  Different than a Cartesian plane with axes.\n",
    "- **Node (vertex)**--each thing in the graph\n",
    "- **Edge (link)**--connection between nodes in network\n",
    "\n",
    "![](images/nodes_edges.png)\n",
    "\n",
    "- Graphs represent connected things like:\n",
    "    - Locations (nodes) connected by roads (edges) on map\n",
    "    - People (nodes) connected by relationships (edges) in social network\n",
    "    - Webpages (nodes) connected by hyperlinks (edges) on WWW\n",
    "- **Neighbor**--when a node is 1 edge away from another node\n",
    "- **Directed graph**--graph where all edges have directionality to them.  Each edge is like a one way street.  Indicated by arrows.\n",
    "- **Undirected graph**-graph where edges do not have directionality.  Each edge is like a two way street.  No arrows. \n",
    "- The image below displays the difference between **directed** and **undirected** graphs:\n",
    "\n",
    "![](images/undirected_graph.png)\n",
    "\n",
    "- **Queue**--data structure where items (like nodes) are removed using first in, first out (FIFO) strategy. Like queue at theme park.  Used in breadth-first searches. \n",
    "    - **Enqueue**--item is added onto queue. Also called push.\n",
    "    - **Dequeue**--item is removed from queue.  Also called pop.\n",
    "- **Stack**---data structure where items (like nodes) are removed using last in, first out (LIFO) strategy.  Used in call stack.\n",
    "- **Depth-first search (DFS)**--graph searching algorithm that searches as far out as possible along connected nodes before backtracking.  Uses recursive function and call stack.\n",
    "- **Breadth-First Search (BFS)**--graph searching algorithm that searches all the closest nodes before moving on to farther nodes.  Uses queues.\n",
    "\n",
    "![](images/bfs_dfs.png)\n",
    "\n",
    "- Both BFS and DFS can answer the following questions:\n",
    "    1. Is there a path from one node to another node?\n",
    "    1. If there is a path, what is the shortest path (least number of edges)?\n",
    "- Both BFS and DFS have a run time of O(V + E) where V is the number of vertices (nodes) and E is the number of edges\n",
    "- *Note that BFS and DFS only work for finding the quickest path between 2 nodes.  If there are more than two nodes it becomes the traveling sales person problem and is factorial time.*\n",
    "- BFS and DFS have different strengths:\n",
    "    - BFS is more efficient when the node we are searching for is closer to the starting node\n",
    "    - DFS is more efficient when the node we are searching for is farther away from the starting node"
   ]
  },
  {
   "cell_type": "markdown",
   "id": "d10db53b-947f-4e0e-91d4-adf2c7ebcea7",
   "metadata": {},
   "source": [
    "---"
   ]
  },
  {
   "cell_type": "markdown",
   "id": "1fd1bc36-6c95-4b25-8603-f52b829f08be",
   "metadata": {},
   "source": [
    "**EXAMPLES**"
   ]
  },
  {
   "cell_type": "markdown",
   "id": "c0f5ceb1-8c26-4417-9783-b038f6a5bafc",
   "metadata": {},
   "source": [
    "- We'll show an example that uses BFS to answer the question, \"Is there a path between nodes?\".\n",
    "- The image below shows a graph of people in a social network.  This graph has arrows that indicate the direction of relationships.\n",
    "\n",
    "![](images/graph_example.png)\n",
    "\n",
    "- We first have to represent the graph as a Python dictionary.  Each dictionary key is a node.  Each dictionary value is an array of neighbors to that node. \n",
    "- There will be some arrays that are empty.  This is because the graph we are using is directional.  Only nodes that point to other nodes will have values."
   ]
  },
  {
   "cell_type": "code",
   "execution_count": 15,
   "id": "0c2900ae-0e09-429b-83c5-e4c2f82d6ec7",
   "metadata": {},
   "outputs": [],
   "source": [
    "graph = {}\n",
    "graph[\"you\"] = [\"alice\", \"bob\", \"claire\"]\n",
    "graph[\"bob\"] = [\"anuj\", \"peggy\"]\n",
    "graph[\"alice\"] = [\"peggy\"]\n",
    "graph[\"claire\"] = [\"thom\", \"jonny\"]\n",
    "graph[\"anuj\"] = []\n",
    "graph[\"peggy\"] = []\n",
    "graph[\"thom\"] = []\n",
    "graph[\"jonny\"] = []"
   ]
  },
  {
   "cell_type": "markdown",
   "id": "1dc2f6bc-26cc-45e0-84cc-1208833ea0a4",
   "metadata": {},
   "source": [
    "- We'll then define a breadth-first search function where we:\n",
    "    1. Add all starting node neighbors to search queue\n",
    "    1. Pop a node from the search queue in FIFO order and check whether this is the end node.  Only check nodes that have not been checked before, otherwise may create an infinite loop.  \n",
    "        1. If popped node is end node, then we are finished\n",
    "        1. If popped node is not end node, then add neighboring nodes to queue\n",
    "    1. Repeat step 2 as long as there are nodes in queue\n",
    "\n",
    "- The image below diagrams this BFS example.  The starting node is us and the end node is a person that sells mangos.\n",
    "\n",
    "![](images/bfs_algorithm.png)"
   ]
  },
  {
   "cell_type": "code",
   "execution_count": 16,
   "id": "5c67b59f-acc0-43f5-b4c0-688007e50f03",
   "metadata": {},
   "outputs": [],
   "source": [
    "def current_node_is_end_node(current_node):\n",
    "    \"\"\"Determine if current node is end node.\n",
    "    \n",
    "    In this silly example, the end node is a mango seller.\n",
    "    The mango seller is any person whose name ends with 'm'.\n",
    "    \n",
    "    Parameters\n",
    "    ----------\n",
    "    current_node : str\n",
    "        Name of current node.\n",
    "    \n",
    "    Returns\n",
    "    -------\n",
    "    bool\n",
    "        Returns True if last letter of string is 'm'.  Returns False otherwise.\n",
    "    \"\"\"    \n",
    "    return current_node[-1] == \"m\""
   ]
  },
  {
   "cell_type": "code",
   "execution_count": 17,
   "id": "530083b6-faf5-43df-8730-ef12bc00c3d3",
   "metadata": {},
   "outputs": [
    {
     "name": "stdout",
     "output_type": "stream",
     "text": [
      "There is a path from the start node to the end node.  thom is a mango seller!\n"
     ]
    },
    {
     "data": {
      "text/plain": [
       "True"
      ]
     },
     "execution_count": 17,
     "metadata": {},
     "output_type": "execute_result"
    }
   ],
   "source": [
    "def breadth_first_search(starting_node):\n",
    "    \"\"\"Find if there is a bath between nodes using BFS algorithm.\n",
    "    \n",
    "    Calls current_node_is_end_node() function.\n",
    "    \n",
    "    Parameters\n",
    "    ----------\n",
    "    starting_node : str\n",
    "        Name of starting node.\n",
    "    \n",
    "    Returns\n",
    "    -------\n",
    "    bool\n",
    "        Returns True if there is a path from start node to end node.  Returns False otherwise.\n",
    "    \"\"\"\n",
    "    from collections import deque  #  Stands for \"double ended queue\"\n",
    "    \n",
    "    search_queue = deque()  # Creates empty queue data structure\n",
    "    for neighboring_node in graph[starting_node]:  \n",
    "        search_queue.append(neighboring_node)  #  Adds neighbors to right side of queue    \n",
    "    searched = []  # Creates an empty \"already seached these nodes\" array\n",
    "    while search_queue:  # While queue not empty\n",
    "        current_node = search_queue.popleft()   # FIFO\n",
    "        if current_node not in searched: # If node has not already been searched\n",
    "            if current_node_is_end_node(current_node):  # If node is end node\n",
    "                print(\n",
    "                    \"There is a path from the start node to the end node.  \"\n",
    "                    f\"{current_node} is a mango seller!\"\n",
    "                )\n",
    "                return True  # There is a path.  Exit while loop.\n",
    "            else:  # If node is not end node\n",
    "                search_queue += graph[current_node]   #  Add neighbors to queue\n",
    "                searched.append(current_node)  # Add this node to \"aready been searched\" array\n",
    "    print(\"There is no path from the start node to the end node.\")    \n",
    "    return False  # Searched all nodes.  There is no path.\n",
    "\n",
    "breadth_first_search(\"you\")"
   ]
  },
  {
   "cell_type": "markdown",
   "id": "a8e4c98b-da71-4028-a127-209274841e72",
   "metadata": {},
   "source": [
    "---"
   ]
  },
  {
   "cell_type": "markdown",
   "id": "f4112e66-1edf-4868-8892-8990e4c60cf8",
   "metadata": {
    "tags": []
   },
   "source": [
    "## Dijkstra's Algorithm\n",
    "\n",
    "- **Dijkstra's Algorithm**--find the fastest (least \"costly\") path between *two* nodes in a positively weighted, directed acyclic graph\n",
    "\n",
    "![](images/dijkstra_example.png)\n",
    "\n",
    "- **Unweighted graph**--each edge has a value of 1\n",
    "- **Weighted graph**--edges assigned values.  These are called \"weights\" or \"costs\".  Weights an be positive or negative.\n",
    "\n",
    "![](images/weighted_graphs.png)\n",
    "\n",
    "- **Cyclic graph**--graph where we can traverse edges and end up at a node we were already at\n",
    "- **Acyclic graph**--no cycles\n",
    "\n",
    "![](images/cyclic_graphs.png)\n",
    "\n",
    "- Dijkstra's algorithm only works with positively weighted **directed acyclic graphs (DAGs)**\n",
    "- If any weights are negative the Bellman-Ford algorithm can be used instead\n",
    "- The Dijkstra's algorithm can be boiled down to four steps\n",
    "    1. Find the cheapest (lowest cost) node\n",
    "    2. Check whether there is a cheaper path to the neighbors of this node. If so, update their costs.\n",
    "    3. Repeat until you’ve done this for every node in the graph\n",
    "    4. Calculate the final path\n",
    "- The Python implementation is a bit more involved than the breadth-first search so we won't cover it here.  It can be found in the book along with many explanatory diagrams."
   ]
  },
  {
   "cell_type": "markdown",
   "id": "85260220-ad62-443f-8d10-808f5ba11a74",
   "metadata": {},
   "source": [
    "---"
   ]
  },
  {
   "cell_type": "markdown",
   "id": "534de9b9-2fee-4743-be9e-31edc71611b3",
   "metadata": {
    "tags": []
   },
   "source": [
    "## Greedy Algorithms\n",
    "\n",
    "- **NP-complete problems**--stands for non-deterministic polynomial time complete problem (now ignore that).  It is a problem that can NOT be quickly solved with an algorithm.  Many times there is an algorithm that can solve the problem, but as the data grows it becomes so slow that it is unusable.\n",
    "- **Approximation algorithm**-- return approximate answer to NP-complete problems.  Answer may not be the best, but it may be good enough.\n",
    "- **Greedy algorithm**--approximation algorithm where, at each step, we pick the locally optimal choice.  The hope is that when all the steps are combined, it forms something close to a globally optimal choice.  Greedy algorithms are easy to write, quick to run, and may come up with a choice that is good enough.\n",
    "    - E.g. we are shoplifting.  The goal is to fill a bag in a way that maximizes the value of stuff stolen.  At each step in the algorithm we must choose which item to place into the bag.  Our greedy algorithm is to choose the most expensive item at each step and add it to the bag until the bag is full.\n",
    "    - E.g. we are scheduling classes in a class room.  The goal is for the room to host as many minutes of class time as possible.  At each step in the algorithm we must choose a class to schedule in the room.  Our greedy algorithm is to choose the longest class at each step until the room schedule is full.\n",
    "    - E.g. we have a radio show and are choosing radio stations that cover all the states in the U.S.  The goal is to choose the fewest stations that still cover all the states.  At each step in the algorithm we must choose a station to use.  Our greedy algorithm is to choose the station that covers the most states that haven't been covered already until we have covered all the states.\n",
    "    - E.g. traveling salesperson goes from city to city.  The goal is to minimize the distance traveled while going to all the cities.  At each step we must choose which city to go to next.  Our greedy algorithm is to go to the closest city that we have not already visited until we have visited all the cites.  The traveling salesperson is a classic example of a NP-complete problem with factorial time.  Note that the traveling salesperson finds the path between 3 or more nodes.  If we only cared about two nodes we could use BFS, DFS, Dijkstra's algorithm, or the the Bellman-Ford algorithm.\n",
    "- There are hints that a problem may be NP-complete:\n",
    "    - An algorithm runs quickly with a small number of items but really slows down as data grows\n",
    "    - “All combinations of X” usually point to an NP-complete problem\n",
    "    - If our problem involves a sequence (such as a sequence of cities, like traveling salesperson), and it’s hard to solve, it might be NP-complete\n",
    "    - If our problem involves a set (like a set of radio stations) and it’s hard to solve, it might be NP-complete"
   ]
  },
  {
   "cell_type": "markdown",
   "id": "51d9ef54-f8db-4f23-b959-3e75ca5ecec0",
   "metadata": {},
   "source": [
    "---"
   ]
  },
  {
   "cell_type": "markdown",
   "id": "dd03a72f-688d-4f1d-9f3b-d0023fa1dc8e",
   "metadata": {},
   "source": [
    "**EXAMPLES**"
   ]
  },
  {
   "cell_type": "markdown",
   "id": "f40fe1af-0071-4a4c-971a-a118aa8c19f7",
   "metadata": {},
   "source": [
    "![](images/greedy_example.png)"
   ]
  },
  {
   "cell_type": "markdown",
   "id": "0c863754-5347-4612-a10d-07bccca22572",
   "metadata": {},
   "source": [
    "- We have a radio show and are choosing radio stations so that there is coverage of UT, NV, ID, MT, WA, OR, CA, and AZ.  The goal is to choose the fewest stations that still cover all 8 states.  At each step in the algorithm we must choose a station to use.  Our greedy algorithm is to choose the station that covers the most states that haven't been covered already until we have covered all the states.\n",
    "- There are multiple correct answers. I.e. there are multiple sets of radio stations that are the same length that cover all the states."
   ]
  },
  {
   "cell_type": "markdown",
   "id": "bddbfad3-4c47-4eae-af3a-15993a71bb1b",
   "metadata": {},
   "source": [
    "- Like in the BFS section, we first need to store our data in data structures.\n",
    "- States we need covered will be stored in a set"
   ]
  },
  {
   "cell_type": "code",
   "execution_count": 18,
   "id": "d42ce550-e861-4eec-84f3-0e9b9a22a41f",
   "metadata": {},
   "outputs": [],
   "source": [
    "states_needed = set([\"mt\", \"wa\", \"or\", \"id\", \"nv\", \"ut\", \"ca\", \"az\"]) "
   ]
  },
  {
   "cell_type": "markdown",
   "id": "b7d99e52-31de-4477-ac4b-06c119c10f6a",
   "metadata": {},
   "source": [
    "- To specify which stations cover which states we'll use a dictionary.  Keys are station names.  Value are sets of states covered by that station."
   ]
  },
  {
   "cell_type": "code",
   "execution_count": 19,
   "id": "8e8aee91-8c3b-4346-8bba-eeb7eebce969",
   "metadata": {},
   "outputs": [],
   "source": [
    "stations = {} \n",
    "stations[\"kone\"] = set([\"id\", \"nv\", \"ut\"])\n",
    "stations[\"ktwo\"] = set([\"wa\", \"id\", \"mt\"])\n",
    "stations[\"kthree\"] = set([\"or\", \"nv\", \"ca\"])\n",
    "stations[\"kfour\"] = set([\"nv\", \"ut\"])\n",
    "stations[\"kfive\"] = set([\"ca\", \"az\"])"
   ]
  },
  {
   "cell_type": "markdown",
   "id": "72b0c284-3acf-4cf3-844c-959dc2395f14",
   "metadata": {},
   "source": [
    "- Our chosen stations will be stored in a set"
   ]
  },
  {
   "cell_type": "code",
   "execution_count": 20,
   "id": "83788141-d62d-4135-9555-b44114181352",
   "metadata": {},
   "outputs": [],
   "source": [
    "final_stations = set()  # Our final selection of chosen stations that cover all the states"
   ]
  },
  {
   "cell_type": "code",
   "execution_count": 21,
   "id": "15c33e70-c6e1-4d5e-859f-233d1044dbd9",
   "metadata": {},
   "outputs": [
    {
     "name": "stdout",
     "output_type": "stream",
     "text": [
      "We can use the following stations: {'kone', 'ktwo', 'kfive', 'kthree'}\n"
     ]
    }
   ],
   "source": [
    "while states_needed:  # While some states are still not covered\n",
    "    best_station = None\n",
    "    states_covered = set()\n",
    "    for station, states in stations.items():  # Go through each station\n",
    "        # Set intersection.  Returns set of states that the station covers that haven't been covered yet.\n",
    "        covered = states_needed & states  \n",
    "        # If current station covers more (yet uncovered) stations than the previous station.\n",
    "        # Save it as the \"best\" station and save how many (yet uncovered) stations it covers\n",
    "        if len(covered) > len(states_covered):\n",
    "            best_station = station\n",
    "            states_covered = covered\n",
    "    final_stations.add(best_station)  # Choose best station\n",
    "    states_needed -= states_covered  # Remove states that are now covered\n",
    "\n",
    "print(f\"We can use the following stations: {final_stations}\")"
   ]
  },
  {
   "cell_type": "markdown",
   "id": "f6c8fc8f-bc0d-417c-8cf9-ff92f4dfa324",
   "metadata": {},
   "source": [
    "---"
   ]
  },
  {
   "cell_type": "markdown",
   "id": "49f7f893-515e-46bf-8918-ef71a4bf1a6d",
   "metadata": {
    "jp-MarkdownHeadingCollapsed": true,
    "tags": []
   },
   "source": [
    "## More to Explore\n",
    "1. **K-Nearest Neighbors (KNN)**--used for classification or regression.  There are elements/items of a sample or population.  For a new element we can predict a response variable (called a feature) using explanatory variables.  Elements are plotted on a graph.  Each axis represents an explanatory.  We then choose the closest neighboring points to base the prediction off of.  The number of neighboring points we choose is denoted $k$. The nearness is calculated using a distance formula.  If the response variable is categorical then it is said to be KNN classification as we predict the level of the category from the neighboring points.  E.g. if the majority of neighbors have a blue color then we predict our new element is also blue.  If the unknown variable is numerical then it is called KNN regression.  E.g. if the mean of the nearest neighbors is 5 grams, we predict our new element is also 5 grams.\n",
    "1. **Dynamic Programming**--optimize something given a constraint.  Break problem into subproblems.  Every dynamic programming solution involves a grid of cell values. Each cell value is a subproblem we try to optimize.  By optimizing subproblems we can find the optimal solution to entire problem.\n",
    "1. **Linear Programming**--maximize something given constraints using the simplex algorithm. Similar goals as dynamic programming, but uses linear equations instead of grids.\n",
    "1. **Trees**--there are many types of graphs (the node and vertex kind).  Trees are graphs with special properties.  E.g. binary trees can be used to store sorted data.  Binary trees are faster than arrays at insertion and deletion for sorted data.\n",
    "1. **Inverted Indices**--hash table that maps individual words to places they appear.  Often used in web search engines.\n",
    "1. **Fourier Transform**--\"Given a smoothie, the Fourier transform will tell us the ingredients in the smoothie.\" Pass a signal into a set of filters and break signal into component parts. Commonly used to filter cell phone and WiFi signals and break audio, image, and video files down into component parts for compression.\n",
    "1. **Probabilistic Algorithm**--return probabilistic answer that is not definitive.  Hash tables can be used to definitively see if a key belongs in a group (the value).  However, if groups are massive hash tables take up too much space.  E.g. could store websites URLs (keys) along with whether or not they are malicious (\"Yes\" or \"No\" groups) in a hash table, but this would take too much memory when there are trillions of websites. Instead, can use a bloom filter probabilistic algorithm to guess whether or not website URL is in the malicious group.\n",
    "1. **Parallel Algorithm**--algorithm split between different processors (cores) of a multi-core CPU\n",
    "1. **Distributed Algorithm**--parallel algorithm that is run on hundreds of cores.  MapReduce function is a common distributed algorithm that is helpful when functions input millions of data points."
   ]
  }
 ],
 "metadata": {
  "kernelspec": {
   "display_name": "Python 3 (ipykernel)",
   "language": "python",
   "name": "python3"
  },
  "language_info": {
   "codemirror_mode": {
    "name": "ipython",
    "version": 3
   },
   "file_extension": ".py",
   "mimetype": "text/x-python",
   "name": "python",
   "nbconvert_exporter": "python",
   "pygments_lexer": "ipython3",
   "version": "3.9.9"
  }
 },
 "nbformat": 4,
 "nbformat_minor": 5
}
