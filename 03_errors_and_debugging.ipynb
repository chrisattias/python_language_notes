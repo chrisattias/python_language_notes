{
 "cells": [
  {
   "cell_type": "markdown",
   "id": "26fc3670-8286-42c9-b055-8d12549869db",
   "metadata": {
    "tags": []
   },
   "source": [
    "# Errors and Debugging\n",
    "- Errors == Bugs\n",
    "- The term \"bug\" comes from  1945 when scientists were working on the Mark II computer.  An error occurred and the computer stopped.  Upon investigating they found a moth caught in a mechanical switch.  When the moth was removed the computer worked!  They declared, \n",
    "> \"We have debugged the computer.\"\n",
    "- General Debugging Tips:\n",
    "    - Scale down input to better understand output\n",
    "        - E.g. import only 5 lines of text instead of an entire book\n",
    "    - Summarize data.   Easier to see if something has changed.\n",
    "        - E.g. checking to see if the length of a list has changed is easier then looking at all the values in that list\n",
    "    - Check data types as these often cause errors\n",
    "    - Use a wide variety of possible inputs to test code\n",
    "- We'll cover\n",
    "    1. Errors, traceback messages, and the call stack\n",
    "    1. Try except statements, raising errors on purpose, and performing sanity checks with assertions\n",
    "    1. Logging information that may be useful for debugging \n",
    "    1. Viewing the call stack and variables with debuggers\n",
    "    1. Comparing actual and expected outputs with unit tests\n",
    "    1. Asking for help on forums like Stack Overflow"
   ]
  },
  {
   "cell_type": "markdown",
   "id": "a9a109e7-312a-4af2-a8f5-a04f989ba980",
   "metadata": {},
   "source": [
    "---"
   ]
  },
  {
   "cell_type": "markdown",
   "id": "5c4fe66f-de14-4a26-ab08-2294cb3f96d0",
   "metadata": {},
   "source": [
    "## Errors and Traceback\n",
    "- A Python program normally ends when it encounters invalid code.  There are two types of problems:\n",
    "    1. **`SyntaxError`**--is an problem that occurs because the syntax is wrong.  This could be a missing comma, an extra parenthesis, etc.  The Python error message that pops up tells us the line where Python first noticed the bad syntax, shows the code, and points to a place in the code with a `^` caret.  The line and caret signify where Python first *noticed* that code was bad, but the bad code could occur anywhere on this line before the caret or even on previous lines.  The error message also tells more detail about the syntax error.  `try` and `except` does NOT work on `SyntaxError`.\n",
    "    2. **`Exception`**--problem that occurs because of something that is NOT a `SyntaxError`.  The problem could be any other type of error.  The Python error message that pops up has the header **\"Traceback\"**.  `try` and `except` works on exceptions.  There are around 50 exceptions. Here are a few common ones:\n",
    "   \n",
    "1. Exception--exception that all others are based upon\n",
    "1. AttributeError--raised when an attribute reference or assignment fails\n",
    "1. ImportError--raised when import statement fails to find module definition or when a `from...import` fails to find 1 name that is to be imported\n",
    "1. ModuleNotFoundError--subset of ImportError raised when import fails to find a module\n",
    "1. IndexError--raised when a sequence subscript is out of range\n",
    "1. KeyError--raised when a mapping (dictionary) key is not found in the set of existing keys\n",
    "1. KeyboardInterrupt--raised when user hits the interrupt key (normally Control-C or Delete)\n",
    "1. NameError--raised when a local or global name is not found\n",
    "1. OSError--raised when a function returns a system related error\n",
    "1. TypeError--raised when the wrong type of data is used as an input of a function or operation\n",
    "1. ValueError--raised when a built-in function or operation has the correct type, but the input value is out of the acceptable range\n",
    "1. ZeroDivisionError--raised when we try to divide by zero in division or modulo\n",
    "1. RuntimeError--raised when an error is detected that doesn't fall into another category\n",
    "\n",
    "- Errors (except syntax errors) trigger a traceback message\n",
    "\n",
    "- **Traceback**--error message that is printed.  Includes error message, the line number where Python first *noticed*  (like syntax above) the error, and the sequence of the function calls that led to the error.  Unlike many other languages, in Python, the most recent function calls are at the bottom of the traceback, with the error at the very bottom.  The sequence of function calls in the traceback are related to the call stack.\n",
    "\n",
    "- **Call Stack**-- mechanism for an interpreter to keep track of its place in a script that calls multiple functions \n",
    "    1. When a script calls a function, interpreter adds (*pushes*) it to call stack and starts carrying out function\n",
    "    1. Any functions called by that function are added (*pushed*) to call stack further up, and run where their calls are reached\n",
    "    1. When current function is finished, interpreter removes (**pops**) it from the stack and resumes execution where it left off\n",
    "    1. If the stack takes up more space than it had assigned to it, it results in a **stack overflow** error\n",
    "\n",
    "- **Push**--add item to collection.  The term push is also used in Git.\n",
    "- **Pop**--remove most recent item from collection.  Last in, first out.  Pop is also a list method.\n",
    "\n",
    "![Image of callstack](images/callstack.jpg)"
   ]
  },
  {
   "cell_type": "markdown",
   "id": "2b6b349f-76a1-45fa-9230-30500c47febc",
   "metadata": {},
   "source": [
    "---"
   ]
  },
  {
   "cell_type": "markdown",
   "id": "1043e1db-2c0b-4d62-bb65-62522a79c5ca",
   "metadata": {},
   "source": [
    "**EXAMPLES**"
   ]
  },
  {
   "cell_type": "markdown",
   "id": "62847ea6-e80f-4abf-b54c-7500a2e2ca2d",
   "metadata": {},
   "source": [
    "- Below, notice the order of the call stack\n",
    "    1. In the first 6 lines, functions `a()` and `b()` are defined.  However, nothing is called, and nothing is added to stack.\n",
    "    1. On line 7, `a()` is called and added to stack.  Python interpreter starts running `a()`.\n",
    "    1. `b()` is called from within `a()` and added to top off stack.  Python interpreter jumps to `b()`.\n",
    "    1. Python interpreter runs `b()` until it is finished. `b()` is is removed from stack.\n",
    "    1. Python interpreter jumps back to `a()` and runs `a()` until it is finished.  `a()` is removed from stack."
   ]
  },
  {
   "cell_type": "code",
   "execution_count": 1,
   "id": "987c13e6-d0ab-4b51-9570-040033934bde",
   "metadata": {},
   "outputs": [
    {
     "name": "stdout",
     "output_type": "stream",
     "text": [
      "This is a\n",
      "This is b\n",
      "This is a again\n"
     ]
    }
   ],
   "source": [
    "def a():\n",
    "    print(\"This is a\")\n",
    "    b()\n",
    "    print(\"This is a again\")\n",
    "def b():\n",
    "    print(\"This is b\")\n",
    "a()"
   ]
  },
  {
   "cell_type": "markdown",
   "id": "42a6d83e-417b-464b-84e6-2113ab73da82",
   "metadata": {},
   "source": [
    "- Below, notice the order of the call stack from the traceback.  Traceback lets us know,\n",
    "\n",
    "> \"Traceback (most recent call last)\"\n",
    "\n",
    "- My preferred way is to read the last line with the exception first.  Below, it is `Exception: This is raise Exception within function b.`.  Then jump to the top and read chronologically. Below, we can see:\n",
    "    1. `in <module>` level (global scope), `a()` is called\n",
    "    1. `in a()` level (enclosing scope), `b()` is called\n",
    "    1. `in b()` level (local scope), `raise Execption()` occurs\n",
    "- Each of the three chunks is called a **frame summary** and show information about a frame object.  The **frame object** is a temporary object created when a function is called and destroyed when the function ends.  They hold local variables and line information that helps the Python interpreter keep track of the stack."
   ]
  },
  {
   "cell_type": "code",
   "execution_count": 3,
   "id": "2439f390-020b-4119-ae92-1eecab00ce32",
   "metadata": {},
   "outputs": [
    {
     "name": "stdout",
     "output_type": "stream",
     "text": [
      "This is a\n",
      "This is b\n"
     ]
    },
    {
     "ename": "Exception",
     "evalue": "This is raise Exception within function b.",
     "output_type": "error",
     "traceback": [
      "\u001b[1;31m---------------------------------------------------------------------------\u001b[0m",
      "\u001b[1;31mException\u001b[0m                                 Traceback (most recent call last)",
      "\u001b[1;32mC:\\Users\\CHRISA~1\\AppData\\Local\\Temp/ipykernel_15376/3128552518.py\u001b[0m in \u001b[0;36m<module>\u001b[1;34m\u001b[0m\n\u001b[0;32m      6\u001b[0m     \u001b[0mprint\u001b[0m\u001b[1;33m(\u001b[0m\u001b[1;34m\"This is b\"\u001b[0m\u001b[1;33m)\u001b[0m\u001b[1;33m\u001b[0m\u001b[1;33m\u001b[0m\u001b[0m\n\u001b[0;32m      7\u001b[0m     \u001b[1;32mraise\u001b[0m \u001b[0mException\u001b[0m\u001b[1;33m(\u001b[0m\u001b[1;34m\"This is raise Exception within function b.\"\u001b[0m\u001b[1;33m)\u001b[0m\u001b[1;33m\u001b[0m\u001b[1;33m\u001b[0m\u001b[0m\n\u001b[1;32m----> 8\u001b[1;33m \u001b[0ma\u001b[0m\u001b[1;33m(\u001b[0m\u001b[1;33m)\u001b[0m\u001b[1;33m\u001b[0m\u001b[1;33m\u001b[0m\u001b[0m\n\u001b[0m",
      "\u001b[1;32mC:\\Users\\CHRISA~1\\AppData\\Local\\Temp/ipykernel_15376/3128552518.py\u001b[0m in \u001b[0;36ma\u001b[1;34m()\u001b[0m\n\u001b[0;32m      1\u001b[0m \u001b[1;32mdef\u001b[0m \u001b[0ma\u001b[0m\u001b[1;33m(\u001b[0m\u001b[1;33m)\u001b[0m\u001b[1;33m:\u001b[0m\u001b[1;33m\u001b[0m\u001b[1;33m\u001b[0m\u001b[0m\n\u001b[0;32m      2\u001b[0m     \u001b[0mprint\u001b[0m\u001b[1;33m(\u001b[0m\u001b[1;34m\"This is a\"\u001b[0m\u001b[1;33m)\u001b[0m\u001b[1;33m\u001b[0m\u001b[1;33m\u001b[0m\u001b[0m\n\u001b[1;32m----> 3\u001b[1;33m     \u001b[0mb\u001b[0m\u001b[1;33m(\u001b[0m\u001b[1;33m)\u001b[0m\u001b[1;33m\u001b[0m\u001b[1;33m\u001b[0m\u001b[0m\n\u001b[0m\u001b[0;32m      4\u001b[0m     \u001b[0mprint\u001b[0m\u001b[1;33m(\u001b[0m\u001b[1;34m\"This is a again\"\u001b[0m\u001b[1;33m)\u001b[0m\u001b[1;33m\u001b[0m\u001b[1;33m\u001b[0m\u001b[0m\n\u001b[0;32m      5\u001b[0m \u001b[1;32mdef\u001b[0m \u001b[0mb\u001b[0m\u001b[1;33m(\u001b[0m\u001b[1;33m)\u001b[0m\u001b[1;33m:\u001b[0m\u001b[1;33m\u001b[0m\u001b[1;33m\u001b[0m\u001b[0m\n",
      "\u001b[1;32mC:\\Users\\CHRISA~1\\AppData\\Local\\Temp/ipykernel_15376/3128552518.py\u001b[0m in \u001b[0;36mb\u001b[1;34m()\u001b[0m\n\u001b[0;32m      5\u001b[0m \u001b[1;32mdef\u001b[0m \u001b[0mb\u001b[0m\u001b[1;33m(\u001b[0m\u001b[1;33m)\u001b[0m\u001b[1;33m:\u001b[0m\u001b[1;33m\u001b[0m\u001b[1;33m\u001b[0m\u001b[0m\n\u001b[0;32m      6\u001b[0m     \u001b[0mprint\u001b[0m\u001b[1;33m(\u001b[0m\u001b[1;34m\"This is b\"\u001b[0m\u001b[1;33m)\u001b[0m\u001b[1;33m\u001b[0m\u001b[1;33m\u001b[0m\u001b[0m\n\u001b[1;32m----> 7\u001b[1;33m     \u001b[1;32mraise\u001b[0m \u001b[0mException\u001b[0m\u001b[1;33m(\u001b[0m\u001b[1;34m\"This is raise Exception within function b.\"\u001b[0m\u001b[1;33m)\u001b[0m\u001b[1;33m\u001b[0m\u001b[1;33m\u001b[0m\u001b[0m\n\u001b[0m\u001b[0;32m      8\u001b[0m \u001b[0ma\u001b[0m\u001b[1;33m(\u001b[0m\u001b[1;33m)\u001b[0m\u001b[1;33m\u001b[0m\u001b[1;33m\u001b[0m\u001b[0m\n",
      "\u001b[1;31mException\u001b[0m: This is raise Exception within function b."
     ]
    }
   ],
   "source": [
    "def a():\n",
    "    print(\"This is a\")\n",
    "    b()\n",
    "    print(\"This is a again\")\n",
    "def b():\n",
    "    print(\"This is b\")\n",
    "    raise Exception(\"This is raise Exception within function b.\")\n",
    "a()"
   ]
  },
  {
   "cell_type": "markdown",
   "id": "9636ec34-f4b6-49d6-9364-978ecdd7bc36",
   "metadata": {},
   "source": [
    "---"
   ]
  },
  {
   "cell_type": "markdown",
   "id": "9ba087ce-53f8-49a8-9836-2e79f9fd7374",
   "metadata": {},
   "source": [
    "## Try and Except\n",
    "- **`try` `except`**--prevent an exception from stopping the program (\"catch an error\").  Used when the error is relatively unimportant or can be fixed.\n",
    "- **`raise`**--trigger an exception on purpose if condition evaluates as *True*, stopping the program.  Avoid a logical error.  Used with`if` statements in production code.  \"It is better to fail fast.\"\n",
    "- **`assert`**--trigger an exception on purpose if condition evaluates as *False*, stopping the program.  Avoid a logical error. Used with unit testing in code development. Can be read as, \"I assert that condition holds True, and if not, there is a logical error so stop the program.\" \n",
    "- **Logical error**--unintended result from valid Python code.  Because the code is valid no exception is raised, but results are still illogical.\n",
    "    - E.g. Program asks for pet age with `input()` function.  The programmer wants age in years.  The user inputs pet age in months.  The `input()` function worked correctly, but the input will likely cause illogical results.\n",
    "    - E.g. Program implements a formula to find the average but messes up the parentheses.  Instead of `(x+y) / 2` they write `x + y/2`.  This is valid code, but will cause illogical results.\n",
    "\n",
    "\n",
    "**Try except basic grammar**\n",
    "```python\n",
    "try:\n",
    "    <RUN THIS CODE>\n",
    "except:\n",
    "    <RUN THIS CODE>\n",
    "```\n",
    "\n",
    "**Try except complex grammar**\n",
    "```python\n",
    "try:\n",
    "    <RUN THIS CODE>\n",
    "except <EXCEPTION_NAME> as <ALIAS>\n",
    "    <RUN THIS CODE>\n",
    "else:\n",
    "    <RUN THIS CODE>\n",
    "finally:\n",
    "    <RUN THIS CODE>\n",
    "```\n",
    "\n",
    "**Raise grammar**\n",
    "```python\n",
    "if <CONDITION>:\n",
    "    raise Exception(\"Custom error message.\")\n",
    " ```\n",
    "\n",
    "**Assert grammar**\n",
    "```python\n",
    "assert <CONDITION>, \"Custom error message.\"\n",
    "```\n",
    "\n",
    "Code | Use\n",
    "--- | ---\n",
    "`try` | Always runs.  Like `if`.  Used to try out code that may create an error.  Give the code the old college try.  If it works, great!\n",
    "`except` | If try catches an error, then except runs.  Allows a program to keep running instead of stopping.  Except may print a message for the user, may log the exception into a file, may provide a value for future lines of code to use because user input was bad, etc.  Multiple `except` statements can be written, but only one is run (like `elif`).  **Bare exception** is when `except` is used with no other, more specific, Python exception.  It is better programming practice to write one of the ~50 exceptions in the `except` statement to tailor an action to a specific problem.\n",
    "`else` | Runs if no exceptions were raised.  Kinda like `else` used in `if` statements, but both `try` and `else` will run.  In `if` statement only  `else` runs.\n",
    "`finally` | Always runs, whether or not there is an exception\n",
    "`as` | When an exception occurs, Python creates an exception object.  We can examine the exception object by assigning it a variable name (an alias) using `as`.  Then we can work with that variable in subsequent statements.\n",
    "`raise Exception()` | Trigger a bare exception with custom message.  Custom message is optional.  Used with if statement so exception triggered if condition is *True*.\n",
    "`assert` | Trigger `AssertionError` exception and custom message if condition evaluates to *False*.  Custom message is optional.\n",
    "`python -O <FILENAME>.py` | Run script while skipping assertions"
   ]
  },
  {
   "cell_type": "markdown",
   "id": "4b38c1f8-fd30-48fe-b253-1cc2e348cca6",
   "metadata": {},
   "source": [
    "---"
   ]
  },
  {
   "cell_type": "markdown",
   "id": "1ddc48c7-079d-42a7-a680-5c0635af1cbe",
   "metadata": {},
   "source": [
    "**EXAMPLES**"
   ]
  },
  {
   "cell_type": "markdown",
   "id": "3fd8d56e-8706-47c3-8810-9ca5fb8d070d",
   "metadata": {},
   "source": [
    "**`try except`**"
   ]
  },
  {
   "cell_type": "markdown",
   "id": "d272e5ea-7dc1-4bbf-bcb3-3cdf847179af",
   "metadata": {},
   "source": [
    "- try except does NOT help with syntax errors"
   ]
  },
  {
   "cell_type": "code",
   "execution_count": 4,
   "id": "c65e2f03-ef4f-4eb7-ad90-8444f88acfbc",
   "metadata": {},
   "outputs": [
    {
     "ename": "SyntaxError",
     "evalue": "invalid syntax (Temp/ipykernel_15376/3832458768.py, line 1)",
     "output_type": "error",
     "traceback": [
      "\u001b[1;36m  File \u001b[1;32m\"C:\\Users\\CHRISA~1\\AppData\\Local\\Temp/ipykernel_15376/3832458768.py\"\u001b[1;36m, line \u001b[1;32m1\u001b[0m\n\u001b[1;33m    print\"We are missing the first parenthesis.\")\u001b[0m\n\u001b[1;37m         ^\u001b[0m\n\u001b[1;31mSyntaxError\u001b[0m\u001b[1;31m:\u001b[0m invalid syntax\n"
     ]
    }
   ],
   "source": [
    "print\"We are missing the first parenthesis.\")"
   ]
  },
  {
   "cell_type": "code",
   "execution_count": 5,
   "id": "f1e8c8bb-b012-4418-94da-63be6d112905",
   "metadata": {},
   "outputs": [
    {
     "ename": "SyntaxError",
     "evalue": "invalid syntax (Temp/ipykernel_15376/693241023.py, line 2)",
     "output_type": "error",
     "traceback": [
      "\u001b[1;36m  File \u001b[1;32m\"C:\\Users\\CHRISA~1\\AppData\\Local\\Temp/ipykernel_15376/693241023.py\"\u001b[1;36m, line \u001b[1;32m2\u001b[0m\n\u001b[1;33m    print\"We are missing the first parenthesis.\")\u001b[0m\n\u001b[1;37m         ^\u001b[0m\n\u001b[1;31mSyntaxError\u001b[0m\u001b[1;31m:\u001b[0m invalid syntax\n"
     ]
    }
   ],
   "source": [
    "try:\n",
    "    print\"We are missing the first parenthesis.\")\n",
    "except:\n",
    "    print(\"If you are reading this then try failed, but except worked.\")"
   ]
  },
  {
   "cell_type": "markdown",
   "id": "c074dadc-a043-4bf8-801f-fc9088caad9f",
   "metadata": {},
   "source": [
    "- try except DOES help with all other errors/exceptions"
   ]
  },
  {
   "cell_type": "code",
   "execution_count": 6,
   "id": "9ac24a44-c9ef-44b1-bf0b-3122df10d730",
   "metadata": {},
   "outputs": [
    {
     "ename": "NameError",
     "evalue": "name 'prin' is not defined",
     "output_type": "error",
     "traceback": [
      "\u001b[1;31m---------------------------------------------------------------------------\u001b[0m",
      "\u001b[1;31mNameError\u001b[0m                                 Traceback (most recent call last)",
      "\u001b[1;32mC:\\Users\\CHRISA~1\\AppData\\Local\\Temp/ipykernel_15376/1913131188.py\u001b[0m in \u001b[0;36m<module>\u001b[1;34m\u001b[0m\n\u001b[0;32m      1\u001b[0m \u001b[1;31m# Exception example with a missing t in print\u001b[0m\u001b[1;33m\u001b[0m\u001b[1;33m\u001b[0m\u001b[0m\n\u001b[1;32m----> 2\u001b[1;33m \u001b[0mprin\u001b[0m\u001b[1;33m(\u001b[0m\u001b[1;34m\"Hello world\"\u001b[0m\u001b[1;33m)\u001b[0m\u001b[1;33m\u001b[0m\u001b[1;33m\u001b[0m\u001b[0m\n\u001b[0m",
      "\u001b[1;31mNameError\u001b[0m: name 'prin' is not defined"
     ]
    }
   ],
   "source": [
    "# Exception example with a missing t in print\n",
    "prin(\"Hello world\")"
   ]
  },
  {
   "cell_type": "code",
   "execution_count": 7,
   "id": "4e74eda6-9a77-4b13-9b2d-25c421990a9e",
   "metadata": {},
   "outputs": [
    {
     "name": "stdout",
     "output_type": "stream",
     "text": [
      "If you are reading this then try failed, but except worked.\n"
     ]
    }
   ],
   "source": [
    "# Exception with try and except.  Bare except.\n",
    "try:\n",
    "    prin(\"If you are reading this then try worked.\")\n",
    "except:\n",
    "    print(\"If you are reading this then try failed, but except worked.\")"
   ]
  },
  {
   "cell_type": "code",
   "execution_count": 8,
   "id": "171ca634-0e31-4d39-b2fc-5dc6a993f7f5",
   "metadata": {},
   "outputs": [
    {
     "name": "stdout",
     "output_type": "stream",
     "text": [
      "If you are reading this then try failed, but except worked.\n"
     ]
    }
   ],
   "source": [
    "# Exception with try and except.  Except statement uses specific Python exception.\n",
    "try:\n",
    "    prin(\"If you are reading this then try worked.\")\n",
    "except NameError:\n",
    "    print(\"If you are reading this then try failed, but except worked.\")"
   ]
  },
  {
   "cell_type": "code",
   "execution_count": 9,
   "id": "07655d09-1eec-40fe-8179-1ddd2499181d",
   "metadata": {},
   "outputs": [
    {
     "ename": "NameError",
     "evalue": "name 'prin' is not defined",
     "output_type": "error",
     "traceback": [
      "\u001b[1;31m---------------------------------------------------------------------------\u001b[0m",
      "\u001b[1;31mNameError\u001b[0m                                 Traceback (most recent call last)",
      "\u001b[1;32mC:\\Users\\CHRISA~1\\AppData\\Local\\Temp/ipykernel_15376/3937577470.py\u001b[0m in \u001b[0;36m<module>\u001b[1;34m\u001b[0m\n\u001b[0;32m      1\u001b[0m \u001b[1;31m# Exception with try and except.  Except statement uses the WRONG specific Python exception so still fails.\u001b[0m\u001b[1;33m\u001b[0m\u001b[1;33m\u001b[0m\u001b[0m\n\u001b[0;32m      2\u001b[0m \u001b[1;32mtry\u001b[0m\u001b[1;33m:\u001b[0m\u001b[1;33m\u001b[0m\u001b[1;33m\u001b[0m\u001b[0m\n\u001b[1;32m----> 3\u001b[1;33m     \u001b[0mprin\u001b[0m\u001b[1;33m(\u001b[0m\u001b[1;34m\"If you are reading this then try worked.\"\u001b[0m\u001b[1;33m)\u001b[0m\u001b[1;33m\u001b[0m\u001b[1;33m\u001b[0m\u001b[0m\n\u001b[0m\u001b[0;32m      4\u001b[0m \u001b[1;32mexcept\u001b[0m \u001b[0mTypeError\u001b[0m\u001b[1;33m:\u001b[0m\u001b[1;33m\u001b[0m\u001b[1;33m\u001b[0m\u001b[0m\n\u001b[0;32m      5\u001b[0m     \u001b[0mprint\u001b[0m\u001b[1;33m(\u001b[0m\u001b[1;34m\"If you are reading this then try failed, but except worked.\"\u001b[0m\u001b[1;33m)\u001b[0m\u001b[1;33m\u001b[0m\u001b[1;33m\u001b[0m\u001b[0m\n",
      "\u001b[1;31mNameError\u001b[0m: name 'prin' is not defined"
     ]
    }
   ],
   "source": [
    "# Exception with try and except.  Except statement uses the WRONG specific Python exception so still fails.\n",
    "try:\n",
    "    prin(\"If you are reading this then try worked.\")\n",
    "except TypeError:\n",
    "    print(\"If you are reading this then try failed, but except worked.\")"
   ]
  },
  {
   "cell_type": "code",
   "execution_count": 10,
   "id": "af3a7bcd-6765-40d7-9ba0-a1d61e06bae5",
   "metadata": {},
   "outputs": [
    {
     "name": "stdout",
     "output_type": "stream",
     "text": [
      "If you are reading this then try failed, but one of the excepts worked.\n"
     ]
    }
   ],
   "source": [
    "# Exception with try and except\n",
    "# Except statement uses the WRONG specific Python exception, but another except works.\n",
    "# Bare except used at end as catch all. Not needed in this example.\n",
    "try:\n",
    "    prin(\"If you are reading this then try worked.\")\n",
    "except TypeError:\n",
    "    print(\"If you are reading this then try failed, but one of the excepts worked.\")\n",
    "except NameError:\n",
    "    print(\"If you are reading this then try failed, but one of the excepts worked.\")\n",
    "except:\n",
    "    print(\"If you are reading this then try failed, but one of the excepts worked.\")"
   ]
  },
  {
   "cell_type": "markdown",
   "id": "70611d4c-08f3-44ff-b2b3-4e7b11be5ca4",
   "metadata": {},
   "source": [
    "**`else`**"
   ]
  },
  {
   "cell_type": "code",
   "execution_count": 11,
   "id": "5cedd281-9d8c-426d-be81-664b889bd01f",
   "metadata": {},
   "outputs": [
    {
     "name": "stdout",
     "output_type": "stream",
     "text": [
      "If you are reading this then try worked.\n",
      "This is else.  If you are reading this then try worked.\n"
     ]
    }
   ],
   "source": [
    "try:\n",
    "    print(\"If you are reading this then try worked.\")\n",
    "except TypeError:\n",
    "    print(\"If you are reading this then try failed, but except worked.\")\n",
    "else:\n",
    "    print(\"This is else.  If you are reading this then try worked.\")"
   ]
  },
  {
   "cell_type": "markdown",
   "id": "2abb3ec7-d291-4278-8ddb-c6ba8c2208d5",
   "metadata": {},
   "source": [
    "**`finally`**"
   ]
  },
  {
   "cell_type": "code",
   "execution_count": 12,
   "id": "c7f29443-eb13-401a-9148-eb07fbe1a8c9",
   "metadata": {},
   "outputs": [
    {
     "name": "stdout",
     "output_type": "stream",
     "text": [
      "If you are reading this then try worked.\n",
      "This is finally.  Regardless of what happended, finally runs.\n"
     ]
    }
   ],
   "source": [
    "# finally with no exceptions\n",
    "try:\n",
    "    print(\"If you are reading this then try worked.\")\n",
    "except:\n",
    "    print(\"If you are reading this then try failed, but except worked.\")\n",
    "finally:\n",
    "    print(\"This is finally.  Regardless of what happended, finally runs.\")"
   ]
  },
  {
   "cell_type": "markdown",
   "id": "95f17e5b-34a3-402d-9320-b534fffd2ba4",
   "metadata": {},
   "source": [
    "**`as`**"
   ]
  },
  {
   "cell_type": "code",
   "execution_count": 13,
   "id": "6b3902e8-9389-4c7a-950d-3a196f908ca5",
   "metadata": {},
   "outputs": [
    {
     "name": "stdout",
     "output_type": "stream",
     "text": [
      "<class 'NameError'>\n",
      "name 'prin' is not defined\n",
      "If you are reading this then try failed, but except worked.\n"
     ]
    }
   ],
   "source": [
    "try:\n",
    "    prin(\"If you are reading this then try worked.\")\n",
    "except NameError as T_time:\n",
    "    print(type(T_time))\n",
    "    print(T_time)\n",
    "    print(\"If you are reading this then try failed, but except worked.\")"
   ]
  },
  {
   "cell_type": "markdown",
   "id": "57a12652-6adf-4f42-9172-a1f57caef97f",
   "metadata": {},
   "source": [
    "**`raise Exception()`**"
   ]
  },
  {
   "cell_type": "code",
   "execution_count": 14,
   "id": "a5900964-dd73-4a42-82c1-f05e38467456",
   "metadata": {},
   "outputs": [
    {
     "ename": "Exception",
     "evalue": "",
     "output_type": "error",
     "traceback": [
      "\u001b[1;31m---------------------------------------------------------------------------\u001b[0m",
      "\u001b[1;31mException\u001b[0m                                 Traceback (most recent call last)",
      "\u001b[1;32mC:\\Users\\CHRISA~1\\AppData\\Local\\Temp/ipykernel_15376/1456987571.py\u001b[0m in \u001b[0;36m<module>\u001b[1;34m\u001b[0m\n\u001b[1;32m----> 1\u001b[1;33m \u001b[1;32mraise\u001b[0m \u001b[0mException\u001b[0m\u001b[1;33m(\u001b[0m\u001b[1;33m)\u001b[0m\u001b[1;33m\u001b[0m\u001b[1;33m\u001b[0m\u001b[0m\n\u001b[0m",
      "\u001b[1;31mException\u001b[0m: "
     ]
    }
   ],
   "source": [
    "raise Exception()"
   ]
  },
  {
   "cell_type": "code",
   "execution_count": 15,
   "id": "00c7f073-cd80-4e6b-8f60-433fe8c2d014",
   "metadata": {},
   "outputs": [
    {
     "ename": "Exception",
     "evalue": "This is an Exception.  Wrong celestial salutation.  Please address the \"world.\"  Thank you.",
     "output_type": "error",
     "traceback": [
      "\u001b[1;31m---------------------------------------------------------------------------\u001b[0m",
      "\u001b[1;31mException\u001b[0m                                 Traceback (most recent call last)",
      "\u001b[1;32mC:\\Users\\CHRISA~1\\AppData\\Local\\Temp/ipykernel_15376/3352089431.py\u001b[0m in \u001b[0;36m<module>\u001b[1;34m\u001b[0m\n\u001b[0;32m      1\u001b[0m \u001b[0mgreeting\u001b[0m \u001b[1;33m=\u001b[0m \u001b[1;34m\"Hello whirled\"\u001b[0m\u001b[1;33m\u001b[0m\u001b[1;33m\u001b[0m\u001b[0m\n\u001b[0;32m      2\u001b[0m \u001b[1;32mif\u001b[0m \u001b[0mgreeting\u001b[0m \u001b[1;33m!=\u001b[0m \u001b[1;34m\"Hello world\"\u001b[0m\u001b[1;33m:\u001b[0m\u001b[1;33m\u001b[0m\u001b[1;33m\u001b[0m\u001b[0m\n\u001b[1;32m----> 3\u001b[1;33m     \u001b[1;32mraise\u001b[0m \u001b[0mException\u001b[0m\u001b[1;33m(\u001b[0m\u001b[1;34m'This is an Exception.  Wrong celestial salutation.  Please address the \"world.\"  Thank you.'\u001b[0m\u001b[1;33m)\u001b[0m\u001b[1;33m\u001b[0m\u001b[1;33m\u001b[0m\u001b[0m\n\u001b[0m",
      "\u001b[1;31mException\u001b[0m: This is an Exception.  Wrong celestial salutation.  Please address the \"world.\"  Thank you."
     ]
    }
   ],
   "source": [
    "greeting = \"Hello whirled\"\n",
    "if greeting != \"Hello world\":\n",
    "    raise Exception('This is an Exception.  Wrong celestial salutation.  Please address the \"world.\"  Thank you.')"
   ]
  },
  {
   "cell_type": "code",
   "execution_count": 16,
   "id": "e2a0c536-b00d-40cf-9dbb-1e0585f9f096",
   "metadata": {},
   "outputs": [
    {
     "name": "stdout",
     "output_type": "stream",
     "text": [
      "An exception has occured. Age can not be negative...yet\n"
     ]
    }
   ],
   "source": [
    "# Raise is often used within functions\n",
    "def age_in_50_years(current_age):\n",
    "        if current_age <= 0:\n",
    "            raise Exception(\"Age can not be negative...yet\")\n",
    "        elif current_age >= 150:\n",
    "            raise Exception(\"No human lives this long...yet.\")\n",
    "        new_age = current_age + 50\n",
    "        return new_age\n",
    "\n",
    "# Try except is often used when functions have a raise\n",
    "try:\n",
    "    age_in_50_years(-1)\n",
    "except Exception as err:\n",
    "    print(f'An exception has occured. {err}')"
   ]
  },
  {
   "cell_type": "markdown",
   "id": "5cb21fdc-acd4-43e5-a645-7af5b819da61",
   "metadata": {},
   "source": [
    "**`assert`**"
   ]
  },
  {
   "cell_type": "code",
   "execution_count": 17,
   "id": "37087931-01ef-4a29-8ec1-4625e82ed213",
   "metadata": {},
   "outputs": [
    {
     "ename": "AssertionError",
     "evalue": "",
     "output_type": "error",
     "traceback": [
      "\u001b[1;31m---------------------------------------------------------------------------\u001b[0m",
      "\u001b[1;31mAssertionError\u001b[0m                            Traceback (most recent call last)",
      "\u001b[1;32mC:\\Users\\CHRISA~1\\AppData\\Local\\Temp/ipykernel_15376/2103537015.py\u001b[0m in \u001b[0;36m<module>\u001b[1;34m\u001b[0m\n\u001b[1;32m----> 1\u001b[1;33m \u001b[1;32massert\u001b[0m \u001b[1;32mFalse\u001b[0m\u001b[1;33m\u001b[0m\u001b[1;33m\u001b[0m\u001b[0m\n\u001b[0m",
      "\u001b[1;31mAssertionError\u001b[0m: "
     ]
    }
   ],
   "source": [
    "assert False"
   ]
  },
  {
   "cell_type": "code",
   "execution_count": 18,
   "id": "371132c3-06a9-45bd-b784-2aafc64a2a06",
   "metadata": {},
   "outputs": [
    {
     "ename": "AssertionError",
     "evalue": "I assert this is True, if not stop the program.",
     "output_type": "error",
     "traceback": [
      "\u001b[1;31m---------------------------------------------------------------------------\u001b[0m",
      "\u001b[1;31mAssertionError\u001b[0m                            Traceback (most recent call last)",
      "\u001b[1;32mC:\\Users\\CHRISA~1\\AppData\\Local\\Temp/ipykernel_15376/2472247806.py\u001b[0m in \u001b[0;36m<module>\u001b[1;34m\u001b[0m\n\u001b[0;32m      1\u001b[0m \u001b[0mgreeting\u001b[0m \u001b[1;33m=\u001b[0m \u001b[1;34m\"Hello whirled\"\u001b[0m\u001b[1;33m\u001b[0m\u001b[1;33m\u001b[0m\u001b[0m\n\u001b[1;32m----> 2\u001b[1;33m \u001b[1;32massert\u001b[0m \u001b[0mgreeting\u001b[0m \u001b[1;33m==\u001b[0m \u001b[1;34m\"Hello world\"\u001b[0m\u001b[1;33m,\u001b[0m \u001b[1;34m'I assert this is True, if not stop the program.'\u001b[0m\u001b[1;33m\u001b[0m\u001b[1;33m\u001b[0m\u001b[0m\n\u001b[0m",
      "\u001b[1;31mAssertionError\u001b[0m: I assert this is True, if not stop the program."
     ]
    }
   ],
   "source": [
    "greeting = \"Hello whirled\"\n",
    "assert greeting == \"Hello world\", 'I assert this is True, if not stop the program.' "
   ]
  },
  {
   "cell_type": "code",
   "execution_count": 19,
   "id": "dc0634b6-d1c5-412c-a584-1568d01d495c",
   "metadata": {},
   "outputs": [],
   "source": [
    "sorted_numbers = sorted([3, 4, 1, 5, 2])\n",
    "assert sorted_numbers[0] < sorted_numbers[4] , 'I assert this is True, if not stop the program.' "
   ]
  },
  {
   "cell_type": "markdown",
   "id": "d53b216e-c6c9-4fc6-980e-da491f6036cb",
   "metadata": {},
   "source": [
    "---"
   ]
  },
  {
   "cell_type": "markdown",
   "id": "bc5ed2d1-7a44-47ed-8e54-5e259ee99b19",
   "metadata": {},
   "source": [
    "## Logging\n",
    "- The logging module in Python is very complicated (also sometimes uses dromedary camelCase) as it is copied from old Java code\n",
    "- **Logging**--log data and descriptive message at different lines in a script.  Similar to using a print statement to display a variable's value at different lines in a script.  Using a logging module provides many more options and is recommended.\n",
    "- **Log Record**--each time data + message + level is recorded it forms a log record\n",
    "- **Logging levels**--categorize log messages by importance.  There are 5 logging levels.  Messages can be logged at each level using a different logging function.\n",
    "\n",
    "![](images/logging.jpg)\n",
    "\n",
    "- Logging may be combined with try except statements so that when an exception is caught, a log record is created.  Likely would be level error or critical\n",
    "- **Logger**--creates log records.  Specify which levels to log, while rest are ignored.\n",
    "- **Handler**--controls whether log records are printed, saved to a file, or sent across a network.  Like logger, handler can also specify which levels to log.\n",
    "- **Filters**--additional options that control which log records are logged and which are ignored\n",
    "- **Formatter**--controls the text format of the log record.  We do this by string formatting that is similar (but different) to Python's now deprecated conversion specifier `%s`.   E.g. `%(asctime)s -  %(levelname)s -  %(message)s'`.  Can change date-time format if needed.\n",
    "\n",
    "![](images/logging_attributes.jpg)\n",
    "\n",
    "- The logger, handler, filter, and formatter all have options that can be changed.  These options are stored in an underlying Python dictionary.  This dictionary can be:\n",
    "    1. Created directly\n",
    "    1. Created through the use of an external JSON or YAML file\n",
    "    1. Created with Python functions (what we'll do)"
   ]
  },
  {
   "cell_type": "markdown",
   "id": "b4b8c294-b97b-4e0d-8ebe-4990652aea9d",
   "metadata": {},
   "source": [
    "Code | Use\n",
    "--- | ---\n",
    "`logging` | Module\n",
    "`logging.getLogger(__name__)` | Create logger object.   By convention, argument is`__name__`.\n",
    "`__name__` |  Variable assigned to string value that changes depending on whether the code line containing `__name__` is run as a script (what we do normally) or is imported as a module.  When the containing code is run as a script it equals `'_main__'`.  When containing code is imported as module `__name__` will be a string of the imported module's name.\n",
    "`.setLevel(logging.<LEVEL>)` | Logger object method.  Set level.  Level in all caps.  Logs specified level and all levels above (more important), while ignoring the rest.  E.g. `DEBUG` records all levels.  `ERROR` records error and critical. \n",
    "`logging.StreamHandler()` | Create stream handler object.  Prints log records.\n",
    "`logging.FileHandler('<FILENAME.EXT>', '<MODE>')` | Create file handler object.  Saves log records to file.\n",
    "`.setLevel(logging.<LEVEL>)` | Handler object method.  Same grammar as logging object.\n",
    "`logging.Formatter(<FORMAT>)` | Create formatter object\n",
    "`'%(asctime)s - %(name)s - %(levelname)s - %(message)s'` | Example format\n",
    "`.setFormatter(<FORMATTER_OBJECT_NAME>)` | Handler object method.  Add formatter to handler.\n",
    "`.addHandler(<HANDLER_OBJECT_NAME>)` | Logger object method.  Add handler to logger object.\n",
    "`.debug('<MESSAGE>')` | Logger object method.  Debug level log record object created.\n",
    "`.info('<MESSAGE>')` | Logger object method.  Info level log record object created.\n",
    "`.warning('<MESSAGE>')` | Logger object method.  Warning level log record object created.\n",
    "`.error('<MESSAGE>')` | Logger object method.  Error level log record object created.\n",
    "`.critical('<MESSAGE>')` | Logger object method.  Critical level log record object created."
   ]
  },
  {
   "cell_type": "markdown",
   "id": "d283bed9-4ff4-49ea-a471-50306be3fd1b",
   "metadata": {},
   "source": [
    "---"
   ]
  },
  {
   "cell_type": "markdown",
   "id": "0a4d1e4e-603a-4e0d-8bef-3171ac08c04b",
   "metadata": {},
   "source": [
    "**EXAMPLES**"
   ]
  },
  {
   "cell_type": "code",
   "execution_count": 20,
   "id": "5a9a911a-bf2a-4d36-8827-10d1e1c90455",
   "metadata": {},
   "outputs": [],
   "source": [
    "import logging"
   ]
  },
  {
   "cell_type": "markdown",
   "id": "45fed98f-b512-4b1c-a6b8-9362f724b102",
   "metadata": {},
   "source": [
    "**Configuration**"
   ]
  },
  {
   "cell_type": "code",
   "execution_count": 21,
   "id": "7ae5612a-a55f-4c10-b0ec-c224b883a586",
   "metadata": {},
   "outputs": [],
   "source": [
    "# Create logger object\n",
    "logger_object = logging.getLogger(__name__)\n",
    "logger_object.setLevel(logging.DEBUG)\n",
    "\n",
    "# Create handler object\n",
    "stream_handler_object = logging.StreamHandler()  # Prints to console/terminal\n",
    "file_handler_object = logging.FileHandler('./output/log_records.txt', 'a')  # Saves to file\n",
    "stream_handler_object.setLevel(logging.DEBUG)\n",
    "file_handler_object.setLevel(logging.DEBUG)\n",
    "\n",
    "# Create formatter object\n",
    "formatter_object = logging.Formatter('%(asctime)s - %(name)s - %(levelname)s - %(message)s')\n",
    "\n",
    "# Add formatter to handler object\n",
    "stream_handler_object.setFormatter(formatter_object)\n",
    "file_handler_object.setFormatter(formatter_object)\n",
    "\n",
    "# Add handler object to logger object\n",
    "logger_object.addHandler(stream_handler_object)\n",
    "logger_object.addHandler(file_handler_object)"
   ]
  },
  {
   "cell_type": "markdown",
   "id": "60bb1a10-965d-4325-b43c-ad30ab58f1e2",
   "metadata": {},
   "source": [
    "**Log Records**"
   ]
  },
  {
   "cell_type": "code",
   "execution_count": 22,
   "id": "2f4c5848-72e6-4eed-b6fd-0a69df7ab201",
   "metadata": {},
   "outputs": [
    {
     "name": "stderr",
     "output_type": "stream",
     "text": [
      "2022-01-01 21:34:03,116 - __main__ - DEBUG - debug message\n",
      "2022-01-01 21:34:03,117 - __main__ - INFO - info message\n",
      "2022-01-01 21:34:03,118 - __main__ - WARNING - warn message\n",
      "2022-01-01 21:34:03,119 - __main__ - ERROR - error message\n",
      "2022-01-01 21:34:03,119 - __main__ - CRITICAL - critical message\n"
     ]
    }
   ],
   "source": [
    "logger_object.debug('debug message')\n",
    "logger_object.info('info message')\n",
    "logger_object.warning('warn message')\n",
    "logger_object.error('error message')\n",
    "logger_object.critical('critical message')"
   ]
  },
  {
   "cell_type": "markdown",
   "id": "2a2ca0e8-9c3e-4636-8f54-2c9a1851d252",
   "metadata": {},
   "source": [
    "**Capturing Traceback Message**"
   ]
  },
  {
   "cell_type": "code",
   "execution_count": 23,
   "id": "90e0053c-4fc3-424d-b1b5-dec3aaaaef1e",
   "metadata": {},
   "outputs": [
    {
     "name": "stderr",
     "output_type": "stream",
     "text": [
      "2022-01-01 21:34:03,659 - __main__ - ERROR - Exception occured.  Traceback message is:\n",
      "Traceback (most recent call last):\n",
      "  File \"C:\\Users\\CHRISA~1\\AppData\\Local\\Temp/ipykernel_15376/1648813604.py\", line 2, in <module>\n",
      "    2/0\n",
      "ZeroDivisionError: division by zero\n"
     ]
    }
   ],
   "source": [
    "try:\n",
    "    2/0\n",
    "except:\n",
    "    logger_object.error(\"Exception occured.  Traceback message is:\", exc_info=True)"
   ]
  },
  {
   "cell_type": "code",
   "execution_count": 24,
   "id": "5eae2c76-7ce2-438c-ae98-7bf78188e4e8",
   "metadata": {},
   "outputs": [
    {
     "name": "stderr",
     "output_type": "stream",
     "text": [
      "2022-01-01 21:34:03,934 - __main__ - ERROR - Exception occured\n",
      "Traceback (most recent call last):\n",
      "  File \"C:\\Users\\CHRISA~1\\AppData\\Local\\Temp/ipykernel_15376/2542281761.py\", line 5, in <module>\n",
      "    2/0\n",
      "ZeroDivisionError: division by zero\n"
     ]
    }
   ],
   "source": [
    "# The following does the same as the above\n",
    "# The above can use any level (even though we use error)\n",
    "# The following always creates log records of level error, but has cleaner looking code\n",
    "try:\n",
    "    2/0\n",
    "except:\n",
    "    logger_object.exception(\"Exception occured\")"
   ]
  },
  {
   "cell_type": "markdown",
   "id": "8115c3be-50c0-4b21-a229-84a4b02c664f",
   "metadata": {},
   "source": [
    "---"
   ]
  },
  {
   "cell_type": "markdown",
   "id": "9a06a276-f1ec-4700-aad2-101e8ed9a2d2",
   "metadata": {},
   "source": [
    "## Debugging\n",
    "- **Debugging**--the process of fixing mistakes in code\n",
    "- **Debugger**--program that helps users debug code.  The basic idea is that we execute our code line by line.  At each line we can:\n",
    "    1. See the callstack\n",
    "    1. See currently existing variable values and their data type in the different scopes (local, global, and built-in)\n",
    "- Common terminology:\n",
    "    - **Step over**--execute 1 line then pause.  If we use step over on a line with a function call, we execute the entire function as if it were a black box and then pause at the line underneath that function\n",
    "    - **Step into**--execute 1 line then pause.  If we use step into on a line with a function call, we go into that function and pause on the first line.  The twist is that  this only steps into functions defined in our code.  You can't step into functions from other imported modules. \n",
    "    - **Step Out**--executes all the code in the current function, steps out of current function, and pauses at next line.  Allows us to quickly step out of current function we've stepped into.\n",
    "    - **Breakpoints**--location (point) in a script we want to stop at (break into debugger).  Stepping line by line through code could take a long time.  Setting breakpoints at points of interest allow us to run many lines of code and then stop at the breakpoint.  We could then inspect the callstack or variables.\n",
    "    - **Continue**--execute lines of code until we reach next breakpoint, then pause\n",
    "    - **Post Mortem Debugging**--debugging after a program (script) has already crashed\n",
    "- We'll first cover the `repr()` function and how it differs form the `str()` function.  This is relevant because when debuggers display variable values, they use `repr()` under the hood.\n",
    "- Then we'll look at a few Python debuggers like pdb, Jupyter lab, and VS Code.\n",
    "\n",
    "Code | Use\n",
    " --- | ---\n",
    " `str(<OBJECT>)` | Based upon `__str__` and returns very readable \"unofficial\" string version of specified object\n",
    " `repr(<OBJECT>)` | Based upon `__repr__` and returns unambiguous \"official\" string version of specified object.  Good for debugging purposes."
   ]
  },
  {
   "cell_type": "markdown",
   "id": "27506c60-e5c5-4fe7-9251-e3bc0886f588",
   "metadata": {},
   "source": [
    "---"
   ]
  },
  {
   "cell_type": "markdown",
   "id": "caca4b4e-8e89-4c65-99e4-ca9fab496060",
   "metadata": {},
   "source": [
    "**EXAMPLES**"
   ]
  },
  {
   "cell_type": "code",
   "execution_count": 25,
   "id": "3b7e41cb-1593-4e12-be31-f5b019c0fcad",
   "metadata": {},
   "outputs": [
    {
     "name": "stdout",
     "output_type": "stream",
     "text": [
      "123\n",
      "123\n"
     ]
    }
   ],
   "source": [
    "print(str(123))\n",
    "print(repr(123))  # No difference"
   ]
  },
  {
   "cell_type": "code",
   "execution_count": 26,
   "id": "7067db23-a506-41ed-a41a-96c3ba3512a4",
   "metadata": {},
   "outputs": [
    {
     "name": "stdout",
     "output_type": "stream",
     "text": [
      "Hello world\n",
      "'Hello world'\n"
     ]
    }
   ],
   "source": [
    "print(str(\"Hello world\"))  # Removes quotes for readability\n",
    "print(repr(\"Hello world\"))  # Notice the quotes"
   ]
  },
  {
   "cell_type": "code",
   "execution_count": 27,
   "id": "f1f9db10-a17f-43f3-ae47-f62654fc9edb",
   "metadata": {},
   "outputs": [
    {
     "name": "stdout",
     "output_type": "stream",
     "text": [
      "2022-01-01 21:34:06.401776\n",
      "datetime.datetime(2022, 1, 1, 21, 34, 6, 401776)\n"
     ]
    }
   ],
   "source": [
    "import datetime\n",
    "\n",
    "today = datetime.datetime.now()\n",
    "print(str(today))  # Easier to read\n",
    "print(repr(today))  # More info on data type"
   ]
  },
  {
   "cell_type": "code",
   "execution_count": 28,
   "id": "5387b5dc-7778-47c5-8d98-9bca4edea617",
   "metadata": {},
   "outputs": [
    {
     "name": "stdout",
     "output_type": "stream",
     "text": [
      "division by zero\n",
      "ZeroDivisionError('division by zero')\n"
     ]
    }
   ],
   "source": [
    "try:\n",
    "    2/0\n",
    "except ZeroDivisionError as err:\n",
    "    print(str(err))  # Less detailed\n",
    "try:\n",
    "    2/0\n",
    "except ZeroDivisionError as err:\n",
    "    print(repr(err))   # More detailed"
   ]
  },
  {
   "cell_type": "markdown",
   "id": "5a4813ef-5ef7-423c-9e19-95a4468ba086",
   "metadata": {},
   "source": [
    "---"
   ]
  },
  {
   "cell_type": "markdown",
   "id": "59c07459-b220-4978-9f44-1a4219e216a9",
   "metadata": {
    "tags": []
   },
   "source": [
    "**Python Debugger**\n",
    "\n",
    "- **pdb**--Python debugger.  Debugger in Python Standard Library. Everything can be done through the command line, so it's great if we do not have access to an IDE.  This may occur if we are debugging on a server. IDEs have more advanced GUI debuggers that should be used when available.\n",
    "\n",
    "![](images/pdb_commands.jpg)\n",
    " \n",
    "- Along with the commands above, a few pieces of grammar to know are:\n",
    " \n",
    "Code | Use\n",
    "--- | ---\n",
    "`pdb` | Module\n",
    "`python -m pdb <SCRIPT_NAME>.py` | Start debugging from terminal\n",
    "`(Pdb)` | Prompt, signifying debugger is read to to accept next command.  Similar to `>>>` in REPL.\n",
    " `>` | Starts the first line and tells us which source file path we're in.  After the filename, there is a current line number in parentheses.  Next is the name of the function.  If we are not inside a function, then we are at the module level and see `<module>()`.\n",
    "`->` | Signifies the line that we are paused right before.  We have not run this line yet.\n",
    "`--Call--` |  When we step into a function that is called this text is shown\n",
    "`--Return--` |  Both `n` and `s` stop at end of a function and print return value at the end of the next line after ->"
   ]
  },
  {
   "cell_type": "markdown",
   "id": "0d4b96a6-ab3d-431c-8629-bfd420617ede",
   "metadata": {},
   "source": [
    "---"
   ]
  },
  {
   "cell_type": "markdown",
   "id": "43bedb2a-9d65-4117-8d09-de8bb472bb13",
   "metadata": {},
   "source": [
    "**EXAMPLES**"
   ]
  },
  {
   "cell_type": "markdown",
   "id": "97026491-cb56-4511-a2a1-d53bfc999876",
   "metadata": {},
   "source": [
    "- The easiest way to learn how to use the debugger is to start debugging from the terminal by calling `python -m pdb <SCRIPT_NAME>.py` and playing with the commands\n",
    "- Try the `pdb_example_1.py` file in the input folder\n",
    "    - Note that `p` uses `__repr__` under the hood\n",
    "    - As a reminder, if accidently step into a module `u` can be used to move up one level\n",
    "- Try the `pdb_example_2.py` file in the input folder\n",
    "   - Note the scope of variabes.  The global variable can always be printed after the assignment statement is executed.  The local variable can only be printed after the assignment statement has been executed while that function is running.  See the *Namespace and Scope* section for the logic behind this.\n",
    "- Try the `pdb_example_3.py` file in the input folder\n",
    "    - Note the exceptions and how they are displayed when we go through them (strangely).  This is on top of return values which are always displayed multiple times at different levels (strangely).  Not intuitive."
   ]
  },
  {
   "cell_type": "markdown",
   "id": "2f5ae755-8c72-451c-ba1e-f8cb750eb564",
   "metadata": {},
   "source": [
    "---"
   ]
  },
  {
   "cell_type": "markdown",
   "id": "b4d58dd0-75cf-44b4-bb68-9a189e1c9724",
   "metadata": {
    "tags": []
   },
   "source": [
    "**Jupyter Lab Debugger**\n",
    "- Jupyter Lab has its own debugger starting in Jupyter Lab 3.0\n",
    "- The ipykernel has support for this debugger\n",
    "    1. Enable debugger by clicking on an icon in the top right\n",
    "    1. Add breakpoint by clicking to the left of the line number\n",
    "    1. Run the cell normally\n",
    "    1. Inspect the panels to the right\n",
    "        - Callstack panel has GUI equivalent to `c`, `n`, `s`, `q`, and a couple others.\n",
    "        - Variables panel can display global variables (lots if we have tons of cells) and local variables\n",
    "        - Breakpoints panel shows line numbers of breakpoints.  Not helpful as these are seen to left of code cell anyway\n",
    "        - Source panel shows actual code and highlights the lines as we step through them  "
   ]
  },
  {
   "cell_type": "markdown",
   "id": "c4ed8bf1-b858-4810-bb8b-7d578cf16fa2",
   "metadata": {},
   "source": [
    "---"
   ]
  },
  {
   "cell_type": "markdown",
   "id": "72ccefa9-e4b7-4047-8a01-ff0c83af2ead",
   "metadata": {},
   "source": [
    "**EXAMPLES**"
   ]
  },
  {
   "cell_type": "code",
   "execution_count": 29,
   "id": "0565b4ed-bdde-43c7-aa81-097628716fdd",
   "metadata": {},
   "outputs": [
    {
     "name": "stdout",
     "output_type": "stream",
     "text": [
      "This is a\n",
      "This is b\n",
      "This is a again\n"
     ]
    },
    {
     "data": {
      "text/plain": [
       "'This string is the function a return value'"
      ]
     },
     "execution_count": 29,
     "metadata": {},
     "output_type": "execute_result"
    }
   ],
   "source": [
    "global_variable_text = \"Hello world\"\n",
    "def a():\n",
    "    print(\"This is a\")\n",
    "    local_variable_text = \"Hello moon\"\n",
    "    b()\n",
    "    print(\"This is a again\")\n",
    "    return \"This string is the function a return value\"\n",
    "def b():\n",
    "    print(\"This is b\")\n",
    "    return \"This string is the function b return value\"\n",
    "a()"
   ]
  },
  {
   "cell_type": "markdown",
   "id": "68f098ec-e1c3-4b1a-9622-e1239d1903f1",
   "metadata": {},
   "source": [
    "---"
   ]
  },
  {
   "cell_type": "markdown",
   "id": "853266df-dcda-49f2-92d6-4ac04c80fa56",
   "metadata": {},
   "source": [
    "**VS Code Debugger**\n",
    "- VS Code has a good GUI debugger\n",
    "- For a simple debug\n",
    "    1. Open script\n",
    "    1. Create a breakpoint on the first line by clicking to the left of the line number\n",
    "    1. Run the script in debug mode. This can be done in either of 3 ways.\n",
    "    1. ![](images/dbg_vscode.jpg)\n",
    "    1. Control the steps with the floating commands bar, which has GUI equivalents to `c`, `n`, `s`, `q`, and a couple others.\n",
    "    1. Inspect the variables and callstack panel to the left\n",
    "- Try out the `pdb_example_2.py` mentioned above\n",
    "- Note that there are many more advanced options and features in VS Code"
   ]
  },
  {
   "cell_type": "markdown",
   "id": "04dbd057-7395-4c6f-8143-3e27a411ba7f",
   "metadata": {},
   "source": [
    "---"
   ]
  },
  {
   "cell_type": "markdown",
   "id": "4cb7ea5f-cea1-47bd-a6b0-935d86a5a10a",
   "metadata": {
    "tags": []
   },
   "source": [
    "## Unit Testing\n",
    "- **Unit testing**--processes of running code chunks (**units**) with a wide range of inputs and comparing observed outputs to expected outputs (**test assertion**).  Units are often functions or methods.  Similar to making multiple assert statements like we've seen above, but in a more automated way.  \n",
    "- **Integration testing**--tests how multiple code chunks work together.  If integration test fails, we do not know which code chunk failed, only that one did.  Unit tests can then be done.\n",
    "- The meaning of many other terms will vary depending on the source.  These include: test, test step, test case, test script, test suite, test plan,  etc.  The general concepts are more important than the terminology one chooses.\n",
    "- **Test runner/test framework**--special application that automates the running of tests.  Also provides diagnostics and debugging tools when tests fail.  The two most popular ones are `unittest` and `pytest`.\n",
    "1. `unittest`:\n",
    "    1. Included in Python Standard Library\n",
    "    1. Tests defined in class methods\n",
    "    1. Must use a series of special assertion methods instead of the built-in `assert` statement\n",
    "    1. More verbose, but easier to read for some\n",
    "- `pytest`:\n",
    "    1. Must be installed\n",
    "    1. Tests defined in functions.  Optionally, define related tests as methods in a class.\n",
    "    1. Uses built-in assert statement\n",
    "    1. Less verbose\n",
    "    1. Many advanced features\n",
    "- We'll choose `pytest` because of the simpler grammar.  A potential `pytest` workflow includes:\n",
    "    1. Define test functions in separate script. Test function names starts with `test_`.\n",
    "    1. Save script.  Script name must either start with `test_` or end with `_test.py`.\n",
    "    1. In a terminal, enter `pytest <PATH>/test_<REST_OF_NAME>.py`.  Tests are then run and results are returned in the terminal. Alternatively, navigate to the script current working directory or parent folder and enter `pytest`.  Pytest will look in the current directory and walk subdirectories until it finds scripts with the correct naming scheme.  It then runs the tests in those scripts.\n",
    "        - We never need to activate the interactive interpreter.  We never need to `import pytest`."
   ]
  },
  {
   "cell_type": "markdown",
   "id": "617fc057-0977-432d-a62b-da069932d2f9",
   "metadata": {},
   "source": [
    "---"
   ]
  },
  {
   "cell_type": "markdown",
   "id": "c9354527-331d-4629-b88b-3e8b570acf2d",
   "metadata": {},
   "source": [
    "**EXAMPLES**"
   ]
  },
  {
   "cell_type": "markdown",
   "id": "34ec30a4-9cd4-42af-b7a7-302f405c766a",
   "metadata": {},
   "source": [
    "**Manual Unit Tests**"
   ]
  },
  {
   "cell_type": "code",
   "execution_count": 30,
   "id": "737f3e5f-688f-42b4-9c43-1cb284992103",
   "metadata": {},
   "outputs": [],
   "source": [
    "my_input = [1, 2, 3]  # List.\n",
    "assert sum(my_input) == 6, \"Error.  Must sum to  6\"  # Raises AssertionError if condition evaluates as False"
   ]
  },
  {
   "cell_type": "code",
   "execution_count": 31,
   "id": "7f61a01e-b45b-4d84-8c3d-2881c2ef9849",
   "metadata": {},
   "outputs": [],
   "source": [
    "my_input = (1, 2, 3)  # Tuple.\n",
    "assert sum(my_input) == 6  # Custom AssertionError message is optional"
   ]
  },
  {
   "cell_type": "code",
   "execution_count": 32,
   "id": "a4b82e80-b4ea-4a5f-9e53-f7b6e4cfa2cb",
   "metadata": {},
   "outputs": [],
   "source": [
    "my_input = {1, 2, 3}  # Set.\n",
    "assert sum(my_input) == 6, \"Error.  Must sum to  6\""
   ]
  },
  {
   "cell_type": "markdown",
   "id": "742783ec-f5ff-4212-a942-ae8dc6e631b0",
   "metadata": {},
   "source": [
    "**Pytest**\n",
    "\n",
    "- Below we define test functions.  These definitions do not do anything on their own.  They would be included in a separate script with a name like `test_example.py` and run with the command `pytest <PATH>/test_example.py`"
   ]
  },
  {
   "cell_type": "code",
   "execution_count": 33,
   "id": "e0db97a6-3a07-405d-8657-8a989eb76a6e",
   "metadata": {},
   "outputs": [],
   "source": [
    "def test_list_input():\n",
    "    my_input = [1, 2, 3]  # List.\n",
    "    assert sum(my_input) == 6, \"Error.  Must sum to  6\"\n",
    "\n",
    "def test_tuple_input():\n",
    "    my_input = (1, 2, 3)  # Tuple.\n",
    "    assert sum(my_input) == 6 # Custom AssertionError message is optional\n",
    "\n",
    "def test_set_input():\n",
    "    my_input = {1, 2, 3}  # Set.\n",
    "    assert sum(my_input) == 6, \"Error.  Must sum to  6\""
   ]
  },
  {
   "cell_type": "markdown",
   "id": "1ebd3345-54ef-4e8b-80b1-3a16f41d3d56",
   "metadata": {},
   "source": [
    "---"
   ]
  },
  {
   "cell_type": "markdown",
   "id": "c0493019-daa3-4fa6-82ea-ff292661af4b",
   "metadata": {
    "tags": []
   },
   "source": [
    "## Asking for Help\n",
    "- When all else fails we can always search Google and Stack Overflow.  If we have a question in Python, it has likely already been asked and answered on Stack Overflow.  If not, we can ask.  Here are some tips:\n",
    "    1. Summarize question in headline\n",
    "    1. State question in the form of a question\n",
    "    1. If not obvious from question, explain what we want code to do\n",
    "    1. Include full exception message we are getting\n",
    "    1. Share **minimal, complete, and reproducible (MCR)** example code that returns the same exception we are getting.  The MCR example can included within the forum, or we can link to code saved on [Paste Bin](https://pasetbin.com) or as [GitHub Gists](https://gist.github.com/discover).\n",
    "    1. Explain what we've already tried\n",
    "    1. Describe our setup including OS name + version, Python interpreter version, third-party modules used by our script + their versions, and if we are using a virtual environment"
   ]
  },
  {
   "cell_type": "markdown",
   "id": "89e22fcb-57ff-467e-b8c3-8477a5e9baa3",
   "metadata": {},
   "source": [
    "---"
   ]
  }
 ],
 "metadata": {
  "kernelspec": {
   "display_name": "Python 3 (ipykernel)",
   "language": "python",
   "name": "python3"
  },
  "language_info": {
   "codemirror_mode": {
    "name": "ipython",
    "version": 3
   },
   "file_extension": ".py",
   "mimetype": "text/x-python",
   "name": "python",
   "nbconvert_exporter": "python",
   "pygments_lexer": "ipython3",
   "version": "3.9.9"
  }
 },
 "nbformat": 4,
 "nbformat_minor": 5
}
